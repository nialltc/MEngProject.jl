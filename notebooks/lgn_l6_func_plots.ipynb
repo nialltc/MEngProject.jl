{
 "cells": [
  {
   "cell_type": "code",
   "execution_count": 1,
   "metadata": {},
   "outputs": [],
   "source": [
    "using NNlib,   ImageFiltering, Images,  Plots"
   ]
  },
  {
   "cell_type": "code",
   "execution_count": 73,
   "metadata": {},
   "outputs": [],
   "source": [
    "x=-2:.2:2\n",
    "y=-2:.2:2\n",
    "\n",
    "σ_2 = 0.5\n",
    "δ = σ_2/2\n",
    "K = 12;"
   ]
  },
  {
   "cell_type": "code",
   "execution_count": 31,
   "metadata": {},
   "outputs": [],
   "source": [
    "G(x,y) = 1/(2*π*σ_2^2)*exp(-1/(2*σ_2^2)*(x^2+y^2))\n",
    "Plots.wireframe(x,y,G)\n",
    "savefig( \"../out/func_plots/Gaussian\")"
   ]
  },
  {
   "cell_type": "code",
   "execution_count": 79,
   "metadata": {},
   "outputs": [],
   "source": [
    "for k=1:1:2K\n",
    "    θ = π*(k-1)/K\n",
    "    G(x,y) = 1/(2*π*σ_2^2)*exp(-1/(2*σ_2^2)*(x^2+y^2))\n",
    "    D(x,y) = G(x+(δ*cos(θ)), y + (δ*sin(θ))) - G(x - (δ*cos(θ)), y - (δ*sin(θ)))  \n",
    "    Plots.wireframe(x,y,D)\n",
    "    savefig(string(\"../out/func_plots/D_\",k))\n",
    "end"
   ]
  },
  {
   "cell_type": "code",
   "execution_count": 66,
   "metadata": {},
   "outputs": [],
   "source": [
    "for k=1:1:2K\n",
    "    θ = π*(k-1)/K\n",
    "    G(x,y) = 1/(2*π*σ_2^2)*exp(-1/(2*σ_2^2)*(x^2+y^2))\n",
    "    D(x,y) = G(x+(δ*cos(θ)), y + (δ*sin(θ))) - G(x - (δ*cos(θ)), y - (δ*sin(θ)))\n",
    "    D_relu_p(x,y) = relu.(D(x,y))\n",
    "#      D_relu_m(x,y) = -relu.(-D_relu_m(x,y))\n",
    "    Plots.wireframe(x,y,D_relu_p)\n",
    "    savefig(string(\"../out/func_plots/D_relu_p_\",k))\n",
    "end"
   ]
  },
  {
   "cell_type": "code",
   "execution_count": 69,
   "metadata": {},
   "outputs": [],
   "source": [
    "for k=1:1:2K\n",
    "    θ = π*(k-1)/K\n",
    "    G(x,y) = 1/(2*π*σ_2^2)*exp(-1/(2*σ_2^2)*(x^2+y^2))\n",
    "    D(x,y) = G(x+(δ*cos(θ)), y + (δ*sin(θ))) - G(x - (δ*cos(θ)), y - (δ*sin(θ)))\n",
    "#         D_relu_p(x,y) = relu.(D(x,y))\n",
    "    D_relu_m(x,y) = -relu.(-D(x,y))\n",
    "    Plots.wireframe(x,y,D_relu_m)\n",
    "    savefig(string(\"../out/func_plots/D_relu_m_\",k))\n",
    "end"
   ]
  },
  {
   "cell_type": "code",
   "execution_count": 35,
   "metadata": {},
   "outputs": [],
   "source": [
    "for k=1:1:2K\n",
    "    θ = π*(k-1)/K\n",
    "    G(x,y) = 1/(2*π*σ_2^2)*exp(-1/(2*σ_2^2)*(x^2+y^2))\n",
    "    D(x,y) = G(x+(δ*cos(θ)), y + (δ*sin(θ))) - G(x - (δ*cos(θ)), y - (δ*sin(θ)))\n",
    "    R(x,y) = relu.(D(x,y))\n",
    "    L(x,y) = -relu.(-D(x,y))\n",
    "    S_a(x,y) = R(x,y) + L(x,y)\n",
    "    Plots.wireframe(x,y,S_a)\n",
    "    savefig(string(\"../out/func_plots/S_a_\",k))\n",
    "end"
   ]
  },
  {
   "cell_type": "code",
   "execution_count": 36,
   "metadata": {},
   "outputs": [],
   "source": [
    "for k=1:1:2K\n",
    "    θ = π*(k-1)/K\n",
    "    G(x,y) = 1/(2*π*σ_2^2)*exp(-1/(2*σ_2^2)*(x^2+y^2))\n",
    "    D(x,y) = G(x+(δ*cos(θ)), y + (δ*sin(θ))) - G(x - (δ*cos(θ)), y - (δ*sin(θ)))\n",
    "    R(x,y) = relu.(D(x,y))\n",
    "    L(x,y) = -relu.(-D(x,y))\n",
    "    S_b(x,y) = R(x,y) - L(x,y)\n",
    "    Plots.wireframe(x,y,S_b)\n",
    "    savefig(string(\"../out/func_plots/S_b_\",k))\n",
    "end"
   ]
  },
  {
   "cell_type": "code",
   "execution_count": null,
   "metadata": {},
   "outputs": [],
   "source": []
  },
  {
   "cell_type": "code",
   "execution_count": null,
   "metadata": {},
   "outputs": [],
   "source": []
  },
  {
   "cell_type": "code",
   "execution_count": 78,
   "metadata": {},
   "outputs": [],
   "source": [
    "for k=1:1:2K\n",
    "    θ = π*(k-1)/K\n",
    "#     G(x,y) = 1/(2*π*σ_2^2)*exp(-1/(2*σ_2^2)*(x^2+y^2))\n",
    "    d(x,y) = exp(-(x*cos(θ)+y*sin(θ))/2σ_2)-exp((x*cos(θ)+y*sin(θ))/2σ_2)\n",
    "#     D_sep(x,y) = G(x,y)*exp(-1/8)*d(x,y)\n",
    "#     d_sep_rp(x,y) = relu.(d(x,y))\n",
    "#     d_sep_rm(x,y) = relu.(-d(x,y))\n",
    "#     A(x,y) = d_sep_rp(x,y) + d_sep_rm(x,y)\n",
    "#     B(x,y) = d_sep_rp(x,y) - d_sep_rm(x,y)\n",
    "    Plots.wireframe(x,y,d)\n",
    "    savefig(string(\"../out/func_plots/dd_\",k))\n",
    "end"
   ]
  },
  {
   "cell_type": "code",
   "execution_count": 71,
   "metadata": {},
   "outputs": [],
   "source": [
    "for k=1:1:2K\n",
    "    θ = π*(k-1)/K\n",
    "    G(x,y) = 1/(2*π*σ_2^2)*exp(-1/(2*σ_2^2)*(x^2+y^2))\n",
    "    d(x,y) = exp(-(x*cos(θ)+y*sin(θ))/2σ_2)-exp((x*cos(θ)+y*sin(θ))/2σ_2)\n",
    "    D_sep(x,y) = G(x,y)*exp(-1/8)*d(x,y)\n",
    "#     d_sep_rp(x,y) = relu.(d(x,y))\n",
    "#     d_sep_rm(x,y) = relu.(-d(x,y))\n",
    "#     A(x,y) = d_sep_rp(x,y) + d_sep_rm(x,y)\n",
    "#     B(x,y) = d_sep_rp(x,y) - d_sep_rm(x,y)\n",
    "    Plots.wireframe(x,y,D_sep)\n",
    "    savefig(string(\"../out/func_plots/D_sep\",k))\n",
    "end"
   ]
  },
  {
   "cell_type": "code",
   "execution_count": 39,
   "metadata": {},
   "outputs": [],
   "source": [
    "# for k=1:1:2K\n",
    "#     θ = π*(k-1)/K\n",
    "#     G(x,y) = 1/(2*π*σ_2^2)*exp(-1/(2*σ_2^2)*(x^2+y^2))\n",
    "#     D(x,y) = G(x+(δ*cos(θ)), y + (δ*sin(θ))) - G(x - (δ*cos(θ)), y - (δ*sin(θ)))  \n",
    "#     Plots.wireframe(x,y,D)\n",
    "#     savefig(string(\"../out/D_\",k))\n",
    "# end"
   ]
  },
  {
   "cell_type": "code",
   "execution_count": 40,
   "metadata": {},
   "outputs": [],
   "source": [
    "for k=1:1:2K\n",
    "    θ = π*(k-1)/K\n",
    "#     G(x,y) = 1/(2*π*σ_2^2)*exp(-1/(2*σ_2^2)*(x^2+y^2))\n",
    "    d(x,y) = exp(-(x*cos(θ)+y*sin(θ))/2σ_2)-exp((x*cos(θ)+y*sin(θ))/2σ_2)\n",
    "#     D_sep(x,y) = G(x,y)*exp(-1/8)*d(x,y)\n",
    "    d_sep_rp(x,y) = relu.(d(x,y))\n",
    "#     d_sep_rm(x,y) = relu.(-d(x,y))\n",
    "#     A(x,y) = d_sep_rp(x,y) + d_sep_rm(x,y)\n",
    "#     B(x,y) = d_sep_rp(x,y) - d_sep_rm(x,y)\n",
    "    Plots.wireframe(x,y,d_sep_rp)\n",
    "    savefig(string(\"../out/func_plots/d_sep_rp\",k))\n",
    "end"
   ]
  },
  {
   "cell_type": "code",
   "execution_count": 41,
   "metadata": {},
   "outputs": [],
   "source": [
    "for k=1:1:2K\n",
    "    θ = π*(k-1)/K\n",
    "#     G(x,y) = 1/(2*π*σ_2^2)*exp(-1/(2*σ_2^2)*(x^2+y^2))\n",
    "    d(x,y) = exp(-(x*cos(θ)+y*sin(θ))/2σ_2)-exp((x*cos(θ)+y*sin(θ))/2σ_2)\n",
    "#     D_sep(x,y) = G(x,y)*exp(-1/8)*d(x,y)\n",
    "#     d_sep_rp(x,y) = relu.(d(x,y))\n",
    "    d_sep_rm(x,y) = relu.(-d(x,y))\n",
    "#     A(x,y) = d_sep_rp(x,y) + d_sep_rm(x,y)\n",
    "#     B(x,y) = d_sep_rp(x,y) - d_sep_rm(x,y)\n",
    "    Plots.wireframe(x,y,d_sep_rm)\n",
    "    savefig(string(\"../out/func_plots/d_sep_rm_\",k))\n",
    "end"
   ]
  },
  {
   "cell_type": "code",
   "execution_count": 42,
   "metadata": {},
   "outputs": [],
   "source": [
    "for k=1:1:2K\n",
    "    θ = π*(k-1)/K\n",
    "    δ = σ_2/2\n",
    "#     G(x,y) = 1/(2*π*σ_2^2)*exp(-1/(2*σ_2^2)*(x^2+y^2))\n",
    "    d(x,y) = exp(-(x*cos(θ)+y*sin(θ))/2σ_2)-exp((x*cos(θ)+y*sin(θ))/2σ_2)\n",
    "#     D_sep(x,y) = G(x,y)*exp(-1/8)*d(x,y)\n",
    "    d_sep_rp(x,y) = relu.(d(x,y))\n",
    "    d_sep_rm(x,y) = relu.(-d(x,y))\n",
    "    A(x,y) = d_sep_rp(x,y) + d_sep_rm(x,y)\n",
    "#     B(x,y) = d_sep_rp(x,y) - d_sep_rm(x,y)\n",
    "    Plots.wireframe(x,y,A)\n",
    "    savefig(string(\"../out/func_plots/A_\",k))\n",
    "end"
   ]
  },
  {
   "cell_type": "code",
   "execution_count": 43,
   "metadata": {},
   "outputs": [],
   "source": [
    "for k=1:1:2K\n",
    "    θ = π*(k-1)/K\n",
    "#     G(x,y) = 1/(2*π*σ_2^2)*exp(-1/(2*σ_2^2)*(x^2+y^2))\n",
    "    d(x,y) = exp(-(x*cos(θ)+y*sin(θ))/2σ_2)-exp((x*cos(θ)+y*sin(θ))/2σ_2)\n",
    "#     D_sep(x,y) = G(x,y)*exp(-1/8)*d(x,y)\n",
    "    d_sep_rp(x,y) = relu.(d(x,y))\n",
    "    d_sep_rm(x,y) = relu.(-d(x,y))\n",
    "    A(x,y) = d_sep_rp(x,y) + d_sep_rm(x,y)\n",
    "    B(x,y) = d_sep_rp(x,y) - d_sep_rm(x,y)\n",
    "    Plots.wireframe(x,y,B)\n",
    "    savefig(string(\"../out/func_plots/B_\",k))\n",
    "end"
   ]
  },
  {
   "cell_type": "code",
   "execution_count": 44,
   "metadata": {},
   "outputs": [],
   "source": [
    "x=-10:1:10\n",
    "y=-10:1:10\n",
    "k=1\n",
    "θ = π*(k-1)/K\n",
    "#     G(x,y) = 1/(2*π*σ_2^2)*exp(-1/(2*σ_2^2)*(x^2+y^2))\n",
    "d(x,y) = exp(-(x*cos(θ)+y*sin(θ))/2σ_2)-exp((x*cos(θ)+y*sin(θ))/2σ_2)\n",
    "#     D_sep(x,y) = G(x,y)*exp(-1/8)*d(x,y)\n",
    "d_sep_rp(x,y) = relu.(d(x,y))\n",
    "d_sep_rm(x,y) = relu.(-d(x,y))\n",
    "A(x,y) = d_sep_rp(x,y) + d_sep_rm(x,y)\n",
    "B(x,y) = d_sep_rp(x,y) - d_sep_rm(x,y)\n",
    "Plots.wireframe(x,y,A)\n",
    "    savefig(string(\"../out/func_plots/A_sca_1\",k))\n"
   ]
  },
  {
   "cell_type": "code",
   "execution_count": 45,
   "metadata": {},
   "outputs": [],
   "source": [
    "x=-10:1:10\n",
    "y=-10:1:10\n",
    "k=1\n",
    "θ = π*(k-1)/K\n",
    "#     G(x,y) = 1/(2*π*σ_2^2)*exp(-1/(2*σ_2^2)*(x^2+y^2))\n",
    "d(x,y) = exp(-(x*cos(θ)+y*sin(θ))/2σ_2)-exp((x*cos(θ)+y*sin(θ))/2σ_2)\n",
    "#     D_sep(x,y) = G(x,y)*exp(-1/8)*d(x,y)\n",
    "d_sep_rp(x,y) = relu.(d(x,y))\n",
    "d_sep_rm(x,y) = relu.(-d(x,y))\n",
    "A(x,y) = d_sep_rp(x,y) + d_sep_rm(x,y)\n",
    "B(x,y) = d_sep_rp(x,y) - d_sep_rm(x,y)\n",
    "Plots.wireframe(x,y,B)\n",
    "savefig(string(\"../out/func_plots/B_sca_1\",k))"
   ]
  },
  {
   "cell_type": "code",
   "execution_count": null,
   "metadata": {},
   "outputs": [],
   "source": []
  },
  {
   "cell_type": "code",
   "execution_count": null,
   "metadata": {},
   "outputs": [],
   "source": []
  },
  {
   "cell_type": "code",
   "execution_count": 52,
   "metadata": {},
   "outputs": [],
   "source": []
  },
  {
   "cell_type": "code",
   "execution_count": 62,
   "metadata": {},
   "outputs": [],
   "source": [
    "u = -100:1:100\n",
    "v(u) = relu.(u/(1+u))\n",
    "Plots.plot(u,v, xlabel = \"u\", ylabel = \"[v]\", legend = false)\n",
    "savefig(string(\"../out/func_plots/v_equ\"))"
   ]
  },
  {
   "cell_type": "code",
   "execution_count": 82,
   "metadata": {},
   "outputs": [],
   "source": [
    "u = -100:1:100\n",
    "v(u) = relu.(relu.(u)/(1+relu.(u)))\n",
    "Plots.plot(u,v, xlabel = \"u\", ylabel = \"[v]\", legend = false)\n",
    "savefig(string(\"../out/func_plots/v_equ\"))"
   ]
  },
  {
   "cell_type": "code",
   "execution_count": 80,
   "metadata": {},
   "outputs": [
    {
     "data": {
      "text/plain": [
       "1×3 Array{Int64,2}:\n",
       " 5  7  11"
      ]
     },
     "execution_count": 80,
     "metadata": {},
     "output_type": "execute_result"
    }
   ],
   "source": [
    "a = [1 2 3]\n",
    "b = [5 7 11]"
   ]
  },
  {
   "cell_type": "code",
   "execution_count": 81,
   "metadata": {},
   "outputs": [
    {
     "data": {
      "text/plain": [
       "3×3 Array{Int64,2}:\n",
       "  5  10  15\n",
       "  7  14  21\n",
       " 11  22  33"
      ]
     },
     "execution_count": 81,
     "metadata": {},
     "output_type": "execute_result"
    }
   ],
   "source": [
    "a.*transpose(b)"
   ]
  },
  {
   "cell_type": "code",
   "execution_count": 83,
   "metadata": {},
   "outputs": [],
   "source": [
    "x=-10:1:10\n",
    "y=-10:1:10\n",
    "k=1\n",
    "θ = π*(k-1)/K\n",
    "#     G(x,y) = 1/(2*π*σ_2^2)*exp(-1/(2*σ_2^2)*(x^2+y^2))\n",
    "d_p(x,y) = exp(-(x*cos(θ)+y*sin(θ))/2σ_2)\n",
    "#     D_sep(x,y) = G(x,y)*exp(-1/8)*d(x,y)\n",
    "d_sep_rp(x,y) = relu.(d(x,y))\n",
    "d_sep_rm(x,y) = relu.(-d(x,y))\n",
    "# A(x,y) = d_sep_rp(x,y) + d_sep_rm(x,y)\n",
    "# B(x,y) = d_sep_rp(x,y) - d_sep_rm(x,y)\n",
    "Plots.wireframe(x,y,d_p)\n",
    "savefig(string(\"../out/func_plots/d_p\",k))"
   ]
  },
  {
   "cell_type": "code",
   "execution_count": 84,
   "metadata": {},
   "outputs": [],
   "source": [
    "x=-10:1:10\n",
    "y=-10:1:10\n",
    "k=1\n",
    "θ = π*(k-1)/K\n",
    "#     G(x,y) = 1/(2*π*σ_2^2)*exp(-1/(2*σ_2^2)*(x^2+y^2))\n",
    "d_m(x,y) = -exp((x*cos(θ)+y*sin(θ))/2σ_2)\n",
    "#     D_sep(x,y) = G(x,y)*exp(-1/8)*d(x,y)\n",
    "d_sep_rp(x,y) = relu.(d(x,y))\n",
    "d_sep_rm(x,y) = relu.(-d(x,y))\n",
    "A(x,y) = d_sep_rp(x,y) + d_sep_rm(x,y)\n",
    "B(x,y) = d_sep_rp(x,y) - d_sep_rm(x,y)\n",
    "Plots.wireframe(x,y,d_m)\n",
    "savefig(string(\"../out/func_plots/d_m\",k))"
   ]
  },
  {
   "cell_type": "code",
   "execution_count": null,
   "metadata": {},
   "outputs": [],
   "source": []
  }
 ],
 "metadata": {
  "@webio": {
   "lastCommId": "d65b078689094e3dbbba0d6224c8f376",
   "lastKernelId": "57b4a51a-9db5-4c80-9673-a62ec79b33e8"
  },
  "kernelspec": {
   "display_name": "Julia 1.4.0",
   "language": "julia",
   "name": "julia-1.4"
  },
  "language_info": {
   "file_extension": ".jl",
   "mimetype": "application/julia",
   "name": "julia",
   "version": "1.4.0"
  }
 },
 "nbformat": 4,
 "nbformat_minor": 4
}
