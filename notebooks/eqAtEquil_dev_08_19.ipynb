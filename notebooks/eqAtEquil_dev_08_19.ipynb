{
 "cells": [
  {
   "cell_type": "code",
   "execution_count": null,
   "metadata": {},
   "outputs": [],
   "source": []
  },
  {
   "cell_type": "code",
   "execution_count": 1,
   "metadata": {},
   "outputs": [
    {
     "name": "stderr",
     "output_type": "stream",
     "text": [
      "┌ Info: Precompiling MEngProject [d0493a11-efc0-4c7c-9b66-d0bd5a04cc55]\n",
      "└ @ Base loading.jl:1260\n"
     ]
    }
   ],
   "source": [
    "using DrWatson\n",
    "@quickactivate \"MEngProject\"\n",
    "using MEngProject, CUDA, DifferentialEquations, PyPlot, NNlib,  ImageFiltering, Images, MEngProject, MEngProject.LamKernels, MEngProject.Laminart, MEngProject.Utils, BenchmarkTools, Test"
   ]
  },
  {
   "cell_type": "code",
   "execution_count": 2,
   "metadata": {},
   "outputs": [],
   "source": [
    "using OrdinaryDiffEq, ParameterizedFunctions, LSODA, Sundials, DiffEqDevTools"
   ]
  },
  {
   "cell_type": "code",
   "execution_count": 3,
   "metadata": {},
   "outputs": [
    {
     "data": {
      "text/plain": [
       "reshape2d_4d (generic function with 1 method)"
      ]
     },
     "execution_count": 3,
     "metadata": {},
     "output_type": "execute_result"
    }
   ],
   "source": []
  },
  {
   "cell_type": "code",
   "execution_count": 67,
   "metadata": {},
   "outputs": [],
   "source": [
    "img = convert(Array{Float32,2}, load(datadir(\"temp5_100_100_gs.png\")));\n",
    "img = LaminartGPU.reshape2d_4d(img)\n",
    "img = cu(img)\n",
    "\n",
    "r = similar(img)\n",
    "\n",
    "p = LaminartGPU.kernels(img, Parameters.parameters);\n",
    "\n",
    "LaminartGPU.I_u!(r, img, p)\n",
    "temp_out = (I = img, r = r)\n",
    "p = merge(p, temp_out);\n",
    "\n",
    "tspan = (0.0f0, 100f0)\n",
    "u0 = cu(reshape(zeros(Float32, p.dim_i, p.dim_j*(5*p.K+2)), p.dim_i, p.dim_j, 5*p.K+2,1));\n",
    "\n",
    "arr1 = u0[:, :, 1:p.K,:]\n",
    "arr2 = u0[:, :, 1:1,:];\n",
    "\n",
    "f = LaminartGPU.LamFunction(\n",
    "    similar(arr1), #x\n",
    "    similar(arr1), #m\n",
    "    similar(arr1), #s\n",
    " similar(arr2), #x_lgn,\n",
    "similar(arr1), #C,\n",
    "similar(arr1), #H_z,\n",
    "similar(arr1), # dy_temp,\n",
    "similar(arr1), # dm_temp,\n",
    "similar(arr1), # dz_temp,\n",
    "similar(arr1), # ds_temp,\n",
    "similar(arr2), # dv_temp,\n",
    "similar(arr1), # H_z_temp,\n",
    "similar(arr2), #  V_temp_1,\n",
    "similar(arr2), #  V_temp_2,\n",
    "similar(arr1), #  A_temp,\n",
    "similar(arr1), #   B_temp\n",
    "    );\n",
    "\n",
    "prob = ODEProblem(f, u0, tspan, p);"
   ]
  },
  {
   "cell_type": "code",
   "execution_count": 68,
   "metadata": {},
   "outputs": [],
   "source": [
    "sol = solve(prob);"
   ]
  },
  {
   "cell_type": "code",
   "execution_count": 69,
   "metadata": {},
   "outputs": [
    {
     "data": {
      "text/plain": [
       "BenchmarkTools.Trial: \n",
       "  memory estimate:  149.43 MiB\n",
       "  allocs estimate:  2906808\n",
       "  --------------\n",
       "  minimum time:     1.928 s (0.00% GC)\n",
       "  median time:      2.038 s (2.19% GC)\n",
       "  mean time:        2.003 s (2.04% GC)\n",
       "  maximum time:     2.042 s (2.18% GC)\n",
       "  --------------\n",
       "  samples:          3\n",
       "  evals/sample:     1"
      ]
     },
     "execution_count": 69,
     "metadata": {},
     "output_type": "execute_result"
    }
   ],
   "source": [
    "@benchmark sol = solve(prob)"
   ]
  },
  {
   "cell_type": "code",
   "execution_count": 70,
   "metadata": {},
   "outputs": [
    {
     "data": {
      "image/png": "[encoded data removed]",
      "text/plain": [
       "Figure(PyObject <Figure size 640x480 with 1 Axes>)"
      ]
     },
     "metadata": {},
     "output_type": "display_data"
    }
   ],
   "source": [
    "Utils.plot_rb(sol(100)[:,:,8,1])"
   ]
  },
  {
   "cell_type": "code",
   "execution_count": 71,
   "metadata": {},
   "outputs": [
    {
     "data": {
      "image/png": "[encoded data removed]",
      "text/plain": [
       "Figure(PyObject <Figure size 640x480 with 1 Axes>)"
      ]
     },
     "metadata": {},
     "output_type": "display_data"
    },
    {
     "data": {
      "text/plain": [
       "1-element Array{PyCall.PyObject,1}:\n",
       " PyObject <matplotlib.lines.Line2D object at 0x7ff57d2e4850>"
      ]
     },
     "execution_count": 71,
     "metadata": {},
     "output_type": "execute_result"
    }
   ],
   "source": [
    "plot(sol[findmax(sol[:,:,7,1,end])[2][1],findmax(sol[:,:,7,1,end])[2][2],7,1,:])"
   ]
  },
  {
   "cell_type": "code",
   "execution_count": 84,
   "metadata": {},
   "outputs": [
    {
     "ename": "MethodError",
     "evalue": "MethodError: no method matching Array(::Nothing)\nClosest candidates are:\n  Array(!Matched::LinearAlgebra.SymTridiagonal) at /buildworker/worker/package_linux64/build/usr/share/julia/stdlib/v1.4/LinearAlgebra/src/tridiag.jl:111\n  Array(!Matched::LinearAlgebra.Tridiagonal) at /buildworker/worker/package_linux64/build/usr/share/julia/stdlib/v1.4/LinearAlgebra/src/tridiag.jl:528\n  Array(!Matched::LinearAlgebra.AbstractTriangular) at /buildworker/worker/package_linux64/build/usr/share/julia/stdlib/v1.4/LinearAlgebra/src/triangular.jl:162\n  ...",
     "output_type": "error",
     "traceback": [
      "MethodError: no method matching Array(::Nothing)\nClosest candidates are:\n  Array(!Matched::LinearAlgebra.SymTridiagonal) at /buildworker/worker/package_linux64/build/usr/share/julia/stdlib/v1.4/LinearAlgebra/src/tridiag.jl:111\n  Array(!Matched::LinearAlgebra.Tridiagonal) at /buildworker/worker/package_linux64/build/usr/share/julia/stdlib/v1.4/LinearAlgebra/src/tridiag.jl:528\n  Array(!Matched::LinearAlgebra.AbstractTriangular) at /buildworker/worker/package_linux64/build/usr/share/julia/stdlib/v1.4/LinearAlgebra/src/triangular.jl:162\n  ...",
      "",
      "Stacktrace:",
      " [1] top-level scope at In[84]:1"
     ]
    }
   ],
   "source": [
    "sol_cpu = Array(sol)\n",
    "u10 = sol(10)\n",
    "sol = nothing;"
   ]
  },
  {
   "cell_type": "code",
   "execution_count": 85,
   "metadata": {},
   "outputs": [],
   "source": [
    "f_eq = LaminartGPU.LamFunction_equ(\n",
    "    similar(arr1), #x\n",
    "    similar(arr1), #m\n",
    "    similar(arr1), #s\n",
    " similar(arr2), #x_lgn,\n",
    "similar(arr1), #C,\n",
    "similar(arr1), #H_z,\n",
    "similar(arr1), # dy_temp,\n",
    "similar(arr1), # dm_temp,\n",
    "similar(arr1), # dz_temp,\n",
    "similar(arr1), # ds_temp,\n",
    "similar(arr2), # dv_temp,\n",
    "similar(arr1), # H_z_temp,\n",
    "similar(arr2), #  V_temp_1,\n",
    "similar(arr2), #  V_temp_2,\n",
    "similar(arr1), #  A_temp,\n",
    "similar(arr1), #   B_temp\n",
    "    );\n",
    "\n",
    "prob = ODEProblem(f_eq, u10, tspan, p);"
   ]
  },
  {
   "cell_type": "code",
   "execution_count": 86,
   "metadata": {},
   "outputs": [],
   "source": [
    "sol_eq10 = solve(prob);"
   ]
  },
  {
   "cell_type": "code",
   "execution_count": 87,
   "metadata": {},
   "outputs": [
    {
     "data": {
      "text/plain": [
       "BenchmarkTools.Trial: \n",
       "  memory estimate:  112.11 MiB\n",
       "  allocs estimate:  2245076\n",
       "  --------------\n",
       "  minimum time:     1.528 s (0.00% GC)\n",
       "  median time:      1.622 s (1.53% GC)\n",
       "  mean time:        1.620 s (2.19% GC)\n",
       "  maximum time:     1.707 s (5.39% GC)\n",
       "  --------------\n",
       "  samples:          4\n",
       "  evals/sample:     1"
      ]
     },
     "execution_count": 87,
     "metadata": {},
     "output_type": "execute_result"
    }
   ],
   "source": [
    "@benchmark sol_10 = solve(prob)"
   ]
  },
  {
   "cell_type": "code",
   "execution_count": 88,
   "metadata": {},
   "outputs": [
    {
     "data": {
      "image/png": "[encoded data removed]",
      "text/plain": [
       "Figure(PyObject <Figure size 640x480 with 1 Axes>)"
      ]
     },
     "metadata": {},
     "output_type": "display_data"
    }
   ],
   "source": [
    "Utils.plot_rb(sol_eq10(100)[:,:,8,1])"
   ]
  },
  {
   "cell_type": "code",
   "execution_count": 89,
   "metadata": {},
   "outputs": [
    {
     "data": {
      "image/png": "[encoded data removed]",
      "text/plain": [
       "Figure(PyObject <Figure size 640x480 with 1 Axes>)"
      ]
     },
     "metadata": {},
     "output_type": "display_data"
    },
    {
     "data": {
      "text/plain": [
       "1-element Array{PyCall.PyObject,1}:\n",
       " PyObject <matplotlib.lines.Line2D object at 0x7ff562889c90>"
      ]
     },
     "execution_count": 89,
     "metadata": {},
     "output_type": "execute_result"
    }
   ],
   "source": [
    "plot(sol_eq10[findmax(sol_eq10[:,:,7,1,end])[2][1],findmax(sol_eq10[:,:,7,1,end])[2][2],7,1,:])"
   ]
  },
  {
   "cell_type": "code",
   "execution_count": null,
   "metadata": {},
   "outputs": [],
   "source": []
  },
  {
   "cell_type": "code",
   "execution_count": 91,
   "metadata": {},
   "outputs": [],
   "source": [
    "sol_eq10_cpu = Array(sol_eq10)\n",
    "sol_eq10 = nothing;"
   ]
  },
  {
   "cell_type": "code",
   "execution_count": null,
   "metadata": {},
   "outputs": [],
   "source": []
  },
  {
   "cell_type": "code",
   "execution_count": 99,
   "metadata": {},
   "outputs": [
    {
     "data": {
      "image/png": "[encoded data removed]",
      "text/plain": [
       "Figure(PyObject <Figure size 640x480 with 1 Axes>)"
      ]
     },
     "metadata": {},
     "output_type": "display_data"
    }
   ],
   "source": [
    "Utils.plot_rb(100f0 .* (sol_cpu[:,:,7,1,end] .- sol_eq10_cpu[:,:,7,1,end]))"
   ]
  },
  {
   "cell_type": "code",
   "execution_count": 98,
   "metadata": {},
   "outputs": [
    {
     "data": {
      "text/plain": [
       "(0.004421193f0, CartesianIndex(48, 45))"
      ]
     },
     "execution_count": 98,
     "metadata": {},
     "output_type": "execute_result"
    }
   ],
   "source": [
    "findmax(sol_cpu[:,:,7,1,end] .- sol_eq10_cpu[:,:,7,1,end])"
   ]
  },
  {
   "cell_type": "code",
   "execution_count": 101,
   "metadata": {},
   "outputs": [],
   "source": [
    "max_diff = []\n",
    "for l ∈ 5:12\n",
    "    push!(max_diff, findmax(sol_cpu[:,:,l,1,end] .- sol_eq10_cpu[:,:,l,1,end]))\n",
    "end"
   ]
  },
  {
   "cell_type": "code",
   "execution_count": 102,
   "metadata": {},
   "outputs": [
    {
     "data": {
      "text/plain": [
       "8-element Array{Any,1}:\n",
       " (0.002510516f0, CartesianIndex(56, 45))\n",
       " (0.00012596996f0, CartesianIndex(50, 48))\n",
       " (0.004421193f0, CartesianIndex(48, 45))\n",
       " (0.0030102134f0, CartesianIndex(54, 45))\n",
       " (0.0f0, CartesianIndex(1, 1))\n",
       " (4.5619905f-5, CartesianIndex(21, 47))\n",
       " (2.026558f-6, CartesianIndex(23, 47))\n",
       " (0.0128147155f0, CartesianIndex(20, 45))"
      ]
     },
     "execution_count": 102,
     "metadata": {},
     "output_type": "execute_result"
    }
   ],
   "source": [
    "max_diff"
   ]
  },
  {
   "cell_type": "code",
   "execution_count": null,
   "metadata": {},
   "outputs": [],
   "source": []
  },
  {
   "cell_type": "code",
   "execution_count": null,
   "metadata": {},
   "outputs": [],
   "source": []
  },
  {
   "cell_type": "code",
   "execution_count": null,
   "metadata": {},
   "outputs": [],
   "source": [
    "# Solved eq from start"
   ]
  },
  {
   "cell_type": "code",
   "execution_count": null,
   "metadata": {},
   "outputs": [],
   "source": []
  },
  {
   "cell_type": "code",
   "execution_count": 103,
   "metadata": {},
   "outputs": [],
   "source": [
    "f_eq = LaminartGPU.LamFunction_equ(\n",
    "    similar(arr1), #x\n",
    "    similar(arr1), #m\n",
    "    similar(arr1), #s\n",
    " similar(arr2), #x_lgn,\n",
    "similar(arr1), #C,\n",
    "similar(arr1), #H_z,\n",
    "similar(arr1), # dy_temp,\n",
    "similar(arr1), # dm_temp,\n",
    "similar(arr1), # dz_temp,\n",
    "similar(arr1), # ds_temp,\n",
    "similar(arr2), # dv_temp,\n",
    "similar(arr1), # H_z_temp,\n",
    "similar(arr2), #  V_temp_1,\n",
    "similar(arr2), #  V_temp_2,\n",
    "similar(arr1), #  A_temp,\n",
    "similar(arr1), #   B_temp\n",
    "    );\n",
    "\n",
    "prob = ODEProblem(f_eq, u0, tspan, p);"
   ]
  },
  {
   "cell_type": "code",
   "execution_count": 104,
   "metadata": {},
   "outputs": [],
   "source": [
    "sol_eq0 = solve(prob);"
   ]
  },
  {
   "cell_type": "code",
   "execution_count": 105,
   "metadata": {},
   "outputs": [
    {
     "data": {
      "text/plain": [
       "BenchmarkTools.Trial: \n",
       "  memory estimate:  131.71 MiB\n",
       "  allocs estimate:  2630015\n",
       "  --------------\n",
       "  minimum time:     1.836 s (0.00% GC)\n",
       "  median time:      1.916 s (2.43% GC)\n",
       "  mean time:        1.908 s (1.66% GC)\n",
       "  maximum time:     1.971 s (2.44% GC)\n",
       "  --------------\n",
       "  samples:          3\n",
       "  evals/sample:     1"
      ]
     },
     "execution_count": 105,
     "metadata": {},
     "output_type": "execute_result"
    }
   ],
   "source": [
    "@benchmark sol_eq0 = solve(prob)"
   ]
  },
  {
   "cell_type": "code",
   "execution_count": null,
   "metadata": {},
   "outputs": [],
   "source": []
  },
  {
   "cell_type": "code",
   "execution_count": 106,
   "metadata": {},
   "outputs": [],
   "source": [
    "sol_eq0_cpu = Array(sol_eq0)\n",
    "sol_eq0 = nothing;"
   ]
  },
  {
   "cell_type": "code",
   "execution_count": 107,
   "metadata": {},
   "outputs": [
    {
     "data": {
      "image/png": "[encoded data removed]",
      "text/plain": [
       "Figure(PyObject <Figure size 640x480 with 1 Axes>)"
      ]
     },
     "metadata": {},
     "output_type": "display_data"
    },
    {
     "data": {
      "text/plain": [
       "1-element Array{PyCall.PyObject,1}:\n",
       " PyObject <matplotlib.lines.Line2D object at 0x7ff57d293e90>"
      ]
     },
     "execution_count": 107,
     "metadata": {},
     "output_type": "execute_result"
    }
   ],
   "source": [
    "plot(sol_eq0_cpu[findmax(sol_eq0_cpu[:,:,7,1,end])[2][1],findmax(sol_eq0_cpu[:,:,7,1,end])[2][2],7,1,:])"
   ]
  },
  {
   "cell_type": "code",
   "execution_count": null,
   "metadata": {},
   "outputs": [],
   "source": []
  },
  {
   "cell_type": "code",
   "execution_count": 108,
   "metadata": {},
   "outputs": [
    {
     "data": {
      "image/png": "[encoded data removed]",
      "text/plain": [
       "Figure(PyObject <Figure size 640x480 with 1 Axes>)"
      ]
     },
     "metadata": {},
     "output_type": "display_data"
    }
   ],
   "source": [
    "Utils.plot_rb(100f0 .* (sol_cpu[:,:,7,1,end] .- sol_eq0_cpu[:,:,7,1,end]))"
   ]
  },
  {
   "cell_type": "code",
   "execution_count": 109,
   "metadata": {},
   "outputs": [
    {
     "data": {
      "text/plain": [
       "(0.0057554953f0, CartesianIndex(81, 45))"
      ]
     },
     "execution_count": 109,
     "metadata": {},
     "output_type": "execute_result"
    }
   ],
   "source": [
    "findmax(sol_cpu[:,:,7,1,end] .- sol_eq0_cpu[:,:,7,1,end])"
   ]
  },
  {
   "cell_type": "code",
   "execution_count": 110,
   "metadata": {},
   "outputs": [],
   "source": [
    "max_diff = []\n",
    "for l ∈ 5:12\n",
    "    push!(max_diff, findmax(sol_cpu[:,:,l,1,end] .- sol_eq0_cpu[:,:,l,1,end]))\n",
    "end"
   ]
  },
  {
   "cell_type": "code",
   "execution_count": 111,
   "metadata": {},
   "outputs": [
    {
     "data": {
      "text/plain": [
       "8-element Array{Any,1}:\n",
       " (0.002573837f0, CartesianIndex(46, 45))\n",
       " (3.4479337f-5, CartesianIndex(50, 48))\n",
       " (0.0057554953f0, CartesianIndex(81, 45))\n",
       " (0.0014305711f0, CartesianIndex(20, 45))\n",
       " (0.0f0, CartesianIndex(1, 1))\n",
       " (1.5139114f-5, CartesianIndex(11, 47))\n",
       " (0.0f0, CartesianIndex(1, 1))\n",
       " (0.016760632f0, CartesianIndex(20, 45))"
      ]
     },
     "execution_count": 111,
     "metadata": {},
     "output_type": "execute_result"
    }
   ],
   "source": [
    "max_diff"
   ]
  },
  {
   "cell_type": "code",
   "execution_count": null,
   "metadata": {},
   "outputs": [],
   "source": []
  }
 ],
 "metadata": {
  "kernelspec": {
   "display_name": "Julia 1.4.2",
   "language": "julia",
   "name": "julia-1.4"
  },
  "language_info": {
   "file_extension": ".jl",
   "mimetype": "application/julia",
   "name": "julia",
   "version": "1.4.2"
  }
 },
 "nbformat": 4,
 "nbformat_minor": 4
}
