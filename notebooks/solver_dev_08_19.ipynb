{
 "cells": [
  {
   "cell_type": "code",
   "execution_count": 1,
   "metadata": {},
   "outputs": [
    {
     "name": "stderr",
     "output_type": "stream",
     "text": [
      "┌ Info: Precompiling MEngProject [d0493a11-efc0-4c7c-9b66-d0bd5a04cc55]\n",
      "└ @ Base loading.jl:1260\n"
     ]
    }
   ],
   "source": [
    "using DrWatson\n",
    "@quickactivate \"MEngProject\"\n",
    "using MEngProject, CUDA, DifferentialEquations, PyPlot, NNlib,  ImageFiltering, Images, MEngProject.LaminartKernels, MEngProject.LaminartInitFunc, MEngProject.Utils, BenchmarkTools, Test"
   ]
  },
  {
   "cell_type": "code",
   "execution_count": 2,
   "metadata": {},
   "outputs": [],
   "source": [
    "using OrdinaryDiffEq, ParameterizedFunctions, LSODA, Sundials, DiffEqDevTools"
   ]
  },
  {
   "cell_type": "markdown",
   "metadata": {},
   "source": [
    "# GPU"
   ]
  },
  {
   "cell_type": "code",
   "execution_count": 3,
   "metadata": {},
   "outputs": [],
   "source": [
    "p = LaminartInitFunc.parameterInit_conv_gpu(datadir(\"temp5_100_100_gs.png\"), Parameters.parameters_f32);"
   ]
  },
  {
   "cell_type": "code",
   "execution_count": 4,
   "metadata": {},
   "outputs": [],
   "source": [
    "# img = convert(Array{Float32,2}, load(datadir(\"temp5_100_100_gs.png\")));\n",
    "# img = LaminartGPU.reshape2d_4d(img)\n",
    "# img = cu(img)\n",
    "\n",
    "# r = similar(img)\n",
    "\n",
    "# p = LaminartGPU.kernels_gpu(img, Parameters.parameters);\n",
    "\n",
    "# LaminartGPU.I_u!(r, img, p)\n",
    "# temp_out = (I = img, r = r)\n",
    "# p = merge(p, temp_out);\n",
    "\n",
    "tspan = (0.0f0, 100f0)\n",
    "u0 = cu(reshape(zeros(Float32, p.dim_i, p.dim_j*(5*p.K+2)), p.dim_i, p.dim_j, 5*p.K+2,1));\n",
    "\n",
    "arr1 = u0[:, :, 1:p.K,:]\n",
    "arr2 = u0[:, :, 1:1,:];\n",
    "\n",
    "f = LaminartFunc.LamFunction(\n",
    "    similar(arr1), #x\n",
    "    similar(arr1), #m\n",
    "    similar(arr1), #s\n",
    " similar(arr2), #x_lgn,\n",
    "similar(arr1), #C,\n",
    "similar(arr1), #H_z,\n",
    "similar(arr1), # dy_temp,\n",
    "similar(arr1), # dm_temp,\n",
    "similar(arr1), # dz_temp,\n",
    "similar(arr1), # ds_temp,\n",
    "similar(arr2), # dv_temp,\n",
    "similar(arr1), # H_z_temp,\n",
    "similar(arr2), #  V_temp_1,\n",
    "similar(arr2), #  V_temp_2,\n",
    "similar(arr1), #  A_temp,\n",
    "similar(arr1), #   B_temp\n",
    "    );\n",
    "\n",
    "prob = ODEProblem(f, u0, tspan, p);"
   ]
  },
  {
   "cell_type": "code",
   "execution_count": 5,
   "metadata": {},
   "outputs": [],
   "source": [
    "sol = solve(prob);"
   ]
  },
  {
   "cell_type": "code",
   "execution_count": 6,
   "metadata": {},
   "outputs": [
    {
     "data": {
      "text/plain": [
       "BenchmarkTools.Trial: \n",
       "  memory estimate:  139.04 MiB\n",
       "  allocs estimate:  2961361\n",
       "  --------------\n",
       "  minimum time:     1.375 s (3.27% GC)\n",
       "  median time:      1.386 s (3.48% GC)\n",
       "  mean time:        1.392 s (3.76% GC)\n",
       "  maximum time:     1.419 s (4.78% GC)\n",
       "  --------------\n",
       "  samples:          4\n",
       "  evals/sample:     1"
      ]
     },
     "execution_count": 6,
     "metadata": {},
     "output_type": "execute_result"
    }
   ],
   "source": [
    "@benchmark sol = solve(prob)"
   ]
  },
  {
   "cell_type": "code",
   "execution_count": 7,
   "metadata": {},
   "outputs": [
    {
     "data": {
      "image/png": "[encoded data removed]",
      "text/plain": [
       "Figure(PyObject <Figure size 640x480 with 1 Axes>)"
      ]
     },
     "metadata": {},
     "output_type": "display_data"
    },
    {
     "name": "stderr",
     "output_type": "stream",
     "text": [
      "┌ Warning: Performing scalar operations on GPU arrays: This is very slow, consider disallowing these operations with `allowscalar(false)`\n",
      "└ @ GPUArrays /mnt/storage_1/users/cullinanen/.julia/packages/GPUArrays/eVYIC/src/host/indexing.jl:43\n"
     ]
    }
   ],
   "source": [
    "Utils.plot_rb(sol(100)[:,:,8,1])"
   ]
  },
  {
   "cell_type": "code",
   "execution_count": 8,
   "metadata": {},
   "outputs": [
    {
     "data": {
      "image/png": "[encoded data removed]",
      "text/plain": [
       "Figure(PyObject <Figure size 640x480 with 1 Axes>)"
      ]
     },
     "metadata": {},
     "output_type": "display_data"
    },
    {
     "data": {
      "text/plain": [
       "1-element Array{PyCall.PyObject,1}:\n",
       " PyObject <matplotlib.lines.Line2D object at 0x7f38a6604750>"
      ]
     },
     "execution_count": 8,
     "metadata": {},
     "output_type": "execute_result"
    }
   ],
   "source": [
    "plot(sol[findmax(sol[:,:,7,1,end])[2][1],findmax(sol[:,:,7,1,end])[2][2],7,1,:])"
   ]
  },
  {
   "cell_type": "code",
   "execution_count": 9,
   "metadata": {},
   "outputs": [],
   "source": [
    "sol_cpu = Array(sol)\n",
    "sol = nothing;"
   ]
  },
  {
   "cell_type": "code",
   "execution_count": null,
   "metadata": {},
   "outputs": [],
   "source": []
  },
  {
   "cell_type": "code",
   "execution_count": null,
   "metadata": {},
   "outputs": [],
   "source": []
  },
  {
   "cell_type": "markdown",
   "metadata": {},
   "source": [
    "# CPU Float32"
   ]
  },
  {
   "cell_type": "code",
   "execution_count": 47,
   "metadata": {},
   "outputs": [],
   "source": [
    "p = LaminartInitFunc.parameterInit_conv_cpu(datadir(\"temp5_100_100_gs.png\"), Parameters.parameters_f32);\n",
    "\n",
    "tspan = (0.0f0, 100f0)\n",
    "u0 = reshape(zeros(Float32, p.dim_i, p.dim_j*(5*p.K+2)), p.dim_i, p.dim_j, 5*p.K+2,1);\n",
    "\n",
    "arr1 = u0[:, :, 1:p.K,:]\n",
    "arr2 = u0[:, :, 1:1,:];\n",
    "\n",
    "f = LaminartFunc.LamFunction(\n",
    "    similar(arr1), #x\n",
    "    similar(arr1), #m\n",
    "    similar(arr1), #s\n",
    " similar(arr2), #x_lgn,\n",
    "similar(arr1), #C,\n",
    "similar(arr1), #H_z,\n",
    "similar(arr1), # dy_temp,\n",
    "similar(arr1), # dm_temp,\n",
    "similar(arr1), # dz_temp,\n",
    "similar(arr1), # ds_temp,\n",
    "similar(arr2), # dv_temp,\n",
    "similar(arr1), # H_z_temp,\n",
    "similar(arr2), #  V_temp_1,\n",
    "similar(arr2), #  V_temp_2,\n",
    "similar(arr1), #  A_temp,\n",
    "similar(arr1), #   B_temp\n",
    "    );\n",
    "\n",
    "prob = ODEProblem(f, u0, tspan, p);"
   ]
  },
  {
   "cell_type": "code",
   "execution_count": 48,
   "metadata": {},
   "outputs": [],
   "source": [
    "sol = solve(prob);"
   ]
  },
  {
   "cell_type": "code",
   "execution_count": 49,
   "metadata": {},
   "outputs": [
    {
     "data": {
      "text/plain": [
       "BenchmarkTools.Trial: \n",
       "  memory estimate:  49.32 GiB\n",
       "  allocs estimate:  294494\n",
       "  --------------\n",
       "  minimum time:     56.283 s (2.40% GC)\n",
       "  median time:      56.283 s (2.40% GC)\n",
       "  mean time:        56.283 s (2.40% GC)\n",
       "  maximum time:     56.283 s (2.40% GC)\n",
       "  --------------\n",
       "  samples:          1\n",
       "  evals/sample:     1"
      ]
     },
     "execution_count": 49,
     "metadata": {},
     "output_type": "execute_result"
    }
   ],
   "source": [
    "@benchmark sol = solve(prob)"
   ]
  },
  {
   "cell_type": "code",
   "execution_count": 50,
   "metadata": {},
   "outputs": [
    {
     "data": {
      "image/png": "[encoded data removed]",
      "text/plain": [
       "Figure(PyObject <Figure size 640x480 with 1 Axes>)"
      ]
     },
     "metadata": {},
     "output_type": "display_data"
    }
   ],
   "source": [
    "Utils.plot_rb(sol(100)[:,:,8,1])"
   ]
  },
  {
   "cell_type": "code",
   "execution_count": 51,
   "metadata": {},
   "outputs": [
    {
     "data": {
      "image/png": "[encoded data removed]",
      "text/plain": [
       "Figure(PyObject <Figure size 640x480 with 1 Axes>)"
      ]
     },
     "metadata": {},
     "output_type": "display_data"
    },
    {
     "data": {
      "text/plain": [
       "1-element Array{PyCall.PyObject,1}:\n",
       " PyObject <matplotlib.lines.Line2D object at 0x7f37bee69110>"
      ]
     },
     "execution_count": 51,
     "metadata": {},
     "output_type": "execute_result"
    }
   ],
   "source": [
    "plot(sol[findmax(sol[:,:,7,1,end])[2][1],findmax(sol[:,:,7,1,end])[2][2],7,1,:])"
   ]
  },
  {
   "cell_type": "code",
   "execution_count": 52,
   "metadata": {},
   "outputs": [],
   "source": [
    "sol_cpu = Array(sol)\n",
    "sol = nothing;"
   ]
  },
  {
   "cell_type": "code",
   "execution_count": null,
   "metadata": {},
   "outputs": [],
   "source": []
  },
  {
   "cell_type": "code",
   "execution_count": null,
   "metadata": {},
   "outputs": [],
   "source": []
  },
  {
   "cell_type": "markdown",
   "metadata": {},
   "source": [
    "# CPU imfilter"
   ]
  },
  {
   "cell_type": "code",
   "execution_count": 90,
   "metadata": {},
   "outputs": [],
   "source": [
    "p = LaminartInitFunc.parameterInit_imfil_cpu(datadir(\"temp5_100_100_gs.png\"), Parameters.parameters_f32);"
   ]
  },
  {
   "cell_type": "code",
   "execution_count": 102,
   "metadata": {},
   "outputs": [],
   "source": [
    "tspan = (0.0f0, 100f0)\n",
    "u0 = reshape(zeros(Float32, p.dim_i, p.dim_j*(5*p.K+2)), p.dim_i, p.dim_j, 5*p.K+2);\n",
    "\n",
    "arr1 = u0[:, :, 1:p.K]\n",
    "arr2 = u0[:, :, 1];\n",
    "\n",
    "f = LaminartFunc.LamFunction_imfil_cpu_a(\n",
    "#     similar(arr1), #x\n",
    "#     similar(arr1), #m\n",
    "#     similar(arr1), #s\n",
    " similar(arr2), #x_lgn,\n",
    "similar(arr1), #C,\n",
    "similar(arr1), #H_z,\n",
    "    similar(arr1), # H_z_temp,\n",
    "    similar(arr2), # v_C_temp1,\n",
    "    similar(arr2), # v_C_temp2,\n",
    "    similar(arr1), # v_C_tempA,\n",
    "    similar(arr1[:,:,1]), #W_temp\n",
    "# similar(arr1), # dy_temp,\n",
    "# similar(arr1), # dm_temp,\n",
    "# similar(arr1), # dz_temp,\n",
    "# similar(arr1), # ds_temp,\n",
    "# similar(arr2), # dv_temp,\n",
    "# similar(arr1), # H_z_temp,\n",
    "# similar(arr2), #  V_temp_1,\n",
    "# similar(arr2), #  V_temp_2,\n",
    "# similar(arr1), #  A_temp,\n",
    "# similar(arr1), #   B_temp\n",
    "    );\n",
    "\n",
    "prob = ODEProblem(f, u0, tspan, p);"
   ]
  },
  {
   "cell_type": "code",
   "execution_count": 103,
   "metadata": {},
   "outputs": [],
   "source": [
    "sol = solve(prob);"
   ]
  },
  {
   "cell_type": "code",
   "execution_count": 104,
   "metadata": {},
   "outputs": [
    {
     "data": {
      "text/plain": [
       "BenchmarkTools.Trial: \n",
       "  memory estimate:  3.94 GiB\n",
       "  allocs estimate:  1481687\n",
       "  --------------\n",
       "  minimum time:     11.333 s (1.16% GC)\n",
       "  median time:      11.333 s (1.16% GC)\n",
       "  mean time:        11.333 s (1.16% GC)\n",
       "  maximum time:     11.333 s (1.16% GC)\n",
       "  --------------\n",
       "  samples:          1\n",
       "  evals/sample:     1"
      ]
     },
     "execution_count": 104,
     "metadata": {},
     "output_type": "execute_result"
    }
   ],
   "source": [
    "@benchmark sol = solve(prob)"
   ]
  },
  {
   "cell_type": "code",
   "execution_count": 105,
   "metadata": {},
   "outputs": [
    {
     "data": {
      "image/png": "[encoded data removed]",
      "text/plain": [
       "Figure(PyObject <Figure size 640x480 with 1 Axes>)"
      ]
     },
     "metadata": {},
     "output_type": "display_data"
    }
   ],
   "source": [
    "Utils.plot_rb(sol(100)[:,:,8,1])"
   ]
  },
  {
   "cell_type": "code",
   "execution_count": 106,
   "metadata": {},
   "outputs": [
    {
     "data": {
      "image/png": "[encoded data removed]",
      "text/plain": [
       "Figure(PyObject <Figure size 640x480 with 1 Axes>)"
      ]
     },
     "metadata": {},
     "output_type": "display_data"
    },
    {
     "data": {
      "text/plain": [
       "1-element Array{PyCall.PyObject,1}:\n",
       " PyObject <matplotlib.lines.Line2D object at 0x7f37ae7ded10>"
      ]
     },
     "execution_count": 106,
     "metadata": {},
     "output_type": "execute_result"
    }
   ],
   "source": [
    "plot(sol[findmax(sol[:,:,7,end])[2][1],findmax(sol[:,:,7,end])[2][2],7,:])"
   ]
  },
  {
   "cell_type": "code",
   "execution_count": 107,
   "metadata": {},
   "outputs": [],
   "source": [
    "sol_cpu = Array(sol)\n",
    "sol = nothing;"
   ]
  },
  {
   "cell_type": "code",
   "execution_count": 112,
   "metadata": {},
   "outputs": [
    {
     "data": {
      "text/plain": [
       "100×100 Array{Float32,2}:\n",
       " 0.0  0.0  0.0  0.0  0.0  0.0  0.0  0.0  …  0.0  0.0  0.0  0.0  0.0  0.0  0.0\n",
       " 0.0  0.0  0.0  0.0  0.0  0.0  0.0  0.0     0.0  0.0  0.0  0.0  0.0  0.0  0.0\n",
       " 0.0  0.0  0.0  0.0  0.0  0.0  0.0  0.0     0.0  0.0  0.0  0.0  0.0  0.0  0.0\n",
       " 0.0  0.0  0.0  0.0  0.0  0.0  0.0  0.0     0.0  0.0  0.0  0.0  0.0  0.0  0.0\n",
       " 0.0  0.0  0.0  0.0  0.0  0.0  0.0  0.0     0.0  0.0  0.0  0.0  0.0  0.0  0.0\n",
       " 0.0  0.0  0.0  0.0  0.0  0.0  0.0  0.0  …  0.0  0.0  0.0  0.0  0.0  0.0  0.0\n",
       " 0.0  0.0  0.0  0.0  0.0  0.0  0.0  0.0     0.0  0.0  0.0  0.0  0.0  0.0  0.0\n",
       " 0.0  0.0  0.0  0.0  0.0  0.0  0.0  0.0     0.0  0.0  0.0  0.0  0.0  0.0  0.0\n",
       " 0.0  0.0  0.0  0.0  0.0  0.0  0.0  0.0     0.0  0.0  0.0  0.0  0.0  0.0  0.0\n",
       " 0.0  0.0  0.0  0.0  0.0  0.0  0.0  0.0     0.0  0.0  0.0  0.0  0.0  0.0  0.0\n",
       " 0.0  0.0  0.0  0.0  0.0  0.0  0.0  0.0  …  0.0  0.0  0.0  0.0  0.0  0.0  0.0\n",
       " 0.0  0.0  0.0  0.0  0.0  0.0  0.0  0.0     0.0  0.0  0.0  0.0  0.0  0.0  0.0\n",
       " 0.0  0.0  0.0  0.0  0.0  0.0  0.0  0.0     0.0  0.0  0.0  0.0  0.0  0.0  0.0\n",
       " ⋮                        ⋮              ⋱            ⋮                   \n",
       " 0.0  0.0  0.0  0.0  0.0  0.0  0.0  0.0     0.0  0.0  0.0  0.0  0.0  0.0  0.0\n",
       " 0.0  0.0  0.0  0.0  0.0  0.0  0.0  0.0     0.0  0.0  0.0  0.0  0.0  0.0  0.0\n",
       " 0.0  0.0  0.0  0.0  0.0  0.0  0.0  0.0  …  0.0  0.0  0.0  0.0  0.0  0.0  0.0\n",
       " 0.0  0.0  0.0  0.0  0.0  0.0  0.0  0.0     0.0  0.0  0.0  0.0  0.0  0.0  0.0\n",
       " 0.0  0.0  0.0  0.0  0.0  0.0  0.0  0.0     0.0  0.0  0.0  0.0  0.0  0.0  0.0\n",
       " 0.0  0.0  0.0  0.0  0.0  0.0  0.0  0.0     0.0  0.0  0.0  0.0  0.0  0.0  0.0\n",
       " 0.0  0.0  0.0  0.0  0.0  0.0  0.0  0.0     0.0  0.0  0.0  0.0  0.0  0.0  0.0\n",
       " 0.0  0.0  0.0  0.0  0.0  0.0  0.0  0.0  …  0.0  0.0  0.0  0.0  0.0  0.0  0.0\n",
       " 0.0  0.0  0.0  0.0  0.0  0.0  0.0  0.0     0.0  0.0  0.0  0.0  0.0  0.0  0.0\n",
       " 0.0  0.0  0.0  0.0  0.0  0.0  0.0  0.0     0.0  0.0  0.0  0.0  0.0  0.0  0.0\n",
       " 0.0  0.0  0.0  0.0  0.0  0.0  0.0  0.0     0.0  0.0  0.0  0.0  0.0  0.0  0.0\n",
       " 0.0  0.0  0.0  0.0  0.0  0.0  0.0  0.0     0.0  0.0  0.0  0.0  0.0  0.0  0.0"
      ]
     },
     "execution_count": 112,
     "metadata": {},
     "output_type": "execute_result"
    }
   ],
   "source": []
  },
  {
   "cell_type": "code",
   "execution_count": 115,
   "metadata": {},
   "outputs": [
    {
     "data": {
      "text/plain": [
       "BenchmarkTools.Trial: \n",
       "  memory estimate:  64.94 KiB\n",
       "  allocs estimate:  56\n",
       "  --------------\n",
       "  minimum time:     333.296 μs (0.00% GC)\n",
       "  median time:      344.397 μs (0.00% GC)\n",
       "  mean time:        354.512 μs (1.76% GC)\n",
       "  maximum time:     24.723 ms (96.88% GC)\n",
       "  --------------\n",
       "  samples:          10000\n",
       "  evals/sample:     1"
      ]
     },
     "execution_count": 115,
     "metadata": {},
     "output_type": "execute_result"
    }
   ],
   "source": [
    "out = similar(p.I)\n",
    "@benchmark imfilter!(out, p.I, p.k_gauss_1)"
   ]
  },
  {
   "cell_type": "code",
   "execution_count": null,
   "metadata": {},
   "outputs": [],
   "source": []
  },
  {
   "cell_type": "code",
   "execution_count": null,
   "metadata": {},
   "outputs": [],
   "source": []
  },
  {
   "cell_type": "markdown",
   "metadata": {},
   "source": [
    "# Imfilter GPU FIR"
   ]
  },
  {
   "cell_type": "code",
   "execution_count": null,
   "metadata": {},
   "outputs": [],
   "source": []
  },
  {
   "cell_type": "code",
   "execution_count": 3,
   "metadata": {},
   "outputs": [],
   "source": [
    "p = LaminartInitFunc.parameterInit_imfil_cpu(datadir(\"temp5_100_100_gs.png\"), Parameters.parameters_f32);"
   ]
  },
  {
   "cell_type": "code",
   "execution_count": 4,
   "metadata": {},
   "outputs": [],
   "source": [
    "tspan = (0.0f0, 100f0)\n",
    "u0 = reshape(zeros(Float32, p.dim_i, p.dim_j*(5*p.K+2)), p.dim_i, p.dim_j, 5*p.K+2);\n",
    "\n",
    "arr1 = u0[:, :, 1:p.K]\n",
    "arr2 = u0[:, :, 1];\n",
    "\n",
    "f = LaminartFunc.LamFunction_imfil_gpu_fir(\n",
    "#     similar(arr1), #x\n",
    "#     similar(arr1), #m\n",
    "#     similar(arr1), #s\n",
    " similar(arr2), #x_lgn,\n",
    "similar(arr1), #C,\n",
    "similar(arr1), #H_z,\n",
    "    similar(arr1), # H_z_temp,\n",
    "    similar(arr2), # v_C_temp1,\n",
    "    similar(arr2), # v_C_temp2,\n",
    "    similar(arr1), # v_C_tempA,\n",
    "    similar(arr1[:,:,1]), #W_temp\n",
    "# similar(arr1), # dy_temp,\n",
    "# similar(arr1), # dm_temp,\n",
    "# similar(arr1), # dz_temp,\n",
    "# similar(arr1), # ds_temp,\n",
    "# similar(arr2), # dv_temp,\n",
    "# similar(arr1), # H_z_temp,\n",
    "# similar(arr2), #  V_temp_1,\n",
    "# similar(arr2), #  V_temp_2,\n",
    "# similar(arr1), #  A_temp,\n",
    "# similar(arr1), #   B_temp\n",
    "    );\n",
    "\n",
    "prob = ODEProblem(f, u0, tspan, p);"
   ]
  },
  {
   "cell_type": "code",
   "execution_count": 5,
   "metadata": {},
   "outputs": [],
   "source": [
    "sol = solve(prob);"
   ]
  },
  {
   "cell_type": "code",
   "execution_count": 6,
   "metadata": {},
   "outputs": [
    {
     "data": {
      "text/plain": [
       "BenchmarkTools.Trial: \n",
       "  memory estimate:  1.34 GiB\n",
       "  allocs estimate:  361803\n",
       "  --------------\n",
       "  minimum time:     36.237 s (0.13% GC)\n",
       "  median time:      36.237 s (0.13% GC)\n",
       "  mean time:        36.237 s (0.13% GC)\n",
       "  maximum time:     36.237 s (0.13% GC)\n",
       "  --------------\n",
       "  samples:          1\n",
       "  evals/sample:     1"
      ]
     },
     "execution_count": 6,
     "metadata": {},
     "output_type": "execute_result"
    }
   ],
   "source": [
    "@benchmark sol = solve(prob)"
   ]
  },
  {
   "cell_type": "code",
   "execution_count": 7,
   "metadata": {},
   "outputs": [
    {
     "data": {
      "image/png": "[encoded data removed]",
      "text/plain": [
       "Figure(PyObject <Figure size 640x480 with 1 Axes>)"
      ]
     },
     "metadata": {},
     "output_type": "display_data"
    }
   ],
   "source": [
    "Utils.plot_rb(sol(100)[:,:,8,1])"
   ]
  },
  {
   "cell_type": "code",
   "execution_count": 8,
   "metadata": {},
   "outputs": [
    {
     "data": {
      "image/png": "[encoded data removed]",
      "text/plain": [
       "Figure(PyObject <Figure size 640x480 with 1 Axes>)"
      ]
     },
     "metadata": {},
     "output_type": "display_data"
    },
    {
     "data": {
      "text/plain": [
       "1-element Array{PyCall.PyObject,1}:\n",
       " PyObject <matplotlib.lines.Line2D object at 0x7f14482a3610>"
      ]
     },
     "execution_count": 8,
     "metadata": {},
     "output_type": "execute_result"
    }
   ],
   "source": [
    "plot(sol[findmax(sol[:,:,7,end])[2][1],findmax(sol[:,:,7,end])[2][2],7,:])"
   ]
  },
  {
   "cell_type": "code",
   "execution_count": 9,
   "metadata": {},
   "outputs": [],
   "source": [
    "sol_cpu = Array(sol)\n",
    "sol = nothing;"
   ]
  },
  {
   "cell_type": "code",
   "execution_count": null,
   "metadata": {},
   "outputs": [],
   "source": []
  },
  {
   "cell_type": "markdown",
   "metadata": {},
   "source": [
    "# Imfilter GPU IIR"
   ]
  },
  {
   "cell_type": "code",
   "execution_count": null,
   "metadata": {},
   "outputs": [],
   "source": []
  },
  {
   "cell_type": "code",
   "execution_count": 11,
   "metadata": {},
   "outputs": [
    {
     "name": "stderr",
     "output_type": "stream",
     "text": [
      "Revise.LogRecord(Error, (compiled mode) evaluation error starting at /mnt/storage_1/users/cullinanen/.julia/dev/MEngProject.jl/src/Parameters.jl:21, lowered, Revise_fb86e9d0, \"/mnt/storage_1/users/cullinanen/.julia/packages/Revise/BqeJF/src/lowered.jl\", 85, (mod=MEngProject.Parameters, ex=begin\n",
      "    #= /mnt/storage_1/users/cullinanen/.julia/dev/MEngProject.jl/src/Parameters.jl:21 =#\n",
      "    parameters_f32 = (K = 2, δ_v = 1.25f0, δ_c = 0.25f0, δ_m = 0.01875f0, δ_z = 0.125f0, δ_s = 2.5f0, σ_1 = p_temp_f32.σ_1, C_1 = 1.5f0, C_2 = 0.075f0, σ_2 = p_temp_f32.σ_2, γ = 10.0f0, α = 0.5f0, ϕ = 2.0f0, Γ = 0.2f0, v_21 = 0.0f0, μ = 2.0f0, ν = 1.1f0, n = 6.0f0, att = 0.0f0, η_p = 2.1f0, η_m = 1.5f0, λ = 1.5f0, a_23_ex = 3.0f0, a_23_in = 0.5f0, v12_6 = 1.0f0, v12_4 = 5.0f0, ψ = 0.5f0, C_AB_l = 4 * ceil(Int, p_temp_f32.σ_2) + 1, H_σ_x = p_temp_f32.H_σ_x, H_σ_y = p_temp_f32.H_σ_y, H_fact = 5.0f0, H_l = 19, T_fact = [0.87f0, 0.13f0], T_p_m = 0.302f0, T_v2_fact = 0.625f0, H_size = 19, W_size = 19, lgn_equ_u = 1.0f0, lgn_equ_A = 0.0f0, lgn_equ_B = 0.0f0, filling = Fill(0.0f0), W_l = 19)\n",
      "end)\u001b[91mUndefVarError: Fill not defined\u001b[39m\n",
      "Stacktrace:\n",
      " [1] top-level scope at \u001b[1m/mnt/storage_1/users/cullinanen/.julia/dev/MEngProject.jl/src/Parameters.jl:21\u001b[22m)Revise.LogRecord(Error, (compiled mode) evaluation error starting at /mnt/storage_1/users/cullinanen/.julia/dev/MEngProject.jl/src/Parameters.jl:74, lowered, Revise_fb86e9d0, \"/mnt/storage_1/users/cullinanen/.julia/packages/Revise/BqeJF/src/lowered.jl\", 85, (mod=MEngProject.Parameters, ex=begin\n",
      "    #= /mnt/storage_1/users/cullinanen/.julia/dev/MEngProject.jl/src/Parameters.jl:74 =#\n",
      "    parameters_f64 = (K = 2, δ_v = 1.25, δ_c = 0.25, δ_m = 0.01875, δ_z = 0.125, δ_s = 2.5, σ_1 = p_temp_f64.σ_1, C_1 = 1.5, C_2 = 0.075, σ_2 = p_temp_f64.σ_2, γ = 10.0, α = 0.5, ϕ = 2.0, Γ = 0.2, v_21 = 0.0, μ = 2.0, ν = 1.1, n = 6.0, att = 0.0, η_p = 2.1, η_m = 1.5, λ = 1.5, a_23_ex = 3.0, a_23_in = 0.5, v12_6 = 1.0, v12_4 = 5.0, ψ = 0.5, C_AB_l = 4 * ceil(Int, p_temp_f64.σ_2) + 1, H_σ_x = p_temp_f64.H_σ_x, H_σ_y = p_temp_f64.H_σ_y, H_fact = 5.0, H_l = 19, T_fact = [0.87, 0.13], T_p_m = 0.302, T_v2_fact = 0.625, H_size = 19, W_size = 19, lgn_equ_u = 1.0, lgn_equ_A = 0.0, lgn_equ_B = 0.0, filling = Fill(0.0), W_l = 19)\n",
      "end)\u001b[91mUndefVarError: Fill not defined\u001b[39m\n",
      "Stacktrace:\n",
      " [1] top-level scope at \u001b[1m/mnt/storage_1/users/cullinanen/.julia/dev/MEngProject.jl/src/Parameters.jl:74\u001b[22m)"
     ]
    }
   ],
   "source": [
    "p = LaminartInitFunc.parameterInit_imfil_cpu(datadir(\"temp5_100_100_gs.png\"), Parameters.parameters_f32);"
   ]
  },
  {
   "cell_type": "code",
   "execution_count": 12,
   "metadata": {},
   "outputs": [],
   "source": [
    "tspan = (0.0f0, 100f0)\n",
    "u0 = reshape(zeros(Float32, p.dim_i, p.dim_j*(5*p.K+2)), p.dim_i, p.dim_j, 5*p.K+2);\n",
    "\n",
    "arr1 = u0[:, :, 1:p.K]\n",
    "arr2 = u0[:, :, 1];\n",
    "\n",
    "f = LaminartFunc.LamFunction_imfil_gpu_iir(\n",
    "#     similar(arr1), #x\n",
    "#     similar(arr1), #m\n",
    "#     similar(arr1), #s\n",
    " similar(arr2), #x_lgn,\n",
    "similar(arr1), #C,\n",
    "similar(arr1), #H_z,\n",
    "    similar(arr1), # H_z_temp,\n",
    "    similar(arr2), # v_C_temp1,\n",
    "    similar(arr2), # v_C_temp2,\n",
    "    similar(arr1), # v_C_tempA,\n",
    "    similar(arr1[:,:,1]), #W_temp\n",
    "# similar(arr1), # dy_temp,\n",
    "# similar(arr1), # dm_temp,\n",
    "# similar(arr1), # dz_temp,\n",
    "# similar(arr1), # ds_temp,\n",
    "# similar(arr2), # dv_temp,\n",
    "# similar(arr1), # H_z_temp,\n",
    "# similar(arr2), #  V_temp_1,\n",
    "# similar(arr2), #  V_temp_2,\n",
    "# similar(arr1), #  A_temp,\n",
    "# similar(arr1), #   B_temp\n",
    "    );\n",
    "\n",
    "prob = ODEProblem(f, u0, tspan, p);"
   ]
  },
  {
   "cell_type": "code",
   "execution_count": 13,
   "metadata": {},
   "outputs": [],
   "source": [
    "sol = solve(prob);"
   ]
  },
  {
   "cell_type": "code",
   "execution_count": 14,
   "metadata": {},
   "outputs": [
    {
     "data": {
      "text/plain": [
       "BenchmarkTools.Trial: \n",
       "  memory estimate:  1.34 GiB\n",
       "  allocs estimate:  361803\n",
       "  --------------\n",
       "  minimum time:     36.077 s (0.23% GC)\n",
       "  median time:      36.077 s (0.23% GC)\n",
       "  mean time:        36.077 s (0.23% GC)\n",
       "  maximum time:     36.077 s (0.23% GC)\n",
       "  --------------\n",
       "  samples:          1\n",
       "  evals/sample:     1"
      ]
     },
     "execution_count": 14,
     "metadata": {},
     "output_type": "execute_result"
    }
   ],
   "source": [
    "@benchmark sol = solve(prob)"
   ]
  },
  {
   "cell_type": "code",
   "execution_count": 15,
   "metadata": {},
   "outputs": [
    {
     "data": {
      "image/png": "[encoded data removed]",
      "text/plain": [
       "Figure(PyObject <Figure size 640x480 with 1 Axes>)"
      ]
     },
     "metadata": {},
     "output_type": "display_data"
    }
   ],
   "source": [
    "Utils.plot_rb(sol(100)[:,:,8,1])"
   ]
  },
  {
   "cell_type": "code",
   "execution_count": 16,
   "metadata": {},
   "outputs": [
    {
     "data": {
      "image/png": "[encoded data removed]",
      "text/plain": [
       "Figure(PyObject <Figure size 640x480 with 1 Axes>)"
      ]
     },
     "metadata": {},
     "output_type": "display_data"
    },
    {
     "data": {
      "text/plain": [
       "1-element Array{PyCall.PyObject,1}:\n",
       " PyObject <matplotlib.lines.Line2D object at 0x7f1446dd2090>"
      ]
     },
     "execution_count": 16,
     "metadata": {},
     "output_type": "execute_result"
    }
   ],
   "source": [
    "plot(sol[findmax(sol[:,:,7,end])[2][1],findmax(sol[:,:,7,end])[2][2],7,:])"
   ]
  },
  {
   "cell_type": "code",
   "execution_count": 17,
   "metadata": {},
   "outputs": [],
   "source": [
    "sol_cpu = Array(sol)\n",
    "sol = nothing;"
   ]
  },
  {
   "cell_type": "code",
   "execution_count": null,
   "metadata": {},
   "outputs": [],
   "source": []
  },
  {
   "cell_type": "markdown",
   "metadata": {},
   "source": [
    "# Imfilter GPU FFT"
   ]
  },
  {
   "cell_type": "code",
   "execution_count": null,
   "metadata": {},
   "outputs": [],
   "source": []
  },
  {
   "cell_type": "code",
   "execution_count": 19,
   "metadata": {},
   "outputs": [],
   "source": [
    "p = LaminartInitFunc.parameterInit_imfil_cpu(datadir(\"temp5_100_100_gs.png\"), Parameters.parameters_f32);"
   ]
  },
  {
   "cell_type": "code",
   "execution_count": 20,
   "metadata": {},
   "outputs": [],
   "source": [
    "tspan = (0.0f0, 100f0)\n",
    "u0 = reshape(zeros(Float32, p.dim_i, p.dim_j*(5*p.K+2)), p.dim_i, p.dim_j, 5*p.K+2);\n",
    "\n",
    "arr1 = u0[:, :, 1:p.K]\n",
    "arr2 = u0[:, :, 1];\n",
    "\n",
    "f = LaminartFunc.LamFunction_imfil_gpu_fft(\n",
    "#     similar(arr1), #x\n",
    "#     similar(arr1), #m\n",
    "#     similar(arr1), #s\n",
    " similar(arr2), #x_lgn,\n",
    "similar(arr1), #C,\n",
    "similar(arr1), #H_z,\n",
    "    similar(arr1), # H_z_temp,\n",
    "    similar(arr2), # v_C_temp1,\n",
    "    similar(arr2), # v_C_temp2,\n",
    "    similar(arr1), # v_C_tempA,\n",
    "    similar(arr1[:,:,1]), #W_temp\n",
    "# similar(arr1), # dy_temp,\n",
    "# similar(arr1), # dm_temp,\n",
    "# similar(arr1), # dz_temp,\n",
    "# similar(arr1), # ds_temp,\n",
    "# similar(arr2), # dv_temp,\n",
    "# similar(arr1), # H_z_temp,\n",
    "# similar(arr2), #  V_temp_1,\n",
    "# similar(arr2), #  V_temp_2,\n",
    "# similar(arr1), #  A_temp,\n",
    "# similar(arr1), #   B_temp\n",
    "    );\n",
    "\n",
    "prob = ODEProblem(f, u0, tspan, p);"
   ]
  },
  {
   "cell_type": "code",
   "execution_count": 21,
   "metadata": {},
   "outputs": [],
   "source": [
    "sol = solve(prob);"
   ]
  },
  {
   "cell_type": "code",
   "execution_count": 22,
   "metadata": {},
   "outputs": [
    {
     "data": {
      "text/plain": [
       "BenchmarkTools.Trial: \n",
       "  memory estimate:  1.51 GiB\n",
       "  allocs estimate:  457163\n",
       "  --------------\n",
       "  minimum time:     36.352 s (0.09% GC)\n",
       "  median time:      36.352 s (0.09% GC)\n",
       "  mean time:        36.352 s (0.09% GC)\n",
       "  maximum time:     36.352 s (0.09% GC)\n",
       "  --------------\n",
       "  samples:          1\n",
       "  evals/sample:     1"
      ]
     },
     "execution_count": 22,
     "metadata": {},
     "output_type": "execute_result"
    }
   ],
   "source": [
    "@benchmark sol = solve(prob)"
   ]
  },
  {
   "cell_type": "code",
   "execution_count": 23,
   "metadata": {},
   "outputs": [
    {
     "data": {
      "image/png": "[encoded data removed]",
      "text/plain": [
       "Figure(PyObject <Figure size 640x480 with 1 Axes>)"
      ]
     },
     "metadata": {},
     "output_type": "display_data"
    }
   ],
   "source": [
    "Utils.plot_rb(sol(100)[:,:,8,1])"
   ]
  },
  {
   "cell_type": "code",
   "execution_count": 24,
   "metadata": {},
   "outputs": [
    {
     "data": {
      "image/png": "[encoded data removed]",
      "text/plain": [
       "Figure(PyObject <Figure size 640x480 with 1 Axes>)"
      ]
     },
     "metadata": {},
     "output_type": "display_data"
    },
    {
     "data": {
      "text/plain": [
       "1-element Array{PyCall.PyObject,1}:\n",
       " PyObject <matplotlib.lines.Line2D object at 0x7f1446c80ad0>"
      ]
     },
     "execution_count": 24,
     "metadata": {},
     "output_type": "execute_result"
    }
   ],
   "source": [
    "plot(sol[findmax(sol[:,:,7,end])[2][1],findmax(sol[:,:,7,end])[2][2],7,:])"
   ]
  },
  {
   "cell_type": "code",
   "execution_count": 25,
   "metadata": {},
   "outputs": [],
   "source": [
    "sol_cpu = Array(sol)\n",
    "sol = nothing;"
   ]
  },
  {
   "cell_type": "code",
   "execution_count": null,
   "metadata": {},
   "outputs": [],
   "source": []
  },
  {
   "cell_type": "code",
   "execution_count": 29,
   "metadata": {},
   "outputs": [
    {
     "data": {
      "text/plain": [
       "BenchmarkTools.Trial: \n",
       "  memory estimate:  103.48 KiB\n",
       "  allocs estimate:  48\n",
       "  --------------\n",
       "  minimum time:     332.611 μs (0.00% GC)\n",
       "  median time:      348.397 μs (0.00% GC)\n",
       "  mean time:        360.791 μs (2.01% GC)\n",
       "  maximum time:     23.620 ms (98.52% GC)\n",
       "  --------------\n",
       "  samples:          10000\n",
       "  evals/sample:     1"
      ]
     },
     "execution_count": 29,
     "metadata": {},
     "output_type": "execute_result"
    }
   ],
   "source": [
    "@benchmark imfilter(p.I, p.k_gauss_1, \"circular\")"
   ]
  },
  {
   "cell_type": "code",
   "execution_count": 30,
   "metadata": {},
   "outputs": [
    {
     "data": {
      "text/plain": [
       "BenchmarkTools.Trial: \n",
       "  memory estimate:  101.39 KiB\n",
       "  allocs estimate:  41\n",
       "  --------------\n",
       "  minimum time:     345.132 μs (0.00% GC)\n",
       "  median time:      351.021 μs (0.00% GC)\n",
       "  mean time:        359.463 μs (1.83% GC)\n",
       "  maximum time:     13.300 ms (93.51% GC)\n",
       "  --------------\n",
       "  samples:          10000\n",
       "  evals/sample:     1"
      ]
     },
     "execution_count": 30,
     "metadata": {},
     "output_type": "execute_result"
    }
   ],
   "source": [
    "@benchmark imfilter(p.I, p.k_gauss_1, Fill(0.0f0))"
   ]
  },
  {
   "cell_type": "code",
   "execution_count": null,
   "metadata": {},
   "outputs": [],
   "source": []
  },
  {
   "cell_type": "code",
   "execution_count": null,
   "metadata": {},
   "outputs": [],
   "source": []
  },
  {
   "cell_type": "code",
   "execution_count": null,
   "metadata": {},
   "outputs": [],
   "source": []
  },
  {
   "cell_type": "code",
   "execution_count": null,
   "metadata": {},
   "outputs": [],
   "source": []
  },
  {
   "cell_type": "code",
   "execution_count": null,
   "metadata": {},
   "outputs": [],
   "source": []
  },
  {
   "cell_type": "code",
   "execution_count": null,
   "metadata": {},
   "outputs": [],
   "source": []
  },
  {
   "cell_type": "code",
   "execution_count": null,
   "metadata": {},
   "outputs": [],
   "source": []
  },
  {
   "cell_type": "code",
   "execution_count": null,
   "metadata": {},
   "outputs": [],
   "source": []
  },
  {
   "cell_type": "code",
   "execution_count": null,
   "metadata": {},
   "outputs": [],
   "source": []
  },
  {
   "cell_type": "code",
   "execution_count": null,
   "metadata": {},
   "outputs": [],
   "source": []
  },
  {
   "cell_type": "code",
   "execution_count": null,
   "metadata": {},
   "outputs": [],
   "source": []
  },
  {
   "cell_type": "code",
   "execution_count": null,
   "metadata": {},
   "outputs": [],
   "source": []
  },
  {
   "cell_type": "code",
   "execution_count": null,
   "metadata": {},
   "outputs": [],
   "source": []
  },
  {
   "cell_type": "code",
   "execution_count": null,
   "metadata": {},
   "outputs": [],
   "source": []
  },
  {
   "cell_type": "code",
   "execution_count": null,
   "metadata": {},
   "outputs": [],
   "source": []
  },
  {
   "cell_type": "code",
   "execution_count": null,
   "metadata": {},
   "outputs": [],
   "source": []
  },
  {
   "cell_type": "code",
   "execution_count": null,
   "metadata": {},
   "outputs": [],
   "source": []
  },
  {
   "cell_type": "code",
   "execution_count": null,
   "metadata": {},
   "outputs": [],
   "source": []
  },
  {
   "cell_type": "code",
   "execution_count": null,
   "metadata": {},
   "outputs": [],
   "source": []
  },
  {
   "cell_type": "code",
   "execution_count": null,
   "metadata": {},
   "outputs": [],
   "source": []
  },
  {
   "cell_type": "code",
   "execution_count": null,
   "metadata": {},
   "outputs": [],
   "source": []
  },
  {
   "cell_type": "code",
   "execution_count": null,
   "metadata": {},
   "outputs": [],
   "source": []
  },
  {
   "cell_type": "code",
   "execution_count": null,
   "metadata": {},
   "outputs": [],
   "source": []
  },
  {
   "cell_type": "code",
   "execution_count": null,
   "metadata": {},
   "outputs": [],
   "source": []
  },
  {
   "cell_type": "code",
   "execution_count": null,
   "metadata": {},
   "outputs": [],
   "source": []
  },
  {
   "cell_type": "code",
   "execution_count": null,
   "metadata": {},
   "outputs": [],
   "source": []
  }
 ],
 "metadata": {
  "kernelspec": {
   "display_name": "Julia 1.4.2",
   "language": "julia",
   "name": "julia-1.4"
  },
  "language_info": {
   "file_extension": ".jl",
   "mimetype": "application/julia",
   "name": "julia",
   "version": "1.4.2"
  }
 },
 "nbformat": 4,
 "nbformat_minor": 4
}
