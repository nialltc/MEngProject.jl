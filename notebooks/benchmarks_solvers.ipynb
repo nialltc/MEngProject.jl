{
 "cells": [
  {
   "cell_type": "code",
   "execution_count": 1,
   "metadata": {},
   "outputs": [],
   "source": [
    "using DrWatson\n",
    "@quickactivate \"MEngProject\"\n",
    "using MEngProject,\n",
    "    CUDA,\n",
    "    DifferentialEquations,\n",
    "    PyPlot,\n",
    "    NNlib,\n",
    "    ImageFiltering,\n",
    "    Images,\n",
    "    ImageIO,\n",
    "    MEngProject.LaminartKernels,\n",
    "    MEngProject.LaminartInitFunc,\n",
    "    MEngProject.Utils,\n",
    "    BenchmarkTools,\n",
    "    Test\n",
    "\n",
    "using OrdinaryDiffEq,\n",
    "    ParameterizedFunctions, LSODA, Sundials, DiffEqDevTools, Noise"
   ]
  },
  {
   "cell_type": "markdown",
   "metadata": {},
   "source": [
    "# Solver\n"
   ]
  },
  {
   "cell_type": "code",
   "execution_count": 34,
   "metadata": {},
   "outputs": [
    {
     "data": {
      "text/plain": [
       "5-element Array{DiffEqBase.AbstractODEAlgorithm,1}:\n",
       " CompositeAlgorithm{Tuple{Tsit5,Rosenbrock23{0,true,DefaultLinSolve,DataType}},AutoSwitch{Tsit5,Rosenbrock23{0,true,DefaultLinSolve,DataType},Rational{Int64},Int64}}((Tsit5(), Rosenbrock23{0,true,DefaultLinSolve,DataType}(DefaultLinSolve(nothing, nothing), Val{:forward})), AutoSwitch{Tsit5,Rosenbrock23{0,true,DefaultLinSolve,DataType},Rational{Int64},Int64}(0, Tsit5(), Rosenbrock23{0,true,DefaultLinSolve,DataType}(DefaultLinSolve(nothing, nothing), Val{:forward}), false, 10, 3, 9//10, 9//10, 2, false))\n",
       " Tsit5()\n",
       " BS3()\n",
       " lsoda()\n",
       " Vern7(true)"
      ]
     },
     "execution_count": 34,
     "metadata": {},
     "output_type": "execute_result"
    }
   ],
   "source": [
    "batch = 9901\n",
    "\n",
    "\n",
    "\n",
    "    \n",
    "global benchm_s = []\n",
    "global alg_ = []\n",
    "global stats_ = []\n",
    "global gpu_ = []\n",
    "\n",
    "\n",
    "tspan = (0.0f0, 1f0)\n",
    "\n",
    "batch_ = string(batch, \"_\", rand(1000:9999))\n",
    "mkdir(plotsdir(string(\"bench_solver\", batch_)))\n",
    "file = \"kan_sq_cont_l.png\"\n",
    "\n",
    "solvers = [\n",
    "            AutoTsit5(Rosenbrock23()),\n",
    "            Tsit5(),\n",
    "            BS3(),\n",
    "            lsoda(),\n",
    "            Vern7(),\n",
    "            ]\n",
    "# alg=lsoda()"
   ]
  },
  {
   "cell_type": "code",
   "execution_count": 35,
   "metadata": {},
   "outputs": [
    {
     "data": {
      "text/plain": [
       "\u001b[36mODEProblem\u001b[0m with uType \u001b[36mCuArray{Float32,4}\u001b[0m and tType \u001b[36mFloat32\u001b[0m. In-place: \u001b[36mtrue\u001b[0m\n",
       "timespan: (0.0f0, 1.0f0)\n",
       "u0: Float32[0.0 0.0 … 0.0 0.0; 0.0 0.0 … 0.0 0.0; … ; 0.0 0.0 … 0.0 0.0; 0.0 0.0 … 0.0 0.0]\n",
       "\n",
       "Float32[0.0 0.0 … 0.0 0.0; 0.0 0.0 … 0.0 0.0; … ; 0.0 0.0 … 0.0 0.0; 0.0 0.0 … 0.0 0.0]\n",
       "\n",
       "Float32[0.0 0.0 … 0.0 0.0; 0.0 0.0 … 0.0 0.0; … ; 0.0 0.0 … 0.0 0.0; 0.0 0.0 … 0.0 0.0]\n",
       "\n",
       "...\n",
       "\n",
       "Float32[0.0 0.0 … 0.0 0.0; 0.0 0.0 … 0.0 0.0; … ; 0.0 0.0 … 0.0 0.0; 0.0 0.0 … 0.0 0.0]\n",
       "\n",
       "Float32[0.0 0.0 … 0.0 0.0; 0.0 0.0 … 0.0 0.0; … ; 0.0 0.0 … 0.0 0.0; 0.0 0.0 … 0.0 0.0]\n",
       "\n",
       "Float32[0.0 0.0 … 0.0 0.0; 0.0 0.0 … 0.0 0.0; … ; 0.0 0.0 … 0.0 0.0; 0.0 0.0 … 0.0 0.0]"
      ]
     },
     "execution_count": 35,
     "metadata": {},
     "output_type": "execute_result"
    }
   ],
   "source": [
    "\n",
    "\n",
    "file = \"kan_sq_cont_l.png\"\n",
    "\n",
    "solvers = [\n",
    "            AutoTsit5(Rosenbrock23()),\n",
    "            Tsit5(),\n",
    "            BS3(),\n",
    "            lsoda(),\n",
    "            Vern7(),\n",
    "            ]\n",
    "# alg=lsoda()\n",
    "\n",
    "# GPU\n",
    "p = LaminartInitFunc.parameterInit_conv_gpu(\n",
    "    datadir(\"img\", file),\n",
    "    Parameters.parameters_f32,\n",
    ");\n",
    "\n",
    "u0 = cu(reshape(\n",
    "    zeros(Float32, p.dim_i, p.dim_j * (5 * p.K + 2)),\n",
    "    p.dim_i,\n",
    "    p.dim_j,\n",
    "    5 * p.K + 2,\n",
    "    1,\n",
    "))\n",
    "\n",
    "arr1 = similar(@view u0[:, :, 1:2, :])\n",
    "arr2 = similar(@view u0[:, :, 1:1, :])\n",
    "f = LaminartFunc.LamFunction(\n",
    "    arr1, #x\n",
    "    similar(arr1), #m\n",
    "    similar(arr1), #s\n",
    "    arr2, #x_lgn,\n",
    "    similar(arr1), #C,\n",
    "    similar(arr1), #H_z,\n",
    "    similar(arr1), # dy_temp,\n",
    "    similar(arr1), # dm_temp,\n",
    "    similar(arr1), # dz_temp,\n",
    "    similar(arr1), # ds_temp,\n",
    "    similar(arr2), # dv_temp,\n",
    "    similar(arr1), # H_z_temp,\n",
    "    similar(arr2), #  V_temp_1,\n",
    "    similar(arr2), #  V_temp_2,\n",
    "    similar(arr1), #  A_temp,\n",
    "    similar(arr1), #   B_temp\n",
    ")\n",
    "global prob_s = ODEProblem(f, u0, tspan, p)"
   ]
  },
  {
   "cell_type": "markdown",
   "metadata": {},
   "source": [
    "# AutoTsit5(Rosenbrock23()),\n"
   ]
  },
  {
   "cell_type": "code",
   "execution_count": 36,
   "metadata": {},
   "outputs": [],
   "source": [
    "# algg = solvers[1]\n",
    "# # for algg in solvers\n",
    "#     @. u0 = 0.0f0\n",
    "#     try\n",
    "#         global algg_ = algg\n",
    "#         sol = solve(prob_s, algg)\n",
    "#         push!(alg_, sol.alg)\n",
    "#         push!(stats_, sol.destats)\n",
    "#         print(sol.destats)\n",
    "#         push!(benchm_s, @benchmark solve(prob_s, algg_))\n",
    "#         push!(gpu_, \"GPU\")\n",
    "#     catch err\n",
    "#         print(err)\n",
    "#     end\n",
    "# # end"
   ]
  },
  {
   "cell_type": "markdown",
   "metadata": {},
   "source": [
    "# Tsit5(),\n",
    "            "
   ]
  },
  {
   "cell_type": "code",
   "execution_count": 37,
   "metadata": {},
   "outputs": [
    {
     "name": "stdout",
     "output_type": "stream",
     "text": [
      "DiffEqBase.DEStats\n",
      "Number of function 1 evaluations:                  87\n",
      "Number of function 2 evaluations:                  0\n",
      "Number of W matrix evaluations:                    0\n",
      "Number of linear solves:                           0\n",
      "Number of Jacobians created:                       0\n",
      "Number of nonlinear solver iterations:             0\n",
      "Number of nonlinear solver convergence failures:   0\n",
      "Number of rootfind condition calls:                0\n",
      "Number of accepted steps:                          14\n",
      "Number of rejected steps:                          0"
     ]
    },
    {
     "data": {
      "text/plain": [
       "1-element Array{Any,1}:\n",
       " \"GPU\""
      ]
     },
     "execution_count": 37,
     "metadata": {},
     "output_type": "execute_result"
    }
   ],
   "source": [
    "algg = solvers[2]\n",
    "# for algg in solvers\n",
    "    @. u0 = 0.0f0\n",
    "    try\n",
    "        global algg_ = algg\n",
    "        sol = solve(prob_s, algg)\n",
    "        push!(alg_, sol.alg)\n",
    "        push!(stats_, sol.destats)\n",
    "        print(sol.destats)\n",
    "        push!(benchm_s, @benchmark solve(prob_s, algg_))\n",
    "        push!(gpu_, \"GPU\")\n",
    "    catch err\n",
    "        print(err)\n",
    "    end\n",
    "# end"
   ]
  },
  {
   "cell_type": "markdown",
   "metadata": {},
   "source": [
    "#         BS3(),"
   ]
  },
  {
   "cell_type": "code",
   "execution_count": 38,
   "metadata": {},
   "outputs": [
    {
     "name": "stdout",
     "output_type": "stream",
     "text": [
      "DiffEqBase.DEStats\n",
      "Number of function 1 evaluations:                  57\n",
      "Number of function 2 evaluations:                  0\n",
      "Number of W matrix evaluations:                    0\n",
      "Number of linear solves:                           0\n",
      "Number of Jacobians created:                       0\n",
      "Number of nonlinear solver iterations:             0\n",
      "Number of nonlinear solver convergence failures:   0\n",
      "Number of rootfind condition calls:                0\n",
      "Number of accepted steps:                          18\n",
      "Number of rejected steps:                          0"
     ]
    },
    {
     "data": {
      "text/plain": [
       "2-element Array{Any,1}:\n",
       " \"GPU\"\n",
       " \"GPU\""
      ]
     },
     "execution_count": 38,
     "metadata": {},
     "output_type": "execute_result"
    }
   ],
   "source": [
    "algg = solvers[3]\n",
    "# for algg in solvers\n",
    "    @. u0 = 0.0f0\n",
    "    try\n",
    "        global algg_ = algg\n",
    "        sol = solve(prob_s, algg)\n",
    "        push!(alg_, sol.alg)\n",
    "        push!(stats_, sol.destats)\n",
    "        print(sol.destats)\n",
    "        push!(benchm_s, @benchmark solve(prob_s, algg_))\n",
    "        push!(gpu_, \"GPU\")\n",
    "    catch err\n",
    "        print(err)\n",
    "    end\n",
    "# end"
   ]
  },
  {
   "cell_type": "markdown",
   "metadata": {},
   "source": [
    "#    lsoda(),\n",
    "         "
   ]
  },
  {
   "cell_type": "code",
   "execution_count": 39,
   "metadata": {},
   "outputs": [],
   "source": [
    "# algg = solvers[4]\n",
    "# # for algg in solvers\n",
    "#     @. u0 = 0.0f0\n",
    "#     try\n",
    "#         global algg_ = algg\n",
    "#         sol = solve(prob_s, algg)\n",
    "#         push!(alg_, sol.alg)\n",
    "#         push!(stats_, sol.destats)\n",
    "#         print(sol.destats)\n",
    "#         push!(benchm_s, @benchmark solve(prob_s, algg_))\n",
    "#         push!(gpu_, \"GPU\")\n",
    "#     catch err\n",
    "#         print(err)\n",
    "#     end\n",
    "# # end"
   ]
  },
  {
   "cell_type": "markdown",
   "metadata": {},
   "source": [
    "#     Vern7(),"
   ]
  },
  {
   "cell_type": "code",
   "execution_count": 40,
   "metadata": {},
   "outputs": [
    {
     "name": "stdout",
     "output_type": "stream",
     "text": [
      "DiffEqBase.DEStats\n",
      "Number of function 1 evaluations:                  192\n",
      "Number of function 2 evaluations:                  0\n",
      "Number of W matrix evaluations:                    0\n",
      "Number of linear solves:                           0\n",
      "Number of Jacobians created:                       0\n",
      "Number of nonlinear solver iterations:             0\n",
      "Number of nonlinear solver convergence failures:   0\n",
      "Number of rootfind condition calls:                0\n",
      "Number of accepted steps:                          19\n",
      "Number of rejected steps:                          0"
     ]
    },
    {
     "data": {
      "text/plain": [
       "3-element Array{Any,1}:\n",
       " \"GPU\"\n",
       " \"GPU\"\n",
       " \"GPU\""
      ]
     },
     "execution_count": 40,
     "metadata": {},
     "output_type": "execute_result"
    }
   ],
   "source": [
    "algg = solvers[5]\n",
    "# for algg in solvers\n",
    "    @. u0 = 0.0f0\n",
    "    try\n",
    "        global algg_ = algg\n",
    "        sol = solve(prob_s, algg)\n",
    "        push!(alg_, sol.alg)\n",
    "        push!(stats_, sol.destats)\n",
    "        print(sol.destats)\n",
    "        push!(benchm_s, @benchmark solve(prob_s, algg_))\n",
    "        push!(gpu_, \"GPU\")\n",
    "    catch err\n",
    "        print(err)\n",
    "    end\n",
    "# end"
   ]
  },
  {
   "cell_type": "markdown",
   "metadata": {},
   "source": [
    "# CPU conv"
   ]
  },
  {
   "cell_type": "code",
   "execution_count": 41,
   "metadata": {},
   "outputs": [
    {
     "data": {
      "text/plain": [
       "\u001b[36mODEProblem\u001b[0m with uType \u001b[36mArray{Float32,4}\u001b[0m and tType \u001b[36mFloat32\u001b[0m. In-place: \u001b[36mtrue\u001b[0m\n",
       "timespan: (0.0f0, 1.0f0)\n",
       "u0: Float32[0.0 0.0 … 0.0 0.0; 0.0 0.0 … 0.0 0.0; … ; 0.0 0.0 … 0.0 0.0; 0.0 0.0 … 0.0 0.0]\n",
       "\n",
       "Float32[0.0 0.0 … 0.0 0.0; 0.0 0.0 … 0.0 0.0; … ; 0.0 0.0 … 0.0 0.0; 0.0 0.0 … 0.0 0.0]\n",
       "\n",
       "Float32[0.0 0.0 … 0.0 0.0; 0.0 0.0 … 0.0 0.0; … ; 0.0 0.0 … 0.0 0.0; 0.0 0.0 … 0.0 0.0]\n",
       "\n",
       "...\n",
       "\n",
       "Float32[0.0 0.0 … 0.0 0.0; 0.0 0.0 … 0.0 0.0; … ; 0.0 0.0 … 0.0 0.0; 0.0 0.0 … 0.0 0.0]\n",
       "\n",
       "Float32[0.0 0.0 … 0.0 0.0; 0.0 0.0 … 0.0 0.0; … ; 0.0 0.0 … 0.0 0.0; 0.0 0.0 … 0.0 0.0]\n",
       "\n",
       "Float32[0.0 0.0 … 0.0 0.0; 0.0 0.0 … 0.0 0.0; … ; 0.0 0.0 … 0.0 0.0; 0.0 0.0 … 0.0 0.0]"
      ]
     },
     "execution_count": 41,
     "metadata": {},
     "output_type": "execute_result"
    }
   ],
   "source": [
    "# # tspan = (0.0f0, 800f0)\n",
    "\n",
    "\n",
    "# file = \"kan_sq_cont_l.png\"\n",
    "\n",
    "# solvers = [\n",
    "#             AutoTsit5(Rosenbrock23()),\n",
    "#             Tsit5(),\n",
    "#             BS3(),\n",
    "#             lsoda(),\n",
    "#             Vern7(),\n",
    "#             ]\n",
    "# # alg=lsoda()\n",
    "\n",
    "# CPU\n",
    "p = LaminartInitFunc.parameterInit_conv_cpu(\n",
    "    datadir(\"img\", file),\n",
    "    Parameters.parameters_f32,\n",
    ");\n",
    "\n",
    "u0 = reshape(\n",
    "    zeros(Float32, p.dim_i, p.dim_j * (5 * p.K + 2)),\n",
    "    p.dim_i,\n",
    "    p.dim_j,\n",
    "    5 * p.K + 2,\n",
    "    1,\n",
    ")\n",
    "\n",
    "arr1 = similar(@view u0[:, :, 1:2, :])\n",
    "arr2 = similar(@view u0[:, :, 1:1, :])\n",
    "f = LaminartFunc.LamFunction(\n",
    "    arr1, #x\n",
    "    similar(arr1), #m\n",
    "    similar(arr1), #s\n",
    "    arr2, #x_lgn,\n",
    "    similar(arr1), #C,\n",
    "    similar(arr1), #H_z,\n",
    "    similar(arr1), # dy_temp,\n",
    "    similar(arr1), # dm_temp,\n",
    "    similar(arr1), # dz_temp,\n",
    "    similar(arr1), # ds_temp,\n",
    "    similar(arr2), # dv_temp,\n",
    "    similar(arr1), # H_z_temp,\n",
    "    similar(arr2), #  V_temp_1,\n",
    "    similar(arr2), #  V_temp_2,\n",
    "    similar(arr1), #  A_temp,\n",
    "    similar(arr1), #   B_temp\n",
    ")\n",
    "global prob_s = ODEProblem(f, u0, tspan, p)"
   ]
  },
  {
   "cell_type": "markdown",
   "metadata": {},
   "source": [
    "# AutoTsit5(Rosenbrock23()),\n"
   ]
  },
  {
   "cell_type": "code",
   "execution_count": 42,
   "metadata": {},
   "outputs": [],
   "source": [
    "# algg = solvers[1]\n",
    "# # for algg in solvers\n",
    "#     @. u0 = 0.0f0\n",
    "#     try\n",
    "#         global algg_ = algg\n",
    "#         sol = solve(prob_s, algg)\n",
    "#         push!(alg_, sol.alg)\n",
    "#         push!(stats_, sol.destats)\n",
    "#         print(sol.destats)\n",
    "#         push!(benchm_s, @benchmark solve(prob_s, algg_))\n",
    "#         push!(gpu_, \"GPU\")\n",
    "#     catch err\n",
    "#         print(err)\n",
    "#     end\n",
    "# # end"
   ]
  },
  {
   "cell_type": "markdown",
   "metadata": {},
   "source": [
    "# Tsit5(),\n",
    "            "
   ]
  },
  {
   "cell_type": "code",
   "execution_count": 43,
   "metadata": {},
   "outputs": [
    {
     "name": "stdout",
     "output_type": "stream",
     "text": [
      "DiffEqBase.DEStats\n",
      "Number of function 1 evaluations:                  87\n",
      "Number of function 2 evaluations:                  0\n",
      "Number of W matrix evaluations:                    0\n",
      "Number of linear solves:                           0\n",
      "Number of Jacobians created:                       0\n",
      "Number of nonlinear solver iterations:             0\n",
      "Number of nonlinear solver convergence failures:   0\n",
      "Number of rootfind condition calls:                0\n",
      "Number of accepted steps:                          14\n",
      "Number of rejected steps:                          0"
     ]
    },
    {
     "data": {
      "text/plain": [
       "4-element Array{Any,1}:\n",
       " \"GPU\"\n",
       " \"GPU\"\n",
       " \"GPU\"\n",
       " \"CPU conv\""
      ]
     },
     "execution_count": 43,
     "metadata": {},
     "output_type": "execute_result"
    }
   ],
   "source": [
    "algg = solvers[2]\n",
    "# for algg in solvers\n",
    "    @. u0 = 0.0f0\n",
    "    try\n",
    "        global algg_ = algg\n",
    "        sol = solve(prob_s, algg)\n",
    "        push!(alg_, sol.alg)\n",
    "        push!(stats_, sol.destats)\n",
    "        print(sol.destats)\n",
    "        push!(benchm_s, @benchmark solve(prob_s, algg_))\n",
    "        push!(gpu_, \"CPU conv\")\n",
    "    catch err\n",
    "        print(err)\n",
    "    end\n",
    "# end"
   ]
  },
  {
   "cell_type": "markdown",
   "metadata": {},
   "source": [
    "#         BS3(),"
   ]
  },
  {
   "cell_type": "code",
   "execution_count": 44,
   "metadata": {},
   "outputs": [
    {
     "name": "stdout",
     "output_type": "stream",
     "text": [
      "DiffEqBase.DEStats\n",
      "Number of function 1 evaluations:                  54\n",
      "Number of function 2 evaluations:                  0\n",
      "Number of W matrix evaluations:                    0\n",
      "Number of linear solves:                           0\n",
      "Number of Jacobians created:                       0\n",
      "Number of nonlinear solver iterations:             0\n",
      "Number of nonlinear solver convergence failures:   0\n",
      "Number of rootfind condition calls:                0\n",
      "Number of accepted steps:                          17\n",
      "Number of rejected steps:                          0"
     ]
    },
    {
     "data": {
      "text/plain": [
       "5-element Array{Any,1}:\n",
       " \"GPU\"\n",
       " \"GPU\"\n",
       " \"GPU\"\n",
       " \"CPU conv\"\n",
       " \"CPU Conv\""
      ]
     },
     "execution_count": 44,
     "metadata": {},
     "output_type": "execute_result"
    }
   ],
   "source": [
    "algg = solvers[3]\n",
    "# for algg in solvers\n",
    "    @. u0 = 0.0f0\n",
    "    try\n",
    "        global algg_ = algg\n",
    "        sol = solve(prob_s, algg)\n",
    "        push!(alg_, sol.alg)\n",
    "        push!(stats_, sol.destats)\n",
    "        print(sol.destats)\n",
    "        push!(benchm_s, @benchmark solve(prob_s, algg_))\n",
    "        push!(gpu_, \"CPU Conv\")\n",
    "    catch err\n",
    "        print(err)\n",
    "    end\n",
    "# end"
   ]
  },
  {
   "cell_type": "markdown",
   "metadata": {},
   "source": [
    "#    lsoda(),\n",
    "         "
   ]
  },
  {
   "cell_type": "code",
   "execution_count": 45,
   "metadata": {},
   "outputs": [],
   "source": [
    "# algg = solvers[4]\n",
    "# # for algg in solvers\n",
    "#     @. u0 = 0.0f0\n",
    "#     try\n",
    "#         global algg_ = algg\n",
    "#         sol = solve(prob_s, algg)\n",
    "#         push!(alg_, sol.alg)\n",
    "#         push!(stats_, sol.destats)\n",
    "#         print(sol.destats)\n",
    "#         push!(benchm_s, @benchmark solve(prob_s, algg_))\n",
    "#         push!(gpu_, \"GPU\")\n",
    "#     catch err\n",
    "#         print(err)\n",
    "#     end\n",
    "# # end"
   ]
  },
  {
   "cell_type": "markdown",
   "metadata": {},
   "source": [
    "#     Vern7(),"
   ]
  },
  {
   "cell_type": "code",
   "execution_count": 46,
   "metadata": {},
   "outputs": [
    {
     "name": "stdout",
     "output_type": "stream",
     "text": [
      "DiffEqBase.DEStats\n",
      "Number of function 1 evaluations:                  192\n",
      "Number of function 2 evaluations:                  0\n",
      "Number of W matrix evaluations:                    0\n",
      "Number of linear solves:                           0\n",
      "Number of Jacobians created:                       0\n",
      "Number of nonlinear solver iterations:             0\n",
      "Number of nonlinear solver convergence failures:   0\n",
      "Number of rootfind condition calls:                0\n",
      "Number of accepted steps:                          19\n",
      "Number of rejected steps:                          0"
     ]
    },
    {
     "data": {
      "text/plain": [
       "6-element Array{Any,1}:\n",
       " \"GPU\"\n",
       " \"GPU\"\n",
       " \"GPU\"\n",
       " \"CPU conv\"\n",
       " \"CPU Conv\"\n",
       " \"CPU conv\""
      ]
     },
     "execution_count": 46,
     "metadata": {},
     "output_type": "execute_result"
    }
   ],
   "source": [
    "algg = solvers[5]\n",
    "# for algg in solvers\n",
    "    @. u0 = 0.0f0\n",
    "    try\n",
    "        global algg_ = algg\n",
    "        sol = solve(prob_s, algg)\n",
    "        push!(alg_, sol.alg)\n",
    "        push!(stats_, sol.destats)\n",
    "        print(sol.destats)\n",
    "        push!(benchm_s, @benchmark solve(prob_s, algg_))\n",
    "        push!(gpu_, \"CPU conv\")\n",
    "    catch err\n",
    "        print(err)\n",
    "    end\n",
    "# end"
   ]
  },
  {
   "cell_type": "markdown",
   "metadata": {},
   "source": [
    "# CPU imfil"
   ]
  },
  {
   "cell_type": "code",
   "execution_count": 47,
   "metadata": {},
   "outputs": [
    {
     "data": {
      "text/plain": [
       "\u001b[36mODEProblem\u001b[0m with uType \u001b[36mArray{Float32,3}\u001b[0m and tType \u001b[36mFloat32\u001b[0m. In-place: \u001b[36mtrue\u001b[0m\n",
       "timespan: (0.0f0, 1.0f0)\n",
       "u0: Float32[0.0 0.0 … 0.0 0.0; 0.0 0.0 … 0.0 0.0; … ; 0.0 0.0 … 0.0 0.0; 0.0 0.0 … 0.0 0.0]\n",
       "\n",
       "Float32[0.0 0.0 … 0.0 0.0; 0.0 0.0 … 0.0 0.0; … ; 0.0 0.0 … 0.0 0.0; 0.0 0.0 … 0.0 0.0]\n",
       "\n",
       "Float32[0.0 0.0 … 0.0 0.0; 0.0 0.0 … 0.0 0.0; … ; 0.0 0.0 … 0.0 0.0; 0.0 0.0 … 0.0 0.0]\n",
       "\n",
       "...\n",
       "\n",
       "Float32[0.0 0.0 … 0.0 0.0; 0.0 0.0 … 0.0 0.0; … ; 0.0 0.0 … 0.0 0.0; 0.0 0.0 … 0.0 0.0]\n",
       "\n",
       "Float32[0.0 0.0 … 0.0 0.0; 0.0 0.0 … 0.0 0.0; … ; 0.0 0.0 … 0.0 0.0; 0.0 0.0 … 0.0 0.0]\n",
       "\n",
       "Float32[0.0 0.0 … 0.0 0.0; 0.0 0.0 … 0.0 0.0; … ; 0.0 0.0 … 0.0 0.0; 0.0 0.0 … 0.0 0.0]"
      ]
     },
     "execution_count": 47,
     "metadata": {},
     "output_type": "execute_result"
    }
   ],
   "source": [
    "# CPU imfil \n",
    "\n",
    "p = LaminartInitFunc.parameterInit_imfil_cpu(\n",
    "    datadir(\"img\", file),\n",
    "    Parameters.parameters_f32,\n",
    ");\n",
    "\n",
    "u0 = reshape(zeros(Float32, p.dim_i, p.dim_j*(5*p.K+2)), p.dim_i, p.dim_j, 5*p.K+2);\n",
    "\n",
    "\n",
    "arr1 = u0[:, :, 1:p.K]\n",
    "arr2 = u0[:, :, 1:1];\n",
    "\n",
    "\n",
    "f = LaminartFunc.LamFunction_imfil_cpu(\n",
    " similar(arr2[:,:,1]), #x_lgn,\n",
    "arr1, #C,\n",
    "similar(arr1), #H_z,\n",
    "    similar(arr1), # H_z_temp,\n",
    "    similar(arr2[:,:,1]), # v_C_temp1,\n",
    "    similar(arr2[:,:,1]), # v_C_temp2,\n",
    "    similar(arr1), # v_C_tempA,\n",
    "    similar(arr1[:,:,1]), #W_temp\n",
    "    );\n",
    "\n",
    "\n",
    "global prob_sc = ODEProblem(f, u0, tspan, p)"
   ]
  },
  {
   "cell_type": "code",
   "execution_count": 48,
   "metadata": {},
   "outputs": [],
   "source": [
    "# "
   ]
  },
  {
   "cell_type": "markdown",
   "metadata": {},
   "source": [
    "# AutoTsit5(Rosenbrock23()),\n"
   ]
  },
  {
   "cell_type": "code",
   "execution_count": 49,
   "metadata": {},
   "outputs": [
    {
     "name": "stdout",
     "output_type": "stream",
     "text": [
      "DiffEqBase.DEStats\n",
      "Number of function 1 evaluations:                  87\n",
      "Number of function 2 evaluations:                  0\n",
      "Number of W matrix evaluations:                    0\n",
      "Number of linear solves:                           0\n",
      "Number of Jacobians created:                       0\n",
      "Number of nonlinear solver iterations:             0\n",
      "Number of nonlinear solver convergence failures:   0\n",
      "Number of rootfind condition calls:                0\n",
      "Number of accepted steps:                          14\n",
      "Number of rejected steps:                          0"
     ]
    },
    {
     "data": {
      "text/plain": [
       "7-element Array{Any,1}:\n",
       " \"GPU\"\n",
       " \"GPU\"\n",
       " \"GPU\"\n",
       " \"CPU conv\"\n",
       " \"CPU Conv\"\n",
       " \"CPU conv\"\n",
       " \"CPU imfil\""
      ]
     },
     "execution_count": 49,
     "metadata": {},
     "output_type": "execute_result"
    }
   ],
   "source": [
    "algg = solvers[2]\n",
    "# for algg in solvers\n",
    "    @. u0 = 0.0f0\n",
    "    try\n",
    "        global algg_ = algg\n",
    "        sol = solve(prob_sc, algg)\n",
    "        push!(alg_, sol.alg)\n",
    "        push!(stats_, sol.destats)\n",
    "        print(sol.destats)\n",
    "        push!(benchm_s, @benchmark solve(prob_sc, algg_))\n",
    "        push!(gpu_, \"CPU imfil\")\n",
    "    catch err\n",
    "        print(err)\n",
    "    end\n",
    "# end"
   ]
  },
  {
   "cell_type": "markdown",
   "metadata": {},
   "source": [
    "# Tsit5 \n"
   ]
  },
  {
   "cell_type": "code",
   "execution_count": 50,
   "metadata": {},
   "outputs": [
    {
     "name": "stdout",
     "output_type": "stream",
     "text": [
      "DiffEqBase.DEStats\n",
      "Number of function 1 evaluations:                  87\n",
      "Number of function 2 evaluations:                  0\n",
      "Number of W matrix evaluations:                    0\n",
      "Number of linear solves:                           0\n",
      "Number of Jacobians created:                       0\n",
      "Number of nonlinear solver iterations:             0\n",
      "Number of nonlinear solver convergence failures:   0\n",
      "Number of rootfind condition calls:                0\n",
      "Number of accepted steps:                          14\n",
      "Number of rejected steps:                          0"
     ]
    },
    {
     "data": {
      "text/plain": [
       "8-element Array{Any,1}:\n",
       " \"GPU\"\n",
       " \"GPU\"\n",
       " \"GPU\"\n",
       " \"CPU conv\"\n",
       " \"CPU Conv\"\n",
       " \"CPU conv\"\n",
       " \"CPU imfil\"\n",
       " \"CPU imfil\""
      ]
     },
     "execution_count": 50,
     "metadata": {},
     "output_type": "execute_result"
    }
   ],
   "source": [
    "algg = solvers[2]\n",
    "# for algg in solvers\n",
    "    @. u0 = 0.0f0\n",
    "    try\n",
    "        global algg_ = algg\n",
    "        sol = solve(prob_sc, algg)\n",
    "        push!(alg_, sol.alg)\n",
    "        push!(stats_, sol.destats)\n",
    "        print(sol.destats)\n",
    "        push!(benchm_s, @benchmark solve(prob_sc, algg_))\n",
    "        push!(gpu_, \"CPU imfil\")\n",
    "    catch err\n",
    "        print(err)\n",
    "    end\n",
    "# end"
   ]
  },
  {
   "cell_type": "markdown",
   "metadata": {},
   "source": [
    "# BS3 \n"
   ]
  },
  {
   "cell_type": "code",
   "execution_count": 51,
   "metadata": {},
   "outputs": [
    {
     "name": "stdout",
     "output_type": "stream",
     "text": [
      "DiffEqBase.DEStats\n",
      "Number of function 1 evaluations:                  54\n",
      "Number of function 2 evaluations:                  0\n",
      "Number of W matrix evaluations:                    0\n",
      "Number of linear solves:                           0\n",
      "Number of Jacobians created:                       0\n",
      "Number of nonlinear solver iterations:             0\n",
      "Number of nonlinear solver convergence failures:   0\n",
      "Number of rootfind condition calls:                0\n",
      "Number of accepted steps:                          17\n",
      "Number of rejected steps:                          0"
     ]
    },
    {
     "data": {
      "text/plain": [
       "9-element Array{Any,1}:\n",
       " \"GPU\"\n",
       " \"GPU\"\n",
       " \"GPU\"\n",
       " \"CPU conv\"\n",
       " \"CPU Conv\"\n",
       " \"CPU conv\"\n",
       " \"CPU imfil\"\n",
       " \"CPU imfil\"\n",
       " \"CPU imfil\""
      ]
     },
     "execution_count": 51,
     "metadata": {},
     "output_type": "execute_result"
    }
   ],
   "source": [
    "algg = solvers[3]\n",
    "# for algg in solvers\n",
    "    @. u0 = 0.0f0\n",
    "    try\n",
    "        global algg_ = algg\n",
    "        sol = solve(prob_sc, algg)\n",
    "        push!(alg_, sol.alg)\n",
    "        push!(stats_, sol.destats)\n",
    "        print(sol.destats)\n",
    "        push!(benchm_s, @benchmark solve(prob_sc, algg_))\n",
    "        push!(gpu_, \"CPU imfil\")\n",
    "    catch err\n",
    "        print(err)\n",
    "    end\n",
    "# end"
   ]
  },
  {
   "cell_type": "markdown",
   "metadata": {},
   "source": [
    "# lsoda \n"
   ]
  },
  {
   "cell_type": "code",
   "execution_count": 52,
   "metadata": {},
   "outputs": [],
   "source": [
    "# algg = solvers[4]\n",
    "# # for algg in solvers\n",
    "#     @. u0 = 0.0f0\n",
    "#     try\n",
    "#         global algg_ = algg\n",
    "#         sol = solve(prob_sc, algg)\n",
    "#         push!(alg_, sol.alg)\n",
    "#         push!(stats_, sol.destats)\n",
    "#         print(sol.destats)\n",
    "#         push!(benchm_s, @benchmark solve(prob_sc, algg_))\n",
    "#         push!(gpu_, \"CPU imfil\")\n",
    "#     catch err\n",
    "#         print(err)\n",
    "#     end\n",
    "# # end"
   ]
  },
  {
   "cell_type": "markdown",
   "metadata": {},
   "source": [
    "# vern7 \n"
   ]
  },
  {
   "cell_type": "code",
   "execution_count": 53,
   "metadata": {},
   "outputs": [
    {
     "name": "stdout",
     "output_type": "stream",
     "text": [
      "DiffEqBase.DEStats\n",
      "Number of function 1 evaluations:                  192\n",
      "Number of function 2 evaluations:                  0\n",
      "Number of W matrix evaluations:                    0\n",
      "Number of linear solves:                           0\n",
      "Number of Jacobians created:                       0\n",
      "Number of nonlinear solver iterations:             0\n",
      "Number of nonlinear solver convergence failures:   0\n",
      "Number of rootfind condition calls:                0\n",
      "Number of accepted steps:                          19\n",
      "Number of rejected steps:                          0"
     ]
    },
    {
     "data": {
      "text/plain": [
       "10-element Array{Any,1}:\n",
       " \"GPU\"\n",
       " \"GPU\"\n",
       " \"GPU\"\n",
       " \"CPU conv\"\n",
       " \"CPU Conv\"\n",
       " \"CPU conv\"\n",
       " \"CPU imfil\"\n",
       " \"CPU imfil\"\n",
       " \"CPU imfil\"\n",
       " \"CPU imfil\""
      ]
     },
     "execution_count": 53,
     "metadata": {},
     "output_type": "execute_result"
    }
   ],
   "source": [
    "algg = solvers[5]\n",
    "# for algg in solvers\n",
    "    @. u0 = 0.0f0\n",
    "    try\n",
    "        global algg_ = algg\n",
    "        sol = solve(prob_sc, algg)\n",
    "        push!(alg_, sol.alg)\n",
    "        push!(stats_, sol.destats)\n",
    "        print(sol.destats)\n",
    "        push!(benchm_s, @benchmark solve(prob_sc, algg_))\n",
    "        push!(gpu_, \"CPU imfil\")\n",
    "    catch err\n",
    "        print(err)\n",
    "    end\n",
    "# end"
   ]
  },
  {
   "cell_type": "code",
   "execution_count": 54,
   "metadata": {},
   "outputs": [],
   "source": [
    "# # benchmark plot\n",
    "\n",
    "# # time\n",
    "# fig, ax = plt.subplots()\n",
    "# for ben in enumerate(gpu_)\n",
    "#     ax.scatter(\n",
    "#         string(ben[2], \" \", alg_[ben[1]]),\n",
    "#         median(benchm_s[ben[1]].times) * 1e-9,\n",
    "#         color = Utils.colours[ben[1]],\n",
    "#         edgecolors = \"none\",\n",
    "#     )\n",
    "# end\n",
    "\n",
    "# ax.set_ylabel(\"Time (\\$s\\$)\")\n",
    "# ax.set_ylim(ymin = 0)\n",
    "# ax.grid(true)\n",
    "# fig.tight_layout()\n",
    "# plt.savefig(plotsdir(\n",
    "#     string(\"bench_solver\", batch_),\n",
    "#     string(\"bench_solver_time.png\"),\n",
    "# ))\n",
    "# close(\"all\")\n",
    "\n",
    "\n",
    "\n",
    "\n",
    "# # memory\n",
    "\n",
    "# fig, ax = plt.subplots()\n",
    "# for ben in enumerate(gpu_)\n",
    "#     ax.scatter(\n",
    "#         string(ben[2], \" \", alg_[ben[1]]),\n",
    "#         benchm_s[ben[1]].memory * 1e-6,\n",
    "#         color = Utils.colours[ben[1]],\n",
    "#         edgecolors = \"none\",\n",
    "#     )\n",
    "# end\n",
    "\n",
    "# ax.set_ylabel(\"Memory (\\$MB\\$)\")\n",
    "# ax.set_ylim(ymin = 0)\n",
    "# ax.grid(true)\n",
    "# fig.tight_layout()\n",
    "# plt.savefig(plotsdir(\n",
    "#     string(\"bench_solver\", batch_),\n",
    "#     string(\"bench_solver_mem.png\"),\n",
    "# ))\n",
    "# close(\"all\")\n",
    "\n",
    "\n",
    "# # alloc\n",
    "\n",
    "# fig, ax = plt.subplots()\n",
    "# for ben in enumerate(gpu_)\n",
    "#     ax.scatter(\n",
    "#         string(ben[2], \" \", alg_[ben[1]]),\n",
    "#         benchm_s[ben[1]].allocs,\n",
    "#         color = Utils.colours[ben[1]],\n",
    "#         edgecolors = \"none\",\n",
    "#     )\n",
    "# end\n",
    "\n",
    "# ax.set_ylabel(\"Allocations\")\n",
    "# ax.set_ylim(ymin = 0)\n",
    "# ax.grid(true)\n",
    "# fig.tight_layout()\n",
    "# plt.savefig(plotsdir(\n",
    "#     string(\"bench_solver\", batch_),\n",
    "#     string(\"bench_solver_alloc.png\"),\n",
    "# ))\n",
    "# close(\"all\")\n",
    "\n",
    "\n",
    "# end"
   ]
  },
  {
   "cell_type": "code",
   "execution_count": 70,
   "metadata": {},
   "outputs": [],
   "source": [
    "# benchmark plot\n",
    "\n",
    "# time\n",
    "fig, ax = plt.subplots()\n",
    "for ben in enumerate(gpu_)\n",
    "   aa= ax.scatter(\n",
    "        string(alg_[ben[1]]),\n",
    "        median(benchm_s[ben[1]].times) * 1e-9,\n",
    "        label = string(ben[2]),\n",
    "        color = Utils.colours[1],\n",
    "        edgecolors = \"none\",\n",
    "    )\n",
    "end\n",
    "for ben in enumerate(gpu_[4:6])\n",
    "   bb=ax.scatter(\n",
    "        string(alg_[ben[1]]),\n",
    "        median(benchm_s[ben[1]].times) * 1e-9,\n",
    "#         label = string(ben[2]),\n",
    "        color = Utils.colours[2],\n",
    "        edgecolors = \"none\",\n",
    "    )\n",
    "end\n",
    "for ben in enumerate(gpu_[7:9])\n",
    "  cc= ax.scatter(\n",
    "        string(alg_[ben[1]]),\n",
    "        median(benchm_s[ben[1]].times) * 1e-9,\n",
    "#         label = string(ben[2]),\n",
    "        color = Utils.colours[3],\n",
    "        edgecolors = \"none\",\n",
    "    )\n",
    "end\n",
    "plt.legend((\"GPU\", \"CPU conv\", \"CPU imfilter\"))\n",
    "ax.set_ylabel(\"Time (\\$s\\$)\")\n",
    "ax.set_ylim(ymin = 0)\n",
    "ax.grid(true)\n",
    "fig.tight_layout()\n",
    "plt.savefig(plotsdir(\n",
    "    string(\"bench_solver\", batch_),\n",
    "    string(\"bench_solver_time.png\"),\n",
    "))\n",
    "close(\"all\")\n",
    "\n",
    "\n",
    "\n",
    "\n",
    "# memory\n",
    "\n",
    "fig, ax = plt.subplots()\n",
    "for ben in enumerate(gpu_)\n",
    "    ax.scatter(\n",
    "        string(alg_[ben[1]]),\n",
    "        benchm_s[ben[1]].memory * 1e-6,\n",
    "                label = ben[2],\n",
    "        color = Utils.colours[ben[1]],\n",
    "        edgecolors = \"none\",\n",
    "    )\n",
    "end\n",
    "plt.legend()\n",
    "ax.set_ylabel(\"Memory (\\$MB\\$)\")\n",
    "ax.set_ylim(ymin = 0)\n",
    "ax.grid(true)\n",
    "fig.tight_layout()\n",
    "plt.savefig(plotsdir(\n",
    "    string(\"bench_solver\", batch_),\n",
    "    string(\"bench_solver_mem.png\"),\n",
    "))\n",
    "close(\"all\")\n",
    "\n",
    "\n",
    "# alloc\n",
    "\n",
    "fig, ax = plt.subplots()\n",
    "for ben in enumerate(gpu_)\n",
    "    ax.scatter(\n",
    "        string(alg_[ben[1]]),\n",
    "        benchm_s[ben[1]].allocs,\n",
    "                label = ben[2],\n",
    "        color = Utils.colours[ben[1]],\n",
    "        edgecolors = \"none\",\n",
    "    )\n",
    "end\n",
    "plt.legend()\n",
    "ax.set_ylabel(\"Allocations\")\n",
    "ax.set_ylim(ymin = 0)\n",
    "ax.grid(true)\n",
    "fig.tight_layout()\n",
    "plt.savefig(plotsdir(\n",
    "    string(\"bench_solver\", batch_),\n",
    "    string(\"bench_solver_alloc.png\"),\n",
    "))\n",
    "close(\"all\")\n",
    "\n",
    "\n",
    "# end"
   ]
  },
  {
   "cell_type": "code",
   "execution_count": 80,
   "metadata": {},
   "outputs": [],
   "source": [
    "# benchmark plot\n",
    "\n",
    "# time\n",
    "fig, ax = plt.subplots()\n",
    "\n",
    "    ax.scatter(\n",
    "        string(alg_[1]),\n",
    "        median(benchm_s[1].times) * 1e-9,\n",
    "        label = \"GPU conv\",\n",
    "#         color = Utils.colours[1],\n",
    "        edgecolors = \"none\",\n",
    "    )\n",
    "     ax.scatter(\n",
    "        string(alg_[2]),\n",
    "        median(benchm_s[2].times) * 1e-9,\n",
    "#         label = string(ben[2]),\n",
    "        label = \"GPU conv\",\n",
    "#         color = Utils.colours[1],\n",
    "        edgecolors = \"none\",\n",
    "    )\n",
    "     ax.scatter(\n",
    "        string(alg_[3]),\n",
    "        median(benchm_s[3].times) * 1e-9,\n",
    "#         label = string(ben[2]),\n",
    "        label = \"GPU conv\",\n",
    "#         color = Utils.colours[1],\n",
    "        edgecolors = \"none\",\n",
    "    )\n",
    "    ax.scatter(\n",
    "        string(alg_[4]),\n",
    "        median(benchm_s[4].times) * 1e-9,\n",
    "#         label = string(ben[2]),\n",
    "        label = \"CPU conv\",\n",
    "#         color = Utils.colours[2],\n",
    "        edgecolors = \"none\",\n",
    "    )\n",
    "     ax.scatter(\n",
    "        string(alg_[5]),\n",
    "        median(benchm_s[5].times) * 1e-9,\n",
    "#         label = string(ben[2]),\n",
    "        label = \"CPU conv\",\n",
    "#         color = Utils.colours[2],\n",
    "        edgecolors = \"none\",\n",
    "    )\n",
    "     ax.scatter(\n",
    "        string(alg_[6]),\n",
    "        median(benchm_s[6].times) * 1e-9,\n",
    "#         label = string(ben[2]),\n",
    "        label = \"CPU conv\",\n",
    "#         color = Utils.colours[2],\n",
    "        edgecolors = \"none\",\n",
    "    )\n",
    "    ax.scatter(\n",
    "        string(alg_[7]),\n",
    "        median(benchm_s[7].times) * 1e-9,\n",
    "#         label = string(ben[2]),\n",
    "        label = \"CPU imfilter\",\n",
    "#         color = Utils.colours[3],\n",
    "        edgecolors = \"none\",\n",
    "    )\n",
    "     ax.scatter(\n",
    "        string(alg_[8]),\n",
    "        median(benchm_s[8].times) * 1e-9,\n",
    "#         label = string(ben[2]),\n",
    "        label = \"CPU imfilter\",\n",
    "#         color = Utils.colours[3],\n",
    "        edgecolors = \"none\",\n",
    "    )\n",
    "     ax.scatter(\n",
    "        string(alg_[9]),\n",
    "        median(benchm_s[9].times) * 1e-9,\n",
    "#         label = string(ben[2]),\n",
    "        label = \"CPU imfilter\",\n",
    "#         color = Utils.colours[3],\n",
    "        edgecolors = \"none\",\n",
    "    )\n",
    "plt.legend()\n",
    "ax.set_ylabel(\"Time (\\$s\\$)\")\n",
    "ax.set_ylim(ymin = 0)\n",
    "ax.grid(true)\n",
    "fig.tight_layout()\n",
    "plt.savefig(plotsdir(\n",
    "    string(\"bench_solver\", batch_),\n",
    "    string(\"bench_solver_time.png\"),\n",
    "))\n",
    "close(\"all\")\n",
    "\n",
    "\n",
    "\n",
    "\n",
    "# memory\n",
    "\n",
    "fig, ax = plt.subplots()\n",
    "for ben in enumerate(gpu_)\n",
    "    ax.scatter(\n",
    "        string(alg_[ben[1]]),\n",
    "        benchm_s[ben[1]].memory * 1e-6,\n",
    "                label = ben[2],\n",
    "        color = Utils.colours[ben[1]],\n",
    "        edgecolors = \"none\",\n",
    "    )\n",
    "end\n",
    "plt.legend()\n",
    "ax.set_ylabel(\"Memory (\\$MB\\$)\")\n",
    "ax.set_ylim(ymin = 0)\n",
    "ax.grid(true)\n",
    "fig.tight_layout()\n",
    "plt.savefig(plotsdir(\n",
    "    string(\"bench_solver\", batch_),\n",
    "    string(\"bench_solver_mem.png\"),\n",
    "))\n",
    "close(\"all\")\n",
    "\n",
    "\n",
    "# alloc\n",
    "\n",
    "fig, ax = plt.subplots()\n",
    "for ben in enumerate(gpu_)\n",
    "    ax.scatter(\n",
    "        string(alg_[ben[1]]),\n",
    "        benchm_s[ben[1]].allocs,\n",
    "                label = ben[2],\n",
    "        color = Utils.colours[ben[1]],\n",
    "        edgecolors = \"none\",\n",
    "    )\n",
    "end\n",
    "plt.legend()\n",
    "ax.set_ylabel(\"Allocations\")\n",
    "ax.set_ylim(ymin = 0)\n",
    "ax.grid(true)\n",
    "fig.tight_layout()\n",
    "plt.savefig(plotsdir(\n",
    "    string(\"bench_solver\", batch_),\n",
    "    string(\"bench_solver_alloc.png\"),\n",
    "))\n",
    "close(\"all\")\n",
    "\n",
    "\n",
    "# end"
   ]
  },
  {
   "cell_type": "code",
   "execution_count": 81,
   "metadata": {},
   "outputs": [
    {
     "data": {
      "text/plain": [
       "BenchmarkTools.Trial: \n",
       "  memory estimate:  19.56 MiB\n",
       "  allocs estimate:  405174\n",
       "  --------------\n",
       "  minimum time:     185.406 ms (0.00% GC)\n",
       "  median time:      188.963 ms (0.00% GC)\n",
       "  mean time:        204.786 ms (4.84% GC)\n",
       "  maximum time:     327.762 ms (29.72% GC)\n",
       "  --------------\n",
       "  samples:          25\n",
       "  evals/sample:     1"
      ]
     },
     "execution_count": 81,
     "metadata": {},
     "output_type": "execute_result"
    }
   ],
   "source": [
    "benchm_s[1]"
   ]
  },
  {
   "cell_type": "code",
   "execution_count": 83,
   "metadata": {},
   "outputs": [
    {
     "data": {
      "text/plain": [
       "BenchmarkTools.Trial: \n",
       "  memory estimate:  12.65 MiB\n",
       "  allocs estimate:  264713\n",
       "  --------------\n",
       "  minimum time:     123.473 ms (0.00% GC)\n",
       "  median time:      124.175 ms (0.00% GC)\n",
       "  mean time:        131.947 ms (3.08% GC)\n",
       "  maximum time:     228.434 ms (25.87% GC)\n",
       "  --------------\n",
       "  samples:          38\n",
       "  evals/sample:     1"
      ]
     },
     "execution_count": 83,
     "metadata": {},
     "output_type": "execute_result"
    }
   ],
   "source": [
    "benchm_s[2]"
   ]
  },
  {
   "cell_type": "code",
   "execution_count": 82,
   "metadata": {},
   "outputs": [
    {
     "data": {
      "text/plain": [
       "BenchmarkTools.Trial: \n",
       "  memory estimate:  43.55 MiB\n",
       "  allocs estimate:  896975\n",
       "  --------------\n",
       "  minimum time:     403.622 ms (0.00% GC)\n",
       "  median time:      404.990 ms (0.00% GC)\n",
       "  mean time:        424.405 ms (2.47% GC)\n",
       "  maximum time:     485.025 ms (8.66% GC)\n",
       "  --------------\n",
       "  samples:          12\n",
       "  evals/sample:     1"
      ]
     },
     "execution_count": 82,
     "metadata": {},
     "output_type": "execute_result"
    }
   ],
   "source": [
    "benchm_s[3]"
   ]
  },
  {
   "cell_type": "code",
   "execution_count": 24,
   "metadata": {},
   "outputs": [],
   "source": [
    "# # \"\"\"\n",
    "# # # script bench_solver\n",
    "\n",
    "# # - Julia version: 1.4\n",
    "# # - Author: niallcullinane\n",
    "# # - Date: 2020-08-20\n",
    "\n",
    "\n",
    "# # Script to benchmark GPU and CPU implementions of model.\n",
    "# # # Examples\n",
    "\n",
    "# # ```jldoctest\n",
    "# # julia>\n",
    "# # ```\n",
    "# # \"\"\"\n",
    "\n",
    "# # using DrWatson\n",
    "# # @quickactivate \"MEngProject\"\n",
    "# # using MEngProject,\n",
    "# #     CUDA,\n",
    "# #     DifferentialEquations,\n",
    "# #     PyPlot,\n",
    "# #     NNlib,\n",
    "# #     ImageFiltering,\n",
    "# #     Images,\n",
    "# #     ImageIO,\n",
    "# #     MEngProject.LaminartKernels,\n",
    "# #     MEngProject.LaminartInitFunc,\n",
    "# #     MEngProject.Utils,\n",
    "# #     BenchmarkTools,\n",
    "# #     Test\n",
    "\n",
    "# # using OrdinaryDiffEq,\n",
    "# #     ParameterizedFunctions, LSODA, Sundials, DiffEqDevTools, Noise\n",
    "\n",
    "# batch = 9000\n",
    "\n",
    "\n",
    "# # global benchm_s = []\n",
    "# # global benchm_sname = []\n",
    "# # global alg_ = []\n",
    "# # global stats_ = []\n",
    "# # global gpu_ = []\n",
    "# # let\n",
    "    \n",
    "# global benchm_s = []\n",
    "# global alg_ = []\n",
    "# global stats_ = []\n",
    "# global gpu_ = []\n",
    "\n",
    "\n",
    "# tspan = (0.0f0, 800f0)\n",
    "\n",
    "# batch_ = string(batch, \"_\", rand(1000:9999))\n",
    "# mkdir(plotsdir(string(\"bench_solver\", batch_)))\n",
    "# file = \"kan_sq_cont_l.png\"\n",
    "\n",
    "# solvers = [\n",
    "#             AutoTsit5(Rosenbrock23()),\n",
    "#             Tsit5(),\n",
    "#             BS3(),\n",
    "#             lsoda(),\n",
    "#             Vern7(),\n",
    "#             ]\n",
    "# # alg=lsoda()\n",
    "\n",
    "# # GPU\n",
    "# p = LaminartInitFunc.parameterInit_conv_gpu(\n",
    "#     datadir(\"img\", file),\n",
    "#     Parameters.parameters_f32,\n",
    "# );\n",
    "\n",
    "# u0 = cu(reshape(\n",
    "#     zeros(Float32, p.dim_i, p.dim_j * (5 * p.K + 2)),\n",
    "#     p.dim_i,\n",
    "#     p.dim_j,\n",
    "#     5 * p.K + 2,\n",
    "#     1,\n",
    "# ))\n",
    "\n",
    "# arr1 = similar(@view u0[:, :, 1:2, :])\n",
    "# arr2 = similar(@view u0[:, :, 1:1, :])\n",
    "# f = LaminartFunc.LamFunction(\n",
    "#     arr1, #x\n",
    "#     similar(arr1), #m\n",
    "#     similar(arr1), #s\n",
    "#     arr2, #x_lgn,\n",
    "#     similar(arr1), #C,\n",
    "#     similar(arr1), #H_z,\n",
    "#     similar(arr1), # dy_temp,\n",
    "#     similar(arr1), # dm_temp,\n",
    "#     similar(arr1), # dz_temp,\n",
    "#     similar(arr1), # ds_temp,\n",
    "#     similar(arr2), # dv_temp,\n",
    "#     similar(arr1), # H_z_temp,\n",
    "#     similar(arr2), #  V_temp_1,\n",
    "#     similar(arr2), #  V_temp_2,\n",
    "#     similar(arr1), #  A_temp,\n",
    "#     similar(arr1), #   B_temp\n",
    "# )\n",
    "# global prob_s = ODEProblem(f, u0, tspan, p)\n",
    "\n",
    "# # alg = solvers[1]\n",
    "# for algg in solvers\n",
    "#     @. u0 = 0.0f0\n",
    "#     try\n",
    "#         global algg_ = algg\n",
    "#         sol = solve(prob_s, algg)\n",
    "#         push!(alg_, sol.alg)\n",
    "#         push!(stats_, sol.destats)\n",
    "#         print(sol.destats)\n",
    "#         push!(benchm_s, @benchmark solve(prob_s, algg_))\n",
    "#         push!(gpu_, \"GPU\")\n",
    "#     catch err\n",
    "#         print(err)\n",
    "#     end\n",
    "# end\n",
    "\n",
    "\n",
    "\n",
    "\n",
    "\n",
    "\n",
    "# # CPU conv\n",
    "\n",
    "# p = LaminartInitFunc.parameterInit_imfil_cpu(\n",
    "#     datadir(\"img\", file),\n",
    "#     Parameters.parameters_f32,\n",
    "# );\n",
    "\n",
    "# u0 = reshape(zeros(Float32, p.dim_i, p.dim_j*(5*p.K+2)), p.dim_i, p.dim_j, 5*p.K+2);\n",
    "\n",
    "\n",
    "# arr1 = u0[:, :, 1:p.K]\n",
    "# arr2 = u0[:, :, 1:1];\n",
    "\n",
    "\n",
    "# f = LaminartFunc.LamFunction_imfil_cpu(\n",
    "#  similar(arr2[:,:,1]), #x_lgn,\n",
    "# arr1, #C,\n",
    "# similar(arr1), #H_z,\n",
    "#     similar(arr1), # H_z_temp,\n",
    "#     similar(arr2[:,:,1]), # v_C_temp1,\n",
    "#     similar(arr2[:,:,1]), # v_C_temp2,\n",
    "#     similar(arr1), # v_C_tempA,\n",
    "#     similar(arr1[:,:,1]), #W_temp\n",
    "#     );\n",
    "\n",
    "\n",
    "# global prob_sc = ODEProblem(f, u0, tspan, p)\n",
    "# for algg in solvers\n",
    "#     @. u0 = 0.0f0\n",
    "#     try\n",
    "#         global algg_ = algg\n",
    "#         sol = solve(prob_sc, algg)\n",
    "#         push!(alg_, sol.alg)\n",
    "#         push!(stats_, sol.destats)\n",
    "#         print(sol.destats)\n",
    "#         push!(benchm_s, @benchmark solve(prob_sc, algg_))\n",
    "#         push!(gpu_, \"CPU\")\n",
    "#     catch err\n",
    "#         print(err)\n",
    "#     end\n",
    "# end\n",
    "\n",
    "\n",
    "\n",
    "# # benchmark plot\n",
    "\n",
    "# # time\n",
    "# fig, ax = plt.subplots()\n",
    "# for ben in enumerate(gpu_)\n",
    "#     ax.scatter(\n",
    "#         string(ben[2], \" \", alg_[ben[1]]),\n",
    "#         median(benchm_s[ben[1]].times) * 1e-9,\n",
    "#         color = Utils.colours[ben[1]],\n",
    "#         edgecolors = \"none\",\n",
    "#     )\n",
    "# end\n",
    "\n",
    "# ax.set_ylabel(\"Time (\\$s\\$)\")\n",
    "# ax.set_ylim(ymin = 0)\n",
    "# ax.grid(true)\n",
    "# fig.tight_layout()\n",
    "# plt.savefig(plotsdir(\n",
    "#     string(\"bench_solver\", batch_),\n",
    "#     string(\"bench_solver_time.png\"),\n",
    "# ))\n",
    "# close(\"all\")\n",
    "\n",
    "\n",
    "\n",
    "\n",
    "# # memory\n",
    "\n",
    "# fig, ax = plt.subplots()\n",
    "# for ben in enumerate(gpu_)\n",
    "#     ax.scatter(\n",
    "#         string(ben[2], \" \", alg_[ben[1]]),\n",
    "#         benchm_s[ben[1]].memory * 1e-6,\n",
    "#         color = Utils.colours[ben[1]],\n",
    "#         edgecolors = \"none\",\n",
    "#     )\n",
    "# end\n",
    "\n",
    "# ax.set_ylabel(\"Memory (\\$MB\\$)\")\n",
    "# ax.set_ylim(ymin = 0)\n",
    "# ax.grid(true)\n",
    "# fig.tight_layout()\n",
    "# plt.savefig(plotsdir(\n",
    "#     string(\"bench_solver\", batch_),\n",
    "#     string(\"bench_solver_mem.png\"),\n",
    "# ))\n",
    "# close(\"all\")\n",
    "\n",
    "\n",
    "# # alloc\n",
    "\n",
    "# fig, ax = plt.subplots()\n",
    "# for ben in enumerate(gpu_)\n",
    "#     ax.scatter(\n",
    "#         string(ben[2], \" \", alg_[ben[1]]),\n",
    "#         benchm_s[ben[1]].allocs,\n",
    "#         color = Utils.colours[ben[1]],\n",
    "#         edgecolors = \"none\",\n",
    "#     )\n",
    "# end\n",
    "\n",
    "# ax.set_ylabel(\"Allocations\")\n",
    "# ax.set_ylim(ymin = 0)\n",
    "# ax.grid(true)\n",
    "# fig.tight_layout()\n",
    "# plt.savefig(plotsdir(\n",
    "#     string(\"bench_solver\", batch_),\n",
    "#     string(\"bench_solver_alloc.png\"),\n",
    "# ))\n",
    "# close(\"all\")\n",
    "\n",
    "\n",
    "# # end\n",
    "\n",
    "\n"
   ]
  },
  {
   "cell_type": "markdown",
   "metadata": {},
   "source": [
    "# Tsit vs BS3"
   ]
  },
  {
   "cell_type": "code",
   "execution_count": null,
   "metadata": {},
   "outputs": [],
   "source": []
  },
  {
   "cell_type": "code",
   "execution_count": 25,
   "metadata": {},
   "outputs": [
    {
     "data": {
      "text/plain": [
       "5-element Array{DiffEqBase.AbstractODEAlgorithm,1}:\n",
       " CompositeAlgorithm{Tuple{Tsit5,Rosenbrock23{0,true,DefaultLinSolve,DataType}},AutoSwitch{Tsit5,Rosenbrock23{0,true,DefaultLinSolve,DataType},Rational{Int64},Int64}}((Tsit5(), Rosenbrock23{0,true,DefaultLinSolve,DataType}(DefaultLinSolve(nothing, nothing), Val{:forward})), AutoSwitch{Tsit5,Rosenbrock23{0,true,DefaultLinSolve,DataType},Rational{Int64},Int64}(0, Tsit5(), Rosenbrock23{0,true,DefaultLinSolve,DataType}(DefaultLinSolve(nothing, nothing), Val{:forward}), false, 10, 3, 9//10, 9//10, 2, false))\n",
       " Tsit5()\n",
       " BS3()\n",
       " lsoda()\n",
       " Vern7(true)"
      ]
     },
     "execution_count": 25,
     "metadata": {},
     "output_type": "execute_result"
    }
   ],
   "source": [
    "batch = 9900\n",
    "\n",
    "\n",
    "\n",
    "    \n",
    "global benchm_s = []\n",
    "global alg_ = []\n",
    "global stats_ = []\n",
    "global gpu_ = []\n",
    "\n",
    "\n",
    "tspan = (0.0f0, 800f0)\n",
    "\n",
    "batch_ = string(batch, \"_\", rand(1000:9999))\n",
    "mkdir(plotsdir(string(\"solvercomp\", batch_)))\n",
    "file = \"kan_sq_cont_l.png\"\n",
    "\n",
    "solvers = [\n",
    "            AutoTsit5(Rosenbrock23()),\n",
    "            Tsit5(),\n",
    "            BS3(),\n",
    "            lsoda(),\n",
    "            Vern7(),\n",
    "            ]\n",
    "# alg=lsoda()"
   ]
  },
  {
   "cell_type": "code",
   "execution_count": 26,
   "metadata": {},
   "outputs": [
    {
     "data": {
      "text/plain": [
       "\u001b[36mODEProblem\u001b[0m with uType \u001b[36mCuArray{Float32,4}\u001b[0m and tType \u001b[36mFloat32\u001b[0m. In-place: \u001b[36mtrue\u001b[0m\n",
       "timespan: (0.0f0, 800.0f0)\n",
       "u0: Float32[0.0 0.0 … 0.0 0.0; 0.0 0.0 … 0.0 0.0; … ; 0.0 0.0 … 0.0 0.0; 0.0 0.0 … 0.0 0.0]\n",
       "\n",
       "Float32[0.0 0.0 … 0.0 0.0; 0.0 0.0 … 0.0 0.0; … ; 0.0 0.0 … 0.0 0.0; 0.0 0.0 … 0.0 0.0]\n",
       "\n",
       "Float32[0.0 0.0 … 0.0 0.0; 0.0 0.0 … 0.0 0.0; … ; 0.0 0.0 … 0.0 0.0; 0.0 0.0 … 0.0 0.0]\n",
       "\n",
       "...\n",
       "\n",
       "Float32[0.0 0.0 … 0.0 0.0; 0.0 0.0 … 0.0 0.0; … ; 0.0 0.0 … 0.0 0.0; 0.0 0.0 … 0.0 0.0]\n",
       "\n",
       "Float32[0.0 0.0 … 0.0 0.0; 0.0 0.0 … 0.0 0.0; … ; 0.0 0.0 … 0.0 0.0; 0.0 0.0 … 0.0 0.0]\n",
       "\n",
       "Float32[0.0 0.0 … 0.0 0.0; 0.0 0.0 … 0.0 0.0; … ; 0.0 0.0 … 0.0 0.0; 0.0 0.0 … 0.0 0.0]"
      ]
     },
     "execution_count": 26,
     "metadata": {},
     "output_type": "execute_result"
    }
   ],
   "source": [
    "\n",
    "\n",
    "file = \"kan_sq_cont_l.png\"\n",
    "\n",
    "solvers = [\n",
    "            AutoTsit5(Rosenbrock23()),\n",
    "            Tsit5(),\n",
    "            BS3(),\n",
    "            lsoda(),\n",
    "            Vern7(),\n",
    "            ]\n",
    "# alg=lsoda()\n",
    "\n",
    "# GPU\n",
    "p = LaminartInitFunc.parameterInit_conv_gpu(\n",
    "    datadir(\"img\", file),\n",
    "    Parameters.parameters_f32,\n",
    ");\n",
    "\n",
    "u0 = cu(reshape(\n",
    "    zeros(Float32, p.dim_i, p.dim_j * (5 * p.K + 2)),\n",
    "    p.dim_i,\n",
    "    p.dim_j,\n",
    "    5 * p.K + 2,\n",
    "    1,\n",
    "))\n",
    "\n",
    "arr1 = similar(@view u0[:, :, 1:2, :])\n",
    "arr2 = similar(@view u0[:, :, 1:1, :])\n",
    "f = LaminartFunc.LamFunction(\n",
    "    arr1, #x\n",
    "    similar(arr1), #m\n",
    "    similar(arr1), #s\n",
    "    arr2, #x_lgn,\n",
    "    similar(arr1), #C,\n",
    "    similar(arr1), #H_z,\n",
    "    similar(arr1), # dy_temp,\n",
    "    similar(arr1), # dm_temp,\n",
    "    similar(arr1), # dz_temp,\n",
    "    similar(arr1), # ds_temp,\n",
    "    similar(arr2), # dv_temp,\n",
    "    similar(arr1), # H_z_temp,\n",
    "    similar(arr2), #  V_temp_1,\n",
    "    similar(arr2), #  V_temp_2,\n",
    "    similar(arr1), #  A_temp,\n",
    "    similar(arr1), #   B_temp\n",
    ")\n",
    "global prob_s = ODEProblem(f, u0, tspan, p)"
   ]
  },
  {
   "cell_type": "markdown",
   "metadata": {},
   "source": [
    "# Tsit5(),\n",
    "            "
   ]
  },
  {
   "cell_type": "code",
   "execution_count": 27,
   "metadata": {},
   "outputs": [
    {
     "name": "stdout",
     "output_type": "stream",
     "text": [
      "DiffEqBase.DEStats\n",
      "Number of function 1 evaluations:                  7851\n",
      "Number of function 2 evaluations:                  0\n",
      "Number of W matrix evaluations:                    0\n",
      "Number of linear solves:                           0\n",
      "Number of Jacobians created:                       0\n",
      "Number of nonlinear solver iterations:             0\n",
      "Number of nonlinear solver convergence failures:   0\n",
      "Number of rootfind condition calls:                0\n",
      "Number of accepted steps:                          1303\n",
      "Number of rejected steps:                          5"
     ]
    },
    {
     "data": {
      "text/plain": [
       "1-element Array{Any,1}:\n",
       " \"GPU\""
      ]
     },
     "execution_count": 27,
     "metadata": {},
     "output_type": "execute_result"
    }
   ],
   "source": [
    "algg = solvers[2]\n",
    "# for algg in solvers\n",
    "    @. u0 = 0.0f0\n",
    "#     try\n",
    "        global algg_ = algg\n",
    "        sol = solve(prob_s, algg)\n",
    "        push!(alg_, sol.alg)\n",
    "        push!(stats_, sol.destats)\n",
    "        print(sol.destats)\n",
    "        push!(benchm_s, @benchmark solve(prob_s, algg_))\n",
    "        push!(gpu_, \"GPU\")\n",
    "#     catch err\n",
    "#         print(err)\n",
    "#     end\n",
    "# end"
   ]
  },
  {
   "cell_type": "code",
   "execution_count": 28,
   "metadata": {},
   "outputs": [
    {
     "name": "stderr",
     "output_type": "stream",
     "text": [
      "┌ Warning: Performing scalar operations on GPU arrays: This is very slow, consider disallowing these operations with `allowscalar(false)`\n",
      "└ @ GPUArrays /mnt/storage_1/users/cullinanen/.julia/packages/GPUArrays/eVYIC/src/host/indexing.jl:43\n"
     ]
    }
   ],
   "source": [
    "        # plots\n",
    "        for t ∈ [25, 50, 100, 200, 400, 800]\n",
    "            Utils.plot_k2(sol, t, \"solvercomp\", batch_, \"tsit\")\n",
    "        end\n",
    "\n",
    "\n",
    "        Utils.plot_t_act(sol, \"solvercomp\", batch_, \"tsit\")\n"
   ]
  },
  {
   "cell_type": "code",
   "execution_count": null,
   "metadata": {},
   "outputs": [],
   "source": []
  },
  {
   "cell_type": "markdown",
   "metadata": {},
   "source": [
    "#         BS3(),"
   ]
  },
  {
   "cell_type": "code",
   "execution_count": 29,
   "metadata": {},
   "outputs": [
    {
     "name": "stdout",
     "output_type": "stream",
     "text": [
      "DiffEqBase.DEStats\n",
      "Number of function 1 evaluations:                  4782\n",
      "Number of function 2 evaluations:                  0\n",
      "Number of W matrix evaluations:                    0\n",
      "Number of linear solves:                           0\n",
      "Number of Jacobians created:                       0\n",
      "Number of nonlinear solver iterations:             0\n",
      "Number of nonlinear solver convergence failures:   0\n",
      "Number of rootfind condition calls:                0\n",
      "Number of accepted steps:                          1589\n",
      "Number of rejected steps:                          4"
     ]
    },
    {
     "data": {
      "text/plain": [
       "2-element Array{Any,1}:\n",
       " \"GPU\"\n",
       " \"GPU\""
      ]
     },
     "execution_count": 29,
     "metadata": {},
     "output_type": "execute_result"
    }
   ],
   "source": [
    "algg = solvers[3]\n",
    "# for algg in solvers\n",
    "    @. u0 = 0.0f0\n",
    "#     try\n",
    "        global algg_ = algg\n",
    "        sol = solve(prob_s, algg)\n",
    "        push!(alg_, sol.alg)\n",
    "        push!(stats_, sol.destats)\n",
    "        print(sol.destats)\n",
    "        push!(benchm_s, @benchmark solve(prob_s, algg_))\n",
    "        push!(gpu_, \"GPU\")\n",
    "#     catch err\n",
    "#         print(err)\n",
    "#     end\n",
    "# end"
   ]
  },
  {
   "cell_type": "code",
   "execution_count": 30,
   "metadata": {},
   "outputs": [],
   "source": [
    "        # plots\n",
    "        for t ∈ [25, 50, 100, 200, 400, 800]\n",
    "            Utils.plot_k2(sol, t, \"solvercomp\", batch_, \"bs3\")\n",
    "        end\n",
    "\n",
    "\n",
    "        Utils.plot_t_act(sol, \"solvercomp\", batch_, \"bs3\")"
   ]
  },
  {
   "cell_type": "code",
   "execution_count": 33,
   "metadata": {},
   "outputs": [
    {
     "ename": "BoundsError",
     "evalue": "BoundsError: attempt to access 2-element Array{Any,1} at index [3]",
     "output_type": "error",
     "traceback": [
      "BoundsError: attempt to access 2-element Array{Any,1} at index [3]",
      "",
      "Stacktrace:",
      " [1] getindex(::Array{Any,1}, ::Int64) at ./array.jl:788",
      " [2] top-level scope at In[33]:1"
     ]
    }
   ],
   "source": [
    " alg_[3]"
   ]
  },
  {
   "cell_type": "code",
   "execution_count": null,
   "metadata": {},
   "outputs": [],
   "source": []
  }
 ],
 "metadata": {
  "kernelspec": {
   "display_name": "Julia 1.4.2",
   "language": "julia",
   "name": "julia-1.4"
  },
  "language_info": {
   "file_extension": ".jl",
   "mimetype": "application/julia",
   "name": "julia",
   "version": "1.4.2"
  }
 },
 "nbformat": 4,
 "nbformat_minor": 4
}
