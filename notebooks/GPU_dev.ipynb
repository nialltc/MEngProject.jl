{
 "cells": [
  {
   "cell_type": "code",
   "execution_count": 10,
   "metadata": {},
   "outputs": [],
   "source": [
    "using DrWatson\n",
    "@quickactivate \"MEngProject\"\n",
    "using MEngProject"
   ]
  },
  {
   "cell_type": "code",
   "execution_count": 11,
   "metadata": {},
   "outputs": [],
   "source": [
    "using ModelingToolkit, OrdinaryDiffEq, DifferentialEquations, LinearAlgebra, SparseArrays"
   ]
  },
  {
   "cell_type": "code",
   "execution_count": 12,
   "metadata": {},
   "outputs": [],
   "source": [
    "using CUDA, PyPlot, NNlib,  ImageFiltering, Images, MEngProject, MEngProject.LamKernels, MEngProject.Laminart, MEngProject.Utils, BenchmarkTools, Test"
   ]
  },
  {
   "cell_type": "code",
   "execution_count": 13,
   "metadata": {},
   "outputs": [],
   "source": [
    "using ComputationalResources"
   ]
  },
  {
   "cell_type": "code",
   "execution_count": 15,
   "metadata": {},
   "outputs": [
    {
     "data": {
      "text/plain": [
       "Set{Type} with 2 elements:\n",
       "  CUDALibs\n",
       "  CPU1"
      ]
     },
     "execution_count": 15,
     "metadata": {},
     "output_type": "execute_result"
    }
   ],
   "source": [
    "addresource(CUDALibs)"
   ]
  },
  {
   "cell_type": "code",
   "execution_count": null,
   "metadata": {},
   "outputs": [],
   "source": [
    "# using ArrayFire;\n",
    "# addresource(ArrayFireLibs);"
   ]
  },
  {
   "cell_type": "code",
   "execution_count": null,
   "metadata": {},
   "outputs": [],
   "source": [
    "img = convert(Array{Float32,2}, load(datadir(\"Iine_100_100_gs.png\")));\n",
    "p = Laminart.kernels(img, Parameters.parameters);\n",
    "p = Laminart.add_I_u_p(img, p);"
   ]
  },
  {
   "cell_type": "code",
   "execution_count": null,
   "metadata": {},
   "outputs": [],
   "source": [
    "i_cu = CuArray(img)"
   ]
  },
  {
   "cell_type": "code",
   "execution_count": 42,
   "metadata": {},
   "outputs": [
    {
     "data": {
      "text/plain": [
       "5×5 OffsetArray(::Array{Float32,2}, -2:2, -2:2) with eltype Float32 with indices -2:2×-2:2:\n",
       " 6.96248f-8   2.80886f-5  0.000207549  2.80886f-5  6.96248f-8\n",
       " 2.80886f-5   0.0113318   0.083731     0.0113318   2.80886f-5\n",
       " 0.000207549  0.083731    0.618693     0.083731    0.000207549\n",
       " 2.80886f-5   0.0113318   0.083731     0.0113318   2.80886f-5\n",
       " 6.96248f-8   2.80886f-5  0.000207549  2.80886f-5  6.96248f-8"
      ]
     },
     "execution_count": 42,
     "metadata": {},
     "output_type": "execute_result"
    }
   ],
   "source": [
    "k = Kernel.gaussian(0.5f0)"
   ]
  },
  {
   "cell_type": "code",
   "execution_count": 43,
   "metadata": {},
   "outputs": [
    {
     "data": {
      "text/plain": [
       "5×5 CuArray{Float32,2,Nothing}:\n",
       " 6.96248f-8   2.80886f-5  0.000207549  2.80886f-5  6.96248f-8\n",
       " 2.80886f-5   0.0113318   0.083731     0.0113318   2.80886f-5\n",
       " 0.000207549  0.083731    0.618693     0.083731    0.000207549\n",
       " 2.80886f-5   0.0113318   0.083731     0.0113318   2.80886f-5\n",
       " 6.96248f-8   2.80886f-5  0.000207549  2.80886f-5  6.96248f-8"
      ]
     },
     "execution_count": 43,
     "metadata": {},
     "output_type": "execute_result"
    }
   ],
   "source": [
    "k_cu = CuArray(collect(k))"
   ]
  },
  {
   "cell_type": "code",
   "execution_count": 44,
   "metadata": {},
   "outputs": [
    {
     "data": {
      "text/plain": [
       "5×5 OffsetArray(::CuArray{Float32,2,Nothing}, -2:2, -2:2) with eltype Float32 with indices -2:2×-2:2:\n",
       " 6.96248f-8   2.80886f-5  0.000207549  2.80886f-5  6.96248f-8\n",
       " 2.80886f-5   0.0113318   0.083731     0.0113318   2.80886f-5\n",
       " 0.000207549  0.083731    0.618693     0.083731    0.000207549\n",
       " 2.80886f-5   0.0113318   0.083731     0.0113318   2.80886f-5\n",
       " 6.96248f-8   2.80886f-5  0.000207549  2.80886f-5  6.96248f-8"
      ]
     },
     "execution_count": 44,
     "metadata": {},
     "output_type": "execute_result"
    },
    {
     "name": "stderr",
     "output_type": "stream",
     "text": [
      "┌ Warning: Performing scalar operations on GPU arrays: This is very slow, consider disallowing these operations with `allowscalar(false)`\n",
      "└ @ GPUArrays /mnt/storage_1/users/cullinanen/.julia/packages/GPUArrays/X4SqE/src/host/indexing.jl:43\n"
     ]
    }
   ],
   "source": [
    "k_cu_c = centered(k_cu)"
   ]
  },
  {
   "cell_type": "code",
   "execution_count": null,
   "metadata": {},
   "outputs": [],
   "source": []
  },
  {
   "cell_type": "code",
   "execution_count": 45,
   "metadata": {},
   "outputs": [],
   "source": [
    "o1 = similar(img);\n",
    "o2 = similar(i_cu);\n",
    "o3 = similar(i_cu);\n",
    "o4 = similar(i_cu);\n",
    "o5 = similar(i_cu);"
   ]
  },
  {
   "cell_type": "code",
   "execution_count": 46,
   "metadata": {},
   "outputs": [
    {
     "data": {
      "text/plain": [
       "BenchmarkTools.Trial: \n",
       "  memory estimate:  103.48 KiB\n",
       "  allocs estimate:  48\n",
       "  --------------\n",
       "  minimum time:     327.428 μs (0.00% GC)\n",
       "  median time:      341.870 μs (0.00% GC)\n",
       "  mean time:        347.971 μs (1.61% GC)\n",
       "  maximum time:     6.001 ms (93.20% GC)\n",
       "  --------------\n",
       "  samples:          10000\n",
       "  evals/sample:     1"
      ]
     },
     "execution_count": 46,
     "metadata": {},
     "output_type": "execute_result"
    }
   ],
   "source": [
    "@benchmark o1 = imfilter(img, k, \"circular\")"
   ]
  },
  {
   "cell_type": "code",
   "execution_count": 47,
   "metadata": {},
   "outputs": [
    {
     "data": {
      "text/plain": [
       "BenchmarkTools.Trial: \n",
       "  memory estimate:  8.41 MiB\n",
       "  allocs estimate:  91686\n",
       "  --------------\n",
       "  minimum time:     1.029 s (0.00% GC)\n",
       "  median time:      1.032 s (0.00% GC)\n",
       "  mean time:        1.033 s (0.00% GC)\n",
       "  maximum time:     1.038 s (0.00% GC)\n",
       "  --------------\n",
       "  samples:          5\n",
       "  evals/sample:     1"
      ]
     },
     "execution_count": 47,
     "metadata": {},
     "output_type": "execute_result"
    }
   ],
   "source": [
    "@benchmark o2 = imfilter(i_cu, k, \"circular\")"
   ]
  },
  {
   "cell_type": "code",
   "execution_count": 48,
   "metadata": {},
   "outputs": [
    {
     "name": "stderr",
     "output_type": "stream",
     "text": [
      "┌ Warning: assuming that the origin is at the center of the kernel; to avoid this warning, call `centered(kernel)` or use an OffsetArray\n",
      "│   caller = kernelshift at imfilter.jl:1522 [inlined]\n",
      "└ @ Core /mnt/storage_1/users/cullinanen/.julia/packages/ImageFiltering/LvWYb/src/imfilter.jl:1522\n",
      "┌ Warning: assuming that the origin is at the center of the kernel; to avoid this warning, call `centered(kernel)` or use an OffsetArray\n",
      "│   caller = kernelshift at imfilter.jl:1522 [inlined]\n",
      "└ @ Core /mnt/storage_1/users/cullinanen/.julia/packages/ImageFiltering/LvWYb/src/imfilter.jl:1522\n"
     ]
    },
    {
     "data": {
      "text/plain": [
       "BenchmarkTools.Trial: \n",
       "  memory estimate:  8.44 MiB\n",
       "  allocs estimate:  91887\n",
       "  --------------\n",
       "  minimum time:     1.026 s (0.00% GC)\n",
       "  median time:      1.027 s (0.00% GC)\n",
       "  mean time:        1.028 s (0.00% GC)\n",
       "  maximum time:     1.034 s (0.00% GC)\n",
       "  --------------\n",
       "  samples:          5\n",
       "  evals/sample:     1"
      ]
     },
     "execution_count": 48,
     "metadata": {},
     "output_type": "execute_result"
    }
   ],
   "source": [
    "@benchmark o3 = imfilter(i_cu, k_cu, \"circular\")"
   ]
  },
  {
   "cell_type": "code",
   "execution_count": 49,
   "metadata": {},
   "outputs": [
    {
     "data": {
      "text/plain": [
       "BenchmarkTools.Trial: \n",
       "  memory estimate:  8.41 MiB\n",
       "  allocs estimate:  91711\n",
       "  --------------\n",
       "  minimum time:     1.027 s (0.00% GC)\n",
       "  median time:      1.029 s (0.00% GC)\n",
       "  mean time:        1.030 s (0.00% GC)\n",
       "  maximum time:     1.033 s (0.00% GC)\n",
       "  --------------\n",
       "  samples:          5\n",
       "  evals/sample:     1"
      ]
     },
     "execution_count": 49,
     "metadata": {},
     "output_type": "execute_result"
    }
   ],
   "source": [
    "\n",
    "@benchmark o3 = imfilter(i_cu, k_cu_c, \"circular\")"
   ]
  },
  {
   "cell_type": "code",
   "execution_count": 50,
   "metadata": {},
   "outputs": [
    {
     "data": {
      "text/plain": [
       "BenchmarkTools.Trial: \n",
       "  memory estimate:  8.44 MiB\n",
       "  allocs estimate:  91884\n",
       "  --------------\n",
       "  minimum time:     1.019 s (0.00% GC)\n",
       "  median time:      1.023 s (0.00% GC)\n",
       "  mean time:        1.025 s (0.00% GC)\n",
       "  maximum time:     1.032 s (0.00% GC)\n",
       "  --------------\n",
       "  samples:          5\n",
       "  evals/sample:     1"
      ]
     },
     "execution_count": 50,
     "metadata": {},
     "output_type": "execute_result"
    }
   ],
   "source": [
    "\n",
    "@benchmark imfilter!(o3, i_cu, k_cu, \"circular\")"
   ]
  },
  {
   "cell_type": "code",
   "execution_count": 51,
   "metadata": {},
   "outputs": [
    {
     "data": {
      "text/plain": [
       "BenchmarkTools.Trial: \n",
       "  memory estimate:  8.41 MiB\n",
       "  allocs estimate:  91708\n",
       "  --------------\n",
       "  minimum time:     1.021 s (0.00% GC)\n",
       "  median time:      1.024 s (0.00% GC)\n",
       "  mean time:        1.025 s (0.00% GC)\n",
       "  maximum time:     1.032 s (0.00% GC)\n",
       "  --------------\n",
       "  samples:          5\n",
       "  evals/sample:     1"
      ]
     },
     "execution_count": 51,
     "metadata": {},
     "output_type": "execute_result"
    }
   ],
   "source": [
    "\n",
    "@benchmark imfilter!(o3, i_cu, k_cu_c, \"circular\")"
   ]
  },
  {
   "cell_type": "code",
   "execution_count": 52,
   "metadata": {},
   "outputs": [
    {
     "data": {
      "text/plain": [
       "BenchmarkTools.Trial: \n",
       "  memory estimate:  9.27 MiB\n",
       "  allocs estimate:  101064\n",
       "  --------------\n",
       "  minimum time:     1.080 s (0.00% GC)\n",
       "  median time:      1.086 s (0.00% GC)\n",
       "  mean time:        1.084 s (0.00% GC)\n",
       "  maximum time:     1.087 s (0.00% GC)\n",
       "  --------------\n",
       "  samples:          5\n",
       "  evals/sample:     1"
      ]
     },
     "execution_count": 52,
     "metadata": {},
     "output_type": "execute_result"
    }
   ],
   "source": [
    "\n",
    "@benchmark imfilter!(o3, i_cu, k_cu, Fill(0)) "
   ]
  },
  {
   "cell_type": "code",
   "execution_count": 53,
   "metadata": {},
   "outputs": [
    {
     "data": {
      "text/plain": [
       "BenchmarkTools.Trial: \n",
       "  memory estimate:  14.13 MiB\n",
       "  allocs estimate:  154305\n",
       "  --------------\n",
       "  minimum time:     1.707 s (0.00% GC)\n",
       "  median time:      1.707 s (0.00% GC)\n",
       "  mean time:        1.709 s (0.00% GC)\n",
       "  maximum time:     1.712 s (0.00% GC)\n",
       "  --------------\n",
       "  samples:          3\n",
       "  evals/sample:     1"
      ]
     },
     "execution_count": 53,
     "metadata": {},
     "output_type": "execute_result"
    }
   ],
   "source": [
    "@benchmark imfilter!(CUDALibs(Algorithm.FFT()),o3, i_cu, k_cu, Fill(0)) "
   ]
  },
  {
   "cell_type": "code",
   "execution_count": 54,
   "metadata": {},
   "outputs": [
    {
     "data": {
      "text/plain": [
       "BenchmarkTools.Trial: \n",
       "  memory estimate:  14.06 MiB\n",
       "  allocs estimate:  153449\n",
       "  --------------\n",
       "  minimum time:     1.701 s (0.00% GC)\n",
       "  median time:      1.701 s (0.00% GC)\n",
       "  mean time:        1.701 s (0.00% GC)\n",
       "  maximum time:     1.702 s (0.00% GC)\n",
       "  --------------\n",
       "  samples:          3\n",
       "  evals/sample:     1"
      ]
     },
     "execution_count": 54,
     "metadata": {},
     "output_type": "execute_result"
    }
   ],
   "source": [
    "\n",
    "@benchmark imfilter!(CUDALibs(Algorithm.FIR()),o3, i_cu, k_cu, Fill(0)) "
   ]
  },
  {
   "cell_type": "code",
   "execution_count": 55,
   "metadata": {},
   "outputs": [
    {
     "data": {
      "text/plain": [
       "BenchmarkTools.Trial: \n",
       "  memory estimate:  14.06 MiB\n",
       "  allocs estimate:  153449\n",
       "  --------------\n",
       "  minimum time:     1.700 s (0.00% GC)\n",
       "  median time:      1.724 s (0.00% GC)\n",
       "  mean time:        1.716 s (0.00% GC)\n",
       "  maximum time:     1.725 s (0.00% GC)\n",
       "  --------------\n",
       "  samples:          3\n",
       "  evals/sample:     1"
      ]
     },
     "execution_count": 55,
     "metadata": {},
     "output_type": "execute_result"
    }
   ],
   "source": [
    "\n",
    "@benchmark imfilter!(CUDALibs(Algorithm.IIR()),o3, i_cu, k_cu, Fill(0)) "
   ]
  },
  {
   "cell_type": "code",
   "execution_count": 70,
   "metadata": {},
   "outputs": [
    {
     "data": {
      "text/plain": [
       "BenchmarkTools.Trial: \n",
       "  memory estimate:  14.11 MiB\n",
       "  allocs estimate:  154127\n",
       "  --------------\n",
       "  minimum time:     1.708 s (0.00% GC)\n",
       "  median time:      1.709 s (0.00% GC)\n",
       "  mean time:        1.709 s (0.00% GC)\n",
       "  maximum time:     1.711 s (0.00% GC)\n",
       "  --------------\n",
       "  samples:          3\n",
       "  evals/sample:     1"
      ]
     },
     "execution_count": 70,
     "metadata": {},
     "output_type": "execute_result"
    }
   ],
   "source": [
    "\n",
    "@benchmark imfilter!(CUDALibs(Algorithm.FFT()),o3, i_cu, k_cu_c, Fill(0.0f0)) "
   ]
  },
  {
   "cell_type": "code",
   "execution_count": 41,
   "metadata": {},
   "outputs": [],
   "source": [
    "CUDA.allowscalar(true)\n",
    "# CUDA.allowscalar(false)"
   ]
  },
  {
   "cell_type": "code",
   "execution_count": null,
   "metadata": {},
   "outputs": [],
   "source": []
  },
  {
   "cell_type": "code",
   "execution_count": 56,
   "metadata": {},
   "outputs": [
    {
     "data": {
      "text/plain": [
       "BenchmarkTools.Trial: \n",
       "  memory estimate:  1.01 MiB\n",
       "  allocs estimate:  10034\n",
       "  --------------\n",
       "  minimum time:     72.395 ms (0.00% GC)\n",
       "  median time:      73.971 ms (0.00% GC)\n",
       "  mean time:        74.000 ms (0.00% GC)\n",
       "  maximum time:     75.568 ms (0.00% GC)\n",
       "  --------------\n",
       "  samples:          68\n",
       "  evals/sample:     1"
      ]
     },
     "execution_count": 56,
     "metadata": {},
     "output_type": "execute_result"
    }
   ],
   "source": [
    "@benchmark imfilter!(CUDALibs(Algorithm.FFT()),o3, img, k, Fill(0)) "
   ]
  },
  {
   "cell_type": "code",
   "execution_count": 57,
   "metadata": {},
   "outputs": [
    {
     "data": {
      "text/plain": [
       "BenchmarkTools.Trial: \n",
       "  memory estimate:  95.33 KiB\n",
       "  allocs estimate:  34\n",
       "  --------------\n",
       "  minimum time:     340.993 μs (0.00% GC)\n",
       "  median time:      347.454 μs (0.00% GC)\n",
       "  mean time:        353.416 μs (1.41% GC)\n",
       "  maximum time:     5.949 ms (93.16% GC)\n",
       "  --------------\n",
       "  samples:          10000\n",
       "  evals/sample:     1"
      ]
     },
     "execution_count": 57,
     "metadata": {},
     "output_type": "execute_result"
    }
   ],
   "source": [
    "\n",
    "@benchmark imfilter!(CUDALibs(Algorithm.FFT()),o1, img, k, Fill(0)) \n"
   ]
  },
  {
   "cell_type": "code",
   "execution_count": 59,
   "metadata": {},
   "outputs": [
    {
     "data": {
      "text/plain": [
       "BenchmarkTools.Trial: \n",
       "  memory estimate:  62.25 KiB\n",
       "  allocs estimate:  39\n",
       "  --------------\n",
       "  minimum time:     359.936 μs (0.00% GC)\n",
       "  median time:      375.247 μs (0.00% GC)\n",
       "  mean time:        379.589 μs (0.97% GC)\n",
       "  maximum time:     6.543 ms (93.86% GC)\n",
       "  --------------\n",
       "  samples:          10000\n",
       "  evals/sample:     1"
      ]
     },
     "execution_count": 59,
     "metadata": {},
     "output_type": "execute_result"
    }
   ],
   "source": [
    "@benchmark imfilter!(o1, img, k, Fill(0)) "
   ]
  },
  {
   "cell_type": "code",
   "execution_count": 60,
   "metadata": {},
   "outputs": [
    {
     "data": {
      "text/plain": [
       "BenchmarkTools.Trial: \n",
       "  memory estimate:  97.42 KiB\n",
       "  allocs estimate:  41\n",
       "  --------------\n",
       "  minimum time:     306.355 μs (0.00% GC)\n",
       "  median time:      308.568 μs (0.00% GC)\n",
       "  mean time:        314.353 μs (1.58% GC)\n",
       "  maximum time:     5.919 ms (93.46% GC)\n",
       "  --------------\n",
       "  samples:          10000\n",
       "  evals/sample:     1"
      ]
     },
     "execution_count": 60,
     "metadata": {},
     "output_type": "execute_result"
    }
   ],
   "source": [
    "@benchmark imfilter!(CUDALibs(Algorithm.FFT()),o1, img, k, \"circular\") "
   ]
  },
  {
   "cell_type": "code",
   "execution_count": 61,
   "metadata": {},
   "outputs": [
    {
     "data": {
      "text/plain": [
       "BenchmarkTools.Trial: \n",
       "  memory estimate:  90.17 KiB\n",
       "  allocs estimate:  33\n",
       "  --------------\n",
       "  minimum time:     303.240 μs (0.00% GC)\n",
       "  median time:      306.654 μs (0.00% GC)\n",
       "  mean time:        311.427 μs (1.40% GC)\n",
       "  maximum time:     5.792 ms (94.10% GC)\n",
       "  --------------\n",
       "  samples:          10000\n",
       "  evals/sample:     1"
      ]
     },
     "execution_count": 61,
     "metadata": {},
     "output_type": "execute_result"
    }
   ],
   "source": [
    "\n",
    "@benchmark imfilter!(CUDALibs(Algorithm.IIR()),o1, img, k, \"circular\") "
   ]
  },
  {
   "cell_type": "code",
   "execution_count": 63,
   "metadata": {},
   "outputs": [
    {
     "data": {
      "text/plain": [
       "BenchmarkTools.Trial: \n",
       "  memory estimate:  90.17 KiB\n",
       "  allocs estimate:  33\n",
       "  --------------\n",
       "  minimum time:     303.259 μs (0.00% GC)\n",
       "  median time:      307.034 μs (0.00% GC)\n",
       "  mean time:        312.344 μs (1.42% GC)\n",
       "  maximum time:     6.321 ms (95.04% GC)\n",
       "  --------------\n",
       "  samples:          10000\n",
       "  evals/sample:     1"
      ]
     },
     "execution_count": 63,
     "metadata": {},
     "output_type": "execute_result"
    }
   ],
   "source": [
    "@benchmark imfilter!(CUDALibs(Algorithm.FIR()),o1, img, k, \"circular\") "
   ]
  },
  {
   "cell_type": "code",
   "execution_count": null,
   "metadata": {},
   "outputs": [],
   "source": []
  },
  {
   "cell_type": "code",
   "execution_count": null,
   "metadata": {},
   "outputs": [],
   "source": []
  },
  {
   "cell_type": "code",
   "execution_count": 64,
   "metadata": {},
   "outputs": [
    {
     "name": "stdout",
     "output_type": "stream",
     "text": [
      "ArrayFire v3.5.1 (CUDA, 64-bit Linux, build 0a675e8)\n",
      "Platform: CUDA Toolkit 8, Driver: 384.130\n",
      "[0] Tesla K40c, 11440 MB, CUDA Compute 3.5\n"
     ]
    }
   ],
   "source": [
    "using ArrayFire;\n",
    "addresource(ArrayFireLibs);"
   ]
  },
  {
   "cell_type": "code",
   "execution_count": 65,
   "metadata": {},
   "outputs": [
    {
     "data": {
      "text/plain": [
       "BenchmarkTools.Trial: \n",
       "  memory estimate:  90.17 KiB\n",
       "  allocs estimate:  33\n",
       "  --------------\n",
       "  minimum time:     304.044 μs (0.00% GC)\n",
       "  median time:      307.445 μs (0.00% GC)\n",
       "  mean time:        312.879 μs (1.45% GC)\n",
       "  maximum time:     6.132 ms (93.90% GC)\n",
       "  --------------\n",
       "  samples:          10000\n",
       "  evals/sample:     1"
      ]
     },
     "execution_count": 65,
     "metadata": {},
     "output_type": "execute_result"
    }
   ],
   "source": [
    "@benchmark imfilter!(ArrayFireLibs(Algorithm.FIR()),o1, img, k, \"circular\") "
   ]
  },
  {
   "cell_type": "code",
   "execution_count": 66,
   "metadata": {},
   "outputs": [
    {
     "data": {
      "text/plain": [
       "BenchmarkTools.Trial: \n",
       "  memory estimate:  90.17 KiB\n",
       "  allocs estimate:  33\n",
       "  --------------\n",
       "  minimum time:     303.343 μs (0.00% GC)\n",
       "  median time:      306.911 μs (0.00% GC)\n",
       "  mean time:        314.256 μs (1.71% GC)\n",
       "  maximum time:     14.195 ms (97.41% GC)\n",
       "  --------------\n",
       "  samples:          10000\n",
       "  evals/sample:     1"
      ]
     },
     "execution_count": 66,
     "metadata": {},
     "output_type": "execute_result"
    }
   ],
   "source": [
    "\n",
    "@benchmark imfilter!(ArrayFireLibs(Algorithm.IIR()),o1, img, k, \"circular\") "
   ]
  },
  {
   "cell_type": "code",
   "execution_count": 67,
   "metadata": {},
   "outputs": [
    {
     "data": {
      "text/plain": [
       "BenchmarkTools.Trial: \n",
       "  memory estimate:  97.42 KiB\n",
       "  allocs estimate:  41\n",
       "  --------------\n",
       "  minimum time:     325.357 μs (0.00% GC)\n",
       "  median time:      331.160 μs (0.00% GC)\n",
       "  mean time:        339.298 μs (1.78% GC)\n",
       "  maximum time:     14.923 ms (97.35% GC)\n",
       "  --------------\n",
       "  samples:          10000\n",
       "  evals/sample:     1"
      ]
     },
     "execution_count": 67,
     "metadata": {},
     "output_type": "execute_result"
    }
   ],
   "source": [
    "\n",
    "@benchmark imfilter!(ArrayFireLibs(Algorithm.FFT()),o1, img, k, \"circular\") "
   ]
  },
  {
   "cell_type": "code",
   "execution_count": 68,
   "metadata": {},
   "outputs": [
    {
     "data": {
      "text/plain": [
       "BenchmarkTools.Trial: \n",
       "  memory estimate:  95.33 KiB\n",
       "  allocs estimate:  34\n",
       "  --------------\n",
       "  minimum time:     338.313 μs (0.00% GC)\n",
       "  median time:      343.034 μs (0.00% GC)\n",
       "  mean time:        350.778 μs (1.43% GC)\n",
       "  maximum time:     11.104 ms (96.45% GC)\n",
       "  --------------\n",
       "  samples:          10000\n",
       "  evals/sample:     1"
      ]
     },
     "execution_count": 68,
     "metadata": {},
     "output_type": "execute_result"
    }
   ],
   "source": [
    "@benchmark imfilter!(ArrayFireLibs(Algorithm.FFT()),o1, img, k, Fill(0.0f0)) "
   ]
  },
  {
   "cell_type": "code",
   "execution_count": null,
   "metadata": {},
   "outputs": [],
   "source": []
  },
  {
   "cell_type": "code",
   "execution_count": null,
   "metadata": {},
   "outputs": [],
   "source": []
  },
  {
   "cell_type": "code",
   "execution_count": 73,
   "metadata": {},
   "outputs": [
    {
     "data": {
      "text/plain": [
       "(5, 5)"
      ]
     },
     "execution_count": 73,
     "metadata": {},
     "output_type": "execute_result"
    }
   ],
   "source": [
    "size(k)"
   ]
  },
  {
   "cell_type": "code",
   "execution_count": 83,
   "metadata": {},
   "outputs": [],
   "source": [
    "i_con = reshape(img, size(img)[1], size(img)[2],1,1);\n",
    "k_con = reshape(k,size(k)[1], size(k)[2],1,1);\n",
    "o_con = similar(i_con);"
   ]
  },
  {
   "cell_type": "code",
   "execution_count": 91,
   "metadata": {},
   "outputs": [],
   "source": [
    "i_cu_co = reshape(i_cu, size(i_cu)[1], size(i_cu)[2],1,1);\n",
    "k_cu_co = reshape(k_cu,size(k_cu)[1], size(k_cu)[2],1,1);\n",
    "o_cu_co = similar(i_cu_co);"
   ]
  },
  {
   "cell_type": "code",
   "execution_count": 94,
   "metadata": {},
   "outputs": [
    {
     "data": {
      "text/plain": [
       "BenchmarkTools.Trial: \n",
       "  memory estimate:  1018.97 KiB\n",
       "  allocs estimate:  57\n",
       "  --------------\n",
       "  minimum time:     601.087 μs (0.00% GC)\n",
       "  median time:      662.264 μs (0.00% GC)\n",
       "  mean time:        722.104 μs (7.30% GC)\n",
       "  maximum time:     14.742 ms (95.28% GC)\n",
       "  --------------\n",
       "  samples:          6888\n",
       "  evals/sample:     1"
      ]
     },
     "execution_count": 94,
     "metadata": {},
     "output_type": "execute_result"
    }
   ],
   "source": [
    "@benchmark o_con = NNlib.conv(i_con, k_con, pad=2)"
   ]
  },
  {
   "cell_type": "code",
   "execution_count": 90,
   "metadata": {},
   "outputs": [
    {
     "ename": "MethodError",
     "evalue": "MethodError: no method matching conv!(::Array{Float32,4}, ::Array{Float32,4}, ::Array{Float32,4}; pad=2)\nClosest candidates are:\n  conv!(::AbstractArray{yT,4}, ::AbstractArray{xT,4}, ::AbstractArray{wT,4}, !Matched::ConvDims; kwargs...) where {yT, xT, wT} at /mnt/storage_1/users/cullinanen/.julia/packages/NNlib/sSn9M/src/conv.jl:148\n  conv!(::AbstractArray{yT,N}, ::AbstractArray{T1,N}, ::AbstractArray{T2,N}, !Matched::ConvDims; kwargs...) where {yT, T1, T2, N} at /mnt/storage_1/users/cullinanen/.julia/packages/NNlib/sSn9M/src/conv.jl:206",
     "output_type": "error",
     "traceback": [
      "MethodError: no method matching conv!(::Array{Float32,4}, ::Array{Float32,4}, ::Array{Float32,4}; pad=2)\nClosest candidates are:\n  conv!(::AbstractArray{yT,4}, ::AbstractArray{xT,4}, ::AbstractArray{wT,4}, !Matched::ConvDims; kwargs...) where {yT, xT, wT} at /mnt/storage_1/users/cullinanen/.julia/packages/NNlib/sSn9M/src/conv.jl:148\n  conv!(::AbstractArray{yT,N}, ::AbstractArray{T1,N}, ::AbstractArray{T2,N}, !Matched::ConvDims; kwargs...) where {yT, T1, T2, N} at /mnt/storage_1/users/cullinanen/.julia/packages/NNlib/sSn9M/src/conv.jl:206",
      "",
      "Stacktrace:",
      " [1] ##core#709() at /mnt/storage_1/users/cullinanen/.julia/packages/BenchmarkTools/eCEpo/src/execution.jl:371",
      " [2] ##sample#710(::BenchmarkTools.Parameters) at /mnt/storage_1/users/cullinanen/.julia/packages/BenchmarkTools/eCEpo/src/execution.jl:377",
      " [3] _run(::BenchmarkTools.Benchmark{Symbol(\"##benchmark#708\")}, ::BenchmarkTools.Parameters; verbose::Bool, pad::String, kwargs::Base.Iterators.Pairs{Symbol,Integer,NTuple{4,Symbol},NamedTuple{(:samples, :evals, :gctrial, :gcsample),Tuple{Int64,Int64,Bool,Bool}}}) at /mnt/storage_1/users/cullinanen/.julia/packages/BenchmarkTools/eCEpo/src/execution.jl:405",
      " [4] (::Base.var\"#inner#2\"{Base.Iterators.Pairs{Symbol,Integer,NTuple{5,Symbol},NamedTuple{(:verbose, :samples, :evals, :gctrial, :gcsample),Tuple{Bool,Int64,Int64,Bool,Bool}}},typeof(BenchmarkTools._run),Tuple{BenchmarkTools.Benchmark{Symbol(\"##benchmark#708\")},BenchmarkTools.Parameters}})() at ./essentials.jl:715",
      " [5] #invokelatest#1 at ./essentials.jl:716 [inlined]",
      " [6] #run_result#37 at /mnt/storage_1/users/cullinanen/.julia/packages/BenchmarkTools/eCEpo/src/execution.jl:32 [inlined]",
      " [7] run(::BenchmarkTools.Benchmark{Symbol(\"##benchmark#708\")}, ::BenchmarkTools.Parameters; progressid::Nothing, nleaves::Float64, ndone::Float64, kwargs::Base.Iterators.Pairs{Symbol,Integer,NTuple{5,Symbol},NamedTuple{(:verbose, :samples, :evals, :gctrial, :gcsample),Tuple{Bool,Int64,Int64,Bool,Bool}}}) at /mnt/storage_1/users/cullinanen/.julia/packages/BenchmarkTools/eCEpo/src/execution.jl:94",
      " [8] #warmup#45 at /mnt/storage_1/users/cullinanen/.julia/packages/BenchmarkTools/eCEpo/src/execution.jl:141 [inlined]",
      " [9] warmup(::BenchmarkTools.Benchmark{Symbol(\"##benchmark#708\")}) at /mnt/storage_1/users/cullinanen/.julia/packages/BenchmarkTools/eCEpo/src/execution.jl:141",
      " [10] top-level scope at /mnt/storage_1/users/cullinanen/.julia/packages/BenchmarkTools/eCEpo/src/execution.jl:287",
      " [11] top-level scope at In[90]:1"
     ]
    }
   ],
   "source": [
    "\n",
    "@benchmark  NNlib.conv!(o_con, i_con, k_con, pad=2)"
   ]
  },
  {
   "cell_type": "code",
   "execution_count": 86,
   "metadata": {},
   "outputs": [
    {
     "data": {
      "text/plain": [
       "(100, 100, 1, 1)"
      ]
     },
     "execution_count": 86,
     "metadata": {},
     "output_type": "execute_result"
    }
   ],
   "source": [
    "o_con_ = NNlib.conv(i_con, k_con, pad=2);\n",
    "size(o_con_)"
   ]
  },
  {
   "cell_type": "code",
   "execution_count": 87,
   "metadata": {},
   "outputs": [
    {
     "data": {
      "text/plain": [
       "(100, 100, 1, 1)"
      ]
     },
     "execution_count": 87,
     "metadata": {},
     "output_type": "execute_result"
    }
   ],
   "source": [
    "size(o_con)"
   ]
  },
  {
   "cell_type": "code",
   "execution_count": 92,
   "metadata": {},
   "outputs": [
    {
     "data": {
      "text/plain": [
       "BenchmarkTools.Trial: \n",
       "  memory estimate:  6.78 KiB\n",
       "  allocs estimate:  155\n",
       "  --------------\n",
       "  minimum time:     55.692 μs (0.00% GC)\n",
       "  median time:      63.603 μs (0.00% GC)\n",
       "  mean time:        62.694 μs (0.00% GC)\n",
       "  maximum time:     577.258 μs (0.00% GC)\n",
       "  --------------\n",
       "  samples:          10000\n",
       "  evals/sample:     1"
      ]
     },
     "execution_count": 92,
     "metadata": {},
     "output_type": "execute_result"
    }
   ],
   "source": [
    "@benchmark o_cu_co = NNlib.conv(i_cu_co, k_cu_co, pad=2)"
   ]
  },
  {
   "cell_type": "code",
   "execution_count": 99,
   "metadata": {},
   "outputs": [
    {
     "data": {
      "image/png": "[encoded data removed]",
      "text/plain": [
       "Figure(PyObject <Figure size 640x480 with 1 Axes>)"
      ]
     },
     "metadata": {},
     "output_type": "display_data"
    }
   ],
   "source": [
    "Utils.plot_rb(o_cu_co[:,:,1,1], save=false)"
   ]
  },
  {
   "cell_type": "code",
   "execution_count": 98,
   "metadata": {},
   "outputs": [
    {
     "ename": "ArgumentError",
     "evalue": "ArgumentError: Image has max 231.72046,outside range",
     "output_type": "error",
     "traceback": [
      "ArgumentError: Image has max 231.72046,outside range",
      "",
      "Stacktrace:",
      " [1] plot_rb(::Array{Float32,2}; name::String, save::Bool, axMin::Int64, axMax::Int64, clbar::Bool, loc::String, filetype::String) at /mnt/storage_1/users/cullinanen/.julia/dev/MEngProject.jl/src/Utils.jl:22",
      " [2] top-level scope at In[98]:1"
     ]
    }
   ],
   "source": [
    "Utils.plot_rb(o_con[:,:,1,1], save=false)"
   ]
  },
  {
   "cell_type": "code",
   "execution_count": 101,
   "metadata": {},
   "outputs": [
    {
     "data": {
      "image/png": "[encoded data removed]",
      "text/plain": [
       "Figure(PyObject <Figure size 640x480 with 1 Axes>)"
      ]
     },
     "metadata": {},
     "output_type": "display_data"
    }
   ],
   "source": [
    "o_con_f = similar(i_con)\n",
    "o_con_f = NNlib.conv(i_con, reflect(k_con), pad=2);\n",
    "Utils.plot_rb(o_con_f[:,:,1,1], save=false)"
   ]
  },
  {
   "cell_type": "code",
   "execution_count": 104,
   "metadata": {},
   "outputs": [
    {
     "data": {
      "image/png": "[encoded data removed]",
      "text/plain": [
       "Figure(PyObject <Figure size 640x480 with 1 Axes>)"
      ]
     },
     "metadata": {},
     "output_type": "display_data"
    }
   ],
   "source": [
    "Utils.plot_rb(o1, axMax = 1.0001, save=false)"
   ]
  },
  {
   "cell_type": "code",
   "execution_count": 115,
   "metadata": {},
   "outputs": [
    {
     "data": {
      "text/plain": [
       "true"
      ]
     },
     "execution_count": 115,
     "metadata": {},
     "output_type": "execute_result"
    }
   ],
   "source": [
    "o1 ≈ o_con_f[:,:,1,1]"
   ]
  },
  {
   "cell_type": "code",
   "execution_count": 110,
   "metadata": {},
   "outputs": [
    {
     "data": {
      "text/plain": [
       "(7.1525574f-7, CartesianIndex(33, 51, 1, 1))"
      ]
     },
     "execution_count": 110,
     "metadata": {},
     "output_type": "execute_result"
    }
   ],
   "source": [
    "findmax(abs.(o1.-o_con_f))"
   ]
  },
  {
   "cell_type": "code",
   "execution_count": 111,
   "metadata": {},
   "outputs": [],
   "source": [
    "o_con_fl = NNlib.conv(i_con, k_con, pad=2, flipped=true);"
   ]
  },
  {
   "cell_type": "code",
   "execution_count": 114,
   "metadata": {},
   "outputs": [
    {
     "data": {
      "image/png": "[encoded data removed]",
      "text/plain": [
       "Figure(PyObject <Figure size 640x480 with 1 Axes>)"
      ]
     },
     "metadata": {},
     "output_type": "display_data"
    }
   ],
   "source": [
    "Utils.plot_rb(o_con_fl[:,:,1,1], save=false)"
   ]
  },
  {
   "cell_type": "code",
   "execution_count": 116,
   "metadata": {},
   "outputs": [
    {
     "data": {
      "text/plain": [
       "true"
      ]
     },
     "execution_count": 116,
     "metadata": {},
     "output_type": "execute_result"
    }
   ],
   "source": [
    "o1 ≈ o_con_fl[:,:,1,1]"
   ]
  },
  {
   "cell_type": "code",
   "execution_count": 117,
   "metadata": {},
   "outputs": [
    {
     "data": {
      "text/plain": [
       "3"
      ]
     },
     "execution_count": 117,
     "metadata": {},
     "output_type": "execute_result"
    }
   ],
   "source": [
    "7>>1"
   ]
  },
  {
   "cell_type": "code",
   "execution_count": 118,
   "metadata": {},
   "outputs": [
    {
     "data": {
      "text/plain": [
       "9"
      ]
     },
     "execution_count": 118,
     "metadata": {},
     "output_type": "execute_result"
    }
   ],
   "source": [
    "19>>1"
   ]
  },
  {
   "cell_type": "code",
   "execution_count": 119,
   "metadata": {},
   "outputs": [],
   "source": [
    "o_con_fl = NNlib.conv(i_con, k_con, pad=(size(k_con)[1]>>1, size(k_con)[2]>>1), flipped=true);"
   ]
  },
  {
   "cell_type": "code",
   "execution_count": 152,
   "metadata": {},
   "outputs": [
    {
     "data": {
      "text/plain": [
       "reshape2d_4d (generic function with 1 method)"
      ]
     },
     "execution_count": 152,
     "metadata": {},
     "output_type": "execute_result"
    }
   ],
   "source": [
    "function reshape2d_4d(out::AbstractArray, img::AbstractArray, p::NamedTuple)\n",
    "    out = reshape(img, size(img)[1], size(img)[2], 1, 1)\n",
    "end"
   ]
  },
  {
   "cell_type": "code",
   "execution_count": 135,
   "metadata": {},
   "outputs": [],
   "source": [
    "i_4d = reshape(img,100,100,1,1)\n",
    "reshape2d_4d!(i_4d, img, p);"
   ]
  },
  {
   "cell_type": "code",
   "execution_count": 139,
   "metadata": {},
   "outputs": [],
   "source": [
    "out = similar(i_4d);"
   ]
  },
  {
   "cell_type": "code",
   "execution_count": 140,
   "metadata": {},
   "outputs": [
    {
     "data": {
      "text/plain": [
       "BenchmarkTools.Trial: \n",
       "  memory estimate:  128 bytes\n",
       "  allocs estimate:  2\n",
       "  --------------\n",
       "  minimum time:     126.851 ns (0.00% GC)\n",
       "  median time:      136.686 ns (0.00% GC)\n",
       "  mean time:        165.037 ns (13.32% GC)\n",
       "  maximum time:     30.922 μs (99.41% GC)\n",
       "  --------------\n",
       "  samples:          10000\n",
       "  evals/sample:     893"
      ]
     },
     "execution_count": 140,
     "metadata": {},
     "output_type": "execute_result"
    }
   ],
   "source": [
    "@benchmark reshape4d_ij11!(out, img, p)"
   ]
  },
  {
   "cell_type": "code",
   "execution_count": 149,
   "metadata": {},
   "outputs": [
    {
     "data": {
      "text/plain": [
       "conv! (generic function with 1 method)"
      ]
     },
     "execution_count": 149,
     "metadata": {},
     "output_type": "execute_result"
    }
   ],
   "source": [
    "function conv!(out::AbstractArray, img::AbstractArray, kern::AbstractArray, p::NamedTuple)\n",
    "    out = NNlib.conv(img, kern, pad=(size(kern)[1]>>1, size(kern)[2]>>1), flipped=true)\n",
    "    return nothing\n",
    "end"
   ]
  },
  {
   "cell_type": "code",
   "execution_count": 161,
   "metadata": {},
   "outputs": [
    {
     "data": {
      "text/plain": [
       "conva! (generic function with 1 method)"
      ]
     },
     "execution_count": 161,
     "metadata": {},
     "output_type": "execute_result"
    }
   ],
   "source": [
    "function conva!(out::AbstractArray, img::AbstractArray, kern::AbstractArray, p::NamedTuple)\n",
    "    out = NNlib.conv(reshape2d_4d(out, img,p), kern, pad=(size(kern)[1]>>1, size(kern)[2]>>1), flipped=true)\n",
    "    return nothing\n",
    "end"
   ]
  },
  {
   "cell_type": "code",
   "execution_count": 162,
   "metadata": {},
   "outputs": [
    {
     "data": {
      "text/plain": [
       "BenchmarkTools.Trial: \n",
       "  memory estimate:  1018.95 KiB\n",
       "  allocs estimate:  56\n",
       "  --------------\n",
       "  minimum time:     634.150 μs (0.00% GC)\n",
       "  median time:      660.821 μs (0.00% GC)\n",
       "  mean time:        721.701 μs (8.04% GC)\n",
       "  maximum time:     11.191 ms (93.84% GC)\n",
       "  --------------\n",
       "  samples:          6900\n",
       "  evals/sample:     1"
      ]
     },
     "execution_count": 162,
     "metadata": {},
     "output_type": "execute_result"
    }
   ],
   "source": [
    "@benchmark conv!(out, i_4d, k_con,p)"
   ]
  },
  {
   "cell_type": "code",
   "execution_count": 163,
   "metadata": {},
   "outputs": [
    {
     "data": {
      "text/plain": [
       "BenchmarkTools.Trial: \n",
       "  memory estimate:  1019.08 KiB\n",
       "  allocs estimate:  58\n",
       "  --------------\n",
       "  minimum time:     634.983 μs (0.00% GC)\n",
       "  median time:      661.186 μs (0.00% GC)\n",
       "  mean time:        719.360 μs (7.93% GC)\n",
       "  maximum time:     14.697 ms (94.16% GC)\n",
       "  --------------\n",
       "  samples:          6923\n",
       "  evals/sample:     1"
      ]
     },
     "execution_count": 163,
     "metadata": {},
     "output_type": "execute_result"
    }
   ],
   "source": [
    "@benchmark conva!(out, img,  k_con,p)"
   ]
  },
  {
   "cell_type": "code",
   "execution_count": null,
   "metadata": {},
   "outputs": [],
   "source": []
  }
 ],
 "metadata": {
  "kernelspec": {
   "display_name": "Julia 1.4.2",
   "language": "julia",
   "name": "julia-1.4"
  },
  "language_info": {
   "file_extension": ".jl",
   "mimetype": "application/julia",
   "name": "julia",
   "version": "1.4.2"
  }
 },
 "nbformat": 4,
 "nbformat_minor": 4
}
