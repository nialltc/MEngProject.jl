{
 "cells": [
  {
   "cell_type": "code",
   "execution_count": 7,
   "metadata": {},
   "outputs": [
    {
     "name": "stderr",
     "output_type": "stream",
     "text": [
      "┌ Info: Precompiling ModelingToolkit [961ee093-0014-501f-94e3-6117800e7a78]\n",
      "└ @ Base loading.jl:1260\n",
      "ERROR: LoadError: ArgumentError: Package ModelingToolkit does not have LabelledArrays in its dependencies:\n",
      "- If you have ModelingToolkit checked out for development and have\n",
      "  added LabelledArrays as a dependency but haven't updated your primary\n",
      "  environment's manifest file, try `Pkg.resolve()`.\n",
      "- Otherwise you may need to report an issue with ModelingToolkit\n",
      "Stacktrace:\n",
      " [1] require(::Module, ::Symbol) at ./loading.jl:905\n",
      " [2] include(::Module, ::String) at ./Base.jl:377\n",
      " [3] top-level scope at none:2\n",
      " [4] eval at ./boot.jl:331 [inlined]\n",
      " [5] eval(::Expr) at ./client.jl:449\n",
      " [6] top-level scope at ./none:3\n",
      "in expression starting at /mnt/storage_1/users/cullinanen/.julia/packages/ModelingToolkit/TAGTl/src/ModelingToolkit.jl:4\n"
     ]
    },
    {
     "ename": "ErrorException",
     "evalue": "Failed to precompile ModelingToolkit [961ee093-0014-501f-94e3-6117800e7a78] to /mnt/storage_1/users/cullinanen/.julia/compiled/v1.4/ModelingToolkit/Qmdqu_19dC0.ji.",
     "output_type": "error",
     "traceback": [
      "Failed to precompile ModelingToolkit [961ee093-0014-501f-94e3-6117800e7a78] to /mnt/storage_1/users/cullinanen/.julia/compiled/v1.4/ModelingToolkit/Qmdqu_19dC0.ji.",
      "",
      "Stacktrace:",
      " [1] error(::String) at ./error.jl:33",
      " [2] compilecache(::Base.PkgId, ::String) at ./loading.jl:1272",
      " [3] _require(::Base.PkgId) at ./loading.jl:1029",
      " [4] require(::Base.PkgId) at ./loading.jl:927",
      " [5] require(::Module, ::Symbol) at ./loading.jl:922",
      " [6] top-level scope at In[7]:1"
     ]
    }
   ],
   "source": [
    "using ModelingToolkit, OrdinaryDiffEq, DifferentialEquations, LinearAlgebra, SparseArrays"
   ]
  },
  {
   "cell_type": "code",
   "execution_count": 5,
   "metadata": {},
   "outputs": [
    {
     "name": "stderr",
     "output_type": "stream",
     "text": [
      "┌ Info: Precompiling Images [916415d5-f1e6-5110-898d-aaa5f9f070e0]\n",
      "└ @ Base loading.jl:1260\n",
      "ERROR: LoadError: ArgumentError: Package ImageTransformations does not have Rotations in its dependencies:\n",
      "- If you have ImageTransformations checked out for development and have\n",
      "  added Rotations as a dependency but haven't updated your primary\n",
      "  environment's manifest file, try `Pkg.resolve()`.\n",
      "- Otherwise you may need to report an issue with ImageTransformations\n",
      "Stacktrace:\n",
      " [1] require(::Module, ::Symbol) at ./loading.jl:905\n",
      " [2] include(::Module, ::String) at ./Base.jl:377\n",
      " [3] top-level scope at none:2\n",
      " [4] eval at ./boot.jl:331 [inlined]\n",
      " [5] eval(::Expr) at ./client.jl:449\n",
      " [6] top-level scope at ./none:3\n",
      "in expression starting at /mnt/storage_1/users/cullinanen/.julia/packages/ImageTransformations/J3Mno/src/ImageTransformations.jl:5\n",
      "ERROR: LoadError: Failed to precompile ImageTransformations [02fcd773-0e25-5acc-982a-7f6622650795] to /mnt/storage_1/users/cullinanen/.julia/compiled/v1.4/ImageTransformations/Pfac4_19dC0.ji.\n",
      "Stacktrace:\n",
      " [1] error(::String) at ./error.jl:33\n",
      " [2] compilecache(::Base.PkgId, ::String) at ./loading.jl:1272\n",
      " [3] _require(::Base.PkgId) at ./loading.jl:1029\n",
      " [4] require(::Base.PkgId) at ./loading.jl:927\n",
      " [5] require(::Module, ::Symbol) at ./loading.jl:922\n",
      " [6] include(::Module, ::String) at ./Base.jl:377\n",
      " [7] top-level scope at none:2\n",
      " [8] eval at ./boot.jl:331 [inlined]\n",
      " [9] eval(::Expr) at ./client.jl:449\n",
      " [10] top-level scope at ./none:3\n",
      "in expression starting at /mnt/storage_1/users/cullinanen/.julia/packages/Images/7FSUM/src/Images.jl:50\n"
     ]
    },
    {
     "ename": "ErrorException",
     "evalue": "Failed to precompile Images [916415d5-f1e6-5110-898d-aaa5f9f070e0] to /mnt/storage_1/users/cullinanen/.julia/compiled/v1.4/Images/H8Vxc_19dC0.ji.",
     "output_type": "error",
     "traceback": [
      "Failed to precompile Images [916415d5-f1e6-5110-898d-aaa5f9f070e0] to /mnt/storage_1/users/cullinanen/.julia/compiled/v1.4/Images/H8Vxc_19dC0.ji.",
      "",
      "Stacktrace:",
      " [1] error(::String) at ./error.jl:33",
      " [2] compilecache(::Base.PkgId, ::String) at ./loading.jl:1272",
      " [3] _require(::Base.PkgId) at ./loading.jl:1029",
      " [4] require(::Base.PkgId) at ./loading.jl:927",
      " [5] require(::Module, ::Symbol) at ./loading.jl:922",
      " [6] top-level scope at In[5]:1"
     ]
    }
   ],
   "source": [
    "using PyPlot, NNlib,  ImageFiltering, Images, MEngProject, MEngProject.LamKernels, MEngProject.Laminart, MEngProject.Utils, BenchmarkTools"
   ]
  },
  {
   "cell_type": "code",
   "execution_count": 3,
   "metadata": {},
   "outputs": [
    {
     "name": "stderr",
     "output_type": "stream",
     "text": [
      "┌ Info: Precompiling CUDA [052768ef-5323-5732-b1bb-66c8b64840ba]\n",
      "└ @ Base loading.jl:1260\n"
     ]
    }
   ],
   "source": [
    "using CUDA, Test"
   ]
  },
  {
   "cell_type": "code",
   "execution_count": null,
   "metadata": {},
   "outputs": [],
   "source": []
  }
 ],
 "metadata": {
  "kernelspec": {
   "display_name": "Julia 1.4.2",
   "language": "julia",
   "name": "julia-1.4"
  },
  "language_info": {
   "file_extension": ".jl",
   "mimetype": "application/julia",
   "name": "julia",
   "version": "1.4.2"
  }
 },
 "nbformat": 4,
 "nbformat_minor": 4
}
