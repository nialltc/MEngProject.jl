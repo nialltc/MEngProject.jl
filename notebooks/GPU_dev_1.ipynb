{
 "cells": [
  {
   "cell_type": "code",
   "execution_count": 7,
   "metadata": {},
   "outputs": [],
   "source": [
    "using DrWatson\n",
    "@quickactivate \"MEngProject\"\n",
    "using MEngProject"
   ]
  },
  {
   "cell_type": "code",
   "execution_count": 8,
   "metadata": {},
   "outputs": [],
   "source": [
    "using CUDA, PyPlot, NNlib,  ImageFiltering, Images, MEngProject, MEngProject.LamKernels, MEngProject.Laminart, MEngProject.Utils, BenchmarkTools, Test"
   ]
  },
  {
   "cell_type": "code",
   "execution_count": 9,
   "metadata": {},
   "outputs": [
    {
     "data": {
      "text/plain": [
       "reshape2d_4d (generic function with 1 method)"
      ]
     },
     "execution_count": 9,
     "metadata": {},
     "output_type": "execute_result"
    }
   ],
   "source": [
    "function reshape2d_4d(img::AbstractArray)\n",
    "    out = reshape(img, size(img)[1], size(img)[2], 1, 1)\n",
    "end"
   ]
  },
  {
   "cell_type": "code",
   "execution_count": 10,
   "metadata": {},
   "outputs": [],
   "source": [
    "img = convert(Array{Float32,2}, load(datadir(\"Iine_100_100_gs.png\")));\n",
    "p = Laminart.kernels(img, Parameters.parameters);\n",
    "p = Laminart.add_I_u_p(img, p);"
   ]
  },
  {
   "cell_type": "code",
   "execution_count": 25,
   "metadata": {},
   "outputs": [
    {
     "ename": "UndefVarError",
     "evalue": "UndefVarError: W_temp not defined",
     "output_type": "error",
     "traceback": [
      "UndefVarError: W_temp not defined",
      "",
      "Stacktrace:",
      " [1] kernels(::CuArray{Float32,4,CuArray{Float32,2,Nothing}}, ::NamedTuple{(:K, :δ_v, :δ_c, :δ_m, :δ_z, :δ_s, :σ_1, :C_1, :C_2, :σ_2, :γ, :α, :ϕ, :Γ, :v_21, :μ, :ν, :n, :att, :η_p, :η_m, :λ, :a_23_ex, :a_23_in, :v12_6, :v12_4, :ψ, :C_AB_l, :H_σ_x, :H_σ_y, :H_fact, :H_l, :T_fact, :T_p_m, :T_v2_fact, :H_size, :W_size, :lgn_equ_u, :lgn_equ_A, :lgn_equ_B, :filling, :W_l),Tuple{Int64,Float32,Float32,Float32,Float32,Float32,Float32,Float32,Float32,Float32,Float32,Float32,Float32,Float32,Float32,Float32,Float32,Float32,Float32,Float32,Float32,Float32,Float32,Float32,Float32,Float32,Float32,Int64,Float32,Float32,Float32,Int64,Array{Float32,1},Float32,Float32,Int64,Int64,Float32,Float32,Float32,String,Int64}}) at /mnt/storage_1/users/cullinanen/.julia/dev/MEngProject.jl/src/LaminartGPU.jl:109",
      " [2] top-level scope at In[25]:3"
     ]
    }
   ],
   "source": [
    "img_ = CuArray(img)\n",
    "img_ = reshape2d_4d(img_)\n",
    "p_ = LaminartGPU.kernels(img_, Parameters.parameters);\n",
    "# p_ = LaminartGPU.add_I_u_p(img_, p_);"
   ]
  },
  {
   "cell_type": "code",
   "execution_count": 11,
   "metadata": {},
   "outputs": [
    {
     "data": {
      "text/plain": [
       "100×100 CuArray{Float32,2,Nothing}:\n",
       " 0.0  0.0  0.0  0.0  0.0  0.0  0.0  0.0  …  0.0  0.0  0.0  0.0  0.0  0.0  0.0\n",
       " 0.0  0.0  0.0  0.0  0.0  0.0  0.0  0.0     0.0  0.0  0.0  0.0  0.0  0.0  0.0\n",
       " 0.0  0.0  0.0  0.0  0.0  0.0  0.0  0.0     0.0  0.0  0.0  0.0  0.0  0.0  0.0\n",
       " 0.0  0.0  0.0  0.0  0.0  0.0  0.0  0.0     0.0  0.0  0.0  0.0  0.0  0.0  0.0\n",
       " 0.0  0.0  0.0  0.0  0.0  0.0  0.0  0.0     0.0  0.0  0.0  0.0  0.0  0.0  0.0\n",
       " 0.0  0.0  0.0  0.0  0.0  0.0  0.0  0.0  …  0.0  0.0  0.0  0.0  0.0  0.0  0.0\n",
       " 0.0  0.0  0.0  0.0  0.0  0.0  0.0  0.0     0.0  0.0  0.0  0.0  0.0  0.0  0.0\n",
       " 0.0  0.0  0.0  0.0  0.0  0.0  0.0  0.0     0.0  0.0  0.0  0.0  0.0  0.0  0.0\n",
       " 0.0  0.0  0.0  0.0  0.0  0.0  0.0  0.0     0.0  0.0  0.0  0.0  0.0  0.0  0.0\n",
       " 0.0  0.0  0.0  0.0  0.0  0.0  0.0  0.0     0.0  0.0  0.0  0.0  0.0  0.0  0.0\n",
       " 0.0  0.0  0.0  0.0  0.0  0.0  0.0  0.0  …  0.0  0.0  0.0  0.0  0.0  0.0  0.0\n",
       " 0.0  0.0  0.0  0.0  0.0  0.0  0.0  0.0     0.0  0.0  0.0  0.0  0.0  0.0  0.0\n",
       " 0.0  0.0  0.0  0.0  0.0  0.0  0.0  0.0     0.0  0.0  0.0  0.0  0.0  0.0  0.0\n",
       " ⋮                        ⋮              ⋱            ⋮                   \n",
       " 0.0  0.0  0.0  0.0  0.0  0.0  0.0  0.0     0.0  0.0  0.0  0.0  0.0  0.0  0.0\n",
       " 0.0  0.0  0.0  0.0  0.0  0.0  0.0  0.0     0.0  0.0  0.0  0.0  0.0  0.0  0.0\n",
       " 0.0  0.0  0.0  0.0  0.0  0.0  0.0  0.0  …  0.0  0.0  0.0  0.0  0.0  0.0  0.0\n",
       " 0.0  0.0  0.0  0.0  0.0  0.0  0.0  0.0     0.0  0.0  0.0  0.0  0.0  0.0  0.0\n",
       " 0.0  0.0  0.0  0.0  0.0  0.0  0.0  0.0     0.0  0.0  0.0  0.0  0.0  0.0  0.0\n",
       " 0.0  0.0  0.0  0.0  0.0  0.0  0.0  0.0     0.0  0.0  0.0  0.0  0.0  0.0  0.0\n",
       " 0.0  0.0  0.0  0.0  0.0  0.0  0.0  0.0     0.0  0.0  0.0  0.0  0.0  0.0  0.0\n",
       " 0.0  0.0  0.0  0.0  0.0  0.0  0.0  0.0  …  0.0  0.0  0.0  0.0  0.0  0.0  0.0\n",
       " 0.0  0.0  0.0  0.0  0.0  0.0  0.0  0.0     0.0  0.0  0.0  0.0  0.0  0.0  0.0\n",
       " 0.0  0.0  0.0  0.0  0.0  0.0  0.0  0.0     0.0  0.0  0.0  0.0  0.0  0.0  0.0\n",
       " 0.0  0.0  0.0  0.0  0.0  0.0  0.0  0.0     0.0  0.0  0.0  0.0  0.0  0.0  0.0\n",
       " 0.0  0.0  0.0  0.0  0.0  0.0  0.0  0.0     0.0  0.0  0.0  0.0  0.0  0.0  0.0"
      ]
     },
     "execution_count": 11,
     "metadata": {},
     "output_type": "execute_result"
    }
   ],
   "source": [
    "img_ = CuArray(img)"
   ]
  },
  {
   "cell_type": "code",
   "execution_count": 24,
   "metadata": {},
   "outputs": [
    {
     "data": {
      "text/plain": [
       "100×100 CuArray{Float32,2,Nothing}:\n",
       " 0.0  0.0  0.0  0.0  0.0  0.0  0.0  0.0  …  0.0  0.0  0.0  0.0  0.0  0.0  0.0\n",
       " 0.0  0.0  0.0  0.0  0.0  0.0  0.0  0.0     0.0  0.0  0.0  0.0  0.0  0.0  0.0\n",
       " 0.0  0.0  0.0  0.0  0.0  0.0  0.0  0.0     0.0  0.0  0.0  0.0  0.0  0.0  0.0\n",
       " 0.0  0.0  0.0  0.0  0.0  0.0  0.0  0.0     0.0  0.0  0.0  0.0  0.0  0.0  0.0\n",
       " 0.0  0.0  0.0  0.0  0.0  0.0  0.0  0.0     0.0  0.0  0.0  0.0  0.0  0.0  0.0\n",
       " 0.0  0.0  0.0  0.0  0.0  0.0  0.0  0.0  …  0.0  0.0  0.0  0.0  0.0  0.0  0.0\n",
       " 0.0  0.0  0.0  0.0  0.0  0.0  0.0  0.0     0.0  0.0  0.0  0.0  0.0  0.0  0.0\n",
       " 0.0  0.0  0.0  0.0  0.0  0.0  0.0  0.0     0.0  0.0  0.0  0.0  0.0  0.0  0.0\n",
       " 0.0  0.0  0.0  0.0  0.0  0.0  0.0  0.0     0.0  0.0  0.0  0.0  0.0  0.0  0.0\n",
       " 0.0  0.0  0.0  0.0  0.0  0.0  0.0  0.0     0.0  0.0  0.0  0.0  0.0  0.0  0.0\n",
       " 0.0  0.0  0.0  0.0  0.0  0.0  0.0  0.0  …  0.0  0.0  0.0  0.0  0.0  0.0  0.0\n",
       " 0.0  0.0  0.0  0.0  0.0  0.0  0.0  0.0     0.0  0.0  0.0  0.0  0.0  0.0  0.0\n",
       " 0.0  0.0  0.0  0.0  0.0  0.0  0.0  0.0     0.0  0.0  0.0  0.0  0.0  0.0  0.0\n",
       " ⋮                        ⋮              ⋱            ⋮                   \n",
       " 0.0  0.0  0.0  0.0  0.0  0.0  0.0  0.0     0.0  0.0  0.0  0.0  0.0  0.0  0.0\n",
       " 0.0  0.0  0.0  0.0  0.0  0.0  0.0  0.0     0.0  0.0  0.0  0.0  0.0  0.0  0.0\n",
       " 0.0  0.0  0.0  0.0  0.0  0.0  0.0  0.0  …  0.0  0.0  0.0  0.0  0.0  0.0  0.0\n",
       " 0.0  0.0  0.0  0.0  0.0  0.0  0.0  0.0     0.0  0.0  0.0  0.0  0.0  0.0  0.0\n",
       " 0.0  0.0  0.0  0.0  0.0  0.0  0.0  0.0     0.0  0.0  0.0  0.0  0.0  0.0  0.0\n",
       " 0.0  0.0  0.0  0.0  0.0  0.0  0.0  0.0     0.0  0.0  0.0  0.0  0.0  0.0  0.0\n",
       " 0.0  0.0  0.0  0.0  0.0  0.0  0.0  0.0     0.0  0.0  0.0  0.0  0.0  0.0  0.0\n",
       " 0.0  0.0  0.0  0.0  0.0  0.0  0.0  0.0  …  0.0  0.0  0.0  0.0  0.0  0.0  0.0\n",
       " 0.0  0.0  0.0  0.0  0.0  0.0  0.0  0.0     0.0  0.0  0.0  0.0  0.0  0.0  0.0\n",
       " 0.0  0.0  0.0  0.0  0.0  0.0  0.0  0.0     0.0  0.0  0.0  0.0  0.0  0.0  0.0\n",
       " 0.0  0.0  0.0  0.0  0.0  0.0  0.0  0.0     0.0  0.0  0.0  0.0  0.0  0.0  0.0\n",
       " 0.0  0.0  0.0  0.0  0.0  0.0  0.0  0.0     0.0  0.0  0.0  0.0  0.0  0.0  0.0"
      ]
     },
     "execution_count": 24,
     "metadata": {},
     "output_type": "execute_result"
    }
   ],
   "source": [
    "img_[:,:,1,1]"
   ]
  },
  {
   "cell_type": "code",
   "execution_count": 12,
   "metadata": {},
   "outputs": [
    {
     "ename": "BoundsError",
     "evalue": "BoundsError: attempt to access 5×5 Array{Float64,2} at index [-2:2, -2:2]",
     "output_type": "error",
     "traceback": [
      "BoundsError: attempt to access 5×5 Array{Float64,2} at index [-2:2, -2:2]",
      "",
      "Stacktrace:",
      " [1] throw_boundserror(::Array{Float64,2}, ::Tuple{OffsetArrays.IdOffsetRange{Int64,Base.OneTo{Int64}},OffsetArrays.IdOffsetRange{Int64,Base.OneTo{Int64}}}) at ./abstractarray.jl:537",
      " [2] checkbounds at ./abstractarray.jl:502 [inlined]",
      " [3] copyto!(::Array{Float64,2}, ::OffsetArrays.OffsetArray{Float64,2,Array{Float64,2}}) at ./multidimensional.jl:959",
      " [4] Array at ./array.jl:541 [inlined]",
      " [5] Array at ./boot.jl:430 [inlined]",
      " [6] convert at ./array.jl:533 [inlined]",
      " [7] CuArray at /mnt/storage_1/users/cullinanen/.julia/packages/CUDA/sjcZt/src/array.jl:209 [inlined]",
      " [8] CuArray(::OffsetArrays.OffsetArray{Float64,2,Array{Float64,2}}) at /mnt/storage_1/users/cullinanen/.julia/packages/CUDA/sjcZt/src/array.jl:216",
      " [9] top-level scope at ./In[12]:19"
     ]
    }
   ],
   "source": [
    "    C_A_temp = reshape(\n",
    "        CuArray{eltype(img)}(undef, p.C_AB_l, p.C_AB_l * p.K),\n",
    "        p.C_AB_l,\n",
    "        p.C_AB_l,\n",
    "        p.K, 1,1\n",
    "    )\n",
    "    C_B_temp = copy(C_A_temp)\n",
    "    H_temp = reshape(\n",
    "        CuArray{eltype(img)}(undef, p.H_l, p.H_l * p.K),\n",
    "        p.H_l,\n",
    "        p.H_l,\n",
    "        p.K,1,1\n",
    "    )\n",
    "    T_temp = reshape(CuArray{eltype(img)}(undef, 1, 1 * p.K), 1, 1, p.K,1,1)     #ijk,  1x1xk,   ijk\n",
    "    W_temp =\n",
    "        reshape(CuArray{eltype(img)}(undef, p.W_l, p.W_l * p.K * p.K), p.W_l, p.W_l, p.K, p.K,1,1)     #ijk,  1x1xk,   ijk\n",
    "    for k ∈ 1:p.K\n",
    "        θ = π * (k - 1) / p.K\n",
    "        C_A_temp[:, :, k,1,1] = CuArray(reflect(centered(LamKernels.kern_A(p.σ_2, θ))))           #ij ijk ijk\n",
    "        C_B_temp[:, :, k,1,1] = Creflect(centered(LamKernels.kern_B(p.σ_2, θ)))               #ij ijk ijk\n",
    "        H_temp[:, :, k,1,1] = reflect(\n",
    "            p.H_fact .* LamKernels.gaussian_rot(p.H_σ_x, p.H_σ_y, θ, p.H_l),\n",
    "        )  #ijk, ij for each k; ijk\n",
    "        T_temp[:, :, k] = reshape([p.T_fact[k]], 1, 1)\n",
    "        #todo: generalise T and W for higher K\n",
    "        #         T_temp[:,:,k] = KernelFactors.gaussian(p.T_σ, p.K)\n",
    "        #         for l ∈ 1:p.K\n",
    "        #             W_temp[:,:,l,k] =\n",
    "        #         end\n",
    "    end\n",
    "    W_temp[:, :, 1, 1] = reflect(\n",
    "        5 .* LamKernels.gaussian_rot(3, 0.8, 0, p.W_l) .+\n",
    "        LamKernels.gaussian_rot(0.4, 1, 0, p.W_l),\n",
    "    )\n",
    "    W_temp[:, :, 2, 2] = reflect(\n",
    "        5 .* LamKernels.gaussian_rot(3, 0.8, 0, p.W_l) .+\n",
    "        LamKernels.gaussian_rot(0.4, 1, π / 2, p.W_l),\n",
    "    )\n",
    "    W_temp[:, :, 1, 2] = reflect(relu.(\n",
    "        0.2 .- LamKernels.gaussian_rot(2, 0.6, 0, p.W_l) .-\n",
    "        LamKernels.gaussian_rot(0.3, 1.2, 0, p.W_l),\n",
    "    ))\n",
    "    W_temp[:, :, 2, 1] = reflect(relu.(\n",
    "        0.2 .- LamKernels.gaussian_rot(2, 0.6, 0, p.W_l) .-\n",
    "        LamKernels.gaussian_rot(0.3, 1.2, π / 2, p.W_l),\n",
    "    ))\n",
    "\n",
    "    # todo fix W kernel\n",
    "    #  W_temp[:,:,1,1] = reflect(LamKernels.gaussian_rot(3,0.8,0,19))\n",
    "    #     W_temp[:,:,2,2] = reflect(LamKernels.gaussian_rot(3,0.8,0,19))\n",
    "    #     W_temp[:,:,1,2] = reflect(LamKernels.gaussian_rot(3,0.8,0,19))\n",
    "    #     W_temp[:,:,2,1] = reflect(LamKernels.gaussian_rot(3,0.8,0,19))\n",
    "\n",
    "    # todo: fix range of W H\n",
    "    #     W_range = -(p.W_size-1)/2:(p.W_size-1)/2\n",
    "    #     H_range = -(p.H_size-1)/2:(p.H_size-1)/2\n",
    "    W_range = -9:9\n",
    "    H_range = -9:9\n",
    "\n",
    "    temp_out = (\n",
    "        k_gauss_1 = reflect(Kernel.gaussian(p.σ_1)),\n",
    "        k_gauss_2 = reflect(Kernel.gaussian(p.σ_2)),\n",
    "        k_C_A = C_A_temp,\n",
    "        k_C_B = C_B_temp,\n",
    "        k_W_p = W_temp,\n",
    "        k_W_m = W_temp,\n",
    "        # k_W_m = OffsetArray(W_temp, W_range, W_range, 1:p.K, 1:p.K),\n",
    "        k_H = H_temp,\n",
    "        # k_H = OffsetArray(H_temp, H_range, H_range, 1:p.K),\n",
    "        k_T_p = T_temp,\n",
    "        k_T_m = (p.T_p_m .* T_temp),\n",
    "        k_T_p_v2 = (p.T_v2_fact .* T_temp),\n",
    "        k_T_m_v2 = (p.T_v2_fact .* p.T_p_m .* T_temp),\n",
    "        dim_i = size(img)[1],\n",
    "        dim_j = size(img)[2],\n",
    "        x_V2 = reshape(\n",
    "            zeros(typeof(img[1, 1]), size(img)[1], size(img)[2] * p.K),\n",
    "            size(img)[1],\n",
    "            size(img)[2],\n",
    "            p.K,\n",
    "        ),\n",
    "    )\n",
    "    return merge(p, temp_out)\n",
    "end"
   ]
  },
  {
   "cell_type": "code",
   "execution_count": null,
   "metadata": {},
   "outputs": [],
   "source": [
    "   C_A_temp = reshape(\n",
    "        Array{eltype(img)}(undef, p.C_AB_l, p.C_AB_l * p.K),\n",
    "        p.C_AB_l,\n",
    "        p.C_AB_l,\n",
    "        p.K, 1,1\n",
    "    )\n",
    " C_B_temp = copy(C_A_temp)\n",
    " H_temp = reshape(\n",
    "        Array{eltype(img)}(undef, p.H_l, p.H_l * p.K),\n",
    "        p.H_l,\n",
    "        p.H_l,\n",
    "        p.K,1,1\n",
    "    )\n",
    "    W_temp =\n",
    "        reshape(Array{eltype(img)}(undef, p.W_l, p.W_l * p.K * p.K), p.W_l, p.W_l, p.K, p.K,1,1) "
   ]
  },
  {
   "cell_type": "code",
   "execution_count": 13,
   "metadata": {},
   "outputs": [
    {
     "data": {
      "text/plain": [
       "5×5×2×1×1 Array{Float32,5}:\n",
       "[:, :, 1, 1, 1] =\n",
       " -2.48973f-23   4.5687f-41   -2.48976f-23   4.5687f-41   -2.48983f-23\n",
       "  4.5687f-41   -2.48975f-23   4.5687f-41   -2.4898f-23    4.5687f-41\n",
       " -2.48974f-23   4.5687f-41   -2.48977f-23   4.5687f-41   -2.48984f-23\n",
       "  4.5687f-41   -2.48975f-23   4.5687f-41   -2.48982f-23   4.5687f-41\n",
       " -2.48974f-23   4.5687f-41   -2.48978f-23   4.5687f-41   -2.48984f-23\n",
       "\n",
       "[:, :, 2, 1, 1] =\n",
       "  4.5687f-41   -2.48986f-23   4.5687f-41   -2.48989f-23   4.5687f-41\n",
       " -2.48985f-23   4.5687f-41   -2.48988f-23   4.5687f-41   -3.2531f-23\n",
       "  4.5687f-41   -2.48987f-23   4.5687f-41   -3.25309f-23   4.5687f-41\n",
       " -2.48986f-23   4.5687f-41   -2.48988f-23   4.5687f-41   -2.4899f-23\n",
       "  4.5687f-41   -2.48987f-23   4.5687f-41   -2.48989f-23   4.5687f-41"
      ]
     },
     "execution_count": 13,
     "metadata": {},
     "output_type": "execute_result"
    }
   ],
   "source": [
    "   C_A_temp = reshape(\n",
    "        Array{eltype(img)}(undef, p.C_AB_l, p.C_AB_l * p.K),\n",
    "        p.C_AB_l,\n",
    "        p.C_AB_l,\n",
    "        p.K, 1,1\n",
    "    )\n",
    "\n",
    " T_temp = reshape(Array{eltype(img)}(undef, 1, 1 * p.K), 1, 1, p.K,1,1)     #ijk,  1x1xk,   ijk\n",
    "\n",
    "    for k ∈ 1:p.K\n",
    "        θ = π * (k - 1.0f0) / p.K\n",
    "        C_A_temp[:, :, k,1,1] = LamKernels.kern_A(p.σ_2, θ)           #ij ijk ijk\n",
    "        C_B_temp[:, :, k,1,1] = LamKernels.kern_B(p.σ_2, θ)               #ij ijk ijk\n",
    "        H_temp[:, :, k,1,1] = p.H_fact .* LamKernels.gaussian_rot(p.H_σ_x, p.H_σ_y, θ, p.H_l)  #ijk, ij for each k; ijk\n",
    "        T_temp[1, 1, k,1,1] = p.T_fact[k]\n",
    "        #todo: generalise T and W for higher K\n",
    "        #         T_temp[:,:,k] = KernelFactors.gaussian(p.T_σ, p.K)\n",
    "        #         for l ∈ 1:p.K\n",
    "        #             W_temp[:,:,l,k] =\n",
    "        #         end\n",
    "    end\n",
    "\n",
    "    W_temp[:, :, 1, 1, 1, 1] = \n",
    "        5f0 .* LamKernels.gaussian_rot(3f0, 0.8f0, 0f0, p.W_l) .+\n",
    "        LamKernels.gaussian_rot(0.4f0, 1f0, 0f0, p.W_l)\n",
    "    W_temp[:, :, 2, 2, 1, 1] = \n",
    "        5f0 .* LamKernels.gaussian_rot(3f0, 0.8f0, 0f0, p.W_l) .+\n",
    "        LamKernels.gaussian_rot(0.4f0, 1f0, π / 2f0, p.W_l)\n",
    "    W_temp[:, :, 1, 2, 1, 1] = relu.(\n",
    "        0.2f0 .- LamKernels.gaussian_rot(2f0, 0.6f0, 0f0, p.W_l) .-\n",
    "        LamKernels.gaussian_rot(0.3f0, 1.2f0, 0f0, p.W_l))\n",
    "    W_temp[:, :, 2, 1, 1, 1] = relu.(\n",
    "        0.2f0 .- LamKernels.gaussian_rot(2f0, 0.6f0, 0f0, p.W_l) .-\n",
    "        LamKernels.gaussian_rot(0.3f0, 1.2f0, π / 2f0, p.W_l))\n",
    "\n",
    "temp_out = (\n",
    "        k_gauss_1 = CuArray(reshape2d_4d(Kernel.gaussian(p.σ_1))),\n",
    "        k_gauss_2 = CuArray(reshape2d_4d(Kernel.gaussian(p.σ_2))),\n",
    "        k_C_A = CuArray(C_A_temp),\n",
    "        k_C_B = CuArray(C_B_temp),\n",
    "        k_W_p = CuArray(W_temp),\n",
    "        k_W_m = CuArray(W_temp),\n",
    "        k_H = CuArray(H_temp),\n",
    "        k_T_p = CuArray(T_temp),\n",
    "        k_T_m = CuArray((p.T_p_m .* T_temp)),\n",
    "        k_T_p_v2 = CuArray((p.T_v2_fact .* T_temp)),\n",
    "        k_T_m_v2 = CuArray((p.T_v2_fact .* p.T_p_m .* T_temp)),\n",
    "        dim_i = size(img)[1],\n",
    "        dim_j = size(img)[2],\n",
    "        x_V2 = reshape(CUDA.zeros(typeof(img[1, 1]), size(img)[1], size(img)[2] * p.K), size(img)[1], size(img)[2],p.K,1,1),)\n",
    "merge(p, temp_out)\n",
    "end"
   ]
  },
  {
   "cell_type": "code",
   "execution_count": 14,
   "metadata": {},
   "outputs": [
    {
     "data": {
      "text/plain": [
       "5×5×2×1×1 Array{Float32,5}:\n",
       "[:, :, 1, 1, 1] =\n",
       " -2.48973f-23   4.5687f-41   -2.48976f-23   4.5687f-41   -2.48983f-23\n",
       "  4.5687f-41   -2.48975f-23   4.5687f-41   -2.4898f-23    4.5687f-41\n",
       " -2.48974f-23   4.5687f-41   -2.48977f-23   4.5687f-41   -2.48984f-23\n",
       "  4.5687f-41   -2.48975f-23   4.5687f-41   -2.48982f-23   4.5687f-41\n",
       " -2.48974f-23   4.5687f-41   -2.48978f-23   4.5687f-41   -2.48984f-23\n",
       "\n",
       "[:, :, 2, 1, 1] =\n",
       "  4.5687f-41   -2.48986f-23   4.5687f-41   -2.48989f-23   4.5687f-41\n",
       " -2.48985f-23   4.5687f-41   -2.48988f-23   4.5687f-41   -3.2531f-23\n",
       "  4.5687f-41   -2.48987f-23   4.5687f-41   -3.25309f-23   4.5687f-41\n",
       " -2.48986f-23   4.5687f-41   -2.48988f-23   4.5687f-41   -2.4899f-23\n",
       "  4.5687f-41   -2.48987f-23   4.5687f-41   -2.48989f-23   4.5687f-41"
      ]
     },
     "execution_count": 14,
     "metadata": {},
     "output_type": "execute_result"
    }
   ],
   "source": [
    " C_B_temp = copy(C_A_temp)\n",
    "   "
   ]
  },
  {
   "cell_type": "code",
   "execution_count": 15,
   "metadata": {},
   "outputs": [
    {
     "data": {
      "text/plain": [
       "19×19×2×1×1 Array{Float32,5}:\n",
       "[:, :, 1, 1, 1] =\n",
       " -8.86134f-19   4.5687f-41   -9.15323f-19  …   4.5687f-41   -2.30124f-16\n",
       "  4.5687f-41   -8.73127f-19   4.5687f-41      -8.89105f-19   4.5687f-41\n",
       " -8.73087f-19   4.5687f-41   -9.15337f-19      4.5687f-41   -8.89131f-19\n",
       "  4.5687f-41   -9.81183f-19   4.5687f-41      -8.89108f-19   4.5687f-41\n",
       " -8.73091f-19   4.5687f-41   -9.15346f-19      4.5687f-41   -9.8476f-19\n",
       "  4.5687f-41   -9.90716f-19   4.5687f-41   …  -8.89112f-19   4.5687f-41\n",
       " -8.73094f-19   4.5687f-41   -9.81418f-19      4.5687f-41   -8.89138f-19\n",
       "  4.5687f-41   -9.90719f-19   4.5687f-41      -8.89115f-19   4.5687f-41\n",
       " -9.80988f-19   4.5687f-41   -9.81435f-19      4.5687f-41   -8.89141f-19\n",
       "  4.5687f-41   -9.90722f-19   4.5687f-41      -9.84615f-19   4.5687f-41\n",
       " -9.90713f-19   4.5687f-41   -9.81451f-19  …   4.5687f-41   -8.89145f-19\n",
       "  4.5687f-41   -8.73137f-19   4.5687f-41      -2.30109f-16   4.5687f-41\n",
       " -8.73104f-19   4.5687f-41   -1.18508f25       4.5687f-41   -9.90726f-19\n",
       "  4.5687f-41   -8.7314f-19    4.5687f-41      -8.89122f-19   4.5687f-41\n",
       " -8.73107f-19   4.5687f-41   -9.81498f-19      4.5687f-41   -9.90729f-19\n",
       "  4.5687f-41   -8.73144f-19   4.5687f-41   …  -9.84677f-19   4.5687f-41\n",
       " -8.73121f-19   4.5687f-41   -5.45652f21       4.5687f-41   -8.89155f-19\n",
       "  4.5687f-41   -9.81326f-19   4.5687f-41      -8.89128f-19   4.5687f-41\n",
       " -8.73124f-19   4.5687f-41   -5.45655f21       4.5687f-41   -8.89158f-19\n",
       "\n",
       "[:, :, 2, 1, 1] =\n",
       "  4.5687f-41   -8.89184f-19   4.5687f-41   …  -2.31172f-16   4.5687f-41\n",
       " -8.89161f-19   4.5687f-41   -8.89194f-19      4.5687f-41   -9.12425f-19\n",
       "  4.5687f-41   -2.3021f-16    4.5687f-41      -9.11416f-19   4.5687f-41\n",
       " -9.84975f-19   4.5687f-41   -2.30239f-16      4.5687f-41   -8.73319f-19\n",
       "  4.5687f-41   -9.8517f-19    4.5687f-41      -2.31178f-16   4.5687f-41\n",
       " -8.89168f-19   4.5687f-41   -8.934f-19    …   4.5687f-41   -9.90163f-19\n",
       "  4.5687f-41   -2.30217f-16   4.5687f-41      -2.3118f-16    4.5687f-41\n",
       " -8.89171f-19   4.5687f-41   -8.93502f-19      4.5687f-41   -9.12613f-19\n",
       "  4.5687f-41   -2.30219f-16   4.5687f-41      -2.31183f-16   4.5687f-41\n",
       " -8.89174f-19   4.5687f-41   -8.93602f-19      4.5687f-41   -9.12617f-19\n",
       "  4.5687f-41   -8.89191f-19   4.5687f-41   …  -2.31185f-16   4.5687f-41\n",
       " -2.30192f-16   4.5687f-41   -8.73243f-19      4.5687f-41   -9.90249f-19\n",
       "  4.5687f-41   -2.30224f-16   4.5687f-41      -9.11419f-19   4.5687f-41\n",
       " -2.30194f-16   4.5687f-41   -2.30268f-16      4.5687f-41   -9.12623f-19\n",
       "  4.5687f-41   -2.30227f-16   4.5687f-41      -2.31192f-16   4.5687f-41\n",
       " -8.89178f-19   4.5687f-41   -1.18508f25   …   4.5687f-41   -9.12627f-19\n",
       "  4.5687f-41   -2.30229f-16   4.5687f-41      -9.12223f-19   4.5687f-41\n",
       " -8.89181f-19   4.5687f-41   -9.85392f-19      4.5687f-41   -2.29503f-16\n",
       "  4.5687f-41   -2.30232f-16   4.5687f-41      -9.12322f-19   4.5687f-41"
      ]
     },
     "execution_count": 15,
     "metadata": {},
     "output_type": "execute_result"
    }
   ],
   "source": [
    " H_temp = reshape(\n",
    "        Array{eltype(img)}(undef, p.H_l, p.H_l * p.K),\n",
    "        p.H_l,\n",
    "        p.H_l,\n",
    "        p.K,1,1\n",
    "    )"
   ]
  },
  {
   "cell_type": "code",
   "execution_count": 16,
   "metadata": {},
   "outputs": [
    {
     "data": {
      "text/plain": [
       "1×1×2×1×1 Array{Float32,5}:\n",
       "[:, :, 1, 1, 1] =\n",
       " -2.447092f-23\n",
       "\n",
       "[:, :, 2, 1, 1] =\n",
       " 4.5687f-41"
      ]
     },
     "execution_count": 16,
     "metadata": {},
     "output_type": "execute_result"
    }
   ],
   "source": [
    " T_temp = reshape(Array{eltype(img)}(undef, 1, 1 * p.K), 1, 1, p.K,1,1)     #ijk,  1x1xk,   ijk"
   ]
  },
  {
   "cell_type": "code",
   "execution_count": 17,
   "metadata": {},
   "outputs": [
    {
     "data": {
      "text/plain": [
       "19×19×2×2×1×1 Array{Float32,6}:\n",
       "[:, :, 1, 1, 1, 1] =\n",
       "   0.0            0.0            2.98998f-33  …  NaN              3.0f-45\n",
       "   0.0            0.0            0.0               0.0            0.0\n",
       "   2.98979f-33    0.0           -4.55969f32        0.0            0.0\n",
       "   0.0          NaN              4.5687f-41        1.05101f-33    0.0\n",
       "  -4.55969f32   NaN              3.0f-45           0.0          NaN\n",
       "   4.5687f-41     0.0            0.0          …   -4.55969f32   NaN\n",
       "   3.0f-45        0.0            0.0               4.5687f-41     0.0\n",
       "   0.0            2.98992f-33    0.0               3.0f-45        0.0\n",
       "   0.0            0.0          NaN                 0.0            4.2117f-32\n",
       "   0.0           -4.55969f32   NaN                 0.0            0.0\n",
       " NaN              4.5687f-41     0.0          …    0.0           -4.55969f32\n",
       " NaN              3.0f-45        0.0             NaN              4.5687f-41\n",
       "   0.0            0.0            2.9901f-33      NaN              3.0f-45\n",
       "   0.0            0.0            0.0               0.0            0.0\n",
       "   2.98987f-33    0.0           -4.55969f32        0.0            0.0\n",
       "   0.0          NaN              4.5687f-41   …    1.05106f-33    0.0\n",
       "  -4.55969f32   NaN              3.0f-45           0.0          NaN\n",
       "   4.5687f-41     0.0            0.0              -4.55969f32   NaN\n",
       "   3.0f-45        0.0            0.0               4.5687f-41     0.0\n",
       "\n",
       "[:, :, 2, 1, 1, 1] =\n",
       "   0.0            0.0            0.0          …    0.0            0.0\n",
       "   4.21183f-32    0.0           -4.55969f32        0.0            0.0\n",
       "   0.0          NaN              4.5687f-41        1.3253f-37     0.0\n",
       "  -4.55969f32   NaN              3.0f-45           0.0          NaN\n",
       "   4.5687f-41     0.0            0.0              -4.55969f32   NaN\n",
       "   3.0f-45        0.0            0.0          …    4.5687f-41     0.0\n",
       "   0.0            4.21213f-32    0.0               3.0f-45        0.0\n",
       "   0.0            0.0          NaN                 0.0            8.79967f-36\n",
       "   0.0           -4.55969f32   NaN                 0.0            0.0\n",
       " NaN              4.5687f-41     0.0               0.0           -4.55969f32\n",
       " NaN              3.0f-45        0.0          …  NaN              4.5687f-41\n",
       "   0.0            0.0            4.21243f-32     NaN              3.0f-45\n",
       "   0.0            0.0            0.0               0.0            0.0\n",
       "   4.21199f-32    0.0           -4.55969f32        0.0            0.0\n",
       "   0.0          NaN              4.5687f-41        8.79929f-36    0.0\n",
       "  -4.55969f32   NaN              3.0f-45      …    0.0          NaN\n",
       "   4.5687f-41     0.0            0.0              -4.55969f32   NaN\n",
       "   3.0f-45        0.0            0.0               4.5687f-41     0.0\n",
       "   0.0            4.21226f-32    0.0               3.0f-45        0.0\n",
       "\n",
       "[:, :, 1, 2, 1, 1] =\n",
       "   8.79992f-36    0.0           -4.55969f32  …    0.0           0.0\n",
       "   0.0          NaN              4.5687f-41       0.0           0.0\n",
       "  -4.55969f32   NaN              3.0f-45          0.0         NaN\n",
       "   4.5687f-41     0.0            0.0             -4.55969f32  NaN\n",
       "   3.0f-45        0.0            0.0              4.5687f-41    0.0\n",
       "   0.0            8.80058f-36    0.0         …    3.0f-45       0.0\n",
       "   0.0            0.0          NaN                0.0           0.0\n",
       "   0.0           -4.55969f32   NaN                0.0           0.0\n",
       " NaN              4.5687f-41     0.0              0.0          -4.55969f32\n",
       " NaN              3.0f-45        0.0            NaN             4.5687f-41\n",
       "   0.0            0.0            8.8013f-36  …  NaN             3.0f-45\n",
       "   0.0            0.0            0.0              0.0           0.0\n",
       "   8.80025f-36    0.0           -4.55969f32       0.0           0.0\n",
       "   0.0          NaN              4.5687f-41       0.0           0.0\n",
       "  -4.55969f32   NaN              3.0f-45          6.0f-45     NaN\n",
       "   4.5687f-41     0.0            0.0         …   -4.55969f32  NaN\n",
       "   3.0f-45        0.0            0.0              4.5687f-41    0.0\n",
       "   0.0            8.80096f-36    0.0              3.0f-45       0.0\n",
       "   0.0            0.0          NaN                0.0           0.0\n",
       "\n",
       "[:, :, 2, 2, 1, 1] =\n",
       "   0.0         NaN             4.5687f-41  …    0.0           0.0\n",
       "  -4.55969f32  NaN             3.0f-45          0.0         NaN\n",
       "   4.5687f-41    0.0           0.0             -4.55969f32  NaN\n",
       "   3.0f-45       0.0           0.0              4.5687f-41    0.0\n",
       "   0.0           0.0           0.0              3.0f-45       0.0\n",
       "   0.0           0.0         NaN           …    0.0           4.09974f-32\n",
       "   0.0          -4.55969f32  NaN                0.0           0.0\n",
       " NaN             4.5687f-41    0.0              0.0          -4.55969f32\n",
       " NaN             3.0f-45       0.0            NaN             4.5687f-41\n",
       "   0.0           0.0           0.0            NaN             3.0f-45\n",
       "   0.0           0.0           0.0         …    0.0           0.0\n",
       "   0.0           0.0          -4.55969f32       0.0           0.0\n",
       "   0.0         NaN             4.5687f-41       0.0           0.0\n",
       "  -4.55969f32  NaN             3.0f-45          0.0         NaN\n",
       "   4.5687f-41    0.0           0.0             -4.55969f32  NaN\n",
       "   3.0f-45       0.0           0.0         …    4.5687f-41    0.0\n",
       "   0.0         NaN             0.0              3.0f-45       0.0\n",
       "   0.0         NaN           NaN                0.0           0.0\n",
       "   0.0          -4.55969f32  NaN                0.0           0.0"
      ]
     },
     "execution_count": 17,
     "metadata": {},
     "output_type": "execute_result"
    }
   ],
   "source": [
    "    W_temp =\n",
    "        reshape(Array{eltype(img)}(undef, p.W_l, p.W_l * p.K * p.K), p.W_l, p.W_l, p.K, p.K,1,1) "
   ]
  },
  {
   "cell_type": "code",
   "execution_count": 18,
   "metadata": {},
   "outputs": [],
   "source": [
    "    #ijk,  1x1xk,   ijk\n",
    "    for k ∈ 1:p.K\n",
    "        θ = π * (k - 1.0f0) / p.K\n",
    "        C_A_temp[:, :, k,1,1] = LamKernels.kern_A(p.σ_2, θ)           #ij ijk ijk\n",
    "        C_B_temp[:, :, k,1,1] = LamKernels.kern_B(p.σ_2, θ)               #ij ijk ijk\n",
    "        H_temp[:, :, k,1,1] = p.H_fact .* LamKernels.gaussian_rot(p.H_σ_x, p.H_σ_y, θ, p.H_l)  #ijk, ij for each k; ijk\n",
    "        T_temp[1, 1, k,1,1] = p.T_fact[k]\n",
    "        #todo: generalise T and W for higher K\n",
    "        #         T_temp[:,:,k] = KernelFactors.gaussian(p.T_σ, p.K)\n",
    "        #         for l ∈ 1:p.K\n",
    "        #             W_temp[:,:,l,k] =\n",
    "        #         end\n",
    "    end"
   ]
  },
  {
   "cell_type": "code",
   "execution_count": 19,
   "metadata": {},
   "outputs": [
    {
     "data": {
      "text/plain": [
       "19×19 OffsetArray(::Array{Float64,2}, -9:9, -9:9) with eltype Float64 with indices -9:9×-9:9:\n",
       " 0.2  0.2  0.2  0.2  0.2  0.2  0.2  …  0.2  0.2  0.2  0.2  0.2  0.2  0.2\n",
       " 0.2  0.2  0.2  0.2  0.2  0.2  0.2     0.2  0.2  0.2  0.2  0.2  0.2  0.2\n",
       " 0.2  0.2  0.2  0.2  0.2  0.2  0.2     0.2  0.2  0.2  0.2  0.2  0.2  0.2\n",
       " 0.2  0.2  0.2  0.2  0.2  0.2  0.2     0.2  0.2  0.2  0.2  0.2  0.2  0.2\n",
       " 0.2  0.2  0.2  0.2  0.2  0.2  0.2     0.2  0.2  0.2  0.2  0.2  0.2  0.2\n",
       " 0.2  0.2  0.2  0.2  0.2  0.2  0.2  …  0.2  0.2  0.2  0.2  0.2  0.2  0.2\n",
       " 0.2  0.2  0.2  0.2  0.2  0.2  0.2     0.2  0.2  0.2  0.2  0.2  0.2  0.2\n",
       " 0.2  0.2  0.2  0.2  0.2  0.2  0.2     0.2  0.2  0.2  0.2  0.2  0.2  0.2\n",
       " 0.2  0.2  0.2  0.2  0.2  0.2  0.2     0.2  0.2  0.2  0.2  0.2  0.2  0.2\n",
       " 0.2  0.2  0.2  0.2  0.2  0.2  0.2     0.2  0.2  0.2  0.2  0.2  0.2  0.2\n",
       " 0.2  0.2  0.2  0.2  0.2  0.2  0.2  …  0.2  0.2  0.2  0.2  0.2  0.2  0.2\n",
       " 0.2  0.2  0.2  0.2  0.2  0.2  0.2     0.2  0.2  0.2  0.2  0.2  0.2  0.2\n",
       " 0.2  0.2  0.2  0.2  0.2  0.2  0.2     0.2  0.2  0.2  0.2  0.2  0.2  0.2\n",
       " 0.2  0.2  0.2  0.2  0.2  0.2  0.2     0.2  0.2  0.2  0.2  0.2  0.2  0.2\n",
       " 0.2  0.2  0.2  0.2  0.2  0.2  0.2     0.2  0.2  0.2  0.2  0.2  0.2  0.2\n",
       " 0.2  0.2  0.2  0.2  0.2  0.2  0.2  …  0.2  0.2  0.2  0.2  0.2  0.2  0.2\n",
       " 0.2  0.2  0.2  0.2  0.2  0.2  0.2     0.2  0.2  0.2  0.2  0.2  0.2  0.2\n",
       " 0.2  0.2  0.2  0.2  0.2  0.2  0.2     0.2  0.2  0.2  0.2  0.2  0.2  0.2\n",
       " 0.2  0.2  0.2  0.2  0.2  0.2  0.2     0.2  0.2  0.2  0.2  0.2  0.2  0.2"
      ]
     },
     "execution_count": 19,
     "metadata": {},
     "output_type": "execute_result"
    }
   ],
   "source": [
    "    W_temp[:, :, 1, 1, 1, 1] = \n",
    "        5f0 .* LamKernels.gaussian_rot(3f0, 0.8f0, 0f0, p.W_l) .+\n",
    "        LamKernels.gaussian_rot(0.4f0, 1f0, 0f0, p.W_l)\n",
    "    W_temp[:, :, 2, 2, 1, 1] = \n",
    "        5f0 .* LamKernels.gaussian_rot(3f0, 0.8f0, 0f0, p.W_l) .+\n",
    "        LamKernels.gaussian_rot(0.4f0, 1f0, π / 2f0, p.W_l)\n",
    "    W_temp[:, :, 1, 2, 1, 1] = relu.(\n",
    "        0.2f0 .- LamKernels.gaussian_rot(2f0, 0.6f0, 0f0, p.W_l) .-\n",
    "        LamKernels.gaussian_rot(0.3f0, 1.2f0, 0f0, p.W_l))\n",
    "    W_temp[:, :, 2, 1, 1, 1] = relu.(\n",
    "        0.2f0 .- LamKernels.gaussian_rot(2f0, 0.6f0, 0f0, p.W_l) .-\n",
    "        LamKernels.gaussian_rot(0.3f0, 1.2f0, π / 2f0, p.W_l))"
   ]
  },
  {
   "cell_type": "code",
   "execution_count": 20,
   "metadata": {},
   "outputs": [
    {
     "data": {
      "text/plain": [
       "(k_gauss_1 = Float32[0.0029690173 0.013306212 … 0.013306212 0.0029690173; 0.013306212 0.059634306 … 0.059634306 0.013306212; … ; 0.013306212 0.059634306 … 0.059634306 0.013306212; 0.0029690173 0.013306212 … 0.013306212 0.0029690173], k_gauss_2 = Float32[6.9624775f-8 2.808864f-5 … 2.808864f-5 6.9624775f-8; 2.808864f-5 0.011331766 … 0.011331766 2.808864f-5; … ; 2.808864f-5 0.011331766 … 0.011331766 2.808864f-5; 6.9624775f-8 2.808864f-5 … 2.808864f-5 6.9624775f-8], k_C_A = Float32[0.124950476 0.04048735 … -0.04048735 -0.124950476; 0.124950476 0.04048735 … -0.04048735 -0.124950476; … ; 0.124950476 0.04048735 … -0.04048735 -0.124950476; 0.124950476 0.04048735 … -0.04048735 -0.124950476]\n",
       "\n",
       "Float32[0.12495046 0.12495046 … 0.124950476 0.12495049; 0.040487345 0.040487345 … 0.04048735 0.040487353; … ; -0.040487353 -0.04048735 … -0.040487345 -0.040487345; -0.12495049 -0.124950476 … -0.12495046 -0.12495046], k_C_B = Float32[0.124950476 0.04048735 … 0.04048735 0.124950476; 0.124950476 0.04048735 … 0.04048735 0.124950476; … ; 0.124950476 0.04048735 … 0.04048735 0.124950476; 0.124950476 0.04048735 … 0.04048735 0.124950476]\n",
       "\n",
       "Float32[0.12495046 0.12495046 … 0.124950476 0.12495049; 0.040487345 0.040487345 … 0.04048735 0.040487353; … ; 0.040487353 0.04048735 … 0.040487345 0.040487345; 0.12495049 0.124950476 … 0.12495046 0.12495046], k_W_p = Float32[1.2139208f-30 7.1148203f-25 … 7.1148203f-25 1.2139208f-30; 3.1214517f-30 1.8294907f-24 … 1.8294907f-24 3.1214517f-30; … ; 3.1214517f-30 1.8294907f-24 … 1.8294907f-24 3.1214517f-30; 1.2139208f-30 7.1148203f-25 … 7.1148203f-25 1.2139208f-30]\n",
       "\n",
       "Float32[0.2 0.2 … 0.2 0.2; 0.2 0.2 … 0.2 0.2; … ; 0.2 0.2 … 0.2 0.2; 0.2 0.2 … 0.2 0.2]\n",
       "\n",
       "Float32[0.2 0.2 … 0.2 0.2; 0.2 0.2 … 0.2 0.2; … ; 0.2 0.2 … 0.2 0.2; 0.2 0.2 … 0.2 0.2]\n",
       "\n",
       "Float32[1.2139208f-30 7.1148203f-25 … 7.1148203f-25 1.2139208f-30; 3.1214517f-30 1.8294907f-24 … 1.8294907f-24 3.1214517f-30; … ; 3.1214517f-30 1.8294907f-24 … 1.8294907f-24 3.1214517f-30; 1.2139208f-30 7.1148203f-25 … 7.1148203f-25 1.2139208f-30], k_W_m = Float32[1.2139208f-30 7.1148203f-25 … 7.1148203f-25 1.2139208f-30; 3.1214517f-30 1.8294907f-24 … 1.8294907f-24 3.1214517f-30; … ; 3.1214517f-30 1.8294907f-24 … 1.8294907f-24 3.1214517f-30; 1.2139208f-30 7.1148203f-25 … 7.1148203f-25 1.2139208f-30]\n",
       "\n",
       "Float32[0.2 0.2 … 0.2 0.2; 0.2 0.2 … 0.2 0.2; … ; 0.2 0.2 … 0.2 0.2; 0.2 0.2 … 0.2 0.2]\n",
       "\n",
       "Float32[0.2 0.2 … 0.2 0.2; 0.2 0.2 … 0.2 0.2; … ; 0.2 0.2 … 0.2 0.2; 0.2 0.2 … 0.2 0.2]\n",
       "\n",
       "Float32[1.2139208f-30 7.1148203f-25 … 7.1148203f-25 1.2139208f-30; 3.1214517f-30 1.8294907f-24 … 1.8294907f-24 3.1214517f-30; … ; 3.1214517f-30 1.8294907f-24 … 1.8294907f-24 3.1214517f-30; 1.2139208f-30 7.1148203f-25 … 7.1148203f-25 1.2139208f-30], k_H = Float32[5.9727274f-5 0.000101599515 … 0.000101599515 5.9727274f-5; 0.00015358174 0.00026125135 … 0.00026125135 0.00015358174; … ; 0.00015358174 0.00026125135 … 0.00026125135 0.00015358174; 5.9727274f-5 0.000101599515 … 0.000101599515 5.9727274f-5]\n",
       "\n",
       "Float32[5.9727274f-5 0.00015358174 … 0.00015358182 5.9727274f-5; 0.000101599515 0.00026125147 … 0.00026125147 0.000101599515; … ; 0.000101599515 0.00026125147 … 0.00026125147 0.000101599515; 5.9727274f-5 0.00015358182 … 0.00015358174 5.9727274f-5], k_T_p = Float32[0.87]\n",
       "\n",
       "Float32[0.13], k_T_m = Float32[0.26274]\n",
       "\n",
       "Float32[0.039259996], k_T_p_v2 = Float32[0.54375]\n",
       "\n",
       "Float32[0.08125], k_T_m_v2 = Float32[0.1642125]\n",
       "\n",
       "Float32[0.024537498], dim_i = 100, dim_j = 100, x_V2 = Float32[0.0 0.0 … 0.0 0.0; 0.0 0.0 … 0.0 0.0; … ; 0.0 0.0 … 0.0 0.0; 0.0 0.0 … 0.0 0.0]\n",
       "\n",
       "Float32[0.0 0.0 … 0.0 0.0; 0.0 0.0 … 0.0 0.0; … ; 0.0 0.0 … 0.0 0.0; 0.0 0.0 … 0.0 0.0])"
      ]
     },
     "execution_count": 20,
     "metadata": {},
     "output_type": "execute_result"
    }
   ],
   "source": [
    "    # todo fix W kernel\n",
    "    #  W_temp[:,:,1,1] = reflect(LamKernels.gaussian_rot(3,0.8,0,19))\n",
    "    #     W_temp[:,:,2,2] = reflect(LamKernels.gaussian_rot(3,0.8,0,19))\n",
    "    #     W_temp[:,:,1,2] = reflect(LamKernels.gaussian_rot(3,0.8,0,19))\n",
    "    #     W_temp[:,:,2,1] = reflect(LamKernels.gaussian_rot(3,0.8,0,19))\n",
    "\n",
    "  \n",
    "\n",
    "    temp_out = (\n",
    "        k_gauss_1 = CuArray(reshape2d_4d(Kernel.gaussian(p.σ_1))),\n",
    "        k_gauss_2 = CuArray(reshape2d_4d(Kernel.gaussian(p.σ_2))),\n",
    "        k_C_A = CuArray(C_A_temp),\n",
    "        k_C_B = CuArray(C_B_temp),\n",
    "        k_W_p = CuArray(W_temp),\n",
    "        k_W_m = CuArray(W_temp),\n",
    "        k_H = CuArray(H_temp),\n",
    "        k_T_p = CuArray(T_temp),\n",
    "        k_T_m = CuArray((p.T_p_m .* T_temp)),\n",
    "        k_T_p_v2 = CuArray((p.T_v2_fact .* T_temp)),\n",
    "        k_T_m_v2 = CuArray((p.T_v2_fact .* p.T_p_m .* T_temp)),\n",
    "        dim_i = size(img)[1],\n",
    "        dim_j = size(img)[2],\n",
    "        x_V2 = reshape(CUDA.zeros(typeof(img[1, 1]), size(img)[1], size(img)[2] * p.K), size(img)[1], size(img)[2],p.K,1,1),)"
   ]
  },
  {
   "cell_type": "code",
   "execution_count": 21,
   "metadata": {},
   "outputs": [
    {
     "data": {
      "text/plain": [
       "(K = 2, δ_v = 1.25f0, δ_c = 0.25f0, δ_m = 0.01875f0, δ_z = 0.125f0, δ_s = 2.5f0, σ_1 = 1.0f0, C_1 = 1.5f0, C_2 = 0.075f0, σ_2 = 0.5f0, γ = 10.0f0, α = 0.5f0, ϕ = 2.0f0, Γ = 0.2f0, v_21 = 0.0f0, μ = 2.0f0, ν = 1.1f0, n = 6.0f0, att = 0.0f0, η_p = 2.1f0, η_m = 1.5f0, λ = 1.5f0, a_23_ex = 3.0f0, a_23_in = 0.5f0, v12_6 = 1.0f0, v12_4 = 5.0f0, ψ = 0.5f0, C_AB_l = 5, H_σ_x = 3.0f0, H_σ_y = 4.0f0, H_fact = 5.0f0, H_l = 19, T_fact = Float32[0.87, 0.13], T_p_m = 0.302f0, T_v2_fact = 0.625f0, H_size = 19, W_size = 19, lgn_equ_u = 1.0f0, lgn_equ_A = 0.0f0, lgn_equ_B = 0.0f0, filling = \"circular\", W_l = 19, k_gauss_1 = Float32[0.0029690173 0.013306212 … 0.013306212 0.0029690173; 0.013306212 0.059634306 … 0.059634306 0.013306212; … ; 0.013306212 0.059634306 … 0.059634306 0.013306212; 0.0029690173 0.013306212 … 0.013306212 0.0029690173], k_gauss_2 = Float32[6.9624775f-8 2.808864f-5 … 2.808864f-5 6.9624775f-8; 2.808864f-5 0.011331766 … 0.011331766 2.808864f-5; … ; 2.808864f-5 0.011331766 … 0.011331766 2.808864f-5; 6.9624775f-8 2.808864f-5 … 2.808864f-5 6.9624775f-8], k_C_A = Float32[0.124950476 0.04048735 … -0.04048735 -0.124950476; 0.124950476 0.04048735 … -0.04048735 -0.124950476; … ; 0.124950476 0.04048735 … -0.04048735 -0.124950476; 0.124950476 0.04048735 … -0.04048735 -0.124950476]\n",
       "\n",
       "Float32[0.12495046 0.12495046 … 0.124950476 0.12495049; 0.040487345 0.040487345 … 0.04048735 0.040487353; … ; -0.040487353 -0.04048735 … -0.040487345 -0.040487345; -0.12495049 -0.124950476 … -0.12495046 -0.12495046], k_C_B = Float32[0.124950476 0.04048735 … 0.04048735 0.124950476; 0.124950476 0.04048735 … 0.04048735 0.124950476; … ; 0.124950476 0.04048735 … 0.04048735 0.124950476; 0.124950476 0.04048735 … 0.04048735 0.124950476]\n",
       "\n",
       "Float32[0.12495046 0.12495046 … 0.124950476 0.12495049; 0.040487345 0.040487345 … 0.04048735 0.040487353; … ; 0.040487353 0.04048735 … 0.040487345 0.040487345; 0.12495049 0.124950476 … 0.12495046 0.12495046], k_W_p = Float32[1.2139208f-30 7.1148203f-25 … 7.1148203f-25 1.2139208f-30; 3.1214517f-30 1.8294907f-24 … 1.8294907f-24 3.1214517f-30; … ; 3.1214517f-30 1.8294907f-24 … 1.8294907f-24 3.1214517f-30; 1.2139208f-30 7.1148203f-25 … 7.1148203f-25 1.2139208f-30]\n",
       "\n",
       "Float32[0.2 0.2 … 0.2 0.2; 0.2 0.2 … 0.2 0.2; … ; 0.2 0.2 … 0.2 0.2; 0.2 0.2 … 0.2 0.2]\n",
       "\n",
       "Float32[0.2 0.2 … 0.2 0.2; 0.2 0.2 … 0.2 0.2; … ; 0.2 0.2 … 0.2 0.2; 0.2 0.2 … 0.2 0.2]\n",
       "\n",
       "Float32[1.2139208f-30 7.1148203f-25 … 7.1148203f-25 1.2139208f-30; 3.1214517f-30 1.8294907f-24 … 1.8294907f-24 3.1214517f-30; … ; 3.1214517f-30 1.8294907f-24 … 1.8294907f-24 3.1214517f-30; 1.2139208f-30 7.1148203f-25 … 7.1148203f-25 1.2139208f-30], k_W_m = Float32[1.2139208f-30 7.1148203f-25 … 7.1148203f-25 1.2139208f-30; 3.1214517f-30 1.8294907f-24 … 1.8294907f-24 3.1214517f-30; … ; 3.1214517f-30 1.8294907f-24 … 1.8294907f-24 3.1214517f-30; 1.2139208f-30 7.1148203f-25 … 7.1148203f-25 1.2139208f-30]\n",
       "\n",
       "Float32[0.2 0.2 … 0.2 0.2; 0.2 0.2 … 0.2 0.2; … ; 0.2 0.2 … 0.2 0.2; 0.2 0.2 … 0.2 0.2]\n",
       "\n",
       "Float32[0.2 0.2 … 0.2 0.2; 0.2 0.2 … 0.2 0.2; … ; 0.2 0.2 … 0.2 0.2; 0.2 0.2 … 0.2 0.2]\n",
       "\n",
       "Float32[1.2139208f-30 7.1148203f-25 … 7.1148203f-25 1.2139208f-30; 3.1214517f-30 1.8294907f-24 … 1.8294907f-24 3.1214517f-30; … ; 3.1214517f-30 1.8294907f-24 … 1.8294907f-24 3.1214517f-30; 1.2139208f-30 7.1148203f-25 … 7.1148203f-25 1.2139208f-30], k_H = Float32[5.9727274f-5 0.000101599515 … 0.000101599515 5.9727274f-5; 0.00015358174 0.00026125135 … 0.00026125135 0.00015358174; … ; 0.00015358174 0.00026125135 … 0.00026125135 0.00015358174; 5.9727274f-5 0.000101599515 … 0.000101599515 5.9727274f-5]\n",
       "\n",
       "Float32[5.9727274f-5 0.00015358174 … 0.00015358182 5.9727274f-5; 0.000101599515 0.00026125147 … 0.00026125147 0.000101599515; … ; 0.000101599515 0.00026125147 … 0.00026125147 0.000101599515; 5.9727274f-5 0.00015358182 … 0.00015358174 5.9727274f-5], k_T_p = Float32[0.87]\n",
       "\n",
       "Float32[0.13], k_T_m = Float32[0.26274]\n",
       "\n",
       "Float32[0.039259996], k_T_p_v2 = Float32[0.54375]\n",
       "\n",
       "Float32[0.08125], k_T_m_v2 = Float32[0.1642125]\n",
       "\n",
       "Float32[0.024537498], dim_i = 100, dim_j = 100, x_V2 = Float32[0.0 0.0 … 0.0 0.0; 0.0 0.0 … 0.0 0.0; … ; 0.0 0.0 … 0.0 0.0; 0.0 0.0 … 0.0 0.0]\n",
       "\n",
       "Float32[0.0 0.0 … 0.0 0.0; 0.0 0.0 … 0.0 0.0; … ; 0.0 0.0 … 0.0 0.0; 0.0 0.0 … 0.0 0.0], I = Float32[0.0 0.0 … 0.0 0.0; 0.0 0.0 … 0.0 0.0; … ; 0.0 0.0 … 0.0 0.0; 0.0 0.0 … 0.0 0.0], r = Float32[0.0 0.0 … 0.0 0.0; 0.0 0.0 … 0.0 0.0; … ; 0.0 0.0 … 0.0 0.0; 0.0 0.0 … 0.0 0.0])"
      ]
     },
     "execution_count": 21,
     "metadata": {},
     "output_type": "execute_result"
    }
   ],
   "source": [
    "    merge(p, temp_out)"
   ]
  },
  {
   "cell_type": "code",
   "execution_count": 22,
   "metadata": {},
   "outputs": [
    {
     "ename": "UndefVarError",
     "evalue": "UndefVarError: gaussian_rot not defined",
     "output_type": "error",
     "traceback": [
      "UndefVarError: gaussian_rot not defined",
      "",
      "Stacktrace:",
      " [1] top-level scope at In[22]:1"
     ]
    }
   ],
   "source": [
    "gaussian_rot(2f0, 0.6f0, 0f0, p.W_l)"
   ]
  },
  {
   "cell_type": "code",
   "execution_count": 81,
   "metadata": {},
   "outputs": [
    {
     "data": {
      "text/plain": [
       "gaussian_rot (generic function with 2 methods)"
      ]
     },
     "execution_count": 81,
     "metadata": {},
     "output_type": "execute_result"
    }
   ],
   "source": [
    "using OffsetArrays\n",
    "function gaussian_rot(σ_x::Real, σ_y::Real, θ::Real, l = 4*ceil(Int, max(σ_a,σ_b))+1)\n",
    "    isodd(l) || throw(ArgumentError(\"length must be odd\"))\n",
    "    w = l>>1\n",
    "    g = OffsetArray(fill(0.0f0, l, l), -w:w, -w:w)\n",
    "    #todo add when σ_x or/and σ_y == 0\n",
    "    for x ∈ -w:w, y ∈ -w:w\n",
    "        g[x,y] = exp(-1f0/2f0*((((x*cos(θ)-y*sin(θ))/σ_x)^2f0)+(((x*sin(θ)+y*cos(θ))/σ_y)^2f0)))\n",
    "    end\n",
    "    centered(g/sum(g))\n",
    "end"
   ]
  },
  {
   "cell_type": "code",
   "execution_count": 33,
   "metadata": {},
   "outputs": [
    {
     "data": {
      "text/plain": [
       "100×1×1 CuArray{Float32,3,Nothing}:\n",
       "[:, :, 1] =\n",
       " 0.0\n",
       " 0.0\n",
       " 0.0\n",
       " 0.0\n",
       " 0.0\n",
       " 0.0\n",
       " 0.0\n",
       " 0.0\n",
       " 0.0\n",
       " 0.0\n",
       " 0.0\n",
       " 0.0\n",
       " 0.0\n",
       " ⋮\n",
       " 0.0\n",
       " 0.0\n",
       " 0.0\n",
       " 0.0\n",
       " 0.0\n",
       " 0.0\n",
       " 0.0\n",
       " 0.0\n",
       " 0.0\n",
       " 0.0\n",
       " 0.0\n",
       " 0.0"
      ]
     },
     "execution_count": 33,
     "metadata": {},
     "output_type": "execute_result"
    }
   ],
   "source": [
    "img_[:,1,:,:]"
   ]
  },
  {
   "cell_type": "code",
   "execution_count": 60,
   "metadata": {},
   "outputs": [
    {
     "data": {
      "text/plain": [
       "1×1×2×1×1 Array{Float32,5}:\n",
       "[:, :, 1, 1, 1] =\n",
       " NaN\n",
       "\n",
       "[:, :, 2, 1, 1] =\n",
       " NaN"
      ]
     },
     "execution_count": 60,
     "metadata": {},
     "output_type": "execute_result"
    }
   ],
   "source": [
    "T_temp = reshape(Array{eltype(img)}(undef, 1, 1 * p.K), 1, 1, p.K,1,1)"
   ]
  },
  {
   "cell_type": "code",
   "execution_count": 61,
   "metadata": {},
   "outputs": [
    {
     "data": {
      "text/plain": [
       "0.87f0"
      ]
     },
     "execution_count": 61,
     "metadata": {},
     "output_type": "execute_result"
    }
   ],
   "source": [
    "T_temp[1, 1, 1,1,1] = p.T_fact[1]"
   ]
  },
  {
   "cell_type": "code",
   "execution_count": 62,
   "metadata": {},
   "outputs": [
    {
     "data": {
      "text/plain": [
       "0.13f0"
      ]
     },
     "execution_count": 62,
     "metadata": {},
     "output_type": "execute_result"
    }
   ],
   "source": [
    "T_temp[1, 1, 2,1,1] = p.T_fact[2]"
   ]
  },
  {
   "cell_type": "code",
   "execution_count": 63,
   "metadata": {},
   "outputs": [
    {
     "data": {
      "text/plain": [
       "1×1×1×1 Array{Float32,4}:\n",
       "[:, :, 1, 1] =\n",
       " 0.87"
      ]
     },
     "execution_count": 63,
     "metadata": {},
     "output_type": "execute_result"
    }
   ],
   "source": [
    "T_temp[:,:,1,:,:]"
   ]
  },
  {
   "cell_type": "code",
   "execution_count": 43,
   "metadata": {},
   "outputs": [
    {
     "data": {
      "text/plain": [
       "1×1×2 Array{Float32,3}:\n",
       "[:, :, 1] =\n",
       " -4.352956f13\n",
       "\n",
       "[:, :, 2] =\n",
       " 4.5884f-41"
      ]
     },
     "execution_count": 43,
     "metadata": {},
     "output_type": "execute_result"
    }
   ],
   "source": [
    "T_temp_ = reshape(Array{eltype(img)}(undef, 1, 1 * p.K), 1, 1, p.K)"
   ]
  },
  {
   "cell_type": "code",
   "execution_count": 44,
   "metadata": {},
   "outputs": [
    {
     "data": {
      "text/plain": [
       "1×1 Array{Float32,2}:\n",
       " 0.87"
      ]
     },
     "execution_count": 44,
     "metadata": {},
     "output_type": "execute_result"
    }
   ],
   "source": [
    "T_temp_[:, :, 1] = reshape([p.T_fact[1]], 1, 1)"
   ]
  },
  {
   "cell_type": "code",
   "execution_count": 45,
   "metadata": {},
   "outputs": [
    {
     "data": {
      "text/plain": [
       "1×1×2 Array{Float32,3}:\n",
       "[:, :, 1] =\n",
       " 0.87\n",
       "\n",
       "[:, :, 2] =\n",
       " 4.5884f-41"
      ]
     },
     "execution_count": 45,
     "metadata": {},
     "output_type": "execute_result"
    }
   ],
   "source": [
    "T_temp_"
   ]
  },
  {
   "cell_type": "code",
   "execution_count": 46,
   "metadata": {},
   "outputs": [
    {
     "data": {
      "text/plain": [
       "1×1×2 Array{Float32,3}:\n",
       "[:, :, 1] =\n",
       " -4.0566033f13\n",
       "\n",
       "[:, :, 2] =\n",
       " 4.5884f-41"
      ]
     },
     "execution_count": 46,
     "metadata": {},
     "output_type": "execute_result"
    }
   ],
   "source": [
    "T_temp__ = reshape(Array{eltype(img)}(undef, 1, 1 * p.K), 1, 1, p.K)"
   ]
  },
  {
   "cell_type": "code",
   "execution_count": 47,
   "metadata": {},
   "outputs": [
    {
     "ename": "ArgumentError",
     "evalue": "ArgumentError: indexed assignment with a single value to many locations is not supported; perhaps use broadcasting `.=` instead?",
     "output_type": "error",
     "traceback": [
      "ArgumentError: indexed assignment with a single value to many locations is not supported; perhaps use broadcasting `.=` instead?",
      "",
      "Stacktrace:",
      " [1] setindex_shape_check(::Float32, ::Int64, ::Int64, ::Int64) at ./indices.jl:258",
      " [2] macro expansion at ./multidimensional.jl:779 [inlined]",
      " [3] _unsafe_setindex!(::IndexLinear, ::Array{Float32,3}, ::Float32, ::Base.Slice{Base.OneTo{Int64}}, ::Base.Slice{Base.OneTo{Int64}}, ::Int64) at ./multidimensional.jl:774",
      " [4] _setindex! at ./multidimensional.jl:769 [inlined]",
      " [5] setindex!(::Array{Float32,3}, ::Float32, ::Function, ::Function, ::Int64) at ./abstractarray.jl:1073",
      " [6] top-level scope at In[47]:1"
     ]
    }
   ],
   "source": [
    "T_temp__[:, :, 1] = p.T_fact[1]"
   ]
  },
  {
   "cell_type": "code",
   "execution_count": 48,
   "metadata": {},
   "outputs": [
    {
     "data": {
      "text/plain": [
       "2-element Array{Float32,1}:\n",
       " 0.87\n",
       " 0.13"
      ]
     },
     "execution_count": 48,
     "metadata": {},
     "output_type": "execute_result"
    }
   ],
   "source": [
    " p.T_fact"
   ]
  },
  {
   "cell_type": "code",
   "execution_count": 73,
   "metadata": {},
   "outputs": [
    {
     "data": {
      "text/plain": [
       "1.5707964f0"
      ]
     },
     "execution_count": 73,
     "metadata": {},
     "output_type": "execute_result"
    }
   ],
   "source": [
    " π / 2f0"
   ]
  },
  {
   "cell_type": "code",
   "execution_count": null,
   "metadata": {},
   "outputs": [],
   "source": []
  }
 ],
 "metadata": {
  "kernelspec": {
   "display_name": "Julia 1.4.2",
   "language": "julia",
   "name": "julia-1.4"
  },
  "language_info": {
   "file_extension": ".jl",
   "mimetype": "application/julia",
   "name": "julia",
   "version": "1.4.2"
  }
 },
 "nbformat": 4,
 "nbformat_minor": 4
}
