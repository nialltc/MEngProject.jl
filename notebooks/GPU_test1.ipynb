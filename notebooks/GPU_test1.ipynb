{
 "cells": [
  {
   "cell_type": "code",
   "execution_count": 2,
   "metadata": {},
   "outputs": [
    {
     "name": "stderr",
     "output_type": "stream",
     "text": [
      "┌ Info: Precompiling MEngProject [d0493a11-efc0-4c7c-9b66-d0bd5a04cc55]\n",
      "└ @ Base loading.jl:1260\n",
      "ERROR: LoadError: LoadError: syntax: extra token \")\" after end of expression\n",
      "Stacktrace:\n",
      " [1] top-level scope at /mnt/storage_1/users/cullinanen/.julia/dev/MEngProject.jl/src/Parameters.jl:64\n",
      " [2] include(::Module, ::String) at ./Base.jl:377\n",
      " [3] include(::String) at /mnt/storage_1/users/cullinanen/.julia/dev/MEngProject.jl/src/MEngProject.jl:1\n",
      " [4] top-level scope at /mnt/storage_1/users/cullinanen/.julia/dev/MEngProject.jl/src/MEngProject.jl:7\n",
      " [5] include(::Module, ::String) at ./Base.jl:377\n",
      " [6] top-level scope at none:2\n",
      " [7] eval at ./boot.jl:331 [inlined]\n",
      " [8] eval(::Expr) at ./client.jl:449\n",
      " [9] top-level scope at ./none:3\n",
      "in expression starting at /mnt/storage_1/users/cullinanen/.julia/dev/MEngProject.jl/src/Parameters.jl:64\n",
      "in expression starting at /mnt/storage_1/users/cullinanen/.julia/dev/MEngProject.jl/src/MEngProject.jl:7\n"
     ]
    },
    {
     "ename": "ErrorException",
     "evalue": "Failed to precompile MEngProject [d0493a11-efc0-4c7c-9b66-d0bd5a04cc55] to /mnt/storage_1/users/cullinanen/.julia/compiled/v1.4/MEngProject/ixx4J_19dC0.ji.",
     "output_type": "error",
     "traceback": [
      "Failed to precompile MEngProject [d0493a11-efc0-4c7c-9b66-d0bd5a04cc55] to /mnt/storage_1/users/cullinanen/.julia/compiled/v1.4/MEngProject/ixx4J_19dC0.ji.",
      "",
      "Stacktrace:",
      " [1] error(::String) at ./error.jl:33",
      " [2] compilecache(::Base.PkgId, ::String) at ./loading.jl:1272",
      " [3] _require(::Base.PkgId) at ./loading.jl:1029",
      " [4] require(::Base.PkgId) at ./loading.jl:927",
      " [5] require(::Module, ::Symbol) at ./loading.jl:922",
      " [6] top-level scope at In[2]:3"
     ]
    }
   ],
   "source": [
    "using DrWatson\n",
    "@quickactivate \"MEngProject\"\n",
    "using MEngProject"
   ]
  },
  {
   "cell_type": "code",
   "execution_count": 3,
   "metadata": {},
   "outputs": [
    {
     "name": "stderr",
     "output_type": "stream",
     "text": [
      "┌ Info: Precompiling MEngProject [d0493a11-efc0-4c7c-9b66-d0bd5a04cc55]\n",
      "└ @ Base loading.jl:1260\n",
      "ERROR: LoadError: LoadError: syntax: extra token \")\" after end of expression\n",
      "Stacktrace:\n",
      " [1] top-level scope at /mnt/storage_1/users/cullinanen/.julia/dev/MEngProject.jl/src/Parameters.jl:64\n",
      " [2] include(::Module, ::String) at ./Base.jl:377\n",
      " [3] include(::String) at /mnt/storage_1/users/cullinanen/.julia/dev/MEngProject.jl/src/MEngProject.jl:1\n",
      " [4] top-level scope at /mnt/storage_1/users/cullinanen/.julia/dev/MEngProject.jl/src/MEngProject.jl:7\n",
      " [5] include(::Module, ::String) at ./Base.jl:377\n",
      " [6] top-level scope at none:2\n",
      " [7] eval at ./boot.jl:331 [inlined]\n",
      " [8] eval(::Expr) at ./client.jl:449\n",
      " [9] top-level scope at ./none:3\n",
      "in expression starting at /mnt/storage_1/users/cullinanen/.julia/dev/MEngProject.jl/src/Parameters.jl:64\n",
      "in expression starting at /mnt/storage_1/users/cullinanen/.julia/dev/MEngProject.jl/src/MEngProject.jl:7\n"
     ]
    },
    {
     "ename": "ErrorException",
     "evalue": "Failed to precompile MEngProject [d0493a11-efc0-4c7c-9b66-d0bd5a04cc55] to /mnt/storage_1/users/cullinanen/.julia/compiled/v1.4/MEngProject/ixx4J_19dC0.ji.",
     "output_type": "error",
     "traceback": [
      "Failed to precompile MEngProject [d0493a11-efc0-4c7c-9b66-d0bd5a04cc55] to /mnt/storage_1/users/cullinanen/.julia/compiled/v1.4/MEngProject/ixx4J_19dC0.ji.",
      "",
      "Stacktrace:",
      " [1] error(::String) at ./error.jl:33",
      " [2] compilecache(::Base.PkgId, ::String) at ./loading.jl:1272",
      " [3] _require(::Base.PkgId) at ./loading.jl:1029",
      " [4] require(::Base.PkgId) at ./loading.jl:927",
      " [5] require(::Module, ::Symbol) at ./loading.jl:922",
      " [6] top-level scope at In[3]:1"
     ]
    }
   ],
   "source": [
    "using CUDA, PyPlot, NNlib,  ImageFiltering, Images, MEngProject, MEngProject.LamKernels, MEngProject.Laminart, MEngProject.Utils, BenchmarkTools, Test"
   ]
  },
  {
   "cell_type": "code",
   "execution_count": 4,
   "metadata": {},
   "outputs": [
    {
     "ename": "UndefVarError",
     "evalue": "UndefVarError: LaminartGPU not defined",
     "output_type": "error",
     "traceback": [
      "UndefVarError: LaminartGPU not defined",
      "",
      "Stacktrace:",
      " [1] top-level scope at In[4]:2"
     ]
    }
   ],
   "source": [
    "img = convert(CuArray{Float32,2}, load(datadir(\"Iine_100_100_gs.png\")));\n",
    "p = LaminartGPU.kernels(img, Parameters.parameters);\n",
    "p = LaminartGPU.add_I_u_p(img, p);"
   ]
  },
  {
   "cell_type": "code",
   "execution_count": null,
   "metadata": {},
   "outputs": [],
   "source": [
    "tspan = (0.0f0, 100.0f0)\n",
    "u0 = reshape(zeros(Float32, p.dim_i, p.dim_j*(5*p.K+2)), p.dim_i, p.dim_j, 5*p.K+2);"
   ]
  }
 ],
 "metadata": {
  "kernelspec": {
   "display_name": "Julia 1.4.2",
   "language": "julia",
   "name": "julia-1.4"
  },
  "language_info": {
   "file_extension": ".jl",
   "mimetype": "application/julia",
   "name": "julia",
   "version": "1.4.2"
  }
 },
 "nbformat": 4,
 "nbformat_minor": 4
}
