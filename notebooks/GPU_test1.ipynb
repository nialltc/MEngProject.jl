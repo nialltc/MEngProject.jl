{
 "cells": [
  {
   "cell_type": "code",
   "execution_count": 5,
   "metadata": {},
   "outputs": [
    {
     "name": "stderr",
     "output_type": "stream",
     "text": [
      "┌ Info: Precompiling MEngProject [d0493a11-efc0-4c7c-9b66-d0bd5a04cc55]\n",
      "└ @ Base loading.jl:1260\n"
     ]
    }
   ],
   "source": [
    "using DrWatson\n",
    "@quickactivate \"MEngProject\"\n",
    "using MEngProject"
   ]
  },
  {
   "cell_type": "code",
   "execution_count": 24,
   "metadata": {},
   "outputs": [],
   "source": [
    "using CUDA, DifferentialEquations, PyPlot, NNlib,  ImageFiltering, Images, MEngProject, MEngProject.LamKernels, MEngProject.Laminart, MEngProject.Utils, BenchmarkTools, Test"
   ]
  },
  {
   "cell_type": "code",
   "execution_count": 124,
   "metadata": {},
   "outputs": [],
   "source": [
    "img = convert(CuArray{Float32,2}, load(datadir(\"Iine_100_100_gs.png\")));\n",
    "p = LaminartGPU.kernels(img, Parameters.parameters);\n",
    "p = LaminartGPU.add_I_u_p(img, p);"
   ]
  },
  {
   "cell_type": "code",
   "execution_count": 125,
   "metadata": {},
   "outputs": [],
   "source": [
    "tspan = (0.0f0, 100.0f0)\n",
    "u0 = reshape(CUDA.zeros(Float32, p.dim_i, p.dim_j*(5*p.K+2)), p.dim_i, p.dim_j, 5*p.K+2,1);"
   ]
  },
  {
   "cell_type": "code",
   "execution_count": 126,
   "metadata": {},
   "outputs": [
    {
     "data": {
      "text/plain": [
       "(::MEngProject.LaminartGPU.MyFunction{CuArray{Float32,4,CuArray{Float32,2,Nothing}}}) (generic function with 1 method)"
      ]
     },
     "execution_count": 126,
     "metadata": {},
     "output_type": "execute_result"
    }
   ],
   "source": [
    "x_lgn = reshape(CuArray{Float32}(undef, p.dim_i, p.dim_j * p.K), p.dim_i, p.dim_j, p.K,1)\n",
    "C = reshape(CuArray{Float32}(undef, p.dim_i, p.dim_j * p.K), p.dim_i, p.dim_j, p.K,1)\n",
    "H_z = reshape(CuArray{Float32}(undef, p.dim_i, p.dim_j * p.K), p.dim_i, p.dim_j, p.K,1)\n",
    "\n",
    "\n",
    "f = LaminartGPU.MyFunction(x_lgn, C, H_z)"
   ]
  },
  {
   "cell_type": "code",
   "execution_count": 127,
   "metadata": {},
   "outputs": [
    {
     "data": {
      "text/plain": [
       "\u001b[36mODEProblem\u001b[0m with uType \u001b[36mCuArray{Float32,4,CuArray{Float32,2,Nothing}}\u001b[0m and tType \u001b[36mFloat32\u001b[0m. In-place: \u001b[36mtrue\u001b[0m\n",
       "timespan: (0.0f0, 100.0f0)\n",
       "u0: Float32[0.0 0.0 … 0.0 0.0; 0.0 0.0 … 0.0 0.0; … ; 0.0 0.0 … 0.0 0.0; 0.0 0.0 … 0.0 0.0]\n",
       "\n",
       "Float32[0.0 0.0 … 0.0 0.0; 0.0 0.0 … 0.0 0.0; … ; 0.0 0.0 … 0.0 0.0; 0.0 0.0 … 0.0 0.0]\n",
       "\n",
       "Float32[0.0 0.0 … 0.0 0.0; 0.0 0.0 … 0.0 0.0; … ; 0.0 0.0 … 0.0 0.0; 0.0 0.0 … 0.0 0.0]\n",
       "\n",
       "...\n",
       "\n",
       "Float32[0.0 0.0 … 0.0 0.0; 0.0 0.0 … 0.0 0.0; … ; 0.0 0.0 … 0.0 0.0; 0.0 0.0 … 0.0 0.0]\n",
       "\n",
       "Float32[0.0 0.0 … 0.0 0.0; 0.0 0.0 … 0.0 0.0; … ; 0.0 0.0 … 0.0 0.0; 0.0 0.0 … 0.0 0.0]\n",
       "\n",
       "Float32[0.0 0.0 … 0.0 0.0; 0.0 0.0 … 0.0 0.0; … ; 0.0 0.0 … 0.0 0.0; 0.0 0.0 … 0.0 0.0]"
      ]
     },
     "execution_count": 127,
     "metadata": {},
     "output_type": "execute_result"
    }
   ],
   "source": [
    "prob = ODEProblem(f, u0, tspan, p)"
   ]
  },
  {
   "cell_type": "code",
   "execution_count": 128,
   "metadata": {},
   "outputs": [
    {
     "ename": "TaskFailedException",
     "evalue": "TaskFailedException:\nMethodError: no method matching gemm!(::Val{false}, ::Val{false}, ::Int64, ::Int64, ::Int64, ::Float32, ::CuPtr{Float32}, ::CuPtr{Float32}, ::Float32, ::CuPtr{Float32})\nClosest candidates are:\n  gemm!(::Val, ::Val, ::Int64, ::Int64, ::Int64, ::Float32, !Matched::Ptr{Float32}, !Matched::Ptr{Float32}, ::Float32, !Matched::Ptr{Float32}) at /mnt/storage_1/users/cullinanen/.julia/packages/NNlib/sSn9M/src/gemm.jl:35\n  gemm!(::Val, ::Val, ::Int64, ::Int64, ::Int64, !Matched::Float64, !Matched::Ptr{Float64}, !Matched::Ptr{Float64}, !Matched::Float64, !Matched::Ptr{Float64}) at /mnt/storage_1/users/cullinanen/.julia/packages/NNlib/sSn9M/src/gemm.jl:35\n  gemm!(::Val, ::Val, ::Int64, ::Int64, ::Int64, !Matched::Complex{Float64}, !Matched::Ptr{Complex{Float64}}, !Matched::Ptr{Complex{Float64}}, !Matched::Complex{Float64}, !Matched::Ptr{Complex{Float64}}) at /mnt/storage_1/users/cullinanen/.julia/packages/NNlib/sSn9M/src/gemm.jl:35\n  ...\nStacktrace:\n [1] macro expansion at /mnt/storage_1/users/cullinanen/.julia/packages/NNlib/sSn9M/src/impl/conv_im2col.jl:58 [inlined]\n [2] (::NNlib.var\"#430#threadsfor_fun#181\"{CuArray{Float32,3,Nothing},Float32,Float32,CuArray{Float32,5,CuArray{Float32,4,Nothing}},Base.ReshapedArray{Float32,5,SubArray{Float32,4,CuArray{Float32,4,Nothing},Tuple{Base.Slice{Base.OneTo{Int64}},Base.Slice{Base.OneTo{Int64}},UnitRange{Int64},Base.Slice{Base.OneTo{Int64}}},false},Tuple{Base.MultiplicativeInverses.SignedMultiplicativeInverse{Int64},Base.MultiplicativeInverses.SignedMultiplicativeInverse{Int64},Base.MultiplicativeInverses.SignedMultiplicativeInverse{Int64}}},CuArray{Float32,5,CuArray{Float32,4,Nothing}},DenseConvDims{3,(1, 1, 1),2,1,(1, 1, 1),(0, 0, 0, 0, 0, 0),(1, 1, 1),true},Int64,Int64,Int64,UnitRange{Int64}})(::Bool) at ./threadingconstructs.jl:61\n [3] (::NNlib.var\"#430#threadsfor_fun#181\"{CuArray{Float32,3,Nothing},Float32,Float32,CuArray{Float32,5,CuArray{Float32,4,Nothing}},Base.ReshapedArray{Float32,5,SubArray{Float32,4,CuArray{Float32,4,Nothing},Tuple{Base.Slice{Base.OneTo{Int64}},Base.Slice{Base.OneTo{Int64}},UnitRange{Int64},Base.Slice{Base.OneTo{Int64}}},false},Tuple{Base.MultiplicativeInverses.SignedMultiplicativeInverse{Int64},Base.MultiplicativeInverses.SignedMultiplicativeInverse{Int64},Base.MultiplicativeInverses.SignedMultiplicativeInverse{Int64}}},CuArray{Float32,5,CuArray{Float32,4,Nothing}},DenseConvDims{3,(1, 1, 1),2,1,(1, 1, 1),(0, 0, 0, 0, 0, 0),(1, 1, 1),true},Int64,Int64,Int64,UnitRange{Int64}})() at ./threadingconstructs.jl:28",
     "output_type": "error",
     "traceback": [
      "TaskFailedException:\nMethodError: no method matching gemm!(::Val{false}, ::Val{false}, ::Int64, ::Int64, ::Int64, ::Float32, ::CuPtr{Float32}, ::CuPtr{Float32}, ::Float32, ::CuPtr{Float32})\nClosest candidates are:\n  gemm!(::Val, ::Val, ::Int64, ::Int64, ::Int64, ::Float32, !Matched::Ptr{Float32}, !Matched::Ptr{Float32}, ::Float32, !Matched::Ptr{Float32}) at /mnt/storage_1/users/cullinanen/.julia/packages/NNlib/sSn9M/src/gemm.jl:35\n  gemm!(::Val, ::Val, ::Int64, ::Int64, ::Int64, !Matched::Float64, !Matched::Ptr{Float64}, !Matched::Ptr{Float64}, !Matched::Float64, !Matched::Ptr{Float64}) at /mnt/storage_1/users/cullinanen/.julia/packages/NNlib/sSn9M/src/gemm.jl:35\n  gemm!(::Val, ::Val, ::Int64, ::Int64, ::Int64, !Matched::Complex{Float64}, !Matched::Ptr{Complex{Float64}}, !Matched::Ptr{Complex{Float64}}, !Matched::Complex{Float64}, !Matched::Ptr{Complex{Float64}}) at /mnt/storage_1/users/cullinanen/.julia/packages/NNlib/sSn9M/src/gemm.jl:35\n  ...\nStacktrace:\n [1] macro expansion at /mnt/storage_1/users/cullinanen/.julia/packages/NNlib/sSn9M/src/impl/conv_im2col.jl:58 [inlined]\n [2] (::NNlib.var\"#430#threadsfor_fun#181\"{CuArray{Float32,3,Nothing},Float32,Float32,CuArray{Float32,5,CuArray{Float32,4,Nothing}},Base.ReshapedArray{Float32,5,SubArray{Float32,4,CuArray{Float32,4,Nothing},Tuple{Base.Slice{Base.OneTo{Int64}},Base.Slice{Base.OneTo{Int64}},UnitRange{Int64},Base.Slice{Base.OneTo{Int64}}},false},Tuple{Base.MultiplicativeInverses.SignedMultiplicativeInverse{Int64},Base.MultiplicativeInverses.SignedMultiplicativeInverse{Int64},Base.MultiplicativeInverses.SignedMultiplicativeInverse{Int64}}},CuArray{Float32,5,CuArray{Float32,4,Nothing}},DenseConvDims{3,(1, 1, 1),2,1,(1, 1, 1),(0, 0, 0, 0, 0, 0),(1, 1, 1),true},Int64,Int64,Int64,UnitRange{Int64}})(::Bool) at ./threadingconstructs.jl:61\n [3] (::NNlib.var\"#430#threadsfor_fun#181\"{CuArray{Float32,3,Nothing},Float32,Float32,CuArray{Float32,5,CuArray{Float32,4,Nothing}},Base.ReshapedArray{Float32,5,SubArray{Float32,4,CuArray{Float32,4,Nothing},Tuple{Base.Slice{Base.OneTo{Int64}},Base.Slice{Base.OneTo{Int64}},UnitRange{Int64},Base.Slice{Base.OneTo{Int64}}},false},Tuple{Base.MultiplicativeInverses.SignedMultiplicativeInverse{Int64},Base.MultiplicativeInverses.SignedMultiplicativeInverse{Int64},Base.MultiplicativeInverses.SignedMultiplicativeInverse{Int64}}},CuArray{Float32,5,CuArray{Float32,4,Nothing}},DenseConvDims{3,(1, 1, 1),2,1,(1, 1, 1),(0, 0, 0, 0, 0, 0),(1, 1, 1),true},Int64,Int64,Int64,UnitRange{Int64}})() at ./threadingconstructs.jl:28",
      "",
      "Stacktrace:",
      " [1] wait(::Task) at ./task.jl:267",
      " [2] macro expansion at ./threadingconstructs.jl:69 [inlined]",
      " [3] conv_im2col!(::CuArray{Float32,5,CuArray{Float32,4,Nothing}}, ::Base.ReshapedArray{Float32,5,SubArray{Float32,4,CuArray{Float32,4,Nothing},Tuple{Base.Slice{Base.OneTo{Int64}},Base.Slice{Base.OneTo{Int64}},UnitRange{Int64},Base.Slice{Base.OneTo{Int64}}},false},Tuple{Base.MultiplicativeInverses.SignedMultiplicativeInverse{Int64},Base.MultiplicativeInverses.SignedMultiplicativeInverse{Int64},Base.MultiplicativeInverses.SignedMultiplicativeInverse{Int64}}}, ::CuArray{Float32,5,CuArray{Float32,4,Nothing}}, ::DenseConvDims{3,(1, 1, 1),2,1,(1, 1, 1),(0, 0, 0, 0, 0, 0),(1, 1, 1),true}; col::CuArray{Float32,3,Nothing}, alpha::Float32, beta::Float32) at /mnt/storage_1/users/cullinanen/.julia/packages/NNlib/sSn9M/src/impl/conv_im2col.jl:49",
      " [4] conv_im2col! at /mnt/storage_1/users/cullinanen/.julia/packages/NNlib/sSn9M/src/impl/conv_im2col.jl:30 [inlined]",
      " [5] #conv!#120 at /mnt/storage_1/users/cullinanen/.julia/packages/NNlib/sSn9M/src/conv.jl:191 [inlined]",
      " [6] conv!(::CuArray{Float32,5,CuArray{Float32,4,Nothing}}, ::Base.ReshapedArray{Float32,5,SubArray{Float32,4,CuArray{Float32,4,Nothing},Tuple{Base.Slice{Base.OneTo{Int64}},Base.Slice{Base.OneTo{Int64}},UnitRange{Int64},Base.Slice{Base.OneTo{Int64}}},false},Tuple{Base.MultiplicativeInverses.SignedMultiplicativeInverse{Int64},Base.MultiplicativeInverses.SignedMultiplicativeInverse{Int64},Base.MultiplicativeInverses.SignedMultiplicativeInverse{Int64}}}, ::CuArray{Float32,5,CuArray{Float32,4,Nothing}}, ::DenseConvDims{3,(1, 1, 1),2,1,(1, 1, 1),(0, 0, 0, 0, 0, 0),(1, 1, 1),true}) at /mnt/storage_1/users/cullinanen/.julia/packages/NNlib/sSn9M/src/conv.jl:191",
      " [7] conv!(::CuArray{Float32,4,Nothing}, ::SubArray{Float32,4,CuArray{Float32,4,Nothing},Tuple{Base.Slice{Base.OneTo{Int64}},Base.Slice{Base.OneTo{Int64}},UnitRange{Int64},Base.Slice{Base.OneTo{Int64}}},false}, ::CuArray{Float32,4,Nothing}, ::DenseConvDims{2,(1, 1),2,1,(1, 1),(0, 0, 0, 0),(1, 1),true}; kwargs::Base.Iterators.Pairs{Union{},Union{},Tuple{},NamedTuple{(),Tuple{}}}) at /mnt/storage_1/users/cullinanen/.julia/packages/NNlib/sSn9M/src/conv.jl:148",
      " [8] conv! at /mnt/storage_1/users/cullinanen/.julia/packages/NNlib/sSn9M/src/conv.jl:148 [inlined]",
      " [9] conv(::SubArray{Float32,4,CuArray{Float32,4,Nothing},Tuple{Base.Slice{Base.OneTo{Int64}},Base.Slice{Base.OneTo{Int64}},UnitRange{Int64},Base.Slice{Base.OneTo{Int64}}},false}, ::CuArray{Float32,4,Nothing}, ::DenseConvDims{2,(1, 1),2,1,(1, 1),(0, 0, 0, 0),(1, 1),true}; kwargs::Base.Iterators.Pairs{Union{},Union{},Tuple{},NamedTuple{(),Tuple{}}}) at /mnt/storage_1/users/cullinanen/.julia/packages/NNlib/sSn9M/src/conv.jl:91",
      " [10] conv(::SubArray{Float32,4,CuArray{Float32,4,Nothing},Tuple{Base.Slice{Base.OneTo{Int64}},Base.Slice{Base.OneTo{Int64}},UnitRange{Int64},Base.Slice{Base.OneTo{Int64}}},false}, ::CuArray{Float32,4,Nothing}, ::DenseConvDims{2,(1, 1),2,1,(1, 1),(0, 0, 0, 0),(1, 1),true}) at /mnt/storage_1/users/cullinanen/.julia/packages/NNlib/sSn9M/src/conv.jl:89",
      " [11] conv(::SubArray{Float32,4,CuArray{Float32,4,Nothing},Tuple{Base.Slice{Base.OneTo{Int64}},Base.Slice{Base.OneTo{Int64}},UnitRange{Int64},Base.Slice{Base.OneTo{Int64}}},false}, ::CuArray{Float32,4,Nothing}; stride::Int64, pad::Int64, dilation::Int64, flipped::Bool) at /mnt/storage_1/users/cullinanen/.julia/packages/NNlib/sSn9M/src/conv.jl:59",
      " [12] fun_x_lgn! at /mnt/storage_1/users/cullinanen/.julia/dev/MEngProject.jl/src/LaminartGPU.jl:259 [inlined]",
      " [13] (::MEngProject.LaminartGPU.MyFunction{CuArray{Float32,4,CuArray{Float32,2,Nothing}}})(::CuArray{Float32,4,Nothing}, ::CuArray{Float32,4,Nothing}, ::NamedTuple{(:K, :δ_v, :δ_c, :δ_m, :δ_z, :δ_s, :σ_1, :C_1, :C_2, :σ_2, :γ, :α, :ϕ, :Γ, :v_21, :μ, :ν, :n, :att, :η_p, :η_m, :λ, :a_23_ex, :a_23_in, :v12_6, :v12_4, :ψ, :C_AB_l, :H_σ_x, :H_σ_y, :H_fact, :H_l, :T_fact, :T_p_m, :T_v2_fact, :H_size, :W_size, :lgn_equ_u, :lgn_equ_A, :lgn_equ_B, :filling, :W_l, :k_gauss_1, :k_gauss_2, :k_C_A, :k_C_B, :k_x_lgn, :k_W_p, :k_W_m, :k_H, :k_T_p, :k_T_m, :k_T_p_v2, :k_T_m_v2, :dim_i, :dim_j, :x_V2, :I, :r),Tuple{Int64,Float32,Float32,Float32,Float32,Float32,Float32,Float32,Float32,Float32,Float32,Float32,Float32,Float32,Float32,Float32,Float32,Float32,Float32,Float32,Float32,Float32,Float32,Float32,Float32,Float32,Float32,Int64,Float32,Float32,Float32,Int64,Array{Float32,1},Float32,Float32,Int64,Int64,Float32,Float32,Float32,String,Int64,CuArray{Float32,4,Nothing},CuArray{Float32,4,Nothing},CuArray{Float32,4,Nothing},CuArray{Float32,4,Nothing},CuArray{Float32,4,Nothing},CuArray{Float32,4,Nothing},CuArray{Float32,4,Nothing},CuArray{Float32,4,Nothing},CuArray{Float32,4,Nothing},CuArray{Float32,4,Nothing},CuArray{Float32,4,Nothing},CuArray{Float32,4,Nothing},Int64,Int64,CuArray{Float32,5,CuArray{Float32,2,Nothing}},CuArray{Float32,4,CuArray{Float32,2,Nothing}},CuArray{Float32,4,Nothing}}}, ::Float32) at /mnt/storage_1/users/cullinanen/.julia/dev/MEngProject.jl/src/LaminartGPU.jl:63",
      " [14] (::ODEFunction{true,MEngProject.LaminartGPU.MyFunction{CuArray{Float32,4,CuArray{Float32,2,Nothing}}},LinearAlgebra.UniformScaling{Bool},Nothing,Nothing,Nothing,Nothing,Nothing,Nothing,Nothing,Nothing,Nothing,Nothing,Nothing,Nothing})(::CuArray{Float32,4,Nothing}, ::Vararg{Any,N} where N) at /mnt/storage_1/users/cullinanen/.julia/packages/DiffEqBase/JNliX/src/diffeqfunction.jl:248",
      " [15] initialize!(::OrdinaryDiffEq.ODEIntegrator{Tsit5,true,CuArray{Float32,4,Nothing},Nothing,Float32,NamedTuple{(:K, :δ_v, :δ_c, :δ_m, :δ_z, :δ_s, :σ_1, :C_1, :C_2, :σ_2, :γ, :α, :ϕ, :Γ, :v_21, :μ, :ν, :n, :att, :η_p, :η_m, :λ, :a_23_ex, :a_23_in, :v12_6, :v12_4, :ψ, :C_AB_l, :H_σ_x, :H_σ_y, :H_fact, :H_l, :T_fact, :T_p_m, :T_v2_fact, :H_size, :W_size, :lgn_equ_u, :lgn_equ_A, :lgn_equ_B, :filling, :W_l, :k_gauss_1, :k_gauss_2, :k_C_A, :k_C_B, :k_x_lgn, :k_W_p, :k_W_m, :k_H, :k_T_p, :k_T_m, :k_T_p_v2, :k_T_m_v2, :dim_i, :dim_j, :x_V2, :I, :r),Tuple{Int64,Float32,Float32,Float32,Float32,Float32,Float32,Float32,Float32,Float32,Float32,Float32,Float32,Float32,Float32,Float32,Float32,Float32,Float32,Float32,Float32,Float32,Float32,Float32,Float32,Float32,Float32,Int64,Float32,Float32,Float32,Int64,Array{Float32,1},Float32,Float32,Int64,Int64,Float32,Float32,Float32,String,Int64,CuArray{Float32,4,Nothing},CuArray{Float32,4,Nothing},CuArray{Float32,4,Nothing},CuArray{Float32,4,Nothing},CuArray{Float32,4,Nothing},CuArray{Float32,4,Nothing},CuArray{Float32,4,Nothing},CuArray{Float32,4,Nothing},CuArray{Float32,4,Nothing},CuArray{Float32,4,Nothing},CuArray{Float32,4,Nothing},CuArray{Float32,4,Nothing},Int64,Int64,CuArray{Float32,5,CuArray{Float32,2,Nothing}},CuArray{Float32,4,CuArray{Float32,2,Nothing}},CuArray{Float32,4,Nothing}}},Float32,Float32,Float32,Array{CuArray{Float32,4,Nothing},1},ODESolution{Float32,5,Array{CuArray{Float32,4,Nothing},1},Nothing,Nothing,Array{Float32,1},Array{Array{CuArray{Float32,4,Nothing},1},1},ODEProblem{CuArray{Float32,4,CuArray{Float32,2,Nothing}},Tuple{Float32,Float32},true,NamedTuple{(:K, :δ_v, :δ_c, :δ_m, :δ_z, :δ_s, :σ_1, :C_1, :C_2, :σ_2, :γ, :α, :ϕ, :Γ, :v_21, :μ, :ν, :n, :att, :η_p, :η_m, :λ, :a_23_ex, :a_23_in, :v12_6, :v12_4, :ψ, :C_AB_l, :H_σ_x, :H_σ_y, :H_fact, :H_l, :T_fact, :T_p_m, :T_v2_fact, :H_size, :W_size, :lgn_equ_u, :lgn_equ_A, :lgn_equ_B, :filling, :W_l, :k_gauss_1, :k_gauss_2, :k_C_A, :k_C_B, :k_x_lgn, :k_W_p, :k_W_m, :k_H, :k_T_p, :k_T_m, :k_T_p_v2, :k_T_m_v2, :dim_i, :dim_j, :x_V2, :I, :r),Tuple{Int64,Float32,Float32,Float32,Float32,Float32,Float32,Float32,Float32,Float32,Float32,Float32,Float32,Float32,Float32,Float32,Float32,Float32,Float32,Float32,Float32,Float32,Float32,Float32,Float32,Float32,Float32,Int64,Float32,Float32,Float32,Int64,Array{Float32,1},Float32,Float32,Int64,Int64,Float32,Float32,Float32,String,Int64,CuArray{Float32,4,Nothing},CuArray{Float32,4,Nothing},CuArray{Float32,4,Nothing},CuArray{Float32,4,Nothing},CuArray{Float32,4,Nothing},CuArray{Float32,4,Nothing},CuArray{Float32,4,Nothing},CuArray{Float32,4,Nothing},CuArray{Float32,4,Nothing},CuArray{Float32,4,Nothing},CuArray{Float32,4,Nothing},CuArray{Float32,4,Nothing},Int64,Int64,CuArray{Float32,5,CuArray{Float32,2,Nothing}},CuArray{Float32,4,CuArray{Float32,2,Nothing}},CuArray{Float32,4,Nothing}}},ODEFunction{true,MEngProject.LaminartGPU.MyFunction{CuArray{Float32,4,CuArray{Float32,2,Nothing}}},LinearAlgebra.UniformScaling{Bool},Nothing,Nothing,Nothing,Nothing,Nothing,Nothing,Nothing,Nothing,Nothing,Nothing,Nothing,Nothing},Base.Iterators.Pairs{Union{},Union{},Tuple{},NamedTuple{(),Tuple{}}},DiffEqBase.StandardODEProblem},Tsit5,OrdinaryDiffEq.InterpolationData{ODEFunction{true,MEngProject.LaminartGPU.MyFunction{CuArray{Float32,4,CuArray{Float32,2,Nothing}}},LinearAlgebra.UniformScaling{Bool},Nothing,Nothing,Nothing,Nothing,Nothing,Nothing,Nothing,Nothing,Nothing,Nothing,Nothing,Nothing},Array{CuArray{Float32,4,Nothing},1},Array{Float32,1},Array{Array{CuArray{Float32,4,Nothing},1},1},OrdinaryDiffEq.Tsit5Cache{CuArray{Float32,4,Nothing},CuArray{Float32,4,Nothing},CuArray{Float32,4,Nothing},OrdinaryDiffEq.Tsit5ConstantCache{Float32,Float32}}},DiffEqBase.DEStats},ODEFunction{true,MEngProject.LaminartGPU.MyFunction{CuArray{Float32,4,CuArray{Float32,2,Nothing}}},LinearAlgebra.UniformScaling{Bool},Nothing,Nothing,Nothing,Nothing,Nothing,Nothing,Nothing,Nothing,Nothing,Nothing,Nothing,Nothing},OrdinaryDiffEq.Tsit5Cache{CuArray{Float32,4,Nothing},CuArray{Float32,4,Nothing},CuArray{Float32,4,Nothing},OrdinaryDiffEq.Tsit5ConstantCache{Float32,Float32}},OrdinaryDiffEq.DEOptions{Float32,Float32,Float32,Float32,typeof(DiffEqBase.ODE_DEFAULT_NORM),typeof(LinearAlgebra.opnorm),CallbackSet{Tuple{},Tuple{}},typeof(DiffEqBase.ODE_DEFAULT_ISOUTOFDOMAIN),typeof(DiffEqBase.ODE_DEFAULT_PROG_MESSAGE),typeof(DiffEqBase.ODE_DEFAULT_UNSTABLE_CHECK),DataStructures.BinaryHeap{Float32,DataStructures.LessThan},DataStructures.BinaryHeap{Float32,DataStructures.LessThan},Nothing,Nothing,Int64,Tuple{},Tuple{},Tuple{}},CuArray{Float32,4,Nothing},Float32,Nothing,OrdinaryDiffEq.DefaultInit}, ::OrdinaryDiffEq.Tsit5Cache{CuArray{Float32,4,Nothing},CuArray{Float32,4,Nothing},CuArray{Float32,4,Nothing},OrdinaryDiffEq.Tsit5ConstantCache{Float32,Float32}}) at /mnt/storage_1/users/cullinanen/.julia/packages/OrdinaryDiffEq/NsugH/src/perform_step/low_order_rk_perform_step.jl:623",
      " [16] __init(::ODEProblem{CuArray{Float32,4,CuArray{Float32,2,Nothing}},Tuple{Float32,Float32},true,NamedTuple{(:K, :δ_v, :δ_c, :δ_m, :δ_z, :δ_s, :σ_1, :C_1, :C_2, :σ_2, :γ, :α, :ϕ, :Γ, :v_21, :μ, :ν, :n, :att, :η_p, :η_m, :λ, :a_23_ex, :a_23_in, :v12_6, :v12_4, :ψ, :C_AB_l, :H_σ_x, :H_σ_y, :H_fact, :H_l, :T_fact, :T_p_m, :T_v2_fact, :H_size, :W_size, :lgn_equ_u, :lgn_equ_A, :lgn_equ_B, :filling, :W_l, :k_gauss_1, :k_gauss_2, :k_C_A, :k_C_B, :k_x_lgn, :k_W_p, :k_W_m, :k_H, :k_T_p, :k_T_m, :k_T_p_v2, :k_T_m_v2, :dim_i, :dim_j, :x_V2, :I, :r),Tuple{Int64,Float32,Float32,Float32,Float32,Float32,Float32,Float32,Float32,Float32,Float32,Float32,Float32,Float32,Float32,Float32,Float32,Float32,Float32,Float32,Float32,Float32,Float32,Float32,Float32,Float32,Float32,Int64,Float32,Float32,Float32,Int64,Array{Float32,1},Float32,Float32,Int64,Int64,Float32,Float32,Float32,String,Int64,CuArray{Float32,4,Nothing},CuArray{Float32,4,Nothing},CuArray{Float32,4,Nothing},CuArray{Float32,4,Nothing},CuArray{Float32,4,Nothing},CuArray{Float32,4,Nothing},CuArray{Float32,4,Nothing},CuArray{Float32,4,Nothing},CuArray{Float32,4,Nothing},CuArray{Float32,4,Nothing},CuArray{Float32,4,Nothing},CuArray{Float32,4,Nothing},Int64,Int64,CuArray{Float32,5,CuArray{Float32,2,Nothing}},CuArray{Float32,4,CuArray{Float32,2,Nothing}},CuArray{Float32,4,Nothing}}},ODEFunction{true,MEngProject.LaminartGPU.MyFunction{CuArray{Float32,4,CuArray{Float32,2,Nothing}}},LinearAlgebra.UniformScaling{Bool},Nothing,Nothing,Nothing,Nothing,Nothing,Nothing,Nothing,Nothing,Nothing,Nothing,Nothing,Nothing},Base.Iterators.Pairs{Union{},Union{},Tuple{},NamedTuple{(),Tuple{}}},DiffEqBase.StandardODEProblem}, ::Tsit5, ::Tuple{}, ::Tuple{}, ::Tuple{}, ::Type{Val{true}}; saveat::Tuple{}, tstops::Tuple{}, d_discontinuities::Tuple{}, save_idxs::Nothing, save_everystep::Bool, save_on::Bool, save_start::Bool, save_end::Bool, callback::Nothing, dense::Bool, calck::Bool, dt::Float32, dtmin::Nothing, dtmax::Float32, force_dtmin::Bool, adaptive::Bool, gamma::Rational{Int64}, abstol::Nothing, reltol::Nothing, qmin::Rational{Int64}, qmax::Int64, qsteady_min::Int64, qsteady_max::Int64, qoldinit::Rational{Int64}, fullnormalize::Bool, failfactor::Int64, beta1::Nothing, beta2::Nothing, maxiters::Int64, internalnorm::typeof(DiffEqBase.ODE_DEFAULT_NORM), internalopnorm::typeof(LinearAlgebra.opnorm), isoutofdomain::typeof(DiffEqBase.ODE_DEFAULT_ISOUTOFDOMAIN), unstable_check::typeof(DiffEqBase.ODE_DEFAULT_UNSTABLE_CHECK), verbose::Bool, timeseries_errors::Bool, dense_errors::Bool, advance_to_tstop::Bool, stop_at_next_tstop::Bool, initialize_save::Bool, progress::Bool, progress_steps::Int64, progress_name::String, progress_message::typeof(DiffEqBase.ODE_DEFAULT_PROG_MESSAGE), userdata::Nothing, allow_extrapolation::Bool, initialize_integrator::Bool, alias_u0::Bool, alias_du0::Bool, initializealg::OrdinaryDiffEq.DefaultInit, kwargs::Base.Iterators.Pairs{Symbol,Bool,Tuple{Symbol,Symbol},NamedTuple{(:default_set, :second_time),Tuple{Bool,Bool}}}) at /mnt/storage_1/users/cullinanen/.julia/packages/OrdinaryDiffEq/NsugH/src/solve.jl:403",
      " [17] __solve(::ODEProblem{CuArray{Float32,4,CuArray{Float32,2,Nothing}},Tuple{Float32,Float32},true,NamedTuple{(:K, :δ_v, :δ_c, :δ_m, :δ_z, :δ_s, :σ_1, :C_1, :C_2, :σ_2, :γ, :α, :ϕ, :Γ, :v_21, :μ, :ν, :n, :att, :η_p, :η_m, :λ, :a_23_ex, :a_23_in, :v12_6, :v12_4, :ψ, :C_AB_l, :H_σ_x, :H_σ_y, :H_fact, :H_l, :T_fact, :T_p_m, :T_v2_fact, :H_size, :W_size, :lgn_equ_u, :lgn_equ_A, :lgn_equ_B, :filling, :W_l, :k_gauss_1, :k_gauss_2, :k_C_A, :k_C_B, :k_x_lgn, :k_W_p, :k_W_m, :k_H, :k_T_p, :k_T_m, :k_T_p_v2, :k_T_m_v2, :dim_i, :dim_j, :x_V2, :I, :r),Tuple{Int64,Float32,Float32,Float32,Float32,Float32,Float32,Float32,Float32,Float32,Float32,Float32,Float32,Float32,Float32,Float32,Float32,Float32,Float32,Float32,Float32,Float32,Float32,Float32,Float32,Float32,Float32,Int64,Float32,Float32,Float32,Int64,Array{Float32,1},Float32,Float32,Int64,Int64,Float32,Float32,Float32,String,Int64,CuArray{Float32,4,Nothing},CuArray{Float32,4,Nothing},CuArray{Float32,4,Nothing},CuArray{Float32,4,Nothing},CuArray{Float32,4,Nothing},CuArray{Float32,4,Nothing},CuArray{Float32,4,Nothing},CuArray{Float32,4,Nothing},CuArray{Float32,4,Nothing},CuArray{Float32,4,Nothing},CuArray{Float32,4,Nothing},CuArray{Float32,4,Nothing},Int64,Int64,CuArray{Float32,5,CuArray{Float32,2,Nothing}},CuArray{Float32,4,CuArray{Float32,2,Nothing}},CuArray{Float32,4,Nothing}}},ODEFunction{true,MEngProject.LaminartGPU.MyFunction{CuArray{Float32,4,CuArray{Float32,2,Nothing}}},LinearAlgebra.UniformScaling{Bool},Nothing,Nothing,Nothing,Nothing,Nothing,Nothing,Nothing,Nothing,Nothing,Nothing,Nothing,Nothing},Base.Iterators.Pairs{Union{},Union{},Tuple{},NamedTuple{(),Tuple{}}},DiffEqBase.StandardODEProblem}, ::Tsit5; kwargs::Base.Iterators.Pairs{Symbol,Bool,Tuple{Symbol,Symbol},NamedTuple{(:default_set, :second_time),Tuple{Bool,Bool}}}) at /mnt/storage_1/users/cullinanen/.julia/packages/OrdinaryDiffEq/NsugH/src/solve.jl:4",
      " [18] __solve(::ODEProblem{CuArray{Float32,4,CuArray{Float32,2,Nothing}},Tuple{Float32,Float32},true,NamedTuple{(:K, :δ_v, :δ_c, :δ_m, :δ_z, :δ_s, :σ_1, :C_1, :C_2, :σ_2, :γ, :α, :ϕ, :Γ, :v_21, :μ, :ν, :n, :att, :η_p, :η_m, :λ, :a_23_ex, :a_23_in, :v12_6, :v12_4, :ψ, :C_AB_l, :H_σ_x, :H_σ_y, :H_fact, :H_l, :T_fact, :T_p_m, :T_v2_fact, :H_size, :W_size, :lgn_equ_u, :lgn_equ_A, :lgn_equ_B, :filling, :W_l, :k_gauss_1, :k_gauss_2, :k_C_A, :k_C_B, :k_x_lgn, :k_W_p, :k_W_m, :k_H, :k_T_p, :k_T_m, :k_T_p_v2, :k_T_m_v2, :dim_i, :dim_j, :x_V2, :I, :r),Tuple{Int64,Float32,Float32,Float32,Float32,Float32,Float32,Float32,Float32,Float32,Float32,Float32,Float32,Float32,Float32,Float32,Float32,Float32,Float32,Float32,Float32,Float32,Float32,Float32,Float32,Float32,Float32,Int64,Float32,Float32,Float32,Int64,Array{Float32,1},Float32,Float32,Int64,Int64,Float32,Float32,Float32,String,Int64,CuArray{Float32,4,Nothing},CuArray{Float32,4,Nothing},CuArray{Float32,4,Nothing},CuArray{Float32,4,Nothing},CuArray{Float32,4,Nothing},CuArray{Float32,4,Nothing},CuArray{Float32,4,Nothing},CuArray{Float32,4,Nothing},CuArray{Float32,4,Nothing},CuArray{Float32,4,Nothing},CuArray{Float32,4,Nothing},CuArray{Float32,4,Nothing},Int64,Int64,CuArray{Float32,5,CuArray{Float32,2,Nothing}},CuArray{Float32,4,CuArray{Float32,2,Nothing}},CuArray{Float32,4,Nothing}}},ODEFunction{true,MEngProject.LaminartGPU.MyFunction{CuArray{Float32,4,CuArray{Float32,2,Nothing}}},LinearAlgebra.UniformScaling{Bool},Nothing,Nothing,Nothing,Nothing,Nothing,Nothing,Nothing,Nothing,Nothing,Nothing,Nothing,Nothing},Base.Iterators.Pairs{Union{},Union{},Tuple{},NamedTuple{(),Tuple{}}},DiffEqBase.StandardODEProblem}, ::Nothing; default_set::Bool, kwargs::Base.Iterators.Pairs{Symbol,Bool,Tuple{Symbol},NamedTuple{(:second_time,),Tuple{Bool}}}) at /mnt/storage_1/users/cullinanen/.julia/packages/DifferentialEquations/fpohE/src/default_solve.jl:7",
      " [19] #__solve#469 at /mnt/storage_1/users/cullinanen/.julia/packages/DiffEqBase/JNliX/src/solve.jl:254 [inlined]",
      " [20] __solve at /mnt/storage_1/users/cullinanen/.julia/packages/DiffEqBase/JNliX/src/solve.jl:241 [inlined]",
      " [21] solve_call(::ODEProblem{CuArray{Float32,4,CuArray{Float32,2,Nothing}},Tuple{Float32,Float32},true,NamedTuple{(:K, :δ_v, :δ_c, :δ_m, :δ_z, :δ_s, :σ_1, :C_1, :C_2, :σ_2, :γ, :α, :ϕ, :Γ, :v_21, :μ, :ν, :n, :att, :η_p, :η_m, :λ, :a_23_ex, :a_23_in, :v12_6, :v12_4, :ψ, :C_AB_l, :H_σ_x, :H_σ_y, :H_fact, :H_l, :T_fact, :T_p_m, :T_v2_fact, :H_size, :W_size, :lgn_equ_u, :lgn_equ_A, :lgn_equ_B, :filling, :W_l, :k_gauss_1, :k_gauss_2, :k_C_A, :k_C_B, :k_x_lgn, :k_W_p, :k_W_m, :k_H, :k_T_p, :k_T_m, :k_T_p_v2, :k_T_m_v2, :dim_i, :dim_j, :x_V2, :I, :r),Tuple{Int64,Float32,Float32,Float32,Float32,Float32,Float32,Float32,Float32,Float32,Float32,Float32,Float32,Float32,Float32,Float32,Float32,Float32,Float32,Float32,Float32,Float32,Float32,Float32,Float32,Float32,Float32,Int64,Float32,Float32,Float32,Int64,Array{Float32,1},Float32,Float32,Int64,Int64,Float32,Float32,Float32,String,Int64,CuArray{Float32,4,Nothing},CuArray{Float32,4,Nothing},CuArray{Float32,4,Nothing},CuArray{Float32,4,Nothing},CuArray{Float32,4,Nothing},CuArray{Float32,4,Nothing},CuArray{Float32,4,Nothing},CuArray{Float32,4,Nothing},CuArray{Float32,4,Nothing},CuArray{Float32,4,Nothing},CuArray{Float32,4,Nothing},CuArray{Float32,4,Nothing},Int64,Int64,CuArray{Float32,5,CuArray{Float32,2,Nothing}},CuArray{Float32,4,CuArray{Float32,2,Nothing}},CuArray{Float32,4,Nothing}}},ODEFunction{true,MEngProject.LaminartGPU.MyFunction{CuArray{Float32,4,CuArray{Float32,2,Nothing}}},LinearAlgebra.UniformScaling{Bool},Nothing,Nothing,Nothing,Nothing,Nothing,Nothing,Nothing,Nothing,Nothing,Nothing,Nothing,Nothing},Base.Iterators.Pairs{Union{},Union{},Tuple{},NamedTuple{(),Tuple{}}},DiffEqBase.StandardODEProblem}; merge_callbacks::Bool, kwargs::Base.Iterators.Pairs{Union{},Union{},Tuple{},NamedTuple{(),Tuple{}}}) at /mnt/storage_1/users/cullinanen/.julia/packages/DiffEqBase/JNliX/src/solve.jl:92",
      " [22] solve_call at /mnt/storage_1/users/cullinanen/.julia/packages/DiffEqBase/JNliX/src/solve.jl:65 [inlined]",
      " [23] #solve_up#459 at /mnt/storage_1/users/cullinanen/.julia/packages/DiffEqBase/JNliX/src/solve.jl:117 [inlined]",
      " [24] solve_up at /mnt/storage_1/users/cullinanen/.julia/packages/DiffEqBase/JNliX/src/solve.jl:107 [inlined]",
      " [25] #solve#458 at /mnt/storage_1/users/cullinanen/.julia/packages/DiffEqBase/JNliX/src/solve.jl:102 [inlined]",
      " [26] solve(::ODEProblem{CuArray{Float32,4,CuArray{Float32,2,Nothing}},Tuple{Float32,Float32},true,NamedTuple{(:K, :δ_v, :δ_c, :δ_m, :δ_z, :δ_s, :σ_1, :C_1, :C_2, :σ_2, :γ, :α, :ϕ, :Γ, :v_21, :μ, :ν, :n, :att, :η_p, :η_m, :λ, :a_23_ex, :a_23_in, :v12_6, :v12_4, :ψ, :C_AB_l, :H_σ_x, :H_σ_y, :H_fact, :H_l, :T_fact, :T_p_m, :T_v2_fact, :H_size, :W_size, :lgn_equ_u, :lgn_equ_A, :lgn_equ_B, :filling, :W_l, :k_gauss_1, :k_gauss_2, :k_C_A, :k_C_B, :k_x_lgn, :k_W_p, :k_W_m, :k_H, :k_T_p, :k_T_m, :k_T_p_v2, :k_T_m_v2, :dim_i, :dim_j, :x_V2, :I, :r),Tuple{Int64,Float32,Float32,Float32,Float32,Float32,Float32,Float32,Float32,Float32,Float32,Float32,Float32,Float32,Float32,Float32,Float32,Float32,Float32,Float32,Float32,Float32,Float32,Float32,Float32,Float32,Float32,Int64,Float32,Float32,Float32,Int64,Array{Float32,1},Float32,Float32,Int64,Int64,Float32,Float32,Float32,String,Int64,CuArray{Float32,4,Nothing},CuArray{Float32,4,Nothing},CuArray{Float32,4,Nothing},CuArray{Float32,4,Nothing},CuArray{Float32,4,Nothing},CuArray{Float32,4,Nothing},CuArray{Float32,4,Nothing},CuArray{Float32,4,Nothing},CuArray{Float32,4,Nothing},CuArray{Float32,4,Nothing},CuArray{Float32,4,Nothing},CuArray{Float32,4,Nothing},Int64,Int64,CuArray{Float32,5,CuArray{Float32,2,Nothing}},CuArray{Float32,4,CuArray{Float32,2,Nothing}},CuArray{Float32,4,Nothing}}},ODEFunction{true,MEngProject.LaminartGPU.MyFunction{CuArray{Float32,4,CuArray{Float32,2,Nothing}}},LinearAlgebra.UniformScaling{Bool},Nothing,Nothing,Nothing,Nothing,Nothing,Nothing,Nothing,Nothing,Nothing,Nothing,Nothing,Nothing},Base.Iterators.Pairs{Union{},Union{},Tuple{},NamedTuple{(),Tuple{}}},DiffEqBase.StandardODEProblem}) at /mnt/storage_1/users/cullinanen/.julia/packages/DiffEqBase/JNliX/src/solve.jl:100",
      " [27] top-level scope at In[128]:1"
     ]
    }
   ],
   "source": [
    "sol = solve(prob)"
   ]
  },
  {
   "cell_type": "code",
   "execution_count": 56,
   "metadata": {},
   "outputs": [
    {
     "ename": "TaskFailedException",
     "evalue": "TaskFailedException:\nMethodError: no method matching gemm!(::Val{false}, ::Val{false}, ::Int64, ::Int64, ::Int64, ::Float32, ::Ptr{Float32}, ::CuPtr{Float32}, ::Float32, ::Ptr{Float32})\nClosest candidates are:\n  gemm!(::Val, ::Val, ::Int64, ::Int64, ::Int64, ::Float32, ::Ptr{Float32}, !Matched::Ptr{Float32}, ::Float32, ::Ptr{Float32}) at /mnt/storage_1/users/cullinanen/.julia/packages/NNlib/sSn9M/src/gemm.jl:35\n  gemm!(::Val, ::Val, ::Int64, ::Int64, ::Int64, !Matched::Float64, !Matched::Ptr{Float64}, !Matched::Ptr{Float64}, !Matched::Float64, !Matched::Ptr{Float64}) at /mnt/storage_1/users/cullinanen/.julia/packages/NNlib/sSn9M/src/gemm.jl:35\n  gemm!(::Val, ::Val, ::Int64, ::Int64, ::Int64, !Matched::Complex{Float64}, !Matched::Ptr{Complex{Float64}}, !Matched::Ptr{Complex{Float64}}, !Matched::Complex{Float64}, !Matched::Ptr{Complex{Float64}}) at /mnt/storage_1/users/cullinanen/.julia/packages/NNlib/sSn9M/src/gemm.jl:35\n  ...\nStacktrace:\n [1] macro expansion at /mnt/storage_1/users/cullinanen/.julia/packages/NNlib/sSn9M/src/impl/conv_im2col.jl:58 [inlined]\n [2] (::NNlib.var\"#430#threadsfor_fun#181\"{Array{Float32,3},Float32,Float32,Array{Float32,5},Base.ReshapedArray{Float32,5,SubArray{Float32,4,Array{Float32,4},Tuple{Base.Slice{Base.OneTo{Int64}},Base.Slice{Base.OneTo{Int64}},UnitRange{Int64},Base.Slice{Base.OneTo{Int64}}},false},Tuple{Base.MultiplicativeInverses.SignedMultiplicativeInverse{Int64},Base.MultiplicativeInverses.SignedMultiplicativeInverse{Int64},Base.MultiplicativeInverses.SignedMultiplicativeInverse{Int64}}},CuArray{Float32,5,CuArray{Float32,4,Nothing}},DenseConvDims{3,(1, 1, 1),2,1,(1, 1, 1),(0, 0, 0, 0, 0, 0),(1, 1, 1),true},Int64,Int64,Int64,UnitRange{Int64}})(::Bool) at ./threadingconstructs.jl:61\n [3] (::NNlib.var\"#430#threadsfor_fun#181\"{Array{Float32,3},Float32,Float32,Array{Float32,5},Base.ReshapedArray{Float32,5,SubArray{Float32,4,Array{Float32,4},Tuple{Base.Slice{Base.OneTo{Int64}},Base.Slice{Base.OneTo{Int64}},UnitRange{Int64},Base.Slice{Base.OneTo{Int64}}},false},Tuple{Base.MultiplicativeInverses.SignedMultiplicativeInverse{Int64},Base.MultiplicativeInverses.SignedMultiplicativeInverse{Int64},Base.MultiplicativeInverses.SignedMultiplicativeInverse{Int64}}},CuArray{Float32,5,CuArray{Float32,4,Nothing}},DenseConvDims{3,(1, 1, 1),2,1,(1, 1, 1),(0, 0, 0, 0, 0, 0),(1, 1, 1),true},Int64,Int64,Int64,UnitRange{Int64}})() at ./threadingconstructs.jl:28",
     "output_type": "error",
     "traceback": [
      "TaskFailedException:\nMethodError: no method matching gemm!(::Val{false}, ::Val{false}, ::Int64, ::Int64, ::Int64, ::Float32, ::Ptr{Float32}, ::CuPtr{Float32}, ::Float32, ::Ptr{Float32})\nClosest candidates are:\n  gemm!(::Val, ::Val, ::Int64, ::Int64, ::Int64, ::Float32, ::Ptr{Float32}, !Matched::Ptr{Float32}, ::Float32, ::Ptr{Float32}) at /mnt/storage_1/users/cullinanen/.julia/packages/NNlib/sSn9M/src/gemm.jl:35\n  gemm!(::Val, ::Val, ::Int64, ::Int64, ::Int64, !Matched::Float64, !Matched::Ptr{Float64}, !Matched::Ptr{Float64}, !Matched::Float64, !Matched::Ptr{Float64}) at /mnt/storage_1/users/cullinanen/.julia/packages/NNlib/sSn9M/src/gemm.jl:35\n  gemm!(::Val, ::Val, ::Int64, ::Int64, ::Int64, !Matched::Complex{Float64}, !Matched::Ptr{Complex{Float64}}, !Matched::Ptr{Complex{Float64}}, !Matched::Complex{Float64}, !Matched::Ptr{Complex{Float64}}) at /mnt/storage_1/users/cullinanen/.julia/packages/NNlib/sSn9M/src/gemm.jl:35\n  ...\nStacktrace:\n [1] macro expansion at /mnt/storage_1/users/cullinanen/.julia/packages/NNlib/sSn9M/src/impl/conv_im2col.jl:58 [inlined]\n [2] (::NNlib.var\"#430#threadsfor_fun#181\"{Array{Float32,3},Float32,Float32,Array{Float32,5},Base.ReshapedArray{Float32,5,SubArray{Float32,4,Array{Float32,4},Tuple{Base.Slice{Base.OneTo{Int64}},Base.Slice{Base.OneTo{Int64}},UnitRange{Int64},Base.Slice{Base.OneTo{Int64}}},false},Tuple{Base.MultiplicativeInverses.SignedMultiplicativeInverse{Int64},Base.MultiplicativeInverses.SignedMultiplicativeInverse{Int64},Base.MultiplicativeInverses.SignedMultiplicativeInverse{Int64}}},CuArray{Float32,5,CuArray{Float32,4,Nothing}},DenseConvDims{3,(1, 1, 1),2,1,(1, 1, 1),(0, 0, 0, 0, 0, 0),(1, 1, 1),true},Int64,Int64,Int64,UnitRange{Int64}})(::Bool) at ./threadingconstructs.jl:61\n [3] (::NNlib.var\"#430#threadsfor_fun#181\"{Array{Float32,3},Float32,Float32,Array{Float32,5},Base.ReshapedArray{Float32,5,SubArray{Float32,4,Array{Float32,4},Tuple{Base.Slice{Base.OneTo{Int64}},Base.Slice{Base.OneTo{Int64}},UnitRange{Int64},Base.Slice{Base.OneTo{Int64}}},false},Tuple{Base.MultiplicativeInverses.SignedMultiplicativeInverse{Int64},Base.MultiplicativeInverses.SignedMultiplicativeInverse{Int64},Base.MultiplicativeInverses.SignedMultiplicativeInverse{Int64}}},CuArray{Float32,5,CuArray{Float32,4,Nothing}},DenseConvDims{3,(1, 1, 1),2,1,(1, 1, 1),(0, 0, 0, 0, 0, 0),(1, 1, 1),true},Int64,Int64,Int64,UnitRange{Int64}})() at ./threadingconstructs.jl:28",
      "",
      "Stacktrace:",
      " [1] wait(::Task) at ./task.jl:267",
      " [2] macro expansion at ./threadingconstructs.jl:69 [inlined]",
      " [3] conv_im2col!(::Array{Float32,5}, ::Base.ReshapedArray{Float32,5,SubArray{Float32,4,Array{Float32,4},Tuple{Base.Slice{Base.OneTo{Int64}},Base.Slice{Base.OneTo{Int64}},UnitRange{Int64},Base.Slice{Base.OneTo{Int64}}},false},Tuple{Base.MultiplicativeInverses.SignedMultiplicativeInverse{Int64},Base.MultiplicativeInverses.SignedMultiplicativeInverse{Int64},Base.MultiplicativeInverses.SignedMultiplicativeInverse{Int64}}}, ::CuArray{Float32,5,CuArray{Float32,4,Nothing}}, ::DenseConvDims{3,(1, 1, 1),2,1,(1, 1, 1),(0, 0, 0, 0, 0, 0),(1, 1, 1),true}; col::Array{Float32,3}, alpha::Float32, beta::Float32) at /mnt/storage_1/users/cullinanen/.julia/packages/NNlib/sSn9M/src/impl/conv_im2col.jl:49",
      " [4] conv_im2col! at /mnt/storage_1/users/cullinanen/.julia/packages/NNlib/sSn9M/src/impl/conv_im2col.jl:30 [inlined]",
      " [5] #conv!#120 at /mnt/storage_1/users/cullinanen/.julia/packages/NNlib/sSn9M/src/conv.jl:191 [inlined]",
      " [6] conv!(::Array{Float32,5}, ::Base.ReshapedArray{Float32,5,SubArray{Float32,4,Array{Float32,4},Tuple{Base.Slice{Base.OneTo{Int64}},Base.Slice{Base.OneTo{Int64}},UnitRange{Int64},Base.Slice{Base.OneTo{Int64}}},false},Tuple{Base.MultiplicativeInverses.SignedMultiplicativeInverse{Int64},Base.MultiplicativeInverses.SignedMultiplicativeInverse{Int64},Base.MultiplicativeInverses.SignedMultiplicativeInverse{Int64}}}, ::CuArray{Float32,5,CuArray{Float32,4,Nothing}}, ::DenseConvDims{3,(1, 1, 1),2,1,(1, 1, 1),(0, 0, 0, 0, 0, 0),(1, 1, 1),true}) at /mnt/storage_1/users/cullinanen/.julia/packages/NNlib/sSn9M/src/conv.jl:191",
      " [7] conv!(::Array{Float32,4}, ::SubArray{Float32,4,Array{Float32,4},Tuple{Base.Slice{Base.OneTo{Int64}},Base.Slice{Base.OneTo{Int64}},UnitRange{Int64},Base.Slice{Base.OneTo{Int64}}},false}, ::CuArray{Float32,4,Nothing}, ::DenseConvDims{2,(1, 1),2,1,(1, 1),(0, 0, 0, 0),(1, 1),true}; kwargs::Base.Iterators.Pairs{Union{},Union{},Tuple{},NamedTuple{(),Tuple{}}}) at /mnt/storage_1/users/cullinanen/.julia/packages/NNlib/sSn9M/src/conv.jl:148",
      " [8] conv! at /mnt/storage_1/users/cullinanen/.julia/packages/NNlib/sSn9M/src/conv.jl:148 [inlined]",
      " [9] conv(::SubArray{Float32,4,Array{Float32,4},Tuple{Base.Slice{Base.OneTo{Int64}},Base.Slice{Base.OneTo{Int64}},UnitRange{Int64},Base.Slice{Base.OneTo{Int64}}},false}, ::CuArray{Float32,4,Nothing}, ::DenseConvDims{2,(1, 1),2,1,(1, 1),(0, 0, 0, 0),(1, 1),true}; kwargs::Base.Iterators.Pairs{Union{},Union{},Tuple{},NamedTuple{(),Tuple{}}}) at /mnt/storage_1/users/cullinanen/.julia/packages/NNlib/sSn9M/src/conv.jl:91",
      " [10] conv(::SubArray{Float32,4,Array{Float32,4},Tuple{Base.Slice{Base.OneTo{Int64}},Base.Slice{Base.OneTo{Int64}},UnitRange{Int64},Base.Slice{Base.OneTo{Int64}}},false}, ::CuArray{Float32,4,Nothing}, ::DenseConvDims{2,(1, 1),2,1,(1, 1),(0, 0, 0, 0),(1, 1),true}) at /mnt/storage_1/users/cullinanen/.julia/packages/NNlib/sSn9M/src/conv.jl:89",
      " [11] conv(::SubArray{Float32,4,Array{Float32,4},Tuple{Base.Slice{Base.OneTo{Int64}},Base.Slice{Base.OneTo{Int64}},UnitRange{Int64},Base.Slice{Base.OneTo{Int64}}},false}, ::CuArray{Float32,4,Nothing}; stride::Int64, pad::Int64, dilation::Int64, flipped::Bool) at /mnt/storage_1/users/cullinanen/.julia/packages/NNlib/sSn9M/src/conv.jl:59",
      " [12] top-level scope at In[56]:2"
     ]
    }
   ],
   "source": [
    "x .= u0[:, :, 1:p.K,:]\n",
    "NNlib.conv(x, p.k_x_lgn, pad=0,flipped=true)"
   ]
  },
  {
   "cell_type": "code",
   "execution_count": 89,
   "metadata": {},
   "outputs": [
    {
     "data": {
      "text/plain": [
       "1×1×2×1 CuArray{Float32,4,Nothing}:\n",
       "[:, :, 1, 1] =\n",
       " 0.5\n",
       "\n",
       "[:, :, 2, 1] =\n",
       " 0.5"
      ]
     },
     "execution_count": 89,
     "metadata": {},
     "output_type": "execute_result"
    }
   ],
   "source": [
    "p.k_x_lgn"
   ]
  },
  {
   "cell_type": "code",
   "execution_count": 75,
   "metadata": {},
   "outputs": [
    {
     "data": {
      "text/plain": [
       "1×1×2×1 CuArray{Float32,4,Nothing}:\n",
       "[:, :, 1, 1] =\n",
       " 0.5\n",
       "\n",
       "[:, :, 2, 1] =\n",
       " 0.5"
      ]
     },
     "execution_count": 75,
     "metadata": {},
     "output_type": "execute_result"
    }
   ],
   "source": [
    "p.k_x_lgn"
   ]
  },
  {
   "cell_type": "code",
   "execution_count": 53,
   "metadata": {},
   "outputs": [],
   "source": [
    "x_lgn .= 0 \n",
    "C .= 0 \n",
    "H_z .=0\n",
    "u0 .=0;"
   ]
  },
  {
   "cell_type": "code",
   "execution_count": 91,
   "metadata": {},
   "outputs": [
    {
     "data": {
      "text/plain": [
       "100×100×2×1 CuArray{Float32,4,CuArray{Float32,2,Nothing}}:\n",
       "[:, :, 1, 1] =\n",
       " 0.0  0.0  0.0  0.0  0.0  0.0  0.0  0.0  …  0.0  0.0  0.0  0.0  0.0  0.0  0.0\n",
       " 0.0  0.0  0.0  0.0  0.0  0.0  0.0  0.0     0.0  0.0  0.0  0.0  0.0  0.0  0.0\n",
       " 0.0  0.0  0.0  0.0  0.0  0.0  0.0  0.0     0.0  0.0  0.0  0.0  0.0  0.0  0.0\n",
       " 0.0  0.0  0.0  0.0  0.0  0.0  0.0  0.0     0.0  0.0  0.0  0.0  0.0  0.0  0.0\n",
       " 0.0  0.0  0.0  0.0  0.0  0.0  0.0  0.0     0.0  0.0  0.0  0.0  0.0  0.0  0.0\n",
       " 0.0  0.0  0.0  0.0  0.0  0.0  0.0  0.0  …  0.0  0.0  0.0  0.0  0.0  0.0  0.0\n",
       " 0.0  0.0  0.0  0.0  0.0  0.0  0.0  0.0     0.0  0.0  0.0  0.0  0.0  0.0  0.0\n",
       " 0.0  0.0  0.0  0.0  0.0  0.0  0.0  0.0     0.0  0.0  0.0  0.0  0.0  0.0  0.0\n",
       " 0.0  0.0  0.0  0.0  0.0  0.0  0.0  0.0     0.0  0.0  0.0  0.0  0.0  0.0  0.0\n",
       " 0.0  0.0  0.0  0.0  0.0  0.0  0.0  0.0     0.0  0.0  0.0  0.0  0.0  0.0  0.0\n",
       " 0.0  0.0  0.0  0.0  0.0  0.0  0.0  0.0  …  0.0  0.0  0.0  0.0  0.0  0.0  0.0\n",
       " 0.0  0.0  0.0  0.0  0.0  0.0  0.0  0.0     0.0  0.0  0.0  0.0  0.0  0.0  0.0\n",
       " 0.0  0.0  0.0  0.0  0.0  0.0  0.0  0.0     0.0  0.0  0.0  0.0  0.0  0.0  0.0\n",
       " ⋮                        ⋮              ⋱            ⋮                   \n",
       " 0.0  0.0  0.0  0.0  0.0  0.0  0.0  0.0     0.0  0.0  0.0  0.0  0.0  0.0  0.0\n",
       " 0.0  0.0  0.0  0.0  0.0  0.0  0.0  0.0     0.0  0.0  0.0  0.0  0.0  0.0  0.0\n",
       " 0.0  0.0  0.0  0.0  0.0  0.0  0.0  0.0  …  0.0  0.0  0.0  0.0  0.0  0.0  0.0\n",
       " 0.0  0.0  0.0  0.0  0.0  0.0  0.0  0.0     0.0  0.0  0.0  0.0  0.0  0.0  0.0\n",
       " 0.0  0.0  0.0  0.0  0.0  0.0  0.0  0.0     0.0  0.0  0.0  0.0  0.0  0.0  0.0\n",
       " 0.0  0.0  0.0  0.0  0.0  0.0  0.0  0.0     0.0  0.0  0.0  0.0  0.0  0.0  0.0\n",
       " 0.0  0.0  0.0  0.0  0.0  0.0  0.0  0.0     0.0  0.0  0.0  0.0  0.0  0.0  0.0\n",
       " 0.0  0.0  0.0  0.0  0.0  0.0  0.0  0.0  …  0.0  0.0  0.0  0.0  0.0  0.0  0.0\n",
       " 0.0  0.0  0.0  0.0  0.0  0.0  0.0  0.0     0.0  0.0  0.0  0.0  0.0  0.0  0.0\n",
       " 0.0  0.0  0.0  0.0  0.0  0.0  0.0  0.0     0.0  0.0  0.0  0.0  0.0  0.0  0.0\n",
       " 0.0  0.0  0.0  0.0  0.0  0.0  0.0  0.0     0.0  0.0  0.0  0.0  0.0  0.0  0.0\n",
       " 0.0  0.0  0.0  0.0  0.0  0.0  0.0  0.0     0.0  0.0  0.0  0.0  0.0  0.0  0.0\n",
       "\n",
       "[:, :, 2, 1] =\n",
       " 0.0  0.0  0.0  0.0  0.0  0.0  0.0  0.0  …  0.0  0.0  0.0  0.0  0.0  0.0  0.0\n",
       " 0.0  0.0  0.0  0.0  0.0  0.0  0.0  0.0     0.0  0.0  0.0  0.0  0.0  0.0  0.0\n",
       " 0.0  0.0  0.0  0.0  0.0  0.0  0.0  0.0     0.0  0.0  0.0  0.0  0.0  0.0  0.0\n",
       " 0.0  0.0  0.0  0.0  0.0  0.0  0.0  0.0     0.0  0.0  0.0  0.0  0.0  0.0  0.0\n",
       " 0.0  0.0  0.0  0.0  0.0  0.0  0.0  0.0     0.0  0.0  0.0  0.0  0.0  0.0  0.0\n",
       " 0.0  0.0  0.0  0.0  0.0  0.0  0.0  0.0  …  0.0  0.0  0.0  0.0  0.0  0.0  0.0\n",
       " 0.0  0.0  0.0  0.0  0.0  0.0  0.0  0.0     0.0  0.0  0.0  0.0  0.0  0.0  0.0\n",
       " 0.0  0.0  0.0  0.0  0.0  0.0  0.0  0.0     0.0  0.0  0.0  0.0  0.0  0.0  0.0\n",
       " 0.0  0.0  0.0  0.0  0.0  0.0  0.0  0.0     0.0  0.0  0.0  0.0  0.0  0.0  0.0\n",
       " 0.0  0.0  0.0  0.0  0.0  0.0  0.0  0.0     0.0  0.0  0.0  0.0  0.0  0.0  0.0\n",
       " 0.0  0.0  0.0  0.0  0.0  0.0  0.0  0.0  …  0.0  0.0  0.0  0.0  0.0  0.0  0.0\n",
       " 0.0  0.0  0.0  0.0  0.0  0.0  0.0  0.0     0.0  0.0  0.0  0.0  0.0  0.0  0.0\n",
       " 0.0  0.0  0.0  0.0  0.0  0.0  0.0  0.0     0.0  0.0  0.0  0.0  0.0  0.0  0.0\n",
       " ⋮                        ⋮              ⋱            ⋮                   \n",
       " 0.0  0.0  0.0  0.0  0.0  0.0  0.0  0.0     0.0  0.0  0.0  0.0  0.0  0.0  0.0\n",
       " 0.0  0.0  0.0  0.0  0.0  0.0  0.0  0.0     0.0  0.0  0.0  0.0  0.0  0.0  0.0\n",
       " 0.0  0.0  0.0  0.0  0.0  0.0  0.0  0.0  …  0.0  0.0  0.0  0.0  0.0  0.0  0.0\n",
       " 0.0  0.0  0.0  0.0  0.0  0.0  0.0  0.0     0.0  0.0  0.0  0.0  0.0  0.0  0.0\n",
       " 0.0  0.0  0.0  0.0  0.0  0.0  0.0  0.0     0.0  0.0  0.0  0.0  0.0  0.0  0.0\n",
       " 0.0  0.0  0.0  0.0  0.0  0.0  0.0  0.0     0.0  0.0  0.0  0.0  0.0  0.0  0.0\n",
       " 0.0  0.0  0.0  0.0  0.0  0.0  0.0  0.0     0.0  0.0  0.0  0.0  0.0  0.0  0.0\n",
       " 0.0  0.0  0.0  0.0  0.0  0.0  0.0  0.0  …  0.0  0.0  0.0  0.0  0.0  0.0  0.0\n",
       " 0.0  0.0  0.0  0.0  0.0  0.0  0.0  0.0     0.0  0.0  0.0  0.0  0.0  0.0  0.0\n",
       " 0.0  0.0  0.0  0.0  0.0  0.0  0.0  0.0     0.0  0.0  0.0  0.0  0.0  0.0  0.0\n",
       " 0.0  0.0  0.0  0.0  0.0  0.0  0.0  0.0     0.0  0.0  0.0  0.0  0.0  0.0  0.0\n",
       " 0.0  0.0  0.0  0.0  0.0  0.0  0.0  0.0     0.0  0.0  0.0  0.0  0.0  0.0  0.0"
      ]
     },
     "execution_count": 91,
     "metadata": {},
     "output_type": "execute_result"
    }
   ],
   "source": [
    "x_lgn"
   ]
  },
  {
   "cell_type": "code",
   "execution_count": 77,
   "metadata": {},
   "outputs": [],
   "source": [
    "u0;"
   ]
  },
  {
   "cell_type": "code",
   "execution_count": 92,
   "metadata": {},
   "outputs": [
    {
     "data": {
      "text/plain": [
       "100×100×1×1 CuArray{Float32,4,Nothing}:\n",
       "[:, :, 1, 1] =\n",
       " 0.0  0.0  0.0  0.0  0.0  0.0  0.0  0.0  …  0.0  0.0  0.0  0.0  0.0  0.0  0.0\n",
       " 0.0  0.0  0.0  0.0  0.0  0.0  0.0  0.0     0.0  0.0  0.0  0.0  0.0  0.0  0.0\n",
       " 0.0  0.0  0.0  0.0  0.0  0.0  0.0  0.0     0.0  0.0  0.0  0.0  0.0  0.0  0.0\n",
       " 0.0  0.0  0.0  0.0  0.0  0.0  0.0  0.0     0.0  0.0  0.0  0.0  0.0  0.0  0.0\n",
       " 0.0  0.0  0.0  0.0  0.0  0.0  0.0  0.0     0.0  0.0  0.0  0.0  0.0  0.0  0.0\n",
       " 0.0  0.0  0.0  0.0  0.0  0.0  0.0  0.0  …  0.0  0.0  0.0  0.0  0.0  0.0  0.0\n",
       " 0.0  0.0  0.0  0.0  0.0  0.0  0.0  0.0     0.0  0.0  0.0  0.0  0.0  0.0  0.0\n",
       " 0.0  0.0  0.0  0.0  0.0  0.0  0.0  0.0     0.0  0.0  0.0  0.0  0.0  0.0  0.0\n",
       " 0.0  0.0  0.0  0.0  0.0  0.0  0.0  0.0     0.0  0.0  0.0  0.0  0.0  0.0  0.0\n",
       " 0.0  0.0  0.0  0.0  0.0  0.0  0.0  0.0     0.0  0.0  0.0  0.0  0.0  0.0  0.0\n",
       " 0.0  0.0  0.0  0.0  0.0  0.0  0.0  0.0  …  0.0  0.0  0.0  0.0  0.0  0.0  0.0\n",
       " 0.0  0.0  0.0  0.0  0.0  0.0  0.0  0.0     0.0  0.0  0.0  0.0  0.0  0.0  0.0\n",
       " 0.0  0.0  0.0  0.0  0.0  0.0  0.0  0.0     0.0  0.0  0.0  0.0  0.0  0.0  0.0\n",
       " ⋮                        ⋮              ⋱            ⋮                   \n",
       " 0.0  0.0  0.0  0.0  0.0  0.0  0.0  0.0     0.0  0.0  0.0  0.0  0.0  0.0  0.0\n",
       " 0.0  0.0  0.0  0.0  0.0  0.0  0.0  0.0     0.0  0.0  0.0  0.0  0.0  0.0  0.0\n",
       " 0.0  0.0  0.0  0.0  0.0  0.0  0.0  0.0  …  0.0  0.0  0.0  0.0  0.0  0.0  0.0\n",
       " 0.0  0.0  0.0  0.0  0.0  0.0  0.0  0.0     0.0  0.0  0.0  0.0  0.0  0.0  0.0\n",
       " 0.0  0.0  0.0  0.0  0.0  0.0  0.0  0.0     0.0  0.0  0.0  0.0  0.0  0.0  0.0\n",
       " 0.0  0.0  0.0  0.0  0.0  0.0  0.0  0.0     0.0  0.0  0.0  0.0  0.0  0.0  0.0\n",
       " 0.0  0.0  0.0  0.0  0.0  0.0  0.0  0.0     0.0  0.0  0.0  0.0  0.0  0.0  0.0\n",
       " 0.0  0.0  0.0  0.0  0.0  0.0  0.0  0.0  …  0.0  0.0  0.0  0.0  0.0  0.0  0.0\n",
       " 0.0  0.0  0.0  0.0  0.0  0.0  0.0  0.0     0.0  0.0  0.0  0.0  0.0  0.0  0.0\n",
       " 0.0  0.0  0.0  0.0  0.0  0.0  0.0  0.0     0.0  0.0  0.0  0.0  0.0  0.0  0.0\n",
       " 0.0  0.0  0.0  0.0  0.0  0.0  0.0  0.0     0.0  0.0  0.0  0.0  0.0  0.0  0.0\n",
       " 0.0  0.0  0.0  0.0  0.0  0.0  0.0  0.0     0.0  0.0  0.0  0.0  0.0  0.0  0.0"
      ]
     },
     "execution_count": 92,
     "metadata": {},
     "output_type": "execute_result"
    }
   ],
   "source": [
    "x = u0[:, :, 1:p.K,:]\n",
    "NNlib.conv(x, p.k_x_lgn, pad=0, flipped=true)"
   ]
  },
  {
   "cell_type": "code",
   "execution_count": null,
   "metadata": {},
   "outputs": [],
   "source": [
    "x = u0\n",
    "x_lgn = NNlib.conv(x, p.k_x_lgn, pad=0,flipped=true)"
   ]
  },
  {
   "cell_type": "code",
   "execution_count": null,
   "metadata": {},
   "outputs": [],
   "source": []
  },
  {
   "cell_type": "code",
   "execution_count": null,
   "metadata": {},
   "outputs": [],
   "source": []
  },
  {
   "cell_type": "code",
   "execution_count": 101,
   "metadata": {},
   "outputs": [],
   "source": [
    "struct MyFunction{T} <: Function\n",
    "  x_lgn::T\n",
    "  C::T\n",
    "  H_z::T\n",
    "end"
   ]
  },
  {
   "cell_type": "code",
   "execution_count": null,
   "metadata": {},
   "outputs": [],
   "source": [
    "MyFunction()"
   ]
  },
  {
   "cell_type": "code",
   "execution_count": 117,
   "metadata": {},
   "outputs": [
    {
     "ename": "DimensionMismatch",
     "evalue": "DimensionMismatch(\"Input channels must match! (2 vs. 1)\")",
     "output_type": "error",
     "traceback": [
      "DimensionMismatch(\"Input channels must match! (2 vs. 1)\")",
      "",
      "Stacktrace:",
      " [1] DepthwiseConvDims(::NTuple{4,Int64}, ::NTuple{4,Int64}; stride::Tuple{Int64,Int64}, padding::Tuple{Int64,Int64}, dilation::Tuple{Int64,Int64}, flipkernel::Bool) at /mnt/storage_1/users/cullinanen/.julia/packages/NNlib/sSn9M/src/dim_helpers/DepthwiseConvDims.jl:32",
      " [2] #DepthwiseConvDims#10 at /mnt/storage_1/users/cullinanen/.julia/packages/NNlib/sSn9M/src/dim_helpers/DepthwiseConvDims.jl:58 [inlined]",
      " [3] depthwiseconv(::CuArray{Float32,4,CuArray{Float32,2,Nothing}}, ::CuArray{Float32,4,Nothing}; stride::Int64, pad::Tuple{Int64,Int64}, dilation::Int64, flipped::Bool) at /mnt/storage_1/users/cullinanen/.julia/packages/NNlib/sSn9M/src/conv.jl:72",
      " [4] conv_dw! at /mnt/storage_1/users/cullinanen/.julia/dev/MEngProject.jl/src/LaminartGPU.jl:155 [inlined]",
      " [5] fun_dv!(::SubArray{Float32,3,CuArray{Float32,4,CuArray{Float32,2,Nothing}},Tuple{Base.Slice{Base.OneTo{Int64}},Base.Slice{Base.OneTo{Int64}},Int64,Base.Slice{Base.OneTo{Int64}}},false}, ::SubArray{Float32,3,CuArray{Float32,4,CuArray{Float32,2,Nothing}},Tuple{Base.Slice{Base.OneTo{Int64}},Base.Slice{Base.OneTo{Int64}},Int64,Base.Slice{Base.OneTo{Int64}}},false}, ::CuArray{Float32,4,Nothing}, ::CuArray{Float32,4,CuArray{Float32,2,Nothing}}, ::NamedTuple{(:K, :δ_v, :δ_c, :δ_m, :δ_z, :δ_s, :σ_1, :C_1, :C_2, :σ_2, :γ, :α, :ϕ, :Γ, :v_21, :μ, :ν, :n, :att, :η_p, :η_m, :λ, :a_23_ex, :a_23_in, :v12_6, :v12_4, :ψ, :C_AB_l, :H_σ_x, :H_σ_y, :H_fact, :H_l, :T_fact, :T_p_m, :T_v2_fact, :H_size, :W_size, :lgn_equ_u, :lgn_equ_A, :lgn_equ_B, :filling, :W_l, :k_gauss_1, :k_gauss_2, :k_C_A, :k_C_B, :k_x_lgn, :k_W_p, :k_W_m, :k_H, :k_T_p, :k_T_m, :k_T_p_v2, :k_T_m_v2, :dim_i, :dim_j, :x_V2, :I, :r),Tuple{Int64,Float32,Float32,Float32,Float32,Float32,Float32,Float32,Float32,Float32,Float32,Float32,Float32,Float32,Float32,Float32,Float32,Float32,Float32,Float32,Float32,Float32,Float32,Float32,Float32,Float32,Float32,Int64,Float32,Float32,Float32,Int64,Array{Float32,1},Float32,Float32,Int64,Int64,Float32,Float32,Float32,String,Int64,CuArray{Float32,4,Nothing},CuArray{Float32,4,Nothing},CuArray{Float32,4,Nothing},CuArray{Float32,4,Nothing},CuArray{Float32,4,Nothing},CuArray{Float32,4,Nothing},CuArray{Float32,4,Nothing},CuArray{Float32,4,Nothing},CuArray{Float32,4,Nothing},CuArray{Float32,4,Nothing},CuArray{Float32,4,Nothing},CuArray{Float32,4,Nothing},Int64,Int64,CuArray{Float32,5,CuArray{Float32,2,Nothing}},CuArray{Float32,4,CuArray{Float32,2,Nothing}},CuArray{Float32,4,Nothing}}}) at /mnt/storage_1/users/cullinanen/.julia/dev/MEngProject.jl/src/LaminartGPU.jl:330",
      " [6] top-level scope at In[117]:41"
     ]
    }
   ],
   "source": [
    "u = u0\n",
    "du = u0\n",
    "@inbounds begin\n",
    "    \n",
    "        x = @view u[:, :, 1:p.K,:]\n",
    "        y = @view u[:, :, p.K+1:2*p.K,:]\n",
    "        m = @view u[:, :, 2*p.K+1:3*p.K,:]\n",
    "        z = @view u[:, :, 3*p.K+1:4*p.K,:]\n",
    "        s = @view u[:, :, 4*p.K+1:5*p.K,:]\n",
    "\n",
    "        #    C = @view u[:, :, 5*p.K+1:6*p.K]\n",
    "        #    H_z = @view u[:, :, 6*p.K+1:7*p.K]\n",
    "\n",
    "        v_p = @view u[:, :, 5*p.K+1,:]\n",
    "        v_m = @view u[:, :, 5*p.K+2,:]\n",
    "        #    x_lgn = @view u[:, :, 7*p.K+3]\n",
    "\n",
    "        dx = @view du[:, :, 1:p.K,:]\n",
    "        dy = @view du[:, :, p.K+1:2*p.K,:]\n",
    "        dm = @view du[:, :, 2*p.K+1:3*p.K,:]\n",
    "        dz = @view du[:, :, 3*p.K+1:4*p.K,:]\n",
    "        ds = @view du[:, :, 4*p.K+1:5*p.K,:]\n",
    "\n",
    "        dv_p = @view du[:, :, 5*p.K+1,:]\n",
    "        dv_m = @view du[:, :, 5*p.K+2,:]\n",
    "\n",
    "#         x_lgn = @view ff.x_lgn[:,:,1,:]\n",
    "        #         x_lgn = similar(v_p)\n",
    "        #         C = similar(x)\n",
    "        #         H_z = similar(x)\n",
    "        # x_lgn = Array{eltype(u)}(undef, p.dim_i, p.dim_j)\n",
    "        #         C = reshape(Array{eltype(u)}(undef, p.dim_i, p.dim_j*p.K),p.dim_i,p.dim_j, p.K)\n",
    "        #         C = reshape(zeros(p.dim_i, p.dim_j*p.K),p.dim_i,p.dim_j, p.K)\n",
    "        # C = copy(u[:, :, 1:p.K])\n",
    "        # H_z = copy(u[:, :, 1:p.K])\n",
    "\n",
    "#         LaminartGPU.fun_x_lgn!(x_lgn, x, p)\n",
    "#         LaminartGPU.fun_v_C!(C, v_p, v_m, p)\n",
    "#         LaminartGPU.fun_H_z!(H_z, z, p)\n",
    "\n",
    "        LaminartGPU.fun_dv!(dv_p, v_p, p.r, x_lgn, p)\n",
    "#         LaminartGPU.fun_dv!(dv_m, v_m, .-p.r, x_lgn, p)\n",
    "#         LaminartGPU.fun_dx_v1!(dx, x, C, z, p.x_V2, p)\n",
    "#         LaminartGPU.fun_dy!(dy, y, C, x, m, p)\n",
    "#         LaminartGPU.fun_dm!(dm, m, x, p)\n",
    "#         LaminartGPU.fun_dz!(dz, z, y, H_z, s, p)\n",
    "#         LaminartGPU.fun_ds!(ds, s, H_z, p)\n",
    "\n",
    "    end"
   ]
  },
  {
   "cell_type": "code",
   "execution_count": 113,
   "metadata": {},
   "outputs": [
    {
     "ename": "DimensionMismatch",
     "evalue": "DimensionMismatch(\"Input channels must match! (2 vs. 1)\")",
     "output_type": "error",
     "traceback": [
      "DimensionMismatch(\"Input channels must match! (2 vs. 1)\")",
      "",
      "Stacktrace:",
      " [1] DenseConvDims(::NTuple{4,Int64}, ::NTuple{4,Int64}; stride::Tuple{Int64,Int64}, padding::Tuple{Int64,Int64}, dilation::Tuple{Int64,Int64}, flipkernel::Bool) at /mnt/storage_1/users/cullinanen/.julia/packages/NNlib/sSn9M/src/dim_helpers/DenseConvDims.jl:28",
      " [2] #DenseConvDims#7 at /mnt/storage_1/users/cullinanen/.julia/packages/NNlib/sSn9M/src/dim_helpers/DenseConvDims.jl:52 [inlined]",
      " [3] conv(::CuArray{Float32,4,CuArray{Float32,2,Nothing}}, ::CuArray{Float32,4,Nothing}; stride::Int64, pad::Tuple{Int64,Int64}, dilation::Int64, flipped::Bool) at /mnt/storage_1/users/cullinanen/.julia/packages/NNlib/sSn9M/src/conv.jl:58",
      " [4] conv!(::CuArray{Float32,4,Nothing}, ::CuArray{Float32,4,CuArray{Float32,2,Nothing}}, ::CuArray{Float32,4,Nothing}, ::NamedTuple{(:K, :δ_v, :δ_c, :δ_m, :δ_z, :δ_s, :σ_1, :C_1, :C_2, :σ_2, :γ, :α, :ϕ, :Γ, :v_21, :μ, :ν, :n, :att, :η_p, :η_m, :λ, :a_23_ex, :a_23_in, :v12_6, :v12_4, :ψ, :C_AB_l, :H_σ_x, :H_σ_y, :H_fact, :H_l, :T_fact, :T_p_m, :T_v2_fact, :H_size, :W_size, :lgn_equ_u, :lgn_equ_A, :lgn_equ_B, :filling, :W_l, :k_gauss_1, :k_gauss_2, :k_C_A, :k_C_B, :k_x_lgn, :k_W_p, :k_W_m, :k_H, :k_T_p, :k_T_m, :k_T_p_v2, :k_T_m_v2, :dim_i, :dim_j, :x_V2, :I, :r),Tuple{Int64,Float32,Float32,Float32,Float32,Float32,Float32,Float32,Float32,Float32,Float32,Float32,Float32,Float32,Float32,Float32,Float32,Float32,Float32,Float32,Float32,Float32,Float32,Float32,Float32,Float32,Float32,Int64,Float32,Float32,Float32,Int64,Array{Float32,1},Float32,Float32,Int64,Int64,Float32,Float32,Float32,String,Int64,CuArray{Float32,4,Nothing},CuArray{Float32,4,Nothing},CuArray{Float32,4,Nothing},CuArray{Float32,4,Nothing},CuArray{Float32,4,Nothing},CuArray{Float32,4,Nothing},CuArray{Float32,4,Nothing},CuArray{Float32,4,Nothing},CuArray{Float32,4,Nothing},CuArray{Float32,4,Nothing},CuArray{Float32,4,Nothing},CuArray{Float32,4,Nothing},Int64,Int64,CuArray{Float32,5,CuArray{Float32,2,Nothing}},CuArray{Float32,4,CuArray{Float32,2,Nothing}},CuArray{Float32,4,Nothing}}}) at /mnt/storage_1/users/cullinanen/.julia/dev/MEngProject.jl/src/LaminartGPU.jl:150",
      " [5] top-level scope at In[113]:2"
     ]
    }
   ],
   "source": [
    "dv = similar(x_lgn)\n",
    "LaminartGPU.conv!(dv, x_lgn, p.k_gauss_1, p)"
   ]
  },
  {
   "cell_type": "code",
   "execution_count": 115,
   "metadata": {},
   "outputs": [
    {
     "data": {
      "text/plain": [
       "(100, 100, 2, 1)"
      ]
     },
     "execution_count": 115,
     "metadata": {},
     "output_type": "execute_result"
    }
   ],
   "source": [
    "size(x_lgn)"
   ]
  },
  {
   "cell_type": "code",
   "execution_count": 116,
   "metadata": {},
   "outputs": [
    {
     "data": {
      "text/plain": [
       "5×5×1×1 CuArray{Float32,4,Nothing}:\n",
       "[:, :, 1, 1] =\n",
       " 0.00296902  0.0133062  0.0219382  0.0133062  0.00296902\n",
       " 0.0133062   0.0596343  0.0983203  0.0596343  0.0133062\n",
       " 0.0219382   0.0983203  0.162103   0.0983203  0.0219382\n",
       " 0.0133062   0.0596343  0.0983203  0.0596343  0.0133062\n",
       " 0.00296902  0.0133062  0.0219382  0.0133062  0.00296902"
      ]
     },
     "execution_count": 116,
     "metadata": {},
     "output_type": "execute_result"
    }
   ],
   "source": [
    "\n",
    "\n",
    "p.k_gauss_1"
   ]
  },
  {
   "cell_type": "code",
   "execution_count": 118,
   "metadata": {},
   "outputs": [
    {
     "ename": "DimensionMismatch",
     "evalue": "DimensionMismatch(\"Input channels must match! (2 vs. 1)\")",
     "output_type": "error",
     "traceback": [
      "DimensionMismatch(\"Input channels must match! (2 vs. 1)\")",
      "",
      "Stacktrace:",
      " [1] DenseConvDims(::NTuple{4,Int64}, ::NTuple{4,Int64}; stride::Tuple{Int64,Int64}, padding::Tuple{Int64,Int64}, dilation::Tuple{Int64,Int64}, flipkernel::Bool) at /mnt/storage_1/users/cullinanen/.julia/packages/NNlib/sSn9M/src/dim_helpers/DenseConvDims.jl:28",
      " [2] #DenseConvDims#7 at /mnt/storage_1/users/cullinanen/.julia/packages/NNlib/sSn9M/src/dim_helpers/DenseConvDims.jl:52 [inlined]",
      " [3] conv(::CuArray{Float32,4,CuArray{Float32,2,Nothing}}, ::CuArray{Float32,4,Nothing}; stride::Int64, pad::Int64, dilation::Int64, flipped::Bool) at /mnt/storage_1/users/cullinanen/.julia/packages/NNlib/sSn9M/src/conv.jl:58",
      " [4] conv(::CuArray{Float32,4,CuArray{Float32,2,Nothing}}, ::CuArray{Float32,4,Nothing}) at /mnt/storage_1/users/cullinanen/.julia/packages/NNlib/sSn9M/src/conv.jl:55",
      " [5] top-level scope at In[118]:1"
     ]
    }
   ],
   "source": [
    "conv(x_lgn, p.k_gauss_1)"
   ]
  },
  {
   "cell_type": "code",
   "execution_count": 119,
   "metadata": {},
   "outputs": [
    {
     "ename": "DimensionMismatch",
     "evalue": "DimensionMismatch(\"Input channels must match! (2 vs. 1)\")",
     "output_type": "error",
     "traceback": [
      "DimensionMismatch(\"Input channels must match! (2 vs. 1)\")",
      "",
      "Stacktrace:",
      " [1] DepthwiseConvDims(::NTuple{4,Int64}, ::NTuple{4,Int64}; stride::Tuple{Int64,Int64}, padding::Tuple{Int64,Int64}, dilation::Tuple{Int64,Int64}, flipkernel::Bool) at /mnt/storage_1/users/cullinanen/.julia/packages/NNlib/sSn9M/src/dim_helpers/DepthwiseConvDims.jl:32",
      " [2] #DepthwiseConvDims#10 at /mnt/storage_1/users/cullinanen/.julia/packages/NNlib/sSn9M/src/dim_helpers/DepthwiseConvDims.jl:58 [inlined]",
      " [3] depthwiseconv(::CuArray{Float32,4,CuArray{Float32,2,Nothing}}, ::CuArray{Float32,4,Nothing}; stride::Int64, pad::Int64, dilation::Int64, flipped::Bool) at /mnt/storage_1/users/cullinanen/.julia/packages/NNlib/sSn9M/src/conv.jl:72",
      " [4] depthwiseconv(::CuArray{Float32,4,CuArray{Float32,2,Nothing}}, ::CuArray{Float32,4,Nothing}) at /mnt/storage_1/users/cullinanen/.julia/packages/NNlib/sSn9M/src/conv.jl:69",
      " [5] top-level scope at In[119]:1"
     ]
    }
   ],
   "source": [
    "depthwiseconv(x_lgn, p.k_gauss_1)"
   ]
  },
  {
   "cell_type": "code",
   "execution_count": 123,
   "metadata": {},
   "outputs": [
    {
     "data": {
      "text/plain": [
       "100×100×1×1 view(::CuArray{Float32,4,CuArray{Float32,2,Nothing}}, :, :, 11:11, :) with eltype Float32:\n",
       "[:, :, 1, 1] =\n",
       " 0.0  0.0  0.0  0.0  0.0  0.0  0.0  0.0  …  0.0  0.0  0.0  0.0  0.0  0.0  0.0\n",
       " 0.0  0.0  0.0  0.0  0.0  0.0  0.0  0.0     0.0  0.0  0.0  0.0  0.0  0.0  0.0\n",
       " 0.0  0.0  0.0  0.0  0.0  0.0  0.0  0.0     0.0  0.0  0.0  0.0  0.0  0.0  0.0\n",
       " 0.0  0.0  0.0  0.0  0.0  0.0  0.0  0.0     0.0  0.0  0.0  0.0  0.0  0.0  0.0\n",
       " 0.0  0.0  0.0  0.0  0.0  0.0  0.0  0.0     0.0  0.0  0.0  0.0  0.0  0.0  0.0\n",
       " 0.0  0.0  0.0  0.0  0.0  0.0  0.0  0.0  …  0.0  0.0  0.0  0.0  0.0  0.0  0.0\n",
       " 0.0  0.0  0.0  0.0  0.0  0.0  0.0  0.0     0.0  0.0  0.0  0.0  0.0  0.0  0.0\n",
       " 0.0  0.0  0.0  0.0  0.0  0.0  0.0  0.0     0.0  0.0  0.0  0.0  0.0  0.0  0.0\n",
       " 0.0  0.0  0.0  0.0  0.0  0.0  0.0  0.0     0.0  0.0  0.0  0.0  0.0  0.0  0.0\n",
       " 0.0  0.0  0.0  0.0  0.0  0.0  0.0  0.0     0.0  0.0  0.0  0.0  0.0  0.0  0.0\n",
       " 0.0  0.0  0.0  0.0  0.0  0.0  0.0  0.0  …  0.0  0.0  0.0  0.0  0.0  0.0  0.0\n",
       " 0.0  0.0  0.0  0.0  0.0  0.0  0.0  0.0     0.0  0.0  0.0  0.0  0.0  0.0  0.0\n",
       " 0.0  0.0  0.0  0.0  0.0  0.0  0.0  0.0     0.0  0.0  0.0  0.0  0.0  0.0  0.0\n",
       " ⋮                        ⋮              ⋱            ⋮                   \n",
       " 0.0  0.0  0.0  0.0  0.0  0.0  0.0  0.0     0.0  0.0  0.0  0.0  0.0  0.0  0.0\n",
       " 0.0  0.0  0.0  0.0  0.0  0.0  0.0  0.0     0.0  0.0  0.0  0.0  0.0  0.0  0.0\n",
       " 0.0  0.0  0.0  0.0  0.0  0.0  0.0  0.0  …  0.0  0.0  0.0  0.0  0.0  0.0  0.0\n",
       " 0.0  0.0  0.0  0.0  0.0  0.0  0.0  0.0     0.0  0.0  0.0  0.0  0.0  0.0  0.0\n",
       " 0.0  0.0  0.0  0.0  0.0  0.0  0.0  0.0     0.0  0.0  0.0  0.0  0.0  0.0  0.0\n",
       " 0.0  0.0  0.0  0.0  0.0  0.0  0.0  0.0     0.0  0.0  0.0  0.0  0.0  0.0  0.0\n",
       " 0.0  0.0  0.0  0.0  0.0  0.0  0.0  0.0     0.0  0.0  0.0  0.0  0.0  0.0  0.0\n",
       " 0.0  0.0  0.0  0.0  0.0  0.0  0.0  0.0  …  0.0  0.0  0.0  0.0  0.0  0.0  0.0\n",
       " 0.0  0.0  0.0  0.0  0.0  0.0  0.0  0.0     0.0  0.0  0.0  0.0  0.0  0.0  0.0\n",
       " 0.0  0.0  0.0  0.0  0.0  0.0  0.0  0.0     0.0  0.0  0.0  0.0  0.0  0.0  0.0\n",
       " 0.0  0.0  0.0  0.0  0.0  0.0  0.0  0.0     0.0  0.0  0.0  0.0  0.0  0.0  0.0\n",
       " 0.0  0.0  0.0  0.0  0.0  0.0  0.0  0.0     0.0  0.0  0.0  0.0  0.0  0.0  0.0"
      ]
     },
     "execution_count": 123,
     "metadata": {},
     "output_type": "execute_result"
    }
   ],
   "source": [
    "u0\n",
    "@view u[:, :, 5*p.K+1:5*p.K+1,:]\n",
    "# m = @view u[:, :, 2*p.K+1:3*p.K,:]"
   ]
  },
  {
   "cell_type": "code",
   "execution_count": null,
   "metadata": {},
   "outputs": [],
   "source": []
  }
 ],
 "metadata": {
  "kernelspec": {
   "display_name": "Julia 1.4.2",
   "language": "julia",
   "name": "julia-1.4"
  },
  "language_info": {
   "file_extension": ".jl",
   "mimetype": "application/julia",
   "name": "julia",
   "version": "1.4.2"
  }
 },
 "nbformat": 4,
 "nbformat_minor": 4
}
