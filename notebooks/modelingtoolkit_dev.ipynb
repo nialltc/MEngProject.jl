{
 "cells": [
  {
   "cell_type": "code",
   "execution_count": 1,
   "metadata": {},
   "outputs": [],
   "source": [
    "using ModelingToolkit, OrdinaryDiffEq, DifferentialEquations"
   ]
  },
  {
   "cell_type": "code",
   "execution_count": 2,
   "metadata": {},
   "outputs": [
    {
     "name": "stderr",
     "output_type": "stream",
     "text": [
      "┌ Warning: Hardware is unsupported by NNPACK so falling back to default NNlib\n",
      "└ @ NNlib /Users/niallcullinane/.julia/packages/NNlib/GhWiz/src/nnpack/NNPACK.jl:42\n",
      "┌ Info: Precompiling MEngProject [d0493a11-efc0-4c7c-9b66-d0bd5a04cc55]\n",
      "└ @ Base loading.jl:1260\n",
      "┌ Warning: Hardware is unsupported by NNPACK so falling back to default NNlib\n",
      "└ @ NNlib ~/.julia/packages/NNlib/GhWiz/src/nnpack/NNPACK.jl:42\n"
     ]
    }
   ],
   "source": [
    "using PyPlot, NNlib,  ImageFiltering, Images, MEngProject, MEngProject.LamKernels, MEngProject.Laminart, MEngProject.Utils"
   ]
  },
  {
   "cell_type": "code",
   "execution_count": 3,
   "metadata": {},
   "outputs": [],
   "source": [
    "img = convert(Array{Float32,2}, load(\"../input_img/Iine_100_100_gs.png\"));"
   ]
  },
  {
   "cell_type": "code",
   "execution_count": 4,
   "metadata": {},
   "outputs": [],
   "source": [
    "p = Laminart.kernels(img, Parameters.parameters);\n",
    "p = Laminart.add_I_u_p(img, p);"
   ]
  },
  {
   "cell_type": "code",
   "execution_count": 5,
   "metadata": {},
   "outputs": [],
   "source": [
    "@parameters t δ_v δ_c δ_m δ_z δ_s σ_1 C_1 C_2 σ_2 γ α ϕ Γ V_21 μ ν n att η_p η_m λ a_23_ex a_23_in v12_6 v12_4 ψ C_AB_l H_σ_x H_σ_y H_fact H_l T_fact[1:length(p.T_fact)] T_p_m T_v2_fact H_size W_size lgn_equ_u lgn_equ_A lgn_equ_B k_gauss_1[1:size(p.k_gauss_1)[1],1:size(p.k_gauss_1)[2]] k_gauss_2[1:size(p.k_gauss_2)[1],1:size(p.k_gauss_2)[2]] k_C_A[1:size(p.k_C_A)[1],1:size(p.k_C_A)[2],1:size(p.k_C_A)[3]] k_C_B[1:size(p.k_C_B)[1],1:size(p.k_C_B)[2],1:size(p.k_C_B)[3]] k_W_p[1:size(p.k_W_p)[1],1:size(p.k_W_p)[2],1:size(p.k_W_p)[3],1:size(p.k_W_p)[4]] k_W_m[1:size(p.k_W_m)[1],1:size(p.k_W_m)[2],1:size(p.k_W_m)[3],1:size(p.k_W_m)[4]] k_H[1:size(p.k_H)[1],1:size(p.k_H)[2],1:size(p.k_H)[3]] k_T_p[1:size(p.k_T_p)[1],1:size(p.k_T_p)[2],1:size(p.k_T_p)[3]] k_T_m[1:size(p.k_T_m)[1],1:size(p.k_T_m)[2],1:size(p.k_T_m)[3]] k_T_p_v2[1:size(p.k_T_p_v2)[1],1:size(p.k_T_p_v2)[2],1:size(p.k_T_p_v2)[3]] k_T_m_v2[1:size(p.k_T_m_v2)[1],1:size(p.k_T_m_v2)[2],1:size(p.k_T_m_v2)[3]] x_V2[1:size(p.x_V2)[1],1:size(p.x_V2)[2],1:size(p.x_V2)[3]] I[1:size(p.I)[1],1:size(p.I)[2]] r[1:size(p.r)[1],1:size(p.r)[2]];"
   ]
  },
  {
   "cell_type": "code",
   "execution_count": 6,
   "metadata": {},
   "outputs": [
    {
     "data": {
      "text/plain": [
       "((D'~t),)"
      ]
     },
     "execution_count": 6,
     "metadata": {},
     "output_type": "execute_result"
    }
   ],
   "source": [
    "# @parameters t \n",
    "# @parameters t pa u x_V2\n",
    "@variables v_p[1:p.dim_i, 1:p.dim_j](t) v_m[1:p.dim_i, 1:p.dim_j](t) x_lgn[1:p.dim_i, 1:p.dim_j](t) x[1:p.dim_i, 1:p.dim_j, 1:p.K](t) y[1:p.dim_i, 1:p.dim_j, 1:p.K](t) m[1:p.dim_i, 1:p.dim_j, 1:p.K](t) z[1:p.dim_i, 1:p.dim_j, 1:p.K](t) s[1:p.dim_i, 1:p.dim_j, 1:p.K](t) C[1:p.dim_i, 1:p.dim_j, 1:p.K](t) H_z[1:p.dim_i, 1:p.dim_j, 1:p.K](t) \n",
    "@derivatives D'~t"
   ]
  },
  {
   "cell_type": "code",
   "execution_count": 7,
   "metadata": {},
   "outputs": [],
   "source": [
    "pa = (K = p.K,\n",
    "δ_v = δ_v,\n",
    "δ_c = δ_c,\n",
    "δ_m = δ_m,\n",
    "δ_z = δ_z,\n",
    "δ_s = δ_s,\n",
    "σ_1 = σ_1 ,\n",
    "C_1 = C_1,\n",
    "C_2 = C_2,\n",
    "σ_2 = σ_2 ,\n",
    "γ = γ,\n",
    "α = α,\n",
    "ϕ = ϕ,\n",
    "Γ = Γ,\n",
    "V_21 = V_21, \n",
    "μ = μ,\n",
    "ν = ν,\n",
    "n = n,\n",
    "att = att,\n",
    "η_p = η_p,\n",
    "η_m = η_m,\n",
    "λ = λ,\n",
    "a_23_ex = a_23_ex, \n",
    "a_23_in = a_23_in,\n",
    "v12_6 = v12_6,\n",
    "v12_4 = v12_4,\n",
    "ψ = ψ, \n",
    "C_AB_l = C_AB_l, \n",
    "H_σ_x = H_σ_x,\n",
    "H_σ_y = H_σ_y,\n",
    "H_fact = H_fact, \n",
    "H_l = H_l,\n",
    "T_fact = T_fact, \n",
    "T_p_m = T_p_m,\n",
    "T_v2_fact = T_v2_fact, \n",
    "H_size = H_size,\n",
    "W_size = W_size,\n",
    "lgn_equ_u = lgn_equ_u,\n",
    "lgn_equ_A = lgn_equ_A,\n",
    "lgn_equ_B = lgn_equ_B,\n",
    "k_gauss_1 = k_gauss_1,\n",
    "k_gauss_2 = k_gauss_2,\n",
    "k_C_A = k_C_A,\n",
    "k_C_B = k_C_B,\n",
    "k_W_p = k_W_p,\n",
    "k_W_m = k_W_m,\n",
    "k_H = k_H,\n",
    "k_T_p = k_T_p, \n",
    "k_T_m = k_T_m,\n",
    "k_T_p_v2 = k_T_p_v2, \n",
    "k_T_m_v2 = k_T_m_v2,\n",
    "dim_i = p.dim_i,\n",
    "dim_j = p.dim_j,\n",
    "x_V2 = x_V2,\n",
    "I = I,\n",
    "r = r,\n",
    "filling = p.filling);"
   ]
  },
  {
   "cell_type": "code",
   "execution_count": 8,
   "metadata": {},
   "outputs": [],
   "source": [
    "equ = []\n",
    "temp_v_p = Laminart.fun_dv(v_p, pa.r, x_lgn, pa)\n",
    "temp_v_m = Laminart.fun_dv(v_m, .-pa.r, x_lgn, pa)\n",
    "temp_x_lgn = Laminart.fun_x_lgn(x,pa)\n",
    "temp_Dx = Laminart.fun_dx_V1(x, C, z, pa.x_V2, pa)\n",
    "temp_Dy = Laminart.fun_dy(y, C, x, m, pa)\n",
    "temp_Dm = Laminart.fun_dm(m, x, pa)\n",
    "temp_Dz = Laminart.fun_dz(z, y, H_z, s, pa)\n",
    "temp_Ds = Laminart.fun_ds(s, z, H_z, pa)\n",
    "temp_H_z = Laminart.fun_H_z(z, pa)\n",
    "temp_C = Laminart.fun_v_C(v_p, v_m, pa)\n",
    "\n",
    "for i ∈ 1:p.dim_i\n",
    "    for j ∈ 1:p.dim_j\n",
    "        append!(equ, [\n",
    "        D(v_p[i,j]) ~ temp_v_p[i,j], \n",
    "        D(v_m[i,j]) ~ temp_v_m[i,j],\n",
    "        x_lgn[i,j] ~ temp_x_lgn[i,j]])\n",
    "\n",
    "        for k ∈ 1:p.K\n",
    "            append!(equ, [\n",
    "            D(x[i,j,k]) ~ temp_Dx[i,j,k],\n",
    "            D(y[i,j,k]) ~ temp_Dy[i,j,k],\n",
    "            D(m[i,j,k]) ~ temp_Dm[i,j,k],\n",
    "            D(z[i,j,k]) ~ temp_Dz[i,j,k],\n",
    "            D(s[i,j,k]) ~ temp_Ds[i,j,k],\n",
    "            H_z[i,j,k] ~ temp_H_z[i,j,k],\n",
    "            C[i,j,k] ~ temp_C[i,j,k]])\n",
    "        end\n",
    "    end\n",
    "end"
   ]
  },
  {
   "cell_type": "code",
   "execution_count": null,
   "metadata": {},
   "outputs": [],
   "source": [
    "sys = ODESystem(equ)"
   ]
  },
  {
   "cell_type": "code",
   "execution_count": null,
   "metadata": {},
   "outputs": [],
   "source": [
    "u0 = [  v_p => zeros(typeof(p.I[1,1]), p.dim_i, p.dim_j),\n",
    "        v_m => zeros(typeof(p.I[1,1]), p.dim_i, p.dim_j),\n",
    "        x => reshape(zeros(typeof(p.I[1,1]), p.dim_i, p.dim_j * p.K), p.dim_i, p.dim_i, p.K),\n",
    "        y => reshape(zeros(typeof(p.I[1,1]), p.dim_i, p.dim_j * p.K), p.dim_i, p.dim_i, p.K),\n",
    "        m => reshape(zeros(typeof(p.I[1,1]), p.dim_i, p.dim_j * p.K), p.dim_i, p.dim_i, p.K),\n",
    "        z => reshape(zeros(typeof(p.I[1,1]), p.dim_i, p.dim_j * p.K), p.dim_i, p.dim_i, p.K),\n",
    "        s => reshape(zeros(typeof(p.I[1,1]), p.dim_i, p.dim_j * p.K), p.dim_i, p.dim_i, p.K),\n",
    "        H_z => reshape(zeros(typeof(p.I[1,1]), p.dim_i, p.dim_j * p.K), p.dim_i, p.dim_i, p.K),\n",
    "        x_lgn => zeros(typeof(p.I[1,1]), p.dim_i, p.dim_j),\n",
    "        C => reshape(zeros(typeof(p.I[1,1]), p.dim_i, p.dim_j * p.K), p.dim_i, p.dim_i, p.K)];"
   ]
  },
  {
   "cell_type": "code",
   "execution_count": null,
   "metadata": {},
   "outputs": [],
   "source": [
    "par = [K => p.K,\n",
    "δ_v => p.δ_v,\n",
    "δ_c => p.δ_c,\n",
    "δ_m => p.δ_m,\n",
    "δ_z => p.δ_z,\n",
    "δ_s => p.δ_s,\n",
    "σ_1 => p.σ_1 ,\n",
    "C_1 => p.C_1,\n",
    "C_2 => p.C_2,\n",
    "σ_2 => p.σ_2 ,\n",
    "γ => p.γ,\n",
    "α => p.α,\n",
    "ϕ => p.ϕ,\n",
    "Γ => p.Γ,\n",
    "V_21 => p.V_21,\n",
    "μ => p.μ,\n",
    "ν => p.ν,\n",
    "n => p.n,\n",
    "att => p.att,\n",
    "η_p => p.η_p,\n",
    "η_m => p.η_m,\n",
    "λ => p.λ,\n",
    "a_23_ex => p.a_23_ex,\n",
    "a_23_in => p.a_23_in,\n",
    "v12_6 => p.v12_6,\n",
    "v12_4 => p.v12_4,\n",
    "ψ => p.ψ,\n",
    "C_AB_l => p.C_AB_l,\n",
    "H_σ_x => p.H_σ_x,\n",
    "H_σ_y => p.H_σ_y,\n",
    "H_fact => p.H_fact,\n",
    "H_l => p.H_l,\n",
    "T_fact => p.T_fact,\n",
    "T_p_m => p.T_p_m,\n",
    "T_v2_fact => p.T_v2_fact,\n",
    "H_size => p.H_size,\n",
    "W_size => p.W_size,\n",
    "lgn_equ_u => p.lgn_equ_u,\n",
    "lgn_equ_A => p.lgn_equ_A,\n",
    "lgn_equ_B => p.lgn_equ_B,\n",
    "k_gauss_1 => p.k_gauss_1,\n",
    "k_gauss_2 => p.k_gauss_2,\n",
    "k_C_A => p.k_C_A,\n",
    "k_C_B => p.k_C_B,\n",
    "k_W_p => p.k_W_p,\n",
    "k_W_m => p.k_W_m,\n",
    "k_H => p.k_H,\n",
    "k_T_p => p.k_T_p,\n",
    "k_T_m => p.k_T_m,\n",
    "k_T_p_v2 => p.k_T_p_v2,\n",
    "k_T_m_v2 => p.k_T_m_v2,\n",
    "dim_i => p.dim_i,\n",
    "dim_j => p.dim_j,\n",
    "x_V2 => p.x_V2,\n",
    "I => p.I,\n",
    "r => p.r];"
   ]
  },
  {
   "cell_type": "code",
   "execution_count": null,
   "metadata": {},
   "outputs": [],
   "source": [
    "tspan = (0.0,1.0)\n",
    "prob = ODEProblem(sys,u0,tspan,par;jac=true,sparse=true)"
   ]
  },
  {
   "cell_type": "code",
   "execution_count": null,
   "metadata": {},
   "outputs": [],
   "source": [
    "sol = solve(prob)"
   ]
  },
  {
   "cell_type": "code",
   "execution_count": null,
   "metadata": {},
   "outputs": [],
   "source": []
  },
  {
   "cell_type": "code",
   "execution_count": null,
   "metadata": {},
   "outputs": [],
   "source": []
  },
  {
   "cell_type": "code",
   "execution_count": null,
   "metadata": {},
   "outputs": [],
   "source": []
  },
  {
   "cell_type": "code",
   "execution_count": null,
   "metadata": {},
   "outputs": [],
   "source": []
  },
  {
   "cell_type": "code",
   "execution_count": null,
   "metadata": {},
   "outputs": [],
   "source": []
  },
  {
   "cell_type": "code",
   "execution_count": null,
   "metadata": {},
   "outputs": [],
   "source": []
  },
  {
   "cell_type": "code",
   "execution_count": null,
   "metadata": {},
   "outputs": [],
   "source": []
  },
  {
   "cell_type": "code",
   "execution_count": null,
   "metadata": {},
   "outputs": [],
   "source": []
  },
  {
   "cell_type": "code",
   "execution_count": null,
   "metadata": {},
   "outputs": [],
   "source": []
  },
  {
   "cell_type": "code",
   "execution_count": null,
   "metadata": {},
   "outputs": [],
   "source": []
  },
  {
   "cell_type": "code",
   "execution_count": null,
   "metadata": {},
   "outputs": [],
   "source": []
  },
  {
   "cell_type": "code",
   "execution_count": null,
   "metadata": {},
   "outputs": [],
   "source": []
  }
 ],
 "metadata": {
  "kernelspec": {
   "display_name": "Julia 1.4.0",
   "language": "julia",
   "name": "julia-1.4"
  },
  "language_info": {
   "file_extension": ".jl",
   "mimetype": "application/julia",
   "name": "julia",
   "version": "1.4.0"
  }
 },
 "nbformat": 4,
 "nbformat_minor": 4
}
