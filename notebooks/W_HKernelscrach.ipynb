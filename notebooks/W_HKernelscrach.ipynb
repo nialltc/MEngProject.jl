{
 "cells": [
  {
   "cell_type": "code",
   "execution_count": 13,
   "metadata": {},
   "outputs": [
    {
     "name": "stderr",
     "output_type": "stream",
     "text": [
      "┌ Info: Precompiling MEngProject [d0493a11-efc0-4c7c-9b66-d0bd5a04cc55]\n",
      "└ @ Base loading.jl:1260\n",
      "┌ Warning: Hardware is unsupported by NNPACK so falling back to default NNlib\n",
      "└ @ NNlib ~/.julia/packages/NNlib/GhWiz/src/nnpack/NNPACK.jl:42\n"
     ]
    }
   ],
   "source": [
    "using Interact, PyPlot, NNlib,  ImageFiltering, Images, ImageFiltering, MEngProject, MEngProject.LamKernels, MEngProject.Laminart, MEngProject.Utils"
   ]
  },
  {
   "cell_type": "code",
   "execution_count": null,
   "metadata": {},
   "outputs": [],
   "source": [
    "# using Interact, Plots, NNlib,  ImageFiltering, Images, MEngProject, MEngProject.LamKernels, MEngProject.Laminart, MEngProject.Utils"
   ]
  },
  {
   "cell_type": "code",
   "execution_count": 57,
   "metadata": {},
   "outputs": [],
   "source": [
    "img = convert(Array{Float64,2}, load(\"../input_img/Iine_100_100_gs.png\"));"
   ]
  },
  {
   "cell_type": "code",
   "execution_count": 2,
   "metadata": {},
   "outputs": [
    {
     "data": {
      "text/plain": [
       "11×11 OffsetArray(::Array{Float64,2}, -5:5, -5:5) with eltype Float64 with indices -5:5×-5:5:\n",
       " 0.00709955  0.00742633  0.00769085  …  0.00769085  0.00742633  0.00709955\n",
       " 0.00742633  0.00776814  0.00804484     0.00804484  0.00776814  0.00742633\n",
       " 0.00769085  0.00804484  0.0083314      0.0083314   0.00804484  0.00769085\n",
       " 0.00788554  0.0082485   0.00854231     0.00854231  0.0082485   0.00788554\n",
       " 0.00800472  0.00837316  0.00867141     0.00867141  0.00837316  0.00800472\n",
       " 0.00804484  0.00841513  0.00871487  …  0.00871487  0.00841513  0.00804484\n",
       " 0.00800472  0.00837316  0.00867141     0.00867141  0.00837316  0.00800472\n",
       " 0.00788554  0.0082485   0.00854231     0.00854231  0.0082485   0.00788554\n",
       " 0.00769085  0.00804484  0.0083314      0.0083314   0.00804484  0.00769085\n",
       " 0.00742633  0.00776814  0.00804484     0.00804484  0.00776814  0.00742633\n",
       " 0.00709955  0.00742633  0.00769085  …  0.00769085  0.00742633  0.00709955"
      ]
     },
     "execution_count": 2,
     "metadata": {},
     "output_type": "execute_result"
    }
   ],
   "source": [
    "Kernel.gaussian((10,10), (11,11))"
   ]
  },
  {
   "cell_type": "code",
   "execution_count": null,
   "metadata": {},
   "outputs": [],
   "source": [
    "x=-12:.5:12\n",
    "y=-12:.5:12\n",
    "# δ = σ_2/2\n",
    "K = 2;\n",
    "\n"
   ]
  },
  {
   "cell_type": "code",
   "execution_count": null,
   "metadata": {},
   "outputs": [],
   "source": [
    "σ_a = 0.4\n",
    "σ_b = 0.01\n",
    "G(x,y) = 1/(2*π*σ_a*σ_a)*exp((-x^2/√2*σ_a)-(y^2/√2*σ_b)) \n",
    "# -  1/(2*π*σ_2^2)*exp(-1/((((2*σ_b1^2)*x^2))+((2*σ_b2^2)*y^2))) \n",
    "             \n",
    "Plots.wireframe(x,y,G) "
   ]
  },
  {
   "cell_type": "code",
   "execution_count": null,
   "metadata": {
    "scrolled": true
   },
   "outputs": [],
   "source": [
    "@manipulate for σ_a = 0.01:0.01:1, σ_b = 0.01:0.01:5\n",
    "G(x,y) = 1/(2*π*σ_a*σ_a)*exp(-0.5*((x^2/σ_a)+(y^2/σ_b))) \n",
    "# -  1/(2*π*σ_2^2)*exp(-1/((((2*σ_b1^2)*x^2))+((2*σ_b2^2)*y^2))) \n",
    "             \n",
    "Plots.wireframe(x,y,G) \n",
    "end"
   ]
  },
  {
   "cell_type": "code",
   "execution_count": null,
   "metadata": {},
   "outputs": [],
   "source": [
    "peak = 0.8\n",
    "@manipulate for σ_a = 0.01:0.01:1\n",
    "    σ_b = 1/(peak*2*π*σ_a)\n",
    "G(x,y) = 1/(2*π*σ_a*σ_a)*exp(-0.5*((x^2/σ_a)+(y^2/σ_b))) \n",
    "# -  1/(2*π*σ_2^2)*exp(-1/((((2*σ_b1^2)*x^2))+((2*σ_b2^2)*y^2))) \n",
    "             \n",
    "Plots.wireframe(x,y,G) \n",
    "end"
   ]
  },
  {
   "cell_type": "code",
   "execution_count": null,
   "metadata": {},
   "outputs": [],
   "source": [
    "1/(0.44*0.06*2*pi)"
   ]
  },
  {
   "cell_type": "code",
   "execution_count": null,
   "metadata": {},
   "outputs": [],
   "source": [
    "σ_a = 0.4\n",
    "σ_b = 0.01"
   ]
  },
  {
   "cell_type": "code",
   "execution_count": 9,
   "metadata": {},
   "outputs": [
    {
     "ename": "UndefVarError",
     "evalue": "UndefVarError: Utils not defined",
     "output_type": "error",
     "traceback": [
      "UndefVarError: Utils not defined",
      "",
      "Stacktrace:",
      " [1] top-level scope at In[9]:2"
     ]
    }
   ],
   "source": [
    "kern = 5 .* Kernel.gaussian((3,0.4),(19,19))\n",
    "Utils.plot_rb(kern, \"img\", false, 0, 1, true,  \"./\")"
   ]
  },
  {
   "cell_type": "code",
   "execution_count": 8,
   "metadata": {},
   "outputs": [
    {
     "ename": "UndefVarError",
     "evalue": "UndefVarError: Utils not defined",
     "output_type": "error",
     "traceback": [
      "UndefVarError: Utils not defined",
      "",
      "Stacktrace:",
      " [1] top-level scope at In[8]:2"
     ]
    }
   ],
   "source": [
    "kern_small = 5 .* Kernel.gaussian((3,0.4),(19,3))\n",
    "Utils.plot_rb(kern_small, \"img\", false,0, 1, true,  \"./\")"
   ]
  },
  {
   "cell_type": "code",
   "execution_count": 76,
   "metadata": {},
   "outputs": [
    {
     "data": {
      "text/plain": [
       "(0.6733023010647149, CartesianIndex(0, 0))"
      ]
     },
     "execution_count": 76,
     "metadata": {},
     "output_type": "execute_result"
    }
   ],
   "source": [
    "findmax(kern_small)"
   ]
  },
  {
   "cell_type": "code",
   "execution_count": 68,
   "metadata": {},
   "outputs": [
    {
     "data": {
      "image/png": "[encoded data removed]",
      "text/plain": [
       "Figure(PyObject <Figure size 640x480 with 2 Axes>)"
      ]
     },
     "metadata": {},
     "output_type": "display_data"
    }
   ],
   "source": [
    "img_a = imfilter(img, kern, \"circular\")\n",
    "Utils.plot_rb(img_a, \"img\", false, 0, 6, true,  \"./\")"
   ]
  },
  {
   "cell_type": "code",
   "execution_count": 69,
   "metadata": {},
   "outputs": [
    {
     "data": {
      "image/png": "[encoded data removed]",
      "text/plain": [
       "Figure(PyObject <Figure size 640x480 with 2 Axes>)"
      ]
     },
     "metadata": {},
     "output_type": "display_data"
    }
   ],
   "source": [
    "img_as = imfilter(img, kern_small, \"circular\")\n",
    "Utils.plot_rb(img_a, \"img\", false, 0, 6, true,  \"./\")"
   ]
  },
  {
   "cell_type": "code",
   "execution_count": 73,
   "metadata": {},
   "outputs": [
    {
     "data": {
      "text/plain": [
       "(1.8840838072348687e-5, CartesianIndex(40, 46))"
      ]
     },
     "execution_count": 73,
     "metadata": {},
     "output_type": "execute_result"
    }
   ],
   "source": [
    "findmax(img_a .- img_as)\n"
   ]
  },
  {
   "cell_type": "code",
   "execution_count": 104,
   "metadata": {},
   "outputs": [
    {
     "data": {
      "image/png": "[encoded data removed]",
      "text/plain": [
       "Figure(PyObject <Figure size 640x480 with 2 Axes>)"
      ]
     },
     "metadata": {},
     "output_type": "display_data"
    }
   ],
   "source": [
    "kern_r = imrotate(kern_small, -π/2)\n",
    "Utils.plot_rb(kern_r, \"img\", false, 0, 1, true,  \"./\")"
   ]
  },
  {
   "cell_type": "code",
   "execution_count": 105,
   "metadata": {},
   "outputs": [
    {
     "data": {
      "text/plain": [
       "(5, 21)"
      ]
     },
     "execution_count": 105,
     "metadata": {},
     "output_type": "execute_result"
    }
   ],
   "source": [
    "size(kern_r)"
   ]
  },
  {
   "cell_type": "code",
   "execution_count": 103,
   "metadata": {},
   "outputs": [
    {
     "data": {
      "text/plain": [
       "(19, 3)"
      ]
     },
     "execution_count": 103,
     "metadata": {},
     "output_type": "execute_result"
    }
   ],
   "source": [
    "size(kern_small)"
   ]
  },
  {
   "cell_type": "code",
   "execution_count": 14,
   "metadata": {},
   "outputs": [
    {
     "data": {
      "image/png": "[encoded data removed]",
      "text/plain": [
       "Figure(PyObject <Figure size 640x480 with 2 Axes>)"
      ]
     },
     "metadata": {},
     "output_type": "display_data"
    }
   ],
   "source": [
    "kern_ort = 5 .* Kernel.gaussian((0.4,3),(19,19))\n",
    "Utils.plot_rb(kern_ort, \"img\", false, 0, 1, true,  \"./\")"
   ]
  },
  {
   "cell_type": "code",
   "execution_count": 99,
   "metadata": {},
   "outputs": [
    {
     "ename": "DimensionMismatch",
     "evalue": "DimensionMismatch(\"dimensions must match: a has dims (-10:10, -10:10), b has dims (-9:9, -9:9), mismatch at 1\")",
     "output_type": "error",
     "traceback": [
      "DimensionMismatch(\"dimensions must match: a has dims (-10:10, -10:10), b has dims (-9:9, -9:9), mismatch at 1\")",
      "",
      "Stacktrace:",
      " [1] promote_shape at ./indices.jl:178 [inlined]",
      " [2] promote_shape at ./indices.jl:169 [inlined]",
      " [3] -(::OffsetArrays.OffsetArray{Float64,2,Array{Float64,2}}, ::OffsetArrays.OffsetArray{Float64,2,Array{Float64,2}}) at ./arraymath.jl:38",
      " [4] top-level scope at In[99]:1"
     ]
    }
   ],
   "source": [
    "findmax((kern_r-kern_ort))"
   ]
  },
  {
   "cell_type": "code",
   "execution_count": 97,
   "metadata": {},
   "outputs": [
    {
     "ename": "BoundsError",
     "evalue": "BoundsError: attempt to access 21×21 OffsetArray(::Array{Float64,2}, -10:10, -10:10) with eltype Float64 with indices -10:10×-10:10 at index [-9:9, -9, 9]",
     "output_type": "error",
     "traceback": [
      "BoundsError: attempt to access 21×21 OffsetArray(::Array{Float64,2}, -10:10, -10:10) with eltype Float64 with indices -10:10×-10:10 at index [-9:9, -9, 9]",
      "",
      "Stacktrace:",
      " [1] throw_boundserror(::OffsetArrays.OffsetArray{Float64,2,Array{Float64,2}}, ::Tuple{UnitRange{Int64},Int64,Int64}) at ./abstractarray.jl:537",
      " [2] checkbounds at ./abstractarray.jl:502 [inlined]",
      " [3] _getindex at ./multidimensional.jl:726 [inlined]",
      " [4] getindex(::OffsetArrays.OffsetArray{Float64,2,Array{Float64,2}}, ::UnitRange{Int64}, ::Int64, ::Int64) at ./abstractarray.jl:980",
      " [5] top-level scope at In[97]:1"
     ]
    }
   ],
   "source": [
    "kern_r[:,,9]"
   ]
  },
  {
   "cell_type": "code",
   "execution_count": null,
   "metadata": {},
   "outputs": [],
   "source": [
    "function gaussian_x(σ::Real, θ, l = 4*ceil(Int,σ)+1)\n",
    "    isodd(l) || throw(ArgumentError(\"length must be odd\"))\n",
    "    w = l>>1\n",
    "    g = σ == 0 ? [exp(0/(2*oftype(σ, 1)^2))] : [exp(-x^2/(2*σ^2)) for x=-w:w]\n",
    "    centered(g/sum(g))\n",
    "end\n",
    "function gaussian_y(σ::Real, θ, l = 4*ceil(Int,σ)+1)\n",
    "    isodd(l) || throw(ArgumentError(\"length must be odd\"))\n",
    "    w = l>>1\n",
    "    g = σ == 0 ? [exp(0/(2*oftype(σ, 1)^2))] : [exp(-x^2/(2*σ^2)) for x=-w:w]\n",
    "    centered(g/sum(g))\n",
    "end"
   ]
  },
  {
   "cell_type": "code",
   "execution_count": 112,
   "metadata": {},
   "outputs": [
    {
     "data": {
      "text/plain": [
       "1"
      ]
     },
     "execution_count": 112,
     "metadata": {},
     "output_type": "execute_result"
    }
   ],
   "source": [
    "3>>1"
   ]
  },
  {
   "cell_type": "code",
   "execution_count": 141,
   "metadata": {},
   "outputs": [
    {
     "ename": "MethodError",
     "evalue": "MethodError: no method matching setindex!(::Measures.Length{:mm,Float64}, ::Float64, ::Int64)",
     "output_type": "error",
     "traceback": [
      "MethodError: no method matching setindex!(::Measures.Length{:mm,Float64}, ::Float64, ::Int64)",
      "",
      "Stacktrace:",
      " [1] top-level scope at ./In[141]:2"
     ]
    }
   ],
   "source": [
    "for x=-3:3\n",
    "    mm[x] = exp(-x^2/(2*2^2)) \n",
    "end"
   ]
  },
  {
   "cell_type": "code",
   "execution_count": 16,
   "metadata": {},
   "outputs": [
    {
     "data": {
      "text/plain": [
       "gaussian_rot (generic function with 2 methods)"
      ]
     },
     "execution_count": 16,
     "metadata": {},
     "output_type": "execute_result"
    }
   ],
   "source": [
    "using OffsetArrays\n",
    "function gaussian_rot(σ_x::Real, σ_y::Real, θ, l = 4*ceil(Int, max(σ_a,σ_b))+1)\n",
    "    isodd(l) || throw(ArgumentError(\"length must be odd\"))\n",
    "    w = l>>1\n",
    "    g = OffsetArray(Array{Real}(undef, l, l), -w:w, -w:w)\n",
    "    for x ∈ -w:w, y ∈ -w:w\n",
    "        g[x,y] = exp(-1/2*(((x*cos(θ)-y*sin(θ))^2/σ_x)+((x*sin(θ)+y*cos(θ))^2)/σ_y))\n",
    "    end\n",
    "    centered(g/sum(g))\n",
    "end"
   ]
  },
  {
   "cell_type": "code",
   "execution_count": 211,
   "metadata": {},
   "outputs": [
    {
     "ename": "UndefVarError",
     "evalue": "UndefVarError: x not defined",
     "output_type": "error",
     "traceback": [
      "UndefVarError: x not defined",
      "",
      "Stacktrace:",
      " [1] top-level scope at In[211]:1"
     ]
    }
   ],
   "source": [
    "(x*cos(θ)-y*sin(θ)), (x*sin(θ)+y*cos(θ))"
   ]
  },
  {
   "cell_type": "code",
   "execution_count": 18,
   "metadata": {},
   "outputs": [
    {
     "data": {
      "text/plain": [
       "gaussian_rot (generic function with 2 methods)"
      ]
     },
     "execution_count": 18,
     "metadata": {},
     "output_type": "execute_result"
    }
   ],
   "source": [
    "using OffsetArrays\n",
    "function gaussian_rot(σ_x::Real, σ_y::Real, θ, l = 4*ceil(Int, max(σ_a,σ_b))+1)\n",
    "    isodd(l) || throw(ArgumentError(\"length must be odd\"))\n",
    "    w = l>>1\n",
    "    g = OffsetArray(fill(0.0, l, l), -w:w, -w:w)\n",
    "    #todo add when σ_x or/and σ_y == 0\n",
    "    for x ∈ -w:w, y ∈ -w:w\n",
    "        g[x,y] = exp(-1/2*((((x*cos(θ)-y*sin(θ))/σ_x)^2)+(((x*sin(θ)+y*cos(θ))/σ_y)^2)))\n",
    "    end\n",
    "    centered(g/sum(g))\n",
    "end"
   ]
  },
  {
   "cell_type": "code",
   "execution_count": 21,
   "metadata": {},
   "outputs": [
    {
     "data": {
      "image/png": "[encoded data removed]",
      "text/plain": [
       "Figure(PyObject <Figure size 640x480 with 2 Axes>)"
      ]
     },
     "metadata": {},
     "output_type": "display_data"
    }
   ],
   "source": [
    "k_c = 5 .* gaussian_rot(0.4,3,0,19)\n",
    "Utils.plot_rb(k_c, \"img\", false, 0, 1, true,  \"./\")"
   ]
  },
  {
   "cell_type": "code",
   "execution_count": 6,
   "metadata": {},
   "outputs": [
    {
     "ename": "UndefVarError",
     "evalue": "UndefVarError: gaussian_rot not defined",
     "output_type": "error",
     "traceback": [
      "UndefVarError: gaussian_rot not defined",
      "",
      "Stacktrace:",
      " [1] top-level scope at In[6]:1"
     ]
    }
   ],
   "source": [
    "k_c = 5 .* gaussian_rot(0.4,3.0,0,19)\n",
    "Utils.plot_rb(k_c, \"img\", false, 0, 1, true,  \"./\")"
   ]
  },
  {
   "cell_type": "code",
   "execution_count": 199,
   "metadata": {},
   "outputs": [
    {
     "data": {
      "image/png": "[encoded data removed]",
      "text/plain": [
       "Figure(PyObject <Figure size 640x480 with 2 Axes>)"
      ]
     },
     "metadata": {},
     "output_type": "display_data"
    }
   ],
   "source": [
    "k_k = Kernel.gaussian((0.4,3.0), (19,19))\n",
    "Utils.plot_rb(k_k, \"img\", false, 0, 1, true,  \"./\")"
   ]
  },
  {
   "cell_type": "code",
   "execution_count": 133,
   "metadata": {},
   "outputs": [
    {
     "data": {
      "text/plain": [
       "2×3 Array{Int64,2}:\n",
       " 1  7  3\n",
       " 1  2  3"
      ]
     },
     "execution_count": 133,
     "metadata": {},
     "output_type": "execute_result"
    }
   ],
   "source": [
    "g"
   ]
  },
  {
   "cell_type": "code",
   "execution_count": 165,
   "metadata": {},
   "outputs": [
    {
     "data": {
      "text/plain": [
       "1"
      ]
     },
     "execution_count": 165,
     "metadata": {},
     "output_type": "execute_result"
    }
   ],
   "source": [
    "oftype(1, 1.0)"
   ]
  },
  {
   "cell_type": "code",
   "execution_count": 232,
   "metadata": {},
   "outputs": [
    {
     "data": {
      "text/plain": [
       "3×3 Array{Int64,2}:\n",
       " 4  4  4\n",
       " 4  4  4\n",
       " 4  4  4"
      ]
     },
     "execution_count": 232,
     "metadata": {},
     "output_type": "execute_result"
    }
   ],
   "source": [
    "fill(4,3,3)"
   ]
  },
  {
   "cell_type": "code",
   "execution_count": 166,
   "metadata": {},
   "outputs": [
    {
     "ename": "LoadError",
     "evalue": "syntax: extra token \")\" after end of expression",
     "output_type": "error",
     "traceback": [
      "syntax: extra token \")\" after end of expression",
      ""
     ]
    }
   ],
   "source": [
    "x*cos(0)-y*sin(0))^2/σ_x)+((x*sin(0)+y*cos(0)"
   ]
  },
  {
   "cell_type": "code",
   "execution_count": 241,
   "metadata": {},
   "outputs": [
    {
     "name": "stderr",
     "output_type": "stream",
     "text": [
      "┌ Warning: Due to a previously reported error, the running code does not match saved version for the following files:\n",
      "│ \n",
      "│   /Users/niallcullinane/.julia/dev/MEngProject/src/Laminart.jl\n",
      "│ \n",
      "│ Use Revise.errors() to report errors again.\n",
      "└ @ Revise /Users/niallcullinane/.julia/packages/Revise/tV8FE/src/Revise.jl:804\n",
      "┌ Warning: Due to a previously reported error, the running code does not match saved version for the following files:\n",
      "│ \n",
      "│   /Users/niallcullinane/.julia/dev/MEngProject/src/Laminart.jl\n",
      "│ \n",
      "│ Use Revise.errors() to report errors again.\n",
      "└ @ Revise /Users/niallcullinane/.julia/packages/Revise/tV8FE/src/Revise.jl:804\n",
      "┌ Info: Precompiling BenchmarkTools [6e4b80f9-dd63-53aa-95a3-0cdb28fa8baf]\n",
      "└ @ Base loading.jl:1260\n"
     ]
    }
   ],
   "source": [
    "using BenchmarkTools"
   ]
  },
  {
   "cell_type": "code",
   "execution_count": 242,
   "metadata": {},
   "outputs": [
    {
     "name": "stderr",
     "output_type": "stream",
     "text": [
      "┌ Warning: Due to a previously reported error, the running code does not match saved version for the following files:\n",
      "│ \n",
      "│   /Users/niallcullinane/.julia/dev/MEngProject/src/Laminart.jl\n",
      "│ \n",
      "│ Use Revise.errors() to report errors again.\n",
      "└ @ Revise /Users/niallcullinane/.julia/packages/Revise/tV8FE/src/Revise.jl:804\n",
      "┌ Warning: Due to a previously reported error, the running code does not match saved version for the following files:\n",
      "│ \n",
      "│   /Users/niallcullinane/.julia/dev/MEngProject/src/Laminart.jl\n",
      "│ \n",
      "│ Use Revise.errors() to report errors again.\n",
      "└ @ Revise /Users/niallcullinane/.julia/packages/Revise/tV8FE/src/Revise.jl:804\n"
     ]
    },
    {
     "data": {
      "text/plain": [
       "BenchmarkTools.Trial: \n",
       "  memory estimate:  0 bytes\n",
       "  allocs estimate:  0\n",
       "  --------------\n",
       "  minimum time:     6.215 ns (0.00% GC)\n",
       "  median time:      6.884 ns (0.00% GC)\n",
       "  mean time:        8.816 ns (0.00% GC)\n",
       "  maximum time:     54.943 ns (0.00% GC)\n",
       "  --------------\n",
       "  samples:          10000\n",
       "  evals/sample:     1000"
      ]
     },
     "execution_count": 242,
     "metadata": {},
     "output_type": "execute_result"
    }
   ],
   "source": [
    "@benchmark sin(x) setup=(x=rand())"
   ]
  },
  {
   "cell_type": "code",
   "execution_count": 250,
   "metadata": {},
   "outputs": [
    {
     "data": {
      "text/plain": [
       "Dict{typeof(σ),Int64} with 1 entry:\n",
       "  σ => 1"
      ]
     },
     "execution_count": 250,
     "metadata": {},
     "output_type": "execute_result"
    }
   ],
   "source": [
    "d = Dict(σ => 1)"
   ]
  },
  {
   "cell_type": "code",
   "execution_count": 256,
   "metadata": {},
   "outputs": [
    {
     "ename": "UndefVarError",
     "evalue": "UndefVarError: σ₁ not defined",
     "output_type": "error",
     "traceback": [
      "UndefVarError: σ₁ not defined",
      "",
      "Stacktrace:",
      " [1] top-level scope at In[256]:1"
     ]
    }
   ],
   "source": [
    "d[σ]=2"
   ]
  },
  {
   "cell_type": "code",
   "execution_count": 254,
   "metadata": {},
   "outputs": [
    {
     "data": {
      "text/plain": [
       "2"
      ]
     },
     "execution_count": 254,
     "metadata": {},
     "output_type": "execute_result"
    }
   ],
   "source": [
    "d[σ]"
   ]
  },
  {
   "cell_type": "code",
   "execution_count": 3,
   "metadata": {},
   "outputs": [
    {
     "name": "stdout",
     "output_type": "stream",
     "text": [
      "  7.634 μs (0 allocations: 0 bytes)\n",
      "  7.648 μs (0 allocations: 0 bytes)\n",
      "  685.106 ns (0 allocations: 0 bytes)\n"
     ]
    }
   ],
   "source": [
    "function dict_performance()\n",
    "    n = 1000\n",
    "    xa = Dict{Int,Int}()\n",
    "    sizehint!(xa, n)\n",
    "    for i in 1:n\n",
    "        xa[i] = i\n",
    "    end\n",
    "    return xa\n",
    "end\n",
    "function array_p()\n",
    "    n = 1000\n",
    "    xa = fill(1,n)\n",
    "    sizehint!(xa, n)\n",
    "    for i in 1:n\n",
    "        xa[i] = i\n",
    "    end\n",
    "    return xa\n",
    "end\n",
    "\n",
    "function dict_performance2()\n",
    "    n = 1000\n",
    "    xa = Dict{Int,Int}()\n",
    "    sizehint!(xa, n)\n",
    "    for i in 1:n\n",
    "        get!(xa, i, i)\n",
    "    end\n",
    "    return xa\n",
    "end\n",
    "d_1a = dict_performance()\n",
    "d_2a = dict_performance2()\n",
    "a_1a = array_p()\n",
    "function test(da)\n",
    "    for i in 1:1000\n",
    "        a = da[i]\n",
    "    end\n",
    "end\n",
    "using BenchmarkTools\n",
    "@btime test(d_1a)\n",
    "@btime test(d_2a)\n",
    "@btime test(a_1a)"
   ]
  },
  {
   "cell_type": "code",
   "execution_count": 4,
   "metadata": {},
   "outputs": [
    {
     "name": "stdout",
     "output_type": "stream",
     "text": [
      "  7.635 μs (0 allocations: 0 bytes)\n",
      "  7.657 μs (0 allocations: 0 bytes)\n",
      "  684.364 ns (0 allocations: 0 bytes)\n"
     ]
    }
   ],
   "source": [
    "@btime test(d_1a)\n",
    "@btime test(d_2a)\n",
    "@btime test(a_1a)"
   ]
  },
  {
   "cell_type": "code",
   "execution_count": null,
   "metadata": {},
   "outputs": [],
   "source": []
  },
  {
   "cell_type": "code",
   "execution_count": 46,
   "metadata": {},
   "outputs": [
    {
     "data": {
      "text/plain": [
       "19×19×2 Array{Real,3}:\n",
       "[:, :, 1] =\n",
       " 5.97273e-5   0.0001016    0.000162356  …  0.0001016    5.97273e-5\n",
       " 0.000153582  0.000261251  0.000417479     0.000261251  0.000153582\n",
       " 0.000353388  0.000601133  0.000960608     0.000601133  0.000353388\n",
       " 0.000727627  0.00123774   0.0019779       0.00123774   0.000727627\n",
       " 0.00134064   0.0022805    0.00364423      0.0022805    0.00134064\n",
       " 0.00221034   0.00375991   0.00600832   …  0.00375991   0.00221034\n",
       " 0.003261     0.00554715   0.00886431      0.00554715   0.003261\n",
       " 0.00430515   0.0073233    0.0117026       0.0073233    0.00430515\n",
       " 0.00508593   0.00865146   0.013825        0.00865146   0.00508593\n",
       " 0.00537648   0.0091457    0.0146148       0.0091457    0.00537648\n",
       " 0.00508593   0.00865146   0.013825     …  0.00865146   0.00508593\n",
       " 0.00430515   0.0073233    0.0117026       0.0073233    0.00430515\n",
       " 0.003261     0.00554715   0.00886431      0.00554715   0.003261\n",
       " 0.00221034   0.00375991   0.00600832      0.00375991   0.00221034\n",
       " 0.00134064   0.0022805    0.00364423      0.0022805    0.00134064\n",
       " 0.000727627  0.00123774   0.0019779    …  0.00123774   0.000727627\n",
       " 0.000353388  0.000601133  0.000960608     0.000601133  0.000353388\n",
       " 0.000153582  0.000261251  0.000417479     0.000261251  0.000153582\n",
       " 5.97273e-5   0.0001016    0.000162356     0.0001016    5.97273e-5\n",
       "\n",
       "[:, :, 2] =\n",
       " 5.97273e-5   0.000153582  0.000353388  …  0.000153582  5.97273e-5\n",
       " 0.0001016    0.000261251  0.000601133     0.000261251  0.0001016\n",
       " 0.000162356  0.000417479  0.000960608     0.000417479  0.000162356\n",
       " 0.000243725  0.00062671   0.00144204      0.00062671   0.000243725\n",
       " 0.000343707  0.000883802  0.00203361      0.000883802  0.000343707\n",
       " 0.000455337  0.00117085   0.00269409   …  0.00117085   0.000455337\n",
       " 0.000566677  0.00145714   0.00335285      0.00145714   0.000566677\n",
       " 0.000662512  0.00170357   0.00391988      0.00170357   0.000662512\n",
       " 0.000727627  0.00187101   0.00430515      0.00187101   0.000727627\n",
       " 0.000750725  0.0019304    0.00444181      0.0019304    0.000750725\n",
       " 0.000727627  0.00187101   0.00430515   …  0.00187101   0.000727627\n",
       " 0.000662512  0.00170357   0.00391988      0.00170357   0.000662512\n",
       " 0.000566677  0.00145714   0.00335285      0.00145714   0.000566677\n",
       " 0.000455337  0.00117085   0.00269409      0.00117085   0.000455337\n",
       " 0.000343707  0.000883802  0.00203361      0.000883802  0.000343707\n",
       " 0.000243725  0.00062671   0.00144204   …  0.00062671   0.000243725\n",
       " 0.000162356  0.000417479  0.000960608     0.000417479  0.000162356\n",
       " 0.0001016    0.000261251  0.000601133     0.000261251  0.0001016\n",
       " 5.97273e-5   0.000153582  0.000353388     0.000153582  5.97273e-5"
      ]
     },
     "execution_count": 46,
     "metadata": {},
     "output_type": "execute_result"
    }
   ],
   "source": [
    "kernels.H"
   ]
  },
  {
   "cell_type": "code",
   "execution_count": 41,
   "metadata": {},
   "outputs": [
    {
     "data": {
      "text/plain": [
       "(gauss_1 = [0.002969016743950497 0.013306209891013651 … 0.013306209891013651 0.002969016743950497; 0.013306209891013651 0.059634295436180124 … 0.059634295436180124 0.013306209891013651; … ; 0.013306209891013651 0.059634295436180124 … 0.059634295436180124 0.013306209891013651; 0.002969016743950497 0.013306209891013651 … 0.013306209891013651 0.002969016743950497… ; ], C_A = Real[0.12495048312055823 0.04048734729132247 … -0.04048734729132247 -0.12495048312055823; 0.12495048312055823 0.04048734729132247 … -0.04048734729132247 -0.12495048312055823; … ; 0.12495048312055823 0.04048734729132247 … -0.04048734729132247 -0.12495048312055823; 0.12495048312055823 0.04048734729132247 … -0.04048734729132247 -0.12495048312055823]\n",
       "\n",
       "Real[0.12495048312055826 0.12495048312055823 … 0.12495048312055823 0.12495048312055823; 0.04048734729132248 0.04048734729132247 … 0.040487347291322466 0.040487347291322466; … ; -0.040487347291322466 -0.040487347291322466 … -0.04048734729132247 -0.04048734729132248; -0.12495048312055823 -0.12495048312055823 … -0.12495048312055823 -0.12495048312055826], C_B = Real[0.12495048312055823 0.04048734729132247 … 0.04048734729132247 0.12495048312055823; 0.12495048312055823 0.04048734729132247 … 0.04048734729132247 0.12495048312055823; … ; 0.12495048312055823 0.04048734729132247 … 0.04048734729132247 0.12495048312055823; 0.12495048312055823 0.04048734729132247 … 0.04048734729132247 0.12495048312055823]\n",
       "\n",
       "Real[0.12495048312055826 0.12495048312055823 … 0.12495048312055823 0.12495048312055823; 0.04048734729132248 0.04048734729132247 … 0.040487347291322466 0.040487347291322466; … ; 0.040487347291322466 0.040487347291322466 … 0.04048734729132247 0.04048734729132248; 0.12495048312055823 0.12495048312055823 … 0.12495048312055823 0.12495048312055826], H = Real[5.972727448853599e-5 0.00010159951638822785 … 0.00010159951638822785 5.972727448853599e-5; 0.00015358178395213367 0.0002612514150226805 … 0.0002612514150226805 0.00015358178395213367; … ; 0.00015358178395213367 0.0002612514150226805 … 0.0002612514150226805 0.00015358178395213367; 5.972727448853599e-5 0.00010159951638822785 … 0.00010159951638822785 5.972727448853599e-5]\n",
       "\n",
       "Real[5.9727274488535985e-5 0.00015358178395213364 … 0.00015358178395213364 5.9727274488535985e-5; 0.00010159951638822782 0.00026125141502268044 … 0.00026125141502268044 0.00010159951638822782; … ; 0.00010159951638822782 0.00026125141502268044 … 0.00026125141502268044 0.00010159951638822782; 5.9727274488535985e-5 0.00015358178395213364 … 0.00015358178395213364 5.9727274488535985e-5])"
      ]
     },
     "execution_count": 41,
     "metadata": {},
     "output_type": "execute_result"
    }
   ],
   "source": [
    "kernels = Laminart.kernels(Parameters.parameters)"
   ]
  },
  {
   "cell_type": "code",
   "execution_count": 39,
   "metadata": {},
   "outputs": [
    {
     "data": {
      "text/plain": [
       "5"
      ]
     },
     "execution_count": 39,
     "metadata": {},
     "output_type": "execute_result"
    }
   ],
   "source": [
    "Parameters.parameters.C_AB_l"
   ]
  },
  {
   "cell_type": "code",
   "execution_count": 35,
   "metadata": {},
   "outputs": [
    {
     "ename": "UndefVarError",
     "evalue": "UndefVarError: σ_2 not defined",
     "output_type": "error",
     "traceback": [
      "UndefVarError: σ_2 not defined",
      "",
      "Stacktrace:",
      " [1] top-level scope at In[35]:1"
     ]
    }
   ],
   "source": [
    "parameters = (K = 2,\n",
    "δ_v = 1.25,\n",
    "δ_c = 0.25,\n",
    "δ_m = 0.01875,\n",
    "δ_z = 0.125,\n",
    "δ_s = 2.5,\n",
    "σ_1 = 1,\n",
    "C_1 = 1.5,\n",
    "C_2 = 0.075,\n",
    "σ_2 = 0.5,\n",
    "γ = 10,\n",
    "α = 0.5,\n",
    "ϕ = 2.0,\n",
    "Γ = 0.2,\n",
    "V_21 = 0, #1.0\n",
    "μ = 2,\n",
    "ν = 1.1,\n",
    "n = 6,\n",
    "att = 0,# p25\n",
    "η_p = 2.1,\n",
    "η_m = 1.5,\n",
    "λ = 1.5,\n",
    "a_23_ex = 3,\n",
    "a_23_in = 0.5,\n",
    "v12_6 = 1,\n",
    "v12_4 = 5,\n",
    "ψ = 0.5,\n",
    "C_AB_l =  4*ceil(σ_2)+1,\n",
    "H_σ_x = 3,\n",
    "H_σ_y = 4,\n",
    "H_fact = 5,\n",
    "# H_l =  4*ceil(Int, max(H_σ_x,H_σ_y))+1,\n",
    "H_l = 19)"
   ]
  },
  {
   "cell_type": "code",
   "execution_count": 36,
   "metadata": {},
   "outputs": [
    {
     "ename": "UndefVarError",
     "evalue": "UndefVarError: σ_2 not defined",
     "output_type": "error",
     "traceback": [
      "UndefVarError: σ_2 not defined",
      "",
      "Stacktrace:",
      " [1] top-level scope at In[36]:1"
     ]
    }
   ],
   "source": [
    "test = (σ_2 = 0.5, b = σ_2)"
   ]
  },
  {
   "cell_type": "code",
   "execution_count": 37,
   "metadata": {},
   "outputs": [
    {
     "ename": "UndefVarError",
     "evalue": "UndefVarError: c not defined",
     "output_type": "error",
     "traceback": [
      "UndefVarError: c not defined",
      "",
      "Stacktrace:",
      " [1] top-level scope at In[37]:1"
     ]
    }
   ],
   "source": [
    "test = (c = 0.5, b = c)"
   ]
  },
  {
   "cell_type": "code",
   "execution_count": 38,
   "metadata": {},
   "outputs": [
    {
     "ename": "UndefVarError",
     "evalue": "UndefVarError: a not defined",
     "output_type": "error",
     "traceback": [
      "UndefVarError: a not defined",
      "",
      "Stacktrace:",
      " [1] top-level scope at In[38]:1"
     ]
    }
   ],
   "source": [
    "kkdf = (a = 2, b = 2*a)"
   ]
  },
  {
   "cell_type": "code",
   "execution_count": null,
   "metadata": {},
   "outputs": [],
   "source": []
  },
  {
   "cell_type": "code",
   "execution_count": null,
   "metadata": {},
   "outputs": [],
   "source": []
  },
  {
   "cell_type": "code",
   "execution_count": null,
   "metadata": {},
   "outputs": [],
   "source": []
  },
  {
   "cell_type": "code",
   "execution_count": null,
   "metadata": {},
   "outputs": [],
   "source": []
  },
  {
   "cell_type": "code",
   "execution_count": null,
   "metadata": {},
   "outputs": [],
   "source": []
  },
  {
   "cell_type": "code",
   "execution_count": null,
   "metadata": {},
   "outputs": [],
   "source": []
  },
  {
   "cell_type": "code",
   "execution_count": null,
   "metadata": {},
   "outputs": [],
   "source": []
  },
  {
   "cell_type": "code",
   "execution_count": null,
   "metadata": {},
   "outputs": [],
   "source": []
  },
  {
   "cell_type": "code",
   "execution_count": null,
   "metadata": {},
   "outputs": [],
   "source": []
  },
  {
   "cell_type": "code",
   "execution_count": null,
   "metadata": {},
   "outputs": [],
   "source": []
  },
  {
   "cell_type": "code",
   "execution_count": null,
   "metadata": {},
   "outputs": [],
   "source": []
  },
  {
   "cell_type": "code",
   "execution_count": null,
   "metadata": {},
   "outputs": [],
   "source": []
  },
  {
   "cell_type": "code",
   "execution_count": null,
   "metadata": {},
   "outputs": [],
   "source": [
    "σ_a1=1\n",
    "σ_a2=.1\n",
    "σ_b1=1\n",
    "σ_b2=0.1\n",
    "\n",
    "G(x,y) = 1/(2*π*σ_a1*σ_a2)*exp((-x^2/2*σ_a1)-(y^2/2*σ_a2)) \n",
    "# -  1/(2*π*σ_2^2)*exp(-1/((((2*σ_b1^2)*x^2))+((2*σ_b2^2)*y^2))) \n",
    "             \n",
    "Plots.wireframe(x,y,G) \n"
   ]
  },
  {
   "cell_type": "code",
   "execution_count": null,
   "metadata": {},
   "outputs": [],
   "source": [
    "σ_a1=1\n",
    "σ_a2=.1\n",
    "σ_b1=1\n",
    "σ_b2=0.1\n",
    "\n",
    "G(x,y) = 1/(2*π*σ_a1*σ_a2)*exp((-x^2/2*σ_a1)-(y^2/2*σ_a2)) \n",
    "# -  1/(2*π*σ_2^2)*exp(-1/((((2*σ_b1^2)*x^2))+((2*σ_b2^2)*y^2))) \n",
    "             \n",
    "Plots.wireframe(x,y,G) "
   ]
  },
  {
   "cell_type": "code",
   "execution_count": null,
   "metadata": {},
   "outputs": [],
   "source": [
    "σ_a1=1\n",
    "σ_a2=.1\n",
    "σ_b1=1\n",
    "σ_b2=0.1\n",
    "\n",
    "G(x,y) = 1/(2*π*σ_a1*σ_a2)*exp((-x^2/2*σ_a1)-(y^2/2*σ_a2)) \n",
    "# -  1/(2*π*σ_2^2)*exp(-1/((((2*σ_b1^2)*x^2))+((2*σ_b2^2)*y^2))) \n",
    "             \n",
    "Plots.wireframe(x,y,G) "
   ]
  },
  {
   "cell_type": "code",
   "execution_count": null,
   "metadata": {},
   "outputs": [],
   "source": [
    "σ_a1=1\n",
    "σ_a2=.1\n",
    "σ_b1=1\n",
    "σ_b2=0.1\n",
    "θ=π/4\n",
    "@manipulate for θ in 0:2π\n",
    "    G(x,y) = 1/(2*π*σ_a1*σ_a2)*exp(-((x*cos(θ)-y*sin(θ))^2/2*σ_a1)-((x*sin(θ)+y*cos(θ))^2/2*σ_a2)) \n",
    "\n",
    "             \n",
    "Plots.wireframe(x,y,G) \n",
    "end"
   ]
  },
  {
   "cell_type": "code",
   "execution_count": null,
   "metadata": {},
   "outputs": [],
   "source": [
    "    G(x,y) = 1/(2*π*σ_2^2)*exp(-/(2*σ_2^2)*(x^2+y^2))\n",
    "Plots.wireframe(x,y,G) "
   ]
  },
  {
   "cell_type": "code",
   "execution_count": null,
   "metadata": {},
   "outputs": [],
   "source": [
    "cos(pi/2)"
   ]
  },
  {
   "cell_type": "code",
   "execution_count": null,
   "metadata": {},
   "outputs": [],
   "source": [
    "sin(pi/2)"
   ]
  },
  {
   "cell_type": "code",
   "execution_count": null,
   "metadata": {},
   "outputs": [],
   "source": [
    "R(x,y,θ)=((x*cos(θ)-y*sin(θ)), (x*sin(θ)+y*cos(θ))) "
   ]
  },
  {
   "cell_type": "code",
   "execution_count": null,
   "metadata": {},
   "outputs": [],
   "source": [
    "(x*cos(θ)-y*sin(θ))\n",
    "(x*sin(θ)+y*cos(θ))"
   ]
  },
  {
   "cell_type": "code",
   "execution_count": null,
   "metadata": {},
   "outputs": [],
   "source": [
    "R(2,2,π/4)"
   ]
  },
  {
   "cell_type": "code",
   "execution_count": null,
   "metadata": {},
   "outputs": [],
   "source": [
    "√(2)+√2"
   ]
  },
  {
   "cell_type": "code",
   "execution_count": 200,
   "metadata": {},
   "outputs": [
    {
     "data": {
      "text/plain": [
       "fun_R (generic function with 1 method)"
      ]
     },
     "execution_count": 200,
     "metadata": {},
     "output_type": "execute_result"
    }
   ],
   "source": [
    "function fun_R(x,y,θ)\n",
    "    (x*cos(θ)-y*sin(θ)), (x*sin(θ)+y*cos(θ))\n",
    "end"
   ]
  },
  {
   "cell_type": "code",
   "execution_count": null,
   "metadata": {},
   "outputs": [],
   "source": []
  },
  {
   "cell_type": "code",
   "execution_count": 209,
   "metadata": {},
   "outputs": [
    {
     "data": {
      "text/plain": [
       "(-2.220446049250313e-16, -2.0)"
      ]
     },
     "execution_count": 209,
     "metadata": {},
     "output_type": "execute_result"
    }
   ],
   "source": [
    "a = fun_R(-√2,-√2,pi/4)"
   ]
  },
  {
   "cell_type": "code",
   "execution_count": null,
   "metadata": {},
   "outputs": [],
   "source": [
    "type(a) "
   ]
  },
  {
   "cell_type": "code",
   "execution_count": null,
   "metadata": {},
   "outputs": [],
   "source": [
    "G(fun_R(x,y,pi))"
   ]
  },
  {
   "cell_type": "code",
   "execution_count": null,
   "metadata": {},
   "outputs": [],
   "source": [
    "fun_R(x,y,pi)"
   ]
  },
  {
   "cell_type": "code",
   "execution_count": null,
   "metadata": {},
   "outputs": [],
   "source": [
    "fun_R(G(x,y),pi)"
   ]
  },
  {
   "cell_type": "code",
   "execution_count": 62,
   "metadata": {},
   "outputs": [
    {
     "ename": "UndefVarError",
     "evalue": "UndefVarError: x not defined",
     "output_type": "error",
     "traceback": [
      "UndefVarError: x not defined",
      "",
      "Stacktrace:",
      " [1] top-level scope at In[62]:8"
     ]
    }
   ],
   "source": [
    "σ_a1=1\n",
    "σ_a2=.1\n",
    "σ_b1=1\n",
    "σ_b2=0.1\n",
    "\n",
    "θ=π/2\n",
    "G(x,y) = 1/(2*π*σ_a1*σ_a2)*exp((-x^2/2*σ_a1)-(y^2/2*σ_a2)) \n",
    "# -  1/(2*π*σ_2^2)*exp(-1/((((2*σ_b1^2)*x^2))+((2*σ_b2^2)*y^2))) \n",
    "xr = x*cos(θ)-y*sin(θ)\n",
    "yr = x*sin(θ)+y*cos(θ)\n",
    "Plots.wireframe(xr,yr,G) "
   ]
  },
  {
   "cell_type": "code",
   "execution_count": null,
   "metadata": {},
   "outputs": [],
   "source": [
    "function fun_R(x,y,θ)\n",
    "    x*cos(θ)-y*sin(θ), x*sin(θ)+y*cos(θ)\n",
    "end"
   ]
  },
  {
   "cell_type": "code",
   "execution_count": null,
   "metadata": {},
   "outputs": [],
   "source": [
    "fun_R(1,0,pi)"
   ]
  },
  {
   "cell_type": "code",
   "execution_count": null,
   "metadata": {},
   "outputs": [],
   "source": [
    "G(1,0)"
   ]
  },
  {
   "cell_type": "code",
   "execution_count": null,
   "metadata": {},
   "outputs": [],
   "source": [
    "G(fun_R(1,0,pi))"
   ]
  },
  {
   "cell_type": "code",
   "execution_count": null,
   "metadata": {},
   "outputs": [],
   "source": [
    "θ=pi\n",
    "G(x*cos(θ)-y*sin(θ), x*cos(θ)-y*sin(θ))"
   ]
  },
  {
   "cell_type": "code",
   "execution_count": null,
   "metadata": {},
   "outputs": [],
   "source": [
    "G(x,y)"
   ]
  },
  {
   "cell_type": "code",
   "execution_count": null,
   "metadata": {},
   "outputs": [],
   "source": [
    "using ModelingToolkit, OrdinaryDiffEq\n",
    "\n",
    "@parameters t σ ρ β\n",
    "@variables x(t) y(t) z(t)\n",
    "@derivatives D'~t\n",
    "\n",
    "eqs = [D(D(x)) ~ σ*(y-x),\n",
    "       D(y) ~ x*(ρ-z)-y,\n",
    "       D(z) ~ x*y - β*z]\n",
    "\n",
    "sys = ODESystem(eqs)\n",
    "sys = ode_order_lowering(sys)\n",
    "\n",
    "u0 = [D(x) => 2.0,\n",
    "      x => 1.0,\n",
    "      y => 0.0,\n",
    "      z => 0.0]\n",
    "\n",
    "p  = [σ => 28.0,\n",
    "      ρ => 10.0,\n",
    "      β => 8/3]\n",
    "\n",
    "tspan = (0.0,100.0)\n",
    "prob = ODEProblem(sys,u0,tspan,p,jac=true)\n",
    "sol = solve(prob,Tsit5())\n",
    "using Plots; plot(sol,vars=(x,y))"
   ]
  },
  {
   "cell_type": "code",
   "execution_count": null,
   "metadata": {},
   "outputs": [],
   "source": []
  }
 ],
 "metadata": {
  "@webio": {
   "lastCommId": null,
   "lastKernelId": null
  },
  "kernelspec": {
   "display_name": "Julia 1.4.0",
   "language": "julia",
   "name": "julia-1.4"
  },
  "language_info": {
   "file_extension": ".jl",
   "mimetype": "application/julia",
   "name": "julia",
   "version": "1.4.0"
  }
 },
 "nbformat": 4,
 "nbformat_minor": 4
}
