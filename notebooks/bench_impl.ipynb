{
 "cells": [
  {
   "cell_type": "code",
   "execution_count": 1,
   "metadata": {},
   "outputs": [
    {
     "name": "stderr",
     "output_type": "stream",
     "text": [
      "┌ Info: Precompiling MEngProject [d0493a11-efc0-4c7c-9b66-d0bd5a04cc55]\n",
      "└ @ Base loading.jl:1260\n"
     ]
    }
   ],
   "source": [
    "using DrWatson\n",
    "@quickactivate \"MEngProject\"\n",
    "using MEngProject,\n",
    "    # CUDA,\n",
    "    DifferentialEquations,\n",
    "    PyPlot,\n",
    "    NNlib,\n",
    "    ImageFiltering,\n",
    "    Images,\n",
    "    MEngProject.LaminartKernels,\n",
    "    MEngProject.LaminartInitFunc,\n",
    "    MEngProject.Utils,\n",
    "    BenchmarkTools,\n",
    "    Test\n",
    "\n",
    "using OrdinaryDiffEq,\n",
    "    ParameterizedFunctions, LSODA, Sundials, DiffEqDevTools, Noise;"
   ]
  },
  {
   "cell_type": "code",
   "execution_count": 27,
   "metadata": {},
   "outputs": [],
   "source": [
    "batch = 10\n",
    "\n",
    "\n",
    "global bm\n",
    "global benchm_i = []\n",
    "global prob"
   ]
  },
  {
   "cell_type": "code",
   "execution_count": 34,
   "metadata": {},
   "outputs": [],
   "source": [
    "\n",
    "tspan = (0.0f0, 10f0)\n",
    "\n",
    "batch_ = string(batch, \"_\", rand(1000:9999))\n",
    "mkdir(plotsdir(string(\"bench_imp\", batch_)))\n",
    "file = \"kan_sq_cont_l.png\"\n",
    "\n",
    "test_name_plt = [\n",
    "    \"GPU conv\",\n",
    "#     \"CPU conv\",\n",
    "#     \"CPU imfilter\",\n",
    "#     \"GPU imfilter FFT\",\n",
    "#     \"GPU imfilter FIR\",\n",
    "#     \"GPU imfilter IIR\",\n",
    "];"
   ]
  },
  {
   "cell_type": "code",
   "execution_count": 35,
   "metadata": {},
   "outputs": [
    {
     "ename": "CUDA.CuError",
     "evalue": "CUDA error (code 2, CUDA_ERROR_OUT_OF_MEMORY)",
     "output_type": "error",
     "traceback": [
      "CUDA error (code 2, CUDA_ERROR_OUT_OF_MEMORY)",
      "",
      "Stacktrace:",
      " [1] throw_api_error(::CUDA.cudaError_enum) at /mnt/storage_1/users/cullinanen/.julia/packages/CUDA/d6WNR/lib/cudadrv/error.jl:103",
      " [2] macro expansion at /mnt/storage_1/users/cullinanen/.julia/packages/CUDA/d6WNR/lib/cudadrv/error.jl:110 [inlined]",
      " [3] cuDevicePrimaryCtxRetain(::Base.RefValue{Ptr{Nothing}}, ::CUDA.CuDevice) at /mnt/storage_1/users/cullinanen/.julia/packages/CUDA/d6WNR/lib/utils/call.jl:93",
      " [4] CuContext at /mnt/storage_1/users/cullinanen/.julia/packages/CUDA/d6WNR/lib/cudadrv/context/primary.jl:31 [inlined]",
      " [5] context at /mnt/storage_1/users/cullinanen/.julia/packages/CUDA/d6WNR/src/state.jl:249 [inlined]",
      " [6] device!(::CUDA.CuDevice, ::Nothing) at /mnt/storage_1/users/cullinanen/.julia/packages/CUDA/d6WNR/src/state.jl:286",
      " [7] device! at /mnt/storage_1/users/cullinanen/.julia/packages/CUDA/d6WNR/src/state.jl:265 [inlined]",
      " [8] initialize_thread(::Int64) at /mnt/storage_1/users/cullinanen/.julia/packages/CUDA/d6WNR/src/state.jl:122",
      " [9] prepare_cuda_call at /mnt/storage_1/users/cullinanen/.julia/packages/CUDA/d6WNR/src/state.jl:80 [inlined]",
      " [10] device() at /mnt/storage_1/users/cullinanen/.julia/packages/CUDA/d6WNR/src/state.jl:227",
      " [11] alloc at /mnt/storage_1/users/cullinanen/.julia/packages/CUDA/d6WNR/src/pool.jl:293 [inlined]",
      " [12] CUDA.CuArray{Float32,4}(::UndefInitializer, ::NTuple{4,Int64}) at /mnt/storage_1/users/cullinanen/.julia/packages/CUDA/d6WNR/src/array.jl:116",
      " [13] CuArray at /mnt/storage_1/users/cullinanen/.julia/packages/CUDA/d6WNR/src/array.jl:124 [inlined]",
      " [14] similar at ./abstractarray.jl:671 [inlined]",
      " [15] convert at /mnt/storage_1/users/cullinanen/.julia/packages/GPUArrays/eVYIC/src/host/construction.jl:92 [inlined]",
      " [16] adapt_storage at /mnt/storage_1/users/cullinanen/.julia/packages/CUDA/d6WNR/src/array.jl:344 [inlined]",
      " [17] adapt_structure at /mnt/storage_1/users/cullinanen/.julia/packages/Adapt/zeelH/src/Adapt.jl:42 [inlined]",
      " [18] adapt at /mnt/storage_1/users/cullinanen/.julia/packages/Adapt/zeelH/src/Adapt.jl:40 [inlined]",
      " [19] cu(::Array{Float32,4}) at /mnt/storage_1/users/cullinanen/.julia/packages/CUDA/d6WNR/src/array.jl:347",
      " [20] parameterInit_conv_gpu(::String, ::NamedTuple{(:K, :δ_v, :δ_c, :δ_m, :δ_z, :δ_s, :σ_1, :C_1, :C_2, :σ_2, :γ, :α, :ϕ, :Γ, :v_21, :μ, :ν, :n, :att, :η_p, :η_m, :λ, :a_23_ex, :a_23_in, :v12_6, :v12_4, :ψ, :C_AB_l, :H_σ_x, :H_σ_y, :H_fact, :H_l, :T_fact, :T_p_m, :T_v2_fact, :H_size, :W_size, :W_p_σ_x_same_a, :W_p_σ_x_same_b, :W_p_σ_y_same_a, :W_p_σ_y_same_b, :W_p_σ_opp_a, :W_p_σ_x_opp_b, :W_p_σ_x_opp_c, :W_p_σ_y_opp_b, :W_p_σ_y_opp_c, :W_p_same_fact, :W_p_opp_fact_a, :W_p_opp_fact_b, :W_m_σ_x_same_a, :W_m_σ_x_same_b, :W_m_σ_y_same_a, :W_m_σ_y_same_b, :W_m_σ_opp_a, :W_m_σ_x_opp_b, :W_m_σ_x_opp_c, :W_m_σ_y_opp_b, :W_m_σ_y_opp_c, :W_m_same_fact, :W_m_opp_fact_a, :W_m_opp_fact_b, :lgn_equ_u, :lgn_equ_A, :lgn_equ_B, :W_l),Tuple{Int64,Float32,Float32,Float32,Float32,Float32,Float32,Float32,Float32,Float32,Float32,Float32,Float32,Float32,Float32,Float32,Float32,Float32,Float32,Float32,Float32,Float32,Float32,Float32,Float32,Float32,Float32,Int64,Float32,Float32,Float32,Int64,Array{Float32,1},Float32,Float32,Int64,Int64,Float32,Float32,Float32,Float32,Float32,Float32,Float32,Float32,Float32,Float32,Float32,Float32,Float32,Float32,Float32,Float32,Float32,Float32,Float32,Float32,Float32,Float32,Float32,Float32,Float32,Float32,Float32,Int64}}) at /mnt/storage_1/users/cullinanen/.julia/dev/MEngProject.jl/src/LaminartInitFunc.jl:26",
      " [21] top-level scope at In[35]:1"
     ]
    }
   ],
   "source": [
    "# GPU\n",
    "p = LaminartInitFunc.parameterInit_conv_gpu(\n",
    "    datadir(\"img\", file),\n",
    "    Parameters.parameters_f32,\n",
    ");\n",
    "\n",
    "u0 = cu(reshape(\n",
    "    zeros(Float32, p.dim_i, p.dim_j * (5 * p.K + 2)),\n",
    "    p.dim_i,\n",
    "    p.dim_j,\n",
    "    5 * p.K + 2,\n",
    "    1,\n",
    "))\n",
    "\n",
    "arr1 = similar(u0[:, :, 1:2, :])\n",
    "arr2 = similar(u0[:, :, 1:1, :])\n",
    "\n",
    "f = LaminartFunc.LamFunction(\n",
    "    arr1, #x\n",
    "    similar(arr1), #m\n",
    "    similar(arr1), #s\n",
    "    arr2, #x_lgn,\n",
    "    similar(arr1), #C,\n",
    "    similar(arr1), #H_z,\n",
    "    similar(arr1), # dy_temp,\n",
    "    similar(arr1), # dm_temp,\n",
    "    similar(arr1), # dz_temp,\n",
    "    similar(arr1), # ds_temp,\n",
    "    similar(arr2), # dv_temp,\n",
    "    similar(arr1), # H_z_temp,\n",
    "    similar(arr2), #  V_temp_1,\n",
    "    similar(arr2), #  V_temp_2,\n",
    "    similar(arr1), #  A_temp,\n",
    "    similar(arr1), #   B_temp\n",
    ")\n",
    "prob = ODEProblem(f, u0, tspan, p)\n",
    "bm = @benchmark solve(prob)\n",
    "push!(benchm_i, bm)"
   ]
  },
  {
   "cell_type": "code",
   "execution_count": 36,
   "metadata": {},
   "outputs": [
    {
     "data": {
      "text/plain": [
       "1-element Array{Any,1}:\n",
       " Trial(23.992 s)"
      ]
     },
     "execution_count": 36,
     "metadata": {},
     "output_type": "execute_result"
    }
   ],
   "source": [
    "# CPU conv\n",
    "\n",
    "p = LaminartInitFunc.parameterInit_conv_cpu(\n",
    "    datadir(\"img\", file),\n",
    "    Parameters.parameters_f32,\n",
    ");\n",
    "\n",
    "u0 = reshape(\n",
    "    zeros(Float32, p.dim_i, p.dim_j * (5 * p.K + 2)),\n",
    "    p.dim_i,\n",
    "    p.dim_j,\n",
    "    5 * p.K + 2,\n",
    "    1,\n",
    ")\n",
    "\n",
    "    arr1 = similar(u0[:, :, 1:2, :])\n",
    "    arr2 = similar(u0[:, :, 1:1, :])\n",
    "\n",
    "f = LaminartFunc.LamFunction(\n",
    "    arr1, #x\n",
    "    similar(arr1), #m\n",
    "    similar(arr1), #s\n",
    "    arr2, #x_lgn,\n",
    "    similar(arr1), #C,\n",
    "    similar(arr1), #H_z,\n",
    "    similar(arr1), # dy_temp,\n",
    "    similar(arr1), # dm_temp,\n",
    "    similar(arr1), # dz_temp,\n",
    "    similar(arr1), # ds_temp,\n",
    "    similar(arr2), # dv_temp,\n",
    "    similar(arr1), # H_z_temp,\n",
    "    similar(arr2), #  V_temp_1,\n",
    "    similar(arr2), #  V_temp_2,\n",
    "    similar(arr1), #  A_temp,\n",
    "    similar(arr1), #   B_temp\n",
    ")\n",
    "prob = ODEProblem(f, u0, tspan, p)\n",
    "bm = @benchmark solve(prob)\n",
    "push!(benchm_i, bm)"
   ]
  },
  {
   "cell_type": "code",
   "execution_count": 40,
   "metadata": {},
   "outputs": [
    {
     "ename": "UndefVarError",
     "evalue": "UndefVarError: LamFunction_imfil_cpu not defined",
     "output_type": "error",
     "traceback": [
      "UndefVarError: LamFunction_imfil_cpu not defined",
      "",
      "Stacktrace:",
      " [1] getproperty(::Module, ::Symbol) at ./Base.jl:26",
      " [2] top-level scope at In[40]:17"
     ]
    }
   ],
   "source": [
    "# CPU imfilter\n",
    "\n",
    "p = LaminartInitFunc.parameterInit_imfil_cpu(\n",
    "    datadir(\"img\", file),\n",
    "    Parameters.parameters_f32,\n",
    ");\n",
    "\n",
    "u0 = reshape(\n",
    "    zeros(Float32, p.dim_i, p.dim_j * (5 * p.K + 2)),\n",
    "    p.dim_i,\n",
    "    p.dim_j,\n",
    "    5 * p.K + 2,\n",
    ")\n",
    "\n",
    "arr1 = similar(u0[:, :, 1:2])\n",
    "arr2 = similar(u0[:, :, 1:1])\n",
    "\n",
    "f = LaminartFunc.LamFunction_imfil_cpu(\n",
    "    arr2, #x_lgn,\n",
    "    arr1, #C,\n",
    "    similar(arr1), #H_z,\n",
    "    similar(arr1), # H_z_temp,\n",
    "    similar(arr2), # v_C_temp1,\n",
    "    similar(arr2), # v_C_temp2,\n",
    "    similar(arr1), # v_C_tempA,\n",
    "    similar(arr1[:, :, 1]), #W_temp\n",
    ")\n",
    "prob = ODEProblem(f, u0, tspan, p)\n",
    "bm = @benchmark solve(prob)\n",
    "push!(benchm_i, bm)"
   ]
  },
  {
   "cell_type": "code",
   "execution_count": null,
   "metadata": {},
   "outputs": [],
   "source": [
    "# GPU imfilter FFT\n",
    "\n",
    "p = LaminartInitFunc.parameterInit_imfil_cpu(\n",
    "    datadir(\"img\", file),\n",
    "    Parameters.parameters_f32,\n",
    ");\n",
    "\n",
    "u0 = reshape(\n",
    "    zeros(Float32, p.dim_i, p.dim_j * (5 * p.K + 2)),\n",
    "    p.dim_i,\n",
    "    p.dim_j,\n",
    "    5 * p.K + 2,\n",
    ")\n",
    "\n",
    "\n",
    "f = LaminartFunc.LamFunction_imfil_cpu(\n",
    "    arr2, #x_lgn,\n",
    "    arr1, #C,\n",
    "    similar(arr1), #H_z,\n",
    "    similar(arr1), # H_z_temp,\n",
    "    similar(arr2), # v_C_temp1,\n",
    "    similar(arr2), # v_C_temp2,\n",
    "    similar(arr1), # v_C_tempA,\n",
    "    similar(arr1[:, :, 1]), #W_temp\n",
    ")\n",
    "prob = ODEProblem(f, u0, tspan, p)\n",
    "bm = @benchmark solve(prob)\n",
    "push!(benchm_i, bm)"
   ]
  },
  {
   "cell_type": "code",
   "execution_count": null,
   "metadata": {},
   "outputs": [],
   "source": [
    "# GPU imfilter IIR\n",
    "\n",
    "p = LaminartInitFunc.parameterInit_imfil_cpu(\n",
    "    datadir(\"img\", file),\n",
    "    Parameters.parameters_f32,\n",
    ");\n",
    "\n",
    "u0 = reshape(\n",
    "    zeros(Float32, p.dim_i, p.dim_j * (5 * p.K + 2)),\n",
    "    p.dim_i,\n",
    "    p.dim_j,\n",
    "    5 * p.K + 2,\n",
    ")\n",
    "\n",
    "\n",
    "f = LaminartFunc.LamFunction_imfil_cpu(\n",
    "    arr2, #x_lgn,\n",
    "    arr1, #C,\n",
    "    similar(arr1), #H_z,\n",
    "    similar(arr1), # H_z_temp,\n",
    "    similar(arr2), # v_C_temp1,\n",
    "    similar(arr2), # v_C_temp2,\n",
    "    similar(arr1), # v_C_tempA,\n",
    "    similar(arr1[:, :, 1]), #W_temp\n",
    ")\n",
    "prob = ODEProblem(f, u0, tspan, p)\n",
    "bm = @benchmark solve(prob)\n",
    "push!(benchm_i, bm)"
   ]
  },
  {
   "cell_type": "code",
   "execution_count": null,
   "metadata": {},
   "outputs": [],
   "source": [
    "# GPU imfilter FIR\n",
    "\n",
    "p = LaminartInitFunc.parameterInit_imfil_cpu(\n",
    "    datadir(\"img\", file),\n",
    "    Parameters.parameters_f32,\n",
    ");\n",
    "\n",
    "u0 = reshape(\n",
    "    zeros(Float32, p.dim_i, p.dim_j * (5 * p.K + 2)),\n",
    "    p.dim_i,\n",
    "    p.dim_j,\n",
    "    5 * p.K + 2,\n",
    ")\n",
    "\n",
    "\n",
    "\n",
    "f = LaminartFunc.LamFunction_imfil_cpu(\n",
    "    arr2, #x_lgn,\n",
    "    arr1, #C,\n",
    "    similar(arr1), #H_z,\n",
    "    similar(arr1), # H_z_temp,\n",
    "    similar(arr2), # v_C_temp1,\n",
    "    similar(arr2), # v_C_temp2,\n",
    "    similar(arr1), # v_C_tempA,\n",
    "    similar(arr1[:, :, 1]), #W_temp\n",
    ")\n",
    "prob = ODEProblem(f, u0, tspan, p)\n",
    "bm = @benchmark solve(prob)\n",
    "push!(benchm_i, bm)"
   ]
  },
  {
   "cell_type": "code",
   "execution_count": 32,
   "metadata": {},
   "outputs": [
    {
     "data": {
      "image/png": "[encoded data removed]",
      "text/plain": [
       "Figure(PyObject <Figure size 640x480 with 1 Axes>)"
      ]
     },
     "metadata": {},
     "output_type": "display_data"
    },
    {
     "name": "stdout",
     "output_type": "stream",
     "text": [
      "GPU conv"
     ]
    },
    {
     "name": "stderr",
     "output_type": "stream",
     "text": [
      "No handles with labels found to put in legend.\n"
     ]
    }
   ],
   "source": [
    "# benchmark plot\n",
    "\n",
    "# time\n",
    "fig, ax = plt.subplots()\n",
    "for ben in enumerate(test_name_plt)\n",
    "    print(ben[2])\n",
    "    ax.scatter(\n",
    "        ben[2],\n",
    "        median(benchm_i[ben[1]].times) * 1e-9,\n",
    "        color = Utils.colours[ben[1]],\n",
    "        edgecolors = \"none\",\n",
    "    )\n",
    "end\n",
    "# ax.legend()\n",
    "ax.set_ylabel(\"Time (\\$s\\$)\")\n",
    "ax.grid(true)\n",
    "fig.tight_layout()\n",
    "plt.savefig(plotsdir(string(\"bench_imp\", batch_), string(\"bench_imp_time.png\")))\n",
    "# close(\"all\")"
   ]
  },
  {
   "cell_type": "code",
   "execution_count": 38,
   "metadata": {},
   "outputs": [
    {
     "ename": "BoundsError",
     "evalue": "BoundsError: attempt to access 1-element Array{Any,1} at index [2]",
     "output_type": "error",
     "traceback": [
      "BoundsError: attempt to access 1-element Array{Any,1} at index [2]",
      "",
      "Stacktrace:",
      " [1] getindex(::Array{Any,1}, ::Int64) at ./array.jl:788",
      " [2] top-level scope at ./In[38]:5"
     ]
    }
   ],
   "source": [
    "# memory\n",
    "\n",
    "fig, ax = plt.subplots()\n",
    "for ben in enumerate(test_name_plt)\n",
    "    ax.scatter(\n",
    "        ben[2],\n",
    "        benchm_i[ben[1]].memory * 1e-6,\n",
    "        color = Utils.colours[ben[1]],\n",
    "        edgecolors = \"none\",\n",
    "    )\n",
    "end\n",
    "\n",
    "\n",
    "# ax.legend()\n",
    "ax.set_ylabel(\"Memory (\\$MB\\$)\")\n",
    "ax.grid(true)\n",
    "fig.tight_layout()\n",
    "plt.savefig(plotsdir(string(\"bench_imp\", batch_), string(\"bench_imp_mem.png\")))\n",
    "# close(\"all\")"
   ]
  },
  {
   "cell_type": "code",
   "execution_count": 39,
   "metadata": {},
   "outputs": [
    {
     "ename": "BoundsError",
     "evalue": "BoundsError: attempt to access 1-element Array{Any,1} at index [2]",
     "output_type": "error",
     "traceback": [
      "BoundsError: attempt to access 1-element Array{Any,1} at index [2]",
      "",
      "Stacktrace:",
      " [1] getindex(::Array{Any,1}, ::Int64) at ./array.jl:788",
      " [2] top-level scope at ./In[39]:5"
     ]
    }
   ],
   "source": [
    "# alloc\n",
    "\n",
    "fig, ax = plt.subplots()\n",
    "for ben in enumerate(test_name_plt)\n",
    "    ax.scatter(\n",
    "        ben[2],\n",
    "        benchm_i[ben[1]].allocs * 1e-6,\n",
    "        color = Utils.colours[ben[1]],\n",
    "        edgecolors = \"none\",\n",
    "    )\n",
    "end\n",
    "\n",
    "\n",
    "# ax.legend()\n",
    "ax.set_ylabel(\"Allocations\")\n",
    "ax.grid(true)\n",
    "fig.tight_layout()\n",
    "plt.savefig(plotsdir(\n",
    "    string(\"bench_imp\", batch_),\n",
    "    string(\"bench_imp_alloc.png\"),\n",
    "))\n",
    "# close(\"all\")"
   ]
  },
  {
   "cell_type": "code",
   "execution_count": null,
   "metadata": {},
   "outputs": [],
   "source": []
  }
 ],
 "metadata": {
  "kernelspec": {
   "display_name": "Julia 1.4.2",
   "language": "julia",
   "name": "julia-1.4"
  },
  "language_info": {
   "file_extension": ".jl",
   "mimetype": "application/julia",
   "name": "julia",
   "version": "1.4.2"
  }
 },
 "nbformat": 4,
 "nbformat_minor": 4
}
