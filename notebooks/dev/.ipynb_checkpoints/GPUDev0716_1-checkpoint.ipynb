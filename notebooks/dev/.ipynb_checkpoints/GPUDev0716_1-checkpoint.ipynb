{
 "cells": [
  {
   "cell_type": "code",
   "execution_count": 1,
   "metadata": {},
   "outputs": [
    {
     "name": "stderr",
     "output_type": "stream",
     "text": [
      "┌ Info: Precompiling MEngProject [d0493a11-efc0-4c7c-9b66-d0bd5a04cc55]\n",
      "└ @ Base loading.jl:1260\n"
     ]
    }
   ],
   "source": [
    "using DrWatson\n",
    "@quickactivate \"MEngProject\"\n",
    "using MEngProject"
   ]
  },
  {
   "cell_type": "code",
   "execution_count": 2,
   "metadata": {},
   "outputs": [],
   "source": [
    "using CUDA, DifferentialEquations, PyPlot, NNlib,  ImageFiltering, Images, MEngProject, MEngProject.LamKernels, MEngProject.Laminart, MEngProject.Utils, BenchmarkTools, Test"
   ]
  },
  {
   "cell_type": "code",
   "execution_count": 7,
   "metadata": {},
   "outputs": [
    {
     "data": {
      "text/plain": [
       "reshape2d_4d (generic function with 1 method)"
      ]
     },
     "execution_count": 7,
     "metadata": {},
     "output_type": "execute_result"
    }
   ],
   "source": [
    "function reshape2d_4d(img::AbstractArray)\n",
    "    reshape(img, size(img)[1], size(img)[2], 1, 1)\n",
    "end"
   ]
  },
  {
   "cell_type": "code",
   "execution_count": 98,
   "metadata": {},
   "outputs": [
    {
     "ename": "BoundsError",
     "evalue": "BoundsError: attempt to access 19×19×2×1 Array{Float32,4} at index [Base.Slice(Base.OneTo(19)), Base.Slice(Base.OneTo(19)), 2, 2]",
     "output_type": "error",
     "traceback": [
      "BoundsError: attempt to access 19×19×2×1 Array{Float32,4} at index [Base.Slice(Base.OneTo(19)), Base.Slice(Base.OneTo(19)), 2, 2]",
      "",
      "Stacktrace:",
      " [1] throw_boundserror(::Array{Float32,4}, ::Tuple{Base.Slice{Base.OneTo{Int64}},Base.Slice{Base.OneTo{Int64}},Int64,Int64}) at ./abstractarray.jl:537",
      " [2] checkbounds at ./abstractarray.jl:502 [inlined]",
      " [3] _setindex! at ./multidimensional.jl:768 [inlined]",
      " [4] setindex! at ./abstractarray.jl:1073 [inlined]",
      " [5] kernels(::CuArray{Float32,4,Nothing}, ::NamedTuple{(:K, :δ_v, :δ_c, :δ_m, :δ_z, :δ_s, :σ_1, :C_1, :C_2, :σ_2, :γ, :α, :ϕ, :Γ, :v_21, :μ, :ν, :n, :att, :η_p, :η_m, :λ, :a_23_ex, :a_23_in, :v12_6, :v12_4, :ψ, :C_AB_l, :H_σ_x, :H_σ_y, :H_fact, :H_l, :T_fact, :T_p_m, :T_v2_fact, :H_size, :W_size, :lgn_equ_u, :lgn_equ_A, :lgn_equ_B, :filling, :W_l),Tuple{Int64,Float32,Float32,Float32,Float32,Float32,Float32,Float32,Float32,Float32,Float32,Float32,Float32,Float32,Float32,Float32,Float32,Float32,Float32,Float32,Float32,Float32,Float32,Float32,Float32,Float32,Float32,Int64,Float32,Float32,Float32,Int64,Array{Float32,1},Float32,Float32,Int64,Int64,Float32,Float32,Float32,String,Int64}}) at /mnt/storage_1/users/cullinanen/.julia/dev/MEngProject.jl/src/LaminartGPU.jl:102",
      " [6] top-level scope at In[98]:5"
     ]
    }
   ],
   "source": [
    "img = convert(Array{Float32,2}, load(datadir(\"Iine_100_100_gs.png\")));\n",
    "img = reshape2d_4d(img)\n",
    "img = CuArray(img)\n",
    "r = similar(img)\n",
    "\n",
    "p = LaminartGPU.kernels(img, Parameters.parameters);\n",
    "\n",
    "LaminartGPU.I_u!(r, img, p)\n",
    "temp_out = (I = img, r = r)\n",
    "p = merge(p, temp_out);"
   ]
  },
  {
   "cell_type": "code",
   "execution_count": 10,
   "metadata": {},
   "outputs": [],
   "source": [
    "tspan = (0.0f0, 100.0f0)\n",
    "u0 = CuArray(reshape(zeros(Float32, p.dim_i, p.dim_j*(5*p.K+2)), p.dim_i, p.dim_j, 5*p.K+2,1));"
   ]
  },
  {
   "cell_type": "code",
   "execution_count": 11,
   "metadata": {},
   "outputs": [
    {
     "data": {
      "text/plain": [
       "(::MEngProject.LaminartGPU.MyFunction{CuArray{Float32,4,Nothing}}) (generic function with 1 method)"
      ]
     },
     "execution_count": 11,
     "metadata": {},
     "output_type": "execute_result"
    }
   ],
   "source": [
    "x_lgn = CuArray(reshape(Array{Float32}(undef, p.dim_i, p.dim_j * p.K), p.dim_i, p.dim_j, p.K,1))\n",
    "C = CuArray(reshape(Array{Float32}(undef, p.dim_i, p.dim_j * p.K), p.dim_i, p.dim_j, p.K,1))\n",
    "H_z = CuArray(reshape(Array{Float32}(undef, p.dim_i, p.dim_j * p.K), p.dim_i, p.dim_j, p.K,1))\n",
    "\n",
    "\n",
    "f = LaminartGPU.MyFunction(x_lgn, C, H_z)"
   ]
  },
  {
   "cell_type": "code",
   "execution_count": 12,
   "metadata": {},
   "outputs": [
    {
     "data": {
      "text/plain": [
       "\u001b[36mODEProblem\u001b[0m with uType \u001b[36mCuArray{Float32,4,Nothing}\u001b[0m and tType \u001b[36mFloat32\u001b[0m. In-place: \u001b[36mtrue\u001b[0m\n",
       "timespan: (0.0f0, 100.0f0)\n",
       "u0: Float32[0.0 0.0 … 0.0 0.0; 0.0 0.0 … 0.0 0.0; … ; 0.0 0.0 … 0.0 0.0; 0.0 0.0 … 0.0 0.0]\n",
       "\n",
       "Float32[0.0 0.0 … 0.0 0.0; 0.0 0.0 … 0.0 0.0; … ; 0.0 0.0 … 0.0 0.0; 0.0 0.0 … 0.0 0.0]\n",
       "\n",
       "Float32[0.0 0.0 … 0.0 0.0; 0.0 0.0 … 0.0 0.0; … ; 0.0 0.0 … 0.0 0.0; 0.0 0.0 … 0.0 0.0]\n",
       "\n",
       "...\n",
       "\n",
       "Float32[0.0 0.0 … 0.0 0.0; 0.0 0.0 … 0.0 0.0; … ; 0.0 0.0 … 0.0 0.0; 0.0 0.0 … 0.0 0.0]\n",
       "\n",
       "Float32[0.0 0.0 … 0.0 0.0; 0.0 0.0 … 0.0 0.0; … ; 0.0 0.0 … 0.0 0.0; 0.0 0.0 … 0.0 0.0]\n",
       "\n",
       "Float32[0.0 0.0 … 0.0 0.0; 0.0 0.0 … 0.0 0.0; … ; 0.0 0.0 … 0.0 0.0; 0.0 0.0 … 0.0 0.0]"
      ]
     },
     "execution_count": 12,
     "metadata": {},
     "output_type": "execute_result"
    }
   ],
   "source": [
    "prob = ODEProblem(f, u0, tspan, p)"
   ]
  },
  {
   "cell_type": "code",
   "execution_count": 13,
   "metadata": {},
   "outputs": [
    {
     "ename": "DimensionMismatch",
     "evalue": "DimensionMismatch(\"Input channels must match! (1 vs. 2)\")",
     "output_type": "error",
     "traceback": [
      "DimensionMismatch(\"Input channels must match! (1 vs. 2)\")",
      "",
      "Stacktrace:",
      " [1] DenseConvDims(::NTuple{4,Int64}, ::NTuple{4,Int64}; stride::Tuple{Int64,Int64}, padding::Tuple{Int64,Int64}, dilation::Tuple{Int64,Int64}, flipkernel::Bool) at /mnt/storage_1/users/cullinanen/.julia/packages/NNlib/sSn9M/src/dim_helpers/DenseConvDims.jl:28",
      " [2] #DenseConvDims#7 at /mnt/storage_1/users/cullinanen/.julia/packages/NNlib/sSn9M/src/dim_helpers/DenseConvDims.jl:52 [inlined]",
      " [3] conv(::CuArray{Float32,4,Nothing}, ::CuArray{Float32,4,Nothing}; stride::Int64, pad::Tuple{Int64,Int64}, dilation::Int64, flipped::Bool) at /mnt/storage_1/users/cullinanen/.julia/packages/NNlib/sSn9M/src/conv.jl:58",
      " [4] conv! at /mnt/storage_1/users/cullinanen/.julia/dev/MEngProject.jl/src/LaminartGPU.jl:151 [inlined]",
      " [5] fun_v_C!(::CuArray{Float32,4,Nothing}, ::CuArray{Float32,4,Nothing}, ::CuArray{Float32,4,Nothing}, ::NamedTuple{(:K, :δ_v, :δ_c, :δ_m, :δ_z, :δ_s, :σ_1, :C_1, :C_2, :σ_2, :γ, :α, :ϕ, :Γ, :v_21, :μ, :ν, :n, :att, :η_p, :η_m, :λ, :a_23_ex, :a_23_in, :v12_6, :v12_4, :ψ, :C_AB_l, :H_σ_x, :H_σ_y, :H_fact, :H_l, :T_fact, :T_p_m, :T_v2_fact, :H_size, :W_size, :lgn_equ_u, :lgn_equ_A, :lgn_equ_B, :filling, :W_l, :k_gauss_1, :k_gauss_2, :k_C_A, :k_C_B, :k_x_lgn, :k_W_p, :k_W_m, :k_H, :k_T_p, :k_T_m, :k_T_p_v2, :k_T_m_v2, :dim_i, :dim_j, :x_V2, :I, :r),Tuple{Int64,Float32,Float32,Float32,Float32,Float32,Float32,Float32,Float32,Float32,Float32,Float32,Float32,Float32,Float32,Float32,Float32,Float32,Float32,Float32,Float32,Float32,Float32,Float32,Float32,Float32,Float32,Int64,Float32,Float32,Float32,Int64,Array{Float32,1},Float32,Float32,Int64,Int64,Float32,Float32,Float32,String,Int64,CuArray{Float32,4,Nothing},CuArray{Float32,4,Nothing},CuArray{Float32,4,Nothing},CuArray{Float32,4,Nothing},CuArray{Float32,4,Nothing},CuArray{Float32,4,Nothing},CuArray{Float32,4,Nothing},CuArray{Float32,4,Nothing},CuArray{Float32,4,Nothing},CuArray{Float32,4,Nothing},CuArray{Float32,4,Nothing},CuArray{Float32,4,Nothing},Int64,Int64,CuArray{Float32,5,Nothing},CuArray{Float32,4,Nothing},CuArray{Float32,4,Nothing}}}) at /mnt/storage_1/users/cullinanen/.julia/dev/MEngProject.jl/src/LaminartGPU.jl:358",
      " [6] (::MEngProject.LaminartGPU.MyFunction{CuArray{Float32,4,Nothing}})(::CuArray{Float32,4,Nothing}, ::CuArray{Float32,4,Nothing}, ::NamedTuple{(:K, :δ_v, :δ_c, :δ_m, :δ_z, :δ_s, :σ_1, :C_1, :C_2, :σ_2, :γ, :α, :ϕ, :Γ, :v_21, :μ, :ν, :n, :att, :η_p, :η_m, :λ, :a_23_ex, :a_23_in, :v12_6, :v12_4, :ψ, :C_AB_l, :H_σ_x, :H_σ_y, :H_fact, :H_l, :T_fact, :T_p_m, :T_v2_fact, :H_size, :W_size, :lgn_equ_u, :lgn_equ_A, :lgn_equ_B, :filling, :W_l, :k_gauss_1, :k_gauss_2, :k_C_A, :k_C_B, :k_x_lgn, :k_W_p, :k_W_m, :k_H, :k_T_p, :k_T_m, :k_T_p_v2, :k_T_m_v2, :dim_i, :dim_j, :x_V2, :I, :r),Tuple{Int64,Float32,Float32,Float32,Float32,Float32,Float32,Float32,Float32,Float32,Float32,Float32,Float32,Float32,Float32,Float32,Float32,Float32,Float32,Float32,Float32,Float32,Float32,Float32,Float32,Float32,Float32,Int64,Float32,Float32,Float32,Int64,Array{Float32,1},Float32,Float32,Int64,Int64,Float32,Float32,Float32,String,Int64,CuArray{Float32,4,Nothing},CuArray{Float32,4,Nothing},CuArray{Float32,4,Nothing},CuArray{Float32,4,Nothing},CuArray{Float32,4,Nothing},CuArray{Float32,4,Nothing},CuArray{Float32,4,Nothing},CuArray{Float32,4,Nothing},CuArray{Float32,4,Nothing},CuArray{Float32,4,Nothing},CuArray{Float32,4,Nothing},CuArray{Float32,4,Nothing},Int64,Int64,CuArray{Float32,5,Nothing},CuArray{Float32,4,Nothing},CuArray{Float32,4,Nothing}}}, ::Float32) at /mnt/storage_1/users/cullinanen/.julia/dev/MEngProject.jl/src/LaminartGPU.jl:64",
      " [7] (::ODEFunction{true,MEngProject.LaminartGPU.MyFunction{CuArray{Float32,4,Nothing}},LinearAlgebra.UniformScaling{Bool},Nothing,Nothing,Nothing,Nothing,Nothing,Nothing,Nothing,Nothing,Nothing,Nothing,Nothing,Nothing})(::CuArray{Float32,4,Nothing}, ::Vararg{Any,N} where N) at /mnt/storage_1/users/cullinanen/.julia/packages/DiffEqBase/JNliX/src/diffeqfunction.jl:248",
      " [8] initialize!(::OrdinaryDiffEq.ODEIntegrator{Tsit5,true,CuArray{Float32,4,Nothing},Nothing,Float32,NamedTuple{(:K, :δ_v, :δ_c, :δ_m, :δ_z, :δ_s, :σ_1, :C_1, :C_2, :σ_2, :γ, :α, :ϕ, :Γ, :v_21, :μ, :ν, :n, :att, :η_p, :η_m, :λ, :a_23_ex, :a_23_in, :v12_6, :v12_4, :ψ, :C_AB_l, :H_σ_x, :H_σ_y, :H_fact, :H_l, :T_fact, :T_p_m, :T_v2_fact, :H_size, :W_size, :lgn_equ_u, :lgn_equ_A, :lgn_equ_B, :filling, :W_l, :k_gauss_1, :k_gauss_2, :k_C_A, :k_C_B, :k_x_lgn, :k_W_p, :k_W_m, :k_H, :k_T_p, :k_T_m, :k_T_p_v2, :k_T_m_v2, :dim_i, :dim_j, :x_V2, :I, :r),Tuple{Int64,Float32,Float32,Float32,Float32,Float32,Float32,Float32,Float32,Float32,Float32,Float32,Float32,Float32,Float32,Float32,Float32,Float32,Float32,Float32,Float32,Float32,Float32,Float32,Float32,Float32,Float32,Int64,Float32,Float32,Float32,Int64,Array{Float32,1},Float32,Float32,Int64,Int64,Float32,Float32,Float32,String,Int64,CuArray{Float32,4,Nothing},CuArray{Float32,4,Nothing},CuArray{Float32,4,Nothing},CuArray{Float32,4,Nothing},CuArray{Float32,4,Nothing},CuArray{Float32,4,Nothing},CuArray{Float32,4,Nothing},CuArray{Float32,4,Nothing},CuArray{Float32,4,Nothing},CuArray{Float32,4,Nothing},CuArray{Float32,4,Nothing},CuArray{Float32,4,Nothing},Int64,Int64,CuArray{Float32,5,Nothing},CuArray{Float32,4,Nothing},CuArray{Float32,4,Nothing}}},Float32,Float32,Float32,Array{CuArray{Float32,4,Nothing},1},ODESolution{Float32,5,Array{CuArray{Float32,4,Nothing},1},Nothing,Nothing,Array{Float32,1},Array{Array{CuArray{Float32,4,Nothing},1},1},ODEProblem{CuArray{Float32,4,Nothing},Tuple{Float32,Float32},true,NamedTuple{(:K, :δ_v, :δ_c, :δ_m, :δ_z, :δ_s, :σ_1, :C_1, :C_2, :σ_2, :γ, :α, :ϕ, :Γ, :v_21, :μ, :ν, :n, :att, :η_p, :η_m, :λ, :a_23_ex, :a_23_in, :v12_6, :v12_4, :ψ, :C_AB_l, :H_σ_x, :H_σ_y, :H_fact, :H_l, :T_fact, :T_p_m, :T_v2_fact, :H_size, :W_size, :lgn_equ_u, :lgn_equ_A, :lgn_equ_B, :filling, :W_l, :k_gauss_1, :k_gauss_2, :k_C_A, :k_C_B, :k_x_lgn, :k_W_p, :k_W_m, :k_H, :k_T_p, :k_T_m, :k_T_p_v2, :k_T_m_v2, :dim_i, :dim_j, :x_V2, :I, :r),Tuple{Int64,Float32,Float32,Float32,Float32,Float32,Float32,Float32,Float32,Float32,Float32,Float32,Float32,Float32,Float32,Float32,Float32,Float32,Float32,Float32,Float32,Float32,Float32,Float32,Float32,Float32,Float32,Int64,Float32,Float32,Float32,Int64,Array{Float32,1},Float32,Float32,Int64,Int64,Float32,Float32,Float32,String,Int64,CuArray{Float32,4,Nothing},CuArray{Float32,4,Nothing},CuArray{Float32,4,Nothing},CuArray{Float32,4,Nothing},CuArray{Float32,4,Nothing},CuArray{Float32,4,Nothing},CuArray{Float32,4,Nothing},CuArray{Float32,4,Nothing},CuArray{Float32,4,Nothing},CuArray{Float32,4,Nothing},CuArray{Float32,4,Nothing},CuArray{Float32,4,Nothing},Int64,Int64,CuArray{Float32,5,Nothing},CuArray{Float32,4,Nothing},CuArray{Float32,4,Nothing}}},ODEFunction{true,MEngProject.LaminartGPU.MyFunction{CuArray{Float32,4,Nothing}},LinearAlgebra.UniformScaling{Bool},Nothing,Nothing,Nothing,Nothing,Nothing,Nothing,Nothing,Nothing,Nothing,Nothing,Nothing,Nothing},Base.Iterators.Pairs{Union{},Union{},Tuple{},NamedTuple{(),Tuple{}}},DiffEqBase.StandardODEProblem},Tsit5,OrdinaryDiffEq.InterpolationData{ODEFunction{true,MEngProject.LaminartGPU.MyFunction{CuArray{Float32,4,Nothing}},LinearAlgebra.UniformScaling{Bool},Nothing,Nothing,Nothing,Nothing,Nothing,Nothing,Nothing,Nothing,Nothing,Nothing,Nothing,Nothing},Array{CuArray{Float32,4,Nothing},1},Array{Float32,1},Array{Array{CuArray{Float32,4,Nothing},1},1},OrdinaryDiffEq.Tsit5Cache{CuArray{Float32,4,Nothing},CuArray{Float32,4,Nothing},CuArray{Float32,4,Nothing},OrdinaryDiffEq.Tsit5ConstantCache{Float32,Float32}}},DiffEqBase.DEStats},ODEFunction{true,MEngProject.LaminartGPU.MyFunction{CuArray{Float32,4,Nothing}},LinearAlgebra.UniformScaling{Bool},Nothing,Nothing,Nothing,Nothing,Nothing,Nothing,Nothing,Nothing,Nothing,Nothing,Nothing,Nothing},OrdinaryDiffEq.Tsit5Cache{CuArray{Float32,4,Nothing},CuArray{Float32,4,Nothing},CuArray{Float32,4,Nothing},OrdinaryDiffEq.Tsit5ConstantCache{Float32,Float32}},OrdinaryDiffEq.DEOptions{Float32,Float32,Float32,Float32,typeof(DiffEqBase.ODE_DEFAULT_NORM),typeof(LinearAlgebra.opnorm),CallbackSet{Tuple{},Tuple{}},typeof(DiffEqBase.ODE_DEFAULT_ISOUTOFDOMAIN),typeof(DiffEqBase.ODE_DEFAULT_PROG_MESSAGE),typeof(DiffEqBase.ODE_DEFAULT_UNSTABLE_CHECK),DataStructures.BinaryHeap{Float32,DataStructures.LessThan},DataStructures.BinaryHeap{Float32,DataStructures.LessThan},Nothing,Nothing,Int64,Tuple{},Tuple{},Tuple{}},CuArray{Float32,4,Nothing},Float32,Nothing,OrdinaryDiffEq.DefaultInit}, ::OrdinaryDiffEq.Tsit5Cache{CuArray{Float32,4,Nothing},CuArray{Float32,4,Nothing},CuArray{Float32,4,Nothing},OrdinaryDiffEq.Tsit5ConstantCache{Float32,Float32}}) at /mnt/storage_1/users/cullinanen/.julia/packages/OrdinaryDiffEq/NsugH/src/perform_step/low_order_rk_perform_step.jl:623",
      " [9] __init(::ODEProblem{CuArray{Float32,4,Nothing},Tuple{Float32,Float32},true,NamedTuple{(:K, :δ_v, :δ_c, :δ_m, :δ_z, :δ_s, :σ_1, :C_1, :C_2, :σ_2, :γ, :α, :ϕ, :Γ, :v_21, :μ, :ν, :n, :att, :η_p, :η_m, :λ, :a_23_ex, :a_23_in, :v12_6, :v12_4, :ψ, :C_AB_l, :H_σ_x, :H_σ_y, :H_fact, :H_l, :T_fact, :T_p_m, :T_v2_fact, :H_size, :W_size, :lgn_equ_u, :lgn_equ_A, :lgn_equ_B, :filling, :W_l, :k_gauss_1, :k_gauss_2, :k_C_A, :k_C_B, :k_x_lgn, :k_W_p, :k_W_m, :k_H, :k_T_p, :k_T_m, :k_T_p_v2, :k_T_m_v2, :dim_i, :dim_j, :x_V2, :I, :r),Tuple{Int64,Float32,Float32,Float32,Float32,Float32,Float32,Float32,Float32,Float32,Float32,Float32,Float32,Float32,Float32,Float32,Float32,Float32,Float32,Float32,Float32,Float32,Float32,Float32,Float32,Float32,Float32,Int64,Float32,Float32,Float32,Int64,Array{Float32,1},Float32,Float32,Int64,Int64,Float32,Float32,Float32,String,Int64,CuArray{Float32,4,Nothing},CuArray{Float32,4,Nothing},CuArray{Float32,4,Nothing},CuArray{Float32,4,Nothing},CuArray{Float32,4,Nothing},CuArray{Float32,4,Nothing},CuArray{Float32,4,Nothing},CuArray{Float32,4,Nothing},CuArray{Float32,4,Nothing},CuArray{Float32,4,Nothing},CuArray{Float32,4,Nothing},CuArray{Float32,4,Nothing},Int64,Int64,CuArray{Float32,5,Nothing},CuArray{Float32,4,Nothing},CuArray{Float32,4,Nothing}}},ODEFunction{true,MEngProject.LaminartGPU.MyFunction{CuArray{Float32,4,Nothing}},LinearAlgebra.UniformScaling{Bool},Nothing,Nothing,Nothing,Nothing,Nothing,Nothing,Nothing,Nothing,Nothing,Nothing,Nothing,Nothing},Base.Iterators.Pairs{Union{},Union{},Tuple{},NamedTuple{(),Tuple{}}},DiffEqBase.StandardODEProblem}, ::Tsit5, ::Tuple{}, ::Tuple{}, ::Tuple{}, ::Type{Val{true}}; saveat::Tuple{}, tstops::Tuple{}, d_discontinuities::Tuple{}, save_idxs::Nothing, save_everystep::Bool, save_on::Bool, save_start::Bool, save_end::Bool, callback::Nothing, dense::Bool, calck::Bool, dt::Float32, dtmin::Nothing, dtmax::Float32, force_dtmin::Bool, adaptive::Bool, gamma::Rational{Int64}, abstol::Nothing, reltol::Nothing, qmin::Rational{Int64}, qmax::Int64, qsteady_min::Int64, qsteady_max::Int64, qoldinit::Rational{Int64}, fullnormalize::Bool, failfactor::Int64, beta1::Nothing, beta2::Nothing, maxiters::Int64, internalnorm::typeof(DiffEqBase.ODE_DEFAULT_NORM), internalopnorm::typeof(LinearAlgebra.opnorm), isoutofdomain::typeof(DiffEqBase.ODE_DEFAULT_ISOUTOFDOMAIN), unstable_check::typeof(DiffEqBase.ODE_DEFAULT_UNSTABLE_CHECK), verbose::Bool, timeseries_errors::Bool, dense_errors::Bool, advance_to_tstop::Bool, stop_at_next_tstop::Bool, initialize_save::Bool, progress::Bool, progress_steps::Int64, progress_name::String, progress_message::typeof(DiffEqBase.ODE_DEFAULT_PROG_MESSAGE), userdata::Nothing, allow_extrapolation::Bool, initialize_integrator::Bool, alias_u0::Bool, alias_du0::Bool, initializealg::OrdinaryDiffEq.DefaultInit, kwargs::Base.Iterators.Pairs{Symbol,Bool,Tuple{Symbol,Symbol},NamedTuple{(:default_set, :second_time),Tuple{Bool,Bool}}}) at /mnt/storage_1/users/cullinanen/.julia/packages/OrdinaryDiffEq/NsugH/src/solve.jl:403",
      " [10] #__solve#360 at /mnt/storage_1/users/cullinanen/.julia/packages/OrdinaryDiffEq/NsugH/src/solve.jl:4 [inlined]",
      " [11] __solve(::ODEProblem{CuArray{Float32,4,Nothing},Tuple{Float32,Float32},true,NamedTuple{(:K, :δ_v, :δ_c, :δ_m, :δ_z, :δ_s, :σ_1, :C_1, :C_2, :σ_2, :γ, :α, :ϕ, :Γ, :v_21, :μ, :ν, :n, :att, :η_p, :η_m, :λ, :a_23_ex, :a_23_in, :v12_6, :v12_4, :ψ, :C_AB_l, :H_σ_x, :H_σ_y, :H_fact, :H_l, :T_fact, :T_p_m, :T_v2_fact, :H_size, :W_size, :lgn_equ_u, :lgn_equ_A, :lgn_equ_B, :filling, :W_l, :k_gauss_1, :k_gauss_2, :k_C_A, :k_C_B, :k_x_lgn, :k_W_p, :k_W_m, :k_H, :k_T_p, :k_T_m, :k_T_p_v2, :k_T_m_v2, :dim_i, :dim_j, :x_V2, :I, :r),Tuple{Int64,Float32,Float32,Float32,Float32,Float32,Float32,Float32,Float32,Float32,Float32,Float32,Float32,Float32,Float32,Float32,Float32,Float32,Float32,Float32,Float32,Float32,Float32,Float32,Float32,Float32,Float32,Int64,Float32,Float32,Float32,Int64,Array{Float32,1},Float32,Float32,Int64,Int64,Float32,Float32,Float32,String,Int64,CuArray{Float32,4,Nothing},CuArray{Float32,4,Nothing},CuArray{Float32,4,Nothing},CuArray{Float32,4,Nothing},CuArray{Float32,4,Nothing},CuArray{Float32,4,Nothing},CuArray{Float32,4,Nothing},CuArray{Float32,4,Nothing},CuArray{Float32,4,Nothing},CuArray{Float32,4,Nothing},CuArray{Float32,4,Nothing},CuArray{Float32,4,Nothing},Int64,Int64,CuArray{Float32,5,Nothing},CuArray{Float32,4,Nothing},CuArray{Float32,4,Nothing}}},ODEFunction{true,MEngProject.LaminartGPU.MyFunction{CuArray{Float32,4,Nothing}},LinearAlgebra.UniformScaling{Bool},Nothing,Nothing,Nothing,Nothing,Nothing,Nothing,Nothing,Nothing,Nothing,Nothing,Nothing,Nothing},Base.Iterators.Pairs{Union{},Union{},Tuple{},NamedTuple{(),Tuple{}}},DiffEqBase.StandardODEProblem}, ::Nothing; default_set::Bool, kwargs::Base.Iterators.Pairs{Symbol,Bool,Tuple{Symbol},NamedTuple{(:second_time,),Tuple{Bool}}}) at /mnt/storage_1/users/cullinanen/.julia/packages/DifferentialEquations/fpohE/src/default_solve.jl:7",
      " [12] #__solve#469 at /mnt/storage_1/users/cullinanen/.julia/packages/DiffEqBase/JNliX/src/solve.jl:254 [inlined]",
      " [13] __solve at /mnt/storage_1/users/cullinanen/.julia/packages/DiffEqBase/JNliX/src/solve.jl:241 [inlined]",
      " [14] solve_call(::ODEProblem{CuArray{Float32,4,Nothing},Tuple{Float32,Float32},true,NamedTuple{(:K, :δ_v, :δ_c, :δ_m, :δ_z, :δ_s, :σ_1, :C_1, :C_2, :σ_2, :γ, :α, :ϕ, :Γ, :v_21, :μ, :ν, :n, :att, :η_p, :η_m, :λ, :a_23_ex, :a_23_in, :v12_6, :v12_4, :ψ, :C_AB_l, :H_σ_x, :H_σ_y, :H_fact, :H_l, :T_fact, :T_p_m, :T_v2_fact, :H_size, :W_size, :lgn_equ_u, :lgn_equ_A, :lgn_equ_B, :filling, :W_l, :k_gauss_1, :k_gauss_2, :k_C_A, :k_C_B, :k_x_lgn, :k_W_p, :k_W_m, :k_H, :k_T_p, :k_T_m, :k_T_p_v2, :k_T_m_v2, :dim_i, :dim_j, :x_V2, :I, :r),Tuple{Int64,Float32,Float32,Float32,Float32,Float32,Float32,Float32,Float32,Float32,Float32,Float32,Float32,Float32,Float32,Float32,Float32,Float32,Float32,Float32,Float32,Float32,Float32,Float32,Float32,Float32,Float32,Int64,Float32,Float32,Float32,Int64,Array{Float32,1},Float32,Float32,Int64,Int64,Float32,Float32,Float32,String,Int64,CuArray{Float32,4,Nothing},CuArray{Float32,4,Nothing},CuArray{Float32,4,Nothing},CuArray{Float32,4,Nothing},CuArray{Float32,4,Nothing},CuArray{Float32,4,Nothing},CuArray{Float32,4,Nothing},CuArray{Float32,4,Nothing},CuArray{Float32,4,Nothing},CuArray{Float32,4,Nothing},CuArray{Float32,4,Nothing},CuArray{Float32,4,Nothing},Int64,Int64,CuArray{Float32,5,Nothing},CuArray{Float32,4,Nothing},CuArray{Float32,4,Nothing}}},ODEFunction{true,MEngProject.LaminartGPU.MyFunction{CuArray{Float32,4,Nothing}},LinearAlgebra.UniformScaling{Bool},Nothing,Nothing,Nothing,Nothing,Nothing,Nothing,Nothing,Nothing,Nothing,Nothing,Nothing,Nothing},Base.Iterators.Pairs{Union{},Union{},Tuple{},NamedTuple{(),Tuple{}}},DiffEqBase.StandardODEProblem}; merge_callbacks::Bool, kwargs::Base.Iterators.Pairs{Union{},Union{},Tuple{},NamedTuple{(),Tuple{}}}) at /mnt/storage_1/users/cullinanen/.julia/packages/DiffEqBase/JNliX/src/solve.jl:92",
      " [15] solve_call at /mnt/storage_1/users/cullinanen/.julia/packages/DiffEqBase/JNliX/src/solve.jl:65 [inlined]",
      " [16] #solve_up#459 at /mnt/storage_1/users/cullinanen/.julia/packages/DiffEqBase/JNliX/src/solve.jl:117 [inlined]",
      " [17] solve_up at /mnt/storage_1/users/cullinanen/.julia/packages/DiffEqBase/JNliX/src/solve.jl:107 [inlined]",
      " [18] #solve#458 at /mnt/storage_1/users/cullinanen/.julia/packages/DiffEqBase/JNliX/src/solve.jl:102 [inlined]",
      " [19] solve(::ODEProblem{CuArray{Float32,4,Nothing},Tuple{Float32,Float32},true,NamedTuple{(:K, :δ_v, :δ_c, :δ_m, :δ_z, :δ_s, :σ_1, :C_1, :C_2, :σ_2, :γ, :α, :ϕ, :Γ, :v_21, :μ, :ν, :n, :att, :η_p, :η_m, :λ, :a_23_ex, :a_23_in, :v12_6, :v12_4, :ψ, :C_AB_l, :H_σ_x, :H_σ_y, :H_fact, :H_l, :T_fact, :T_p_m, :T_v2_fact, :H_size, :W_size, :lgn_equ_u, :lgn_equ_A, :lgn_equ_B, :filling, :W_l, :k_gauss_1, :k_gauss_2, :k_C_A, :k_C_B, :k_x_lgn, :k_W_p, :k_W_m, :k_H, :k_T_p, :k_T_m, :k_T_p_v2, :k_T_m_v2, :dim_i, :dim_j, :x_V2, :I, :r),Tuple{Int64,Float32,Float32,Float32,Float32,Float32,Float32,Float32,Float32,Float32,Float32,Float32,Float32,Float32,Float32,Float32,Float32,Float32,Float32,Float32,Float32,Float32,Float32,Float32,Float32,Float32,Float32,Int64,Float32,Float32,Float32,Int64,Array{Float32,1},Float32,Float32,Int64,Int64,Float32,Float32,Float32,String,Int64,CuArray{Float32,4,Nothing},CuArray{Float32,4,Nothing},CuArray{Float32,4,Nothing},CuArray{Float32,4,Nothing},CuArray{Float32,4,Nothing},CuArray{Float32,4,Nothing},CuArray{Float32,4,Nothing},CuArray{Float32,4,Nothing},CuArray{Float32,4,Nothing},CuArray{Float32,4,Nothing},CuArray{Float32,4,Nothing},CuArray{Float32,4,Nothing},Int64,Int64,CuArray{Float32,5,Nothing},CuArray{Float32,4,Nothing},CuArray{Float32,4,Nothing}}},ODEFunction{true,MEngProject.LaminartGPU.MyFunction{CuArray{Float32,4,Nothing}},LinearAlgebra.UniformScaling{Bool},Nothing,Nothing,Nothing,Nothing,Nothing,Nothing,Nothing,Nothing,Nothing,Nothing,Nothing,Nothing},Base.Iterators.Pairs{Union{},Union{},Tuple{},NamedTuple{(),Tuple{}}},DiffEqBase.StandardODEProblem}) at /mnt/storage_1/users/cullinanen/.julia/packages/DiffEqBase/JNliX/src/solve.jl:100",
      " [20] top-level scope at In[13]:1"
     ]
    }
   ],
   "source": [
    "sol = solve(prob)"
   ]
  },
  {
   "cell_type": "code",
   "execution_count": null,
   "metadata": {},
   "outputs": [],
   "source": []
  },
  {
   "cell_type": "code",
   "execution_count": null,
   "metadata": {},
   "outputs": [],
   "source": []
  },
  {
   "cell_type": "code",
   "execution_count": null,
   "metadata": {},
   "outputs": [],
   "source": []
  },
  {
   "cell_type": "code",
   "execution_count": 142,
   "metadata": {},
   "outputs": [],
   "source": [
    "u = u0;\n",
    "du = u0;\n",
    "        x = CuArray(@view u[:, :, 1:p.K,:])\n",
    "        y = CuArray(@view u[:, :, p.K+1:2*p.K,:])\n",
    "        m = CuArray(@view u[:, :, 2*p.K+1:3*p.K,:])\n",
    "        z = CuArray(@view u[:, :, 3*p.K+1:4*p.K,:])\n",
    "        s = CuArray(@view u[:, :, 4*p.K+1:5*p.K,:])\n",
    "\n",
    "        #    C = @view u[:, :, 5*p.K+1:6*p.K]\n",
    "        #    H_z = @view u[:, :, 6*p.K+1:7*p.K]\n",
    " x_lgn = @view u[:, :, 1:1,:]\n",
    "        v_p = CuArray(@view u[:, :, 5*p.K+1:5*p.K+1,:])\n",
    "        v_m = CuArray(@view u[:, :, 5*p.K+2:5*p.K+2,:])\n",
    "        #    x_lgn = @view u[:, :, 7*p.K+3]\n",
    "\n",
    "        dx = CuArray(@view du[:, :, 1:p.K,:])\n",
    "        dy = CuArray(@view du[:, :, p.K+1:2*p.K,:])\n",
    "        dm = CuArray(@view du[:, :, 2*p.K+1:3*p.K,:])\n",
    "        dz = CuArray(@view du[:, :, 3*p.K+1:4*p.K,:])\n",
    "        ds = CuArray(@view du[:, :, 4*p.K+1:5*p.K,:])\n",
    "\n",
    "        dv_p = CuArray(@view du[:, :, 5*p.K+1:5*p.K+1,:])\n",
    "        dv_m = CuArray(@view du[:, :, 5*p.K+2:5*p.K+2,:]);"
   ]
  },
  {
   "cell_type": "code",
   "execution_count": 143,
   "metadata": {},
   "outputs": [],
   "source": [
    "LaminartGPU.fun_x_lgn!(x_lgn, x, p)"
   ]
  },
  {
   "cell_type": "code",
   "execution_count": 144,
   "metadata": {},
   "outputs": [],
   "source": [
    "LaminartGPU.fun_v_C!(C, v_p, v_m, p)"
   ]
  },
  {
   "cell_type": "code",
   "execution_count": 45,
   "metadata": {},
   "outputs": [
    {
     "data": {
      "text/plain": [
       "conv_dw! (generic function with 1 method)"
      ]
     },
     "execution_count": 45,
     "metadata": {},
     "output_type": "execute_result"
    }
   ],
   "source": [
    "function conv_!(out::AbstractArray, img::AbstractArray, kern::AbstractArray, p::NamedTuple)\n",
    "    @. out = NNlib.conv(img, kern, pad=(size(kern)[1]>>1, size(kern)[2]>>1, size(kern)[3]>>1, size(kern)[4]>>1), flipped=true)\n",
    "    return nothing\n",
    "end\n",
    "\n",
    "function conv_dw!(out::AbstractArray, img::AbstractArray, kern::AbstractArray, p::NamedTuple)\n",
    "    @. out = NNlib.depthwiseconv(img, kern, pad=(size(kern)[1]>>1, size(kern)[2]>>1, size(kern)[3]>>1, size(kern)[4]>>1), flipped=true)\n",
    "    return nothing\n",
    "end"
   ]
  },
  {
   "cell_type": "code",
   "execution_count": null,
   "metadata": {},
   "outputs": [],
   "source": [
    "function fun_v_C!(\n",
    "    v_C::AbstractArray,\n",
    "    v_p::AbstractArray,\n",
    "    v_m::AbstractArray,\n",
    "    p::NamedTuple,\n",
    ")\n",
    "    V = similar(v_p)\n",
    "    temp = similar(v_p)\n",
    "\n",
    "    @. temp = exp(-1.0f0 / 8.0f0) * (max(v_p, 0) - max(v_m, 0))\n",
    "    conv!(V, temp, p.k_gauss_2, p)\n",
    "\n",
    "    A = similar(v_C)\n",
    "    #     allocate B to v_C\n",
    "    \n",
    "\tconv!(A, V, p.k_C_A, p)\n",
    "\tconv!(v_C, V, p.k_C_B, p)\n",
    " \n",
    "    @. v_C = p.γ * (max(A - abs(v_C), 0) + max(-A - abs(v_C), 0))\n",
    "    return nothing\n",
    "end"
   ]
  },
  {
   "cell_type": "code",
   "execution_count": 31,
   "metadata": {},
   "outputs": [
    {
     "data": {
      "text/plain": [
       "100×100×1×1 CuArray{Float32,4,Nothing}:\n",
       "[:, :, 1, 1] =\n",
       " 0.0  0.0  0.0  0.0  0.0  0.0  0.0  0.0  …  0.0  0.0  0.0  0.0  0.0  0.0  0.0\n",
       " 0.0  0.0  0.0  0.0  0.0  0.0  0.0  0.0     0.0  0.0  0.0  0.0  0.0  0.0  0.0\n",
       " 0.0  0.0  0.0  0.0  0.0  0.0  0.0  0.0     0.0  0.0  0.0  0.0  0.0  0.0  0.0\n",
       " 0.0  0.0  0.0  0.0  0.0  0.0  0.0  0.0     0.0  0.0  0.0  0.0  0.0  0.0  0.0\n",
       " 0.0  0.0  0.0  0.0  0.0  0.0  0.0  0.0     0.0  0.0  0.0  0.0  0.0  0.0  0.0\n",
       " 0.0  0.0  0.0  0.0  0.0  0.0  0.0  0.0  …  0.0  0.0  0.0  0.0  0.0  0.0  0.0\n",
       " 0.0  0.0  0.0  0.0  0.0  0.0  0.0  0.0     0.0  0.0  0.0  0.0  0.0  0.0  0.0\n",
       " 0.0  0.0  0.0  0.0  0.0  0.0  0.0  0.0     0.0  0.0  0.0  0.0  0.0  0.0  0.0\n",
       " 0.0  0.0  0.0  0.0  0.0  0.0  0.0  0.0     0.0  0.0  0.0  0.0  0.0  0.0  0.0\n",
       " 0.0  0.0  0.0  0.0  0.0  0.0  0.0  0.0     0.0  0.0  0.0  0.0  0.0  0.0  0.0\n",
       " 0.0  0.0  0.0  0.0  0.0  0.0  0.0  0.0  …  0.0  0.0  0.0  0.0  0.0  0.0  0.0\n",
       " 0.0  0.0  0.0  0.0  0.0  0.0  0.0  0.0     0.0  0.0  0.0  0.0  0.0  0.0  0.0\n",
       " 0.0  0.0  0.0  0.0  0.0  0.0  0.0  0.0     0.0  0.0  0.0  0.0  0.0  0.0  0.0\n",
       " ⋮                        ⋮              ⋱            ⋮                   \n",
       " 0.0  0.0  0.0  0.0  0.0  0.0  0.0  0.0     0.0  0.0  0.0  0.0  0.0  0.0  0.0\n",
       " 0.0  0.0  0.0  0.0  0.0  0.0  0.0  0.0     0.0  0.0  0.0  0.0  0.0  0.0  0.0\n",
       " 0.0  0.0  0.0  0.0  0.0  0.0  0.0  0.0  …  0.0  0.0  0.0  0.0  0.0  0.0  0.0\n",
       " 0.0  0.0  0.0  0.0  0.0  0.0  0.0  0.0     0.0  0.0  0.0  0.0  0.0  0.0  0.0\n",
       " 0.0  0.0  0.0  0.0  0.0  0.0  0.0  0.0     0.0  0.0  0.0  0.0  0.0  0.0  0.0\n",
       " 0.0  0.0  0.0  0.0  0.0  0.0  0.0  0.0     0.0  0.0  0.0  0.0  0.0  0.0  0.0\n",
       " 0.0  0.0  0.0  0.0  0.0  0.0  0.0  0.0     0.0  0.0  0.0  0.0  0.0  0.0  0.0\n",
       " 0.0  0.0  0.0  0.0  0.0  0.0  0.0  0.0  …  0.0  0.0  0.0  0.0  0.0  0.0  0.0\n",
       " 0.0  0.0  0.0  0.0  0.0  0.0  0.0  0.0     0.0  0.0  0.0  0.0  0.0  0.0  0.0\n",
       " 0.0  0.0  0.0  0.0  0.0  0.0  0.0  0.0     0.0  0.0  0.0  0.0  0.0  0.0  0.0\n",
       " 0.0  0.0  0.0  0.0  0.0  0.0  0.0  0.0     0.0  0.0  0.0  0.0  0.0  0.0  0.0\n",
       " 0.0  0.0  0.0  0.0  0.0  0.0  0.0  0.0     0.0  0.0  0.0  0.0  0.0  0.0  0.0"
      ]
     },
     "execution_count": 31,
     "metadata": {},
     "output_type": "execute_result"
    }
   ],
   "source": [
    "# LaminartGPU.fun_v_C!(C, v_p, v_m, p)\n",
    "\n",
    "# function fun_v_C!(\n",
    "#     v_C::AbstractArray,\n",
    "#     v_p::AbstractArray,\n",
    "#     v_m::AbstractArray,\n",
    "#     p::NamedTuple,\n",
    "# )\n",
    "v_C = C\n",
    "    V = similar(v_p)\n",
    "    temp = similar(v_p)\n",
    "\n",
    "    @. temp = exp(-1.0f0 / 8.0f0) * (max(v_p, 0) - max(v_m, 0))\n",
    "    NNlib.conv(temp, p.k_gauss_2, pad=2)"
   ]
  },
  {
   "cell_type": "code",
   "execution_count": 56,
   "metadata": {},
   "outputs": [],
   "source": [
    "# LaminartGPU.fun_v_C!(C, v_p, v_m, p)\n",
    "\n",
    "# function fun_v_C!(\n",
    "#     v_C::AbstractArray,\n",
    "#     v_p::AbstractArray,\n",
    "#     v_m::AbstractArray,\n",
    "#     p::NamedTuple,\n",
    "# )\n",
    "v_C = C\n",
    "    V = similar(v_p)\n",
    "    temp = similar(v_p)\n",
    "\n",
    "    @. temp = exp(-1.0f0 / 8.0f0) * (max(v_p, 0) - max(v_m, 0))\n",
    "    LaminartGPU.conv!(V, temp, p.k_gauss_2, p)"
   ]
  },
  {
   "cell_type": "code",
   "execution_count": 69,
   "metadata": {},
   "outputs": [],
   "source": [
    "    A = similar(v_C)\n",
    "    #     allocate B to v_C\n",
    "    \n",
    "\tLaminartGPU.conv!(A, V, p.k_C_A, p)\n",
    "\tLaminartGPU.conv!(v_C, V, p.k_C_B, p)"
   ]
  },
  {
   "cell_type": "code",
   "execution_count": 59,
   "metadata": {},
   "outputs": [
    {
     "data": {
      "text/plain": [
       "(100, 100, 2, 1)"
      ]
     },
     "execution_count": 59,
     "metadata": {},
     "output_type": "execute_result"
    }
   ],
   "source": [
    "size(A)"
   ]
  },
  {
   "cell_type": "code",
   "execution_count": 60,
   "metadata": {},
   "outputs": [
    {
     "data": {
      "text/plain": [
       "(100, 100, 1, 1)"
      ]
     },
     "execution_count": 60,
     "metadata": {},
     "output_type": "execute_result"
    }
   ],
   "source": [
    "size(V)"
   ]
  },
  {
   "cell_type": "code",
   "execution_count": 61,
   "metadata": {},
   "outputs": [
    {
     "data": {
      "text/plain": [
       "(5, 5, 2, 1)"
      ]
     },
     "execution_count": 61,
     "metadata": {},
     "output_type": "execute_result"
    }
   ],
   "source": [
    "size(p.k_C_A)"
   ]
  },
  {
   "cell_type": "code",
   "execution_count": 63,
   "metadata": {},
   "outputs": [
    {
     "data": {
      "text/plain": [
       "5×5×1×2 CuArray{Float32,4,CuArray{Float32,4,Nothing}}:\n",
       "[:, :, 1, 1] =\n",
       " 0.12495  0.0404873  0.0  -0.0404873  -0.12495\n",
       " 0.12495  0.0404873  0.0  -0.0404873  -0.12495\n",
       " 0.12495  0.0404873  0.0  -0.0404873  -0.12495\n",
       " 0.12495  0.0404873  0.0  -0.0404873  -0.12495\n",
       " 0.12495  0.0404873  0.0  -0.0404873  -0.12495\n",
       "\n",
       "[:, :, 1, 2] =\n",
       "  0.12495      0.12495      0.12495     0.12495      0.12495\n",
       "  0.0404873    0.0404873    0.0404873   0.0404873    0.0404874\n",
       " -1.86265f-9  -1.86265f-9   0.0         1.86265f-9   1.86265f-9\n",
       " -0.0404874   -0.0404873   -0.0404873  -0.0404873   -0.0404873\n",
       " -0.12495     -0.12495     -0.12495    -0.12495     -0.12495"
      ]
     },
     "execution_count": 63,
     "metadata": {},
     "output_type": "execute_result"
    }
   ],
   "source": [
    "aa = CuArray(reshape(p.k_C_A,5,5,1,2))"
   ]
  },
  {
   "cell_type": "code",
   "execution_count": 64,
   "metadata": {},
   "outputs": [],
   "source": [
    "LaminartGPU.conv!(A, V, aa, p)"
   ]
  },
  {
   "cell_type": "code",
   "execution_count": 65,
   "metadata": {},
   "outputs": [
    {
     "data": {
      "text/plain": [
       "100×100×2×1 CuArray{Float32,4,Nothing}:\n",
       "[:, :, 1, 1] =\n",
       " 0.0  0.0  0.0  0.0  0.0  0.0  0.0  0.0  …  0.0  0.0  0.0  0.0  0.0  0.0  0.0\n",
       " 0.0  0.0  0.0  0.0  0.0  0.0  0.0  0.0     0.0  0.0  0.0  0.0  0.0  0.0  0.0\n",
       " 0.0  0.0  0.0  0.0  0.0  0.0  0.0  0.0     0.0  0.0  0.0  0.0  0.0  0.0  0.0\n",
       " 0.0  0.0  0.0  0.0  0.0  0.0  0.0  0.0     0.0  0.0  0.0  0.0  0.0  0.0  0.0\n",
       " 0.0  0.0  0.0  0.0  0.0  0.0  0.0  0.0     0.0  0.0  0.0  0.0  0.0  0.0  0.0\n",
       " 0.0  0.0  0.0  0.0  0.0  0.0  0.0  0.0  …  0.0  0.0  0.0  0.0  0.0  0.0  0.0\n",
       " 0.0  0.0  0.0  0.0  0.0  0.0  0.0  0.0     0.0  0.0  0.0  0.0  0.0  0.0  0.0\n",
       " 0.0  0.0  0.0  0.0  0.0  0.0  0.0  0.0     0.0  0.0  0.0  0.0  0.0  0.0  0.0\n",
       " 0.0  0.0  0.0  0.0  0.0  0.0  0.0  0.0     0.0  0.0  0.0  0.0  0.0  0.0  0.0\n",
       " 0.0  0.0  0.0  0.0  0.0  0.0  0.0  0.0     0.0  0.0  0.0  0.0  0.0  0.0  0.0\n",
       " 0.0  0.0  0.0  0.0  0.0  0.0  0.0  0.0  …  0.0  0.0  0.0  0.0  0.0  0.0  0.0\n",
       " 0.0  0.0  0.0  0.0  0.0  0.0  0.0  0.0     0.0  0.0  0.0  0.0  0.0  0.0  0.0\n",
       " 0.0  0.0  0.0  0.0  0.0  0.0  0.0  0.0     0.0  0.0  0.0  0.0  0.0  0.0  0.0\n",
       " ⋮                        ⋮              ⋱            ⋮                   \n",
       " 0.0  0.0  0.0  0.0  0.0  0.0  0.0  0.0     0.0  0.0  0.0  0.0  0.0  0.0  0.0\n",
       " 0.0  0.0  0.0  0.0  0.0  0.0  0.0  0.0     0.0  0.0  0.0  0.0  0.0  0.0  0.0\n",
       " 0.0  0.0  0.0  0.0  0.0  0.0  0.0  0.0  …  0.0  0.0  0.0  0.0  0.0  0.0  0.0\n",
       " 0.0  0.0  0.0  0.0  0.0  0.0  0.0  0.0     0.0  0.0  0.0  0.0  0.0  0.0  0.0\n",
       " 0.0  0.0  0.0  0.0  0.0  0.0  0.0  0.0     0.0  0.0  0.0  0.0  0.0  0.0  0.0\n",
       " 0.0  0.0  0.0  0.0  0.0  0.0  0.0  0.0     0.0  0.0  0.0  0.0  0.0  0.0  0.0\n",
       " 0.0  0.0  0.0  0.0  0.0  0.0  0.0  0.0     0.0  0.0  0.0  0.0  0.0  0.0  0.0\n",
       " 0.0  0.0  0.0  0.0  0.0  0.0  0.0  0.0  …  0.0  0.0  0.0  0.0  0.0  0.0  0.0\n",
       " 0.0  0.0  0.0  0.0  0.0  0.0  0.0  0.0     0.0  0.0  0.0  0.0  0.0  0.0  0.0\n",
       " 0.0  0.0  0.0  0.0  0.0  0.0  0.0  0.0     0.0  0.0  0.0  0.0  0.0  0.0  0.0\n",
       " 0.0  0.0  0.0  0.0  0.0  0.0  0.0  0.0     0.0  0.0  0.0  0.0  0.0  0.0  0.0\n",
       " 0.0  0.0  0.0  0.0  0.0  0.0  0.0  0.0     0.0  0.0  0.0  0.0  0.0  0.0  0.0\n",
       "\n",
       "[:, :, 2, 1] =\n",
       " 0.0  0.0  0.0  0.0  0.0  0.0  0.0  0.0  …  0.0  0.0  0.0  0.0  0.0  0.0  0.0\n",
       " 0.0  0.0  0.0  0.0  0.0  0.0  0.0  0.0     0.0  0.0  0.0  0.0  0.0  0.0  0.0\n",
       " 0.0  0.0  0.0  0.0  0.0  0.0  0.0  0.0     0.0  0.0  0.0  0.0  0.0  0.0  0.0\n",
       " 0.0  0.0  0.0  0.0  0.0  0.0  0.0  0.0     0.0  0.0  0.0  0.0  0.0  0.0  0.0\n",
       " 0.0  0.0  0.0  0.0  0.0  0.0  0.0  0.0     0.0  0.0  0.0  0.0  0.0  0.0  0.0\n",
       " 0.0  0.0  0.0  0.0  0.0  0.0  0.0  0.0  …  0.0  0.0  0.0  0.0  0.0  0.0  0.0\n",
       " 0.0  0.0  0.0  0.0  0.0  0.0  0.0  0.0     0.0  0.0  0.0  0.0  0.0  0.0  0.0\n",
       " 0.0  0.0  0.0  0.0  0.0  0.0  0.0  0.0     0.0  0.0  0.0  0.0  0.0  0.0  0.0\n",
       " 0.0  0.0  0.0  0.0  0.0  0.0  0.0  0.0     0.0  0.0  0.0  0.0  0.0  0.0  0.0\n",
       " 0.0  0.0  0.0  0.0  0.0  0.0  0.0  0.0     0.0  0.0  0.0  0.0  0.0  0.0  0.0\n",
       " 0.0  0.0  0.0  0.0  0.0  0.0  0.0  0.0  …  0.0  0.0  0.0  0.0  0.0  0.0  0.0\n",
       " 0.0  0.0  0.0  0.0  0.0  0.0  0.0  0.0     0.0  0.0  0.0  0.0  0.0  0.0  0.0\n",
       " 0.0  0.0  0.0  0.0  0.0  0.0  0.0  0.0     0.0  0.0  0.0  0.0  0.0  0.0  0.0\n",
       " ⋮                        ⋮              ⋱            ⋮                   \n",
       " 0.0  0.0  0.0  0.0  0.0  0.0  0.0  0.0     0.0  0.0  0.0  0.0  0.0  0.0  0.0\n",
       " 0.0  0.0  0.0  0.0  0.0  0.0  0.0  0.0     0.0  0.0  0.0  0.0  0.0  0.0  0.0\n",
       " 0.0  0.0  0.0  0.0  0.0  0.0  0.0  0.0  …  0.0  0.0  0.0  0.0  0.0  0.0  0.0\n",
       " 0.0  0.0  0.0  0.0  0.0  0.0  0.0  0.0     0.0  0.0  0.0  0.0  0.0  0.0  0.0\n",
       " 0.0  0.0  0.0  0.0  0.0  0.0  0.0  0.0     0.0  0.0  0.0  0.0  0.0  0.0  0.0\n",
       " 0.0  0.0  0.0  0.0  0.0  0.0  0.0  0.0     0.0  0.0  0.0  0.0  0.0  0.0  0.0\n",
       " 0.0  0.0  0.0  0.0  0.0  0.0  0.0  0.0     0.0  0.0  0.0  0.0  0.0  0.0  0.0\n",
       " 0.0  0.0  0.0  0.0  0.0  0.0  0.0  0.0  …  0.0  0.0  0.0  0.0  0.0  0.0  0.0\n",
       " 0.0  0.0  0.0  0.0  0.0  0.0  0.0  0.0     0.0  0.0  0.0  0.0  0.0  0.0  0.0\n",
       " 0.0  0.0  0.0  0.0  0.0  0.0  0.0  0.0     0.0  0.0  0.0  0.0  0.0  0.0  0.0\n",
       " 0.0  0.0  0.0  0.0  0.0  0.0  0.0  0.0     0.0  0.0  0.0  0.0  0.0  0.0  0.0\n",
       " 0.0  0.0  0.0  0.0  0.0  0.0  0.0  0.0     0.0  0.0  0.0  0.0  0.0  0.0  0.0"
      ]
     },
     "execution_count": 65,
     "metadata": {},
     "output_type": "execute_result"
    }
   ],
   "source": [
    "A"
   ]
  },
  {
   "cell_type": "code",
   "execution_count": 53,
   "metadata": {},
   "outputs": [
    {
     "data": {
      "text/plain": [
       "100×100×1×1 CuArray{Float32,4,Nothing}:\n",
       "[:, :, 1, 1] =\n",
       " 0.0  0.0  0.0  0.0  0.0  0.0  0.0  0.0  …  0.0  0.0  0.0  0.0  0.0  0.0  0.0\n",
       " 0.0  0.0  0.0  0.0  0.0  0.0  0.0  0.0     0.0  0.0  0.0  0.0  0.0  0.0  0.0\n",
       " 0.0  0.0  0.0  0.0  0.0  0.0  0.0  0.0     0.0  0.0  0.0  0.0  0.0  0.0  0.0\n",
       " 0.0  0.0  0.0  0.0  0.0  0.0  0.0  0.0     0.0  0.0  0.0  0.0  0.0  0.0  0.0\n",
       " 0.0  0.0  0.0  0.0  0.0  0.0  0.0  0.0     0.0  0.0  0.0  0.0  0.0  0.0  0.0\n",
       " 0.0  0.0  0.0  0.0  0.0  0.0  0.0  0.0  …  0.0  0.0  0.0  0.0  0.0  0.0  0.0\n",
       " 0.0  0.0  0.0  0.0  0.0  0.0  0.0  0.0     0.0  0.0  0.0  0.0  0.0  0.0  0.0\n",
       " 0.0  0.0  0.0  0.0  0.0  0.0  0.0  0.0     0.0  0.0  0.0  0.0  0.0  0.0  0.0\n",
       " 0.0  0.0  0.0  0.0  0.0  0.0  0.0  0.0     0.0  0.0  0.0  0.0  0.0  0.0  0.0\n",
       " 0.0  0.0  0.0  0.0  0.0  0.0  0.0  0.0     0.0  0.0  0.0  0.0  0.0  0.0  0.0\n",
       " 0.0  0.0  0.0  0.0  0.0  0.0  0.0  0.0  …  0.0  0.0  0.0  0.0  0.0  0.0  0.0\n",
       " 0.0  0.0  0.0  0.0  0.0  0.0  0.0  0.0     0.0  0.0  0.0  0.0  0.0  0.0  0.0\n",
       " 0.0  0.0  0.0  0.0  0.0  0.0  0.0  0.0     0.0  0.0  0.0  0.0  0.0  0.0  0.0\n",
       " ⋮                        ⋮              ⋱            ⋮                   \n",
       " 0.0  0.0  0.0  0.0  0.0  0.0  0.0  0.0     0.0  0.0  0.0  0.0  0.0  0.0  0.0\n",
       " 0.0  0.0  0.0  0.0  0.0  0.0  0.0  0.0     0.0  0.0  0.0  0.0  0.0  0.0  0.0\n",
       " 0.0  0.0  0.0  0.0  0.0  0.0  0.0  0.0  …  0.0  0.0  0.0  0.0  0.0  0.0  0.0\n",
       " 0.0  0.0  0.0  0.0  0.0  0.0  0.0  0.0     0.0  0.0  0.0  0.0  0.0  0.0  0.0\n",
       " 0.0  0.0  0.0  0.0  0.0  0.0  0.0  0.0     0.0  0.0  0.0  0.0  0.0  0.0  0.0\n",
       " 0.0  0.0  0.0  0.0  0.0  0.0  0.0  0.0     0.0  0.0  0.0  0.0  0.0  0.0  0.0\n",
       " 0.0  0.0  0.0  0.0  0.0  0.0  0.0  0.0     0.0  0.0  0.0  0.0  0.0  0.0  0.0\n",
       " 0.0  0.0  0.0  0.0  0.0  0.0  0.0  0.0  …  0.0  0.0  0.0  0.0  0.0  0.0  0.0\n",
       " 0.0  0.0  0.0  0.0  0.0  0.0  0.0  0.0     0.0  0.0  0.0  0.0  0.0  0.0  0.0\n",
       " 0.0  0.0  0.0  0.0  0.0  0.0  0.0  0.0     0.0  0.0  0.0  0.0  0.0  0.0  0.0\n",
       " 0.0  0.0  0.0  0.0  0.0  0.0  0.0  0.0     0.0  0.0  0.0  0.0  0.0  0.0  0.0\n",
       " 0.0  0.0  0.0  0.0  0.0  0.0  0.0  0.0     0.0  0.0  0.0  0.0  0.0  0.0  0.0"
      ]
     },
     "execution_count": 53,
     "metadata": {},
     "output_type": "execute_result"
    }
   ],
   "source": [
    "v_C = C\n",
    "kern =  p.k_gauss_2\n",
    "    V = similar(v_p)\n",
    "    temp = similar(v_p)\n",
    "\n",
    "    @. temp = exp(-1.0f0 / 8.0f0) * (max(v_p, 0) - max(v_m, 0))\n",
    "    conv(temp, p.k_gauss_2, pad=(size(kern)[1]>>1, size(kern)[1]>>1, size(kern)[2]>>1, size(kern)[2]>>1), flipped=true)"
   ]
  },
  {
   "cell_type": "code",
   "execution_count": 50,
   "metadata": {},
   "outputs": [
    {
     "data": {
      "text/plain": [
       "(2, 2, 0, 0)"
      ]
     },
     "execution_count": 50,
     "metadata": {},
     "output_type": "execute_result"
    }
   ],
   "source": [
    "pad=(size(kern)[1]>>1, size(kern)[2]>>1, size(kern)[3]>>1, size(kern)[4]>>1)"
   ]
  },
  {
   "cell_type": "code",
   "execution_count": 37,
   "metadata": {},
   "outputs": [
    {
     "data": {
      "text/plain": [
       "5"
      ]
     },
     "execution_count": 37,
     "metadata": {},
     "output_type": "execute_result"
    }
   ],
   "source": [
    "size(p.k_gauss_2)[1]"
   ]
  },
  {
   "cell_type": "code",
   "execution_count": 43,
   "metadata": {},
   "outputs": [
    {
     "data": {
      "text/plain": [
       "0"
      ]
     },
     "execution_count": 43,
     "metadata": {},
     "output_type": "execute_result"
    }
   ],
   "source": []
  },
  {
   "cell_type": "code",
   "execution_count": 105,
   "metadata": {},
   "outputs": [
    {
     "data": {
      "text/plain": [
       "100×100×1×1 CuArray{Float32,4,Nothing}:\n",
       "[:, :, 1, 1] =\n",
       " 0.0  0.0  0.0  0.0  0.0  0.0  0.0  0.0  …  0.0  0.0  0.0  0.0  0.0  0.0  0.0\n",
       " 0.0  0.0  0.0  0.0  0.0  0.0  0.0  0.0     0.0  0.0  0.0  0.0  0.0  0.0  0.0\n",
       " 0.0  0.0  0.0  0.0  0.0  0.0  0.0  0.0     0.0  0.0  0.0  0.0  0.0  0.0  0.0\n",
       " 0.0  0.0  0.0  0.0  0.0  0.0  0.0  0.0     0.0  0.0  0.0  0.0  0.0  0.0  0.0\n",
       " 0.0  0.0  0.0  0.0  0.0  0.0  0.0  0.0     0.0  0.0  0.0  0.0  0.0  0.0  0.0\n",
       " 0.0  0.0  0.0  0.0  0.0  0.0  0.0  0.0  …  0.0  0.0  0.0  0.0  0.0  0.0  0.0\n",
       " 0.0  0.0  0.0  0.0  0.0  0.0  0.0  0.0     0.0  0.0  0.0  0.0  0.0  0.0  0.0\n",
       " 0.0  0.0  0.0  0.0  0.0  0.0  0.0  0.0     0.0  0.0  0.0  0.0  0.0  0.0  0.0\n",
       " 0.0  0.0  0.0  0.0  0.0  0.0  0.0  0.0     0.0  0.0  0.0  0.0  0.0  0.0  0.0\n",
       " 0.0  0.0  0.0  0.0  0.0  0.0  0.0  0.0     0.0  0.0  0.0  0.0  0.0  0.0  0.0\n",
       " 0.0  0.0  0.0  0.0  0.0  0.0  0.0  0.0  …  0.0  0.0  0.0  0.0  0.0  0.0  0.0\n",
       " 0.0  0.0  0.0  0.0  0.0  0.0  0.0  0.0     0.0  0.0  0.0  0.0  0.0  0.0  0.0\n",
       " 0.0  0.0  0.0  0.0  0.0  0.0  0.0  0.0     0.0  0.0  0.0  0.0  0.0  0.0  0.0\n",
       " ⋮                        ⋮              ⋱            ⋮                   \n",
       " 0.0  0.0  0.0  0.0  0.0  0.0  0.0  0.0     0.0  0.0  0.0  0.0  0.0  0.0  0.0\n",
       " 0.0  0.0  0.0  0.0  0.0  0.0  0.0  0.0     0.0  0.0  0.0  0.0  0.0  0.0  0.0\n",
       " 0.0  0.0  0.0  0.0  0.0  0.0  0.0  0.0  …  0.0  0.0  0.0  0.0  0.0  0.0  0.0\n",
       " 0.0  0.0  0.0  0.0  0.0  0.0  0.0  0.0     0.0  0.0  0.0  0.0  0.0  0.0  0.0\n",
       " 0.0  0.0  0.0  0.0  0.0  0.0  0.0  0.0     0.0  0.0  0.0  0.0  0.0  0.0  0.0\n",
       " 0.0  0.0  0.0  0.0  0.0  0.0  0.0  0.0     0.0  0.0  0.0  0.0  0.0  0.0  0.0\n",
       " 0.0  0.0  0.0  0.0  0.0  0.0  0.0  0.0     0.0  0.0  0.0  0.0  0.0  0.0  0.0\n",
       " 0.0  0.0  0.0  0.0  0.0  0.0  0.0  0.0  …  0.0  0.0  0.0  0.0  0.0  0.0  0.0\n",
       " 0.0  0.0  0.0  0.0  0.0  0.0  0.0  0.0     0.0  0.0  0.0  0.0  0.0  0.0  0.0\n",
       " 0.0  0.0  0.0  0.0  0.0  0.0  0.0  0.0     0.0  0.0  0.0  0.0  0.0  0.0  0.0\n",
       " 0.0  0.0  0.0  0.0  0.0  0.0  0.0  0.0     0.0  0.0  0.0  0.0  0.0  0.0  0.0\n",
       " 0.0  0.0  0.0  0.0  0.0  0.0  0.0  0.0     0.0  0.0  0.0  0.0  0.0  0.0  0.0"
      ]
     },
     "execution_count": 105,
     "metadata": {},
     "output_type": "execute_result"
    }
   ],
   "source": [
    "conv(temp, p.k_gauss_2, pad=2, flipped=true)"
   ]
  },
  {
   "cell_type": "code",
   "execution_count": null,
   "metadata": {},
   "outputs": [],
   "source": [
    " A = similar(v_C)\n",
    "    #     allocate B to v_C\n",
    "    \n",
    "\tconv!(A, V, p.k_C_A, p)\n",
    "\tconv!(v_C, V, p.k_C_B, p)\n",
    " \n",
    "    @. v_C = p.γ * (max(A - abs(v_C), 0) + max(-A - abs(v_C), 0))"
   ]
  },
  {
   "cell_type": "code",
   "execution_count": null,
   "metadata": {},
   "outputs": [],
   "source": []
  },
  {
   "cell_type": "code",
   "execution_count": null,
   "metadata": {},
   "outputs": [],
   "source": []
  },
  {
   "cell_type": "code",
   "execution_count": null,
   "metadata": {},
   "outputs": [],
   "source": []
  },
  {
   "cell_type": "code",
   "execution_count": 118,
   "metadata": {},
   "outputs": [],
   "source": [
    "LaminartGPU.fun_H_z!(H_z, z, p)"
   ]
  },
  {
   "cell_type": "code",
   "execution_count": null,
   "metadata": {},
   "outputs": [],
   "source": []
  },
  {
   "cell_type": "code",
   "execution_count": 117,
   "metadata": {},
   "outputs": [],
   "source": [
    "LaminartGPU.conv!(H_z, max.(z .- p.Γ, 0f0), p.k_H, p)"
   ]
  },
  {
   "cell_type": "code",
   "execution_count": 108,
   "metadata": {},
   "outputs": [
    {
     "ename": "MethodError",
     "evalue": "MethodError: no method matching -(::CuArray{Float32,4,Nothing}, ::Float32)\nClosest candidates are:\n  -(!Matched::Float32, ::Float32) at float.jl:402\n  -(!Matched::Complex{Bool}, ::Real) at complex.jl:307\n  -(!Matched::Missing, ::Number) at missing.jl:115\n  ...",
     "output_type": "error",
     "traceback": [
      "MethodError: no method matching -(::CuArray{Float32,4,Nothing}, ::Float32)\nClosest candidates are:\n  -(!Matched::Float32, ::Float32) at float.jl:402\n  -(!Matched::Complex{Bool}, ::Real) at complex.jl:307\n  -(!Matched::Missing, ::Number) at missing.jl:115\n  ...",
      "",
      "Stacktrace:",
      " [1] top-level scope at In[108]:1"
     ]
    }
   ],
   "source": [
    "te = max.(z - p.Γ, 0)\n",
    "LaminartGPU.conv!(H_z, te, p.k_H, p)"
   ]
  },
  {
   "cell_type": "code",
   "execution_count": 109,
   "metadata": {},
   "outputs": [
    {
     "data": {
      "text/plain": [
       "19×19×2×2 CuArray{Float32,4,Nothing}:\n",
       "[:, :, 1, 1] =\n",
       " 5.97273f-5   0.0001016    0.000162356  …  0.0001016    5.97273f-5\n",
       " 0.000153582  0.000261251  0.000417478     0.000261251  0.000153582\n",
       " 0.000353388  0.000601133  0.000960608     0.000601133  0.000353388\n",
       " 0.000727627  0.00123774   0.0019779       0.00123774   0.000727627\n",
       " 0.00134064   0.0022805    0.00364423      0.0022805    0.00134064\n",
       " 0.00221034   0.00375991   0.00600832   …  0.00375991   0.00221034\n",
       " 0.003261     0.00554715   0.00886431      0.00554715   0.003261\n",
       " 0.00430515   0.0073233    0.0117026       0.0073233    0.00430515\n",
       " 0.00508593   0.00865146   0.013825        0.00865146   0.00508593\n",
       " 0.00537648   0.0091457    0.0146148       0.0091457    0.00537648\n",
       " 0.00508593   0.00865146   0.013825     …  0.00865146   0.00508593\n",
       " 0.00430515   0.0073233    0.0117026       0.0073233    0.00430515\n",
       " 0.003261     0.00554715   0.00886431      0.00554715   0.003261\n",
       " 0.00221034   0.00375991   0.00600832      0.00375991   0.00221034\n",
       " 0.00134064   0.0022805    0.00364423      0.0022805    0.00134064\n",
       " 0.000727627  0.00123774   0.0019779    …  0.00123774   0.000727627\n",
       " 0.000353388  0.000601133  0.000960608     0.000601133  0.000353388\n",
       " 0.000153582  0.000261251  0.000417478     0.000261251  0.000153582\n",
       " 5.97273f-5   0.0001016    0.000162356     0.0001016    5.97273f-5\n",
       "\n",
       "[:, :, 2, 1] =\n",
       " 0.0  0.0  0.0  0.0  0.0  0.0  0.0  0.0  …  0.0  0.0  0.0  0.0  0.0  0.0  0.0\n",
       " 0.0  0.0  0.0  0.0  0.0  0.0  0.0  0.0     0.0  0.0  0.0  0.0  0.0  0.0  0.0\n",
       " 0.0  0.0  0.0  0.0  0.0  0.0  0.0  0.0     0.0  0.0  0.0  0.0  0.0  0.0  0.0\n",
       " 0.0  0.0  0.0  0.0  0.0  0.0  0.0  0.0     0.0  0.0  0.0  0.0  0.0  0.0  0.0\n",
       " 0.0  0.0  0.0  0.0  0.0  0.0  0.0  0.0     0.0  0.0  0.0  0.0  0.0  0.0  0.0\n",
       " 0.0  0.0  0.0  0.0  0.0  0.0  0.0  0.0  …  0.0  0.0  0.0  0.0  0.0  0.0  0.0\n",
       " 0.0  0.0  0.0  0.0  0.0  0.0  0.0  0.0     0.0  0.0  0.0  0.0  0.0  0.0  0.0\n",
       " 0.0  0.0  0.0  0.0  0.0  0.0  0.0  0.0     0.0  0.0  0.0  0.0  0.0  0.0  0.0\n",
       " 0.0  0.0  0.0  0.0  0.0  0.0  0.0  0.0     0.0  0.0  0.0  0.0  0.0  0.0  0.0\n",
       " 0.0  0.0  0.0  0.0  0.0  0.0  0.0  0.0     0.0  0.0  0.0  0.0  0.0  0.0  0.0\n",
       " 0.0  0.0  0.0  0.0  0.0  0.0  0.0  0.0  …  0.0  0.0  0.0  0.0  0.0  0.0  0.0\n",
       " 0.0  0.0  0.0  0.0  0.0  0.0  0.0  0.0     0.0  0.0  0.0  0.0  0.0  0.0  0.0\n",
       " 0.0  0.0  0.0  0.0  0.0  0.0  0.0  0.0     0.0  0.0  0.0  0.0  0.0  0.0  0.0\n",
       " 0.0  0.0  0.0  0.0  0.0  0.0  0.0  0.0     0.0  0.0  0.0  0.0  0.0  0.0  0.0\n",
       " 0.0  0.0  0.0  0.0  0.0  0.0  0.0  0.0     0.0  0.0  0.0  0.0  0.0  0.0  0.0\n",
       " 0.0  0.0  0.0  0.0  0.0  0.0  0.0  0.0  …  0.0  0.0  0.0  0.0  0.0  0.0  0.0\n",
       " 0.0  0.0  0.0  0.0  0.0  0.0  0.0  0.0     0.0  0.0  0.0  0.0  0.0  0.0  0.0\n",
       " 0.0  0.0  0.0  0.0  0.0  0.0  0.0  0.0     0.0  0.0  0.0  0.0  0.0  0.0  0.0\n",
       " 0.0  0.0  0.0  0.0  0.0  0.0  0.0  0.0     0.0  0.0  0.0  0.0  0.0  0.0  0.0\n",
       "\n",
       "[:, :, 1, 2] =\n",
       " 0.0  0.0  0.0  0.0  0.0  0.0  0.0  0.0  …  0.0  0.0  0.0  0.0  0.0  0.0  0.0\n",
       " 0.0  0.0  0.0  0.0  0.0  0.0  0.0  0.0     0.0  0.0  0.0  0.0  0.0  0.0  0.0\n",
       " 0.0  0.0  0.0  0.0  0.0  0.0  0.0  0.0     0.0  0.0  0.0  0.0  0.0  0.0  0.0\n",
       " 0.0  0.0  0.0  0.0  0.0  0.0  0.0  0.0     0.0  0.0  0.0  0.0  0.0  0.0  0.0\n",
       " 0.0  0.0  0.0  0.0  0.0  0.0  0.0  0.0     0.0  0.0  0.0  0.0  0.0  0.0  0.0\n",
       " 0.0  0.0  0.0  0.0  0.0  0.0  0.0  0.0  …  0.0  0.0  0.0  0.0  0.0  0.0  0.0\n",
       " 0.0  0.0  0.0  0.0  0.0  0.0  0.0  0.0     0.0  0.0  0.0  0.0  0.0  0.0  0.0\n",
       " 0.0  0.0  0.0  0.0  0.0  0.0  0.0  0.0     0.0  0.0  0.0  0.0  0.0  0.0  0.0\n",
       " 0.0  0.0  0.0  0.0  0.0  0.0  0.0  0.0     0.0  0.0  0.0  0.0  0.0  0.0  0.0\n",
       " 0.0  0.0  0.0  0.0  0.0  0.0  0.0  0.0     0.0  0.0  0.0  0.0  0.0  0.0  0.0\n",
       " 0.0  0.0  0.0  0.0  0.0  0.0  0.0  0.0  …  0.0  0.0  0.0  0.0  0.0  0.0  0.0\n",
       " 0.0  0.0  0.0  0.0  0.0  0.0  0.0  0.0     0.0  0.0  0.0  0.0  0.0  0.0  0.0\n",
       " 0.0  0.0  0.0  0.0  0.0  0.0  0.0  0.0     0.0  0.0  0.0  0.0  0.0  0.0  0.0\n",
       " 0.0  0.0  0.0  0.0  0.0  0.0  0.0  0.0     0.0  0.0  0.0  0.0  0.0  0.0  0.0\n",
       " 0.0  0.0  0.0  0.0  0.0  0.0  0.0  0.0     0.0  0.0  0.0  0.0  0.0  0.0  0.0\n",
       " 0.0  0.0  0.0  0.0  0.0  0.0  0.0  0.0  …  0.0  0.0  0.0  0.0  0.0  0.0  0.0\n",
       " 0.0  0.0  0.0  0.0  0.0  0.0  0.0  0.0     0.0  0.0  0.0  0.0  0.0  0.0  0.0\n",
       " 0.0  0.0  0.0  0.0  0.0  0.0  0.0  0.0     0.0  0.0  0.0  0.0  0.0  0.0  0.0\n",
       " 0.0  0.0  0.0  0.0  0.0  0.0  0.0  0.0     0.0  0.0  0.0  0.0  0.0  0.0  0.0\n",
       "\n",
       "[:, :, 2, 2] =\n",
       " 5.97273f-5   0.000153582  0.000353388  …  0.000153582  5.97273f-5\n",
       " 0.0001016    0.000261251  0.000601133     0.000261251  0.0001016\n",
       " 0.000162356  0.000417479  0.000960608     0.000417479  0.000162356\n",
       " 0.000243725  0.000626709  0.00144204      0.00062671   0.000243725\n",
       " 0.000343707  0.000883802  0.00203361      0.000883802  0.000343707\n",
       " 0.000455337  0.00117085   0.00269409   …  0.00117085   0.000455337\n",
       " 0.000566676  0.00145714   0.00335285      0.00145714   0.000566676\n",
       " 0.000662512  0.00170357   0.00391988      0.00170357   0.000662512\n",
       " 0.000727627  0.00187101   0.00430515      0.00187101   0.000727627\n",
       " 0.000750724  0.0019304    0.00444181      0.0019304    0.000750724\n",
       " 0.000727627  0.00187101   0.00430515   …  0.00187101   0.000727627\n",
       " 0.000662512  0.00170357   0.00391988      0.00170357   0.000662512\n",
       " 0.000566676  0.00145714   0.00335285      0.00145714   0.000566676\n",
       " 0.000455337  0.00117085   0.00269409      0.00117085   0.000455337\n",
       " 0.000343707  0.000883802  0.00203361      0.000883802  0.000343707\n",
       " 0.000243725  0.00062671   0.00144204   …  0.000626709  0.000243725\n",
       " 0.000162356  0.000417479  0.000960608     0.000417479  0.000162356\n",
       " 0.0001016    0.000261251  0.000601133     0.000261251  0.0001016\n",
       " 5.97273f-5   0.000153582  0.000353388     0.000153582  5.97273f-5"
      ]
     },
     "execution_count": 109,
     "metadata": {},
     "output_type": "execute_result"
    }
   ],
   "source": [
    "p.k_H"
   ]
  },
  {
   "cell_type": "code",
   "execution_count": 110,
   "metadata": {},
   "outputs": [
    {
     "data": {
      "text/plain": [
       "(100, 100, 2, 1)"
      ]
     },
     "execution_count": 110,
     "metadata": {},
     "output_type": "execute_result"
    }
   ],
   "source": [
    "size(H_z)"
   ]
  },
  {
   "cell_type": "code",
   "execution_count": 115,
   "metadata": {},
   "outputs": [
    {
     "data": {
      "text/plain": [
       "(100, 100, 2, 1)"
      ]
     },
     "execution_count": 115,
     "metadata": {},
     "output_type": "execute_result"
    }
   ],
   "source": [
    "te = similar(z)\n",
    "@. te = max(z - p.Γ, 0)\n",
    "size(te)"
   ]
  },
  {
   "cell_type": "code",
   "execution_count": 116,
   "metadata": {},
   "outputs": [
    {
     "data": {
      "text/plain": [
       "(100, 100, 2, 1)"
      ]
     },
     "execution_count": 116,
     "metadata": {},
     "output_type": "execute_result"
    }
   ],
   "source": [
    "te = max.(z .- p.Γ, 0f0)\n",
    "size(te)"
   ]
  },
  {
   "cell_type": "code",
   "execution_count": 120,
   "metadata": {},
   "outputs": [
    {
     "ename": "DimensionMismatch",
     "evalue": "DimensionMismatch(\"Input channels must match! (2 vs. 1)\")",
     "output_type": "error",
     "traceback": [
      "DimensionMismatch(\"Input channels must match! (2 vs. 1)\")",
      "",
      "Stacktrace:",
      " [1] DenseConvDims(::NTuple{4,Int64}, ::NTuple{4,Int64}; stride::Tuple{Int64,Int64}, padding::NTuple{4,Int64}, dilation::Tuple{Int64,Int64}, flipkernel::Bool) at /mnt/storage_1/users/cullinanen/.julia/packages/NNlib/sSn9M/src/dim_helpers/DenseConvDims.jl:28",
      " [2] #DenseConvDims#7 at /mnt/storage_1/users/cullinanen/.julia/packages/NNlib/sSn9M/src/dim_helpers/DenseConvDims.jl:52 [inlined]",
      " [3] conv(::CuArray{Float32,4,Nothing}, ::CuArray{Float32,4,Nothing}; stride::Int64, pad::NTuple{4,Int64}, dilation::Int64, flipped::Bool) at /mnt/storage_1/users/cullinanen/.julia/packages/NNlib/sSn9M/src/conv.jl:58",
      " [4] conv! at /mnt/storage_1/users/cullinanen/.julia/dev/MEngProject.jl/src/LaminartGPU.jl:151 [inlined]",
      " [5] fun_dv!(::CuArray{Float32,4,Nothing}, ::CuArray{Float32,4,Nothing}, ::CuArray{Float32,4,Nothing}, ::CuArray{Float32,4,Nothing}, ::NamedTuple{(:K, :δ_v, :δ_c, :δ_m, :δ_z, :δ_s, :σ_1, :C_1, :C_2, :σ_2, :γ, :α, :ϕ, :Γ, :v_21, :μ, :ν, :n, :att, :η_p, :η_m, :λ, :a_23_ex, :a_23_in, :v12_6, :v12_4, :ψ, :C_AB_l, :H_σ_x, :H_σ_y, :H_fact, :H_l, :T_fact, :T_p_m, :T_v2_fact, :H_size, :W_size, :lgn_equ_u, :lgn_equ_A, :lgn_equ_B, :filling, :W_l, :k_gauss_1, :k_gauss_2, :k_C_A, :k_C_B, :k_x_lgn, :k_W_p, :k_W_m, :k_H, :k_T_p, :k_T_m, :k_T_p_v2, :k_T_m_v2, :dim_i, :dim_j, :x_V2, :I, :r),Tuple{Int64,Float32,Float32,Float32,Float32,Float32,Float32,Float32,Float32,Float32,Float32,Float32,Float32,Float32,Float32,Float32,Float32,Float32,Float32,Float32,Float32,Float32,Float32,Float32,Float32,Float32,Float32,Int64,Float32,Float32,Float32,Int64,Array{Float32,1},Float32,Float32,Int64,Int64,Float32,Float32,Float32,String,Int64,CuArray{Float32,4,Nothing},CuArray{Float32,4,Nothing},CuArray{Float32,4,Nothing},CuArray{Float32,4,Nothing},CuArray{Float32,4,Nothing},CuArray{Float32,4,Nothing},CuArray{Float32,4,Nothing},CuArray{Float32,4,Nothing},CuArray{Float32,4,Nothing},CuArray{Float32,4,Nothing},CuArray{Float32,4,Nothing},CuArray{Float32,4,Nothing},Int64,Int64,CuArray{Float32,5,Nothing},CuArray{Float32,4,Nothing},CuArray{Float32,4,Nothing}}}) at /mnt/storage_1/users/cullinanen/.julia/dev/MEngProject.jl/src/LaminartGPU.jl:338",
      " [6] top-level scope at In[120]:1"
     ]
    }
   ],
   "source": [
    "LaminartGPU.fun_dv!(dv_p, v_p, p.r, x_lgn, p)"
   ]
  },
  {
   "cell_type": "code",
   "execution_count": null,
   "metadata": {},
   "outputs": [],
   "source": [
    "function fun_dv!(\n",
    "    dv::AbstractArray,\n",
    "    v::AbstractArray,\n",
    "    u::AbstractArray,\n",
    "    x_lgn::AbstractArray,\n",
    "    p::NamedTuple,\n",
    ")\n",
    "\tconv!(dv, x_lgn, p.k_gauss_1, p)\n",
    "    @. dv =\n",
    "        p.δ_v * (\n",
    "            -v + ((1 - v) * max(u, 0) * (1 + p.C_1 * x_lgn)) -\n",
    "            ((1 + v) * p.C_2 * dv)\n",
    "        )\n",
    "    return nothing\n",
    "end"
   ]
  },
  {
   "cell_type": "code",
   "execution_count": 135,
   "metadata": {},
   "outputs": [],
   "source": [
    "# fun_dv!(dv_p, v_p, p.r, x_lgn, p)\n",
    "# function fun_dv!(\n",
    "#     dv::AbstractArray,\n",
    "#     v::AbstractArray,\n",
    "#     u::AbstractArray,\n",
    "#     x_lgn::AbstractArray,\n",
    "#     p::NamedTuple,\n",
    "# )\n",
    "dv = dv_p\n",
    "v = v_p \n",
    "u = p.r\n",
    "xx = CuArray(@view x_lgn[:,:,1:1,:])\n",
    "\tLaminartGPU.conv!(dv, xx, p.k_gauss_1, p)\n",
    "#     @. dv =\n",
    "#         p.δ_v * (\n",
    "#             -v + ((1 - v) * max(u, 0) * (1 + p.C_1 * x_lgn)) -\n",
    "#             ((1 + v) * p.C_2 * dv)\n",
    "#         )\n",
    "#     return nothing\n",
    "# end"
   ]
  },
  {
   "cell_type": "code",
   "execution_count": 134,
   "metadata": {},
   "outputs": [
    {
     "data": {
      "text/plain": [
       "(100, 100, 1, 1)"
      ]
     },
     "execution_count": 134,
     "metadata": {},
     "output_type": "execute_result"
    }
   ],
   "source": [
    "size(xx)"
   ]
  },
  {
   "cell_type": "code",
   "execution_count": 131,
   "metadata": {},
   "outputs": [
    {
     "data": {
      "text/plain": [
       "(100, 100, 1, 1)"
      ]
     },
     "execution_count": 131,
     "metadata": {},
     "output_type": "execute_result"
    }
   ],
   "source": [
    "size(dv)"
   ]
  },
  {
   "cell_type": "code",
   "execution_count": 136,
   "metadata": {},
   "outputs": [
    {
     "data": {
      "text/plain": [
       "BenchmarkTools.Trial: \n",
       "  memory estimate:  43.63 KiB\n",
       "  allocs estimate:  121\n",
       "  --------------\n",
       "  minimum time:     101.440 μs (0.00% GC)\n",
       "  median time:      105.433 μs (0.00% GC)\n",
       "  mean time:        114.054 μs (2.72% GC)\n",
       "  maximum time:     15.519 ms (67.56% GC)\n",
       "  --------------\n",
       "  samples:          10000\n",
       "  evals/sample:     1"
      ]
     },
     "execution_count": 136,
     "metadata": {},
     "output_type": "execute_result"
    }
   ],
   "source": [
    "@benchmark xx = CuArray(@view x_lgn[:,:,1:1,:])"
   ]
  },
  {
   "cell_type": "code",
   "execution_count": 137,
   "metadata": {},
   "outputs": [
    {
     "data": {
      "text/plain": [
       "BenchmarkTools.Trial: \n",
       "  memory estimate:  176 bytes\n",
       "  allocs estimate:  4\n",
       "  --------------\n",
       "  minimum time:     2.889 μs (0.00% GC)\n",
       "  median time:      2.944 μs (0.00% GC)\n",
       "  mean time:        2.951 μs (0.00% GC)\n",
       "  maximum time:     8.774 μs (0.00% GC)\n",
       "  --------------\n",
       "  samples:          10000\n",
       "  evals/sample:     9"
      ]
     },
     "execution_count": 137,
     "metadata": {},
     "output_type": "execute_result"
    }
   ],
   "source": [
    "@benchmark xxx = @view x_lgn[:,:,1:1,:]"
   ]
  },
  {
   "cell_type": "code",
   "execution_count": null,
   "metadata": {},
   "outputs": [],
   "source": []
  },
  {
   "cell_type": "code",
   "execution_count": 130,
   "metadata": {},
   "outputs": [
    {
     "data": {
      "text/plain": [
       "100×100×1 CuArray{Float32,3,Nothing}:\n",
       "[:, :, 1] =\n",
       "   8.63285f-24    0.0            5.08908f-24  …    4.69348f-24  NaN\n",
       "   4.5856f-41     0.0            4.5856f-41        4.5856f-41   NaN\n",
       "   1.39931f-24  NaN              3.6f-43           3.6f-43      NaN\n",
       "   4.5856f-41   NaN              6.0f-45           0.0          NaN\n",
       "   3.59f-43     NaN            NaN               NaN              0.0\n",
       "   0.0          NaN            NaN            …  NaN              0.0\n",
       " NaN              0.0          NaN               NaN            NaN\n",
       " NaN              0.0          NaN               NaN            NaN\n",
       " NaN              5.73108f-24    5.89581f-32       0.0          NaN\n",
       " NaN              4.5856f-41     0.0               0.0          NaN\n",
       "   0.0            6.3741f-24   NaN            …  NaN              0.0\n",
       "   0.0            4.5856f-41   NaN               NaN              0.0\n",
       " NaN              3.6f-43      NaN               NaN            NaN\n",
       "   ⋮                                          ⋱                 \n",
       "   5.89501f-32  NaN            NaN                 1.19065f-32    0.0\n",
       "   0.0          NaN            NaN                 0.0            0.0\n",
       " NaN              0.0          NaN            …    3.12803f-24    6.28638f-24\n",
       " NaN              0.0          NaN                 4.5856f-41     4.5856f-41\n",
       " NaN            NaN              5.89533f-32       3.6f-43        5.73108f-24\n",
       " NaN            NaN              0.0               0.0            4.5856f-41\n",
       "   0.0          NaN              4.59201f-24     NaN              3.6f-43\n",
       "   0.0          NaN              4.5856f-41   …  NaN              0.0\n",
       " NaN              5.89549f-32    4.32813f-24     NaN              1.39931f-24\n",
       " NaN              0.0            4.5856f-41      NaN              4.5856f-41\n",
       " NaN              1.32855f-32    3.6f-43           0.0            1.39936f-24\n",
       " NaN              0.0            0.0               0.0            4.5856f-41"
      ]
     },
     "execution_count": 130,
     "metadata": {},
     "output_type": "execute_result"
    }
   ],
   "source": [
    "xx"
   ]
  },
  {
   "cell_type": "code",
   "execution_count": null,
   "metadata": {},
   "outputs": [],
   "source": []
  },
  {
   "cell_type": "code",
   "execution_count": null,
   "metadata": {},
   "outputs": [],
   "source": []
  },
  {
   "cell_type": "code",
   "execution_count": null,
   "metadata": {},
   "outputs": [],
   "source": []
  },
  {
   "cell_type": "code",
   "execution_count": 127,
   "metadata": {},
   "outputs": [
    {
     "data": {
      "text/plain": [
       "5×5×1×1 CuArray{Float32,4,Nothing}:\n",
       "[:, :, 1, 1] =\n",
       " 0.00296902  0.0133062  0.0219382  0.0133062  0.00296902\n",
       " 0.0133062   0.0596343  0.0983203  0.0596343  0.0133062\n",
       " 0.0219382   0.0983203  0.162103   0.0983203  0.0219382\n",
       " 0.0133062   0.0596343  0.0983203  0.0596343  0.0133062\n",
       " 0.00296902  0.0133062  0.0219382  0.0133062  0.00296902"
      ]
     },
     "execution_count": 127,
     "metadata": {},
     "output_type": "execute_result"
    }
   ],
   "source": [
    "p.k_gauss_1"
   ]
  },
  {
   "cell_type": "code",
   "execution_count": null,
   "metadata": {},
   "outputs": [],
   "source": [
    "LaminartGPU.fun_dv!(dv_m, v_m, .-p.r, x_lgn, p)"
   ]
  },
  {
   "cell_type": "code",
   "execution_count": null,
   "metadata": {},
   "outputs": [],
   "source": [
    "p.k_x_lgn"
   ]
  },
  {
   "cell_type": "code",
   "execution_count": 24,
   "metadata": {},
   "outputs": [
    {
     "ename": "DimensionMismatch",
     "evalue": "DimensionMismatch(\"cannot broadcast array to have fewer dimensions\")",
     "output_type": "error",
     "traceback": [
      "DimensionMismatch(\"cannot broadcast array to have fewer dimensions\")",
      "",
      "Stacktrace:",
      " [1] check_broadcast_shape(::Tuple{}, ::Tuple{Base.OneTo{Int64}}) at ./broadcast.jl:507",
      " [2] check_broadcast_shape(::Tuple{Base.OneTo{Int64}}, ::Tuple{Base.OneTo{Int64},Base.OneTo{Int64}}) at ./broadcast.jl:510 (repeats 4 times)",
      " [3] check_broadcast_axes at /mnt/storage_1/users/cullinanen/.julia/packages/DiffEqBase/JNliX/src/diffeqfastbc.jl:26 [inlined]",
      " [4] check_broadcast_axes at ./broadcast.jl:516 [inlined]",
      " [5] instantiate at ./broadcast.jl:259 [inlined]",
      " [6] materialize! at ./broadcast.jl:823 [inlined]",
      " [7] fun_dx_v1!(::CuArray{Float32,4,Nothing}, ::CuArray{Float32,4,Nothing}, ::CuArray{Float32,4,Nothing}, ::CuArray{Float32,4,Nothing}, ::CuArray{Float32,5,Nothing}, ::NamedTuple{(:K, :δ_v, :δ_c, :δ_m, :δ_z, :δ_s, :σ_1, :C_1, :C_2, :σ_2, :γ, :α, :ϕ, :Γ, :v_21, :μ, :ν, :n, :att, :η_p, :η_m, :λ, :a_23_ex, :a_23_in, :v12_6, :v12_4, :ψ, :C_AB_l, :H_σ_x, :H_σ_y, :H_fact, :H_l, :T_fact, :T_p_m, :T_v2_fact, :H_size, :W_size, :lgn_equ_u, :lgn_equ_A, :lgn_equ_B, :filling, :W_l, :k_gauss_1, :k_gauss_2, :k_C_A, :k_C_B, :k_x_lgn, :k_W_p, :k_W_m, :k_H, :k_T_p, :k_T_m, :k_T_p_v2, :k_T_m_v2, :dim_i, :dim_j, :x_V2, :I, :r),Tuple{Int64,Float32,Float32,Float32,Float32,Float32,Float32,Float32,Float32,Float32,Float32,Float32,Float32,Float32,Float32,Float32,Float32,Float32,Float32,Float32,Float32,Float32,Float32,Float32,Float32,Float32,Float32,Int64,Float32,Float32,Float32,Int64,Array{Float32,1},Float32,Float32,Int64,Int64,Float32,Float32,Float32,String,Int64,CuArray{Float32,4,Nothing},CuArray{Float32,4,Nothing},CuArray{Float32,4,Nothing},CuArray{Float32,4,Nothing},CuArray{Float32,4,Nothing},CuArray{Float32,4,Nothing},CuArray{Float32,4,Nothing},CuArray{Float32,4,Nothing},CuArray{Float32,4,Nothing},CuArray{Float32,4,Nothing},CuArray{Float32,4,Nothing},CuArray{Float32,4,Nothing},Int64,Int64,CuArray{Float32,5,Nothing},CuArray{Float32,4,Nothing},CuArray{Float32,4,Nothing}}}) at /mnt/storage_1/users/cullinanen/.julia/dev/MEngProject.jl/src/LaminartGPU.jl:376",
      " [8] top-level scope at In[24]:1"
     ]
    }
   ],
   "source": [
    "LaminartGPU.fun_dx_v1!(dx, x, C, z, p.x_V2, p)"
   ]
  },
  {
   "cell_type": "code",
   "execution_count": 25,
   "metadata": {},
   "outputs": [
    {
     "ename": "LLVM.LLVMException",
     "evalue": "LLVM error: Cannot select: 0x7fd414d7ce48: f32 = fpow 0x7fd414d440c0, 0x7fd41553c608, math.jl:877 @[ broadcast.jl:631 @[ broadcast.jl:604 @[ broadcast.jl:627 @[ broadcast.jl:603 @[ broadcast.jl:628 @[ broadcast.jl:627 @[ broadcast.jl:603 @[ broadcast.jl:564 @[ /mnt/storage_1/users/cullinanen/.julia/packages/GPUArrays/X4SqE/src/host/broadcast.jl:59 ] ] ] ] ] ] ] ] ]\n  0x7fd414d440c0: f32,ch = CopyFromReg 0x7fd4180264f8, Register:f32 %14, math.jl:877 @[ broadcast.jl:631 @[ broadcast.jl:604 @[ broadcast.jl:627 @[ broadcast.jl:603 @[ broadcast.jl:628 @[ broadcast.jl:627 @[ broadcast.jl:603 @[ broadcast.jl:564 @[ /mnt/storage_1/users/cullinanen/.julia/packages/GPUArrays/X4SqE/src/host/broadcast.jl:59 ] ] ] ] ] ] ] ] ]\n    0x7fd4155543a8: f32 = Register %14\n  0x7fd41553c608: f32,ch = CopyFromReg 0x7fd4180264f8, Register:f32 %15, math.jl:877 @[ broadcast.jl:631 @[ broadcast.jl:604 @[ broadcast.jl:627 @[ broadcast.jl:603 @[ broadcast.jl:628 @[ broadcast.jl:627 @[ broadcast.jl:603 @[ broadcast.jl:564 @[ /mnt/storage_1/users/cullinanen/.julia/packages/GPUArrays/X4SqE/src/host/broadcast.jl:59 ] ] ] ] ] ] ] ] ]\n    0x7fd415553ab8: f32 = Register %15\nIn function: _Z15julia_broadcast15CuKernelContext13CuDeviceArrayI7Float32Li4E6GlobalE11BroadcastedIv5TupleI5OneToI5Int64E5OneToI5Int64E5OneToI5Int64E5OneToI5Int64EE2__5TupleI11BroadcastedI12CuArrayStyleILi4EEv2__5TupleI7Float3211BroadcastedI12CuArrayStyleILi4EEv4_pow5TupleI8ExtrudedI13CuDeviceArrayI7Float32Li4E6GlobalE5TupleI4Bool4Bool4Bool4BoolE5TupleI5Int645Int645Int645Int64EE7Float32EEEE11BroadcastedI12CuArrayStyleILi4EEv2__5TupleI11BroadcastedI17DefaultArrayStyleILi0EEv2__5TupleI7Float327Float32EE11BroadcastedI12CuArrayStyleILi4EEv4_pow5TupleI8ExtrudedI13CuDeviceArrayI7Float32Li4E6GlobalE5TupleI4Bool4Bool4Bool4BoolE5TupleI5Int645Int645Int645Int64EE7Float32EEEEEE",
     "output_type": "error",
     "traceback": [
      "LLVM error: Cannot select: 0x7fd414d7ce48: f32 = fpow 0x7fd414d440c0, 0x7fd41553c608, math.jl:877 @[ broadcast.jl:631 @[ broadcast.jl:604 @[ broadcast.jl:627 @[ broadcast.jl:603 @[ broadcast.jl:628 @[ broadcast.jl:627 @[ broadcast.jl:603 @[ broadcast.jl:564 @[ /mnt/storage_1/users/cullinanen/.julia/packages/GPUArrays/X4SqE/src/host/broadcast.jl:59 ] ] ] ] ] ] ] ] ]\n  0x7fd414d440c0: f32,ch = CopyFromReg 0x7fd4180264f8, Register:f32 %14, math.jl:877 @[ broadcast.jl:631 @[ broadcast.jl:604 @[ broadcast.jl:627 @[ broadcast.jl:603 @[ broadcast.jl:628 @[ broadcast.jl:627 @[ broadcast.jl:603 @[ broadcast.jl:564 @[ /mnt/storage_1/users/cullinanen/.julia/packages/GPUArrays/X4SqE/src/host/broadcast.jl:59 ] ] ] ] ] ] ] ] ]\n    0x7fd4155543a8: f32 = Register %14\n  0x7fd41553c608: f32,ch = CopyFromReg 0x7fd4180264f8, Register:f32 %15, math.jl:877 @[ broadcast.jl:631 @[ broadcast.jl:604 @[ broadcast.jl:627 @[ broadcast.jl:603 @[ broadcast.jl:628 @[ broadcast.jl:627 @[ broadcast.jl:603 @[ broadcast.jl:564 @[ /mnt/storage_1/users/cullinanen/.julia/packages/GPUArrays/X4SqE/src/host/broadcast.jl:59 ] ] ] ] ] ] ] ] ]\n    0x7fd415553ab8: f32 = Register %15\nIn function: _Z15julia_broadcast15CuKernelContext13CuDeviceArrayI7Float32Li4E6GlobalE11BroadcastedIv5TupleI5OneToI5Int64E5OneToI5Int64E5OneToI5Int64E5OneToI5Int64EE2__5TupleI11BroadcastedI12CuArrayStyleILi4EEv2__5TupleI7Float3211BroadcastedI12CuArrayStyleILi4EEv4_pow5TupleI8ExtrudedI13CuDeviceArrayI7Float32Li4E6GlobalE5TupleI4Bool4Bool4Bool4BoolE5TupleI5Int645Int645Int645Int64EE7Float32EEEE11BroadcastedI12CuArrayStyleILi4EEv2__5TupleI11BroadcastedI17DefaultArrayStyleILi0EEv2__5TupleI7Float327Float32EE11BroadcastedI12CuArrayStyleILi4EEv4_pow5TupleI8ExtrudedI13CuDeviceArrayI7Float32Li4E6GlobalE5TupleI4Bool4Bool4Bool4BoolE5TupleI5Int645Int645Int645Int64EE7Float32EEEEEE",
      "",
      "Stacktrace:",
      " [1] handle_error(::Cstring) at /mnt/storage_1/users/cullinanen/.julia/packages/LLVM/T8ZBA/src/core/context.jl:105",
      " [2] macro expansion at /mnt/storage_1/users/cullinanen/.julia/packages/LLVM/T8ZBA/src/util.jl:109 [inlined]",
      " [3] LLVMTargetMachineEmitToMemoryBuffer(::LLVM.TargetMachine, ::LLVM.Module, ::LLVM.API.LLVMCodeGenFileType, ::Base.RefValue{Cstring}, ::Base.RefValue{Ptr{LLVM.API.LLVMOpaqueMemoryBuffer}}) at /mnt/storage_1/users/cullinanen/.julia/packages/LLVM/T8ZBA/lib/libLLVM_h.jl:3512",
      " [4] emit(::LLVM.TargetMachine, ::LLVM.Module, ::LLVM.API.LLVMCodeGenFileType) at /mnt/storage_1/users/cullinanen/.julia/packages/LLVM/T8ZBA/src/targetmachine.jl:43",
      " [5] mcgen at /mnt/storage_1/users/cullinanen/.julia/packages/GPUCompiler/FoVMi/src/mcgen.jl:73 [inlined]",
      " [6] macro expansion at /mnt/storage_1/users/cullinanen/.julia/packages/TimerOutputs/dVnaw/src/TimerOutput.jl:206 [inlined]",
      " [7] macro expansion at /mnt/storage_1/users/cullinanen/.julia/packages/GPUCompiler/FoVMi/src/driver.jl:254 [inlined]",
      " [8] macro expansion at /mnt/storage_1/users/cullinanen/.julia/packages/TimerOutputs/dVnaw/src/TimerOutput.jl:206 [inlined]",
      " [9] codegen(::Symbol, ::GPUCompiler.CompilerJob{GPUCompiler.PTXCompilerTarget,CUDA.CUDACompilerParams}; libraries::Bool, deferred_codegen::Bool, optimize::Bool, strip::Bool, validate::Bool, only_entry::Bool) at /mnt/storage_1/users/cullinanen/.julia/packages/GPUCompiler/FoVMi/src/driver.jl:250",
      " [10] compile(::Symbol, ::GPUCompiler.CompilerJob{GPUCompiler.PTXCompilerTarget,CUDA.CUDACompilerParams}; libraries::Bool, deferred_codegen::Bool, optimize::Bool, strip::Bool, validate::Bool, only_entry::Bool) at /mnt/storage_1/users/cullinanen/.julia/packages/GPUCompiler/FoVMi/src/driver.jl:39",
      " [11] compile at /mnt/storage_1/users/cullinanen/.julia/packages/GPUCompiler/FoVMi/src/driver.jl:35 [inlined]",
      " [12] _cufunction(::GPUCompiler.FunctionSpec{GPUArrays.var\"#20#21\",Tuple{CUDA.CuKernelContext,CuDeviceArray{Float32,4,CUDA.AS.Global},Base.Broadcast.Broadcasted{Nothing,NTuple{4,Base.OneTo{Int64}},typeof(/),Tuple{Base.Broadcast.Broadcasted{CUDA.CuArrayStyle{4},Nothing,typeof(*),Tuple{Float32,Base.Broadcast.Broadcasted{CUDA.CuArrayStyle{4},Nothing,typeof(CUDA.pow),Tuple{Base.Broadcast.Extruded{CuDeviceArray{Float32,4,CUDA.AS.Global},NTuple{4,Bool},NTuple{4,Int64}},Float32}}}},Base.Broadcast.Broadcasted{CUDA.CuArrayStyle{4},Nothing,typeof(+),Tuple{Base.Broadcast.Broadcasted{Base.Broadcast.DefaultArrayStyle{0},Nothing,typeof(^),Tuple{Float32,Float32}},Base.Broadcast.Broadcasted{CUDA.CuArrayStyle{4},Nothing,typeof(CUDA.pow),Tuple{Base.Broadcast.Extruded{CuDeviceArray{Float32,4,CUDA.AS.Global},NTuple{4,Bool},NTuple{4,Int64}},Float32}}}}}}}}; kwargs::Base.Iterators.Pairs{Union{},Union{},Tuple{},NamedTuple{(),Tuple{}}}) at /mnt/storage_1/users/cullinanen/.julia/packages/CUDA/sjcZt/src/compiler/execution.jl:308",
      " [13] _cufunction at /mnt/storage_1/users/cullinanen/.julia/packages/CUDA/sjcZt/src/compiler/execution.jl:302 [inlined]",
      " [14] #100 at /mnt/storage_1/users/cullinanen/.julia/packages/GPUCompiler/FoVMi/src/cache.jl:21 [inlined]",
      " [15] get!(::GPUCompiler.var\"#100#101\"{Base.Iterators.Pairs{Union{},Union{},Tuple{},NamedTuple{(),Tuple{}}},typeof(CUDA._cufunction),GPUCompiler.FunctionSpec{GPUArrays.var\"#20#21\",Tuple{CUDA.CuKernelContext,CuDeviceArray{Float32,4,CUDA.AS.Global},Base.Broadcast.Broadcasted{Nothing,NTuple{4,Base.OneTo{Int64}},typeof(/),Tuple{Base.Broadcast.Broadcasted{CUDA.CuArrayStyle{4},Nothing,typeof(*),Tuple{Float32,Base.Broadcast.Broadcasted{CUDA.CuArrayStyle{4},Nothing,typeof(CUDA.pow),Tuple{Base.Broadcast.Extruded{CuDeviceArray{Float32,4,CUDA.AS.Global},NTuple{4,Bool},NTuple{4,Int64}},Float32}}}},Base.Broadcast.Broadcasted{CUDA.CuArrayStyle{4},Nothing,typeof(+),Tuple{Base.Broadcast.Broadcasted{Base.Broadcast.DefaultArrayStyle{0},Nothing,typeof(^),Tuple{Float32,Float32}},Base.Broadcast.Broadcasted{CUDA.CuArrayStyle{4},Nothing,typeof(CUDA.pow),Tuple{Base.Broadcast.Extruded{CuDeviceArray{Float32,4,CUDA.AS.Global},NTuple{4,Bool},NTuple{4,Int64}},Float32}}}}}}}}}, ::Dict{UInt64,Any}, ::UInt64) at ./dict.jl:452",
      " [16] macro expansion at ./lock.jl:183 [inlined]",
      " [17] check_cache(::typeof(CUDA._cufunction), ::GPUCompiler.FunctionSpec{GPUArrays.var\"#20#21\",Tuple{CUDA.CuKernelContext,CuDeviceArray{Float32,4,CUDA.AS.Global},Base.Broadcast.Broadcasted{Nothing,NTuple{4,Base.OneTo{Int64}},typeof(/),Tuple{Base.Broadcast.Broadcasted{CUDA.CuArrayStyle{4},Nothing,typeof(*),Tuple{Float32,Base.Broadcast.Broadcasted{CUDA.CuArrayStyle{4},Nothing,typeof(CUDA.pow),Tuple{Base.Broadcast.Extruded{CuDeviceArray{Float32,4,CUDA.AS.Global},NTuple{4,Bool},NTuple{4,Int64}},Float32}}}},Base.Broadcast.Broadcasted{CUDA.CuArrayStyle{4},Nothing,typeof(+),Tuple{Base.Broadcast.Broadcasted{Base.Broadcast.DefaultArrayStyle{0},Nothing,typeof(^),Tuple{Float32,Float32}},Base.Broadcast.Broadcasted{CUDA.CuArrayStyle{4},Nothing,typeof(CUDA.pow),Tuple{Base.Broadcast.Extruded{CuDeviceArray{Float32,4,CUDA.AS.Global},NTuple{4,Bool},NTuple{4,Int64}},Float32}}}}}}}}, ::UInt64; kwargs::Base.Iterators.Pairs{Union{},Union{},Tuple{},NamedTuple{(),Tuple{}}}) at /mnt/storage_1/users/cullinanen/.julia/packages/GPUCompiler/FoVMi/src/cache.jl:19",
      " [18] + at ./int.jl:53 [inlined]",
      " [19] hash_64_64 at ./hashing.jl:35 [inlined]",
      " [20] hash_uint64 at ./hashing.jl:62 [inlined]",
      " [21] hx at ./float.jl:568 [inlined]",
      " [22] hash at ./float.jl:571 [inlined]",
      " [23] cached_compilation(::typeof(CUDA._cufunction), ::GPUCompiler.FunctionSpec{GPUArrays.var\"#20#21\",Tuple{CUDA.CuKernelContext,CuDeviceArray{Float32,4,CUDA.AS.Global},Base.Broadcast.Broadcasted{Nothing,NTuple{4,Base.OneTo{Int64}},typeof(/),Tuple{Base.Broadcast.Broadcasted{CUDA.CuArrayStyle{4},Nothing,typeof(*),Tuple{Float32,Base.Broadcast.Broadcasted{CUDA.CuArrayStyle{4},Nothing,typeof(CUDA.pow),Tuple{Base.Broadcast.Extruded{CuDeviceArray{Float32,4,CUDA.AS.Global},NTuple{4,Bool},NTuple{4,Int64}},Float32}}}},Base.Broadcast.Broadcasted{CUDA.CuArrayStyle{4},Nothing,typeof(+),Tuple{Base.Broadcast.Broadcasted{Base.Broadcast.DefaultArrayStyle{0},Nothing,typeof(^),Tuple{Float32,Float32}},Base.Broadcast.Broadcasted{CUDA.CuArrayStyle{4},Nothing,typeof(CUDA.pow),Tuple{Base.Broadcast.Extruded{CuDeviceArray{Float32,4,CUDA.AS.Global},NTuple{4,Bool},NTuple{4,Int64}},Float32}}}}}}}}, ::UInt64; kwargs::Base.Iterators.Pairs{Union{},Union{},Tuple{},NamedTuple{(),Tuple{}}}) at /mnt/storage_1/users/cullinanen/.julia/packages/GPUCompiler/FoVMi/src/cache.jl:0",
      " [24] cached_compilation(::Function, ::GPUCompiler.FunctionSpec{GPUArrays.var\"#20#21\",Tuple{CUDA.CuKernelContext,CuDeviceArray{Float32,4,CUDA.AS.Global},Base.Broadcast.Broadcasted{Nothing,NTuple{4,Base.OneTo{Int64}},typeof(/),Tuple{Base.Broadcast.Broadcasted{CUDA.CuArrayStyle{4},Nothing,typeof(*),Tuple{Float32,Base.Broadcast.Broadcasted{CUDA.CuArrayStyle{4},Nothing,typeof(CUDA.pow),Tuple{Base.Broadcast.Extruded{CuDeviceArray{Float32,4,CUDA.AS.Global},NTuple{4,Bool},NTuple{4,Int64}},Float32}}}},Base.Broadcast.Broadcasted{CUDA.CuArrayStyle{4},Nothing,typeof(+),Tuple{Base.Broadcast.Broadcasted{Base.Broadcast.DefaultArrayStyle{0},Nothing,typeof(^),Tuple{Float32,Float32}},Base.Broadcast.Broadcasted{CUDA.CuArrayStyle{4},Nothing,typeof(CUDA.pow),Tuple{Base.Broadcast.Extruded{CuDeviceArray{Float32,4,CUDA.AS.Global},NTuple{4,Bool},NTuple{4,Int64}},Float32}}}}}}}}, ::UInt64) at /mnt/storage_1/users/cullinanen/.julia/packages/GPUCompiler/FoVMi/src/cache.jl:37",
      " [25] cufunction(::Function, ::Type; name::String, kwargs::Base.Iterators.Pairs{Union{},Union{},Tuple{},NamedTuple{(),Tuple{}}}) at /mnt/storage_1/users/cullinanen/.julia/packages/CUDA/sjcZt/src/compiler/execution.jl:296",
      " [26] macro expansion at /mnt/storage_1/users/cullinanen/.julia/packages/CUDA/sjcZt/src/compiler/execution.jl:108 [inlined]",
      " [27] gpu_call(::CUDA.CuArrayBackend, ::Function, ::Tuple{CuArray{Float32,4,Nothing},Base.Broadcast.Broadcasted{Nothing,NTuple{4,Base.OneTo{Int64}},typeof(/),Tuple{Base.Broadcast.Broadcasted{CUDA.CuArrayStyle{4},Nothing,typeof(*),Tuple{Float32,Base.Broadcast.Broadcasted{CUDA.CuArrayStyle{4},Nothing,typeof(CUDA.pow),Tuple{Base.Broadcast.Extruded{CuArray{Float32,4,Nothing},NTuple{4,Bool},NTuple{4,Int64}},Float32}}}},Base.Broadcast.Broadcasted{CUDA.CuArrayStyle{4},Nothing,typeof(+),Tuple{Base.Broadcast.Broadcasted{Base.Broadcast.DefaultArrayStyle{0},Nothing,typeof(^),Tuple{Float32,Float32}},Base.Broadcast.Broadcasted{CUDA.CuArrayStyle{4},Nothing,typeof(CUDA.pow),Tuple{Base.Broadcast.Extruded{CuArray{Float32,4,Nothing},NTuple{4,Bool},NTuple{4,Int64}},Float32}}}}}}}, ::Int64; name::String) at /mnt/storage_1/users/cullinanen/.julia/packages/CUDA/sjcZt/src/gpuarrays.jl:32",
      " [28] #gpu_call#1 at /mnt/storage_1/users/cullinanen/.julia/packages/GPUArrays/X4SqE/src/device/execution.jl:61 [inlined]",
      " [29] copyto! at /mnt/storage_1/users/cullinanen/.julia/packages/GPUArrays/X4SqE/src/host/broadcast.jl:57 [inlined]",
      " [30] copyto! at ./broadcast.jl:864 [inlined]",
      " [31] materialize! at ./broadcast.jl:823 [inlined]",
      " [32] fun_f!(::CuArray{Float32,4,Nothing}, ::CuArray{Float32,4,Nothing}, ::NamedTuple{(:K, :δ_v, :δ_c, :δ_m, :δ_z, :δ_s, :σ_1, :C_1, :C_2, :σ_2, :γ, :α, :ϕ, :Γ, :v_21, :μ, :ν, :n, :att, :η_p, :η_m, :λ, :a_23_ex, :a_23_in, :v12_6, :v12_4, :ψ, :C_AB_l, :H_σ_x, :H_σ_y, :H_fact, :H_l, :T_fact, :T_p_m, :T_v2_fact, :H_size, :W_size, :lgn_equ_u, :lgn_equ_A, :lgn_equ_B, :filling, :W_l, :k_gauss_1, :k_gauss_2, :k_C_A, :k_C_B, :k_x_lgn, :k_W_p, :k_W_m, :k_H, :k_T_p, :k_T_m, :k_T_p_v2, :k_T_m_v2, :dim_i, :dim_j, :x_V2, :I, :r),Tuple{Int64,Float32,Float32,Float32,Float32,Float32,Float32,Float32,Float32,Float32,Float32,Float32,Float32,Float32,Float32,Float32,Float32,Float32,Float32,Float32,Float32,Float32,Float32,Float32,Float32,Float32,Float32,Int64,Float32,Float32,Float32,Int64,Array{Float32,1},Float32,Float32,Int64,Int64,Float32,Float32,Float32,String,Int64,CuArray{Float32,4,Nothing},CuArray{Float32,4,Nothing},CuArray{Float32,4,Nothing},CuArray{Float32,4,Nothing},CuArray{Float32,4,Nothing},CuArray{Float32,4,Nothing},CuArray{Float32,4,Nothing},CuArray{Float32,4,Nothing},CuArray{Float32,4,Nothing},CuArray{Float32,4,Nothing},CuArray{Float32,4,Nothing},CuArray{Float32,4,Nothing},Int64,Int64,CuArray{Float32,5,Nothing},CuArray{Float32,4,Nothing},CuArray{Float32,4,Nothing}}}) at /mnt/storage_1/users/cullinanen/.julia/dev/MEngProject.jl/src/LaminartGPU.jl:286",
      " [33] fun_dy!(::CuArray{Float32,4,Nothing}, ::CuArray{Float32,4,Nothing}, ::CuArray{Float32,4,Nothing}, ::CuArray{Float32,4,Nothing}, ::CuArray{Float32,4,Nothing}, ::NamedTuple{(:K, :δ_v, :δ_c, :δ_m, :δ_z, :δ_s, :σ_1, :C_1, :C_2, :σ_2, :γ, :α, :ϕ, :Γ, :v_21, :μ, :ν, :n, :att, :η_p, :η_m, :λ, :a_23_ex, :a_23_in, :v12_6, :v12_4, :ψ, :C_AB_l, :H_σ_x, :H_σ_y, :H_fact, :H_l, :T_fact, :T_p_m, :T_v2_fact, :H_size, :W_size, :lgn_equ_u, :lgn_equ_A, :lgn_equ_B, :filling, :W_l, :k_gauss_1, :k_gauss_2, :k_C_A, :k_C_B, :k_x_lgn, :k_W_p, :k_W_m, :k_H, :k_T_p, :k_T_m, :k_T_p_v2, :k_T_m_v2, :dim_i, :dim_j, :x_V2, :I, :r),Tuple{Int64,Float32,Float32,Float32,Float32,Float32,Float32,Float32,Float32,Float32,Float32,Float32,Float32,Float32,Float32,Float32,Float32,Float32,Float32,Float32,Float32,Float32,Float32,Float32,Float32,Float32,Float32,Int64,Float32,Float32,Float32,Int64,Array{Float32,1},Float32,Float32,Int64,Int64,Float32,Float32,Float32,String,Int64,CuArray{Float32,4,Nothing},CuArray{Float32,4,Nothing},CuArray{Float32,4,Nothing},CuArray{Float32,4,Nothing},CuArray{Float32,4,Nothing},CuArray{Float32,4,Nothing},CuArray{Float32,4,Nothing},CuArray{Float32,4,Nothing},CuArray{Float32,4,Nothing},CuArray{Float32,4,Nothing},CuArray{Float32,4,Nothing},CuArray{Float32,4,Nothing},Int64,Int64,CuArray{Float32,5,Nothing},CuArray{Float32,4,Nothing},CuArray{Float32,4,Nothing}}}) at /mnt/storage_1/users/cullinanen/.julia/dev/MEngProject.jl/src/LaminartGPU.jl:401",
      " [34] top-level scope at In[25]:1"
     ]
    }
   ],
   "source": [
    "LaminartGPU.fun_dy!(dy, y, C, x, m, p)"
   ]
  },
  {
   "cell_type": "code",
   "execution_count": 28,
   "metadata": {},
   "outputs": [
    {
     "ename": "LLVM.LLVMException",
     "evalue": "LLVM error: Cannot select: 0x7fd4150d3a98: f32 = fpow 0x7fd41540dbc0, 0x7fd413de6b58, math.jl:877 @[ broadcast.jl:631 @[ broadcast.jl:604 @[ broadcast.jl:627 @[ broadcast.jl:603 @[ broadcast.jl:628 @[ broadcast.jl:627 @[ broadcast.jl:603 @[ broadcast.jl:564 @[ /mnt/storage_1/users/cullinanen/.julia/packages/GPUArrays/X4SqE/src/host/broadcast.jl:59 ] ] ] ] ] ] ] ] ]\n  0x7fd41540dbc0: f32,ch = CopyFromReg 0x7fd4141401f8, Register:f32 %14, math.jl:877 @[ broadcast.jl:631 @[ broadcast.jl:604 @[ broadcast.jl:627 @[ broadcast.jl:603 @[ broadcast.jl:628 @[ broadcast.jl:627 @[ broadcast.jl:603 @[ broadcast.jl:564 @[ /mnt/storage_1/users/cullinanen/.julia/packages/GPUArrays/X4SqE/src/host/broadcast.jl:59 ] ] ] ] ] ] ] ] ]\n    0x7fd4154695a8: f32 = Register %14\n  0x7fd413de6b58: f32,ch = CopyFromReg 0x7fd4141401f8, Register:f32 %15, math.jl:877 @[ broadcast.jl:631 @[ broadcast.jl:604 @[ broadcast.jl:627 @[ broadcast.jl:603 @[ broadcast.jl:628 @[ broadcast.jl:627 @[ broadcast.jl:603 @[ broadcast.jl:564 @[ /mnt/storage_1/users/cullinanen/.julia/packages/GPUArrays/X4SqE/src/host/broadcast.jl:59 ] ] ] ] ] ] ] ] ]\n    0x7fd415468cb8: f32 = Register %15\nIn function: _Z15julia_broadcast15CuKernelContext13CuDeviceArrayI7Float32Li4E6GlobalE11BroadcastedIv5TupleI5OneToI5Int64E5OneToI5Int64E5OneToI5Int64E5OneToI5Int64EE2__5TupleI11BroadcastedI12CuArrayStyleILi4EEv2__5TupleI7Float3211BroadcastedI12CuArrayStyleILi4EEv4_pow5TupleI8ExtrudedI13CuDeviceArrayI7Float32Li4E6GlobalE5TupleI4Bool4Bool4Bool4BoolE5TupleI5Int645Int645Int645Int64EE7Float32EEEE11BroadcastedI12CuArrayStyleILi4EEv2__5TupleI11BroadcastedI17DefaultArrayStyleILi0EEv2__5TupleI7Float327Float32EE11BroadcastedI12CuArrayStyleILi4EEv4_pow5TupleI8ExtrudedI13CuDeviceArrayI7Float32Li4E6GlobalE5TupleI4Bool4Bool4Bool4BoolE5TupleI5Int645Int645Int645Int64EE7Float32EEEEEE",
     "output_type": "error",
     "traceback": [
      "LLVM error: Cannot select: 0x7fd4150d3a98: f32 = fpow 0x7fd41540dbc0, 0x7fd413de6b58, math.jl:877 @[ broadcast.jl:631 @[ broadcast.jl:604 @[ broadcast.jl:627 @[ broadcast.jl:603 @[ broadcast.jl:628 @[ broadcast.jl:627 @[ broadcast.jl:603 @[ broadcast.jl:564 @[ /mnt/storage_1/users/cullinanen/.julia/packages/GPUArrays/X4SqE/src/host/broadcast.jl:59 ] ] ] ] ] ] ] ] ]\n  0x7fd41540dbc0: f32,ch = CopyFromReg 0x7fd4141401f8, Register:f32 %14, math.jl:877 @[ broadcast.jl:631 @[ broadcast.jl:604 @[ broadcast.jl:627 @[ broadcast.jl:603 @[ broadcast.jl:628 @[ broadcast.jl:627 @[ broadcast.jl:603 @[ broadcast.jl:564 @[ /mnt/storage_1/users/cullinanen/.julia/packages/GPUArrays/X4SqE/src/host/broadcast.jl:59 ] ] ] ] ] ] ] ] ]\n    0x7fd4154695a8: f32 = Register %14\n  0x7fd413de6b58: f32,ch = CopyFromReg 0x7fd4141401f8, Register:f32 %15, math.jl:877 @[ broadcast.jl:631 @[ broadcast.jl:604 @[ broadcast.jl:627 @[ broadcast.jl:603 @[ broadcast.jl:628 @[ broadcast.jl:627 @[ broadcast.jl:603 @[ broadcast.jl:564 @[ /mnt/storage_1/users/cullinanen/.julia/packages/GPUArrays/X4SqE/src/host/broadcast.jl:59 ] ] ] ] ] ] ] ] ]\n    0x7fd415468cb8: f32 = Register %15\nIn function: _Z15julia_broadcast15CuKernelContext13CuDeviceArrayI7Float32Li4E6GlobalE11BroadcastedIv5TupleI5OneToI5Int64E5OneToI5Int64E5OneToI5Int64E5OneToI5Int64EE2__5TupleI11BroadcastedI12CuArrayStyleILi4EEv2__5TupleI7Float3211BroadcastedI12CuArrayStyleILi4EEv4_pow5TupleI8ExtrudedI13CuDeviceArrayI7Float32Li4E6GlobalE5TupleI4Bool4Bool4Bool4BoolE5TupleI5Int645Int645Int645Int64EE7Float32EEEE11BroadcastedI12CuArrayStyleILi4EEv2__5TupleI11BroadcastedI17DefaultArrayStyleILi0EEv2__5TupleI7Float327Float32EE11BroadcastedI12CuArrayStyleILi4EEv4_pow5TupleI8ExtrudedI13CuDeviceArrayI7Float32Li4E6GlobalE5TupleI4Bool4Bool4Bool4BoolE5TupleI5Int645Int645Int645Int64EE7Float32EEEEEE",
      "",
      "Stacktrace:",
      " [1] handle_error(::Cstring) at /mnt/storage_1/users/cullinanen/.julia/packages/LLVM/T8ZBA/src/core/context.jl:105",
      " [2] macro expansion at /mnt/storage_1/users/cullinanen/.julia/packages/LLVM/T8ZBA/src/util.jl:109 [inlined]",
      " [3] LLVMTargetMachineEmitToMemoryBuffer(::LLVM.TargetMachine, ::LLVM.Module, ::LLVM.API.LLVMCodeGenFileType, ::Base.RefValue{Cstring}, ::Base.RefValue{Ptr{LLVM.API.LLVMOpaqueMemoryBuffer}}) at /mnt/storage_1/users/cullinanen/.julia/packages/LLVM/T8ZBA/lib/libLLVM_h.jl:3512",
      " [4] emit(::LLVM.TargetMachine, ::LLVM.Module, ::LLVM.API.LLVMCodeGenFileType) at /mnt/storage_1/users/cullinanen/.julia/packages/LLVM/T8ZBA/src/targetmachine.jl:43",
      " [5] mcgen at /mnt/storage_1/users/cullinanen/.julia/packages/GPUCompiler/FoVMi/src/mcgen.jl:73 [inlined]",
      " [6] macro expansion at /mnt/storage_1/users/cullinanen/.julia/packages/TimerOutputs/dVnaw/src/TimerOutput.jl:206 [inlined]",
      " [7] macro expansion at /mnt/storage_1/users/cullinanen/.julia/packages/GPUCompiler/FoVMi/src/driver.jl:254 [inlined]",
      " [8] macro expansion at /mnt/storage_1/users/cullinanen/.julia/packages/TimerOutputs/dVnaw/src/TimerOutput.jl:206 [inlined]",
      " [9] codegen(::Symbol, ::GPUCompiler.CompilerJob{GPUCompiler.PTXCompilerTarget,CUDA.CUDACompilerParams}; libraries::Bool, deferred_codegen::Bool, optimize::Bool, strip::Bool, validate::Bool, only_entry::Bool) at /mnt/storage_1/users/cullinanen/.julia/packages/GPUCompiler/FoVMi/src/driver.jl:250",
      " [10] compile(::Symbol, ::GPUCompiler.CompilerJob{GPUCompiler.PTXCompilerTarget,CUDA.CUDACompilerParams}; libraries::Bool, deferred_codegen::Bool, optimize::Bool, strip::Bool, validate::Bool, only_entry::Bool) at /mnt/storage_1/users/cullinanen/.julia/packages/GPUCompiler/FoVMi/src/driver.jl:39",
      " [11] compile at /mnt/storage_1/users/cullinanen/.julia/packages/GPUCompiler/FoVMi/src/driver.jl:35 [inlined]",
      " [12] _cufunction(::GPUCompiler.FunctionSpec{GPUArrays.var\"#20#21\",Tuple{CUDA.CuKernelContext,CuDeviceArray{Float32,4,CUDA.AS.Global},Base.Broadcast.Broadcasted{Nothing,NTuple{4,Base.OneTo{Int64}},typeof(/),Tuple{Base.Broadcast.Broadcasted{CUDA.CuArrayStyle{4},Nothing,typeof(*),Tuple{Float32,Base.Broadcast.Broadcasted{CUDA.CuArrayStyle{4},Nothing,typeof(CUDA.pow),Tuple{Base.Broadcast.Extruded{CuDeviceArray{Float32,4,CUDA.AS.Global},NTuple{4,Bool},NTuple{4,Int64}},Float32}}}},Base.Broadcast.Broadcasted{CUDA.CuArrayStyle{4},Nothing,typeof(+),Tuple{Base.Broadcast.Broadcasted{Base.Broadcast.DefaultArrayStyle{0},Nothing,typeof(^),Tuple{Float32,Float32}},Base.Broadcast.Broadcasted{CUDA.CuArrayStyle{4},Nothing,typeof(CUDA.pow),Tuple{Base.Broadcast.Extruded{CuDeviceArray{Float32,4,CUDA.AS.Global},NTuple{4,Bool},NTuple{4,Int64}},Float32}}}}}}}}; kwargs::Base.Iterators.Pairs{Union{},Union{},Tuple{},NamedTuple{(),Tuple{}}}) at /mnt/storage_1/users/cullinanen/.julia/packages/CUDA/sjcZt/src/compiler/execution.jl:308",
      " [13] _cufunction at /mnt/storage_1/users/cullinanen/.julia/packages/CUDA/sjcZt/src/compiler/execution.jl:302 [inlined]",
      " [14] #100 at /mnt/storage_1/users/cullinanen/.julia/packages/GPUCompiler/FoVMi/src/cache.jl:21 [inlined]",
      " [15] get!(::GPUCompiler.var\"#100#101\"{Base.Iterators.Pairs{Union{},Union{},Tuple{},NamedTuple{(),Tuple{}}},typeof(CUDA._cufunction),GPUCompiler.FunctionSpec{GPUArrays.var\"#20#21\",Tuple{CUDA.CuKernelContext,CuDeviceArray{Float32,4,CUDA.AS.Global},Base.Broadcast.Broadcasted{Nothing,NTuple{4,Base.OneTo{Int64}},typeof(/),Tuple{Base.Broadcast.Broadcasted{CUDA.CuArrayStyle{4},Nothing,typeof(*),Tuple{Float32,Base.Broadcast.Broadcasted{CUDA.CuArrayStyle{4},Nothing,typeof(CUDA.pow),Tuple{Base.Broadcast.Extruded{CuDeviceArray{Float32,4,CUDA.AS.Global},NTuple{4,Bool},NTuple{4,Int64}},Float32}}}},Base.Broadcast.Broadcasted{CUDA.CuArrayStyle{4},Nothing,typeof(+),Tuple{Base.Broadcast.Broadcasted{Base.Broadcast.DefaultArrayStyle{0},Nothing,typeof(^),Tuple{Float32,Float32}},Base.Broadcast.Broadcasted{CUDA.CuArrayStyle{4},Nothing,typeof(CUDA.pow),Tuple{Base.Broadcast.Extruded{CuDeviceArray{Float32,4,CUDA.AS.Global},NTuple{4,Bool},NTuple{4,Int64}},Float32}}}}}}}}}, ::Dict{UInt64,Any}, ::UInt64) at ./dict.jl:452",
      " [16] macro expansion at ./lock.jl:183 [inlined]",
      " [17] check_cache(::typeof(CUDA._cufunction), ::GPUCompiler.FunctionSpec{GPUArrays.var\"#20#21\",Tuple{CUDA.CuKernelContext,CuDeviceArray{Float32,4,CUDA.AS.Global},Base.Broadcast.Broadcasted{Nothing,NTuple{4,Base.OneTo{Int64}},typeof(/),Tuple{Base.Broadcast.Broadcasted{CUDA.CuArrayStyle{4},Nothing,typeof(*),Tuple{Float32,Base.Broadcast.Broadcasted{CUDA.CuArrayStyle{4},Nothing,typeof(CUDA.pow),Tuple{Base.Broadcast.Extruded{CuDeviceArray{Float32,4,CUDA.AS.Global},NTuple{4,Bool},NTuple{4,Int64}},Float32}}}},Base.Broadcast.Broadcasted{CUDA.CuArrayStyle{4},Nothing,typeof(+),Tuple{Base.Broadcast.Broadcasted{Base.Broadcast.DefaultArrayStyle{0},Nothing,typeof(^),Tuple{Float32,Float32}},Base.Broadcast.Broadcasted{CUDA.CuArrayStyle{4},Nothing,typeof(CUDA.pow),Tuple{Base.Broadcast.Extruded{CuDeviceArray{Float32,4,CUDA.AS.Global},NTuple{4,Bool},NTuple{4,Int64}},Float32}}}}}}}}, ::UInt64; kwargs::Base.Iterators.Pairs{Union{},Union{},Tuple{},NamedTuple{(),Tuple{}}}) at /mnt/storage_1/users/cullinanen/.julia/packages/GPUCompiler/FoVMi/src/cache.jl:19",
      " [18] + at ./int.jl:53 [inlined]",
      " [19] hash_64_64 at ./hashing.jl:35 [inlined]",
      " [20] hash_uint64 at ./hashing.jl:62 [inlined]",
      " [21] hx at ./float.jl:568 [inlined]",
      " [22] hash at ./float.jl:571 [inlined]",
      " [23] cached_compilation(::typeof(CUDA._cufunction), ::GPUCompiler.FunctionSpec{GPUArrays.var\"#20#21\",Tuple{CUDA.CuKernelContext,CuDeviceArray{Float32,4,CUDA.AS.Global},Base.Broadcast.Broadcasted{Nothing,NTuple{4,Base.OneTo{Int64}},typeof(/),Tuple{Base.Broadcast.Broadcasted{CUDA.CuArrayStyle{4},Nothing,typeof(*),Tuple{Float32,Base.Broadcast.Broadcasted{CUDA.CuArrayStyle{4},Nothing,typeof(CUDA.pow),Tuple{Base.Broadcast.Extruded{CuDeviceArray{Float32,4,CUDA.AS.Global},NTuple{4,Bool},NTuple{4,Int64}},Float32}}}},Base.Broadcast.Broadcasted{CUDA.CuArrayStyle{4},Nothing,typeof(+),Tuple{Base.Broadcast.Broadcasted{Base.Broadcast.DefaultArrayStyle{0},Nothing,typeof(^),Tuple{Float32,Float32}},Base.Broadcast.Broadcasted{CUDA.CuArrayStyle{4},Nothing,typeof(CUDA.pow),Tuple{Base.Broadcast.Extruded{CuDeviceArray{Float32,4,CUDA.AS.Global},NTuple{4,Bool},NTuple{4,Int64}},Float32}}}}}}}}, ::UInt64; kwargs::Base.Iterators.Pairs{Union{},Union{},Tuple{},NamedTuple{(),Tuple{}}}) at /mnt/storage_1/users/cullinanen/.julia/packages/GPUCompiler/FoVMi/src/cache.jl:0",
      " [24] cached_compilation(::Function, ::GPUCompiler.FunctionSpec{GPUArrays.var\"#20#21\",Tuple{CUDA.CuKernelContext,CuDeviceArray{Float32,4,CUDA.AS.Global},Base.Broadcast.Broadcasted{Nothing,NTuple{4,Base.OneTo{Int64}},typeof(/),Tuple{Base.Broadcast.Broadcasted{CUDA.CuArrayStyle{4},Nothing,typeof(*),Tuple{Float32,Base.Broadcast.Broadcasted{CUDA.CuArrayStyle{4},Nothing,typeof(CUDA.pow),Tuple{Base.Broadcast.Extruded{CuDeviceArray{Float32,4,CUDA.AS.Global},NTuple{4,Bool},NTuple{4,Int64}},Float32}}}},Base.Broadcast.Broadcasted{CUDA.CuArrayStyle{4},Nothing,typeof(+),Tuple{Base.Broadcast.Broadcasted{Base.Broadcast.DefaultArrayStyle{0},Nothing,typeof(^),Tuple{Float32,Float32}},Base.Broadcast.Broadcasted{CUDA.CuArrayStyle{4},Nothing,typeof(CUDA.pow),Tuple{Base.Broadcast.Extruded{CuDeviceArray{Float32,4,CUDA.AS.Global},NTuple{4,Bool},NTuple{4,Int64}},Float32}}}}}}}}, ::UInt64) at /mnt/storage_1/users/cullinanen/.julia/packages/GPUCompiler/FoVMi/src/cache.jl:37",
      " [25] cufunction(::Function, ::Type; name::String, kwargs::Base.Iterators.Pairs{Union{},Union{},Tuple{},NamedTuple{(),Tuple{}}}) at /mnt/storage_1/users/cullinanen/.julia/packages/CUDA/sjcZt/src/compiler/execution.jl:296",
      " [26] macro expansion at /mnt/storage_1/users/cullinanen/.julia/packages/CUDA/sjcZt/src/compiler/execution.jl:108 [inlined]",
      " [27] gpu_call(::CUDA.CuArrayBackend, ::Function, ::Tuple{CuArray{Float32,4,Nothing},Base.Broadcast.Broadcasted{Nothing,NTuple{4,Base.OneTo{Int64}},typeof(/),Tuple{Base.Broadcast.Broadcasted{CUDA.CuArrayStyle{4},Nothing,typeof(*),Tuple{Float32,Base.Broadcast.Broadcasted{CUDA.CuArrayStyle{4},Nothing,typeof(CUDA.pow),Tuple{Base.Broadcast.Extruded{CuArray{Float32,4,Nothing},NTuple{4,Bool},NTuple{4,Int64}},Float32}}}},Base.Broadcast.Broadcasted{CUDA.CuArrayStyle{4},Nothing,typeof(+),Tuple{Base.Broadcast.Broadcasted{Base.Broadcast.DefaultArrayStyle{0},Nothing,typeof(^),Tuple{Float32,Float32}},Base.Broadcast.Broadcasted{CUDA.CuArrayStyle{4},Nothing,typeof(CUDA.pow),Tuple{Base.Broadcast.Extruded{CuArray{Float32,4,Nothing},NTuple{4,Bool},NTuple{4,Int64}},Float32}}}}}}}, ::Int64; name::String) at /mnt/storage_1/users/cullinanen/.julia/packages/CUDA/sjcZt/src/gpuarrays.jl:32",
      " [28] #gpu_call#1 at /mnt/storage_1/users/cullinanen/.julia/packages/GPUArrays/X4SqE/src/device/execution.jl:61 [inlined]",
      " [29] copyto! at /mnt/storage_1/users/cullinanen/.julia/packages/GPUArrays/X4SqE/src/host/broadcast.jl:57 [inlined]",
      " [30] copyto! at ./broadcast.jl:864 [inlined]",
      " [31] materialize! at ./broadcast.jl:823 [inlined]",
      " [32] fun_f!(::CuArray{Float32,4,Nothing}, ::CuArray{Float32,4,Nothing}, ::NamedTuple{(:K, :δ_v, :δ_c, :δ_m, :δ_z, :δ_s, :σ_1, :C_1, :C_2, :σ_2, :γ, :α, :ϕ, :Γ, :v_21, :μ, :ν, :n, :att, :η_p, :η_m, :λ, :a_23_ex, :a_23_in, :v12_6, :v12_4, :ψ, :C_AB_l, :H_σ_x, :H_σ_y, :H_fact, :H_l, :T_fact, :T_p_m, :T_v2_fact, :H_size, :W_size, :lgn_equ_u, :lgn_equ_A, :lgn_equ_B, :filling, :W_l, :k_gauss_1, :k_gauss_2, :k_C_A, :k_C_B, :k_x_lgn, :k_W_p, :k_W_m, :k_H, :k_T_p, :k_T_m, :k_T_p_v2, :k_T_m_v2, :dim_i, :dim_j, :x_V2, :I, :r),Tuple{Int64,Float32,Float32,Float32,Float32,Float32,Float32,Float32,Float32,Float32,Float32,Float32,Float32,Float32,Float32,Float32,Float32,Float32,Float32,Float32,Float32,Float32,Float32,Float32,Float32,Float32,Float32,Int64,Float32,Float32,Float32,Int64,Array{Float32,1},Float32,Float32,Int64,Int64,Float32,Float32,Float32,String,Int64,CuArray{Float32,4,Nothing},CuArray{Float32,4,Nothing},CuArray{Float32,4,Nothing},CuArray{Float32,4,Nothing},CuArray{Float32,4,Nothing},CuArray{Float32,4,Nothing},CuArray{Float32,4,Nothing},CuArray{Float32,4,Nothing},CuArray{Float32,4,Nothing},CuArray{Float32,4,Nothing},CuArray{Float32,4,Nothing},CuArray{Float32,4,Nothing},Int64,Int64,CuArray{Float32,5,Nothing},CuArray{Float32,4,Nothing},CuArray{Float32,4,Nothing}}}) at /mnt/storage_1/users/cullinanen/.julia/dev/MEngProject.jl/src/LaminartGPU.jl:286",
      " [33] fun_dm!(::CuArray{Float32,4,Nothing}, ::CuArray{Float32,4,Nothing}, ::CuArray{Float32,4,Nothing}, ::NamedTuple{(:K, :δ_v, :δ_c, :δ_m, :δ_z, :δ_s, :σ_1, :C_1, :C_2, :σ_2, :γ, :α, :ϕ, :Γ, :v_21, :μ, :ν, :n, :att, :η_p, :η_m, :λ, :a_23_ex, :a_23_in, :v12_6, :v12_4, :ψ, :C_AB_l, :H_σ_x, :H_σ_y, :H_fact, :H_l, :T_fact, :T_p_m, :T_v2_fact, :H_size, :W_size, :lgn_equ_u, :lgn_equ_A, :lgn_equ_B, :filling, :W_l, :k_gauss_1, :k_gauss_2, :k_C_A, :k_C_B, :k_x_lgn, :k_W_p, :k_W_m, :k_H, :k_T_p, :k_T_m, :k_T_p_v2, :k_T_m_v2, :dim_i, :dim_j, :x_V2, :I, :r),Tuple{Int64,Float32,Float32,Float32,Float32,Float32,Float32,Float32,Float32,Float32,Float32,Float32,Float32,Float32,Float32,Float32,Float32,Float32,Float32,Float32,Float32,Float32,Float32,Float32,Float32,Float32,Float32,Int64,Float32,Float32,Float32,Int64,Array{Float32,1},Float32,Float32,Int64,Int64,Float32,Float32,Float32,String,Int64,CuArray{Float32,4,Nothing},CuArray{Float32,4,Nothing},CuArray{Float32,4,Nothing},CuArray{Float32,4,Nothing},CuArray{Float32,4,Nothing},CuArray{Float32,4,Nothing},CuArray{Float32,4,Nothing},CuArray{Float32,4,Nothing},CuArray{Float32,4,Nothing},CuArray{Float32,4,Nothing},CuArray{Float32,4,Nothing},CuArray{Float32,4,Nothing},Int64,Int64,CuArray{Float32,5,Nothing},CuArray{Float32,4,Nothing},CuArray{Float32,4,Nothing}}}) at /mnt/storage_1/users/cullinanen/.julia/dev/MEngProject.jl/src/LaminartGPU.jl:415",
      " [34] top-level scope at In[28]:1"
     ]
    }
   ],
   "source": [
    "LaminartGPU.fun_dm!(dm, m, x, p)"
   ]
  },
  {
   "cell_type": "code",
   "execution_count": 27,
   "metadata": {},
   "outputs": [],
   "source": [
    "LaminartGPU.fun_dz!(dz, z, y, H_z, s, p)"
   ]
  },
  {
   "cell_type": "code",
   "execution_count": 26,
   "metadata": {},
   "outputs": [],
   "source": [
    "LaminartGPU.fun_ds!(ds, s, H_z, p)"
   ]
  },
  {
   "cell_type": "code",
   "execution_count": null,
   "metadata": {},
   "outputs": [],
   "source": []
  },
  {
   "cell_type": "code",
   "execution_count": null,
   "metadata": {},
   "outputs": [],
   "source": []
  },
  {
   "cell_type": "code",
   "execution_count": null,
   "metadata": {},
   "outputs": [],
   "source": []
  },
  {
   "cell_type": "code",
   "execution_count": null,
   "metadata": {},
   "outputs": [],
   "source": []
  },
  {
   "cell_type": "code",
   "execution_count": null,
   "metadata": {},
   "outputs": [],
   "source": []
  },
  {
   "cell_type": "code",
   "execution_count": null,
   "metadata": {},
   "outputs": [],
   "source": []
  },
  {
   "cell_type": "code",
   "execution_count": 83,
   "metadata": {},
   "outputs": [],
   "source": [
    "a41 = reshape(ones(400),10,10,4,1);"
   ]
  },
  {
   "cell_type": "code",
   "execution_count": 91,
   "metadata": {},
   "outputs": [],
   "source": [
    "a41[:,:,1,:] .= 1/9\n",
    "a41[:,:,2,:] .= 2\n",
    "a41[:,:,3,:] .= 3\n",
    "a41[:,:,4,:] .= 5;"
   ]
  },
  {
   "cell_type": "code",
   "execution_count": 92,
   "metadata": {},
   "outputs": [],
   "source": [
    "k41 = reshape(ones(36),3,3,4,1)\n",
    "k41[:,:,1,:] .= 0\n",
    "k41[:,:,3,:] .= 11\n",
    "k41[:,:,4,:] .= 1000;"
   ]
  },
  {
   "cell_type": "code",
   "execution_count": 93,
   "metadata": {},
   "outputs": [
    {
     "data": {
      "text/plain": [
       "10×10×1×1 Array{Float64,4}:\n",
       "[:, :, 1, 1] =\n",
       " 20140.0  30210.0  30210.0  30210.0  …  30210.0  30210.0  30210.0  20140.0\n",
       " 30210.0  45315.0  45315.0  45315.0     45315.0  45315.0  45315.0  30210.0\n",
       " 30210.0  45315.0  45315.0  45315.0     45315.0  45315.0  45315.0  30210.0\n",
       " 30210.0  45315.0  45315.0  45315.0     45315.0  45315.0  45315.0  30210.0\n",
       " 30210.0  45315.0  45315.0  45315.0     45315.0  45315.0  45315.0  30210.0\n",
       " 30210.0  45315.0  45315.0  45315.0  …  45315.0  45315.0  45315.0  30210.0\n",
       " 30210.0  45315.0  45315.0  45315.0     45315.0  45315.0  45315.0  30210.0\n",
       " 30210.0  45315.0  45315.0  45315.0     45315.0  45315.0  45315.0  30210.0\n",
       " 30210.0  45315.0  45315.0  45315.0     45315.0  45315.0  45315.0  30210.0\n",
       " 20140.0  30210.0  30210.0  30210.0     30210.0  30210.0  30210.0  20140.0"
      ]
     },
     "execution_count": 93,
     "metadata": {},
     "output_type": "execute_result"
    }
   ],
   "source": [
    "NNlib.conv(a41,k41,pad=1,flipped=true)"
   ]
  },
  {
   "cell_type": "code",
   "execution_count": 94,
   "metadata": {},
   "outputs": [
    {
     "data": {
      "text/plain": [
       "10×10×4×4 Array{Float64,4}:\n",
       "[:, :, 1, 1] =\n",
       " 0.0  0.0  0.0  0.0  0.0  0.0  0.0  0.0  0.0  0.0\n",
       " 0.0  0.0  0.0  0.0  0.0  0.0  0.0  0.0  0.0  0.0\n",
       " 0.0  0.0  0.0  0.0  0.0  0.0  0.0  0.0  0.0  0.0\n",
       " 0.0  0.0  0.0  0.0  0.0  0.0  0.0  0.0  0.0  0.0\n",
       " 0.0  0.0  0.0  0.0  0.0  0.0  0.0  0.0  0.0  0.0\n",
       " 0.0  0.0  0.0  0.0  0.0  0.0  0.0  0.0  0.0  0.0\n",
       " 0.0  0.0  0.0  0.0  0.0  0.0  0.0  0.0  0.0  0.0\n",
       " 0.0  0.0  0.0  0.0  0.0  0.0  0.0  0.0  0.0  0.0\n",
       " 0.0  0.0  0.0  0.0  0.0  0.0  0.0  0.0  0.0  0.0\n",
       " 0.0  0.0  0.0  0.0  0.0  0.0  0.0  0.0  0.0  0.0\n",
       "\n",
       "[:, :, 2, 1] =\n",
       " 0.444444  0.666667  0.666667  0.666667  …  0.666667  0.666667  0.444444\n",
       " 0.666667  1.0       1.0       1.0          1.0       1.0       0.666667\n",
       " 0.666667  1.0       1.0       1.0          1.0       1.0       0.666667\n",
       " 0.666667  1.0       1.0       1.0          1.0       1.0       0.666667\n",
       " 0.666667  1.0       1.0       1.0          1.0       1.0       0.666667\n",
       " 0.666667  1.0       1.0       1.0       …  1.0       1.0       0.666667\n",
       " 0.666667  1.0       1.0       1.0          1.0       1.0       0.666667\n",
       " 0.666667  1.0       1.0       1.0          1.0       1.0       0.666667\n",
       " 0.666667  1.0       1.0       1.0          1.0       1.0       0.666667\n",
       " 0.444444  0.666667  0.666667  0.666667     0.666667  0.666667  0.444444\n",
       "\n",
       "[:, :, 3, 1] =\n",
       " 4.88889   7.33333   7.33333   7.33333  …   7.33333   7.33333  4.88889\n",
       " 7.33333  11.0      11.0      11.0         11.0      11.0      7.33333\n",
       " 7.33333  11.0      11.0      11.0         11.0      11.0      7.33333\n",
       " 7.33333  11.0      11.0      11.0         11.0      11.0      7.33333\n",
       " 7.33333  11.0      11.0      11.0         11.0      11.0      7.33333\n",
       " 7.33333  11.0      11.0      11.0      …  11.0      11.0      7.33333\n",
       " 7.33333  11.0      11.0      11.0         11.0      11.0      7.33333\n",
       " 7.33333  11.0      11.0      11.0         11.0      11.0      7.33333\n",
       " 7.33333  11.0      11.0      11.0         11.0      11.0      7.33333\n",
       " 4.88889   7.33333   7.33333   7.33333      7.33333   7.33333  4.88889\n",
       "\n",
       "[:, :, 4, 1] =\n",
       " 444.444   666.667   666.667   666.667  …   666.667   666.667  444.444\n",
       " 666.667  1000.0    1000.0    1000.0       1000.0    1000.0    666.667\n",
       " 666.667  1000.0    1000.0    1000.0       1000.0    1000.0    666.667\n",
       " 666.667  1000.0    1000.0    1000.0       1000.0    1000.0    666.667\n",
       " 666.667  1000.0    1000.0    1000.0       1000.0    1000.0    666.667\n",
       " 666.667  1000.0    1000.0    1000.0    …  1000.0    1000.0    666.667\n",
       " 666.667  1000.0    1000.0    1000.0       1000.0    1000.0    666.667\n",
       " 666.667  1000.0    1000.0    1000.0       1000.0    1000.0    666.667\n",
       " 666.667  1000.0    1000.0    1000.0       1000.0    1000.0    666.667\n",
       " 444.444   666.667   666.667   666.667      666.667   666.667  444.444\n",
       "\n",
       "[:, :, 1, 2] =\n",
       " 0.0  0.0  0.0  0.0  0.0  0.0  0.0  0.0  0.0  0.0\n",
       " 0.0  0.0  0.0  0.0  0.0  0.0  0.0  0.0  0.0  0.0\n",
       " 0.0  0.0  0.0  0.0  0.0  0.0  0.0  0.0  0.0  0.0\n",
       " 0.0  0.0  0.0  0.0  0.0  0.0  0.0  0.0  0.0  0.0\n",
       " 0.0  0.0  0.0  0.0  0.0  0.0  0.0  0.0  0.0  0.0\n",
       " 0.0  0.0  0.0  0.0  0.0  0.0  0.0  0.0  0.0  0.0\n",
       " 0.0  0.0  0.0  0.0  0.0  0.0  0.0  0.0  0.0  0.0\n",
       " 0.0  0.0  0.0  0.0  0.0  0.0  0.0  0.0  0.0  0.0\n",
       " 0.0  0.0  0.0  0.0  0.0  0.0  0.0  0.0  0.0  0.0\n",
       " 0.0  0.0  0.0  0.0  0.0  0.0  0.0  0.0  0.0  0.0\n",
       "\n",
       "[:, :, 2, 2] =\n",
       "  8.0  12.0  12.0  12.0  12.0  12.0  12.0  12.0  12.0   8.0\n",
       " 12.0  18.0  18.0  18.0  18.0  18.0  18.0  18.0  18.0  12.0\n",
       " 12.0  18.0  18.0  18.0  18.0  18.0  18.0  18.0  18.0  12.0\n",
       " 12.0  18.0  18.0  18.0  18.0  18.0  18.0  18.0  18.0  12.0\n",
       " 12.0  18.0  18.0  18.0  18.0  18.0  18.0  18.0  18.0  12.0\n",
       " 12.0  18.0  18.0  18.0  18.0  18.0  18.0  18.0  18.0  12.0\n",
       " 12.0  18.0  18.0  18.0  18.0  18.0  18.0  18.0  18.0  12.0\n",
       " 12.0  18.0  18.0  18.0  18.0  18.0  18.0  18.0  18.0  12.0\n",
       " 12.0  18.0  18.0  18.0  18.0  18.0  18.0  18.0  18.0  12.0\n",
       "  8.0  12.0  12.0  12.0  12.0  12.0  12.0  12.0  12.0   8.0\n",
       "\n",
       "[:, :, 3, 2] =\n",
       "  88.0  132.0  132.0  132.0  132.0  132.0  132.0  132.0  132.0   88.0\n",
       " 132.0  198.0  198.0  198.0  198.0  198.0  198.0  198.0  198.0  132.0\n",
       " 132.0  198.0  198.0  198.0  198.0  198.0  198.0  198.0  198.0  132.0\n",
       " 132.0  198.0  198.0  198.0  198.0  198.0  198.0  198.0  198.0  132.0\n",
       " 132.0  198.0  198.0  198.0  198.0  198.0  198.0  198.0  198.0  132.0\n",
       " 132.0  198.0  198.0  198.0  198.0  198.0  198.0  198.0  198.0  132.0\n",
       " 132.0  198.0  198.0  198.0  198.0  198.0  198.0  198.0  198.0  132.0\n",
       " 132.0  198.0  198.0  198.0  198.0  198.0  198.0  198.0  198.0  132.0\n",
       " 132.0  198.0  198.0  198.0  198.0  198.0  198.0  198.0  198.0  132.0\n",
       "  88.0  132.0  132.0  132.0  132.0  132.0  132.0  132.0  132.0   88.0\n",
       "\n",
       "[:, :, 4, 2] =\n",
       "  8000.0  12000.0  12000.0  12000.0  …  12000.0  12000.0  12000.0   8000.0\n",
       " 12000.0  18000.0  18000.0  18000.0     18000.0  18000.0  18000.0  12000.0\n",
       " 12000.0  18000.0  18000.0  18000.0     18000.0  18000.0  18000.0  12000.0\n",
       " 12000.0  18000.0  18000.0  18000.0     18000.0  18000.0  18000.0  12000.0\n",
       " 12000.0  18000.0  18000.0  18000.0     18000.0  18000.0  18000.0  12000.0\n",
       " 12000.0  18000.0  18000.0  18000.0  …  18000.0  18000.0  18000.0  12000.0\n",
       " 12000.0  18000.0  18000.0  18000.0     18000.0  18000.0  18000.0  12000.0\n",
       " 12000.0  18000.0  18000.0  18000.0     18000.0  18000.0  18000.0  12000.0\n",
       " 12000.0  18000.0  18000.0  18000.0     18000.0  18000.0  18000.0  12000.0\n",
       "  8000.0  12000.0  12000.0  12000.0     12000.0  12000.0  12000.0   8000.0\n",
       "\n",
       "[:, :, 1, 3] =\n",
       " 0.0  0.0  0.0  0.0  0.0  0.0  0.0  0.0  0.0  0.0\n",
       " 0.0  0.0  0.0  0.0  0.0  0.0  0.0  0.0  0.0  0.0\n",
       " 0.0  0.0  0.0  0.0  0.0  0.0  0.0  0.0  0.0  0.0\n",
       " 0.0  0.0  0.0  0.0  0.0  0.0  0.0  0.0  0.0  0.0\n",
       " 0.0  0.0  0.0  0.0  0.0  0.0  0.0  0.0  0.0  0.0\n",
       " 0.0  0.0  0.0  0.0  0.0  0.0  0.0  0.0  0.0  0.0\n",
       " 0.0  0.0  0.0  0.0  0.0  0.0  0.0  0.0  0.0  0.0\n",
       " 0.0  0.0  0.0  0.0  0.0  0.0  0.0  0.0  0.0  0.0\n",
       " 0.0  0.0  0.0  0.0  0.0  0.0  0.0  0.0  0.0  0.0\n",
       " 0.0  0.0  0.0  0.0  0.0  0.0  0.0  0.0  0.0  0.0\n",
       "\n",
       "[:, :, 2, 3] =\n",
       " 12.0  18.0  18.0  18.0  18.0  18.0  18.0  18.0  18.0  12.0\n",
       " 18.0  27.0  27.0  27.0  27.0  27.0  27.0  27.0  27.0  18.0\n",
       " 18.0  27.0  27.0  27.0  27.0  27.0  27.0  27.0  27.0  18.0\n",
       " 18.0  27.0  27.0  27.0  27.0  27.0  27.0  27.0  27.0  18.0\n",
       " 18.0  27.0  27.0  27.0  27.0  27.0  27.0  27.0  27.0  18.0\n",
       " 18.0  27.0  27.0  27.0  27.0  27.0  27.0  27.0  27.0  18.0\n",
       " 18.0  27.0  27.0  27.0  27.0  27.0  27.0  27.0  27.0  18.0\n",
       " 18.0  27.0  27.0  27.0  27.0  27.0  27.0  27.0  27.0  18.0\n",
       " 18.0  27.0  27.0  27.0  27.0  27.0  27.0  27.0  27.0  18.0\n",
       " 12.0  18.0  18.0  18.0  18.0  18.0  18.0  18.0  18.0  12.0\n",
       "\n",
       "[:, :, 3, 3] =\n",
       " 132.0  198.0  198.0  198.0  198.0  198.0  198.0  198.0  198.0  132.0\n",
       " 198.0  297.0  297.0  297.0  297.0  297.0  297.0  297.0  297.0  198.0\n",
       " 198.0  297.0  297.0  297.0  297.0  297.0  297.0  297.0  297.0  198.0\n",
       " 198.0  297.0  297.0  297.0  297.0  297.0  297.0  297.0  297.0  198.0\n",
       " 198.0  297.0  297.0  297.0  297.0  297.0  297.0  297.0  297.0  198.0\n",
       " 198.0  297.0  297.0  297.0  297.0  297.0  297.0  297.0  297.0  198.0\n",
       " 198.0  297.0  297.0  297.0  297.0  297.0  297.0  297.0  297.0  198.0\n",
       " 198.0  297.0  297.0  297.0  297.0  297.0  297.0  297.0  297.0  198.0\n",
       " 198.0  297.0  297.0  297.0  297.0  297.0  297.0  297.0  297.0  198.0\n",
       " 132.0  198.0  198.0  198.0  198.0  198.0  198.0  198.0  198.0  132.0\n",
       "\n",
       "[:, :, 4, 3] =\n",
       " 12000.0  18000.0  18000.0  18000.0  …  18000.0  18000.0  18000.0  12000.0\n",
       " 18000.0  27000.0  27000.0  27000.0     27000.0  27000.0  27000.0  18000.0\n",
       " 18000.0  27000.0  27000.0  27000.0     27000.0  27000.0  27000.0  18000.0\n",
       " 18000.0  27000.0  27000.0  27000.0     27000.0  27000.0  27000.0  18000.0\n",
       " 18000.0  27000.0  27000.0  27000.0     27000.0  27000.0  27000.0  18000.0\n",
       " 18000.0  27000.0  27000.0  27000.0  …  27000.0  27000.0  27000.0  18000.0\n",
       " 18000.0  27000.0  27000.0  27000.0     27000.0  27000.0  27000.0  18000.0\n",
       " 18000.0  27000.0  27000.0  27000.0     27000.0  27000.0  27000.0  18000.0\n",
       " 18000.0  27000.0  27000.0  27000.0     27000.0  27000.0  27000.0  18000.0\n",
       " 12000.0  18000.0  18000.0  18000.0     18000.0  18000.0  18000.0  12000.0\n",
       "\n",
       "[:, :, 1, 4] =\n",
       " 0.0  0.0  0.0  0.0  0.0  0.0  0.0  0.0  0.0  0.0\n",
       " 0.0  0.0  0.0  0.0  0.0  0.0  0.0  0.0  0.0  0.0\n",
       " 0.0  0.0  0.0  0.0  0.0  0.0  0.0  0.0  0.0  0.0\n",
       " 0.0  0.0  0.0  0.0  0.0  0.0  0.0  0.0  0.0  0.0\n",
       " 0.0  0.0  0.0  0.0  0.0  0.0  0.0  0.0  0.0  0.0\n",
       " 0.0  0.0  0.0  0.0  0.0  0.0  0.0  0.0  0.0  0.0\n",
       " 0.0  0.0  0.0  0.0  0.0  0.0  0.0  0.0  0.0  0.0\n",
       " 0.0  0.0  0.0  0.0  0.0  0.0  0.0  0.0  0.0  0.0\n",
       " 0.0  0.0  0.0  0.0  0.0  0.0  0.0  0.0  0.0  0.0\n",
       " 0.0  0.0  0.0  0.0  0.0  0.0  0.0  0.0  0.0  0.0\n",
       "\n",
       "[:, :, 2, 4] =\n",
       " 20.0  30.0  30.0  30.0  30.0  30.0  30.0  30.0  30.0  20.0\n",
       " 30.0  45.0  45.0  45.0  45.0  45.0  45.0  45.0  45.0  30.0\n",
       " 30.0  45.0  45.0  45.0  45.0  45.0  45.0  45.0  45.0  30.0\n",
       " 30.0  45.0  45.0  45.0  45.0  45.0  45.0  45.0  45.0  30.0\n",
       " 30.0  45.0  45.0  45.0  45.0  45.0  45.0  45.0  45.0  30.0\n",
       " 30.0  45.0  45.0  45.0  45.0  45.0  45.0  45.0  45.0  30.0\n",
       " 30.0  45.0  45.0  45.0  45.0  45.0  45.0  45.0  45.0  30.0\n",
       " 30.0  45.0  45.0  45.0  45.0  45.0  45.0  45.0  45.0  30.0\n",
       " 30.0  45.0  45.0  45.0  45.0  45.0  45.0  45.0  45.0  30.0\n",
       " 20.0  30.0  30.0  30.0  30.0  30.0  30.0  30.0  30.0  20.0\n",
       "\n",
       "[:, :, 3, 4] =\n",
       " 220.0  330.0  330.0  330.0  330.0  330.0  330.0  330.0  330.0  220.0\n",
       " 330.0  495.0  495.0  495.0  495.0  495.0  495.0  495.0  495.0  330.0\n",
       " 330.0  495.0  495.0  495.0  495.0  495.0  495.0  495.0  495.0  330.0\n",
       " 330.0  495.0  495.0  495.0  495.0  495.0  495.0  495.0  495.0  330.0\n",
       " 330.0  495.0  495.0  495.0  495.0  495.0  495.0  495.0  495.0  330.0\n",
       " 330.0  495.0  495.0  495.0  495.0  495.0  495.0  495.0  495.0  330.0\n",
       " 330.0  495.0  495.0  495.0  495.0  495.0  495.0  495.0  495.0  330.0\n",
       " 330.0  495.0  495.0  495.0  495.0  495.0  495.0  495.0  495.0  330.0\n",
       " 330.0  495.0  495.0  495.0  495.0  495.0  495.0  495.0  495.0  330.0\n",
       " 220.0  330.0  330.0  330.0  330.0  330.0  330.0  330.0  330.0  220.0\n",
       "\n",
       "[:, :, 4, 4] =\n",
       " 20000.0  30000.0  30000.0  30000.0  …  30000.0  30000.0  30000.0  20000.0\n",
       " 30000.0  45000.0  45000.0  45000.0     45000.0  45000.0  45000.0  30000.0\n",
       " 30000.0  45000.0  45000.0  45000.0     45000.0  45000.0  45000.0  30000.0\n",
       " 30000.0  45000.0  45000.0  45000.0     45000.0  45000.0  45000.0  30000.0\n",
       " 30000.0  45000.0  45000.0  45000.0     45000.0  45000.0  45000.0  30000.0\n",
       " 30000.0  45000.0  45000.0  45000.0  …  45000.0  45000.0  45000.0  30000.0\n",
       " 30000.0  45000.0  45000.0  45000.0     45000.0  45000.0  45000.0  30000.0\n",
       " 30000.0  45000.0  45000.0  45000.0     45000.0  45000.0  45000.0  30000.0\n",
       " 30000.0  45000.0  45000.0  45000.0     45000.0  45000.0  45000.0  30000.0\n",
       " 20000.0  30000.0  30000.0  30000.0     30000.0  30000.0  30000.0  20000.0"
      ]
     },
     "execution_count": 94,
     "metadata": {},
     "output_type": "execute_result"
    }
   ],
   "source": [
    "a14 = reshape(a41,10,10,1,4)\n",
    "k14 = reshape(k41,3,3,1,4)\n",
    "NNlib.conv(a14,k14,pad=1,flipped=true)"
   ]
  },
  {
   "cell_type": "code",
   "execution_count": 90,
   "metadata": {},
   "outputs": [
    {
     "ename": "DimensionMismatch",
     "evalue": "DimensionMismatch(\"Input channels must match! (1 vs. 4)\")",
     "output_type": "error",
     "traceback": [
      "DimensionMismatch(\"Input channels must match! (1 vs. 4)\")",
      "",
      "Stacktrace:",
      " [1] DenseConvDims(::NTuple{4,Int64}, ::NTuple{4,Int64}; stride::Tuple{Int64,Int64}, padding::Tuple{Int64,Int64}, dilation::Tuple{Int64,Int64}, flipkernel::Bool) at /mnt/storage_1/users/cullinanen/.julia/packages/NNlib/sSn9M/src/dim_helpers/DenseConvDims.jl:28",
      " [2] #DenseConvDims#7 at /mnt/storage_1/users/cullinanen/.julia/packages/NNlib/sSn9M/src/dim_helpers/DenseConvDims.jl:52 [inlined]",
      " [3] conv(::Array{Float64,4}, ::Array{Float64,4}; stride::Int64, pad::Int64, dilation::Int64, flipped::Bool) at /mnt/storage_1/users/cullinanen/.julia/packages/NNlib/sSn9M/src/conv.jl:58",
      " [4] top-level scope at In[90]:1"
     ]
    }
   ],
   "source": [
    "NNlib.conv(a14,k41,pad=1,flipped=true)"
   ]
  },
  {
   "cell_type": "code",
   "execution_count": 96,
   "metadata": {},
   "outputs": [],
   "source": [
    "k44 = reshape(zeros(144),3,3,4,4)\n",
    "k44[:,:,1,1] .= 0.1\n",
    "k44[:,:,2,2] .= 100\n",
    "k44[:,:,3,3] .= 3\n",
    "k44[:,:,4,4] .= π;"
   ]
  },
  {
   "cell_type": "code",
   "execution_count": 97,
   "metadata": {},
   "outputs": [
    {
     "data": {
      "text/plain": [
       "10×10×4×1 Array{Float64,4}:\n",
       "[:, :, 1, 1] =\n",
       " 0.0444444  0.0666667  0.0666667  …  0.0666667  0.0666667  0.0444444\n",
       " 0.0666667  0.1        0.1           0.1        0.1        0.0666667\n",
       " 0.0666667  0.1        0.1           0.1        0.1        0.0666667\n",
       " 0.0666667  0.1        0.1           0.1        0.1        0.0666667\n",
       " 0.0666667  0.1        0.1           0.1        0.1        0.0666667\n",
       " 0.0666667  0.1        0.1        …  0.1        0.1        0.0666667\n",
       " 0.0666667  0.1        0.1           0.1        0.1        0.0666667\n",
       " 0.0666667  0.1        0.1           0.1        0.1        0.0666667\n",
       " 0.0666667  0.1        0.1           0.1        0.1        0.0666667\n",
       " 0.0444444  0.0666667  0.0666667     0.0666667  0.0666667  0.0444444\n",
       "\n",
       "[:, :, 2, 1] =\n",
       "  800.0  1200.0  1200.0  1200.0  1200.0  …  1200.0  1200.0  1200.0   800.0\n",
       " 1200.0  1800.0  1800.0  1800.0  1800.0     1800.0  1800.0  1800.0  1200.0\n",
       " 1200.0  1800.0  1800.0  1800.0  1800.0     1800.0  1800.0  1800.0  1200.0\n",
       " 1200.0  1800.0  1800.0  1800.0  1800.0     1800.0  1800.0  1800.0  1200.0\n",
       " 1200.0  1800.0  1800.0  1800.0  1800.0     1800.0  1800.0  1800.0  1200.0\n",
       " 1200.0  1800.0  1800.0  1800.0  1800.0  …  1800.0  1800.0  1800.0  1200.0\n",
       " 1200.0  1800.0  1800.0  1800.0  1800.0     1800.0  1800.0  1800.0  1200.0\n",
       " 1200.0  1800.0  1800.0  1800.0  1800.0     1800.0  1800.0  1800.0  1200.0\n",
       " 1200.0  1800.0  1800.0  1800.0  1800.0     1800.0  1800.0  1800.0  1200.0\n",
       "  800.0  1200.0  1200.0  1200.0  1200.0     1200.0  1200.0  1200.0   800.0\n",
       "\n",
       "[:, :, 3, 1] =\n",
       " 36.0  54.0  54.0  54.0  54.0  54.0  54.0  54.0  54.0  36.0\n",
       " 54.0  81.0  81.0  81.0  81.0  81.0  81.0  81.0  81.0  54.0\n",
       " 54.0  81.0  81.0  81.0  81.0  81.0  81.0  81.0  81.0  54.0\n",
       " 54.0  81.0  81.0  81.0  81.0  81.0  81.0  81.0  81.0  54.0\n",
       " 54.0  81.0  81.0  81.0  81.0  81.0  81.0  81.0  81.0  54.0\n",
       " 54.0  81.0  81.0  81.0  81.0  81.0  81.0  81.0  81.0  54.0\n",
       " 54.0  81.0  81.0  81.0  81.0  81.0  81.0  81.0  81.0  54.0\n",
       " 54.0  81.0  81.0  81.0  81.0  81.0  81.0  81.0  81.0  54.0\n",
       " 54.0  81.0  81.0  81.0  81.0  81.0  81.0  81.0  81.0  54.0\n",
       " 36.0  54.0  54.0  54.0  54.0  54.0  54.0  54.0  54.0  36.0\n",
       "\n",
       "[:, :, 4, 1] =\n",
       " 62.8319   94.2478   94.2478   94.2478  …   94.2478   94.2478  62.8319\n",
       " 94.2478  141.372   141.372   141.372      141.372   141.372   94.2478\n",
       " 94.2478  141.372   141.372   141.372      141.372   141.372   94.2478\n",
       " 94.2478  141.372   141.372   141.372      141.372   141.372   94.2478\n",
       " 94.2478  141.372   141.372   141.372      141.372   141.372   94.2478\n",
       " 94.2478  141.372   141.372   141.372   …  141.372   141.372   94.2478\n",
       " 94.2478  141.372   141.372   141.372      141.372   141.372   94.2478\n",
       " 94.2478  141.372   141.372   141.372      141.372   141.372   94.2478\n",
       " 94.2478  141.372   141.372   141.372      141.372   141.372   94.2478\n",
       " 62.8319   94.2478   94.2478   94.2478      94.2478   94.2478  62.8319"
      ]
     },
     "execution_count": 97,
     "metadata": {},
     "output_type": "execute_result"
    }
   ],
   "source": [
    "NNlib.conv(a41, k44,pad=1,flipped=true)"
   ]
  },
  {
   "cell_type": "code",
   "execution_count": 100,
   "metadata": {},
   "outputs": [],
   "source": [
    "\t    H_temp = reshape(\n",
    "        zeros(eltype(img), p.H_l, p.H_l * p.K * p.K),\n",
    "        p.H_l,\n",
    "        p.H_l,\n",
    "        p.K,\n",
    "    p.K)\n",
    "for k ∈ 1:p.K\n",
    "        θ = π * (k - 1.0f0) / p.K\n",
    "#         C_A_temp[:, :, 1,k] = LamKernels.kern_d(p.σ_2, θ)          \n",
    "#         C_B_temp[:, :, 1,k] = LamKernels.kern_b(p.σ_2, θ)               \n",
    "        H_temp[:, :, k,k] = p.H_fact .* LamKernels.gaussian_rot(p.H_σ_x, p.H_σ_y, θ, p.H_l)  \n",
    "#         T_temp[1, 1, k,1] = p.T_fact[k]\n",
    "        #todo: generalise T and W for higher K\n",
    "        #         T_temp[:,:,k] = KernelFactors.gaussian(p.T_σ, p.K)\n",
    "        #         for l ∈ 1:p.K\n",
    "        #             W_temp[:,:,l,k] =\n",
    "        #         end\n",
    "    end"
   ]
  },
  {
   "cell_type": "code",
   "execution_count": 101,
   "metadata": {},
   "outputs": [],
   "source": [
    "img = convert(Array{Float32,2}, load(datadir(\"Iine_100_100_gs.png\")));\n",
    "img = reshape2d_4d(img)\n",
    "img = CuArray(img)\n",
    "r = similar(img)\n",
    "\n",
    "p = LaminartGPU.kernels(img, Parameters.parameters);\n",
    "\n",
    "LaminartGPU.I_u!(r, img, p)\n",
    "temp_out = (I = img, r = r)\n",
    "p = merge(p, temp_out);"
   ]
  },
  {
   "cell_type": "code",
   "execution_count": null,
   "metadata": {},
   "outputs": [],
   "source": []
  }
 ],
 "metadata": {
  "kernelspec": {
   "display_name": "Julia 1.4.2",
   "language": "julia",
   "name": "julia-1.4"
  },
  "language_info": {
   "file_extension": ".jl",
   "mimetype": "application/julia",
   "name": "julia",
   "version": "1.4.2"
  }
 },
 "nbformat": 4,
 "nbformat_minor": 4
}
