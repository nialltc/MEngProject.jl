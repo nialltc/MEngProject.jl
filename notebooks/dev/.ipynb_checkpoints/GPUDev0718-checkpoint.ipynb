{
 "cells": [
  {
   "cell_type": "code",
   "execution_count": 1,
   "metadata": {
    "collapsed": true,
    "jupyter": {
     "outputs_hidden": true
    }
   },
   "outputs": [
    {
     "name": "stderr",
     "output_type": "stream",
     "text": [
      "┌ Info: Precompiling MEngProject [d0493a11-efc0-4c7c-9b66-d0bd5a04cc55]\n",
      "└ @ Base loading.jl:1260\n"
     ]
    }
   ],
   "source": [
    "using DrWatson\n",
    "@quickactivate \"MEngProject\"\n",
    "using MEngProject"
   ]
  },
  {
   "cell_type": "code",
   "execution_count": 6,
   "metadata": {},
   "outputs": [],
   "source": [
    "using CUDA, DifferentialEquations, PyPlot, NNlib,  ImageFiltering, Images, MEngProject, MEngProject.LamKernels, MEngProject.Laminart, MEngProject.Utils, BenchmarkTools, Test"
   ]
  },
  {
   "cell_type": "code",
   "execution_count": 7,
   "metadata": {},
   "outputs": [
    {
     "data": {
      "text/plain": [
       "reshape2d_4d (generic function with 1 method)"
      ]
     },
     "execution_count": 7,
     "metadata": {},
     "output_type": "execute_result"
    }
   ],
   "source": [
    "function reshape2d_4d(img::AbstractArray)\n",
    "    reshape(img, size(img)[1], size(img)[2], 1, 1)\n",
    "end"
   ]
  },
  {
   "cell_type": "code",
   "execution_count": 8,
   "metadata": {},
   "outputs": [],
   "source": [
    "img_g = convert(Array{Float32,2}, load(datadir(\"Iine_100_100_gs.png\")));\n",
    "img_g = reshape2d_4d(img_g)\n",
    "img_g = CuArray(img_g)\n",
    "r_g = similar(img_g)\n",
    "\n",
    "p_g = LaminartGPU.kernels(img_g, Parameters.parameters);\n",
    "\n",
    "LaminartGPU.I_u!(r_g, img_g, p_g)\n",
    "temp_out = (I = img_g, r = r_g)\n",
    "p_g = merge(p_g, temp_out);"
   ]
  },
  {
   "cell_type": "code",
   "execution_count": 9,
   "metadata": {},
   "outputs": [
    {
     "ename": "UndefVarError",
     "evalue": "UndefVarError: p not defined",
     "output_type": "error",
     "traceback": [
      "UndefVarError: p not defined",
      "",
      "Stacktrace:",
      " [1] top-level scope at In[9]:2"
     ]
    }
   ],
   "source": [
    "tspan = (0.0f0, 100.0f0)\n",
    "u0_g = CuArray(reshape(zeros(Float32, p.dim_i, p.dim_j*(5*p.K+2)), p.dim_i, p.dim_j, 5*p.K+2,1));"
   ]
  },
  {
   "cell_type": "code",
   "execution_count": 10,
   "metadata": {},
   "outputs": [
    {
     "ename": "UndefVarError",
     "evalue": "UndefVarError: p not defined",
     "output_type": "error",
     "traceback": [
      "UndefVarError: p not defined",
      "",
      "Stacktrace:",
      " [1] top-level scope at In[10]:1"
     ]
    }
   ],
   "source": [
    "x_lgn_g = CuArray(reshape(Array{Float32}(undef, p.dim_i, p.dim_j), p.dim_i, p.dim_j, 1,1))\n",
    "# x_lgn = CuArray(reshape(Array{Float32}(undef, p.dim_i, p.dim_j * p.K), p.dim_i, p.dim_j, 1,1))\n",
    "C_g = CuArray(reshape(Array{Float32}(undef, p.dim_i, p.dim_j * p.K), p.dim_i, p.dim_j, p.K,1))\n",
    "H_z_g = CuArray(reshape(Array{Float32}(undef, p.dim_i, p.dim_j * p.K), p.dim_i, p.dim_j, p.K,1))\n",
    "\n",
    "\n",
    "f_g = LaminartGPU.MyFunction(x_lgn_g, C_g, H_z_g)"
   ]
  },
  {
   "cell_type": "code",
   "execution_count": 11,
   "metadata": {},
   "outputs": [
    {
     "ename": "UndefVarError",
     "evalue": "UndefVarError: f_g not defined",
     "output_type": "error",
     "traceback": [
      "UndefVarError: f_g not defined",
      "",
      "Stacktrace:",
      " [1] top-level scope at In[11]:1"
     ]
    }
   ],
   "source": [
    "prob_g = ODEProblem(f_g, u0_g, tspan, p_g);"
   ]
  },
  {
   "cell_type": "code",
   "execution_count": 12,
   "metadata": {},
   "outputs": [
    {
     "ename": "UndefVarError",
     "evalue": "UndefVarError: prob_g not defined",
     "output_type": "error",
     "traceback": [
      "UndefVarError: prob_g not defined",
      "",
      "Stacktrace:",
      " [1] top-level scope at In[12]:1"
     ]
    }
   ],
   "source": [
    "sol_g = solve(prob_g);"
   ]
  },
  {
   "cell_type": "code",
   "execution_count": null,
   "metadata": {},
   "outputs": [],
   "source": []
  },
  {
   "cell_type": "code",
   "execution_count": null,
   "metadata": {},
   "outputs": [],
   "source": []
  },
  {
   "cell_type": "code",
   "execution_count": 13,
   "metadata": {},
   "outputs": [
    {
     "name": "stdout",
     "output_type": "stream",
     "text": [
      "All errors:\n",
      "===========================================\n",
      "Failed to open ../input_img/Iine_100_100_gs.png\n",
      "===========================================\n",
      "UnableToOpenBlob `../input_img/Iine_100_100_gs.png': No such file or directory @ error/blob.c/OpenBlob/2873\n",
      "===========================================\n"
     ]
    },
    {
     "name": "stderr",
     "output_type": "stream",
     "text": [
      "Errors encountered while loading \"../input_img/Iine_100_100_gs.png\".\n",
      "\n",
      "Fatal error:\n"
     ]
    },
    {
     "ename": "ErrorException",
     "evalue": "Failed to open ../input_img/Iine_100_100_gs.png",
     "output_type": "error",
     "traceback": [
      "Failed to open ../input_img/Iine_100_100_gs.png",
      "",
      "Stacktrace:",
      " [1] handle_error(::ErrorException, ::FileIO.File{FileIO.DataFormat{:PNG}}) at /mnt/storage_1/users/cullinanen/.julia/packages/FileIO/ZknoK/src/error_handling.jl:82",
      " [2] handle_exceptions(::Array{Any,1}, ::String) at /mnt/storage_1/users/cullinanen/.julia/packages/FileIO/ZknoK/src/error_handling.jl:77",
      " [3] load(::FileIO.Formatted; options::Base.Iterators.Pairs{Union{},Union{},Tuple{},NamedTuple{(),Tuple{}}}) at /mnt/storage_1/users/cullinanen/.julia/packages/FileIO/ZknoK/src/loadsave.jl:186",
      " [4] load at /mnt/storage_1/users/cullinanen/.julia/packages/FileIO/ZknoK/src/loadsave.jl:166 [inlined]",
      " [5] #load#13 at /mnt/storage_1/users/cullinanen/.julia/packages/FileIO/ZknoK/src/loadsave.jl:118 [inlined]",
      " [6] load(::String) at /mnt/storage_1/users/cullinanen/.julia/packages/FileIO/ZknoK/src/loadsave.jl:118",
      " [7] top-level scope at In[13]:1"
     ]
    }
   ],
   "source": [
    "\n",
    "\n",
    "x_lgn = reshape(Array{Float32}(undef, p.dim_i, p.dim_j * p.K), p.dim_i, p.dim_j, p.K)\n",
    "C = reshape(Array{Float32}(undef, p.dim_i, p.dim_j * p.K), p.dim_i, p.dim_j, p.K)\n",
    "H_z = reshape(Array{Float32}(undef, p.dim_i, p.dim_j * p.K), p.dim_i, p.dim_j, p.K)\n",
    "\n",
    "\n",
    "f = Laminart.MyFunction(x_lgn, C, H_z)\n",
    "prob = ODEProblem(f, u0, tspan, p)"
   ]
  },
  {
   "cell_type": "code",
   "execution_count": 14,
   "metadata": {},
   "outputs": [
    {
     "ename": "UndefVarError",
     "evalue": "UndefVarError: prob not defined",
     "output_type": "error",
     "traceback": [
      "UndefVarError: prob not defined",
      "",
      "Stacktrace:",
      " [1] top-level scope at In[14]:1"
     ]
    }
   ],
   "source": [
    "sol = solve(prob)"
   ]
  },
  {
   "cell_type": "code",
   "execution_count": 15,
   "metadata": {},
   "outputs": [
    {
     "ename": "LoadError",
     "evalue": "syntax: unexpected \",\"",
     "output_type": "error",
     "traceback": [
      "syntax: unexpected \",\"",
      ""
     ]
    }
   ],
   "source": [
    "Utils.plot_rb(sol(100)[:,;,1])"
   ]
  },
  {
   "cell_type": "code",
   "execution_count": null,
   "metadata": {},
   "outputs": [],
   "source": []
  },
  {
   "cell_type": "code",
   "execution_count": null,
   "metadata": {},
   "outputs": [],
   "source": []
  },
  {
   "cell_type": "code",
   "execution_count": null,
   "metadata": {},
   "outputs": [],
   "source": []
  },
  {
   "cell_type": "code",
   "execution_count": null,
   "metadata": {},
   "outputs": [],
   "source": []
  },
  {
   "cell_type": "code",
   "execution_count": null,
   "metadata": {},
   "outputs": [],
   "source": []
  }
 ],
 "metadata": {
  "kernelspec": {
   "display_name": "Julia 1.4.2",
   "language": "julia",
   "name": "julia-1.4"
  },
  "language_info": {
   "file_extension": ".jl",
   "mimetype": "application/julia",
   "name": "julia",
   "version": "1.4.2"
  }
 },
 "nbformat": 4,
 "nbformat_minor": 4
}
