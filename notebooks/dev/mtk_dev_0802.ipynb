{
 "cells": [
  {
   "cell_type": "code",
   "execution_count": 47,
   "metadata": {},
   "outputs": [
    {
     "name": "stderr",
     "output_type": "stream",
     "text": [
      "┌ Error: Failed to revise /mnt/storage_1/users/cullinanen/.julia/dev/MEngProject.jl/src/LaminartGPU.jl\n",
      "│   exception = (LoadError(\"/mnt/storage_1/users/cullinanen/.julia/dev/MEngProject.jl/src/LaminartGPU.jl\", 1292, \"missing comma or ) in argument list\"), Union{Ptr{Nothing}, Base.InterpreterIP}[Ptr{Nothing} @0x00007fa6cf68b433])\n",
      "└ @ Revise /mnt/storage_1/users/cullinanen/.julia/packages/Revise/BqeJF/src/Revise.jl:760\n",
      "┌ Warning: Due to a previously reported error, the running code does not match saved version for the following files:\n",
      "│ \n",
      "│   /mnt/storage_1/users/cullinanen/.julia/dev/MEngProject.jl/src/LaminartGPU.jl\n",
      "│ \n",
      "│ Use Revise.errors() to report errors again.\n",
      "└ @ Revise /mnt/storage_1/users/cullinanen/.julia/packages/Revise/BqeJF/src/Revise.jl:820\n",
      "┌ Warning: Due to a previously reported error, the running code does not match saved version for the following files:\n",
      "│ \n",
      "│   /mnt/storage_1/users/cullinanen/.julia/dev/MEngProject.jl/src/LaminartGPU.jl\n",
      "│ \n",
      "│ Use Revise.errors() to report errors again.\n",
      "└ @ Revise /mnt/storage_1/users/cullinanen/.julia/packages/Revise/BqeJF/src/Revise.jl:820\n"
     ]
    }
   ],
   "source": [
    "using DrWatson\n",
    "@quickactivate \"MEngProject\"\n",
    "using MEngProject, CUDA, DifferentialEquations, PyPlot, NNlib,  ImageFiltering, Images, MEngProject, MEngProject.LamKernels, MEngProject.Laminart, MEngProject.Utils, BenchmarkTools, Test"
   ]
  },
  {
   "cell_type": "code",
   "execution_count": 48,
   "metadata": {},
   "outputs": [
    {
     "name": "stderr",
     "output_type": "stream",
     "text": [
      "┌ Warning: Due to a previously reported error, the running code does not match saved version for the following files:\n",
      "│ \n",
      "│   /mnt/storage_1/users/cullinanen/.julia/dev/MEngProject.jl/src/LaminartGPU.jl\n",
      "│ \n",
      "│ Use Revise.errors() to report errors again.\n",
      "└ @ Revise /mnt/storage_1/users/cullinanen/.julia/packages/Revise/BqeJF/src/Revise.jl:820\n",
      "┌ Warning: Due to a previously reported error, the running code does not match saved version for the following files:\n",
      "│ \n",
      "│   /mnt/storage_1/users/cullinanen/.julia/dev/MEngProject.jl/src/LaminartGPU.jl\n",
      "│ \n",
      "│ Use Revise.errors() to report errors again.\n",
      "└ @ Revise /mnt/storage_1/users/cullinanen/.julia/packages/Revise/BqeJF/src/Revise.jl:820\n"
     ]
    },
    {
     "data": {
      "text/plain": [
       "reshape2d_4d (generic function with 1 method)"
      ]
     },
     "execution_count": 48,
     "metadata": {},
     "output_type": "execute_result"
    }
   ],
   "source": [
    "function reshape2d_4d(img::AbstractArray)\n",
    "    reshape(img, size(img)[1], size(img)[2], 1, 1)\n",
    "end"
   ]
  },
  {
   "cell_type": "code",
   "execution_count": 23,
   "metadata": {},
   "outputs": [],
   "source": [
    "img = convert(Array{Float32,2}, load(datadir(\"Iine_100_100_gs.png\")));\n",
    "img = reshape2d_4d(img)\n",
    "# img = cu(img)\n",
    "r = similar(img)\n",
    "\n",
    "p = LaminartGPU.kernels_(img, Parameters.parameters);\n",
    "\n",
    "LaminartGPU.I_u!(r, img, p)\n",
    "temp_out = (I = img, r = r)\n",
    "p = merge(p, temp_out);"
   ]
  },
  {
   "cell_type": "code",
   "execution_count": null,
   "metadata": {},
   "outputs": [],
   "source": []
  },
  {
   "cell_type": "code",
   "execution_count": 24,
   "metadata": {},
   "outputs": [],
   "source": [
    "# tspan = (0.0f0, 5f0)\n",
    "# u0 = cu(reshape(zeros(Float32, p.dim_i, p.dim_j*(5*p.K+2)), p.dim_i, p.dim_j, 5*p.K+2,1));"
   ]
  },
  {
   "cell_type": "code",
   "execution_count": 25,
   "metadata": {},
   "outputs": [],
   "source": [
    "tspan = (0.0f0, 5f0)\n",
    "u0 = reshape(zeros(Float32, p.dim_i, p.dim_j*(5*p.K+2)), p.dim_i, p.dim_j, 5*p.K+2,1);"
   ]
  },
  {
   "cell_type": "code",
   "execution_count": 26,
   "metadata": {},
   "outputs": [],
   "source": [
    "arr1 = u0[:, :, 1:p.K,:]\n",
    "arr2 = u0[:, :, 1:1,:];"
   ]
  },
  {
   "cell_type": "code",
   "execution_count": 27,
   "metadata": {},
   "outputs": [],
   "source": [
    "f = LaminartGPU.LamFunction_cpu(\n",
    "    similar(arr1), # x\n",
    "    similar(arr1), # y\n",
    "    similar(arr1), # m\n",
    "    similar(arr1), # z\n",
    "    similar(arr1), # s\n",
    "    similar(arr2), # v_p\n",
    "    similar(arr2), # v_m\n",
    "    similar(arr1), # dx\n",
    "    similar(arr1), # dy\n",
    "    similar(arr1), # dm\n",
    "    similar(arr1), # dz\n",
    "    similar(arr1), # ds\n",
    "    similar(arr2), # dv_p\n",
    "    similar(arr2), # dv_m\n",
    "    similar(arr2), # x_lgn\n",
    "    similar(arr1), # C\n",
    "    similar(arr1), # H_z\n",
    "    similar(arr2), # V_temp1\n",
    "    similar(arr2), # V_temp2\n",
    "    similar(arr1), # Q_temp\n",
    "    similar(arr1), # P_temp\n",
    "    );"
   ]
  },
  {
   "cell_type": "code",
   "execution_count": 28,
   "metadata": {},
   "outputs": [],
   "source": [
    "prob= ODEProblem(f, u0, tspan, p);"
   ]
  },
  {
   "cell_type": "code",
   "execution_count": null,
   "metadata": {},
   "outputs": [],
   "source": [
    "sol = solve(prob)"
   ]
  },
  {
   "cell_type": "code",
   "execution_count": 29,
   "metadata": {},
   "outputs": [
    {
     "ename": "KeyError",
     "evalue": "KeyError: key 'K' not found",
     "output_type": "error",
     "traceback": [
      "KeyError: key 'K' not found",
      "",
      "Stacktrace:",
      " [1] getindex at ./dict.jl:477 [inlined]",
      " [2] #1 at ./none:0 [inlined]",
      " [3] iterate at ./generator.jl:47 [inlined]",
      " [4] join(::Base.GenericIOBuffer{Array{UInt8,1}}, ::Base.Generator{String,ModelingToolkit.var\"#1#2\"}, ::String) at ./strings/io.jl:294",
      " [5] join(::Base.GenericIOBuffer{Array{UInt8,1}}, ::Base.Generator{String,ModelingToolkit.var\"#1#2\"}) at ./strings/io.jl:293",
      " [6] sprint(::Function, ::Base.Generator{String,ModelingToolkit.var\"#1#2\"}; context::Nothing, sizehint::Int64) at ./strings/io.jl:105",
      " [7] sprint at ./strings/io.jl:101 [inlined]",
      " [8] join at ./strings/io.jl:300 [inlined]",
      " [9] map_subscripts at /mnt/storage_1/users/cullinanen/.julia/packages/ModelingToolkit/fM618/src/variables.jl:14 [inlined]",
      " [10] _broadcast_getindex_evalf at ./broadcast.jl:631 [inlined]",
      " [11] _broadcast_getindex at ./broadcast.jl:604 [inlined]",
      " [12] #19 at ./broadcast.jl:1024 [inlined]",
      " [13] ntuple at ./ntuple.jl:41 [inlined]",
      " [14] copy at ./broadcast.jl:1024 [inlined]",
      " [15] materialize at ./broadcast.jl:820 [inlined]",
      " [16] Variable(::Symbol, ::Symbol) at /mnt/storage_1/users/cullinanen/.julia/packages/ModelingToolkit/fM618/src/variables.jl:59",
      " [17] #165 at ./none:0 [inlined]",
      " [18] iterate at ./generator.jl:47 [inlined]",
      " [19] collect(::Base.Generator{NTuple{60,Symbol},ModelingToolkit.var\"#165#168\"}) at ./array.jl:665",
      " [20] modelingtoolkitize(::ODEProblem{Array{Float32,4},Tuple{Float32,Float32},true,NamedTuple{(:K, :δ_v, :δ_c, :δ_m, :δ_z, :δ_s, :σ_1, :C_1, :C_2, :σ_2, :γ, :α, :ϕ, :Γ, :v_21, :μ, :ν, :n, :att, :η_p, :η_m, :λ, :a_23_ex, :a_23_in, :v12_6, :v12_4, :ψ, :C_AB_l, :H_σ_x, :H_σ_y, :H_fact, :H_l, :T_fact, :T_p_m, :T_v2_fact, :H_size, :W_size, :lgn_equ_u, :lgn_equ_A, :lgn_equ_B, :filling, :W_l, :k_gauss_1, :k_gauss_2, :k_C_d, :k_C_b, :k_x_lgn, :k_W_p, :k_W_m, :k_H, :k_T_p, :k_T_m, :k_T_p_v2, :k_T_m_v2, :dim_i, :dim_j, :x_V2, :ν_pw_n, :I, :r),Tuple{Int64,Float32,Float32,Float32,Float32,Float32,Float32,Float32,Float32,Float32,Float32,Float32,Float32,Float32,Float32,Float32,Float32,Float32,Float32,Float32,Float32,Float32,Float32,Float32,Float32,Float32,Float32,Int64,Float32,Float32,Float32,Int64,Array{Float32,1},Float32,Float32,Int64,Int64,Float32,Float32,Float32,String,Int64,Array{Float32,4},Array{Float32,4},Array{Float32,4},Array{Float32,4},Array{Float32,4},Array{Float32,4},Array{Float32,4},Array{Float32,4},Array{Float32,4},Array{Float32,4},Array{Float32,4},Array{Float32,4},Int64,Int64,Array{Float32,4},Float32,Array{Float32,4},Array{Float32,4}}},ODEFunction{true,MEngProject.LaminartGPU.LamFunction_cpu{Array{Float32,4}},LinearAlgebra.UniformScaling{Bool},Nothing,Nothing,Nothing,Nothing,Nothing,Nothing,Nothing,Nothing,Nothing,Nothing,Nothing,Nothing},Base.Iterators.Pairs{Union{},Union{},Tuple{},NamedTuple{(),Tuple{}}},DiffEqBase.StandardODEProblem}) at /mnt/storage_1/users/cullinanen/.julia/packages/ModelingToolkit/fM618/src/systems/diffeqs/modelingtoolkitize.jl:11",
      " [21] top-level scope at In[29]:1"
     ]
    }
   ],
   "source": [
    "sys = modelingtoolkitize(prob)"
   ]
  },
  {
   "cell_type": "code",
   "execution_count": null,
   "metadata": {},
   "outputs": [],
   "source": []
  },
  {
   "cell_type": "code",
   "execution_count": 6,
   "metadata": {},
   "outputs": [
    {
     "data": {
      "text/plain": [
       "100×100×2×1 view(::CuArray{Float32,4,Nothing}, :, :, 1:2, :) with eltype Float32:\n",
       "[:, :, 1, 1] =\n",
       " 0.0  0.0  0.0  0.0  0.0  0.0  0.0  0.0  …  0.0  0.0  0.0  0.0  0.0  0.0  0.0\n",
       " 0.0  0.0  0.0  0.0  0.0  0.0  0.0  0.0     0.0  0.0  0.0  0.0  0.0  0.0  0.0\n",
       " 0.0  0.0  0.0  0.0  0.0  0.0  0.0  0.0     0.0  0.0  0.0  0.0  0.0  0.0  0.0\n",
       " 0.0  0.0  0.0  0.0  0.0  0.0  0.0  0.0     0.0  0.0  0.0  0.0  0.0  0.0  0.0\n",
       " 0.0  0.0  0.0  0.0  0.0  0.0  0.0  0.0     0.0  0.0  0.0  0.0  0.0  0.0  0.0\n",
       " 0.0  0.0  0.0  0.0  0.0  0.0  0.0  0.0  …  0.0  0.0  0.0  0.0  0.0  0.0  0.0\n",
       " 0.0  0.0  0.0  0.0  0.0  0.0  0.0  0.0     0.0  0.0  0.0  0.0  0.0  0.0  0.0\n",
       " 0.0  0.0  0.0  0.0  0.0  0.0  0.0  0.0     0.0  0.0  0.0  0.0  0.0  0.0  0.0\n",
       " 0.0  0.0  0.0  0.0  0.0  0.0  0.0  0.0     0.0  0.0  0.0  0.0  0.0  0.0  0.0\n",
       " 0.0  0.0  0.0  0.0  0.0  0.0  0.0  0.0     0.0  0.0  0.0  0.0  0.0  0.0  0.0\n",
       " 0.0  0.0  0.0  0.0  0.0  0.0  0.0  0.0  …  0.0  0.0  0.0  0.0  0.0  0.0  0.0\n",
       " 0.0  0.0  0.0  0.0  0.0  0.0  0.0  0.0     0.0  0.0  0.0  0.0  0.0  0.0  0.0\n",
       " 0.0  0.0  0.0  0.0  0.0  0.0  0.0  0.0     0.0  0.0  0.0  0.0  0.0  0.0  0.0\n",
       " ⋮                        ⋮              ⋱            ⋮                   \n",
       " 0.0  0.0  0.0  0.0  0.0  0.0  0.0  0.0     0.0  0.0  0.0  0.0  0.0  0.0  0.0\n",
       " 0.0  0.0  0.0  0.0  0.0  0.0  0.0  0.0     0.0  0.0  0.0  0.0  0.0  0.0  0.0\n",
       " 0.0  0.0  0.0  0.0  0.0  0.0  0.0  0.0  …  0.0  0.0  0.0  0.0  0.0  0.0  0.0\n",
       " 0.0  0.0  0.0  0.0  0.0  0.0  0.0  0.0     0.0  0.0  0.0  0.0  0.0  0.0  0.0\n",
       " 0.0  0.0  0.0  0.0  0.0  0.0  0.0  0.0     0.0  0.0  0.0  0.0  0.0  0.0  0.0\n",
       " 0.0  0.0  0.0  0.0  0.0  0.0  0.0  0.0     0.0  0.0  0.0  0.0  0.0  0.0  0.0\n",
       " 0.0  0.0  0.0  0.0  0.0  0.0  0.0  0.0     0.0  0.0  0.0  0.0  0.0  0.0  0.0\n",
       " 0.0  0.0  0.0  0.0  0.0  0.0  0.0  0.0  …  0.0  0.0  0.0  0.0  0.0  0.0  0.0\n",
       " 0.0  0.0  0.0  0.0  0.0  0.0  0.0  0.0     0.0  0.0  0.0  0.0  0.0  0.0  0.0\n",
       " 0.0  0.0  0.0  0.0  0.0  0.0  0.0  0.0     0.0  0.0  0.0  0.0  0.0  0.0  0.0\n",
       " 0.0  0.0  0.0  0.0  0.0  0.0  0.0  0.0     0.0  0.0  0.0  0.0  0.0  0.0  0.0\n",
       " 0.0  0.0  0.0  0.0  0.0  0.0  0.0  0.0     0.0  0.0  0.0  0.0  0.0  0.0  0.0\n",
       "\n",
       "[:, :, 2, 1] =\n",
       " 0.0  0.0  0.0  0.0  0.0  0.0  0.0  0.0  …  0.0  0.0  0.0  0.0  0.0  0.0  0.0\n",
       " 0.0  0.0  0.0  0.0  0.0  0.0  0.0  0.0     0.0  0.0  0.0  0.0  0.0  0.0  0.0\n",
       " 0.0  0.0  0.0  0.0  0.0  0.0  0.0  0.0     0.0  0.0  0.0  0.0  0.0  0.0  0.0\n",
       " 0.0  0.0  0.0  0.0  0.0  0.0  0.0  0.0     0.0  0.0  0.0  0.0  0.0  0.0  0.0\n",
       " 0.0  0.0  0.0  0.0  0.0  0.0  0.0  0.0     0.0  0.0  0.0  0.0  0.0  0.0  0.0\n",
       " 0.0  0.0  0.0  0.0  0.0  0.0  0.0  0.0  …  0.0  0.0  0.0  0.0  0.0  0.0  0.0\n",
       " 0.0  0.0  0.0  0.0  0.0  0.0  0.0  0.0     0.0  0.0  0.0  0.0  0.0  0.0  0.0\n",
       " 0.0  0.0  0.0  0.0  0.0  0.0  0.0  0.0     0.0  0.0  0.0  0.0  0.0  0.0  0.0\n",
       " 0.0  0.0  0.0  0.0  0.0  0.0  0.0  0.0     0.0  0.0  0.0  0.0  0.0  0.0  0.0\n",
       " 0.0  0.0  0.0  0.0  0.0  0.0  0.0  0.0     0.0  0.0  0.0  0.0  0.0  0.0  0.0\n",
       " 0.0  0.0  0.0  0.0  0.0  0.0  0.0  0.0  …  0.0  0.0  0.0  0.0  0.0  0.0  0.0\n",
       " 0.0  0.0  0.0  0.0  0.0  0.0  0.0  0.0     0.0  0.0  0.0  0.0  0.0  0.0  0.0\n",
       " 0.0  0.0  0.0  0.0  0.0  0.0  0.0  0.0     0.0  0.0  0.0  0.0  0.0  0.0  0.0\n",
       " ⋮                        ⋮              ⋱            ⋮                   \n",
       " 0.0  0.0  0.0  0.0  0.0  0.0  0.0  0.0     0.0  0.0  0.0  0.0  0.0  0.0  0.0\n",
       " 0.0  0.0  0.0  0.0  0.0  0.0  0.0  0.0     0.0  0.0  0.0  0.0  0.0  0.0  0.0\n",
       " 0.0  0.0  0.0  0.0  0.0  0.0  0.0  0.0  …  0.0  0.0  0.0  0.0  0.0  0.0  0.0\n",
       " 0.0  0.0  0.0  0.0  0.0  0.0  0.0  0.0     0.0  0.0  0.0  0.0  0.0  0.0  0.0\n",
       " 0.0  0.0  0.0  0.0  0.0  0.0  0.0  0.0     0.0  0.0  0.0  0.0  0.0  0.0  0.0\n",
       " 0.0  0.0  0.0  0.0  0.0  0.0  0.0  0.0     0.0  0.0  0.0  0.0  0.0  0.0  0.0\n",
       " 0.0  0.0  0.0  0.0  0.0  0.0  0.0  0.0     0.0  0.0  0.0  0.0  0.0  0.0  0.0\n",
       " 0.0  0.0  0.0  0.0  0.0  0.0  0.0  0.0  …  0.0  0.0  0.0  0.0  0.0  0.0  0.0\n",
       " 0.0  0.0  0.0  0.0  0.0  0.0  0.0  0.0     0.0  0.0  0.0  0.0  0.0  0.0  0.0\n",
       " 0.0  0.0  0.0  0.0  0.0  0.0  0.0  0.0     0.0  0.0  0.0  0.0  0.0  0.0  0.0\n",
       " 0.0  0.0  0.0  0.0  0.0  0.0  0.0  0.0     0.0  0.0  0.0  0.0  0.0  0.0  0.0\n",
       " 0.0  0.0  0.0  0.0  0.0  0.0  0.0  0.0     0.0  0.0  0.0  0.0  0.0  0.0  0.0"
      ]
     },
     "execution_count": 6,
     "metadata": {},
     "output_type": "execute_result"
    }
   ],
   "source": [
    "a = @view u0[:,:,1:2,:]"
   ]
  },
  {
   "cell_type": "code",
   "execution_count": 7,
   "metadata": {},
   "outputs": [
    {
     "data": {
      "text/plain": [
       "100×100×2×1 view(::CuArray{Float32,4,Nothing}, :, :, 1:2, :) with eltype Float32:\n",
       "[:, :, 1, 1] =\n",
       " 0.0  0.0  0.0  0.0  0.0  0.0  0.0  0.0  …  0.0  0.0  0.0  0.0  0.0  0.0  0.0\n",
       " 0.0  0.0  0.0  0.0  0.0  0.0  0.0  0.0     0.0  0.0  0.0  0.0  0.0  0.0  0.0\n",
       " 0.0  0.0  0.0  0.0  0.0  0.0  0.0  0.0     0.0  0.0  0.0  0.0  0.0  0.0  0.0\n",
       " 0.0  0.0  0.0  0.0  0.0  0.0  0.0  0.0     0.0  0.0  0.0  0.0  0.0  0.0  0.0\n",
       " 0.0  0.0  0.0  0.0  0.0  0.0  0.0  0.0     0.0  0.0  0.0  0.0  0.0  0.0  0.0\n",
       " 0.0  0.0  0.0  0.0  0.0  0.0  0.0  0.0  …  0.0  0.0  0.0  0.0  0.0  0.0  0.0\n",
       " 0.0  0.0  0.0  0.0  0.0  0.0  0.0  0.0     0.0  0.0  0.0  0.0  0.0  0.0  0.0\n",
       " 0.0  0.0  0.0  0.0  0.0  0.0  0.0  0.0     0.0  0.0  0.0  0.0  0.0  0.0  0.0\n",
       " 0.0  0.0  0.0  0.0  0.0  0.0  0.0  0.0     0.0  0.0  0.0  0.0  0.0  0.0  0.0\n",
       " 0.0  0.0  0.0  0.0  0.0  0.0  0.0  0.0     0.0  0.0  0.0  0.0  0.0  0.0  0.0\n",
       " 0.0  0.0  0.0  0.0  0.0  0.0  0.0  0.0  …  0.0  0.0  0.0  0.0  0.0  0.0  0.0\n",
       " 0.0  0.0  0.0  0.0  0.0  0.0  0.0  0.0     0.0  0.0  0.0  0.0  0.0  0.0  0.0\n",
       " 0.0  0.0  0.0  0.0  0.0  0.0  0.0  0.0     0.0  0.0  0.0  0.0  0.0  0.0  0.0\n",
       " ⋮                        ⋮              ⋱            ⋮                   \n",
       " 0.0  0.0  0.0  0.0  0.0  0.0  0.0  0.0     0.0  0.0  0.0  0.0  0.0  0.0  0.0\n",
       " 0.0  0.0  0.0  0.0  0.0  0.0  0.0  0.0     0.0  0.0  0.0  0.0  0.0  0.0  0.0\n",
       " 0.0  0.0  0.0  0.0  0.0  0.0  0.0  0.0  …  0.0  0.0  0.0  0.0  0.0  0.0  0.0\n",
       " 0.0  0.0  0.0  0.0  0.0  0.0  0.0  0.0     0.0  0.0  0.0  0.0  0.0  0.0  0.0\n",
       " 0.0  0.0  0.0  0.0  0.0  0.0  0.0  0.0     0.0  0.0  0.0  0.0  0.0  0.0  0.0\n",
       " 0.0  0.0  0.0  0.0  0.0  0.0  0.0  0.0     0.0  0.0  0.0  0.0  0.0  0.0  0.0\n",
       " 0.0  0.0  0.0  0.0  0.0  0.0  0.0  0.0     0.0  0.0  0.0  0.0  0.0  0.0  0.0\n",
       " 0.0  0.0  0.0  0.0  0.0  0.0  0.0  0.0  …  0.0  0.0  0.0  0.0  0.0  0.0  0.0\n",
       " 0.0  0.0  0.0  0.0  0.0  0.0  0.0  0.0     0.0  0.0  0.0  0.0  0.0  0.0  0.0\n",
       " 0.0  0.0  0.0  0.0  0.0  0.0  0.0  0.0     0.0  0.0  0.0  0.0  0.0  0.0  0.0\n",
       " 0.0  0.0  0.0  0.0  0.0  0.0  0.0  0.0     0.0  0.0  0.0  0.0  0.0  0.0  0.0\n",
       " 0.0  0.0  0.0  0.0  0.0  0.0  0.0  0.0     0.0  0.0  0.0  0.0  0.0  0.0  0.0\n",
       "\n",
       "[:, :, 2, 1] =\n",
       " 0.0  0.0  0.0  0.0  0.0  0.0  0.0  0.0  …  0.0  0.0  0.0  0.0  0.0  0.0  0.0\n",
       " 0.0  0.0  0.0  0.0  0.0  0.0  0.0  0.0     0.0  0.0  0.0  0.0  0.0  0.0  0.0\n",
       " 0.0  0.0  0.0  0.0  0.0  0.0  0.0  0.0     0.0  0.0  0.0  0.0  0.0  0.0  0.0\n",
       " 0.0  0.0  0.0  0.0  0.0  0.0  0.0  0.0     0.0  0.0  0.0  0.0  0.0  0.0  0.0\n",
       " 0.0  0.0  0.0  0.0  0.0  0.0  0.0  0.0     0.0  0.0  0.0  0.0  0.0  0.0  0.0\n",
       " 0.0  0.0  0.0  0.0  0.0  0.0  0.0  0.0  …  0.0  0.0  0.0  0.0  0.0  0.0  0.0\n",
       " 0.0  0.0  0.0  0.0  0.0  0.0  0.0  0.0     0.0  0.0  0.0  0.0  0.0  0.0  0.0\n",
       " 0.0  0.0  0.0  0.0  0.0  0.0  0.0  0.0     0.0  0.0  0.0  0.0  0.0  0.0  0.0\n",
       " 0.0  0.0  0.0  0.0  0.0  0.0  0.0  0.0     0.0  0.0  0.0  0.0  0.0  0.0  0.0\n",
       " 0.0  0.0  0.0  0.0  0.0  0.0  0.0  0.0     0.0  0.0  0.0  0.0  0.0  0.0  0.0\n",
       " 0.0  0.0  0.0  0.0  0.0  0.0  0.0  0.0  …  0.0  0.0  0.0  0.0  0.0  0.0  0.0\n",
       " 0.0  0.0  0.0  0.0  0.0  0.0  0.0  0.0     0.0  0.0  0.0  0.0  0.0  0.0  0.0\n",
       " 0.0  0.0  0.0  0.0  0.0  0.0  0.0  0.0     0.0  0.0  0.0  0.0  0.0  0.0  0.0\n",
       " ⋮                        ⋮              ⋱            ⋮                   \n",
       " 0.0  0.0  0.0  0.0  0.0  0.0  0.0  0.0     0.0  0.0  0.0  0.0  0.0  0.0  0.0\n",
       " 0.0  0.0  0.0  0.0  0.0  0.0  0.0  0.0     0.0  0.0  0.0  0.0  0.0  0.0  0.0\n",
       " 0.0  0.0  0.0  0.0  0.0  0.0  0.0  0.0  …  0.0  0.0  0.0  0.0  0.0  0.0  0.0\n",
       " 0.0  0.0  0.0  0.0  0.0  0.0  0.0  0.0     0.0  0.0  0.0  0.0  0.0  0.0  0.0\n",
       " 0.0  0.0  0.0  0.0  0.0  0.0  0.0  0.0     0.0  0.0  0.0  0.0  0.0  0.0  0.0\n",
       " 0.0  0.0  0.0  0.0  0.0  0.0  0.0  0.0     0.0  0.0  0.0  0.0  0.0  0.0  0.0\n",
       " 0.0  0.0  0.0  0.0  0.0  0.0  0.0  0.0     0.0  0.0  0.0  0.0  0.0  0.0  0.0\n",
       " 0.0  0.0  0.0  0.0  0.0  0.0  0.0  0.0  …  0.0  0.0  0.0  0.0  0.0  0.0  0.0\n",
       " 0.0  0.0  0.0  0.0  0.0  0.0  0.0  0.0     0.0  0.0  0.0  0.0  0.0  0.0  0.0\n",
       " 0.0  0.0  0.0  0.0  0.0  0.0  0.0  0.0     0.0  0.0  0.0  0.0  0.0  0.0  0.0\n",
       " 0.0  0.0  0.0  0.0  0.0  0.0  0.0  0.0     0.0  0.0  0.0  0.0  0.0  0.0  0.0\n",
       " 0.0  0.0  0.0  0.0  0.0  0.0  0.0  0.0     0.0  0.0  0.0  0.0  0.0  0.0  0.0"
      ]
     },
     "execution_count": 7,
     "metadata": {},
     "output_type": "execute_result"
    }
   ],
   "source": [
    "b = @views u0[:,:,1:2,:]"
   ]
  },
  {
   "cell_type": "code",
   "execution_count": 9,
   "metadata": {},
   "outputs": [
    {
     "data": {
      "text/plain": [
       "true"
      ]
     },
     "execution_count": 9,
     "metadata": {},
     "output_type": "execute_result"
    }
   ],
   "source": [
    "typeof(a)== typeof(b)"
   ]
  },
  {
   "cell_type": "code",
   "execution_count": 10,
   "metadata": {},
   "outputs": [
    {
     "name": "stderr",
     "output_type": "stream",
     "text": [
      "┌ Warning: Performing scalar operations on GPU arrays: This is very slow, consider disallowing these operations with `allowscalar(false)`\n",
      "└ @ GPUArrays /mnt/storage_1/users/cullinanen/.julia/packages/GPUArrays/4W5rW/src/host/indexing.jl:43\n"
     ]
    },
    {
     "data": {
      "text/plain": [
       "true"
      ]
     },
     "execution_count": 10,
     "metadata": {},
     "output_type": "execute_result"
    }
   ],
   "source": [
    "a == b"
   ]
  },
  {
   "cell_type": "code",
   "execution_count": 17,
   "metadata": {},
   "outputs": [
    {
     "ename": "MethodError",
     "evalue": "MethodError: Cannot `convert` an object of type Array{Operation,4} to an object of type Expression\nClosest candidates are:\n  convert(::Type{Expression}, !Matched::Operation) at /mnt/storage_1/users/cullinanen/.julia/packages/ModelingToolkit/fM618/src/utils.jl:24\n  convert(::Type{Expression}, !Matched::Expression) at /mnt/storage_1/users/cullinanen/.julia/packages/ModelingToolkit/fM618/src/utils.jl:20\n  convert(::Type{Expression}, !Matched::Bool) at /mnt/storage_1/users/cullinanen/.julia/packages/ModelingToolkit/fM618/src/utils.jl:22\n  ...",
     "output_type": "error",
     "traceback": [
      "MethodError: Cannot `convert` an object of type Array{Operation,4} to an object of type Expression\nClosest candidates are:\n  convert(::Type{Expression}, !Matched::Operation) at /mnt/storage_1/users/cullinanen/.julia/packages/ModelingToolkit/fM618/src/utils.jl:24\n  convert(::Type{Expression}, !Matched::Expression) at /mnt/storage_1/users/cullinanen/.julia/packages/ModelingToolkit/fM618/src/utils.jl:20\n  convert(::Type{Expression}, !Matched::Bool) at /mnt/storage_1/users/cullinanen/.julia/packages/ModelingToolkit/fM618/src/utils.jl:22\n  ...",
      "",
      "Stacktrace:",
      " [1] setindex!(::Array{Expression,1}, ::Array{Operation,4}, ::Int64) at ./array.jl:826",
      " [2] getindex at ./array.jl:395 [inlined]",
      " [3] (::Differential)(::Array{Operation,4}) at /mnt/storage_1/users/cullinanen/.julia/packages/ModelingToolkit/fM618/src/differentials.jl:27",
      " [4] top-level scope at In[17]:4"
     ]
    }
   ],
   "source": [
    "@variables u[1:100,1:100,1:12,1:1]\n",
    "@parameters t\n",
    "@derivatives D'~t\n",
    "du = simplify.(f(D(u),u,p,0.0))"
   ]
  },
  {
   "cell_type": "code",
   "execution_count": 19,
   "metadata": {},
   "outputs": [
    {
     "data": {
      "text/plain": [
       "derivative(u₁ˏ₁ˏ₁ˏ₁, t)"
      ]
     },
     "execution_count": 19,
     "metadata": {},
     "output_type": "execute_result"
    }
   ],
   "source": [
    "D(u[1,1,1,1])"
   ]
  },
  {
   "cell_type": "code",
   "execution_count": 20,
   "metadata": {},
   "outputs": [
    {
     "data": {
      "text/plain": [
       "100×100×12×1 Array{Operation,4}:\n",
       "[:, :, 1, 1] =\n",
       "   u₁ˏ₁ˏ₁ˏ₁    u₁ˏ₂ˏ₁ˏ₁    u₁ˏ₃ˏ₁ˏ₁    u₁ˏ₄ˏ₁ˏ₁  …    u₁ˏ₉₉ˏ₁ˏ₁    u₁ˏ₁₀₀ˏ₁ˏ₁\n",
       "   u₂ˏ₁ˏ₁ˏ₁    u₂ˏ₂ˏ₁ˏ₁    u₂ˏ₃ˏ₁ˏ₁    u₂ˏ₄ˏ₁ˏ₁       u₂ˏ₉₉ˏ₁ˏ₁    u₂ˏ₁₀₀ˏ₁ˏ₁\n",
       "   u₃ˏ₁ˏ₁ˏ₁    u₃ˏ₂ˏ₁ˏ₁    u₃ˏ₃ˏ₁ˏ₁    u₃ˏ₄ˏ₁ˏ₁       u₃ˏ₉₉ˏ₁ˏ₁    u₃ˏ₁₀₀ˏ₁ˏ₁\n",
       "   u₄ˏ₁ˏ₁ˏ₁    u₄ˏ₂ˏ₁ˏ₁    u₄ˏ₃ˏ₁ˏ₁    u₄ˏ₄ˏ₁ˏ₁       u₄ˏ₉₉ˏ₁ˏ₁    u₄ˏ₁₀₀ˏ₁ˏ₁\n",
       "   u₅ˏ₁ˏ₁ˏ₁    u₅ˏ₂ˏ₁ˏ₁    u₅ˏ₃ˏ₁ˏ₁    u₅ˏ₄ˏ₁ˏ₁       u₅ˏ₉₉ˏ₁ˏ₁    u₅ˏ₁₀₀ˏ₁ˏ₁\n",
       "   u₆ˏ₁ˏ₁ˏ₁    u₆ˏ₂ˏ₁ˏ₁    u₆ˏ₃ˏ₁ˏ₁    u₆ˏ₄ˏ₁ˏ₁  …    u₆ˏ₉₉ˏ₁ˏ₁    u₆ˏ₁₀₀ˏ₁ˏ₁\n",
       "   u₇ˏ₁ˏ₁ˏ₁    u₇ˏ₂ˏ₁ˏ₁    u₇ˏ₃ˏ₁ˏ₁    u₇ˏ₄ˏ₁ˏ₁       u₇ˏ₉₉ˏ₁ˏ₁    u₇ˏ₁₀₀ˏ₁ˏ₁\n",
       "   u₈ˏ₁ˏ₁ˏ₁    u₈ˏ₂ˏ₁ˏ₁    u₈ˏ₃ˏ₁ˏ₁    u₈ˏ₄ˏ₁ˏ₁       u₈ˏ₉₉ˏ₁ˏ₁    u₈ˏ₁₀₀ˏ₁ˏ₁\n",
       "   u₉ˏ₁ˏ₁ˏ₁    u₉ˏ₂ˏ₁ˏ₁    u₉ˏ₃ˏ₁ˏ₁    u₉ˏ₄ˏ₁ˏ₁       u₉ˏ₉₉ˏ₁ˏ₁    u₉ˏ₁₀₀ˏ₁ˏ₁\n",
       "  u₁₀ˏ₁ˏ₁ˏ₁   u₁₀ˏ₂ˏ₁ˏ₁   u₁₀ˏ₃ˏ₁ˏ₁   u₁₀ˏ₄ˏ₁ˏ₁      u₁₀ˏ₉₉ˏ₁ˏ₁   u₁₀ˏ₁₀₀ˏ₁ˏ₁\n",
       "  u₁₁ˏ₁ˏ₁ˏ₁   u₁₁ˏ₂ˏ₁ˏ₁   u₁₁ˏ₃ˏ₁ˏ₁   u₁₁ˏ₄ˏ₁ˏ₁  …   u₁₁ˏ₉₉ˏ₁ˏ₁   u₁₁ˏ₁₀₀ˏ₁ˏ₁\n",
       "  u₁₂ˏ₁ˏ₁ˏ₁   u₁₂ˏ₂ˏ₁ˏ₁   u₁₂ˏ₃ˏ₁ˏ₁   u₁₂ˏ₄ˏ₁ˏ₁      u₁₂ˏ₉₉ˏ₁ˏ₁   u₁₂ˏ₁₀₀ˏ₁ˏ₁\n",
       "  u₁₃ˏ₁ˏ₁ˏ₁   u₁₃ˏ₂ˏ₁ˏ₁   u₁₃ˏ₃ˏ₁ˏ₁   u₁₃ˏ₄ˏ₁ˏ₁      u₁₃ˏ₉₉ˏ₁ˏ₁   u₁₃ˏ₁₀₀ˏ₁ˏ₁\n",
       "          ⋮                                      ⋱               \n",
       "  u₈₉ˏ₁ˏ₁ˏ₁   u₈₉ˏ₂ˏ₁ˏ₁   u₈₉ˏ₃ˏ₁ˏ₁   u₈₉ˏ₄ˏ₁ˏ₁      u₈₉ˏ₉₉ˏ₁ˏ₁   u₈₉ˏ₁₀₀ˏ₁ˏ₁\n",
       "  u₉₀ˏ₁ˏ₁ˏ₁   u₉₀ˏ₂ˏ₁ˏ₁   u₉₀ˏ₃ˏ₁ˏ₁   u₉₀ˏ₄ˏ₁ˏ₁      u₉₀ˏ₉₉ˏ₁ˏ₁   u₉₀ˏ₁₀₀ˏ₁ˏ₁\n",
       "  u₉₁ˏ₁ˏ₁ˏ₁   u₉₁ˏ₂ˏ₁ˏ₁   u₉₁ˏ₃ˏ₁ˏ₁   u₉₁ˏ₄ˏ₁ˏ₁  …   u₉₁ˏ₉₉ˏ₁ˏ₁   u₉₁ˏ₁₀₀ˏ₁ˏ₁\n",
       "  u₉₂ˏ₁ˏ₁ˏ₁   u₉₂ˏ₂ˏ₁ˏ₁   u₉₂ˏ₃ˏ₁ˏ₁   u₉₂ˏ₄ˏ₁ˏ₁      u₉₂ˏ₉₉ˏ₁ˏ₁   u₉₂ˏ₁₀₀ˏ₁ˏ₁\n",
       "  u₉₃ˏ₁ˏ₁ˏ₁   u₉₃ˏ₂ˏ₁ˏ₁   u₉₃ˏ₃ˏ₁ˏ₁   u₉₃ˏ₄ˏ₁ˏ₁      u₉₃ˏ₉₉ˏ₁ˏ₁   u₉₃ˏ₁₀₀ˏ₁ˏ₁\n",
       "  u₉₄ˏ₁ˏ₁ˏ₁   u₉₄ˏ₂ˏ₁ˏ₁   u₉₄ˏ₃ˏ₁ˏ₁   u₉₄ˏ₄ˏ₁ˏ₁      u₉₄ˏ₉₉ˏ₁ˏ₁   u₉₄ˏ₁₀₀ˏ₁ˏ₁\n",
       "  u₉₅ˏ₁ˏ₁ˏ₁   u₉₅ˏ₂ˏ₁ˏ₁   u₉₅ˏ₃ˏ₁ˏ₁   u₉₅ˏ₄ˏ₁ˏ₁      u₉₅ˏ₉₉ˏ₁ˏ₁   u₉₅ˏ₁₀₀ˏ₁ˏ₁\n",
       "  u₉₆ˏ₁ˏ₁ˏ₁   u₉₆ˏ₂ˏ₁ˏ₁   u₉₆ˏ₃ˏ₁ˏ₁   u₉₆ˏ₄ˏ₁ˏ₁  …   u₉₆ˏ₉₉ˏ₁ˏ₁   u₉₆ˏ₁₀₀ˏ₁ˏ₁\n",
       "  u₉₇ˏ₁ˏ₁ˏ₁   u₉₇ˏ₂ˏ₁ˏ₁   u₉₇ˏ₃ˏ₁ˏ₁   u₉₇ˏ₄ˏ₁ˏ₁      u₉₇ˏ₉₉ˏ₁ˏ₁   u₉₇ˏ₁₀₀ˏ₁ˏ₁\n",
       "  u₉₈ˏ₁ˏ₁ˏ₁   u₉₈ˏ₂ˏ₁ˏ₁   u₉₈ˏ₃ˏ₁ˏ₁   u₉₈ˏ₄ˏ₁ˏ₁      u₉₈ˏ₉₉ˏ₁ˏ₁   u₉₈ˏ₁₀₀ˏ₁ˏ₁\n",
       "  u₉₉ˏ₁ˏ₁ˏ₁   u₉₉ˏ₂ˏ₁ˏ₁   u₉₉ˏ₃ˏ₁ˏ₁   u₉₉ˏ₄ˏ₁ˏ₁      u₉₉ˏ₉₉ˏ₁ˏ₁   u₉₉ˏ₁₀₀ˏ₁ˏ₁\n",
       " u₁₀₀ˏ₁ˏ₁ˏ₁  u₁₀₀ˏ₂ˏ₁ˏ₁  u₁₀₀ˏ₃ˏ₁ˏ₁  u₁₀₀ˏ₄ˏ₁ˏ₁     u₁₀₀ˏ₉₉ˏ₁ˏ₁  u₁₀₀ˏ₁₀₀ˏ₁ˏ₁\n",
       "\n",
       "[:, :, 2, 1] =\n",
       "   u₁ˏ₁ˏ₂ˏ₁    u₁ˏ₂ˏ₂ˏ₁    u₁ˏ₃ˏ₂ˏ₁    u₁ˏ₄ˏ₂ˏ₁  …    u₁ˏ₉₉ˏ₂ˏ₁    u₁ˏ₁₀₀ˏ₂ˏ₁\n",
       "   u₂ˏ₁ˏ₂ˏ₁    u₂ˏ₂ˏ₂ˏ₁    u₂ˏ₃ˏ₂ˏ₁    u₂ˏ₄ˏ₂ˏ₁       u₂ˏ₉₉ˏ₂ˏ₁    u₂ˏ₁₀₀ˏ₂ˏ₁\n",
       "   u₃ˏ₁ˏ₂ˏ₁    u₃ˏ₂ˏ₂ˏ₁    u₃ˏ₃ˏ₂ˏ₁    u₃ˏ₄ˏ₂ˏ₁       u₃ˏ₉₉ˏ₂ˏ₁    u₃ˏ₁₀₀ˏ₂ˏ₁\n",
       "   u₄ˏ₁ˏ₂ˏ₁    u₄ˏ₂ˏ₂ˏ₁    u₄ˏ₃ˏ₂ˏ₁    u₄ˏ₄ˏ₂ˏ₁       u₄ˏ₉₉ˏ₂ˏ₁    u₄ˏ₁₀₀ˏ₂ˏ₁\n",
       "   u₅ˏ₁ˏ₂ˏ₁    u₅ˏ₂ˏ₂ˏ₁    u₅ˏ₃ˏ₂ˏ₁    u₅ˏ₄ˏ₂ˏ₁       u₅ˏ₉₉ˏ₂ˏ₁    u₅ˏ₁₀₀ˏ₂ˏ₁\n",
       "   u₆ˏ₁ˏ₂ˏ₁    u₆ˏ₂ˏ₂ˏ₁    u₆ˏ₃ˏ₂ˏ₁    u₆ˏ₄ˏ₂ˏ₁  …    u₆ˏ₉₉ˏ₂ˏ₁    u₆ˏ₁₀₀ˏ₂ˏ₁\n",
       "   u₇ˏ₁ˏ₂ˏ₁    u₇ˏ₂ˏ₂ˏ₁    u₇ˏ₃ˏ₂ˏ₁    u₇ˏ₄ˏ₂ˏ₁       u₇ˏ₉₉ˏ₂ˏ₁    u₇ˏ₁₀₀ˏ₂ˏ₁\n",
       "   u₈ˏ₁ˏ₂ˏ₁    u₈ˏ₂ˏ₂ˏ₁    u₈ˏ₃ˏ₂ˏ₁    u₈ˏ₄ˏ₂ˏ₁       u₈ˏ₉₉ˏ₂ˏ₁    u₈ˏ₁₀₀ˏ₂ˏ₁\n",
       "   u₉ˏ₁ˏ₂ˏ₁    u₉ˏ₂ˏ₂ˏ₁    u₉ˏ₃ˏ₂ˏ₁    u₉ˏ₄ˏ₂ˏ₁       u₉ˏ₉₉ˏ₂ˏ₁    u₉ˏ₁₀₀ˏ₂ˏ₁\n",
       "  u₁₀ˏ₁ˏ₂ˏ₁   u₁₀ˏ₂ˏ₂ˏ₁   u₁₀ˏ₃ˏ₂ˏ₁   u₁₀ˏ₄ˏ₂ˏ₁      u₁₀ˏ₉₉ˏ₂ˏ₁   u₁₀ˏ₁₀₀ˏ₂ˏ₁\n",
       "  u₁₁ˏ₁ˏ₂ˏ₁   u₁₁ˏ₂ˏ₂ˏ₁   u₁₁ˏ₃ˏ₂ˏ₁   u₁₁ˏ₄ˏ₂ˏ₁  …   u₁₁ˏ₉₉ˏ₂ˏ₁   u₁₁ˏ₁₀₀ˏ₂ˏ₁\n",
       "  u₁₂ˏ₁ˏ₂ˏ₁   u₁₂ˏ₂ˏ₂ˏ₁   u₁₂ˏ₃ˏ₂ˏ₁   u₁₂ˏ₄ˏ₂ˏ₁      u₁₂ˏ₉₉ˏ₂ˏ₁   u₁₂ˏ₁₀₀ˏ₂ˏ₁\n",
       "  u₁₃ˏ₁ˏ₂ˏ₁   u₁₃ˏ₂ˏ₂ˏ₁   u₁₃ˏ₃ˏ₂ˏ₁   u₁₃ˏ₄ˏ₂ˏ₁      u₁₃ˏ₉₉ˏ₂ˏ₁   u₁₃ˏ₁₀₀ˏ₂ˏ₁\n",
       "          ⋮                                      ⋱               \n",
       "  u₈₉ˏ₁ˏ₂ˏ₁   u₈₉ˏ₂ˏ₂ˏ₁   u₈₉ˏ₃ˏ₂ˏ₁   u₈₉ˏ₄ˏ₂ˏ₁      u₈₉ˏ₉₉ˏ₂ˏ₁   u₈₉ˏ₁₀₀ˏ₂ˏ₁\n",
       "  u₉₀ˏ₁ˏ₂ˏ₁   u₉₀ˏ₂ˏ₂ˏ₁   u₉₀ˏ₃ˏ₂ˏ₁   u₉₀ˏ₄ˏ₂ˏ₁      u₉₀ˏ₉₉ˏ₂ˏ₁   u₉₀ˏ₁₀₀ˏ₂ˏ₁\n",
       "  u₉₁ˏ₁ˏ₂ˏ₁   u₉₁ˏ₂ˏ₂ˏ₁   u₉₁ˏ₃ˏ₂ˏ₁   u₉₁ˏ₄ˏ₂ˏ₁  …   u₉₁ˏ₉₉ˏ₂ˏ₁   u₉₁ˏ₁₀₀ˏ₂ˏ₁\n",
       "  u₉₂ˏ₁ˏ₂ˏ₁   u₉₂ˏ₂ˏ₂ˏ₁   u₉₂ˏ₃ˏ₂ˏ₁   u₉₂ˏ₄ˏ₂ˏ₁      u₉₂ˏ₉₉ˏ₂ˏ₁   u₉₂ˏ₁₀₀ˏ₂ˏ₁\n",
       "  u₉₃ˏ₁ˏ₂ˏ₁   u₉₃ˏ₂ˏ₂ˏ₁   u₉₃ˏ₃ˏ₂ˏ₁   u₉₃ˏ₄ˏ₂ˏ₁      u₉₃ˏ₉₉ˏ₂ˏ₁   u₉₃ˏ₁₀₀ˏ₂ˏ₁\n",
       "  u₉₄ˏ₁ˏ₂ˏ₁   u₉₄ˏ₂ˏ₂ˏ₁   u₉₄ˏ₃ˏ₂ˏ₁   u₉₄ˏ₄ˏ₂ˏ₁      u₉₄ˏ₉₉ˏ₂ˏ₁   u₉₄ˏ₁₀₀ˏ₂ˏ₁\n",
       "  u₉₅ˏ₁ˏ₂ˏ₁   u₉₅ˏ₂ˏ₂ˏ₁   u₉₅ˏ₃ˏ₂ˏ₁   u₉₅ˏ₄ˏ₂ˏ₁      u₉₅ˏ₉₉ˏ₂ˏ₁   u₉₅ˏ₁₀₀ˏ₂ˏ₁\n",
       "  u₉₆ˏ₁ˏ₂ˏ₁   u₉₆ˏ₂ˏ₂ˏ₁   u₉₆ˏ₃ˏ₂ˏ₁   u₉₆ˏ₄ˏ₂ˏ₁  …   u₉₆ˏ₉₉ˏ₂ˏ₁   u₉₆ˏ₁₀₀ˏ₂ˏ₁\n",
       "  u₉₇ˏ₁ˏ₂ˏ₁   u₉₇ˏ₂ˏ₂ˏ₁   u₉₇ˏ₃ˏ₂ˏ₁   u₉₇ˏ₄ˏ₂ˏ₁      u₉₇ˏ₉₉ˏ₂ˏ₁   u₉₇ˏ₁₀₀ˏ₂ˏ₁\n",
       "  u₉₈ˏ₁ˏ₂ˏ₁   u₉₈ˏ₂ˏ₂ˏ₁   u₉₈ˏ₃ˏ₂ˏ₁   u₉₈ˏ₄ˏ₂ˏ₁      u₉₈ˏ₉₉ˏ₂ˏ₁   u₉₈ˏ₁₀₀ˏ₂ˏ₁\n",
       "  u₉₉ˏ₁ˏ₂ˏ₁   u₉₉ˏ₂ˏ₂ˏ₁   u₉₉ˏ₃ˏ₂ˏ₁   u₉₉ˏ₄ˏ₂ˏ₁      u₉₉ˏ₉₉ˏ₂ˏ₁   u₉₉ˏ₁₀₀ˏ₂ˏ₁\n",
       " u₁₀₀ˏ₁ˏ₂ˏ₁  u₁₀₀ˏ₂ˏ₂ˏ₁  u₁₀₀ˏ₃ˏ₂ˏ₁  u₁₀₀ˏ₄ˏ₂ˏ₁     u₁₀₀ˏ₉₉ˏ₂ˏ₁  u₁₀₀ˏ₁₀₀ˏ₂ˏ₁\n",
       "\n",
       "[:, :, 3, 1] =\n",
       "   u₁ˏ₁ˏ₃ˏ₁    u₁ˏ₂ˏ₃ˏ₁    u₁ˏ₃ˏ₃ˏ₁    u₁ˏ₄ˏ₃ˏ₁  …    u₁ˏ₉₉ˏ₃ˏ₁    u₁ˏ₁₀₀ˏ₃ˏ₁\n",
       "   u₂ˏ₁ˏ₃ˏ₁    u₂ˏ₂ˏ₃ˏ₁    u₂ˏ₃ˏ₃ˏ₁    u₂ˏ₄ˏ₃ˏ₁       u₂ˏ₉₉ˏ₃ˏ₁    u₂ˏ₁₀₀ˏ₃ˏ₁\n",
       "   u₃ˏ₁ˏ₃ˏ₁    u₃ˏ₂ˏ₃ˏ₁    u₃ˏ₃ˏ₃ˏ₁    u₃ˏ₄ˏ₃ˏ₁       u₃ˏ₉₉ˏ₃ˏ₁    u₃ˏ₁₀₀ˏ₃ˏ₁\n",
       "   u₄ˏ₁ˏ₃ˏ₁    u₄ˏ₂ˏ₃ˏ₁    u₄ˏ₃ˏ₃ˏ₁    u₄ˏ₄ˏ₃ˏ₁       u₄ˏ₉₉ˏ₃ˏ₁    u₄ˏ₁₀₀ˏ₃ˏ₁\n",
       "   u₅ˏ₁ˏ₃ˏ₁    u₅ˏ₂ˏ₃ˏ₁    u₅ˏ₃ˏ₃ˏ₁    u₅ˏ₄ˏ₃ˏ₁       u₅ˏ₉₉ˏ₃ˏ₁    u₅ˏ₁₀₀ˏ₃ˏ₁\n",
       "   u₆ˏ₁ˏ₃ˏ₁    u₆ˏ₂ˏ₃ˏ₁    u₆ˏ₃ˏ₃ˏ₁    u₆ˏ₄ˏ₃ˏ₁  …    u₆ˏ₉₉ˏ₃ˏ₁    u₆ˏ₁₀₀ˏ₃ˏ₁\n",
       "   u₇ˏ₁ˏ₃ˏ₁    u₇ˏ₂ˏ₃ˏ₁    u₇ˏ₃ˏ₃ˏ₁    u₇ˏ₄ˏ₃ˏ₁       u₇ˏ₉₉ˏ₃ˏ₁    u₇ˏ₁₀₀ˏ₃ˏ₁\n",
       "   u₈ˏ₁ˏ₃ˏ₁    u₈ˏ₂ˏ₃ˏ₁    u₈ˏ₃ˏ₃ˏ₁    u₈ˏ₄ˏ₃ˏ₁       u₈ˏ₉₉ˏ₃ˏ₁    u₈ˏ₁₀₀ˏ₃ˏ₁\n",
       "   u₉ˏ₁ˏ₃ˏ₁    u₉ˏ₂ˏ₃ˏ₁    u₉ˏ₃ˏ₃ˏ₁    u₉ˏ₄ˏ₃ˏ₁       u₉ˏ₉₉ˏ₃ˏ₁    u₉ˏ₁₀₀ˏ₃ˏ₁\n",
       "  u₁₀ˏ₁ˏ₃ˏ₁   u₁₀ˏ₂ˏ₃ˏ₁   u₁₀ˏ₃ˏ₃ˏ₁   u₁₀ˏ₄ˏ₃ˏ₁      u₁₀ˏ₉₉ˏ₃ˏ₁   u₁₀ˏ₁₀₀ˏ₃ˏ₁\n",
       "  u₁₁ˏ₁ˏ₃ˏ₁   u₁₁ˏ₂ˏ₃ˏ₁   u₁₁ˏ₃ˏ₃ˏ₁   u₁₁ˏ₄ˏ₃ˏ₁  …   u₁₁ˏ₉₉ˏ₃ˏ₁   u₁₁ˏ₁₀₀ˏ₃ˏ₁\n",
       "  u₁₂ˏ₁ˏ₃ˏ₁   u₁₂ˏ₂ˏ₃ˏ₁   u₁₂ˏ₃ˏ₃ˏ₁   u₁₂ˏ₄ˏ₃ˏ₁      u₁₂ˏ₉₉ˏ₃ˏ₁   u₁₂ˏ₁₀₀ˏ₃ˏ₁\n",
       "  u₁₃ˏ₁ˏ₃ˏ₁   u₁₃ˏ₂ˏ₃ˏ₁   u₁₃ˏ₃ˏ₃ˏ₁   u₁₃ˏ₄ˏ₃ˏ₁      u₁₃ˏ₉₉ˏ₃ˏ₁   u₁₃ˏ₁₀₀ˏ₃ˏ₁\n",
       "          ⋮                                      ⋱               \n",
       "  u₈₉ˏ₁ˏ₃ˏ₁   u₈₉ˏ₂ˏ₃ˏ₁   u₈₉ˏ₃ˏ₃ˏ₁   u₈₉ˏ₄ˏ₃ˏ₁      u₈₉ˏ₉₉ˏ₃ˏ₁   u₈₉ˏ₁₀₀ˏ₃ˏ₁\n",
       "  u₉₀ˏ₁ˏ₃ˏ₁   u₉₀ˏ₂ˏ₃ˏ₁   u₉₀ˏ₃ˏ₃ˏ₁   u₉₀ˏ₄ˏ₃ˏ₁      u₉₀ˏ₉₉ˏ₃ˏ₁   u₉₀ˏ₁₀₀ˏ₃ˏ₁\n",
       "  u₉₁ˏ₁ˏ₃ˏ₁   u₉₁ˏ₂ˏ₃ˏ₁   u₉₁ˏ₃ˏ₃ˏ₁   u₉₁ˏ₄ˏ₃ˏ₁  …   u₉₁ˏ₉₉ˏ₃ˏ₁   u₉₁ˏ₁₀₀ˏ₃ˏ₁\n",
       "  u₉₂ˏ₁ˏ₃ˏ₁   u₉₂ˏ₂ˏ₃ˏ₁   u₉₂ˏ₃ˏ₃ˏ₁   u₉₂ˏ₄ˏ₃ˏ₁      u₉₂ˏ₉₉ˏ₃ˏ₁   u₉₂ˏ₁₀₀ˏ₃ˏ₁\n",
       "  u₉₃ˏ₁ˏ₃ˏ₁   u₉₃ˏ₂ˏ₃ˏ₁   u₉₃ˏ₃ˏ₃ˏ₁   u₉₃ˏ₄ˏ₃ˏ₁      u₉₃ˏ₉₉ˏ₃ˏ₁   u₉₃ˏ₁₀₀ˏ₃ˏ₁\n",
       "  u₉₄ˏ₁ˏ₃ˏ₁   u₉₄ˏ₂ˏ₃ˏ₁   u₉₄ˏ₃ˏ₃ˏ₁   u₉₄ˏ₄ˏ₃ˏ₁      u₉₄ˏ₉₉ˏ₃ˏ₁   u₉₄ˏ₁₀₀ˏ₃ˏ₁\n",
       "  u₉₅ˏ₁ˏ₃ˏ₁   u₉₅ˏ₂ˏ₃ˏ₁   u₉₅ˏ₃ˏ₃ˏ₁   u₉₅ˏ₄ˏ₃ˏ₁      u₉₅ˏ₉₉ˏ₃ˏ₁   u₉₅ˏ₁₀₀ˏ₃ˏ₁\n",
       "  u₉₆ˏ₁ˏ₃ˏ₁   u₉₆ˏ₂ˏ₃ˏ₁   u₉₆ˏ₃ˏ₃ˏ₁   u₉₆ˏ₄ˏ₃ˏ₁  …   u₉₆ˏ₉₉ˏ₃ˏ₁   u₉₆ˏ₁₀₀ˏ₃ˏ₁\n",
       "  u₉₇ˏ₁ˏ₃ˏ₁   u₉₇ˏ₂ˏ₃ˏ₁   u₉₇ˏ₃ˏ₃ˏ₁   u₉₇ˏ₄ˏ₃ˏ₁      u₉₇ˏ₉₉ˏ₃ˏ₁   u₉₇ˏ₁₀₀ˏ₃ˏ₁\n",
       "  u₉₈ˏ₁ˏ₃ˏ₁   u₉₈ˏ₂ˏ₃ˏ₁   u₉₈ˏ₃ˏ₃ˏ₁   u₉₈ˏ₄ˏ₃ˏ₁      u₉₈ˏ₉₉ˏ₃ˏ₁   u₉₈ˏ₁₀₀ˏ₃ˏ₁\n",
       "  u₉₉ˏ₁ˏ₃ˏ₁   u₉₉ˏ₂ˏ₃ˏ₁   u₉₉ˏ₃ˏ₃ˏ₁   u₉₉ˏ₄ˏ₃ˏ₁      u₉₉ˏ₉₉ˏ₃ˏ₁   u₉₉ˏ₁₀₀ˏ₃ˏ₁\n",
       " u₁₀₀ˏ₁ˏ₃ˏ₁  u₁₀₀ˏ₂ˏ₃ˏ₁  u₁₀₀ˏ₃ˏ₃ˏ₁  u₁₀₀ˏ₄ˏ₃ˏ₁     u₁₀₀ˏ₉₉ˏ₃ˏ₁  u₁₀₀ˏ₁₀₀ˏ₃ˏ₁\n",
       "\n",
       "...\n",
       "\n",
       "[:, :, 10, 1] =\n",
       "   u₁ˏ₁ˏ₁₀ˏ₁    u₁ˏ₂ˏ₁₀ˏ₁    u₁ˏ₃ˏ₁₀ˏ₁  …    u₁ˏ₉₉ˏ₁₀ˏ₁    u₁ˏ₁₀₀ˏ₁₀ˏ₁\n",
       "   u₂ˏ₁ˏ₁₀ˏ₁    u₂ˏ₂ˏ₁₀ˏ₁    u₂ˏ₃ˏ₁₀ˏ₁       u₂ˏ₉₉ˏ₁₀ˏ₁    u₂ˏ₁₀₀ˏ₁₀ˏ₁\n",
       "   u₃ˏ₁ˏ₁₀ˏ₁    u₃ˏ₂ˏ₁₀ˏ₁    u₃ˏ₃ˏ₁₀ˏ₁       u₃ˏ₉₉ˏ₁₀ˏ₁    u₃ˏ₁₀₀ˏ₁₀ˏ₁\n",
       "   u₄ˏ₁ˏ₁₀ˏ₁    u₄ˏ₂ˏ₁₀ˏ₁    u₄ˏ₃ˏ₁₀ˏ₁       u₄ˏ₉₉ˏ₁₀ˏ₁    u₄ˏ₁₀₀ˏ₁₀ˏ₁\n",
       "   u₅ˏ₁ˏ₁₀ˏ₁    u₅ˏ₂ˏ₁₀ˏ₁    u₅ˏ₃ˏ₁₀ˏ₁       u₅ˏ₉₉ˏ₁₀ˏ₁    u₅ˏ₁₀₀ˏ₁₀ˏ₁\n",
       "   u₆ˏ₁ˏ₁₀ˏ₁    u₆ˏ₂ˏ₁₀ˏ₁    u₆ˏ₃ˏ₁₀ˏ₁  …    u₆ˏ₉₉ˏ₁₀ˏ₁    u₆ˏ₁₀₀ˏ₁₀ˏ₁\n",
       "   u₇ˏ₁ˏ₁₀ˏ₁    u₇ˏ₂ˏ₁₀ˏ₁    u₇ˏ₃ˏ₁₀ˏ₁       u₇ˏ₉₉ˏ₁₀ˏ₁    u₇ˏ₁₀₀ˏ₁₀ˏ₁\n",
       "   u₈ˏ₁ˏ₁₀ˏ₁    u₈ˏ₂ˏ₁₀ˏ₁    u₈ˏ₃ˏ₁₀ˏ₁       u₈ˏ₉₉ˏ₁₀ˏ₁    u₈ˏ₁₀₀ˏ₁₀ˏ₁\n",
       "   u₉ˏ₁ˏ₁₀ˏ₁    u₉ˏ₂ˏ₁₀ˏ₁    u₉ˏ₃ˏ₁₀ˏ₁       u₉ˏ₉₉ˏ₁₀ˏ₁    u₉ˏ₁₀₀ˏ₁₀ˏ₁\n",
       "  u₁₀ˏ₁ˏ₁₀ˏ₁   u₁₀ˏ₂ˏ₁₀ˏ₁   u₁₀ˏ₃ˏ₁₀ˏ₁      u₁₀ˏ₉₉ˏ₁₀ˏ₁   u₁₀ˏ₁₀₀ˏ₁₀ˏ₁\n",
       "  u₁₁ˏ₁ˏ₁₀ˏ₁   u₁₁ˏ₂ˏ₁₀ˏ₁   u₁₁ˏ₃ˏ₁₀ˏ₁  …   u₁₁ˏ₉₉ˏ₁₀ˏ₁   u₁₁ˏ₁₀₀ˏ₁₀ˏ₁\n",
       "  u₁₂ˏ₁ˏ₁₀ˏ₁   u₁₂ˏ₂ˏ₁₀ˏ₁   u₁₂ˏ₃ˏ₁₀ˏ₁      u₁₂ˏ₉₉ˏ₁₀ˏ₁   u₁₂ˏ₁₀₀ˏ₁₀ˏ₁\n",
       "  u₁₃ˏ₁ˏ₁₀ˏ₁   u₁₃ˏ₂ˏ₁₀ˏ₁   u₁₃ˏ₃ˏ₁₀ˏ₁      u₁₃ˏ₉₉ˏ₁₀ˏ₁   u₁₃ˏ₁₀₀ˏ₁₀ˏ₁\n",
       "           ⋮                            ⋱                \n",
       "  u₈₉ˏ₁ˏ₁₀ˏ₁   u₈₉ˏ₂ˏ₁₀ˏ₁   u₈₉ˏ₃ˏ₁₀ˏ₁      u₈₉ˏ₉₉ˏ₁₀ˏ₁   u₈₉ˏ₁₀₀ˏ₁₀ˏ₁\n",
       "  u₉₀ˏ₁ˏ₁₀ˏ₁   u₉₀ˏ₂ˏ₁₀ˏ₁   u₉₀ˏ₃ˏ₁₀ˏ₁      u₉₀ˏ₉₉ˏ₁₀ˏ₁   u₉₀ˏ₁₀₀ˏ₁₀ˏ₁\n",
       "  u₉₁ˏ₁ˏ₁₀ˏ₁   u₉₁ˏ₂ˏ₁₀ˏ₁   u₉₁ˏ₃ˏ₁₀ˏ₁  …   u₉₁ˏ₉₉ˏ₁₀ˏ₁   u₉₁ˏ₁₀₀ˏ₁₀ˏ₁\n",
       "  u₉₂ˏ₁ˏ₁₀ˏ₁   u₉₂ˏ₂ˏ₁₀ˏ₁   u₉₂ˏ₃ˏ₁₀ˏ₁      u₉₂ˏ₉₉ˏ₁₀ˏ₁   u₉₂ˏ₁₀₀ˏ₁₀ˏ₁\n",
       "  u₉₃ˏ₁ˏ₁₀ˏ₁   u₉₃ˏ₂ˏ₁₀ˏ₁   u₉₃ˏ₃ˏ₁₀ˏ₁      u₉₃ˏ₉₉ˏ₁₀ˏ₁   u₉₃ˏ₁₀₀ˏ₁₀ˏ₁\n",
       "  u₉₄ˏ₁ˏ₁₀ˏ₁   u₉₄ˏ₂ˏ₁₀ˏ₁   u₉₄ˏ₃ˏ₁₀ˏ₁      u₉₄ˏ₉₉ˏ₁₀ˏ₁   u₉₄ˏ₁₀₀ˏ₁₀ˏ₁\n",
       "  u₉₅ˏ₁ˏ₁₀ˏ₁   u₉₅ˏ₂ˏ₁₀ˏ₁   u₉₅ˏ₃ˏ₁₀ˏ₁      u₉₅ˏ₉₉ˏ₁₀ˏ₁   u₉₅ˏ₁₀₀ˏ₁₀ˏ₁\n",
       "  u₉₆ˏ₁ˏ₁₀ˏ₁   u₉₆ˏ₂ˏ₁₀ˏ₁   u₉₆ˏ₃ˏ₁₀ˏ₁  …   u₉₆ˏ₉₉ˏ₁₀ˏ₁   u₉₆ˏ₁₀₀ˏ₁₀ˏ₁\n",
       "  u₉₇ˏ₁ˏ₁₀ˏ₁   u₉₇ˏ₂ˏ₁₀ˏ₁   u₉₇ˏ₃ˏ₁₀ˏ₁      u₉₇ˏ₉₉ˏ₁₀ˏ₁   u₉₇ˏ₁₀₀ˏ₁₀ˏ₁\n",
       "  u₉₈ˏ₁ˏ₁₀ˏ₁   u₉₈ˏ₂ˏ₁₀ˏ₁   u₉₈ˏ₃ˏ₁₀ˏ₁      u₉₈ˏ₉₉ˏ₁₀ˏ₁   u₉₈ˏ₁₀₀ˏ₁₀ˏ₁\n",
       "  u₉₉ˏ₁ˏ₁₀ˏ₁   u₉₉ˏ₂ˏ₁₀ˏ₁   u₉₉ˏ₃ˏ₁₀ˏ₁      u₉₉ˏ₉₉ˏ₁₀ˏ₁   u₉₉ˏ₁₀₀ˏ₁₀ˏ₁\n",
       " u₁₀₀ˏ₁ˏ₁₀ˏ₁  u₁₀₀ˏ₂ˏ₁₀ˏ₁  u₁₀₀ˏ₃ˏ₁₀ˏ₁     u₁₀₀ˏ₉₉ˏ₁₀ˏ₁  u₁₀₀ˏ₁₀₀ˏ₁₀ˏ₁\n",
       "\n",
       "[:, :, 11, 1] =\n",
       "   u₁ˏ₁ˏ₁₁ˏ₁    u₁ˏ₂ˏ₁₁ˏ₁    u₁ˏ₃ˏ₁₁ˏ₁  …    u₁ˏ₉₉ˏ₁₁ˏ₁    u₁ˏ₁₀₀ˏ₁₁ˏ₁\n",
       "   u₂ˏ₁ˏ₁₁ˏ₁    u₂ˏ₂ˏ₁₁ˏ₁    u₂ˏ₃ˏ₁₁ˏ₁       u₂ˏ₉₉ˏ₁₁ˏ₁    u₂ˏ₁₀₀ˏ₁₁ˏ₁\n",
       "   u₃ˏ₁ˏ₁₁ˏ₁    u₃ˏ₂ˏ₁₁ˏ₁    u₃ˏ₃ˏ₁₁ˏ₁       u₃ˏ₉₉ˏ₁₁ˏ₁    u₃ˏ₁₀₀ˏ₁₁ˏ₁\n",
       "   u₄ˏ₁ˏ₁₁ˏ₁    u₄ˏ₂ˏ₁₁ˏ₁    u₄ˏ₃ˏ₁₁ˏ₁       u₄ˏ₉₉ˏ₁₁ˏ₁    u₄ˏ₁₀₀ˏ₁₁ˏ₁\n",
       "   u₅ˏ₁ˏ₁₁ˏ₁    u₅ˏ₂ˏ₁₁ˏ₁    u₅ˏ₃ˏ₁₁ˏ₁       u₅ˏ₉₉ˏ₁₁ˏ₁    u₅ˏ₁₀₀ˏ₁₁ˏ₁\n",
       "   u₆ˏ₁ˏ₁₁ˏ₁    u₆ˏ₂ˏ₁₁ˏ₁    u₆ˏ₃ˏ₁₁ˏ₁  …    u₆ˏ₉₉ˏ₁₁ˏ₁    u₆ˏ₁₀₀ˏ₁₁ˏ₁\n",
       "   u₇ˏ₁ˏ₁₁ˏ₁    u₇ˏ₂ˏ₁₁ˏ₁    u₇ˏ₃ˏ₁₁ˏ₁       u₇ˏ₉₉ˏ₁₁ˏ₁    u₇ˏ₁₀₀ˏ₁₁ˏ₁\n",
       "   u₈ˏ₁ˏ₁₁ˏ₁    u₈ˏ₂ˏ₁₁ˏ₁    u₈ˏ₃ˏ₁₁ˏ₁       u₈ˏ₉₉ˏ₁₁ˏ₁    u₈ˏ₁₀₀ˏ₁₁ˏ₁\n",
       "   u₉ˏ₁ˏ₁₁ˏ₁    u₉ˏ₂ˏ₁₁ˏ₁    u₉ˏ₃ˏ₁₁ˏ₁       u₉ˏ₉₉ˏ₁₁ˏ₁    u₉ˏ₁₀₀ˏ₁₁ˏ₁\n",
       "  u₁₀ˏ₁ˏ₁₁ˏ₁   u₁₀ˏ₂ˏ₁₁ˏ₁   u₁₀ˏ₃ˏ₁₁ˏ₁      u₁₀ˏ₉₉ˏ₁₁ˏ₁   u₁₀ˏ₁₀₀ˏ₁₁ˏ₁\n",
       "  u₁₁ˏ₁ˏ₁₁ˏ₁   u₁₁ˏ₂ˏ₁₁ˏ₁   u₁₁ˏ₃ˏ₁₁ˏ₁  …   u₁₁ˏ₉₉ˏ₁₁ˏ₁   u₁₁ˏ₁₀₀ˏ₁₁ˏ₁\n",
       "  u₁₂ˏ₁ˏ₁₁ˏ₁   u₁₂ˏ₂ˏ₁₁ˏ₁   u₁₂ˏ₃ˏ₁₁ˏ₁      u₁₂ˏ₉₉ˏ₁₁ˏ₁   u₁₂ˏ₁₀₀ˏ₁₁ˏ₁\n",
       "  u₁₃ˏ₁ˏ₁₁ˏ₁   u₁₃ˏ₂ˏ₁₁ˏ₁   u₁₃ˏ₃ˏ₁₁ˏ₁      u₁₃ˏ₉₉ˏ₁₁ˏ₁   u₁₃ˏ₁₀₀ˏ₁₁ˏ₁\n",
       "           ⋮                            ⋱                \n",
       "  u₈₉ˏ₁ˏ₁₁ˏ₁   u₈₉ˏ₂ˏ₁₁ˏ₁   u₈₉ˏ₃ˏ₁₁ˏ₁      u₈₉ˏ₉₉ˏ₁₁ˏ₁   u₈₉ˏ₁₀₀ˏ₁₁ˏ₁\n",
       "  u₉₀ˏ₁ˏ₁₁ˏ₁   u₉₀ˏ₂ˏ₁₁ˏ₁   u₉₀ˏ₃ˏ₁₁ˏ₁      u₉₀ˏ₉₉ˏ₁₁ˏ₁   u₉₀ˏ₁₀₀ˏ₁₁ˏ₁\n",
       "  u₉₁ˏ₁ˏ₁₁ˏ₁   u₉₁ˏ₂ˏ₁₁ˏ₁   u₉₁ˏ₃ˏ₁₁ˏ₁  …   u₉₁ˏ₉₉ˏ₁₁ˏ₁   u₉₁ˏ₁₀₀ˏ₁₁ˏ₁\n",
       "  u₉₂ˏ₁ˏ₁₁ˏ₁   u₉₂ˏ₂ˏ₁₁ˏ₁   u₉₂ˏ₃ˏ₁₁ˏ₁      u₉₂ˏ₉₉ˏ₁₁ˏ₁   u₉₂ˏ₁₀₀ˏ₁₁ˏ₁\n",
       "  u₉₃ˏ₁ˏ₁₁ˏ₁   u₉₃ˏ₂ˏ₁₁ˏ₁   u₉₃ˏ₃ˏ₁₁ˏ₁      u₉₃ˏ₉₉ˏ₁₁ˏ₁   u₉₃ˏ₁₀₀ˏ₁₁ˏ₁\n",
       "  u₉₄ˏ₁ˏ₁₁ˏ₁   u₉₄ˏ₂ˏ₁₁ˏ₁   u₉₄ˏ₃ˏ₁₁ˏ₁      u₉₄ˏ₉₉ˏ₁₁ˏ₁   u₉₄ˏ₁₀₀ˏ₁₁ˏ₁\n",
       "  u₉₅ˏ₁ˏ₁₁ˏ₁   u₉₅ˏ₂ˏ₁₁ˏ₁   u₉₅ˏ₃ˏ₁₁ˏ₁      u₉₅ˏ₉₉ˏ₁₁ˏ₁   u₉₅ˏ₁₀₀ˏ₁₁ˏ₁\n",
       "  u₉₆ˏ₁ˏ₁₁ˏ₁   u₉₆ˏ₂ˏ₁₁ˏ₁   u₉₆ˏ₃ˏ₁₁ˏ₁  …   u₉₆ˏ₉₉ˏ₁₁ˏ₁   u₉₆ˏ₁₀₀ˏ₁₁ˏ₁\n",
       "  u₉₇ˏ₁ˏ₁₁ˏ₁   u₉₇ˏ₂ˏ₁₁ˏ₁   u₉₇ˏ₃ˏ₁₁ˏ₁      u₉₇ˏ₉₉ˏ₁₁ˏ₁   u₉₇ˏ₁₀₀ˏ₁₁ˏ₁\n",
       "  u₉₈ˏ₁ˏ₁₁ˏ₁   u₉₈ˏ₂ˏ₁₁ˏ₁   u₉₈ˏ₃ˏ₁₁ˏ₁      u₉₈ˏ₉₉ˏ₁₁ˏ₁   u₉₈ˏ₁₀₀ˏ₁₁ˏ₁\n",
       "  u₉₉ˏ₁ˏ₁₁ˏ₁   u₉₉ˏ₂ˏ₁₁ˏ₁   u₉₉ˏ₃ˏ₁₁ˏ₁      u₉₉ˏ₉₉ˏ₁₁ˏ₁   u₉₉ˏ₁₀₀ˏ₁₁ˏ₁\n",
       " u₁₀₀ˏ₁ˏ₁₁ˏ₁  u₁₀₀ˏ₂ˏ₁₁ˏ₁  u₁₀₀ˏ₃ˏ₁₁ˏ₁     u₁₀₀ˏ₉₉ˏ₁₁ˏ₁  u₁₀₀ˏ₁₀₀ˏ₁₁ˏ₁\n",
       "\n",
       "[:, :, 12, 1] =\n",
       "   u₁ˏ₁ˏ₁₂ˏ₁    u₁ˏ₂ˏ₁₂ˏ₁    u₁ˏ₃ˏ₁₂ˏ₁  …    u₁ˏ₉₉ˏ₁₂ˏ₁    u₁ˏ₁₀₀ˏ₁₂ˏ₁\n",
       "   u₂ˏ₁ˏ₁₂ˏ₁    u₂ˏ₂ˏ₁₂ˏ₁    u₂ˏ₃ˏ₁₂ˏ₁       u₂ˏ₉₉ˏ₁₂ˏ₁    u₂ˏ₁₀₀ˏ₁₂ˏ₁\n",
       "   u₃ˏ₁ˏ₁₂ˏ₁    u₃ˏ₂ˏ₁₂ˏ₁    u₃ˏ₃ˏ₁₂ˏ₁       u₃ˏ₉₉ˏ₁₂ˏ₁    u₃ˏ₁₀₀ˏ₁₂ˏ₁\n",
       "   u₄ˏ₁ˏ₁₂ˏ₁    u₄ˏ₂ˏ₁₂ˏ₁    u₄ˏ₃ˏ₁₂ˏ₁       u₄ˏ₉₉ˏ₁₂ˏ₁    u₄ˏ₁₀₀ˏ₁₂ˏ₁\n",
       "   u₅ˏ₁ˏ₁₂ˏ₁    u₅ˏ₂ˏ₁₂ˏ₁    u₅ˏ₃ˏ₁₂ˏ₁       u₅ˏ₉₉ˏ₁₂ˏ₁    u₅ˏ₁₀₀ˏ₁₂ˏ₁\n",
       "   u₆ˏ₁ˏ₁₂ˏ₁    u₆ˏ₂ˏ₁₂ˏ₁    u₆ˏ₃ˏ₁₂ˏ₁  …    u₆ˏ₉₉ˏ₁₂ˏ₁    u₆ˏ₁₀₀ˏ₁₂ˏ₁\n",
       "   u₇ˏ₁ˏ₁₂ˏ₁    u₇ˏ₂ˏ₁₂ˏ₁    u₇ˏ₃ˏ₁₂ˏ₁       u₇ˏ₉₉ˏ₁₂ˏ₁    u₇ˏ₁₀₀ˏ₁₂ˏ₁\n",
       "   u₈ˏ₁ˏ₁₂ˏ₁    u₈ˏ₂ˏ₁₂ˏ₁    u₈ˏ₃ˏ₁₂ˏ₁       u₈ˏ₉₉ˏ₁₂ˏ₁    u₈ˏ₁₀₀ˏ₁₂ˏ₁\n",
       "   u₉ˏ₁ˏ₁₂ˏ₁    u₉ˏ₂ˏ₁₂ˏ₁    u₉ˏ₃ˏ₁₂ˏ₁       u₉ˏ₉₉ˏ₁₂ˏ₁    u₉ˏ₁₀₀ˏ₁₂ˏ₁\n",
       "  u₁₀ˏ₁ˏ₁₂ˏ₁   u₁₀ˏ₂ˏ₁₂ˏ₁   u₁₀ˏ₃ˏ₁₂ˏ₁      u₁₀ˏ₉₉ˏ₁₂ˏ₁   u₁₀ˏ₁₀₀ˏ₁₂ˏ₁\n",
       "  u₁₁ˏ₁ˏ₁₂ˏ₁   u₁₁ˏ₂ˏ₁₂ˏ₁   u₁₁ˏ₃ˏ₁₂ˏ₁  …   u₁₁ˏ₉₉ˏ₁₂ˏ₁   u₁₁ˏ₁₀₀ˏ₁₂ˏ₁\n",
       "  u₁₂ˏ₁ˏ₁₂ˏ₁   u₁₂ˏ₂ˏ₁₂ˏ₁   u₁₂ˏ₃ˏ₁₂ˏ₁      u₁₂ˏ₉₉ˏ₁₂ˏ₁   u₁₂ˏ₁₀₀ˏ₁₂ˏ₁\n",
       "  u₁₃ˏ₁ˏ₁₂ˏ₁   u₁₃ˏ₂ˏ₁₂ˏ₁   u₁₃ˏ₃ˏ₁₂ˏ₁      u₁₃ˏ₉₉ˏ₁₂ˏ₁   u₁₃ˏ₁₀₀ˏ₁₂ˏ₁\n",
       "           ⋮                            ⋱                \n",
       "  u₈₉ˏ₁ˏ₁₂ˏ₁   u₈₉ˏ₂ˏ₁₂ˏ₁   u₈₉ˏ₃ˏ₁₂ˏ₁      u₈₉ˏ₉₉ˏ₁₂ˏ₁   u₈₉ˏ₁₀₀ˏ₁₂ˏ₁\n",
       "  u₉₀ˏ₁ˏ₁₂ˏ₁   u₉₀ˏ₂ˏ₁₂ˏ₁   u₉₀ˏ₃ˏ₁₂ˏ₁      u₉₀ˏ₉₉ˏ₁₂ˏ₁   u₉₀ˏ₁₀₀ˏ₁₂ˏ₁\n",
       "  u₉₁ˏ₁ˏ₁₂ˏ₁   u₉₁ˏ₂ˏ₁₂ˏ₁   u₉₁ˏ₃ˏ₁₂ˏ₁  …   u₉₁ˏ₉₉ˏ₁₂ˏ₁   u₉₁ˏ₁₀₀ˏ₁₂ˏ₁\n",
       "  u₉₂ˏ₁ˏ₁₂ˏ₁   u₉₂ˏ₂ˏ₁₂ˏ₁   u₉₂ˏ₃ˏ₁₂ˏ₁      u₉₂ˏ₉₉ˏ₁₂ˏ₁   u₉₂ˏ₁₀₀ˏ₁₂ˏ₁\n",
       "  u₉₃ˏ₁ˏ₁₂ˏ₁   u₉₃ˏ₂ˏ₁₂ˏ₁   u₉₃ˏ₃ˏ₁₂ˏ₁      u₉₃ˏ₉₉ˏ₁₂ˏ₁   u₉₃ˏ₁₀₀ˏ₁₂ˏ₁\n",
       "  u₉₄ˏ₁ˏ₁₂ˏ₁   u₉₄ˏ₂ˏ₁₂ˏ₁   u₉₄ˏ₃ˏ₁₂ˏ₁      u₉₄ˏ₉₉ˏ₁₂ˏ₁   u₉₄ˏ₁₀₀ˏ₁₂ˏ₁\n",
       "  u₉₅ˏ₁ˏ₁₂ˏ₁   u₉₅ˏ₂ˏ₁₂ˏ₁   u₉₅ˏ₃ˏ₁₂ˏ₁      u₉₅ˏ₉₉ˏ₁₂ˏ₁   u₉₅ˏ₁₀₀ˏ₁₂ˏ₁\n",
       "  u₉₆ˏ₁ˏ₁₂ˏ₁   u₉₆ˏ₂ˏ₁₂ˏ₁   u₉₆ˏ₃ˏ₁₂ˏ₁  …   u₉₆ˏ₉₉ˏ₁₂ˏ₁   u₉₆ˏ₁₀₀ˏ₁₂ˏ₁\n",
       "  u₉₇ˏ₁ˏ₁₂ˏ₁   u₉₇ˏ₂ˏ₁₂ˏ₁   u₉₇ˏ₃ˏ₁₂ˏ₁      u₉₇ˏ₉₉ˏ₁₂ˏ₁   u₉₇ˏ₁₀₀ˏ₁₂ˏ₁\n",
       "  u₉₈ˏ₁ˏ₁₂ˏ₁   u₉₈ˏ₂ˏ₁₂ˏ₁   u₉₈ˏ₃ˏ₁₂ˏ₁      u₉₈ˏ₉₉ˏ₁₂ˏ₁   u₉₈ˏ₁₀₀ˏ₁₂ˏ₁\n",
       "  u₉₉ˏ₁ˏ₁₂ˏ₁   u₉₉ˏ₂ˏ₁₂ˏ₁   u₉₉ˏ₃ˏ₁₂ˏ₁      u₉₉ˏ₉₉ˏ₁₂ˏ₁   u₉₉ˏ₁₀₀ˏ₁₂ˏ₁\n",
       " u₁₀₀ˏ₁ˏ₁₂ˏ₁  u₁₀₀ˏ₂ˏ₁₂ˏ₁  u₁₀₀ˏ₃ˏ₁₂ˏ₁     u₁₀₀ˏ₉₉ˏ₁₂ˏ₁  u₁₀₀ˏ₁₀₀ˏ₁₂ˏ₁"
      ]
     },
     "execution_count": 20,
     "metadata": {},
     "output_type": "execute_result"
    }
   ],
   "source": [
    "\n",
    "u"
   ]
  },
  {
   "cell_type": "code",
   "execution_count": 8,
   "metadata": {},
   "outputs": [
    {
     "ename": "UndefVarError",
     "evalue": "UndefVarError: modelingtoolkitize not defined",
     "output_type": "error",
     "traceback": [
      "UndefVarError: modelingtoolkitize not defined",
      "",
      "Stacktrace:",
      " [1] top-level scope at In[8]:1"
     ]
    }
   ],
   "source": [
    "sys = modelingtoolkitize(prob)"
   ]
  },
  {
   "cell_type": "code",
   "execution_count": 30,
   "metadata": {},
   "outputs": [
    {
     "data": {
      "text/plain": [
       "(t,)"
      ]
     },
     "execution_count": 30,
     "metadata": {},
     "output_type": "execute_result"
    }
   ],
   "source": [
    "# function modelingtoolkitize(prob::DiffEqBase.ODEProblem)\n",
    "#     prob.f isa DiffEqBase.AbstractParameterizedFunction &&\n",
    "#                             return (prob.f.sys, prob.f.sys.states, prob.f.sys.ps)\n",
    "    @parameters t\n",
    "   "
   ]
  },
  {
   "cell_type": "code",
   "execution_count": 31,
   "metadata": {},
   "outputs": [
    {
     "data": {
      "text/plain": [
       "100×100×12×1 Array{Operation,4}:\n",
       "[:, :, 1, 1] =\n",
       "   x₁(t)  x₁₀₁(t)  x₂₀₁(t)  x₃₀₁(t)  …  x₉₇₀₁(t)  x₉₈₀₁(t)   x₉₉₀₁(t)\n",
       "   x₂(t)  x₁₀₂(t)  x₂₀₂(t)  x₃₀₂(t)     x₉₇₀₂(t)  x₉₈₀₂(t)   x₉₉₀₂(t)\n",
       "   x₃(t)  x₁₀₃(t)  x₂₀₃(t)  x₃₀₃(t)     x₉₇₀₃(t)  x₉₈₀₃(t)   x₉₉₀₃(t)\n",
       "   x₄(t)  x₁₀₄(t)  x₂₀₄(t)  x₃₀₄(t)     x₉₇₀₄(t)  x₉₈₀₄(t)   x₉₉₀₄(t)\n",
       "   x₅(t)  x₁₀₅(t)  x₂₀₅(t)  x₃₀₅(t)     x₉₇₀₅(t)  x₉₈₀₅(t)   x₉₉₀₅(t)\n",
       "   x₆(t)  x₁₀₆(t)  x₂₀₆(t)  x₃₀₆(t)  …  x₉₇₀₆(t)  x₉₈₀₆(t)   x₉₉₀₆(t)\n",
       "   x₇(t)  x₁₀₇(t)  x₂₀₇(t)  x₃₀₇(t)     x₉₇₀₇(t)  x₉₈₀₇(t)   x₉₉₀₇(t)\n",
       "   x₈(t)  x₁₀₈(t)  x₂₀₈(t)  x₃₀₈(t)     x₉₇₀₈(t)  x₉₈₀₈(t)   x₉₉₀₈(t)\n",
       "   x₉(t)  x₁₀₉(t)  x₂₀₉(t)  x₃₀₉(t)     x₉₇₀₉(t)  x₉₈₀₉(t)   x₉₉₀₉(t)\n",
       "  x₁₀(t)  x₁₁₀(t)  x₂₁₀(t)  x₃₁₀(t)     x₉₇₁₀(t)  x₉₈₁₀(t)   x₉₉₁₀(t)\n",
       "  x₁₁(t)  x₁₁₁(t)  x₂₁₁(t)  x₃₁₁(t)  …  x₉₇₁₁(t)  x₉₈₁₁(t)   x₉₉₁₁(t)\n",
       "  x₁₂(t)  x₁₁₂(t)  x₂₁₂(t)  x₃₁₂(t)     x₉₇₁₂(t)  x₉₈₁₂(t)   x₉₉₁₂(t)\n",
       "  x₁₃(t)  x₁₁₃(t)  x₂₁₃(t)  x₃₁₃(t)     x₉₇₁₃(t)  x₉₈₁₃(t)   x₉₉₁₃(t)\n",
       "       ⋮                             ⋱                      \n",
       "  x₈₉(t)  x₁₈₉(t)  x₂₈₉(t)  x₃₈₉(t)     x₉₇₈₉(t)  x₉₈₈₉(t)   x₉₉₈₉(t)\n",
       "  x₉₀(t)  x₁₉₀(t)  x₂₉₀(t)  x₃₉₀(t)     x₉₇₉₀(t)  x₉₈₉₀(t)   x₉₉₉₀(t)\n",
       "  x₉₁(t)  x₁₉₁(t)  x₂₉₁(t)  x₃₉₁(t)  …  x₉₇₉₁(t)  x₉₈₉₁(t)   x₉₉₉₁(t)\n",
       "  x₉₂(t)  x₁₉₂(t)  x₂₉₂(t)  x₃₉₂(t)     x₉₇₉₂(t)  x₉₈₉₂(t)   x₉₉₉₂(t)\n",
       "  x₉₃(t)  x₁₉₃(t)  x₂₉₃(t)  x₃₉₃(t)     x₉₇₉₃(t)  x₉₈₉₃(t)   x₉₉₉₃(t)\n",
       "  x₉₄(t)  x₁₉₄(t)  x₂₉₄(t)  x₃₉₄(t)     x₉₇₉₄(t)  x₉₈₉₄(t)   x₉₉₉₄(t)\n",
       "  x₉₅(t)  x₁₉₅(t)  x₂₉₅(t)  x₃₉₅(t)     x₉₇₉₅(t)  x₉₈₉₅(t)   x₉₉₉₅(t)\n",
       "  x₉₆(t)  x₁₉₆(t)  x₂₉₆(t)  x₃₉₆(t)  …  x₉₇₉₆(t)  x₉₈₉₆(t)   x₉₉₉₆(t)\n",
       "  x₉₇(t)  x₁₉₇(t)  x₂₉₇(t)  x₃₉₇(t)     x₉₇₉₇(t)  x₉₈₉₇(t)   x₉₉₉₇(t)\n",
       "  x₉₈(t)  x₁₉₈(t)  x₂₉₈(t)  x₃₉₈(t)     x₉₇₉₈(t)  x₉₈₉₈(t)   x₉₉₉₈(t)\n",
       "  x₉₉(t)  x₁₉₉(t)  x₂₉₉(t)  x₃₉₉(t)     x₉₇₉₉(t)  x₉₈₉₉(t)   x₉₉₉₉(t)\n",
       " x₁₀₀(t)  x₂₀₀(t)  x₃₀₀(t)  x₄₀₀(t)     x₉₈₀₀(t)  x₉₉₀₀(t)  x₁₀₀₀₀(t)\n",
       "\n",
       "[:, :, 2, 1] =\n",
       " x₁₀₀₀₁(t)  x₁₀₁₀₁(t)  x₁₀₂₀₁(t)  …  x₁₉₇₀₁(t)  x₁₉₈₀₁(t)  x₁₉₉₀₁(t)\n",
       " x₁₀₀₀₂(t)  x₁₀₁₀₂(t)  x₁₀₂₀₂(t)     x₁₉₇₀₂(t)  x₁₉₈₀₂(t)  x₁₉₉₀₂(t)\n",
       " x₁₀₀₀₃(t)  x₁₀₁₀₃(t)  x₁₀₂₀₃(t)     x₁₉₇₀₃(t)  x₁₉₈₀₃(t)  x₁₉₉₀₃(t)\n",
       " x₁₀₀₀₄(t)  x₁₀₁₀₄(t)  x₁₀₂₀₄(t)     x₁₉₇₀₄(t)  x₁₉₈₀₄(t)  x₁₉₉₀₄(t)\n",
       " x₁₀₀₀₅(t)  x₁₀₁₀₅(t)  x₁₀₂₀₅(t)     x₁₉₇₀₅(t)  x₁₉₈₀₅(t)  x₁₉₉₀₅(t)\n",
       " x₁₀₀₀₆(t)  x₁₀₁₀₆(t)  x₁₀₂₀₆(t)  …  x₁₉₇₀₆(t)  x₁₉₈₀₆(t)  x₁₉₉₀₆(t)\n",
       " x₁₀₀₀₇(t)  x₁₀₁₀₇(t)  x₁₀₂₀₇(t)     x₁₉₇₀₇(t)  x₁₉₈₀₇(t)  x₁₉₉₀₇(t)\n",
       " x₁₀₀₀₈(t)  x₁₀₁₀₈(t)  x₁₀₂₀₈(t)     x₁₉₇₀₈(t)  x₁₉₈₀₈(t)  x₁₉₉₀₈(t)\n",
       " x₁₀₀₀₉(t)  x₁₀₁₀₉(t)  x₁₀₂₀₉(t)     x₁₉₇₀₉(t)  x₁₉₈₀₉(t)  x₁₉₉₀₉(t)\n",
       " x₁₀₀₁₀(t)  x₁₀₁₁₀(t)  x₁₀₂₁₀(t)     x₁₉₇₁₀(t)  x₁₉₈₁₀(t)  x₁₉₉₁₀(t)\n",
       " x₁₀₀₁₁(t)  x₁₀₁₁₁(t)  x₁₀₂₁₁(t)  …  x₁₉₇₁₁(t)  x₁₉₈₁₁(t)  x₁₉₉₁₁(t)\n",
       " x₁₀₀₁₂(t)  x₁₀₁₁₂(t)  x₁₀₂₁₂(t)     x₁₉₇₁₂(t)  x₁₉₈₁₂(t)  x₁₉₉₁₂(t)\n",
       " x₁₀₀₁₃(t)  x₁₀₁₁₃(t)  x₁₀₂₁₃(t)     x₁₉₇₁₃(t)  x₁₉₈₁₃(t)  x₁₉₉₁₃(t)\n",
       "         ⋮                        ⋱                        \n",
       " x₁₀₀₈₉(t)  x₁₀₁₈₉(t)  x₁₀₂₈₉(t)     x₁₉₇₈₉(t)  x₁₉₈₈₉(t)  x₁₉₉₈₉(t)\n",
       " x₁₀₀₉₀(t)  x₁₀₁₉₀(t)  x₁₀₂₉₀(t)     x₁₉₇₉₀(t)  x₁₉₈₉₀(t)  x₁₉₉₉₀(t)\n",
       " x₁₀₀₉₁(t)  x₁₀₁₉₁(t)  x₁₀₂₉₁(t)  …  x₁₉₇₉₁(t)  x₁₉₈₉₁(t)  x₁₉₉₉₁(t)\n",
       " x₁₀₀₉₂(t)  x₁₀₁₉₂(t)  x₁₀₂₉₂(t)     x₁₉₇₉₂(t)  x₁₉₈₉₂(t)  x₁₉₉₉₂(t)\n",
       " x₁₀₀₉₃(t)  x₁₀₁₉₃(t)  x₁₀₂₉₃(t)     x₁₉₇₉₃(t)  x₁₉₈₉₃(t)  x₁₉₉₉₃(t)\n",
       " x₁₀₀₉₄(t)  x₁₀₁₉₄(t)  x₁₀₂₉₄(t)     x₁₉₇₉₄(t)  x₁₉₈₉₄(t)  x₁₉₉₉₄(t)\n",
       " x₁₀₀₉₅(t)  x₁₀₁₉₅(t)  x₁₀₂₉₅(t)     x₁₉₇₉₅(t)  x₁₉₈₉₅(t)  x₁₉₉₉₅(t)\n",
       " x₁₀₀₉₆(t)  x₁₀₁₉₆(t)  x₁₀₂₉₆(t)  …  x₁₉₇₉₆(t)  x₁₉₈₉₆(t)  x₁₉₉₉₆(t)\n",
       " x₁₀₀₉₇(t)  x₁₀₁₉₇(t)  x₁₀₂₉₇(t)     x₁₉₇₉₇(t)  x₁₉₈₉₇(t)  x₁₉₉₉₇(t)\n",
       " x₁₀₀₉₈(t)  x₁₀₁₉₈(t)  x₁₀₂₉₈(t)     x₁₉₇₉₈(t)  x₁₉₈₉₈(t)  x₁₉₉₉₈(t)\n",
       " x₁₀₀₉₉(t)  x₁₀₁₉₉(t)  x₁₀₂₉₉(t)     x₁₉₇₉₉(t)  x₁₉₈₉₉(t)  x₁₉₉₉₉(t)\n",
       " x₁₀₁₀₀(t)  x₁₀₂₀₀(t)  x₁₀₃₀₀(t)     x₁₉₈₀₀(t)  x₁₉₉₀₀(t)  x₂₀₀₀₀(t)\n",
       "\n",
       "[:, :, 3, 1] =\n",
       " x₂₀₀₀₁(t)  x₂₀₁₀₁(t)  x₂₀₂₀₁(t)  …  x₂₉₇₀₁(t)  x₂₉₈₀₁(t)  x₂₉₉₀₁(t)\n",
       " x₂₀₀₀₂(t)  x₂₀₁₀₂(t)  x₂₀₂₀₂(t)     x₂₉₇₀₂(t)  x₂₉₈₀₂(t)  x₂₉₉₀₂(t)\n",
       " x₂₀₀₀₃(t)  x₂₀₁₀₃(t)  x₂₀₂₀₃(t)     x₂₉₇₀₃(t)  x₂₉₈₀₃(t)  x₂₉₉₀₃(t)\n",
       " x₂₀₀₀₄(t)  x₂₀₁₀₄(t)  x₂₀₂₀₄(t)     x₂₉₇₀₄(t)  x₂₉₈₀₄(t)  x₂₉₉₀₄(t)\n",
       " x₂₀₀₀₅(t)  x₂₀₁₀₅(t)  x₂₀₂₀₅(t)     x₂₉₇₀₅(t)  x₂₉₈₀₅(t)  x₂₉₉₀₅(t)\n",
       " x₂₀₀₀₆(t)  x₂₀₁₀₆(t)  x₂₀₂₀₆(t)  …  x₂₉₇₀₆(t)  x₂₉₈₀₆(t)  x₂₉₉₀₆(t)\n",
       " x₂₀₀₀₇(t)  x₂₀₁₀₇(t)  x₂₀₂₀₇(t)     x₂₉₇₀₇(t)  x₂₉₈₀₇(t)  x₂₉₉₀₇(t)\n",
       " x₂₀₀₀₈(t)  x₂₀₁₀₈(t)  x₂₀₂₀₈(t)     x₂₉₇₀₈(t)  x₂₉₈₀₈(t)  x₂₉₉₀₈(t)\n",
       " x₂₀₀₀₉(t)  x₂₀₁₀₉(t)  x₂₀₂₀₉(t)     x₂₉₇₀₉(t)  x₂₉₈₀₉(t)  x₂₉₉₀₉(t)\n",
       " x₂₀₀₁₀(t)  x₂₀₁₁₀(t)  x₂₀₂₁₀(t)     x₂₉₇₁₀(t)  x₂₉₈₁₀(t)  x₂₉₉₁₀(t)\n",
       " x₂₀₀₁₁(t)  x₂₀₁₁₁(t)  x₂₀₂₁₁(t)  …  x₂₉₇₁₁(t)  x₂₉₈₁₁(t)  x₂₉₉₁₁(t)\n",
       " x₂₀₀₁₂(t)  x₂₀₁₁₂(t)  x₂₀₂₁₂(t)     x₂₉₇₁₂(t)  x₂₉₈₁₂(t)  x₂₉₉₁₂(t)\n",
       " x₂₀₀₁₃(t)  x₂₀₁₁₃(t)  x₂₀₂₁₃(t)     x₂₉₇₁₃(t)  x₂₉₈₁₃(t)  x₂₉₉₁₃(t)\n",
       "         ⋮                        ⋱                        \n",
       " x₂₀₀₈₉(t)  x₂₀₁₈₉(t)  x₂₀₂₈₉(t)     x₂₉₇₈₉(t)  x₂₉₈₈₉(t)  x₂₉₉₈₉(t)\n",
       " x₂₀₀₉₀(t)  x₂₀₁₉₀(t)  x₂₀₂₉₀(t)     x₂₉₇₉₀(t)  x₂₉₈₉₀(t)  x₂₉₉₉₀(t)\n",
       " x₂₀₀₉₁(t)  x₂₀₁₉₁(t)  x₂₀₂₉₁(t)  …  x₂₉₇₉₁(t)  x₂₉₈₉₁(t)  x₂₉₉₉₁(t)\n",
       " x₂₀₀₉₂(t)  x₂₀₁₉₂(t)  x₂₀₂₉₂(t)     x₂₉₇₉₂(t)  x₂₉₈₉₂(t)  x₂₉₉₉₂(t)\n",
       " x₂₀₀₉₃(t)  x₂₀₁₉₃(t)  x₂₀₂₉₃(t)     x₂₉₇₉₃(t)  x₂₉₈₉₃(t)  x₂₉₉₉₃(t)\n",
       " x₂₀₀₉₄(t)  x₂₀₁₉₄(t)  x₂₀₂₉₄(t)     x₂₉₇₉₄(t)  x₂₉₈₉₄(t)  x₂₉₉₉₄(t)\n",
       " x₂₀₀₉₅(t)  x₂₀₁₉₅(t)  x₂₀₂₉₅(t)     x₂₉₇₉₅(t)  x₂₉₈₉₅(t)  x₂₉₉₉₅(t)\n",
       " x₂₀₀₉₆(t)  x₂₀₁₉₆(t)  x₂₀₂₉₆(t)  …  x₂₉₇₉₆(t)  x₂₉₈₉₆(t)  x₂₉₉₉₆(t)\n",
       " x₂₀₀₉₇(t)  x₂₀₁₉₇(t)  x₂₀₂₉₇(t)     x₂₉₇₉₇(t)  x₂₉₈₉₇(t)  x₂₉₉₉₇(t)\n",
       " x₂₀₀₉₈(t)  x₂₀₁₉₈(t)  x₂₀₂₉₈(t)     x₂₉₇₉₈(t)  x₂₉₈₉₈(t)  x₂₉₉₉₈(t)\n",
       " x₂₀₀₉₉(t)  x₂₀₁₉₉(t)  x₂₀₂₉₉(t)     x₂₉₇₉₉(t)  x₂₉₈₉₉(t)  x₂₉₉₉₉(t)\n",
       " x₂₀₁₀₀(t)  x₂₀₂₀₀(t)  x₂₀₃₀₀(t)     x₂₉₈₀₀(t)  x₂₉₉₀₀(t)  x₃₀₀₀₀(t)\n",
       "\n",
       "...\n",
       "\n",
       "[:, :, 10, 1] =\n",
       " x₉₀₀₀₁(t)  x₉₀₁₀₁(t)  x₉₀₂₀₁(t)  …  x₉₉₇₀₁(t)  x₉₉₈₀₁(t)   x₉₉₉₀₁(t)\n",
       " x₉₀₀₀₂(t)  x₉₀₁₀₂(t)  x₉₀₂₀₂(t)     x₉₉₇₀₂(t)  x₉₉₈₀₂(t)   x₉₉₉₀₂(t)\n",
       " x₉₀₀₀₃(t)  x₉₀₁₀₃(t)  x₉₀₂₀₃(t)     x₉₉₇₀₃(t)  x₉₉₈₀₃(t)   x₉₉₉₀₃(t)\n",
       " x₉₀₀₀₄(t)  x₉₀₁₀₄(t)  x₉₀₂₀₄(t)     x₉₉₇₀₄(t)  x₉₉₈₀₄(t)   x₉₉₉₀₄(t)\n",
       " x₉₀₀₀₅(t)  x₉₀₁₀₅(t)  x₉₀₂₀₅(t)     x₉₉₇₀₅(t)  x₉₉₈₀₅(t)   x₉₉₉₀₅(t)\n",
       " x₉₀₀₀₆(t)  x₉₀₁₀₆(t)  x₉₀₂₀₆(t)  …  x₉₉₇₀₆(t)  x₉₉₈₀₆(t)   x₉₉₉₀₆(t)\n",
       " x₉₀₀₀₇(t)  x₉₀₁₀₇(t)  x₉₀₂₀₇(t)     x₉₉₇₀₇(t)  x₉₉₈₀₇(t)   x₉₉₉₀₇(t)\n",
       " x₉₀₀₀₈(t)  x₉₀₁₀₈(t)  x₉₀₂₀₈(t)     x₉₉₇₀₈(t)  x₉₉₈₀₈(t)   x₉₉₉₀₈(t)\n",
       " x₉₀₀₀₉(t)  x₉₀₁₀₉(t)  x₉₀₂₀₉(t)     x₉₉₇₀₉(t)  x₉₉₈₀₉(t)   x₉₉₉₀₉(t)\n",
       " x₉₀₀₁₀(t)  x₉₀₁₁₀(t)  x₉₀₂₁₀(t)     x₉₉₇₁₀(t)  x₉₉₈₁₀(t)   x₉₉₉₁₀(t)\n",
       " x₉₀₀₁₁(t)  x₉₀₁₁₁(t)  x₉₀₂₁₁(t)  …  x₉₉₇₁₁(t)  x₉₉₈₁₁(t)   x₉₉₉₁₁(t)\n",
       " x₉₀₀₁₂(t)  x₉₀₁₁₂(t)  x₉₀₂₁₂(t)     x₉₉₇₁₂(t)  x₉₉₈₁₂(t)   x₉₉₉₁₂(t)\n",
       " x₉₀₀₁₃(t)  x₉₀₁₁₃(t)  x₉₀₂₁₃(t)     x₉₉₇₁₃(t)  x₉₉₈₁₃(t)   x₉₉₉₁₃(t)\n",
       "         ⋮                        ⋱                        \n",
       " x₉₀₀₈₉(t)  x₉₀₁₈₉(t)  x₉₀₂₈₉(t)     x₉₉₇₈₉(t)  x₉₉₈₈₉(t)   x₉₉₉₈₉(t)\n",
       " x₉₀₀₉₀(t)  x₉₀₁₉₀(t)  x₉₀₂₉₀(t)     x₉₉₇₉₀(t)  x₉₉₈₉₀(t)   x₉₉₉₉₀(t)\n",
       " x₉₀₀₉₁(t)  x₉₀₁₉₁(t)  x₉₀₂₉₁(t)  …  x₉₉₇₉₁(t)  x₉₉₈₉₁(t)   x₉₉₉₉₁(t)\n",
       " x₉₀₀₉₂(t)  x₉₀₁₉₂(t)  x₉₀₂₉₂(t)     x₉₉₇₉₂(t)  x₉₉₈₉₂(t)   x₉₉₉₉₂(t)\n",
       " x₉₀₀₉₃(t)  x₉₀₁₉₃(t)  x₉₀₂₉₃(t)     x₉₉₇₉₃(t)  x₉₉₈₉₃(t)   x₉₉₉₉₃(t)\n",
       " x₉₀₀₉₄(t)  x₉₀₁₉₄(t)  x₉₀₂₉₄(t)     x₉₉₇₉₄(t)  x₉₉₈₉₄(t)   x₉₉₉₉₄(t)\n",
       " x₉₀₀₉₅(t)  x₉₀₁₉₅(t)  x₉₀₂₉₅(t)     x₉₉₇₉₅(t)  x₉₉₈₉₅(t)   x₉₉₉₉₅(t)\n",
       " x₉₀₀₉₆(t)  x₉₀₁₉₆(t)  x₉₀₂₉₆(t)  …  x₉₉₇₉₆(t)  x₉₉₈₉₆(t)   x₉₉₉₉₆(t)\n",
       " x₉₀₀₉₇(t)  x₉₀₁₉₇(t)  x₉₀₂₉₇(t)     x₉₉₇₉₇(t)  x₉₉₈₉₇(t)   x₉₉₉₉₇(t)\n",
       " x₉₀₀₉₈(t)  x₉₀₁₉₈(t)  x₉₀₂₉₈(t)     x₉₉₇₉₈(t)  x₉₉₈₉₈(t)   x₉₉₉₉₈(t)\n",
       " x₉₀₀₉₉(t)  x₉₀₁₉₉(t)  x₉₀₂₉₉(t)     x₉₉₇₉₉(t)  x₉₉₈₉₉(t)   x₉₉₉₉₉(t)\n",
       " x₉₀₁₀₀(t)  x₉₀₂₀₀(t)  x₉₀₃₀₀(t)     x₉₉₈₀₀(t)  x₉₉₉₀₀(t)  x₁₀₀₀₀₀(t)\n",
       "\n",
       "[:, :, 11, 1] =\n",
       " x₁₀₀₀₀₁(t)  x₁₀₀₁₀₁(t)  x₁₀₀₂₀₁(t)  …  x₁₀₉₇₀₁(t)  x₁₀₉₈₀₁(t)  x₁₀₉₉₀₁(t)\n",
       " x₁₀₀₀₀₂(t)  x₁₀₀₁₀₂(t)  x₁₀₀₂₀₂(t)     x₁₀₉₇₀₂(t)  x₁₀₉₈₀₂(t)  x₁₀₉₉₀₂(t)\n",
       " x₁₀₀₀₀₃(t)  x₁₀₀₁₀₃(t)  x₁₀₀₂₀₃(t)     x₁₀₉₇₀₃(t)  x₁₀₉₈₀₃(t)  x₁₀₉₉₀₃(t)\n",
       " x₁₀₀₀₀₄(t)  x₁₀₀₁₀₄(t)  x₁₀₀₂₀₄(t)     x₁₀₉₇₀₄(t)  x₁₀₉₈₀₄(t)  x₁₀₉₉₀₄(t)\n",
       " x₁₀₀₀₀₅(t)  x₁₀₀₁₀₅(t)  x₁₀₀₂₀₅(t)     x₁₀₉₇₀₅(t)  x₁₀₉₈₀₅(t)  x₁₀₉₉₀₅(t)\n",
       " x₁₀₀₀₀₆(t)  x₁₀₀₁₀₆(t)  x₁₀₀₂₀₆(t)  …  x₁₀₉₇₀₆(t)  x₁₀₉₈₀₆(t)  x₁₀₉₉₀₆(t)\n",
       " x₁₀₀₀₀₇(t)  x₁₀₀₁₀₇(t)  x₁₀₀₂₀₇(t)     x₁₀₉₇₀₇(t)  x₁₀₉₈₀₇(t)  x₁₀₉₉₀₇(t)\n",
       " x₁₀₀₀₀₈(t)  x₁₀₀₁₀₈(t)  x₁₀₀₂₀₈(t)     x₁₀₉₇₀₈(t)  x₁₀₉₈₀₈(t)  x₁₀₉₉₀₈(t)\n",
       " x₁₀₀₀₀₉(t)  x₁₀₀₁₀₉(t)  x₁₀₀₂₀₉(t)     x₁₀₉₇₀₉(t)  x₁₀₉₈₀₉(t)  x₁₀₉₉₀₉(t)\n",
       " x₁₀₀₀₁₀(t)  x₁₀₀₁₁₀(t)  x₁₀₀₂₁₀(t)     x₁₀₉₇₁₀(t)  x₁₀₉₈₁₀(t)  x₁₀₉₉₁₀(t)\n",
       " x₁₀₀₀₁₁(t)  x₁₀₀₁₁₁(t)  x₁₀₀₂₁₁(t)  …  x₁₀₉₇₁₁(t)  x₁₀₉₈₁₁(t)  x₁₀₉₉₁₁(t)\n",
       " x₁₀₀₀₁₂(t)  x₁₀₀₁₁₂(t)  x₁₀₀₂₁₂(t)     x₁₀₉₇₁₂(t)  x₁₀₉₈₁₂(t)  x₁₀₉₉₁₂(t)\n",
       " x₁₀₀₀₁₃(t)  x₁₀₀₁₁₃(t)  x₁₀₀₂₁₃(t)     x₁₀₉₇₁₃(t)  x₁₀₉₈₁₃(t)  x₁₀₉₉₁₃(t)\n",
       "          ⋮                          ⋱                          \n",
       " x₁₀₀₀₈₉(t)  x₁₀₀₁₈₉(t)  x₁₀₀₂₈₉(t)     x₁₀₉₇₈₉(t)  x₁₀₉₈₈₉(t)  x₁₀₉₉₈₉(t)\n",
       " x₁₀₀₀₉₀(t)  x₁₀₀₁₉₀(t)  x₁₀₀₂₉₀(t)     x₁₀₉₇₉₀(t)  x₁₀₉₈₉₀(t)  x₁₀₉₉₉₀(t)\n",
       " x₁₀₀₀₉₁(t)  x₁₀₀₁₉₁(t)  x₁₀₀₂₉₁(t)  …  x₁₀₉₇₉₁(t)  x₁₀₉₈₉₁(t)  x₁₀₉₉₉₁(t)\n",
       " x₁₀₀₀₉₂(t)  x₁₀₀₁₉₂(t)  x₁₀₀₂₉₂(t)     x₁₀₉₇₉₂(t)  x₁₀₉₈₉₂(t)  x₁₀₉₉₉₂(t)\n",
       " x₁₀₀₀₉₃(t)  x₁₀₀₁₉₃(t)  x₁₀₀₂₉₃(t)     x₁₀₉₇₉₃(t)  x₁₀₉₈₉₃(t)  x₁₀₉₉₉₃(t)\n",
       " x₁₀₀₀₉₄(t)  x₁₀₀₁₉₄(t)  x₁₀₀₂₉₄(t)     x₁₀₉₇₉₄(t)  x₁₀₉₈₉₄(t)  x₁₀₉₉₉₄(t)\n",
       " x₁₀₀₀₉₅(t)  x₁₀₀₁₉₅(t)  x₁₀₀₂₉₅(t)     x₁₀₉₇₉₅(t)  x₁₀₉₈₉₅(t)  x₁₀₉₉₉₅(t)\n",
       " x₁₀₀₀₉₆(t)  x₁₀₀₁₉₆(t)  x₁₀₀₂₉₆(t)  …  x₁₀₉₇₉₆(t)  x₁₀₉₈₉₆(t)  x₁₀₉₉₉₆(t)\n",
       " x₁₀₀₀₉₇(t)  x₁₀₀₁₉₇(t)  x₁₀₀₂₉₇(t)     x₁₀₉₇₉₇(t)  x₁₀₉₈₉₇(t)  x₁₀₉₉₉₇(t)\n",
       " x₁₀₀₀₉₈(t)  x₁₀₀₁₉₈(t)  x₁₀₀₂₉₈(t)     x₁₀₉₇₉₈(t)  x₁₀₉₈₉₈(t)  x₁₀₉₉₉₈(t)\n",
       " x₁₀₀₀₉₉(t)  x₁₀₀₁₉₉(t)  x₁₀₀₂₉₉(t)     x₁₀₉₇₉₉(t)  x₁₀₉₈₉₉(t)  x₁₀₉₉₉₉(t)\n",
       " x₁₀₀₁₀₀(t)  x₁₀₀₂₀₀(t)  x₁₀₀₃₀₀(t)     x₁₀₉₈₀₀(t)  x₁₀₉₉₀₀(t)  x₁₁₀₀₀₀(t)\n",
       "\n",
       "[:, :, 12, 1] =\n",
       " x₁₁₀₀₀₁(t)  x₁₁₀₁₀₁(t)  x₁₁₀₂₀₁(t)  …  x₁₁₉₇₀₁(t)  x₁₁₉₈₀₁(t)  x₁₁₉₉₀₁(t)\n",
       " x₁₁₀₀₀₂(t)  x₁₁₀₁₀₂(t)  x₁₁₀₂₀₂(t)     x₁₁₉₇₀₂(t)  x₁₁₉₈₀₂(t)  x₁₁₉₉₀₂(t)\n",
       " x₁₁₀₀₀₃(t)  x₁₁₀₁₀₃(t)  x₁₁₀₂₀₃(t)     x₁₁₉₇₀₃(t)  x₁₁₉₈₀₃(t)  x₁₁₉₉₀₃(t)\n",
       " x₁₁₀₀₀₄(t)  x₁₁₀₁₀₄(t)  x₁₁₀₂₀₄(t)     x₁₁₉₇₀₄(t)  x₁₁₉₈₀₄(t)  x₁₁₉₉₀₄(t)\n",
       " x₁₁₀₀₀₅(t)  x₁₁₀₁₀₅(t)  x₁₁₀₂₀₅(t)     x₁₁₉₇₀₅(t)  x₁₁₉₈₀₅(t)  x₁₁₉₉₀₅(t)\n",
       " x₁₁₀₀₀₆(t)  x₁₁₀₁₀₆(t)  x₁₁₀₂₀₆(t)  …  x₁₁₉₇₀₆(t)  x₁₁₉₈₀₆(t)  x₁₁₉₉₀₆(t)\n",
       " x₁₁₀₀₀₇(t)  x₁₁₀₁₀₇(t)  x₁₁₀₂₀₇(t)     x₁₁₉₇₀₇(t)  x₁₁₉₈₀₇(t)  x₁₁₉₉₀₇(t)\n",
       " x₁₁₀₀₀₈(t)  x₁₁₀₁₀₈(t)  x₁₁₀₂₀₈(t)     x₁₁₉₇₀₈(t)  x₁₁₉₈₀₈(t)  x₁₁₉₉₀₈(t)\n",
       " x₁₁₀₀₀₉(t)  x₁₁₀₁₀₉(t)  x₁₁₀₂₀₉(t)     x₁₁₉₇₀₉(t)  x₁₁₉₈₀₉(t)  x₁₁₉₉₀₉(t)\n",
       " x₁₁₀₀₁₀(t)  x₁₁₀₁₁₀(t)  x₁₁₀₂₁₀(t)     x₁₁₉₇₁₀(t)  x₁₁₉₈₁₀(t)  x₁₁₉₉₁₀(t)\n",
       " x₁₁₀₀₁₁(t)  x₁₁₀₁₁₁(t)  x₁₁₀₂₁₁(t)  …  x₁₁₉₇₁₁(t)  x₁₁₉₈₁₁(t)  x₁₁₉₉₁₁(t)\n",
       " x₁₁₀₀₁₂(t)  x₁₁₀₁₁₂(t)  x₁₁₀₂₁₂(t)     x₁₁₉₇₁₂(t)  x₁₁₉₈₁₂(t)  x₁₁₉₉₁₂(t)\n",
       " x₁₁₀₀₁₃(t)  x₁₁₀₁₁₃(t)  x₁₁₀₂₁₃(t)     x₁₁₉₇₁₃(t)  x₁₁₉₈₁₃(t)  x₁₁₉₉₁₃(t)\n",
       "          ⋮                          ⋱                          \n",
       " x₁₁₀₀₈₉(t)  x₁₁₀₁₈₉(t)  x₁₁₀₂₈₉(t)     x₁₁₉₇₈₉(t)  x₁₁₉₈₈₉(t)  x₁₁₉₉₈₉(t)\n",
       " x₁₁₀₀₉₀(t)  x₁₁₀₁₉₀(t)  x₁₁₀₂₉₀(t)     x₁₁₉₇₉₀(t)  x₁₁₉₈₉₀(t)  x₁₁₉₉₉₀(t)\n",
       " x₁₁₀₀₉₁(t)  x₁₁₀₁₉₁(t)  x₁₁₀₂₉₁(t)  …  x₁₁₉₇₉₁(t)  x₁₁₉₈₉₁(t)  x₁₁₉₉₉₁(t)\n",
       " x₁₁₀₀₉₂(t)  x₁₁₀₁₉₂(t)  x₁₁₀₂₉₂(t)     x₁₁₉₇₉₂(t)  x₁₁₉₈₉₂(t)  x₁₁₉₉₉₂(t)\n",
       " x₁₁₀₀₉₃(t)  x₁₁₀₁₉₃(t)  x₁₁₀₂₉₃(t)     x₁₁₉₇₉₃(t)  x₁₁₉₈₉₃(t)  x₁₁₉₉₉₃(t)\n",
       " x₁₁₀₀₉₄(t)  x₁₁₀₁₉₄(t)  x₁₁₀₂₉₄(t)     x₁₁₉₇₉₄(t)  x₁₁₉₈₉₄(t)  x₁₁₉₉₉₄(t)\n",
       " x₁₁₀₀₉₅(t)  x₁₁₀₁₉₅(t)  x₁₁₀₂₉₅(t)     x₁₁₉₇₉₅(t)  x₁₁₉₈₉₅(t)  x₁₁₉₉₉₅(t)\n",
       " x₁₁₀₀₉₆(t)  x₁₁₀₁₉₆(t)  x₁₁₀₂₉₆(t)  …  x₁₁₉₇₉₆(t)  x₁₁₉₈₉₆(t)  x₁₁₉₉₉₆(t)\n",
       " x₁₁₀₀₉₇(t)  x₁₁₀₁₉₇(t)  x₁₁₀₂₉₇(t)     x₁₁₉₇₉₇(t)  x₁₁₉₈₉₇(t)  x₁₁₉₉₉₇(t)\n",
       " x₁₁₀₀₉₈(t)  x₁₁₀₁₉₈(t)  x₁₁₀₂₉₈(t)     x₁₁₉₇₉₈(t)  x₁₁₉₈₉₈(t)  x₁₁₉₉₉₈(t)\n",
       " x₁₁₀₀₉₉(t)  x₁₁₀₁₉₉(t)  x₁₁₀₂₉₉(t)     x₁₁₉₇₉₉(t)  x₁₁₉₈₉₉(t)  x₁₁₉₉₉₉(t)\n",
       " x₁₁₀₁₀₀(t)  x₁₁₀₂₀₀(t)  x₁₁₀₃₀₀(t)     x₁₁₉₈₀₀(t)  x₁₁₉₉₀₀(t)  x₁₂₀₀₀₀(t)"
      ]
     },
     "execution_count": 31,
     "metadata": {},
     "output_type": "execute_result"
    }
   ],
   "source": [
    " vars = reshape([Variable(:x, i)(t) for i in eachindex(prob.u0)],size(prob.u0))\n",
    "   "
   ]
  },
  {
   "cell_type": "code",
   "execution_count": 38,
   "metadata": {},
   "outputs": [
    {
     "ename": "MethodError",
     "evalue": "MethodError: no method matching size(::NamedTuple{(:K, :δ_v, :δ_c, :δ_m, :δ_z, :δ_s, :σ_1, :C_1, :C_2, :σ_2, :γ, :α, :ϕ, :Γ, :v_21, :μ, :ν, :n, :att, :η_p, :η_m, :λ, :a_23_ex, :a_23_in, :v12_6, :v12_4, :ψ, :C_AB_l, :H_σ_x, :H_σ_y, :H_fact, :H_l, :T_fact, :T_p_m, :T_v2_fact, :H_size, :W_size, :lgn_equ_u, :lgn_equ_A, :lgn_equ_B, :filling, :W_l, :k_gauss_1, :k_gauss_2, :k_C_d, :k_C_b, :k_x_lgn, :k_W_p, :k_W_m, :k_H, :k_T_p, :k_T_m, :k_T_p_v2, :k_T_m_v2, :dim_i, :dim_j, :x_V2, :ν_pw_n, :I, :r),Tuple{Int64,Float32,Float32,Float32,Float32,Float32,Float32,Float32,Float32,Float32,Float32,Float32,Float32,Float32,Float32,Float32,Float32,Float32,Float32,Float32,Float32,Float32,Float32,Float32,Float32,Float32,Float32,Int64,Float32,Float32,Float32,Int64,Array{Float32,1},Float32,Float32,Int64,Int64,Float32,Float32,Float32,String,Int64,CuArray{Float32,4,Nothing},CuArray{Float32,4,Nothing},CuArray{Float32,4,Nothing},CuArray{Float32,4,Nothing},CuArray{Float32,4,Nothing},CuArray{Float32,4,Nothing},CuArray{Float32,4,Nothing},CuArray{Float32,4,Nothing},CuArray{Float32,4,Nothing},CuArray{Float32,4,Nothing},CuArray{Float32,4,Nothing},CuArray{Float32,4,Nothing},Int64,Int64,CuArray{Float32,4,Nothing},Float32,CuArray{Float32,4,Nothing},CuArray{Float32,4,Nothing}}})\nClosest candidates are:\n  size(!Matched::BitArray{1}) at bitarray.jl:99\n  size(!Matched::BitArray{1}, !Matched::Integer) at bitarray.jl:103\n  size(!Matched::Core.Compiler.StmtRange) at show.jl:1845\n  ...",
     "output_type": "error",
     "traceback": [
      "MethodError: no method matching size(::NamedTuple{(:K, :δ_v, :δ_c, :δ_m, :δ_z, :δ_s, :σ_1, :C_1, :C_2, :σ_2, :γ, :α, :ϕ, :Γ, :v_21, :μ, :ν, :n, :att, :η_p, :η_m, :λ, :a_23_ex, :a_23_in, :v12_6, :v12_4, :ψ, :C_AB_l, :H_σ_x, :H_σ_y, :H_fact, :H_l, :T_fact, :T_p_m, :T_v2_fact, :H_size, :W_size, :lgn_equ_u, :lgn_equ_A, :lgn_equ_B, :filling, :W_l, :k_gauss_1, :k_gauss_2, :k_C_d, :k_C_b, :k_x_lgn, :k_W_p, :k_W_m, :k_H, :k_T_p, :k_T_m, :k_T_p_v2, :k_T_m_v2, :dim_i, :dim_j, :x_V2, :ν_pw_n, :I, :r),Tuple{Int64,Float32,Float32,Float32,Float32,Float32,Float32,Float32,Float32,Float32,Float32,Float32,Float32,Float32,Float32,Float32,Float32,Float32,Float32,Float32,Float32,Float32,Float32,Float32,Float32,Float32,Float32,Int64,Float32,Float32,Float32,Int64,Array{Float32,1},Float32,Float32,Int64,Int64,Float32,Float32,Float32,String,Int64,CuArray{Float32,4,Nothing},CuArray{Float32,4,Nothing},CuArray{Float32,4,Nothing},CuArray{Float32,4,Nothing},CuArray{Float32,4,Nothing},CuArray{Float32,4,Nothing},CuArray{Float32,4,Nothing},CuArray{Float32,4,Nothing},CuArray{Float32,4,Nothing},CuArray{Float32,4,Nothing},CuArray{Float32,4,Nothing},CuArray{Float32,4,Nothing},Int64,Int64,CuArray{Float32,4,Nothing},Float32,CuArray{Float32,4,Nothing},CuArray{Float32,4,Nothing}}})\nClosest candidates are:\n  size(!Matched::BitArray{1}) at bitarray.jl:99\n  size(!Matched::BitArray{1}, !Matched::Integer) at bitarray.jl:103\n  size(!Matched::Core.Compiler.StmtRange) at show.jl:1845\n  ...",
      "",
      "Stacktrace:",
      " [1] top-level scope at In[38]:1"
     ]
    }
   ],
   "source": [
    " params =  reshape([Variable(i)() for i in eachindex(prob.p)],size(prob.p))\n",
    "  "
   ]
  },
  {
   "cell_type": "code",
   "execution_count": 32,
   "metadata": {},
   "outputs": [
    {
     "data": {
      "text/plain": [
       "60-element Array{Operation,1}:\n",
       "  α₁\n",
       "  α₂\n",
       "  α₃\n",
       "  α₄\n",
       "  α₅\n",
       "  α₆\n",
       "  α₇\n",
       "  α₈\n",
       "  α₉\n",
       " α₁₀\n",
       " α₁₁\n",
       " α₁₂\n",
       " α₁₃\n",
       "   ⋮\n",
       " α₄₉\n",
       " α₅₀\n",
       " α₅₁\n",
       " α₅₂\n",
       " α₅₃\n",
       " α₅₄\n",
       " α₅₅\n",
       " α₅₆\n",
       " α₅₇\n",
       " α₅₈\n",
       " α₅₉\n",
       " α₆₀"
      ]
     },
     "execution_count": 32,
     "metadata": {},
     "output_type": "execute_result"
    }
   ],
   "source": [
    " params =  reshape([Variable(:α,i)() for i in eachindex(collect(keys(prob.p)))],size(collect(keys(prob.p))))\n",
    "  "
   ]
  },
  {
   "cell_type": "code",
   "execution_count": 37,
   "metadata": {},
   "outputs": [
    {
     "data": {
      "text/plain": [
       "α₁ˏ₁"
      ]
     },
     "execution_count": 37,
     "metadata": {},
     "output_type": "execute_result"
    }
   ],
   "source": [
    "Variable(:α,1,1)"
   ]
  },
  {
   "cell_type": "code",
   "execution_count": 31,
   "metadata": {},
   "outputs": [
    {
     "data": {
      "text/plain": [
       "NamedTuple{(:K, :δ_v, :δ_c, :δ_m, :δ_z, :δ_s, :σ_1, :C_1, :C_2, :σ_2, :γ, :α, :ϕ, :Γ, :v_21, :μ, :ν, :n, :att, :η_p, :η_m, :λ, :a_23_ex, :a_23_in, :v12_6, :v12_4, :ψ, :C_AB_l, :H_σ_x, :H_σ_y, :H_fact, :H_l, :T_fact, :T_p_m, :T_v2_fact, :H_size, :W_size, :lgn_equ_u, :lgn_equ_A, :lgn_equ_B, :filling, :W_l, :k_gauss_1, :k_gauss_2, :k_C_d, :k_C_b, :k_x_lgn, :k_W_p, :k_W_m, :k_H, :k_T_p, :k_T_m, :k_T_p_v2, :k_T_m_v2, :dim_i, :dim_j, :x_V2, :ν_pw_n, :I, :r),Tuple{Int64,Float32,Float32,Float32,Float32,Float32,Float32,Float32,Float32,Float32,Float32,Float32,Float32,Float32,Float32,Float32,Float32,Float32,Float32,Float32,Float32,Float32,Float32,Float32,Float32,Float32,Float32,Int64,Float32,Float32,Float32,Int64,Array{Float32,1},Float32,Float32,Int64,Int64,Float32,Float32,Float32,String,Int64,CuArray{Float32,4,Nothing},CuArray{Float32,4,Nothing},CuArray{Float32,4,Nothing},CuArray{Float32,4,Nothing},CuArray{Float32,4,Nothing},CuArray{Float32,4,Nothing},CuArray{Float32,4,Nothing},CuArray{Float32,4,Nothing},CuArray{Float32,4,Nothing},CuArray{Float32,4,Nothing},CuArray{Float32,4,Nothing},CuArray{Float32,4,Nothing},Int64,Int64,CuArray{Float32,4,Nothing},Float32,CuArray{Float32,4,Nothing},CuArray{Float32,4,Nothing}}}"
      ]
     },
     "execution_count": 31,
     "metadata": {},
     "output_type": "execute_result"
    }
   ],
   "source": [
    "typeof(prob.p)"
   ]
  },
  {
   "cell_type": "code",
   "execution_count": 35,
   "metadata": {},
   "outputs": [
    {
     "name": "stdout",
     "output_type": "stream",
     "text": [
      "K\n",
      "δ_v\n",
      "δ_c\n",
      "δ_m\n",
      "δ_z\n",
      "δ_s\n",
      "σ_1\n",
      "C_1\n",
      "C_2\n",
      "σ_2\n",
      "γ\n",
      "α\n",
      "ϕ\n",
      "Γ\n",
      "v_21\n",
      "μ\n",
      "ν\n",
      "n\n",
      "att\n",
      "η_p\n",
      "η_m\n",
      "λ\n",
      "a_23_ex\n",
      "a_23_in\n",
      "v12_6\n",
      "v12_4\n",
      "ψ\n",
      "C_AB_l\n",
      "H_σ_x\n",
      "H_σ_y\n",
      "H_fact\n",
      "H_l\n",
      "T_fact\n",
      "T_p_m\n",
      "T_v2_fact\n",
      "H_size\n",
      "W_size\n",
      "lgn_equ_u\n",
      "lgn_equ_A\n",
      "lgn_equ_B\n",
      "filling\n",
      "W_l\n",
      "k_gauss_1\n",
      "k_gauss_2\n",
      "k_C_d\n",
      "k_C_b\n",
      "k_x_lgn\n",
      "k_W_p\n",
      "k_W_m\n",
      "k_H\n",
      "k_T_p\n",
      "k_T_m\n",
      "k_T_p_v2\n",
      "k_T_m_v2\n",
      "dim_i\n",
      "dim_j\n",
      "x_V2\n",
      "ν_pw_n\n",
      "I\n",
      "r\n"
     ]
    }
   ],
   "source": [
    "for i in eachindex(prob.p)\n",
    "    println(i)\n",
    "end"
   ]
  },
  {
   "cell_type": "code",
   "execution_count": 40,
   "metadata": {},
   "outputs": [
    {
     "data": {
      "text/plain": [
       "60-element Array{Symbol,1}:\n",
       " :K\n",
       " :δ_v\n",
       " :δ_c\n",
       " :δ_m\n",
       " :δ_z\n",
       " :δ_s\n",
       " :σ_1\n",
       " :C_1\n",
       " :C_2\n",
       " :σ_2\n",
       " :γ\n",
       " :α\n",
       " :ϕ\n",
       " ⋮\n",
       " :k_W_m\n",
       " :k_H\n",
       " :k_T_p\n",
       " :k_T_m\n",
       " :k_T_p_v2\n",
       " :k_T_m_v2\n",
       " :dim_i\n",
       " :dim_j\n",
       " :x_V2\n",
       " :ν_pw_n\n",
       " :I\n",
       " :r"
      ]
     },
     "execution_count": 40,
     "metadata": {},
     "output_type": "execute_result"
    }
   ],
   "source": [
    "collect(keys(prob.p))"
   ]
  },
  {
   "cell_type": "code",
   "execution_count": 34,
   "metadata": {},
   "outputs": [
    {
     "data": {
      "text/plain": [
       "(K = 2, δ_v = 1.25f0, δ_c = 0.25f0, δ_m = 0.01875f0, δ_z = 0.125f0, δ_s = 2.5f0, σ_1 = 1.0f0, C_1 = 1.5f0, C_2 = 0.075f0, σ_2 = 0.5f0, γ = 10.0f0, α = 0.5f0, ϕ = 2.0f0, Γ = 0.2f0, v_21 = 0.0f0, μ = 2.0f0, ν = 1.1f0, n = 6.0f0, att = 0.0f0, η_p = 2.1f0, η_m = 1.5f0, λ = 1.5f0, a_23_ex = 3.0f0, a_23_in = 0.5f0, v12_6 = 1.0f0, v12_4 = 5.0f0, ψ = 0.5f0, C_AB_l = 5, H_σ_x = 3.0f0, H_σ_y = 4.0f0, H_fact = 5.0f0, H_l = 19, T_fact = Float32[0.87, 0.13], T_p_m = 0.302f0, T_v2_fact = 0.625f0, H_size = 19, W_size = 19, lgn_equ_u = 1.0f0, lgn_equ_A = 0.0f0, lgn_equ_B = 0.0f0, filling = \"circular\", W_l = 19, k_gauss_1 = Float32[0.0029690173 0.013306212 … 0.013306212 0.0029690173; 0.013306212 0.059634306 … 0.059634306 0.013306212; … ; 0.013306212 0.059634306 … 0.059634306 0.013306212; 0.0029690173 0.013306212 … 0.013306212 0.0029690173], k_gauss_2 = Float32[6.9624775f-8 2.808864f-5 … 2.808864f-5 6.9624775f-8; 2.808864f-5 0.011331766 … 0.011331766 2.808864f-5; … ; 2.808864f-5 0.011331766 … 0.011331766 2.808864f-5; 6.9624775f-8 2.808864f-5 … 2.808864f-5 6.9624775f-8], k_C_d = Float32[0.124950476 0.04048735 … -0.04048735 -0.124950476; 0.124950476 0.04048735 … -0.04048735 -0.124950476; … ; 0.124950476 0.04048735 … -0.04048735 -0.124950476; 0.124950476 0.04048735 … -0.04048735 -0.124950476]\n",
       "\n",
       "Float32[0.12495046 0.12495046 … 0.124950476 0.12495049; 0.040487345 0.040487345 … 0.04048735 0.040487353; … ; -0.040487353 -0.04048735 … -0.040487345 -0.040487345; -0.12495049 -0.124950476 … -0.12495046 -0.12495046], k_C_b = Float32[0.124950476 0.04048735 … 0.04048735 0.124950476; 0.124950476 0.04048735 … 0.04048735 0.124950476; … ; 0.124950476 0.04048735 … 0.04048735 0.124950476; 0.124950476 0.04048735 … 0.04048735 0.124950476]\n",
       "\n",
       "Float32[0.12495046 0.12495046 … 0.124950476 0.12495049; 0.040487345 0.040487345 … 0.04048735 0.040487353; … ; 0.040487353 0.04048735 … 0.040487345 0.040487345; 0.12495049 0.124950476 … 0.12495046 0.12495046], k_x_lgn = Float32[1.0]\n",
       "\n",
       "Float32[1.0], k_W_p = Float32[1.2139208f-30 7.1148203f-25 … 7.1148203f-25 1.2139208f-30; 3.1214517f-30 1.8294907f-24 … 1.8294907f-24 3.1214517f-30; … ; 3.1214517f-30 1.8294907f-24 … 1.8294907f-24 3.1214517f-30; 1.2139208f-30 7.1148203f-25 … 7.1148203f-25 1.2139208f-30]\n",
       "\n",
       "Float32[0.2 0.2 … 0.2 0.2; 0.2 0.2 … 0.2 0.2; … ; 0.2 0.2 … 0.2 0.2; 0.2 0.2 … 0.2 0.2]\n",
       "\n",
       "Float32[0.2 0.2 … 0.2 0.2; 0.2 0.2 … 0.2 0.2; … ; 0.2 0.2 … 0.2 0.2; 0.2 0.2 … 0.2 0.2]\n",
       "\n",
       "Float32[1.2139208f-30 3.1214517f-30 … 3.1214517f-30 1.2139208f-30; 7.114875f-25 1.8295047f-24 … 1.8294976f-24 7.1148203f-25; … ; 7.1148203f-25 1.8294976f-24 … 1.8295047f-24 7.114875f-25; 1.2139208f-30 3.1214517f-30 … 3.1214517f-30 1.2139208f-30], k_W_m = Float32[1.2139208f-30 7.1148203f-25 … 7.1148203f-25 1.2139208f-30; 3.1214517f-30 1.8294907f-24 … 1.8294907f-24 3.1214517f-30; … ; 3.1214517f-30 1.8294907f-24 … 1.8294907f-24 3.1214517f-30; 1.2139208f-30 7.1148203f-25 … 7.1148203f-25 1.2139208f-30]\n",
       "\n",
       "Float32[0.2 0.2 … 0.2 0.2; 0.2 0.2 … 0.2 0.2; … ; 0.2 0.2 … 0.2 0.2; 0.2 0.2 … 0.2 0.2]\n",
       "\n",
       "Float32[0.2 0.2 … 0.2 0.2; 0.2 0.2 … 0.2 0.2; … ; 0.2 0.2 … 0.2 0.2; 0.2 0.2 … 0.2 0.2]\n",
       "\n",
       "Float32[1.2139208f-30 3.1214517f-30 … 3.1214517f-30 1.2139208f-30; 7.114875f-25 1.8295047f-24 … 1.8294976f-24 7.1148203f-25; … ; 7.1148203f-25 1.8294976f-24 … 1.8295047f-24 7.114875f-25; 1.2139208f-30 3.1214517f-30 … 3.1214517f-30 1.2139208f-30], k_H = Float32[5.9727277f-5 0.00010159952 … 0.00010159952 5.9727277f-5; 0.00015358177 0.00026125138 … 0.00026125138 0.00015358177; … ; 0.00015358177 0.00026125138 … 0.00026125138 0.00015358177; 5.9727277f-5 0.00010159952 … 0.00010159952 5.9727277f-5]\n",
       "\n",
       "Float32[0.0 0.0 … 0.0 0.0; 0.0 0.0 … 0.0 0.0; … ; 0.0 0.0 … 0.0 0.0; 0.0 0.0 … 0.0 0.0]\n",
       "\n",
       "Float32[0.0 0.0 … 0.0 0.0; 0.0 0.0 … 0.0 0.0; … ; 0.0 0.0 … 0.0 0.0; 0.0 0.0 … 0.0 0.0]\n",
       "\n",
       "Float32[5.9727266f-5 0.00015358173 … 0.00015358179 5.9727266f-5; 0.0001015995 0.00026125144 … 0.00026125144 0.0001015995; … ; 0.0001015995 0.00026125144 … 0.00026125144 0.0001015995; 5.9727266f-5 0.00015358179 … 0.00015358173 5.9727266f-5], k_T_p = Float32[0.87]\n",
       "\n",
       "Float32[0.13]\n",
       "\n",
       "Float32[0.13]\n",
       "\n",
       "Float32[0.87], k_T_m = Float32[0.26274]\n",
       "\n",
       "Float32[0.039259996]\n",
       "\n",
       "Float32[0.039259996]\n",
       "\n",
       "Float32[0.26274], k_T_p_v2 = Float32[0.54375]\n",
       "\n",
       "Float32[0.08125]\n",
       "\n",
       "Float32[0.08125]\n",
       "\n",
       "Float32[0.54375], k_T_m_v2 = Float32[0.1642125]\n",
       "\n",
       "Float32[0.024537498]\n",
       "\n",
       "Float32[0.024537498]\n",
       "\n",
       "Float32[0.1642125], dim_i = 100, dim_j = 100, x_V2 = Float32[0.0 0.0 … 0.0 0.0; 0.0 0.0 … 0.0 0.0; … ; 0.0 0.0 … 0.0 0.0; 0.0 0.0 … 0.0 0.0]\n",
       "\n",
       "Float32[0.0 0.0 … 0.0 0.0; 0.0 0.0 … 0.0 0.0; … ; 0.0 0.0 … 0.0 0.0; 0.0 0.0 … 0.0 0.0], ν_pw_n = 1.7715613f0, I = Float32[0.0 0.0 … 0.0 0.0; 0.0 0.0 … 0.0 0.0; … ; 0.0 0.0 … 0.0 0.0; 0.0 0.0 … 0.0 0.0], r = Float32[0.0 0.0 … 0.0 0.0; 0.0 0.0 … 0.0 0.0; … ; 0.0 0.0 … 0.0 0.0; 0.0 0.0 … 0.0 0.0])"
      ]
     },
     "execution_count": 34,
     "metadata": {},
     "output_type": "execute_result"
    }
   ],
   "source": [
    "params = p"
   ]
  },
  {
   "cell_type": "code",
   "execution_count": 36,
   "metadata": {},
   "outputs": [
    {
     "data": {
      "text/plain": [
       "100×100×12×1 Array{Operation,4}:\n",
       "[:, :, 1, 1] =\n",
       "   derivative(x₁(t), t)  derivative(x₁₀₁(t), t)  …   derivative(x₉₉₀₁(t), t)\n",
       "   derivative(x₂(t), t)  derivative(x₁₀₂(t), t)      derivative(x₉₉₀₂(t), t)\n",
       "   derivative(x₃(t), t)  derivative(x₁₀₃(t), t)      derivative(x₉₉₀₃(t), t)\n",
       "   derivative(x₄(t), t)  derivative(x₁₀₄(t), t)      derivative(x₉₉₀₄(t), t)\n",
       "   derivative(x₅(t), t)  derivative(x₁₀₅(t), t)      derivative(x₉₉₀₅(t), t)\n",
       "   derivative(x₆(t), t)  derivative(x₁₀₆(t), t)  …   derivative(x₉₉₀₆(t), t)\n",
       "   derivative(x₇(t), t)  derivative(x₁₀₇(t), t)      derivative(x₉₉₀₇(t), t)\n",
       "   derivative(x₈(t), t)  derivative(x₁₀₈(t), t)      derivative(x₉₉₀₈(t), t)\n",
       "   derivative(x₉(t), t)  derivative(x₁₀₉(t), t)      derivative(x₉₉₀₉(t), t)\n",
       "  derivative(x₁₀(t), t)  derivative(x₁₁₀(t), t)      derivative(x₉₉₁₀(t), t)\n",
       "  derivative(x₁₁(t), t)  derivative(x₁₁₁(t), t)  …   derivative(x₉₉₁₁(t), t)\n",
       "  derivative(x₁₂(t), t)  derivative(x₁₁₂(t), t)      derivative(x₉₉₁₂(t), t)\n",
       "  derivative(x₁₃(t), t)  derivative(x₁₁₃(t), t)      derivative(x₉₉₁₃(t), t)\n",
       "                      ⋮                          ⋱  \n",
       "  derivative(x₈₉(t), t)  derivative(x₁₈₉(t), t)      derivative(x₉₉₈₉(t), t)\n",
       "  derivative(x₉₀(t), t)  derivative(x₁₉₀(t), t)      derivative(x₉₉₉₀(t), t)\n",
       "  derivative(x₉₁(t), t)  derivative(x₁₉₁(t), t)  …   derivative(x₉₉₉₁(t), t)\n",
       "  derivative(x₉₂(t), t)  derivative(x₁₉₂(t), t)      derivative(x₉₉₉₂(t), t)\n",
       "  derivative(x₉₃(t), t)  derivative(x₁₉₃(t), t)      derivative(x₉₉₉₃(t), t)\n",
       "  derivative(x₉₄(t), t)  derivative(x₁₉₄(t), t)      derivative(x₉₉₉₄(t), t)\n",
       "  derivative(x₉₅(t), t)  derivative(x₁₉₅(t), t)      derivative(x₉₉₉₅(t), t)\n",
       "  derivative(x₉₆(t), t)  derivative(x₁₉₆(t), t)  …   derivative(x₉₉₉₆(t), t)\n",
       "  derivative(x₉₇(t), t)  derivative(x₁₉₇(t), t)      derivative(x₉₉₉₇(t), t)\n",
       "  derivative(x₉₈(t), t)  derivative(x₁₉₈(t), t)      derivative(x₉₉₉₈(t), t)\n",
       "  derivative(x₉₉(t), t)  derivative(x₁₉₉(t), t)      derivative(x₉₉₉₉(t), t)\n",
       " derivative(x₁₀₀(t), t)  derivative(x₂₀₀(t), t)     derivative(x₁₀₀₀₀(t), t)\n",
       "\n",
       "[:, :, 2, 1] =\n",
       " derivative(x₁₀₀₀₁(t), t)  …  derivative(x₁₉₉₀₁(t), t)\n",
       " derivative(x₁₀₀₀₂(t), t)     derivative(x₁₉₉₀₂(t), t)\n",
       " derivative(x₁₀₀₀₃(t), t)     derivative(x₁₉₉₀₃(t), t)\n",
       " derivative(x₁₀₀₀₄(t), t)     derivative(x₁₉₉₀₄(t), t)\n",
       " derivative(x₁₀₀₀₅(t), t)     derivative(x₁₉₉₀₅(t), t)\n",
       " derivative(x₁₀₀₀₆(t), t)  …  derivative(x₁₉₉₀₆(t), t)\n",
       " derivative(x₁₀₀₀₇(t), t)     derivative(x₁₉₉₀₇(t), t)\n",
       " derivative(x₁₀₀₀₈(t), t)     derivative(x₁₉₉₀₈(t), t)\n",
       " derivative(x₁₀₀₀₉(t), t)     derivative(x₁₉₉₀₉(t), t)\n",
       " derivative(x₁₀₀₁₀(t), t)     derivative(x₁₉₉₁₀(t), t)\n",
       " derivative(x₁₀₀₁₁(t), t)  …  derivative(x₁₉₉₁₁(t), t)\n",
       " derivative(x₁₀₀₁₂(t), t)     derivative(x₁₉₉₁₂(t), t)\n",
       " derivative(x₁₀₀₁₃(t), t)     derivative(x₁₉₉₁₃(t), t)\n",
       "                        ⋮  ⋱  \n",
       " derivative(x₁₀₀₈₉(t), t)     derivative(x₁₉₉₈₉(t), t)\n",
       " derivative(x₁₀₀₉₀(t), t)     derivative(x₁₉₉₉₀(t), t)\n",
       " derivative(x₁₀₀₉₁(t), t)  …  derivative(x₁₉₉₉₁(t), t)\n",
       " derivative(x₁₀₀₉₂(t), t)     derivative(x₁₉₉₉₂(t), t)\n",
       " derivative(x₁₀₀₉₃(t), t)     derivative(x₁₉₉₉₃(t), t)\n",
       " derivative(x₁₀₀₉₄(t), t)     derivative(x₁₉₉₉₄(t), t)\n",
       " derivative(x₁₀₀₉₅(t), t)     derivative(x₁₉₉₉₅(t), t)\n",
       " derivative(x₁₀₀₉₆(t), t)  …  derivative(x₁₉₉₉₆(t), t)\n",
       " derivative(x₁₀₀₉₇(t), t)     derivative(x₁₉₉₉₇(t), t)\n",
       " derivative(x₁₀₀₉₈(t), t)     derivative(x₁₉₉₉₈(t), t)\n",
       " derivative(x₁₀₀₉₉(t), t)     derivative(x₁₉₉₉₉(t), t)\n",
       " derivative(x₁₀₁₀₀(t), t)     derivative(x₂₀₀₀₀(t), t)\n",
       "\n",
       "[:, :, 3, 1] =\n",
       " derivative(x₂₀₀₀₁(t), t)  …  derivative(x₂₉₉₀₁(t), t)\n",
       " derivative(x₂₀₀₀₂(t), t)     derivative(x₂₉₉₀₂(t), t)\n",
       " derivative(x₂₀₀₀₃(t), t)     derivative(x₂₉₉₀₃(t), t)\n",
       " derivative(x₂₀₀₀₄(t), t)     derivative(x₂₉₉₀₄(t), t)\n",
       " derivative(x₂₀₀₀₅(t), t)     derivative(x₂₉₉₀₅(t), t)\n",
       " derivative(x₂₀₀₀₆(t), t)  …  derivative(x₂₉₉₀₆(t), t)\n",
       " derivative(x₂₀₀₀₇(t), t)     derivative(x₂₉₉₀₇(t), t)\n",
       " derivative(x₂₀₀₀₈(t), t)     derivative(x₂₉₉₀₈(t), t)\n",
       " derivative(x₂₀₀₀₉(t), t)     derivative(x₂₉₉₀₉(t), t)\n",
       " derivative(x₂₀₀₁₀(t), t)     derivative(x₂₉₉₁₀(t), t)\n",
       " derivative(x₂₀₀₁₁(t), t)  …  derivative(x₂₉₉₁₁(t), t)\n",
       " derivative(x₂₀₀₁₂(t), t)     derivative(x₂₉₉₁₂(t), t)\n",
       " derivative(x₂₀₀₁₃(t), t)     derivative(x₂₉₉₁₃(t), t)\n",
       "                        ⋮  ⋱  \n",
       " derivative(x₂₀₀₈₉(t), t)     derivative(x₂₉₉₈₉(t), t)\n",
       " derivative(x₂₀₀₉₀(t), t)     derivative(x₂₉₉₉₀(t), t)\n",
       " derivative(x₂₀₀₉₁(t), t)  …  derivative(x₂₉₉₉₁(t), t)\n",
       " derivative(x₂₀₀₉₂(t), t)     derivative(x₂₉₉₉₂(t), t)\n",
       " derivative(x₂₀₀₉₃(t), t)     derivative(x₂₉₉₉₃(t), t)\n",
       " derivative(x₂₀₀₉₄(t), t)     derivative(x₂₉₉₉₄(t), t)\n",
       " derivative(x₂₀₀₉₅(t), t)     derivative(x₂₉₉₉₅(t), t)\n",
       " derivative(x₂₀₀₉₆(t), t)  …  derivative(x₂₉₉₉₆(t), t)\n",
       " derivative(x₂₀₀₉₇(t), t)     derivative(x₂₉₉₉₇(t), t)\n",
       " derivative(x₂₀₀₉₈(t), t)     derivative(x₂₉₉₉₈(t), t)\n",
       " derivative(x₂₀₀₉₉(t), t)     derivative(x₂₉₉₉₉(t), t)\n",
       " derivative(x₂₀₁₀₀(t), t)     derivative(x₃₀₀₀₀(t), t)\n",
       "\n",
       "...\n",
       "\n",
       "[:, :, 10, 1] =\n",
       " derivative(x₉₀₀₀₁(t), t)  …   derivative(x₉₉₉₀₁(t), t)\n",
       " derivative(x₉₀₀₀₂(t), t)      derivative(x₉₉₉₀₂(t), t)\n",
       " derivative(x₉₀₀₀₃(t), t)      derivative(x₉₉₉₀₃(t), t)\n",
       " derivative(x₉₀₀₀₄(t), t)      derivative(x₉₉₉₀₄(t), t)\n",
       " derivative(x₉₀₀₀₅(t), t)      derivative(x₉₉₉₀₅(t), t)\n",
       " derivative(x₉₀₀₀₆(t), t)  …   derivative(x₉₉₉₀₆(t), t)\n",
       " derivative(x₉₀₀₀₇(t), t)      derivative(x₉₉₉₀₇(t), t)\n",
       " derivative(x₉₀₀₀₈(t), t)      derivative(x₉₉₉₀₈(t), t)\n",
       " derivative(x₉₀₀₀₉(t), t)      derivative(x₉₉₉₀₉(t), t)\n",
       " derivative(x₉₀₀₁₀(t), t)      derivative(x₉₉₉₁₀(t), t)\n",
       " derivative(x₉₀₀₁₁(t), t)  …   derivative(x₉₉₉₁₁(t), t)\n",
       " derivative(x₉₀₀₁₂(t), t)      derivative(x₉₉₉₁₂(t), t)\n",
       " derivative(x₉₀₀₁₃(t), t)      derivative(x₉₉₉₁₃(t), t)\n",
       "                        ⋮  ⋱  \n",
       " derivative(x₉₀₀₈₉(t), t)      derivative(x₉₉₉₈₉(t), t)\n",
       " derivative(x₉₀₀₉₀(t), t)      derivative(x₉₉₉₉₀(t), t)\n",
       " derivative(x₉₀₀₉₁(t), t)  …   derivative(x₉₉₉₉₁(t), t)\n",
       " derivative(x₉₀₀₉₂(t), t)      derivative(x₉₉₉₉₂(t), t)\n",
       " derivative(x₉₀₀₉₃(t), t)      derivative(x₉₉₉₉₃(t), t)\n",
       " derivative(x₉₀₀₉₄(t), t)      derivative(x₉₉₉₉₄(t), t)\n",
       " derivative(x₉₀₀₉₅(t), t)      derivative(x₉₉₉₉₅(t), t)\n",
       " derivative(x₉₀₀₉₆(t), t)  …   derivative(x₉₉₉₉₆(t), t)\n",
       " derivative(x₉₀₀₉₇(t), t)      derivative(x₉₉₉₉₇(t), t)\n",
       " derivative(x₉₀₀₉₈(t), t)      derivative(x₉₉₉₉₈(t), t)\n",
       " derivative(x₉₀₀₉₉(t), t)      derivative(x₉₉₉₉₉(t), t)\n",
       " derivative(x₉₀₁₀₀(t), t)     derivative(x₁₀₀₀₀₀(t), t)\n",
       "\n",
       "[:, :, 11, 1] =\n",
       " derivative(x₁₀₀₀₀₁(t), t)  …  derivative(x₁₀₉₉₀₁(t), t)\n",
       " derivative(x₁₀₀₀₀₂(t), t)     derivative(x₁₀₉₉₀₂(t), t)\n",
       " derivative(x₁₀₀₀₀₃(t), t)     derivative(x₁₀₉₉₀₃(t), t)\n",
       " derivative(x₁₀₀₀₀₄(t), t)     derivative(x₁₀₉₉₀₄(t), t)\n",
       " derivative(x₁₀₀₀₀₅(t), t)     derivative(x₁₀₉₉₀₅(t), t)\n",
       " derivative(x₁₀₀₀₀₆(t), t)  …  derivative(x₁₀₉₉₀₆(t), t)\n",
       " derivative(x₁₀₀₀₀₇(t), t)     derivative(x₁₀₉₉₀₇(t), t)\n",
       " derivative(x₁₀₀₀₀₈(t), t)     derivative(x₁₀₉₉₀₈(t), t)\n",
       " derivative(x₁₀₀₀₀₉(t), t)     derivative(x₁₀₉₉₀₉(t), t)\n",
       " derivative(x₁₀₀₀₁₀(t), t)     derivative(x₁₀₉₉₁₀(t), t)\n",
       " derivative(x₁₀₀₀₁₁(t), t)  …  derivative(x₁₀₉₉₁₁(t), t)\n",
       " derivative(x₁₀₀₀₁₂(t), t)     derivative(x₁₀₉₉₁₂(t), t)\n",
       " derivative(x₁₀₀₀₁₃(t), t)     derivative(x₁₀₉₉₁₃(t), t)\n",
       "                         ⋮  ⋱  \n",
       " derivative(x₁₀₀₀₈₉(t), t)     derivative(x₁₀₉₉₈₉(t), t)\n",
       " derivative(x₁₀₀₀₉₀(t), t)     derivative(x₁₀₉₉₉₀(t), t)\n",
       " derivative(x₁₀₀₀₉₁(t), t)  …  derivative(x₁₀₉₉₉₁(t), t)\n",
       " derivative(x₁₀₀₀₉₂(t), t)     derivative(x₁₀₉₉₉₂(t), t)\n",
       " derivative(x₁₀₀₀₉₃(t), t)     derivative(x₁₀₉₉₉₃(t), t)\n",
       " derivative(x₁₀₀₀₉₄(t), t)     derivative(x₁₀₉₉₉₄(t), t)\n",
       " derivative(x₁₀₀₀₉₅(t), t)     derivative(x₁₀₉₉₉₅(t), t)\n",
       " derivative(x₁₀₀₀₉₆(t), t)  …  derivative(x₁₀₉₉₉₆(t), t)\n",
       " derivative(x₁₀₀₀₉₇(t), t)     derivative(x₁₀₉₉₉₇(t), t)\n",
       " derivative(x₁₀₀₀₉₈(t), t)     derivative(x₁₀₉₉₉₈(t), t)\n",
       " derivative(x₁₀₀₀₉₉(t), t)     derivative(x₁₀₉₉₉₉(t), t)\n",
       " derivative(x₁₀₀₁₀₀(t), t)     derivative(x₁₁₀₀₀₀(t), t)\n",
       "\n",
       "[:, :, 12, 1] =\n",
       " derivative(x₁₁₀₀₀₁(t), t)  …  derivative(x₁₁₉₉₀₁(t), t)\n",
       " derivative(x₁₁₀₀₀₂(t), t)     derivative(x₁₁₉₉₀₂(t), t)\n",
       " derivative(x₁₁₀₀₀₃(t), t)     derivative(x₁₁₉₉₀₃(t), t)\n",
       " derivative(x₁₁₀₀₀₄(t), t)     derivative(x₁₁₉₉₀₄(t), t)\n",
       " derivative(x₁₁₀₀₀₅(t), t)     derivative(x₁₁₉₉₀₅(t), t)\n",
       " derivative(x₁₁₀₀₀₆(t), t)  …  derivative(x₁₁₉₉₀₆(t), t)\n",
       " derivative(x₁₁₀₀₀₇(t), t)     derivative(x₁₁₉₉₀₇(t), t)\n",
       " derivative(x₁₁₀₀₀₈(t), t)     derivative(x₁₁₉₉₀₈(t), t)\n",
       " derivative(x₁₁₀₀₀₉(t), t)     derivative(x₁₁₉₉₀₉(t), t)\n",
       " derivative(x₁₁₀₀₁₀(t), t)     derivative(x₁₁₉₉₁₀(t), t)\n",
       " derivative(x₁₁₀₀₁₁(t), t)  …  derivative(x₁₁₉₉₁₁(t), t)\n",
       " derivative(x₁₁₀₀₁₂(t), t)     derivative(x₁₁₉₉₁₂(t), t)\n",
       " derivative(x₁₁₀₀₁₃(t), t)     derivative(x₁₁₉₉₁₃(t), t)\n",
       "                         ⋮  ⋱  \n",
       " derivative(x₁₁₀₀₈₉(t), t)     derivative(x₁₁₉₉₈₉(t), t)\n",
       " derivative(x₁₁₀₀₉₀(t), t)     derivative(x₁₁₉₉₉₀(t), t)\n",
       " derivative(x₁₁₀₀₉₁(t), t)  …  derivative(x₁₁₉₉₉₁(t), t)\n",
       " derivative(x₁₁₀₀₉₂(t), t)     derivative(x₁₁₉₉₉₂(t), t)\n",
       " derivative(x₁₁₀₀₉₃(t), t)     derivative(x₁₁₉₉₉₃(t), t)\n",
       " derivative(x₁₁₀₀₉₄(t), t)     derivative(x₁₁₉₉₉₄(t), t)\n",
       " derivative(x₁₁₀₀₉₅(t), t)     derivative(x₁₁₉₉₉₅(t), t)\n",
       " derivative(x₁₁₀₀₉₆(t), t)  …  derivative(x₁₁₉₉₉₆(t), t)\n",
       " derivative(x₁₁₀₀₉₇(t), t)     derivative(x₁₁₉₉₉₇(t), t)\n",
       " derivative(x₁₁₀₀₉₈(t), t)     derivative(x₁₁₉₉₉₈(t), t)\n",
       " derivative(x₁₁₀₀₉₉(t), t)     derivative(x₁₁₉₉₉₉(t), t)\n",
       " derivative(x₁₁₀₁₀₀(t), t)     derivative(x₁₂₀₀₀₀(t), t)"
      ]
     },
     "execution_count": 36,
     "metadata": {},
     "output_type": "execute_result"
    }
   ],
   "source": [
    "  @derivatives D'~t\n",
    "\n",
    "    rhs = [D(var) for var in vars]\n",
    "\n",
    "   "
   ]
  },
  {
   "cell_type": "code",
   "execution_count": 38,
   "metadata": {},
   "outputs": [
    {
     "data": {
      "text/plain": [
       "100×100×12×1 Array{Any,4}:\n",
       "[:, :, 1, 1] =\n",
       " #undef  #undef  #undef  #undef  #undef  …  #undef  #undef  #undef  #undef\n",
       " #undef  #undef  #undef  #undef  #undef     #undef  #undef  #undef  #undef\n",
       " #undef  #undef  #undef  #undef  #undef     #undef  #undef  #undef  #undef\n",
       " #undef  #undef  #undef  #undef  #undef     #undef  #undef  #undef  #undef\n",
       " #undef  #undef  #undef  #undef  #undef     #undef  #undef  #undef  #undef\n",
       " #undef  #undef  #undef  #undef  #undef  …  #undef  #undef  #undef  #undef\n",
       " #undef  #undef  #undef  #undef  #undef     #undef  #undef  #undef  #undef\n",
       " #undef  #undef  #undef  #undef  #undef     #undef  #undef  #undef  #undef\n",
       " #undef  #undef  #undef  #undef  #undef     #undef  #undef  #undef  #undef\n",
       " #undef  #undef  #undef  #undef  #undef     #undef  #undef  #undef  #undef\n",
       " #undef  #undef  #undef  #undef  #undef  …  #undef  #undef  #undef  #undef\n",
       " #undef  #undef  #undef  #undef  #undef     #undef  #undef  #undef  #undef\n",
       " #undef  #undef  #undef  #undef  #undef     #undef  #undef  #undef  #undef\n",
       "   ⋮                                     ⋱                          \n",
       " #undef  #undef  #undef  #undef  #undef     #undef  #undef  #undef  #undef\n",
       " #undef  #undef  #undef  #undef  #undef     #undef  #undef  #undef  #undef\n",
       " #undef  #undef  #undef  #undef  #undef  …  #undef  #undef  #undef  #undef\n",
       " #undef  #undef  #undef  #undef  #undef     #undef  #undef  #undef  #undef\n",
       " #undef  #undef  #undef  #undef  #undef     #undef  #undef  #undef  #undef\n",
       " #undef  #undef  #undef  #undef  #undef     #undef  #undef  #undef  #undef\n",
       " #undef  #undef  #undef  #undef  #undef     #undef  #undef  #undef  #undef\n",
       " #undef  #undef  #undef  #undef  #undef  …  #undef  #undef  #undef  #undef\n",
       " #undef  #undef  #undef  #undef  #undef     #undef  #undef  #undef  #undef\n",
       " #undef  #undef  #undef  #undef  #undef     #undef  #undef  #undef  #undef\n",
       " #undef  #undef  #undef  #undef  #undef     #undef  #undef  #undef  #undef\n",
       " #undef  #undef  #undef  #undef  #undef     #undef  #undef  #undef  #undef\n",
       "\n",
       "[:, :, 2, 1] =\n",
       " #undef  #undef  #undef  #undef  #undef  …  #undef  #undef  #undef  #undef\n",
       " #undef  #undef  #undef  #undef  #undef     #undef  #undef  #undef  #undef\n",
       " #undef  #undef  #undef  #undef  #undef     #undef  #undef  #undef  #undef\n",
       " #undef  #undef  #undef  #undef  #undef     #undef  #undef  #undef  #undef\n",
       " #undef  #undef  #undef  #undef  #undef     #undef  #undef  #undef  #undef\n",
       " #undef  #undef  #undef  #undef  #undef  …  #undef  #undef  #undef  #undef\n",
       " #undef  #undef  #undef  #undef  #undef     #undef  #undef  #undef  #undef\n",
       " #undef  #undef  #undef  #undef  #undef     #undef  #undef  #undef  #undef\n",
       " #undef  #undef  #undef  #undef  #undef     #undef  #undef  #undef  #undef\n",
       " #undef  #undef  #undef  #undef  #undef     #undef  #undef  #undef  #undef\n",
       " #undef  #undef  #undef  #undef  #undef  …  #undef  #undef  #undef  #undef\n",
       " #undef  #undef  #undef  #undef  #undef     #undef  #undef  #undef  #undef\n",
       " #undef  #undef  #undef  #undef  #undef     #undef  #undef  #undef  #undef\n",
       "   ⋮                                     ⋱                          \n",
       " #undef  #undef  #undef  #undef  #undef     #undef  #undef  #undef  #undef\n",
       " #undef  #undef  #undef  #undef  #undef     #undef  #undef  #undef  #undef\n",
       " #undef  #undef  #undef  #undef  #undef  …  #undef  #undef  #undef  #undef\n",
       " #undef  #undef  #undef  #undef  #undef     #undef  #undef  #undef  #undef\n",
       " #undef  #undef  #undef  #undef  #undef     #undef  #undef  #undef  #undef\n",
       " #undef  #undef  #undef  #undef  #undef     #undef  #undef  #undef  #undef\n",
       " #undef  #undef  #undef  #undef  #undef     #undef  #undef  #undef  #undef\n",
       " #undef  #undef  #undef  #undef  #undef  …  #undef  #undef  #undef  #undef\n",
       " #undef  #undef  #undef  #undef  #undef     #undef  #undef  #undef  #undef\n",
       " #undef  #undef  #undef  #undef  #undef     #undef  #undef  #undef  #undef\n",
       " #undef  #undef  #undef  #undef  #undef     #undef  #undef  #undef  #undef\n",
       " #undef  #undef  #undef  #undef  #undef     #undef  #undef  #undef  #undef\n",
       "\n",
       "[:, :, 3, 1] =\n",
       " #undef  #undef  #undef  #undef  #undef  …  #undef  #undef  #undef  #undef\n",
       " #undef  #undef  #undef  #undef  #undef     #undef  #undef  #undef  #undef\n",
       " #undef  #undef  #undef  #undef  #undef     #undef  #undef  #undef  #undef\n",
       " #undef  #undef  #undef  #undef  #undef     #undef  #undef  #undef  #undef\n",
       " #undef  #undef  #undef  #undef  #undef     #undef  #undef  #undef  #undef\n",
       " #undef  #undef  #undef  #undef  #undef  …  #undef  #undef  #undef  #undef\n",
       " #undef  #undef  #undef  #undef  #undef     #undef  #undef  #undef  #undef\n",
       " #undef  #undef  #undef  #undef  #undef     #undef  #undef  #undef  #undef\n",
       " #undef  #undef  #undef  #undef  #undef     #undef  #undef  #undef  #undef\n",
       " #undef  #undef  #undef  #undef  #undef     #undef  #undef  #undef  #undef\n",
       " #undef  #undef  #undef  #undef  #undef  …  #undef  #undef  #undef  #undef\n",
       " #undef  #undef  #undef  #undef  #undef     #undef  #undef  #undef  #undef\n",
       " #undef  #undef  #undef  #undef  #undef     #undef  #undef  #undef  #undef\n",
       "   ⋮                                     ⋱                          \n",
       " #undef  #undef  #undef  #undef  #undef     #undef  #undef  #undef  #undef\n",
       " #undef  #undef  #undef  #undef  #undef     #undef  #undef  #undef  #undef\n",
       " #undef  #undef  #undef  #undef  #undef  …  #undef  #undef  #undef  #undef\n",
       " #undef  #undef  #undef  #undef  #undef     #undef  #undef  #undef  #undef\n",
       " #undef  #undef  #undef  #undef  #undef     #undef  #undef  #undef  #undef\n",
       " #undef  #undef  #undef  #undef  #undef     #undef  #undef  #undef  #undef\n",
       " #undef  #undef  #undef  #undef  #undef     #undef  #undef  #undef  #undef\n",
       " #undef  #undef  #undef  #undef  #undef  …  #undef  #undef  #undef  #undef\n",
       " #undef  #undef  #undef  #undef  #undef     #undef  #undef  #undef  #undef\n",
       " #undef  #undef  #undef  #undef  #undef     #undef  #undef  #undef  #undef\n",
       " #undef  #undef  #undef  #undef  #undef     #undef  #undef  #undef  #undef\n",
       " #undef  #undef  #undef  #undef  #undef     #undef  #undef  #undef  #undef\n",
       "\n",
       "...\n",
       "\n",
       "[:, :, 10, 1] =\n",
       " #undef  #undef  #undef  #undef  #undef  …  #undef  #undef  #undef  #undef\n",
       " #undef  #undef  #undef  #undef  #undef     #undef  #undef  #undef  #undef\n",
       " #undef  #undef  #undef  #undef  #undef     #undef  #undef  #undef  #undef\n",
       " #undef  #undef  #undef  #undef  #undef     #undef  #undef  #undef  #undef\n",
       " #undef  #undef  #undef  #undef  #undef     #undef  #undef  #undef  #undef\n",
       " #undef  #undef  #undef  #undef  #undef  …  #undef  #undef  #undef  #undef\n",
       " #undef  #undef  #undef  #undef  #undef     #undef  #undef  #undef  #undef\n",
       " #undef  #undef  #undef  #undef  #undef     #undef  #undef  #undef  #undef\n",
       " #undef  #undef  #undef  #undef  #undef     #undef  #undef  #undef  #undef\n",
       " #undef  #undef  #undef  #undef  #undef     #undef  #undef  #undef  #undef\n",
       " #undef  #undef  #undef  #undef  #undef  …  #undef  #undef  #undef  #undef\n",
       " #undef  #undef  #undef  #undef  #undef     #undef  #undef  #undef  #undef\n",
       " #undef  #undef  #undef  #undef  #undef     #undef  #undef  #undef  #undef\n",
       "   ⋮                                     ⋱                          \n",
       " #undef  #undef  #undef  #undef  #undef     #undef  #undef  #undef  #undef\n",
       " #undef  #undef  #undef  #undef  #undef     #undef  #undef  #undef  #undef\n",
       " #undef  #undef  #undef  #undef  #undef  …  #undef  #undef  #undef  #undef\n",
       " #undef  #undef  #undef  #undef  #undef     #undef  #undef  #undef  #undef\n",
       " #undef  #undef  #undef  #undef  #undef     #undef  #undef  #undef  #undef\n",
       " #undef  #undef  #undef  #undef  #undef     #undef  #undef  #undef  #undef\n",
       " #undef  #undef  #undef  #undef  #undef     #undef  #undef  #undef  #undef\n",
       " #undef  #undef  #undef  #undef  #undef  …  #undef  #undef  #undef  #undef\n",
       " #undef  #undef  #undef  #undef  #undef     #undef  #undef  #undef  #undef\n",
       " #undef  #undef  #undef  #undef  #undef     #undef  #undef  #undef  #undef\n",
       " #undef  #undef  #undef  #undef  #undef     #undef  #undef  #undef  #undef\n",
       " #undef  #undef  #undef  #undef  #undef     #undef  #undef  #undef  #undef\n",
       "\n",
       "[:, :, 11, 1] =\n",
       " #undef  #undef  #undef  #undef  #undef  …  #undef  #undef  #undef  #undef\n",
       " #undef  #undef  #undef  #undef  #undef     #undef  #undef  #undef  #undef\n",
       " #undef  #undef  #undef  #undef  #undef     #undef  #undef  #undef  #undef\n",
       " #undef  #undef  #undef  #undef  #undef     #undef  #undef  #undef  #undef\n",
       " #undef  #undef  #undef  #undef  #undef     #undef  #undef  #undef  #undef\n",
       " #undef  #undef  #undef  #undef  #undef  …  #undef  #undef  #undef  #undef\n",
       " #undef  #undef  #undef  #undef  #undef     #undef  #undef  #undef  #undef\n",
       " #undef  #undef  #undef  #undef  #undef     #undef  #undef  #undef  #undef\n",
       " #undef  #undef  #undef  #undef  #undef     #undef  #undef  #undef  #undef\n",
       " #undef  #undef  #undef  #undef  #undef     #undef  #undef  #undef  #undef\n",
       " #undef  #undef  #undef  #undef  #undef  …  #undef  #undef  #undef  #undef\n",
       " #undef  #undef  #undef  #undef  #undef     #undef  #undef  #undef  #undef\n",
       " #undef  #undef  #undef  #undef  #undef     #undef  #undef  #undef  #undef\n",
       "   ⋮                                     ⋱                          \n",
       " #undef  #undef  #undef  #undef  #undef     #undef  #undef  #undef  #undef\n",
       " #undef  #undef  #undef  #undef  #undef     #undef  #undef  #undef  #undef\n",
       " #undef  #undef  #undef  #undef  #undef  …  #undef  #undef  #undef  #undef\n",
       " #undef  #undef  #undef  #undef  #undef     #undef  #undef  #undef  #undef\n",
       " #undef  #undef  #undef  #undef  #undef     #undef  #undef  #undef  #undef\n",
       " #undef  #undef  #undef  #undef  #undef     #undef  #undef  #undef  #undef\n",
       " #undef  #undef  #undef  #undef  #undef     #undef  #undef  #undef  #undef\n",
       " #undef  #undef  #undef  #undef  #undef  …  #undef  #undef  #undef  #undef\n",
       " #undef  #undef  #undef  #undef  #undef     #undef  #undef  #undef  #undef\n",
       " #undef  #undef  #undef  #undef  #undef     #undef  #undef  #undef  #undef\n",
       " #undef  #undef  #undef  #undef  #undef     #undef  #undef  #undef  #undef\n",
       " #undef  #undef  #undef  #undef  #undef     #undef  #undef  #undef  #undef\n",
       "\n",
       "[:, :, 12, 1] =\n",
       " #undef  #undef  #undef  #undef  #undef  …  #undef  #undef  #undef  #undef\n",
       " #undef  #undef  #undef  #undef  #undef     #undef  #undef  #undef  #undef\n",
       " #undef  #undef  #undef  #undef  #undef     #undef  #undef  #undef  #undef\n",
       " #undef  #undef  #undef  #undef  #undef     #undef  #undef  #undef  #undef\n",
       " #undef  #undef  #undef  #undef  #undef     #undef  #undef  #undef  #undef\n",
       " #undef  #undef  #undef  #undef  #undef  …  #undef  #undef  #undef  #undef\n",
       " #undef  #undef  #undef  #undef  #undef     #undef  #undef  #undef  #undef\n",
       " #undef  #undef  #undef  #undef  #undef     #undef  #undef  #undef  #undef\n",
       " #undef  #undef  #undef  #undef  #undef     #undef  #undef  #undef  #undef\n",
       " #undef  #undef  #undef  #undef  #undef     #undef  #undef  #undef  #undef\n",
       " #undef  #undef  #undef  #undef  #undef  …  #undef  #undef  #undef  #undef\n",
       " #undef  #undef  #undef  #undef  #undef     #undef  #undef  #undef  #undef\n",
       " #undef  #undef  #undef  #undef  #undef     #undef  #undef  #undef  #undef\n",
       "   ⋮                                     ⋱                          \n",
       " #undef  #undef  #undef  #undef  #undef     #undef  #undef  #undef  #undef\n",
       " #undef  #undef  #undef  #undef  #undef     #undef  #undef  #undef  #undef\n",
       " #undef  #undef  #undef  #undef  #undef  …  #undef  #undef  #undef  #undef\n",
       " #undef  #undef  #undef  #undef  #undef     #undef  #undef  #undef  #undef\n",
       " #undef  #undef  #undef  #undef  #undef     #undef  #undef  #undef  #undef\n",
       " #undef  #undef  #undef  #undef  #undef     #undef  #undef  #undef  #undef\n",
       " #undef  #undef  #undef  #undef  #undef     #undef  #undef  #undef  #undef\n",
       " #undef  #undef  #undef  #undef  #undef  …  #undef  #undef  #undef  #undef\n",
       " #undef  #undef  #undef  #undef  #undef     #undef  #undef  #undef  #undef\n",
       " #undef  #undef  #undef  #undef  #undef     #undef  #undef  #undef  #undef\n",
       " #undef  #undef  #undef  #undef  #undef     #undef  #undef  #undef  #undef\n",
       " #undef  #undef  #undef  #undef  #undef     #undef  #undef  #undef  #undef"
      ]
     },
     "execution_count": 38,
     "metadata": {},
     "output_type": "execute_result"
    }
   ],
   "source": [
    "#  if DiffEqBase.isinplace(prob)\n",
    "        lhs = similar(vars, Any)\n",
    "       "
   ]
  },
  {
   "cell_type": "code",
   "execution_count": 39,
   "metadata": {},
   "outputs": [
    {
     "ename": "MethodError",
     "evalue": "MethodError: no method matching Float32(::Operation)\nClosest candidates are:\n  Float32(::T) where T<:Number at boot.jl:715\n  Float32(!Matched::Int8) at float.jl:60\n  Float32(!Matched::Int16) at float.jl:60\n  ...",
     "output_type": "error",
     "traceback": [
      "MethodError: no method matching Float32(::Operation)\nClosest candidates are:\n  Float32(::T) where T<:Number at boot.jl:715\n  Float32(!Matched::Int8) at float.jl:60\n  Float32(!Matched::Int16) at float.jl:60\n  ...",
      "",
      "Stacktrace:",
      " [1] convert(::Type{Float32}, ::Operation) at ./number.jl:7",
      " [2] setindex! at ./array.jl:828 [inlined]",
      " [3] setindex! at ./multidimensional.jl:545 [inlined]",
      " [4] copyto!(::Array{Float32,4}, ::SubArray{Operation,4,Array{Operation,4},Tuple{Base.Slice{Base.OneTo{Int64}},Base.Slice{Base.OneTo{Int64}},UnitRange{Int64},Base.Slice{Base.OneTo{Int64}}},false}) at ./multidimensional.jl:962",
      " [5] copyto! at ./broadcast.jl:905 [inlined]",
      " [6] copyto! at ./broadcast.jl:864 [inlined]",
      " [7] materialize! at ./broadcast.jl:823 [inlined]",
      " [8] (::MEngProject.LaminartGPU.LamFunction_cpu{Array{Float32,4}})(::Array{Any,4}, ::Array{Operation,4}, ::NamedTuple{(:K, :δ_v, :δ_c, :δ_m, :δ_z, :δ_s, :σ_1, :C_1, :C_2, :σ_2, :γ, :α, :ϕ, :Γ, :v_21, :μ, :ν, :n, :att, :η_p, :η_m, :λ, :a_23_ex, :a_23_in, :v12_6, :v12_4, :ψ, :C_AB_l, :H_σ_x, :H_σ_y, :H_fact, :H_l, :T_fact, :T_p_m, :T_v2_fact, :H_size, :W_size, :lgn_equ_u, :lgn_equ_A, :lgn_equ_B, :filling, :W_l, :k_gauss_1, :k_gauss_2, :k_C_d, :k_C_b, :k_x_lgn, :k_W_p, :k_W_m, :k_H, :k_T_p, :k_T_m, :k_T_p_v2, :k_T_m_v2, :dim_i, :dim_j, :x_V2, :ν_pw_n, :I, :r),Tuple{Int64,Float32,Float32,Float32,Float32,Float32,Float32,Float32,Float32,Float32,Float32,Float32,Float32,Float32,Float32,Float32,Float32,Float32,Float32,Float32,Float32,Float32,Float32,Float32,Float32,Float32,Float32,Int64,Float32,Float32,Float32,Int64,Array{Float32,1},Float32,Float32,Int64,Int64,Float32,Float32,Float32,String,Int64,Array{Float32,4},Array{Float32,4},Array{Float32,4},Array{Float32,4},Array{Float32,4},Array{Float32,4},Array{Float32,4},Array{Float32,4},Array{Float32,4},Array{Float32,4},Array{Float32,4},Array{Float32,4},Int64,Int64,Array{Float32,4},Float32,Array{Float32,4},Array{Float32,4}}}, ::Operation) at /mnt/storage_1/users/cullinanen/.julia/dev/MEngProject.jl/src/LaminartGPU.jl:105",
      " [9] (::ODEFunction{true,MEngProject.LaminartGPU.LamFunction_cpu{Array{Float32,4}},LinearAlgebra.UniformScaling{Bool},Nothing,Nothing,Nothing,Nothing,Nothing,Nothing,Nothing,Nothing,Nothing,Nothing,Nothing,Nothing})(::Array{Any,4}, ::Vararg{Any,N} where N) at /mnt/storage_1/users/cullinanen/.julia/packages/DiffEqBase/ytJuW/src/diffeqfunction.jl:248",
      " [10] top-level scope at In[39]:1"
     ]
    }
   ],
   "source": [
    " prob.f(lhs, vars, params, t)\n",
    "#     else\n",
    "#         lhs = prob.f(vars, params, t)\n",
    "#     end\n",
    "\n",
    "   "
   ]
  },
  {
   "cell_type": "code",
   "execution_count": 37,
   "metadata": {},
   "outputs": [
    {
     "data": {
      "text/plain": [
       "true"
      ]
     },
     "execution_count": 37,
     "metadata": {},
     "output_type": "execute_result"
    }
   ],
   "source": [
    " DiffEqBase.isinplace(prob)"
   ]
  },
  {
   "cell_type": "code",
   "execution_count": 24,
   "metadata": {},
   "outputs": [
    {
     "ename": "KeyError",
     "evalue": "KeyError: key 'K' not found",
     "output_type": "error",
     "traceback": [
      "KeyError: key 'K' not found",
      "",
      "Stacktrace:",
      " [1] getindex at ./dict.jl:477 [inlined]",
      " [2] #1 at ./none:0 [inlined]",
      " [3] iterate at ./generator.jl:47 [inlined]",
      " [4] join(::Base.GenericIOBuffer{Array{UInt8,1}}, ::Base.Generator{String,ModelingToolkit.var\"#1#2\"}, ::String) at ./strings/io.jl:294",
      " [5] join(::Base.GenericIOBuffer{Array{UInt8,1}}, ::Base.Generator{String,ModelingToolkit.var\"#1#2\"}) at ./strings/io.jl:293",
      " [6] sprint(::Function, ::Base.Generator{String,ModelingToolkit.var\"#1#2\"}; context::Nothing, sizehint::Int64) at ./strings/io.jl:105",
      " [7] sprint at ./strings/io.jl:101 [inlined]",
      " [8] join at ./strings/io.jl:300 [inlined]",
      " [9] map_subscripts at /mnt/storage_1/users/cullinanen/.julia/packages/ModelingToolkit/fM618/src/variables.jl:14 [inlined]",
      " [10] _broadcast_getindex_evalf at ./broadcast.jl:631 [inlined]",
      " [11] _broadcast_getindex at ./broadcast.jl:604 [inlined]",
      " [12] #19 at ./broadcast.jl:1024 [inlined]",
      " [13] ntuple at ./ntuple.jl:41 [inlined]",
      " [14] copy at ./broadcast.jl:1024 [inlined]",
      " [15] materialize at ./broadcast.jl:820 [inlined]",
      " [16] Variable(::Symbol, ::Symbol) at /mnt/storage_1/users/cullinanen/.julia/packages/ModelingToolkit/fM618/src/variables.jl:59",
      " [17] #15 at ./none:0 [inlined]",
      " [18] iterate at ./generator.jl:47 [inlined]",
      " [19] collect(::Base.Generator{NTuple{60,Symbol},var\"#15#16\"}) at ./array.jl:665",
      " [20] top-level scope at In[24]:6"
     ]
    }
   ],
   "source": [
    " eqs = vcat([rhs[i] ~ lhs[i] for i in eachindex(prob.u0)]...)\n",
    "    de = ODESystem(eqs,t,vec(vars),vec(params))\n",
    "\n",
    "    de\n",
    "end"
   ]
  },
  {
   "cell_type": "code",
   "execution_count": 25,
   "metadata": {},
   "outputs": [
    {
     "data": {
      "text/plain": [
       "2"
      ]
     },
     "execution_count": 25,
     "metadata": {},
     "output_type": "execute_result"
    }
   ],
   "source": [
    "prob.p.K"
   ]
  },
  {
   "cell_type": "code",
   "execution_count": 26,
   "metadata": {},
   "outputs": [
    {
     "data": {
      "text/plain": [
       "(K = 2, δ_v = 1.25f0, δ_c = 0.25f0, δ_m = 0.01875f0, δ_z = 0.125f0, δ_s = 2.5f0, σ_1 = 1.0f0, C_1 = 1.5f0, C_2 = 0.075f0, σ_2 = 0.5f0, γ = 10.0f0, α = 0.5f0, ϕ = 2.0f0, Γ = 0.2f0, v_21 = 0.0f0, μ = 2.0f0, ν = 1.1f0, n = 6.0f0, att = 0.0f0, η_p = 2.1f0, η_m = 1.5f0, λ = 1.5f0, a_23_ex = 3.0f0, a_23_in = 0.5f0, v12_6 = 1.0f0, v12_4 = 5.0f0, ψ = 0.5f0, C_AB_l = 5, H_σ_x = 3.0f0, H_σ_y = 4.0f0, H_fact = 5.0f0, H_l = 19, T_fact = Float32[0.87, 0.13], T_p_m = 0.302f0, T_v2_fact = 0.625f0, H_size = 19, W_size = 19, lgn_equ_u = 1.0f0, lgn_equ_A = 0.0f0, lgn_equ_B = 0.0f0, filling = \"circular\", W_l = 19, k_gauss_1 = Float32[0.0029690173 0.013306212 … 0.013306212 0.0029690173; 0.013306212 0.059634306 … 0.059634306 0.013306212; … ; 0.013306212 0.059634306 … 0.059634306 0.013306212; 0.0029690173 0.013306212 … 0.013306212 0.0029690173], k_gauss_2 = Float32[6.9624775f-8 2.808864f-5 … 2.808864f-5 6.9624775f-8; 2.808864f-5 0.011331766 … 0.011331766 2.808864f-5; … ; 2.808864f-5 0.011331766 … 0.011331766 2.808864f-5; 6.9624775f-8 2.808864f-5 … 2.808864f-5 6.9624775f-8], k_C_d = Float32[0.124950476 0.04048735 … -0.04048735 -0.124950476; 0.124950476 0.04048735 … -0.04048735 -0.124950476; … ; 0.124950476 0.04048735 … -0.04048735 -0.124950476; 0.124950476 0.04048735 … -0.04048735 -0.124950476]\n",
       "\n",
       "Float32[0.12495046 0.12495046 … 0.124950476 0.12495049; 0.040487345 0.040487345 … 0.04048735 0.040487353; … ; -0.040487353 -0.04048735 … -0.040487345 -0.040487345; -0.12495049 -0.124950476 … -0.12495046 -0.12495046], k_C_b = Float32[0.124950476 0.04048735 … 0.04048735 0.124950476; 0.124950476 0.04048735 … 0.04048735 0.124950476; … ; 0.124950476 0.04048735 … 0.04048735 0.124950476; 0.124950476 0.04048735 … 0.04048735 0.124950476]\n",
       "\n",
       "Float32[0.12495046 0.12495046 … 0.124950476 0.12495049; 0.040487345 0.040487345 … 0.04048735 0.040487353; … ; 0.040487353 0.04048735 … 0.040487345 0.040487345; 0.12495049 0.124950476 … 0.12495046 0.12495046], k_x_lgn = Float32[1.0]\n",
       "\n",
       "Float32[1.0], k_W_p = Float32[1.2139208f-30 7.1148203f-25 … 7.1148203f-25 1.2139208f-30; 3.1214517f-30 1.8294907f-24 … 1.8294907f-24 3.1214517f-30; … ; 3.1214517f-30 1.8294907f-24 … 1.8294907f-24 3.1214517f-30; 1.2139208f-30 7.1148203f-25 … 7.1148203f-25 1.2139208f-30]\n",
       "\n",
       "Float32[0.2 0.2 … 0.2 0.2; 0.2 0.2 … 0.2 0.2; … ; 0.2 0.2 … 0.2 0.2; 0.2 0.2 … 0.2 0.2]\n",
       "\n",
       "Float32[0.2 0.2 … 0.2 0.2; 0.2 0.2 … 0.2 0.2; … ; 0.2 0.2 … 0.2 0.2; 0.2 0.2 … 0.2 0.2]\n",
       "\n",
       "Float32[1.2139208f-30 3.1214517f-30 … 3.1214517f-30 1.2139208f-30; 7.114875f-25 1.8295047f-24 … 1.8294976f-24 7.1148203f-25; … ; 7.1148203f-25 1.8294976f-24 … 1.8295047f-24 7.114875f-25; 1.2139208f-30 3.1214517f-30 … 3.1214517f-30 1.2139208f-30], k_W_m = Float32[1.2139208f-30 7.1148203f-25 … 7.1148203f-25 1.2139208f-30; 3.1214517f-30 1.8294907f-24 … 1.8294907f-24 3.1214517f-30; … ; 3.1214517f-30 1.8294907f-24 … 1.8294907f-24 3.1214517f-30; 1.2139208f-30 7.1148203f-25 … 7.1148203f-25 1.2139208f-30]\n",
       "\n",
       "Float32[0.2 0.2 … 0.2 0.2; 0.2 0.2 … 0.2 0.2; … ; 0.2 0.2 … 0.2 0.2; 0.2 0.2 … 0.2 0.2]\n",
       "\n",
       "Float32[0.2 0.2 … 0.2 0.2; 0.2 0.2 … 0.2 0.2; … ; 0.2 0.2 … 0.2 0.2; 0.2 0.2 … 0.2 0.2]\n",
       "\n",
       "Float32[1.2139208f-30 3.1214517f-30 … 3.1214517f-30 1.2139208f-30; 7.114875f-25 1.8295047f-24 … 1.8294976f-24 7.1148203f-25; … ; 7.1148203f-25 1.8294976f-24 … 1.8295047f-24 7.114875f-25; 1.2139208f-30 3.1214517f-30 … 3.1214517f-30 1.2139208f-30], k_H = Float32[5.9727277f-5 0.00010159952 … 0.00010159952 5.9727277f-5; 0.00015358177 0.00026125138 … 0.00026125138 0.00015358177; … ; 0.00015358177 0.00026125138 … 0.00026125138 0.00015358177; 5.9727277f-5 0.00010159952 … 0.00010159952 5.9727277f-5]\n",
       "\n",
       "Float32[0.0 0.0 … 0.0 0.0; 0.0 0.0 … 0.0 0.0; … ; 0.0 0.0 … 0.0 0.0; 0.0 0.0 … 0.0 0.0]\n",
       "\n",
       "Float32[0.0 0.0 … 0.0 0.0; 0.0 0.0 … 0.0 0.0; … ; 0.0 0.0 … 0.0 0.0; 0.0 0.0 … 0.0 0.0]\n",
       "\n",
       "Float32[5.9727266f-5 0.00015358173 … 0.00015358179 5.9727266f-5; 0.0001015995 0.00026125144 … 0.00026125144 0.0001015995; … ; 0.0001015995 0.00026125144 … 0.00026125144 0.0001015995; 5.9727266f-5 0.00015358179 … 0.00015358173 5.9727266f-5], k_T_p = Float32[0.87]\n",
       "\n",
       "Float32[0.13]\n",
       "\n",
       "Float32[0.13]\n",
       "\n",
       "Float32[0.87], k_T_m = Float32[0.26274]\n",
       "\n",
       "Float32[0.039259996]\n",
       "\n",
       "Float32[0.039259996]\n",
       "\n",
       "Float32[0.26274], k_T_p_v2 = Float32[0.54375]\n",
       "\n",
       "Float32[0.08125]\n",
       "\n",
       "Float32[0.08125]\n",
       "\n",
       "Float32[0.54375], k_T_m_v2 = Float32[0.1642125]\n",
       "\n",
       "Float32[0.024537498]\n",
       "\n",
       "Float32[0.024537498]\n",
       "\n",
       "Float32[0.1642125], dim_i = 100, dim_j = 100, x_V2 = Float32[0.0 0.0 … 0.0 0.0; 0.0 0.0 … 0.0 0.0; … ; 0.0 0.0 … 0.0 0.0; 0.0 0.0 … 0.0 0.0]\n",
       "\n",
       "Float32[0.0 0.0 … 0.0 0.0; 0.0 0.0 … 0.0 0.0; … ; 0.0 0.0 … 0.0 0.0; 0.0 0.0 … 0.0 0.0], ν_pw_n = 1.7715613f0, I = Float32[0.0 0.0 … 0.0 0.0; 0.0 0.0 … 0.0 0.0; … ; 0.0 0.0 … 0.0 0.0; 0.0 0.0 … 0.0 0.0], r = Float32[0.0 0.0 … 0.0 0.0; 0.0 0.0 … 0.0 0.0; … ; 0.0 0.0 … 0.0 0.0; 0.0 0.0 … 0.0 0.0])"
      ]
     },
     "execution_count": 26,
     "metadata": {},
     "output_type": "execute_result"
    }
   ],
   "source": [
    "prob.p"
   ]
  },
  {
   "cell_type": "code",
   "execution_count": 27,
   "metadata": {},
   "outputs": [
    {
     "data": {
      "text/plain": [
       "(K = 2, δ_v = 1.25f0, δ_c = 0.25f0, δ_m = 0.01875f0, δ_z = 0.125f0, δ_s = 2.5f0, σ_1 = 1.0f0, C_1 = 1.5f0, C_2 = 0.075f0, σ_2 = 0.5f0, γ = 10.0f0, α = 0.5f0, ϕ = 2.0f0, Γ = 0.2f0, v_21 = 0.0f0, μ = 2.0f0, ν = 1.1f0, n = 6.0f0, att = 0.0f0, η_p = 2.1f0, η_m = 1.5f0, λ = 1.5f0, a_23_ex = 3.0f0, a_23_in = 0.5f0, v12_6 = 1.0f0, v12_4 = 5.0f0, ψ = 0.5f0, C_AB_l = 5, H_σ_x = 3.0f0, H_σ_y = 4.0f0, H_fact = 5.0f0, H_l = 19, T_fact = Float32[0.87, 0.13], T_p_m = 0.302f0, T_v2_fact = 0.625f0, H_size = 19, W_size = 19, lgn_equ_u = 1.0f0, lgn_equ_A = 0.0f0, lgn_equ_B = 0.0f0, filling = \"circular\", W_l = 19, k_gauss_1 = Float32[0.0029690173 0.013306212 … 0.013306212 0.0029690173; 0.013306212 0.059634306 … 0.059634306 0.013306212; … ; 0.013306212 0.059634306 … 0.059634306 0.013306212; 0.0029690173 0.013306212 … 0.013306212 0.0029690173], k_gauss_2 = Float32[6.9624775f-8 2.808864f-5 … 2.808864f-5 6.9624775f-8; 2.808864f-5 0.011331766 … 0.011331766 2.808864f-5; … ; 2.808864f-5 0.011331766 … 0.011331766 2.808864f-5; 6.9624775f-8 2.808864f-5 … 2.808864f-5 6.9624775f-8], k_C_d = Float32[0.124950476 0.04048735 … -0.04048735 -0.124950476; 0.124950476 0.04048735 … -0.04048735 -0.124950476; … ; 0.124950476 0.04048735 … -0.04048735 -0.124950476; 0.124950476 0.04048735 … -0.04048735 -0.124950476]\n",
       "\n",
       "Float32[0.12495046 0.12495046 … 0.124950476 0.12495049; 0.040487345 0.040487345 … 0.04048735 0.040487353; … ; -0.040487353 -0.04048735 … -0.040487345 -0.040487345; -0.12495049 -0.124950476 … -0.12495046 -0.12495046], k_C_b = Float32[0.124950476 0.04048735 … 0.04048735 0.124950476; 0.124950476 0.04048735 … 0.04048735 0.124950476; … ; 0.124950476 0.04048735 … 0.04048735 0.124950476; 0.124950476 0.04048735 … 0.04048735 0.124950476]\n",
       "\n",
       "Float32[0.12495046 0.12495046 … 0.124950476 0.12495049; 0.040487345 0.040487345 … 0.04048735 0.040487353; … ; 0.040487353 0.04048735 … 0.040487345 0.040487345; 0.12495049 0.124950476 … 0.12495046 0.12495046], k_x_lgn = Float32[1.0]\n",
       "\n",
       "Float32[1.0], k_W_p = Float32[1.2139208f-30 7.1148203f-25 … 7.1148203f-25 1.2139208f-30; 3.1214517f-30 1.8294907f-24 … 1.8294907f-24 3.1214517f-30; … ; 3.1214517f-30 1.8294907f-24 … 1.8294907f-24 3.1214517f-30; 1.2139208f-30 7.1148203f-25 … 7.1148203f-25 1.2139208f-30]\n",
       "\n",
       "Float32[0.2 0.2 … 0.2 0.2; 0.2 0.2 … 0.2 0.2; … ; 0.2 0.2 … 0.2 0.2; 0.2 0.2 … 0.2 0.2]\n",
       "\n",
       "Float32[0.2 0.2 … 0.2 0.2; 0.2 0.2 … 0.2 0.2; … ; 0.2 0.2 … 0.2 0.2; 0.2 0.2 … 0.2 0.2]\n",
       "\n",
       "Float32[1.2139208f-30 3.1214517f-30 … 3.1214517f-30 1.2139208f-30; 7.114875f-25 1.8295047f-24 … 1.8294976f-24 7.1148203f-25; … ; 7.1148203f-25 1.8294976f-24 … 1.8295047f-24 7.114875f-25; 1.2139208f-30 3.1214517f-30 … 3.1214517f-30 1.2139208f-30], k_W_m = Float32[1.2139208f-30 7.1148203f-25 … 7.1148203f-25 1.2139208f-30; 3.1214517f-30 1.8294907f-24 … 1.8294907f-24 3.1214517f-30; … ; 3.1214517f-30 1.8294907f-24 … 1.8294907f-24 3.1214517f-30; 1.2139208f-30 7.1148203f-25 … 7.1148203f-25 1.2139208f-30]\n",
       "\n",
       "Float32[0.2 0.2 … 0.2 0.2; 0.2 0.2 … 0.2 0.2; … ; 0.2 0.2 … 0.2 0.2; 0.2 0.2 … 0.2 0.2]\n",
       "\n",
       "Float32[0.2 0.2 … 0.2 0.2; 0.2 0.2 … 0.2 0.2; … ; 0.2 0.2 … 0.2 0.2; 0.2 0.2 … 0.2 0.2]\n",
       "\n",
       "Float32[1.2139208f-30 3.1214517f-30 … 3.1214517f-30 1.2139208f-30; 7.114875f-25 1.8295047f-24 … 1.8294976f-24 7.1148203f-25; … ; 7.1148203f-25 1.8294976f-24 … 1.8295047f-24 7.114875f-25; 1.2139208f-30 3.1214517f-30 … 3.1214517f-30 1.2139208f-30], k_H = Float32[5.9727277f-5 0.00010159952 … 0.00010159952 5.9727277f-5; 0.00015358177 0.00026125138 … 0.00026125138 0.00015358177; … ; 0.00015358177 0.00026125138 … 0.00026125138 0.00015358177; 5.9727277f-5 0.00010159952 … 0.00010159952 5.9727277f-5]\n",
       "\n",
       "Float32[0.0 0.0 … 0.0 0.0; 0.0 0.0 … 0.0 0.0; … ; 0.0 0.0 … 0.0 0.0; 0.0 0.0 … 0.0 0.0]\n",
       "\n",
       "Float32[0.0 0.0 … 0.0 0.0; 0.0 0.0 … 0.0 0.0; … ; 0.0 0.0 … 0.0 0.0; 0.0 0.0 … 0.0 0.0]\n",
       "\n",
       "Float32[5.9727266f-5 0.00015358173 … 0.00015358179 5.9727266f-5; 0.0001015995 0.00026125144 … 0.00026125144 0.0001015995; … ; 0.0001015995 0.00026125144 … 0.00026125144 0.0001015995; 5.9727266f-5 0.00015358179 … 0.00015358173 5.9727266f-5], k_T_p = Float32[0.87]\n",
       "\n",
       "Float32[0.13]\n",
       "\n",
       "Float32[0.13]\n",
       "\n",
       "Float32[0.87], k_T_m = Float32[0.26274]\n",
       "\n",
       "Float32[0.039259996]\n",
       "\n",
       "Float32[0.039259996]\n",
       "\n",
       "Float32[0.26274], k_T_p_v2 = Float32[0.54375]\n",
       "\n",
       "Float32[0.08125]\n",
       "\n",
       "Float32[0.08125]\n",
       "\n",
       "Float32[0.54375], k_T_m_v2 = Float32[0.1642125]\n",
       "\n",
       "Float32[0.024537498]\n",
       "\n",
       "Float32[0.024537498]\n",
       "\n",
       "Float32[0.1642125], dim_i = 100, dim_j = 100, x_V2 = Float32[0.0 0.0 … 0.0 0.0; 0.0 0.0 … 0.0 0.0; … ; 0.0 0.0 … 0.0 0.0; 0.0 0.0 … 0.0 0.0]\n",
       "\n",
       "Float32[0.0 0.0 … 0.0 0.0; 0.0 0.0 … 0.0 0.0; … ; 0.0 0.0 … 0.0 0.0; 0.0 0.0 … 0.0 0.0], ν_pw_n = 1.7715613f0, I = Float32[0.0 0.0 … 0.0 0.0; 0.0 0.0 … 0.0 0.0; … ; 0.0 0.0 … 0.0 0.0; 0.0 0.0 … 0.0 0.0], r = Float32[0.0 0.0 … 0.0 0.0; 0.0 0.0 … 0.0 0.0; … ; 0.0 0.0 … 0.0 0.0; 0.0 0.0 … 0.0 0.0])"
      ]
     },
     "execution_count": 27,
     "metadata": {},
     "output_type": "execute_result"
    }
   ],
   "source": [
    "p"
   ]
  },
  {
   "cell_type": "code",
   "execution_count": null,
   "metadata": {},
   "outputs": [],
   "source": []
  },
  {
   "cell_type": "code",
   "execution_count": null,
   "metadata": {},
   "outputs": [],
   "source": []
  },
  {
   "cell_type": "code",
   "execution_count": 42,
   "metadata": {},
   "outputs": [
    {
     "name": "stderr",
     "output_type": "stream",
     "text": [
      "┌ Warning: Slow fallback implementation invoked for conv!  You probably don't want this; check your datatypes.\n",
      "│   yT = Expression\n",
      "│   T1 = Operation\n",
      "│   T2 = Float32\n",
      "└ @ NNlib /mnt/storage_1/users/cullinanen/.julia/packages/NNlib/sSn9M/src/conv.jl:206\n"
     ]
    },
    {
     "ename": "MethodError",
     "evalue": "MethodError: no method matching Expression(::Int64)\nClosest candidates are:\n  Expression(::T) where T<:Number at boot.jl:715\n  Expression(!Matched::Bool) at /mnt/storage_1/users/cullinanen/.julia/packages/ModelingToolkit/fM618/src/utils.jl:26\n  Expression(!Matched::Base.TwicePrecision) where T<:Number at twiceprecision.jl:243\n  ...",
     "output_type": "error",
     "traceback": [
      "MethodError: no method matching Expression(::Int64)\nClosest candidates are:\n  Expression(::T) where T<:Number at boot.jl:715\n  Expression(!Matched::Bool) at /mnt/storage_1/users/cullinanen/.julia/packages/ModelingToolkit/fM618/src/utils.jl:26\n  Expression(!Matched::Base.TwicePrecision) where T<:Number at twiceprecision.jl:243\n  ...",
      "",
      "Stacktrace:",
      " [1] conv_direct!(::Array{Expression,5}, ::Base.ReshapedArray{Operation,5,SubArray{Operation,4,Array{Operation,4},NTuple{4,Base.Slice{Base.OneTo{Int64}}},true},Tuple{}}, ::Array{Float32,5}, ::DenseConvDims{3,(1, 1, 1),2,1,(1, 1, 1),(0, 0, 0, 0, 0, 0),(1, 1, 1),true}) at /mnt/storage_1/users/cullinanen/.julia/packages/NNlib/sSn9M/src/impl/conv_direct.jl:51",
      " [2] conv!(::Array{Expression,5}, ::Base.ReshapedArray{Operation,5,SubArray{Operation,4,Array{Operation,4},NTuple{4,Base.Slice{Base.OneTo{Int64}}},true},Tuple{}}, ::Array{Float32,5}, ::DenseConvDims{3,(1, 1, 1),2,1,(1, 1, 1),(0, 0, 0, 0, 0, 0),(1, 1, 1),true}; kwargs::Base.Iterators.Pairs{Union{},Union{},Tuple{},NamedTuple{(),Tuple{}}}) at /mnt/storage_1/users/cullinanen/.julia/packages/NNlib/sSn9M/src/conv.jl:208",
      " [3] conv!(::Array{Expression,5}, ::Base.ReshapedArray{Operation,5,SubArray{Operation,4,Array{Operation,4},NTuple{4,Base.Slice{Base.OneTo{Int64}}},true},Tuple{}}, ::Array{Float32,5}, ::DenseConvDims{3,(1, 1, 1),2,1,(1, 1, 1),(0, 0, 0, 0, 0, 0),(1, 1, 1),true}) at /mnt/storage_1/users/cullinanen/.julia/packages/NNlib/sSn9M/src/conv.jl:206",
      " [4] conv!(::Array{Expression,4}, ::SubArray{Operation,4,Array{Operation,4},NTuple{4,Base.Slice{Base.OneTo{Int64}}},true}, ::Array{Float32,4}, ::DenseConvDims{2,(1, 1),2,1,(1, 1),(0, 0, 0, 0),(1, 1),true}; kwargs::Base.Iterators.Pairs{Union{},Union{},Tuple{},NamedTuple{(),Tuple{}}}) at /mnt/storage_1/users/cullinanen/.julia/packages/NNlib/sSn9M/src/conv.jl:148",
      " [5] conv!(::Array{Expression,4}, ::SubArray{Operation,4,Array{Operation,4},NTuple{4,Base.Slice{Base.OneTo{Int64}}},true}, ::Array{Float32,4}, ::DenseConvDims{2,(1, 1),2,1,(1, 1),(0, 0, 0, 0),(1, 1),true}) at /mnt/storage_1/users/cullinanen/.julia/packages/NNlib/sSn9M/src/conv.jl:148",
      " [6] conv(::SubArray{Operation,4,Array{Operation,4},NTuple{4,Base.Slice{Base.OneTo{Int64}}},true}, ::Array{Float32,4}, ::DenseConvDims{2,(1, 1),2,1,(1, 1),(0, 0, 0, 0),(1, 1),true}; kwargs::Base.Iterators.Pairs{Union{},Union{},Tuple{},NamedTuple{(),Tuple{}}}) at /mnt/storage_1/users/cullinanen/.julia/packages/NNlib/sSn9M/src/conv.jl:91",
      " [7] conv(::SubArray{Operation,4,Array{Operation,4},NTuple{4,Base.Slice{Base.OneTo{Int64}}},true}, ::Array{Float32,4}, ::DenseConvDims{2,(1, 1),2,1,(1, 1),(0, 0, 0, 0),(1, 1),true}) at /mnt/storage_1/users/cullinanen/.julia/packages/NNlib/sSn9M/src/conv.jl:89",
      " [8] conv(::SubArray{Operation,4,Array{Operation,4},NTuple{4,Base.Slice{Base.OneTo{Int64}}},true}, ::Array{Float32,4}; stride::Int64, pad::Int64, dilation::Int64, flipped::Bool) at /mnt/storage_1/users/cullinanen/.julia/packages/NNlib/sSn9M/src/conv.jl:59",
      " [9] fun_x_lgn!(::Array{Operation,4}, ::Array{Operation,4}, ::NamedTuple{(:K, :δ_v, :δ_c, :δ_m, :δ_z, :δ_s, :σ_1, :C_1, :C_2, :σ_2, :γ, :α, :ϕ, :Γ, :v_21, :μ, :ν, :n, :att, :η_p, :η_m, :λ, :a_23_ex, :a_23_in, :v12_6, :v12_4, :ψ, :C_AB_l, :H_σ_x, :H_σ_y, :H_fact, :H_l, :T_fact, :T_p_m, :T_v2_fact, :H_size, :W_size, :lgn_equ_u, :lgn_equ_A, :lgn_equ_B, :filling, :W_l, :k_gauss_1, :k_gauss_2, :k_C_d, :k_C_b, :k_x_lgn, :k_W_p, :k_W_m, :k_H, :k_T_p, :k_T_m, :k_T_p_v2, :k_T_m_v2, :dim_i, :dim_j, :x_V2, :ν_pw_n, :I, :r),Tuple{Int64,Float32,Float32,Float32,Float32,Float32,Float32,Float32,Float32,Float32,Float32,Float32,Float32,Float32,Float32,Float32,Float32,Float32,Float32,Float32,Float32,Float32,Float32,Float32,Float32,Float32,Float32,Int64,Float32,Float32,Float32,Int64,Array{Float32,1},Float32,Float32,Int64,Int64,Float32,Float32,Float32,String,Int64,Array{Float32,4},Array{Float32,4},Array{Float32,4},Array{Float32,4},Array{Float32,4},Array{Float32,4},Array{Float32,4},Array{Float32,4},Array{Float32,4},Array{Float32,4},Array{Float32,4},Array{Float32,4},Int64,Int64,Array{Float32,4},Float32,Array{Float32,4},Array{Float32,4}}}) at /mnt/storage_1/users/cullinanen/.julia/dev/MEngProject.jl/src/LaminartGPU.jl:1333",
      " [10] (::MEngProject.LaminartGPU.LamFunction_cpu{Array{Operation,4}})(::Array{Any,4}, ::Array{Operation,4}, ::NamedTuple{(:K, :δ_v, :δ_c, :δ_m, :δ_z, :δ_s, :σ_1, :C_1, :C_2, :σ_2, :γ, :α, :ϕ, :Γ, :v_21, :μ, :ν, :n, :att, :η_p, :η_m, :λ, :a_23_ex, :a_23_in, :v12_6, :v12_4, :ψ, :C_AB_l, :H_σ_x, :H_σ_y, :H_fact, :H_l, :T_fact, :T_p_m, :T_v2_fact, :H_size, :W_size, :lgn_equ_u, :lgn_equ_A, :lgn_equ_B, :filling, :W_l, :k_gauss_1, :k_gauss_2, :k_C_d, :k_C_b, :k_x_lgn, :k_W_p, :k_W_m, :k_H, :k_T_p, :k_T_m, :k_T_p_v2, :k_T_m_v2, :dim_i, :dim_j, :x_V2, :ν_pw_n, :I, :r),Tuple{Int64,Float32,Float32,Float32,Float32,Float32,Float32,Float32,Float32,Float32,Float32,Float32,Float32,Float32,Float32,Float32,Float32,Float32,Float32,Float32,Float32,Float32,Float32,Float32,Float32,Float32,Float32,Int64,Float32,Float32,Float32,Int64,Array{Float32,1},Float32,Float32,Int64,Int64,Float32,Float32,Float32,String,Int64,Array{Float32,4},Array{Float32,4},Array{Float32,4},Array{Float32,4},Array{Float32,4},Array{Float32,4},Array{Float32,4},Array{Float32,4},Array{Float32,4},Array{Float32,4},Array{Float32,4},Array{Float32,4},Int64,Int64,Array{Float32,4},Float32,Array{Float32,4},Array{Float32,4}}}, ::Operation) at /mnt/storage_1/users/cullinanen/.julia/dev/MEngProject.jl/src/LaminartGPU.jl:114",
      " [11] top-level scope at In[42]:1"
     ]
    }
   ],
   "source": [
    "f(lhs, vars, params, t)"
   ]
  },
  {
   "cell_type": "code",
   "execution_count": null,
   "metadata": {},
   "outputs": [],
   "source": []
  },
  {
   "cell_type": "code",
   "execution_count": 40,
   "metadata": {},
   "outputs": [],
   "source": [
    "arr1 = vars[:, :, 1:p.K,:]\n",
    "\n",
    "arr2 = vars[:, :, 1:1,:];"
   ]
  },
  {
   "cell_type": "code",
   "execution_count": 41,
   "metadata": {},
   "outputs": [],
   "source": [
    "f = LaminartGPU.LamFunction_cpu(\n",
    "    similar(arr1), # x\n",
    "    similar(arr1), # y\n",
    "    similar(arr1), # m\n",
    "    similar(arr1), # z\n",
    "    similar(arr1), # s\n",
    "    similar(arr2), # v_p\n",
    "    similar(arr2), # v_m\n",
    "    similar(arr1), # dx\n",
    "    similar(arr1), # dy\n",
    "    similar(arr1), # dm\n",
    "    similar(arr1), # dz\n",
    "    similar(arr1), # ds\n",
    "    similar(arr2), # dv_p\n",
    "    similar(arr2), # dv_m\n",
    "    similar(arr2), # x_lgn\n",
    "    similar(arr1), # C\n",
    "    similar(arr1), # H_z\n",
    "    similar(arr2), # V_temp1\n",
    "    similar(arr2), # V_temp2\n",
    "    similar(arr1), # Q_temp\n",
    "    similar(arr1), # P_temp\n",
    "    );"
   ]
  },
  {
   "cell_type": "code",
   "execution_count": 28,
   "metadata": {},
   "outputs": [],
   "source": [
    "prob= ODEProblem(f, u0, tspan, p);"
   ]
  },
  {
   "cell_type": "code",
   "execution_count": 46,
   "metadata": {},
   "outputs": [
    {
     "name": "stderr",
     "output_type": "stream",
     "text": [
      "┌ Warning: Slow fallback implementation invoked for conv!  You probably don't want this; check your datatypes.\n",
      "│   yT = Operation\n",
      "│   T1 = Operation\n",
      "│   T2 = Float32\n",
      "└ @ NNlib /mnt/storage_1/users/cullinanen/.julia/packages/NNlib/sSn9M/src/conv.jl:206\n"
     ]
    },
    {
     "ename": "UndefRefError",
     "evalue": "UndefRefError: access to undefined reference",
     "output_type": "error",
     "traceback": [
      "UndefRefError: access to undefined reference",
      "",
      "Stacktrace:",
      " [1] getindex at ./array.jl:789 [inlined]",
      " [2] conv_direct!(::Array{Operation,5}, ::Array{Operation,5}, ::Array{Float32,5}, ::DenseConvDims{3,(1, 1, 1),2,1,(1, 1, 1),(0, 0, 0, 0, 0, 0),(1, 1, 1),true}; alpha::Operation, beta::Bool) at /mnt/storage_1/users/cullinanen/.julia/packages/NNlib/sSn9M/src/impl/conv_direct.jl:98",
      " [3] conv_direct! at /mnt/storage_1/users/cullinanen/.julia/packages/NNlib/sSn9M/src/impl/conv_direct.jl:51 [inlined]",
      " [4] conv!(::Array{Operation,5}, ::Array{Operation,5}, ::Array{Float32,5}, ::DenseConvDims{3,(1, 1, 1),2,1,(1, 1, 1),(0, 0, 0, 0, 0, 0),(1, 1, 1),true}; kwargs::Base.Iterators.Pairs{Union{},Union{},Tuple{},NamedTuple{(),Tuple{}}}) at /mnt/storage_1/users/cullinanen/.julia/packages/NNlib/sSn9M/src/conv.jl:208",
      " [5] conv!(::Array{Operation,5}, ::Array{Operation,5}, ::Array{Float32,5}, ::DenseConvDims{3,(1, 1, 1),2,1,(1, 1, 1),(0, 0, 0, 0, 0, 0),(1, 1, 1),true}) at /mnt/storage_1/users/cullinanen/.julia/packages/NNlib/sSn9M/src/conv.jl:206",
      " [6] conv!(::Array{Operation,4}, ::Array{Operation,4}, ::Array{Float32,4}, ::DenseConvDims{2,(1, 1),2,1,(1, 1),(0, 0, 0, 0),(1, 1),true}; kwargs::Base.Iterators.Pairs{Union{},Union{},Tuple{},NamedTuple{(),Tuple{}}}) at /mnt/storage_1/users/cullinanen/.julia/packages/NNlib/sSn9M/src/conv.jl:148",
      " [7] conv!(::Array{Operation,4}, ::Array{Operation,4}, ::Array{Float32,4}, ::DenseConvDims{2,(1, 1),2,1,(1, 1),(0, 0, 0, 0),(1, 1),true}) at /mnt/storage_1/users/cullinanen/.julia/packages/NNlib/sSn9M/src/conv.jl:148",
      " [8] top-level scope at In[46]:1"
     ]
    }
   ],
   "source": [
    "NNlib.conv!(f.x_lgn, f.x, p.k_x_lgn, NNlib.DenseConvDims(f.x, p.k_x_lgn, padding=0, flipkernel=true))"
   ]
  },
  {
   "cell_type": "code",
   "execution_count": 45,
   "metadata": {},
   "outputs": [
    {
     "data": {
      "text/plain": [
       "DenseConvDims: (100, 100, 2) * (1, 1) -> (100, 100, 1), stride: (1, 1), pad: (0, 0, 0, 0), dil: (1, 1), flip: true"
      ]
     },
     "execution_count": 45,
     "metadata": {},
     "output_type": "execute_result"
    }
   ],
   "source": [
    " cdim = NNlib.DenseConvDims(f.x, p.k_x_lgn, padding=0, flipkernel=true)"
   ]
  },
  {
   "cell_type": "code",
   "execution_count": null,
   "metadata": {},
   "outputs": [],
   "source": []
  }
 ],
 "metadata": {
  "kernelspec": {
   "display_name": "Julia 1.4.2",
   "language": "julia",
   "name": "julia-1.4"
  },
  "language_info": {
   "file_extension": ".jl",
   "mimetype": "application/julia",
   "name": "julia",
   "version": "1.4.2"
  }
 },
 "nbformat": 4,
 "nbformat_minor": 4
}
