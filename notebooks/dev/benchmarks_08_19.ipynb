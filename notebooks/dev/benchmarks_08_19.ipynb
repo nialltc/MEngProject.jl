{
 "cells": [
  {
   "cell_type": "code",
   "execution_count": null,
   "metadata": {},
   "outputs": [],
   "source": []
  },
  {
   "cell_type": "code",
   "execution_count": null,
   "metadata": {},
   "outputs": [
    {
     "name": "stderr",
     "output_type": "stream",
     "text": [
      "┌ Info: Precompiling MEngProject [d0493a11-efc0-4c7c-9b66-d0bd5a04cc55]\n",
      "└ @ Base loading.jl:1260\n"
     ]
    }
   ],
   "source": [
    "using DrWatson\n",
    "@quickactivate \"MEngProject\"\n",
    "using MEngProject, CUDA, DifferentialEquations, PyPlot, NNlib,  ImageFiltering, Images, MEngProject, MEngProject.LamKernels, MEngProject.Laminart, MEngProject.Utils, BenchmarkTools, Test"
   ]
  },
  {
   "cell_type": "code",
   "execution_count": null,
   "metadata": {},
   "outputs": [],
   "source": [
    "using OrdinaryDiffEq, ParameterizedFunctions, LSODA, Sundials, DiffEqDevTools"
   ]
  },
  {
   "cell_type": "code",
   "execution_count": 3,
   "metadata": {},
   "outputs": [
    {
     "data": {
      "text/plain": [
       "reshape2d_4d (generic function with 1 method)"
      ]
     },
     "execution_count": 3,
     "metadata": {},
     "output_type": "execute_result"
    }
   ],
   "source": []
  },
  {
   "cell_type": "code",
   "execution_count": null,
   "metadata": {},
   "outputs": [],
   "source": [
    "img = convert(Array{Float32,2}, load(datadir(\"temp5_100_100_gs.png\")));\n",
    "img = LaminartGPU.reshape2d_4d(img)\n",
    "img = cu(img)\n",
    "\n",
    "r = similar(img)\n",
    "\n",
    "p = LaminartGPU.kernels(img, Parameters.parameters);\n",
    "\n",
    "LaminartGPU.I_u!(r, img, p)\n",
    "temp_out = (I = img, r = r)\n",
    "p = merge(p, temp_out);\n",
    "\n",
    "tspan = (0.0f0, 100f0)\n",
    "u0 = cu(reshape(zeros(Float32, p.dim_i, p.dim_j*(5*p.K+2)), p.dim_i, p.dim_j, 5*p.K+2,1));\n",
    "\n",
    "arr1 = u0[:, :, 1:p.K,:]\n",
    "arr2 = u0[:, :, 1:1,:];\n",
    "\n",
    "f = LaminartGPU.LamFunction(\n",
    "    similar(arr1), #x\n",
    "    similar(arr1), #m\n",
    "    similar(arr1), #s\n",
    " similar(arr2), #x_lgn,\n",
    "similar(arr1), #C,\n",
    "similar(arr1), #H_z,\n",
    "similar(arr1), # dy_temp,\n",
    "similar(arr1), # dm_temp,\n",
    "similar(arr1), # dz_temp,\n",
    "similar(arr1), # ds_temp,\n",
    "similar(arr2), # dv_temp,\n",
    "similar(arr1), # H_z_temp,\n",
    "similar(arr2), #  V_temp_1,\n",
    "similar(arr2), #  V_temp_2,\n",
    "similar(arr1), #  A_temp,\n",
    "similar(arr1), #   B_temp\n",
    "    );\n",
    "\n",
    "prob = ODEProblem(f, u0, tspan, p);"
   ]
  },
  {
   "cell_type": "code",
   "execution_count": null,
   "metadata": {},
   "outputs": [],
   "source": []
  }
 ],
 "metadata": {
  "kernelspec": {
   "display_name": "Julia 1.4.2",
   "language": "julia",
   "name": "julia-1.4"
  },
  "language_info": {
   "file_extension": ".jl",
   "mimetype": "application/julia",
   "name": "julia",
   "version": "1.4.2"
  }
 },
 "nbformat": 4,
 "nbformat_minor": 4
}
