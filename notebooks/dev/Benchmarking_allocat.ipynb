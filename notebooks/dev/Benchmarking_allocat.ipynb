{
 "cells": [
  {
   "cell_type": "code",
   "execution_count": 1,
   "metadata": {},
   "outputs": [],
   "source": [
    "using ModelingToolkit, OrdinaryDiffEq, DifferentialEquations, LinearAlgebra, SparseArrays"
   ]
  },
  {
   "cell_type": "code",
   "execution_count": 2,
   "metadata": {},
   "outputs": [
    {
     "name": "stderr",
     "output_type": "stream",
     "text": [
      "┌ Warning: Hardware is unsupported by NNPACK so falling back to default NNlib\n",
      "└ @ NNlib /Users/niallcullinane/.julia/packages/NNlib/GhWiz/src/nnpack/NNPACK.jl:42\n",
      "┌ Info: Precompiling MEngProject [d0493a11-efc0-4c7c-9b66-d0bd5a04cc55]\n",
      "└ @ Base loading.jl:1260\n",
      "┌ Warning: Hardware is unsupported by NNPACK so falling back to default NNlib\n",
      "└ @ NNlib ~/.julia/packages/NNlib/GhWiz/src/nnpack/NNPACK.jl:42\n"
     ]
    }
   ],
   "source": [
    "using PyPlot, NNlib,  ImageFiltering, Images, MEngProject, MEngProject.LamKernels, MEngProject.Laminart, MEngProject.Utils, BenchmarkTools"
   ]
  },
  {
   "cell_type": "code",
   "execution_count": 3,
   "metadata": {},
   "outputs": [],
   "source": [
    "using MEngProject.Laminartv1"
   ]
  },
  {
   "cell_type": "code",
   "execution_count": 7,
   "metadata": {},
   "outputs": [],
   "source": [
    "img = convert(Array{Float32,2}, load(\"../input_img/Iine_100_100_gs.png\"));\n",
    "p = Laminart.kernels(img, Parameters.parameters);\n",
    "p = Laminart.add_I_u_p(img, p);\n"
   ]
  },
  {
   "cell_type": "code",
   "execution_count": 3,
   "metadata": {},
   "outputs": [],
   "source": [
    "using Test"
   ]
  },
  {
   "cell_type": "code",
   "execution_count": 34,
   "metadata": {},
   "outputs": [
    {
     "data": {
      "text/plain": [
       "0.0f0"
      ]
     },
     "execution_count": 34,
     "metadata": {},
     "output_type": "execute_result"
    }
   ],
   "source": []
  },
  {
   "cell_type": "code",
   "execution_count": 13,
   "metadata": {},
   "outputs": [
    {
     "data": {
      "text/plain": [
       "nn (generic function with 1 method)"
      ]
     },
     "execution_count": 13,
     "metadata": {},
     "output_type": "execute_result"
    }
   ],
   "source": [
    "function nn!(a, b, c)\n",
    "    @. a = b + c\n",
    "end\n",
    "function nn(b, c)\n",
    "     b + c\n",
    "end"
   ]
  },
  {
   "cell_type": "code",
   "execution_count": 14,
   "metadata": {},
   "outputs": [
    {
     "data": {
      "text/plain": [
       "BenchmarkTools.Trial: \n",
       "  memory estimate:  0 bytes\n",
       "  allocs estimate:  0\n",
       "  --------------\n",
       "  minimum time:     1.857 ms (0.00% GC)\n",
       "  median time:      2.133 ms (0.00% GC)\n",
       "  mean time:        2.357 ms (0.00% GC)\n",
       "  maximum time:     5.390 ms (0.00% GC)\n",
       "  --------------\n",
       "  samples:          2096\n",
       "  evals/sample:     1"
      ]
     },
     "execution_count": 14,
     "metadata": {},
     "output_type": "execute_result"
    }
   ],
   "source": [
    "aa = rand(1000,1000)\n",
    "bb = zeros(1000,1000)\n",
    "cc = ones(1000,1000);\n",
    "@benchmark nn!(aa,bb,cc)"
   ]
  },
  {
   "cell_type": "code",
   "execution_count": 23,
   "metadata": {},
   "outputs": [
    {
     "data": {
      "text/plain": [
       "\u001b[32m\u001b[1mTest Passed\u001b[22m\u001b[39m"
      ]
     },
     "execution_count": 23,
     "metadata": {},
     "output_type": "execute_result"
    }
   ],
   "source": [
    "@test aa == cc"
   ]
  },
  {
   "cell_type": "code",
   "execution_count": 16,
   "metadata": {},
   "outputs": [
    {
     "data": {
      "text/plain": [
       "BenchmarkTools.Trial: \n",
       "  memory estimate:  7.63 MiB\n",
       "  allocs estimate:  4\n",
       "  --------------\n",
       "  minimum time:     3.448 ms (0.00% GC)\n",
       "  median time:      4.882 ms (0.00% GC)\n",
       "  mean time:        5.778 ms (14.04% GC)\n",
       "  maximum time:     21.365 ms (75.00% GC)\n",
       "  --------------\n",
       "  samples:          861\n",
       "  evals/sample:     1"
      ]
     },
     "execution_count": 16,
     "metadata": {},
     "output_type": "execute_result"
    }
   ],
   "source": [
    "ac = rand(1000,1000)\n",
    "bb = zeros(1000,1000)\n",
    "cc = ones(1000,1000);\n",
    "@benchmark ac .= nn(bb,cc)"
   ]
  },
  {
   "cell_type": "code",
   "execution_count": 21,
   "metadata": {},
   "outputs": [
    {
     "data": {
      "text/plain": [
       "\u001b[32m\u001b[1mTest Passed\u001b[22m\u001b[39m"
      ]
     },
     "execution_count": 21,
     "metadata": {},
     "output_type": "execute_result"
    }
   ],
   "source": [
    "@test ac == cc"
   ]
  },
  {
   "cell_type": "code",
   "execution_count": 30,
   "metadata": {},
   "outputs": [
    {
     "data": {
      "text/plain": [
       "1000×1000 Array{Float64,2}:\n",
       " 1.0  1.0  1.0  1.0  1.0  1.0  1.0  1.0  …  1.0  1.0  1.0  1.0  1.0  1.0  1.0\n",
       " 1.0  1.0  1.0  1.0  1.0  1.0  1.0  1.0     1.0  1.0  1.0  1.0  1.0  1.0  1.0\n",
       " 1.0  1.0  1.0  1.0  1.0  1.0  1.0  1.0     1.0  1.0  1.0  1.0  1.0  1.0  1.0\n",
       " 1.0  1.0  1.0  1.0  1.0  1.0  1.0  1.0     1.0  1.0  1.0  1.0  1.0  1.0  1.0\n",
       " 1.0  1.0  1.0  1.0  1.0  1.0  1.0  1.0     1.0  1.0  1.0  1.0  1.0  1.0  1.0\n",
       " 1.0  1.0  1.0  1.0  1.0  1.0  1.0  1.0  …  1.0  1.0  1.0  1.0  1.0  1.0  1.0\n",
       " 1.0  1.0  1.0  1.0  1.0  1.0  1.0  1.0     1.0  1.0  1.0  1.0  1.0  1.0  1.0\n",
       " 1.0  1.0  1.0  1.0  1.0  1.0  1.0  1.0     1.0  1.0  1.0  1.0  1.0  1.0  1.0\n",
       " 1.0  1.0  1.0  1.0  1.0  1.0  1.0  1.0     1.0  1.0  1.0  1.0  1.0  1.0  1.0\n",
       " 1.0  1.0  1.0  1.0  1.0  1.0  1.0  1.0     1.0  1.0  1.0  1.0  1.0  1.0  1.0\n",
       " 1.0  1.0  1.0  1.0  1.0  1.0  1.0  1.0  …  1.0  1.0  1.0  1.0  1.0  1.0  1.0\n",
       " 1.0  1.0  1.0  1.0  1.0  1.0  1.0  1.0     1.0  1.0  1.0  1.0  1.0  1.0  1.0\n",
       " 1.0  1.0  1.0  1.0  1.0  1.0  1.0  1.0     1.0  1.0  1.0  1.0  1.0  1.0  1.0\n",
       " ⋮                        ⋮              ⋱            ⋮                   \n",
       " 1.0  1.0  1.0  1.0  1.0  1.0  1.0  1.0     1.0  1.0  1.0  1.0  1.0  1.0  1.0\n",
       " 1.0  1.0  1.0  1.0  1.0  1.0  1.0  1.0     1.0  1.0  1.0  1.0  1.0  1.0  1.0\n",
       " 1.0  1.0  1.0  1.0  1.0  1.0  1.0  1.0  …  1.0  1.0  1.0  1.0  1.0  1.0  1.0\n",
       " 1.0  1.0  1.0  1.0  1.0  1.0  1.0  1.0     1.0  1.0  1.0  1.0  1.0  1.0  1.0\n",
       " 1.0  1.0  1.0  1.0  1.0  1.0  1.0  1.0     1.0  1.0  1.0  1.0  1.0  1.0  1.0\n",
       " 1.0  1.0  1.0  1.0  1.0  1.0  1.0  1.0     1.0  1.0  1.0  1.0  1.0  1.0  1.0\n",
       " 1.0  1.0  1.0  1.0  1.0  1.0  1.0  1.0     1.0  1.0  1.0  1.0  1.0  1.0  1.0\n",
       " 1.0  1.0  1.0  1.0  1.0  1.0  1.0  1.0  …  1.0  1.0  1.0  1.0  1.0  1.0  1.0\n",
       " 1.0  1.0  1.0  1.0  1.0  1.0  1.0  1.0     1.0  1.0  1.0  1.0  1.0  1.0  1.0\n",
       " 1.0  1.0  1.0  1.0  1.0  1.0  1.0  1.0     1.0  1.0  1.0  1.0  1.0  1.0  1.0\n",
       " 1.0  1.0  1.0  1.0  1.0  1.0  1.0  1.0     1.0  1.0  1.0  1.0  1.0  1.0  1.0\n",
       " 1.0  1.0  1.0  1.0  1.0  1.0  1.0  1.0     1.0  1.0  1.0  1.0  1.0  1.0  1.0"
      ]
     },
     "execution_count": 30,
     "metadata": {},
     "output_type": "execute_result"
    }
   ],
   "source": [
    "ac"
   ]
  },
  {
   "cell_type": "code",
   "execution_count": 31,
   "metadata": {},
   "outputs": [
    {
     "data": {
      "text/plain": [
       "nnn! (generic function with 2 methods)"
      ]
     },
     "execution_count": 31,
     "metadata": {},
     "output_type": "execute_result"
    }
   ],
   "source": [
    "function nnn!(a,b)\n",
    "    a = imfilter!(a, b, Kernel.gaussian(0.5))\n",
    "end"
   ]
  },
  {
   "cell_type": "code",
   "execution_count": 36,
   "metadata": {},
   "outputs": [
    {
     "data": {
      "text/plain": [
       "1000×1000 Array{Float64,2}:\n",
       " 1.0  1.0  1.0  1.0  1.0  1.0  1.0  1.0  …  1.0  1.0  1.0  1.0  1.0  1.0  1.0\n",
       " 1.0  1.0  1.0  1.0  1.0  1.0  1.0  1.0     1.0  1.0  1.0  1.0  1.0  1.0  1.0\n",
       " 1.0  1.0  1.0  1.0  1.0  1.0  1.0  1.0     1.0  1.0  1.0  1.0  1.0  1.0  1.0\n",
       " 1.0  1.0  1.0  1.0  1.0  1.0  1.0  1.0     1.0  1.0  1.0  1.0  1.0  1.0  1.0\n",
       " 1.0  1.0  1.0  1.0  1.0  1.0  1.0  1.0     1.0  1.0  1.0  1.0  1.0  1.0  1.0\n",
       " 1.0  1.0  1.0  1.0  1.0  1.0  1.0  1.0  …  1.0  1.0  1.0  1.0  1.0  1.0  1.0\n",
       " 1.0  1.0  1.0  1.0  1.0  1.0  1.0  1.0     1.0  1.0  1.0  1.0  1.0  1.0  1.0\n",
       " 1.0  1.0  1.0  1.0  1.0  1.0  1.0  1.0     1.0  1.0  1.0  1.0  1.0  1.0  1.0\n",
       " 1.0  1.0  1.0  1.0  1.0  1.0  1.0  1.0     1.0  1.0  1.0  1.0  1.0  1.0  1.0\n",
       " 1.0  1.0  1.0  1.0  1.0  1.0  1.0  1.0     1.0  1.0  1.0  1.0  1.0  1.0  1.0\n",
       " 1.0  1.0  1.0  1.0  1.0  1.0  1.0  1.0  …  1.0  1.0  1.0  1.0  1.0  1.0  1.0\n",
       " 1.0  1.0  1.0  1.0  1.0  1.0  1.0  1.0     1.0  1.0  1.0  1.0  1.0  1.0  1.0\n",
       " 1.0  1.0  1.0  1.0  1.0  1.0  1.0  1.0     1.0  1.0  1.0  1.0  1.0  1.0  1.0\n",
       " ⋮                        ⋮              ⋱            ⋮                   \n",
       " 1.0  1.0  1.0  1.0  1.0  1.0  1.0  1.0     1.0  1.0  1.0  1.0  1.0  1.0  1.0\n",
       " 1.0  1.0  1.0  1.0  1.0  1.0  1.0  1.0     1.0  1.0  1.0  1.0  1.0  1.0  1.0\n",
       " 1.0  1.0  1.0  1.0  1.0  1.0  1.0  1.0  …  1.0  1.0  1.0  1.0  1.0  1.0  1.0\n",
       " 1.0  1.0  1.0  1.0  1.0  1.0  1.0  1.0     1.0  1.0  1.0  1.0  1.0  1.0  1.0\n",
       " 1.0  1.0  1.0  1.0  1.0  1.0  1.0  1.0     1.0  1.0  1.0  1.0  1.0  1.0  1.0\n",
       " 1.0  1.0  1.0  1.0  1.0  1.0  1.0  1.0     1.0  1.0  1.0  1.0  1.0  1.0  1.0\n",
       " 1.0  1.0  1.0  1.0  1.0  1.0  1.0  1.0     1.0  1.0  1.0  1.0  1.0  1.0  1.0\n",
       " 1.0  1.0  1.0  1.0  1.0  1.0  1.0  1.0  …  1.0  1.0  1.0  1.0  1.0  1.0  1.0\n",
       " 1.0  1.0  1.0  1.0  1.0  1.0  1.0  1.0     1.0  1.0  1.0  1.0  1.0  1.0  1.0\n",
       " 1.0  1.0  1.0  1.0  1.0  1.0  1.0  1.0     1.0  1.0  1.0  1.0  1.0  1.0  1.0\n",
       " 1.0  1.0  1.0  1.0  1.0  1.0  1.0  1.0     1.0  1.0  1.0  1.0  1.0  1.0  1.0\n",
       " 1.0  1.0  1.0  1.0  1.0  1.0  1.0  1.0     1.0  1.0  1.0  1.0  1.0  1.0  1.0"
      ]
     },
     "execution_count": 36,
     "metadata": {},
     "output_type": "execute_result"
    }
   ],
   "source": [
    "bb = zeros(1000,1000)\n",
    "nnn!(bb, cc)"
   ]
  },
  {
   "cell_type": "code",
   "execution_count": 37,
   "metadata": {},
   "outputs": [
    {
     "data": {
      "text/plain": [
       "1000×1000 Array{Float64,2}:\n",
       " 1.0  1.0  1.0  1.0  1.0  1.0  1.0  1.0  …  1.0  1.0  1.0  1.0  1.0  1.0  1.0\n",
       " 1.0  1.0  1.0  1.0  1.0  1.0  1.0  1.0     1.0  1.0  1.0  1.0  1.0  1.0  1.0\n",
       " 1.0  1.0  1.0  1.0  1.0  1.0  1.0  1.0     1.0  1.0  1.0  1.0  1.0  1.0  1.0\n",
       " 1.0  1.0  1.0  1.0  1.0  1.0  1.0  1.0     1.0  1.0  1.0  1.0  1.0  1.0  1.0\n",
       " 1.0  1.0  1.0  1.0  1.0  1.0  1.0  1.0     1.0  1.0  1.0  1.0  1.0  1.0  1.0\n",
       " 1.0  1.0  1.0  1.0  1.0  1.0  1.0  1.0  …  1.0  1.0  1.0  1.0  1.0  1.0  1.0\n",
       " 1.0  1.0  1.0  1.0  1.0  1.0  1.0  1.0     1.0  1.0  1.0  1.0  1.0  1.0  1.0\n",
       " 1.0  1.0  1.0  1.0  1.0  1.0  1.0  1.0     1.0  1.0  1.0  1.0  1.0  1.0  1.0\n",
       " 1.0  1.0  1.0  1.0  1.0  1.0  1.0  1.0     1.0  1.0  1.0  1.0  1.0  1.0  1.0\n",
       " 1.0  1.0  1.0  1.0  1.0  1.0  1.0  1.0     1.0  1.0  1.0  1.0  1.0  1.0  1.0\n",
       " 1.0  1.0  1.0  1.0  1.0  1.0  1.0  1.0  …  1.0  1.0  1.0  1.0  1.0  1.0  1.0\n",
       " 1.0  1.0  1.0  1.0  1.0  1.0  1.0  1.0     1.0  1.0  1.0  1.0  1.0  1.0  1.0\n",
       " 1.0  1.0  1.0  1.0  1.0  1.0  1.0  1.0     1.0  1.0  1.0  1.0  1.0  1.0  1.0\n",
       " ⋮                        ⋮              ⋱            ⋮                   \n",
       " 1.0  1.0  1.0  1.0  1.0  1.0  1.0  1.0     1.0  1.0  1.0  1.0  1.0  1.0  1.0\n",
       " 1.0  1.0  1.0  1.0  1.0  1.0  1.0  1.0     1.0  1.0  1.0  1.0  1.0  1.0  1.0\n",
       " 1.0  1.0  1.0  1.0  1.0  1.0  1.0  1.0  …  1.0  1.0  1.0  1.0  1.0  1.0  1.0\n",
       " 1.0  1.0  1.0  1.0  1.0  1.0  1.0  1.0     1.0  1.0  1.0  1.0  1.0  1.0  1.0\n",
       " 1.0  1.0  1.0  1.0  1.0  1.0  1.0  1.0     1.0  1.0  1.0  1.0  1.0  1.0  1.0\n",
       " 1.0  1.0  1.0  1.0  1.0  1.0  1.0  1.0     1.0  1.0  1.0  1.0  1.0  1.0  1.0\n",
       " 1.0  1.0  1.0  1.0  1.0  1.0  1.0  1.0     1.0  1.0  1.0  1.0  1.0  1.0  1.0\n",
       " 1.0  1.0  1.0  1.0  1.0  1.0  1.0  1.0  …  1.0  1.0  1.0  1.0  1.0  1.0  1.0\n",
       " 1.0  1.0  1.0  1.0  1.0  1.0  1.0  1.0     1.0  1.0  1.0  1.0  1.0  1.0  1.0\n",
       " 1.0  1.0  1.0  1.0  1.0  1.0  1.0  1.0     1.0  1.0  1.0  1.0  1.0  1.0  1.0\n",
       " 1.0  1.0  1.0  1.0  1.0  1.0  1.0  1.0     1.0  1.0  1.0  1.0  1.0  1.0  1.0\n",
       " 1.0  1.0  1.0  1.0  1.0  1.0  1.0  1.0     1.0  1.0  1.0  1.0  1.0  1.0  1.0"
      ]
     },
     "execution_count": 37,
     "metadata": {},
     "output_type": "execute_result"
    }
   ],
   "source": [
    "bb"
   ]
  },
  {
   "cell_type": "code",
   "execution_count": 44,
   "metadata": {},
   "outputs": [
    {
     "data": {
      "text/plain": [
       "nm! (generic function with 1 method)"
      ]
     },
     "execution_count": 44,
     "metadata": {},
     "output_type": "execute_result"
    }
   ],
   "source": [
    "function nm!(o, a,b,s)\n",
    "    temp = similar(o)\n",
    "    imfilter!(temp, b, Kernel.gaussian(2))\n",
    "    @. o = s * max(a, 0) + (temp)\n",
    "end"
   ]
  },
  {
   "cell_type": "code",
   "execution_count": 45,
   "metadata": {},
   "outputs": [
    {
     "data": {
      "text/plain": [
       "1000×1000 Array{Float64,2}:\n",
       " 7.0  7.0  7.0  7.0  7.0  7.0  7.0  7.0  …  7.0  7.0  7.0  7.0  7.0  7.0  7.0\n",
       " 7.0  7.0  7.0  7.0  7.0  7.0  7.0  7.0     7.0  7.0  7.0  7.0  7.0  7.0  7.0\n",
       " 7.0  7.0  7.0  7.0  7.0  7.0  7.0  7.0     7.0  7.0  7.0  7.0  7.0  7.0  7.0\n",
       " 7.0  7.0  7.0  7.0  7.0  7.0  7.0  7.0     7.0  7.0  7.0  7.0  7.0  7.0  7.0\n",
       " 7.0  7.0  7.0  7.0  7.0  7.0  7.0  7.0     7.0  7.0  7.0  7.0  7.0  7.0  7.0\n",
       " 7.0  7.0  7.0  7.0  7.0  7.0  7.0  7.0  …  7.0  7.0  7.0  7.0  7.0  7.0  7.0\n",
       " 7.0  7.0  7.0  7.0  7.0  7.0  7.0  7.0     7.0  7.0  7.0  7.0  7.0  7.0  7.0\n",
       " 7.0  7.0  7.0  7.0  7.0  7.0  7.0  7.0     7.0  7.0  7.0  7.0  7.0  7.0  7.0\n",
       " 7.0  7.0  7.0  7.0  7.0  7.0  7.0  7.0     7.0  7.0  7.0  7.0  7.0  7.0  7.0\n",
       " 7.0  7.0  7.0  7.0  7.0  7.0  7.0  7.0     7.0  7.0  7.0  7.0  7.0  7.0  7.0\n",
       " 7.0  7.0  7.0  7.0  7.0  7.0  7.0  7.0  …  7.0  7.0  7.0  7.0  7.0  7.0  7.0\n",
       " 7.0  7.0  7.0  7.0  7.0  7.0  7.0  7.0     7.0  7.0  7.0  7.0  7.0  7.0  7.0\n",
       " 7.0  7.0  7.0  7.0  7.0  7.0  7.0  7.0     7.0  7.0  7.0  7.0  7.0  7.0  7.0\n",
       " ⋮                        ⋮              ⋱            ⋮                   \n",
       " 7.0  7.0  7.0  7.0  7.0  7.0  7.0  7.0     7.0  7.0  7.0  7.0  7.0  7.0  7.0\n",
       " 7.0  7.0  7.0  7.0  7.0  7.0  7.0  7.0     7.0  7.0  7.0  7.0  7.0  7.0  7.0\n",
       " 7.0  7.0  7.0  7.0  7.0  7.0  7.0  7.0  …  7.0  7.0  7.0  7.0  7.0  7.0  7.0\n",
       " 7.0  7.0  7.0  7.0  7.0  7.0  7.0  7.0     7.0  7.0  7.0  7.0  7.0  7.0  7.0\n",
       " 7.0  7.0  7.0  7.0  7.0  7.0  7.0  7.0     7.0  7.0  7.0  7.0  7.0  7.0  7.0\n",
       " 7.0  7.0  7.0  7.0  7.0  7.0  7.0  7.0     7.0  7.0  7.0  7.0  7.0  7.0  7.0\n",
       " 7.0  7.0  7.0  7.0  7.0  7.0  7.0  7.0     7.0  7.0  7.0  7.0  7.0  7.0  7.0\n",
       " 7.0  7.0  7.0  7.0  7.0  7.0  7.0  7.0  …  7.0  7.0  7.0  7.0  7.0  7.0  7.0\n",
       " 7.0  7.0  7.0  7.0  7.0  7.0  7.0  7.0     7.0  7.0  7.0  7.0  7.0  7.0  7.0\n",
       " 7.0  7.0  7.0  7.0  7.0  7.0  7.0  7.0     7.0  7.0  7.0  7.0  7.0  7.0  7.0\n",
       " 7.0  7.0  7.0  7.0  7.0  7.0  7.0  7.0     7.0  7.0  7.0  7.0  7.0  7.0  7.0\n",
       " 7.0  7.0  7.0  7.0  7.0  7.0  7.0  7.0     7.0  7.0  7.0  7.0  7.0  7.0  7.0"
      ]
     },
     "execution_count": 45,
     "metadata": {},
     "output_type": "execute_result"
    }
   ],
   "source": [
    "s = 2\n",
    "out = rand(1000,1000)\n",
    "a = 2 .* ones(1000,1000)\n",
    "b = 3 .* ones(1000,1000)\n",
    "nm!(out, a, b, s )"
   ]
  },
  {
   "cell_type": "code",
   "execution_count": null,
   "metadata": {},
   "outputs": [],
   "source": [
    "max()"
   ]
  },
  {
   "cell_type": "code",
   "execution_count": 46,
   "metadata": {},
   "outputs": [
    {
     "data": {
      "text/plain": [
       "fun_dv (generic function with 1 method)"
      ]
     },
     "execution_count": 46,
     "metadata": {},
     "output_type": "execute_result"
    }
   ],
   "source": [
    "function fun_dv(v::AbstractArray, u::AbstractArray, x_lgn::AbstractArray, p::NamedTuple)\n",
    "    return p.δ_v .* ( .- v .+\n",
    "            ((1 .- v) .* max.(u,0) .* (1 .+ p.C_1 .* x_lgn)) .-\n",
    "            ((1 .+ v) .* p.C_2 .* imfilter(x_lgn, (centered(p.k_gauss_1),), p.filling)))\n",
    "end"
   ]
  },
  {
   "cell_type": "code",
   "execution_count": 60,
   "metadata": {},
   "outputs": [
    {
     "data": {
      "text/plain": [
       "fun_dv! (generic function with 1 method)"
      ]
     },
     "execution_count": 60,
     "metadata": {},
     "output_type": "execute_result"
    }
   ],
   "source": [
    "function fun_dv!(dv::AbstractArray, v::AbstractArray, u::AbstractArray, x_lgn::AbstractArray, p::NamedTuple)\n",
    "    imfilter!(dv, x_lgn, (centered(p.k_gauss_1),), p.filling)\n",
    "    @. dv = p.δ_v * ( - v +\n",
    "            ((1 - v) * max.(u,0) * (1 + p.C_1 * x_lgn)) -\n",
    "            ((1 + v) * p.C_2 * dv))\n",
    "end"
   ]
  },
  {
   "cell_type": "code",
   "execution_count": 158,
   "metadata": {},
   "outputs": [
    {
     "data": {
      "text/plain": [
       "fun_dv! (generic function with 1 method)"
      ]
     },
     "execution_count": 158,
     "metadata": {},
     "output_type": "execute_result"
    }
   ],
   "source": [
    "function fun_dv!(dv::AbstractArray, v::AbstractArray, u::AbstractArray, x_lgn::AbstractArray, p::NamedTuple)\n",
    "    imfilter!(dv, x_lgn, (centered(p.k_gauss_1),), p.filling)\n",
    "    @. dv = p.δ_v * ( - v +\n",
    "            ((1 - v) * max(u,0) * (1 + p.C_1 * x_lgn)) -\n",
    "            ((1 + v) * p.C_2 * dv))\n",
    "    return nothing\n",
    "end"
   ]
  },
  {
   "cell_type": "code",
   "execution_count": 159,
   "metadata": {},
   "outputs": [],
   "source": [
    "dv = zeros(1000,1000)\n",
    "dva = zeros(1000,1000)\n",
    "v = ones(1000,1000)\n",
    "u = 2 .*ones(1000,1000)\n",
    "x_lgn = 3 .* ones(1000,1000);"
   ]
  },
  {
   "cell_type": "code",
   "execution_count": 160,
   "metadata": {},
   "outputs": [
    {
     "ename": "UndefVarError",
     "evalue": "UndefVarError: fun_dv not defined",
     "output_type": "error",
     "traceback": [
      "UndefVarError: fun_dv not defined",
      "",
      "Stacktrace:",
      " [1] ##core#696() at /Users/niallcullinane/.julia/packages/BenchmarkTools/eCEpo/src/execution.jl:371",
      " [2] ##sample#697(::BenchmarkTools.Parameters) at /Users/niallcullinane/.julia/packages/BenchmarkTools/eCEpo/src/execution.jl:377",
      " [3] _run(::BenchmarkTools.Benchmark{Symbol(\"##benchmark#695\")}, ::BenchmarkTools.Parameters; verbose::Bool, pad::String, kwargs::Base.Iterators.Pairs{Symbol,Integer,NTuple{4,Symbol},NamedTuple{(:samples, :evals, :gctrial, :gcsample),Tuple{Int64,Int64,Bool,Bool}}}) at /Users/niallcullinane/.julia/packages/BenchmarkTools/eCEpo/src/execution.jl:405",
      " [4] (::Base.var\"#inner#2\"{Base.Iterators.Pairs{Symbol,Integer,NTuple{5,Symbol},NamedTuple{(:verbose, :samples, :evals, :gctrial, :gcsample),Tuple{Bool,Int64,Int64,Bool,Bool}}},typeof(BenchmarkTools._run),Tuple{BenchmarkTools.Benchmark{Symbol(\"##benchmark#695\")},BenchmarkTools.Parameters}})() at ./essentials.jl:715",
      " [5] #invokelatest#1 at ./essentials.jl:716 [inlined]",
      " [6] #run_result#37 at /Users/niallcullinane/.julia/packages/BenchmarkTools/eCEpo/src/execution.jl:32 [inlined]",
      " [7] run(::BenchmarkTools.Benchmark{Symbol(\"##benchmark#695\")}, ::BenchmarkTools.Parameters; progressid::Nothing, nleaves::Float64, ndone::Float64, kwargs::Base.Iterators.Pairs{Symbol,Integer,NTuple{5,Symbol},NamedTuple{(:verbose, :samples, :evals, :gctrial, :gcsample),Tuple{Bool,Int64,Int64,Bool,Bool}}}) at /Users/niallcullinane/.julia/packages/BenchmarkTools/eCEpo/src/execution.jl:94",
      " [8] #warmup#45 at /Users/niallcullinane/.julia/packages/BenchmarkTools/eCEpo/src/execution.jl:141 [inlined]",
      " [9] warmup(::BenchmarkTools.Benchmark{Symbol(\"##benchmark#695\")}) at /Users/niallcullinane/.julia/packages/BenchmarkTools/eCEpo/src/execution.jl:141",
      " [10] top-level scope at /Users/niallcullinane/.julia/packages/BenchmarkTools/eCEpo/src/execution.jl:287",
      " [11] top-level scope at In[160]:1"
     ]
    }
   ],
   "source": [
    "@benchmark dva = fun_dv(v,u,x_lgn,p)"
   ]
  },
  {
   "cell_type": "code",
   "execution_count": 161,
   "metadata": {},
   "outputs": [
    {
     "data": {
      "text/plain": [
       "BenchmarkTools.Trial: \n",
       "  memory estimate:  7.71 MiB\n",
       "  allocs estimate:  62\n",
       "  --------------\n",
       "  minimum time:     35.676 ms (0.00% GC)\n",
       "  median time:      40.768 ms (0.00% GC)\n",
       "  mean time:        42.912 ms (2.43% GC)\n",
       "  maximum time:     68.980 ms (27.04% GC)\n",
       "  --------------\n",
       "  samples:          117\n",
       "  evals/sample:     1"
      ]
     },
     "execution_count": 161,
     "metadata": {},
     "output_type": "execute_result"
    }
   ],
   "source": [
    "@benchmark fun_dv!(dv, v,u,x_lgn,p)"
   ]
  },
  {
   "cell_type": "code",
   "execution_count": 64,
   "metadata": {},
   "outputs": [
    {
     "data": {
      "text/plain": [
       "\u001b[32m\u001b[1mTest Passed\u001b[22m\u001b[39m"
      ]
     },
     "execution_count": 64,
     "metadata": {},
     "output_type": "execute_result"
    }
   ],
   "source": [
    "dva = fun_dv(v,u,x_lgn,p)\n",
    "@test fun_dv!(dv, v,u,x_lgn,p) == dva "
   ]
  },
  {
   "cell_type": "code",
   "execution_count": 65,
   "metadata": {},
   "outputs": [
    {
     "ename": "LoadError",
     "evalue": "ArgumentError: Invalid use of @view macro: argument must be a reference expression A[...].",
     "output_type": "error",
     "traceback": [
      "ArgumentError: Invalid use of @view macro: argument must be a reference expression A[...].",
      "",
      "Stacktrace:",
      " [1] @view(::LineNumberNode, ::Module, ::Any) at ./views.jl:114"
     ]
    }
   ],
   "source": []
  },
  {
   "cell_type": "code",
   "execution_count": 125,
   "metadata": {},
   "outputs": [
    {
     "data": {
      "text/plain": [
       "fun_v_C_ (generic function with 1 method)"
      ]
     },
     "execution_count": 125,
     "metadata": {},
     "output_type": "execute_result"
    }
   ],
   "source": [
    "function fun_v_C_(v_p::AbstractArray, v_m::AbstractArray, p::NamedTuple)\n",
    "    V = exp(-1/8) .* (imfilter((max.(v_p,0)-max.(v_m,0)), (centered(p.k_gauss_2),), p.filling))\n",
    "\n",
    "    A = reshape(Array{eltype(V)}(undef, size(V)[1], size(V)[2]*p.K),size(V)[1],size(V)[2],p.K)\n",
    "    B = copy(A)\n",
    "\n",
    "    for k in 1:p.K\n",
    "        A[:,:,k] = imfilter(V, (centered(p.k_C_d[:,:,k]),), p.filling)\n",
    "        B[:,:,k] = abs.(imfilter(V, (centered(p.k_C_b[:,:,k]),), p.filling))\n",
    "    end\n",
    "\n",
    "    return p.γ .* (max.(A .- B, 0) .+ max.(.- A .- B, 0))\n",
    "end"
   ]
  },
  {
   "cell_type": "code",
   "execution_count": 151,
   "metadata": {},
   "outputs": [
    {
     "data": {
      "text/plain": [
       "fun_v_Ca! (generic function with 1 method)"
      ]
     },
     "execution_count": 151,
     "metadata": {},
     "output_type": "execute_result"
    }
   ],
   "source": [
    "function fun_v_Ca!(v_C::AbstractArray, v_p::AbstractArray, v_m::AbstractArray, p::NamedTuple)\n",
    "    V = similar(v_p)\n",
    "    @. V = max.(v_p,0) - max.(v_m,0)\n",
    "    imfilter!(V, V, (centered(p.k_gauss_2),), p.filling)\n",
    "    @. V = exp(-1/8) * V\n",
    "    A = similar(v_C)\n",
    "    B = similar(v_C)\n",
    "    \n",
    "    for k in 1:p.K\n",
    "        imfilter!(A[:,:,k], V, (centered(p.k_C_d[:,:,k]),), p.filling)\n",
    "        imfilter!(B[:,:,k], V, (centered(p.k_C_b[:,:,k]),), p.filling)\n",
    "    end\n",
    "    @. B = abs(B)\n",
    "    @. v_C = p.γ * (max(A - B, 0) + max(-A - B, 0))\n",
    "end"
   ]
  },
  {
   "cell_type": "code",
   "execution_count": 127,
   "metadata": {},
   "outputs": [
    {
     "data": {
      "text/plain": [
       "fun_v_Cb! (generic function with 1 method)"
      ]
     },
     "execution_count": 127,
     "metadata": {},
     "output_type": "execute_result"
    }
   ],
   "source": [
    "function fun_v_Cb!(v_C::AbstractArray, v_p::AbstractArray, v_m::AbstractArray, p::NamedTuple)\n",
    "    V = similar(v_p)\n",
    "#     @. V = \n",
    "    imfilter!(V, (max.(v_p,0) - max.(v_m,0)), (centered(p.k_gauss_2),), p.filling)\n",
    "    @. V = exp(-1/8) * V\n",
    "    A = similar(v_C)\n",
    "    B = similar(v_C)\n",
    "    \n",
    "    for k in 1:p.K\n",
    "        imfilter!(A[:,:,k], V, (centered(p.k_C_d[:,:,k]),), p.filling)\n",
    "        imfilter!(B[:,:,k], V, (centered(p.k_C_b[:,:,k]),), p.filling)\n",
    "    end\n",
    "    @. B = abs(B)\n",
    "    @. v_C = p.γ * (max(A - B, 0) + max(-A - B, 0))\n",
    "end"
   ]
  },
  {
   "cell_type": "code",
   "execution_count": 131,
   "metadata": {},
   "outputs": [
    {
     "data": {
      "text/plain": [
       "100×100×2 Array{Float64,3}:\n",
       "[:, :, 1] =\n",
       " 0.0  0.0  0.0  0.0  0.0  0.0  0.0  0.0  …  0.0  0.0  0.0  0.0  0.0  0.0  0.0\n",
       " 0.0  0.0  0.0  0.0  0.0  0.0  0.0  0.0     0.0  0.0  0.0  0.0  0.0  0.0  0.0\n",
       " 0.0  0.0  0.0  0.0  0.0  0.0  0.0  0.0     0.0  0.0  0.0  0.0  0.0  0.0  0.0\n",
       " 0.0  0.0  0.0  0.0  0.0  0.0  0.0  0.0     0.0  0.0  0.0  0.0  0.0  0.0  0.0\n",
       " 0.0  0.0  0.0  0.0  0.0  0.0  0.0  0.0     0.0  0.0  0.0  0.0  0.0  0.0  0.0\n",
       " 0.0  0.0  0.0  0.0  0.0  0.0  0.0  0.0  …  0.0  0.0  0.0  0.0  0.0  0.0  0.0\n",
       " 0.0  0.0  0.0  0.0  0.0  0.0  0.0  0.0     0.0  0.0  0.0  0.0  0.0  0.0  0.0\n",
       " 0.0  0.0  0.0  0.0  0.0  0.0  0.0  0.0     0.0  0.0  0.0  0.0  0.0  0.0  0.0\n",
       " 0.0  0.0  0.0  0.0  0.0  0.0  0.0  0.0     0.0  0.0  0.0  0.0  0.0  0.0  0.0\n",
       " 0.0  0.0  0.0  0.0  0.0  0.0  0.0  0.0     0.0  0.0  0.0  0.0  0.0  0.0  0.0\n",
       " 0.0  0.0  0.0  0.0  0.0  0.0  0.0  0.0  …  0.0  0.0  0.0  0.0  0.0  0.0  0.0\n",
       " 0.0  0.0  0.0  0.0  0.0  0.0  0.0  0.0     0.0  0.0  0.0  0.0  0.0  0.0  0.0\n",
       " 0.0  0.0  0.0  0.0  0.0  0.0  0.0  0.0     0.0  0.0  0.0  0.0  0.0  0.0  0.0\n",
       " ⋮                        ⋮              ⋱            ⋮                   \n",
       " 0.0  0.0  0.0  0.0  0.0  0.0  0.0  0.0     0.0  0.0  0.0  0.0  0.0  0.0  0.0\n",
       " 0.0  0.0  0.0  0.0  0.0  0.0  0.0  0.0     0.0  0.0  0.0  0.0  0.0  0.0  0.0\n",
       " 0.0  0.0  0.0  0.0  0.0  0.0  0.0  0.0  …  0.0  0.0  0.0  0.0  0.0  0.0  0.0\n",
       " 0.0  0.0  0.0  0.0  0.0  0.0  0.0  0.0     0.0  0.0  0.0  0.0  0.0  0.0  0.0\n",
       " 0.0  0.0  0.0  0.0  0.0  0.0  0.0  0.0     0.0  0.0  0.0  0.0  0.0  0.0  0.0\n",
       " 0.0  0.0  0.0  0.0  0.0  0.0  0.0  0.0     0.0  0.0  0.0  0.0  0.0  0.0  0.0\n",
       " 0.0  0.0  0.0  0.0  0.0  0.0  0.0  0.0     0.0  0.0  0.0  0.0  0.0  0.0  0.0\n",
       " 0.0  0.0  0.0  0.0  0.0  0.0  0.0  0.0  …  0.0  0.0  0.0  0.0  0.0  0.0  0.0\n",
       " 0.0  0.0  0.0  0.0  0.0  0.0  0.0  0.0     0.0  0.0  0.0  0.0  0.0  0.0  0.0\n",
       " 0.0  0.0  0.0  0.0  0.0  0.0  0.0  0.0     0.0  0.0  0.0  0.0  0.0  0.0  0.0\n",
       " 0.0  0.0  0.0  0.0  0.0  0.0  0.0  0.0     0.0  0.0  0.0  0.0  0.0  0.0  0.0\n",
       " 0.0  0.0  0.0  0.0  0.0  0.0  0.0  0.0     0.0  0.0  0.0  0.0  0.0  0.0  0.0\n",
       "\n",
       "[:, :, 2] =\n",
       " 0.0  0.0  0.0  0.0  0.0  0.0  0.0  0.0  …  0.0  0.0  0.0  0.0  0.0  0.0  0.0\n",
       " 0.0  0.0  0.0  0.0  0.0  0.0  0.0  0.0     0.0  0.0  0.0  0.0  0.0  0.0  0.0\n",
       " 0.0  0.0  0.0  0.0  0.0  0.0  0.0  0.0     0.0  0.0  0.0  0.0  0.0  0.0  0.0\n",
       " 0.0  0.0  0.0  0.0  0.0  0.0  0.0  0.0     0.0  0.0  0.0  0.0  0.0  0.0  0.0\n",
       " 0.0  0.0  0.0  0.0  0.0  0.0  0.0  0.0     0.0  0.0  0.0  0.0  0.0  0.0  0.0\n",
       " 0.0  0.0  0.0  0.0  0.0  0.0  0.0  0.0  …  0.0  0.0  0.0  0.0  0.0  0.0  0.0\n",
       " 0.0  0.0  0.0  0.0  0.0  0.0  0.0  0.0     0.0  0.0  0.0  0.0  0.0  0.0  0.0\n",
       " 0.0  0.0  0.0  0.0  0.0  0.0  0.0  0.0     0.0  0.0  0.0  0.0  0.0  0.0  0.0\n",
       " 0.0  0.0  0.0  0.0  0.0  0.0  0.0  0.0     0.0  0.0  0.0  0.0  0.0  0.0  0.0\n",
       " 0.0  0.0  0.0  0.0  0.0  0.0  0.0  0.0     0.0  0.0  0.0  0.0  0.0  0.0  0.0\n",
       " 0.0  0.0  0.0  0.0  0.0  0.0  0.0  0.0  …  0.0  0.0  0.0  0.0  0.0  0.0  0.0\n",
       " 0.0  0.0  0.0  0.0  0.0  0.0  0.0  0.0     0.0  0.0  0.0  0.0  0.0  0.0  0.0\n",
       " 0.0  0.0  0.0  0.0  0.0  0.0  0.0  0.0     0.0  0.0  0.0  0.0  0.0  0.0  0.0\n",
       " ⋮                        ⋮              ⋱            ⋮                   \n",
       " 0.0  0.0  0.0  0.0  0.0  0.0  0.0  0.0     0.0  0.0  0.0  0.0  0.0  0.0  0.0\n",
       " 0.0  0.0  0.0  0.0  0.0  0.0  0.0  0.0     0.0  0.0  0.0  0.0  0.0  0.0  0.0\n",
       " 0.0  0.0  0.0  0.0  0.0  0.0  0.0  0.0  …  0.0  0.0  0.0  0.0  0.0  0.0  0.0\n",
       " 0.0  0.0  0.0  0.0  0.0  0.0  0.0  0.0     0.0  0.0  0.0  0.0  0.0  0.0  0.0\n",
       " 0.0  0.0  0.0  0.0  0.0  0.0  0.0  0.0     0.0  0.0  0.0  0.0  0.0  0.0  0.0\n",
       " 0.0  0.0  0.0  0.0  0.0  0.0  0.0  0.0     0.0  0.0  0.0  0.0  0.0  0.0  0.0\n",
       " 0.0  0.0  0.0  0.0  0.0  0.0  0.0  0.0     0.0  0.0  0.0  0.0  0.0  0.0  0.0\n",
       " 0.0  0.0  0.0  0.0  0.0  0.0  0.0  0.0  …  0.0  0.0  0.0  0.0  0.0  0.0  0.0\n",
       " 0.0  0.0  0.0  0.0  0.0  0.0  0.0  0.0     0.0  0.0  0.0  0.0  0.0  0.0  0.0\n",
       " 0.0  0.0  0.0  0.0  0.0  0.0  0.0  0.0     0.0  0.0  0.0  0.0  0.0  0.0  0.0\n",
       " 0.0  0.0  0.0  0.0  0.0  0.0  0.0  0.0     0.0  0.0  0.0  0.0  0.0  0.0  0.0\n",
       " 0.0  0.0  0.0  0.0  0.0  0.0  0.0  0.0     0.0  0.0  0.0  0.0  0.0  0.0  0.0"
      ]
     },
     "execution_count": 131,
     "metadata": {},
     "output_type": "execute_result"
    }
   ],
   "source": [
    "v_C = reshape(zeros(100,200),100, 100, 2)"
   ]
  },
  {
   "cell_type": "code",
   "execution_count": 132,
   "metadata": {},
   "outputs": [
    {
     "data": {
      "text/plain": [
       "BenchmarkTools.Trial: \n",
       "  memory estimate:  1.57 MiB\n",
       "  allocs estimate:  108\n",
       "  --------------\n",
       "  minimum time:     1.707 ms (0.00% GC)\n",
       "  median time:      2.266 ms (0.00% GC)\n",
       "  mean time:        2.642 ms (7.80% GC)\n",
       "  maximum time:     41.888 ms (92.60% GC)\n",
       "  --------------\n",
       "  samples:          1881\n",
       "  evals/sample:     1"
      ]
     },
     "execution_count": 132,
     "metadata": {},
     "output_type": "execute_result"
    }
   ],
   "source": [
    "@benchmark v_C = fun_v_C_(p.r, .-p.r, p)"
   ]
  },
  {
   "cell_type": "code",
   "execution_count": 152,
   "metadata": {},
   "outputs": [
    {
     "data": {
      "text/plain": [
       "BenchmarkTools.Trial: \n",
       "  memory estimate:  1.07 MiB\n",
       "  allocs estimate:  92\n",
       "  --------------\n",
       "  minimum time:     1.714 ms (0.00% GC)\n",
       "  median time:      2.128 ms (0.00% GC)\n",
       "  mean time:        2.364 ms (5.19% GC)\n",
       "  maximum time:     37.039 ms (93.92% GC)\n",
       "  --------------\n",
       "  samples:          2105\n",
       "  evals/sample:     1"
      ]
     },
     "execution_count": 152,
     "metadata": {},
     "output_type": "execute_result"
    }
   ],
   "source": [
    "@benchmark fun_v_Ca!(v_C, p.r, .-p.r, p)"
   ]
  },
  {
   "cell_type": "code",
   "execution_count": 134,
   "metadata": {},
   "outputs": [
    {
     "data": {
      "text/plain": [
       "BenchmarkTools.Trial: \n",
       "  memory estimate:  1.19 MiB\n",
       "  allocs estimate:  98\n",
       "  --------------\n",
       "  minimum time:     1.662 ms (0.00% GC)\n",
       "  median time:      2.150 ms (0.00% GC)\n",
       "  mean time:        2.444 ms (5.96% GC)\n",
       "  maximum time:     43.269 ms (93.61% GC)\n",
       "  --------------\n",
       "  samples:          2038\n",
       "  evals/sample:     1"
      ]
     },
     "execution_count": 134,
     "metadata": {},
     "output_type": "execute_result"
    }
   ],
   "source": [
    "@benchmark fun_v_Cb!(v_C, p.r, .-p.r, p)"
   ]
  },
  {
   "cell_type": "code",
   "execution_count": null,
   "metadata": {},
   "outputs": [],
   "source": []
  },
  {
   "cell_type": "code",
   "execution_count": null,
   "metadata": {},
   "outputs": [],
   "source": []
  },
  {
   "cell_type": "code",
   "execution_count": null,
   "metadata": {},
   "outputs": [],
   "source": []
  },
  {
   "cell_type": "code",
   "execution_count": null,
   "metadata": {},
   "outputs": [],
   "source": []
  },
  {
   "cell_type": "code",
   "execution_count": 153,
   "metadata": {},
   "outputs": [
    {
     "data": {
      "text/plain": [
       "fun_v_Cc! (generic function with 1 method)"
      ]
     },
     "execution_count": 153,
     "metadata": {},
     "output_type": "execute_result"
    }
   ],
   "source": [
    "function fun_v_Cc!(v_C::AbstractArray, v_p::AbstractArray, v_m::AbstractArray, p::NamedTuple)\n",
    "    V = similar(v_p)\n",
    "    @. V = max(v_p,0) - max(v_m,0)\n",
    "    imfilter!(V, V, (centered(p.k_gauss_2),), p.filling)\n",
    "    @. V = exp(-1/8) * V\n",
    "    A = similar(v_C)\n",
    "    B = similar(v_C)\n",
    "    \n",
    "    for k in 1:p.K\n",
    "        imfilter!(A[:,:,k], V, (centered(p.k_C_d[:,:,k]),), p.filling)\n",
    "        imfilter!(B[:,:,k], V, (centered(p.k_C_b[:,:,k]),), p.filling)\n",
    "    end\n",
    "    @. B = abs(B)\n",
    "    @. v_C = p.γ * (max(A - B, 0) + max(-A - B, 0))\n",
    "end"
   ]
  },
  {
   "cell_type": "code",
   "execution_count": 138,
   "metadata": {},
   "outputs": [
    {
     "data": {
      "text/plain": [
       "BenchmarkTools.Trial: \n",
       "  memory estimate:  1.07 MiB\n",
       "  allocs estimate:  92\n",
       "  --------------\n",
       "  minimum time:     1.618 ms (0.00% GC)\n",
       "  median time:      2.117 ms (0.00% GC)\n",
       "  mean time:        2.367 ms (5.08% GC)\n",
       "  maximum time:     36.980 ms (94.40% GC)\n",
       "  --------------\n",
       "  samples:          2104\n",
       "  evals/sample:     1"
      ]
     },
     "execution_count": 138,
     "metadata": {},
     "output_type": "execute_result"
    }
   ],
   "source": [
    "@benchmark fun_v_Cc!(v_C, p.r, .-p.r, p)"
   ]
  },
  {
   "cell_type": "code",
   "execution_count": 139,
   "metadata": {},
   "outputs": [
    {
     "data": {
      "text/plain": [
       "\u001b[32m\u001b[1mTest Passed\u001b[22m\u001b[39m"
      ]
     },
     "execution_count": 139,
     "metadata": {},
     "output_type": "execute_result"
    }
   ],
   "source": [
    "imga = copy(img)\n",
    "imgb = similar(img)\n",
    "imfilter!(imga, imga, (centered(p.k_gauss_2),), p.filling)\n",
    "imfilter!(imgb, img, (centered(p.k_gauss_2),), p.filling)\n",
    "@test imga == imgb"
   ]
  },
  {
   "cell_type": "code",
   "execution_count": 140,
   "metadata": {},
   "outputs": [
    {
     "data": {
      "image/png": "[encoded data removed]",
      "text/plain": [
       "Figure(PyObject <Figure size 640x480 with 1 Axes>)"
      ]
     },
     "metadata": {},
     "output_type": "display_data"
    }
   ],
   "source": [
    "Utils.plot_gs(img)"
   ]
  },
  {
   "cell_type": "code",
   "execution_count": 141,
   "metadata": {},
   "outputs": [
    {
     "data": {
      "image/png": "[encoded data removed]",
      "text/plain": [
       "Figure(PyObject <Figure size 640x480 with 1 Axes>)"
      ]
     },
     "metadata": {},
     "output_type": "display_data"
    }
   ],
   "source": [
    "Utils.plot_gs(imga)"
   ]
  },
  {
   "cell_type": "code",
   "execution_count": 142,
   "metadata": {},
   "outputs": [
    {
     "data": {
      "image/png": "[encoded data removed]",
      "text/plain": [
       "Figure(PyObject <Figure size 640x480 with 1 Axes>)"
      ]
     },
     "metadata": {},
     "output_type": "display_data"
    }
   ],
   "source": [
    "Utils.plot_gs(imgb)"
   ]
  },
  {
   "cell_type": "code",
   "execution_count": 144,
   "metadata": {},
   "outputs": [
    {
     "data": {
      "text/plain": [
       "fun_v_Cd! (generic function with 1 method)"
      ]
     },
     "execution_count": 144,
     "metadata": {},
     "output_type": "execute_result"
    }
   ],
   "source": [
    "function fun_v_Cd!(v_C::AbstractArray, v_p::AbstractArray, v_m::AbstractArray, p::NamedTuple)\n",
    "    V = similar(v_p)\n",
    "    @. V = exp(-1/8) * (max(v_p,0) - max(v_m,0))\n",
    "    imfilter!(V, V, (centered(p.k_gauss_2),), p.filling)\n",
    "    \n",
    "    A = similar(v_C)\n",
    "    B = similar(v_C)\n",
    "    \n",
    "    for k in 1:p.K\n",
    "        imfilter!(A[:,:,k], V, (centered(p.k_C_d[:,:,k]),), p.filling)\n",
    "        imfilter!(B[:,:,k], V, (centered(p.k_C_b[:,:,k]),), p.filling)\n",
    "    end\n",
    "    @. B = abs(B)\n",
    "    @. v_C = p.γ * (max(A - B, 0) + max(-A - B, 0))\n",
    "end"
   ]
  },
  {
   "cell_type": "code",
   "execution_count": 150,
   "metadata": {},
   "outputs": [
    {
     "data": {
      "text/plain": [
       "BenchmarkTools.Trial: \n",
       "  memory estimate:  1.07 MiB\n",
       "  allocs estimate:  92\n",
       "  --------------\n",
       "  minimum time:     1.660 ms (0.00% GC)\n",
       "  median time:      2.127 ms (0.00% GC)\n",
       "  mean time:        2.368 ms (5.31% GC)\n",
       "  maximum time:     39.019 ms (93.91% GC)\n",
       "  --------------\n",
       "  samples:          2100\n",
       "  evals/sample:     1"
      ]
     },
     "execution_count": 150,
     "metadata": {},
     "output_type": "execute_result"
    }
   ],
   "source": [
    "@benchmark fun_v_Cd!(v_C, p.r, .-p.r, p)"
   ]
  },
  {
   "cell_type": "code",
   "execution_count": 147,
   "metadata": {},
   "outputs": [
    {
     "data": {
      "text/plain": [
       "fun_v_Cd! (generic function with 1 method)"
      ]
     },
     "execution_count": 147,
     "metadata": {},
     "output_type": "execute_result"
    }
   ],
   "source": [
    "function fun_v_Cd!(v_C::AbstractArray, v_p::AbstractArray, v_m::AbstractArray, p::NamedTuple)\n",
    "    V = similar(v_p)\n",
    "    @. V = max(v_p,0) - max(v_m,0)\n",
    "    imfilter!(V, V, (centered(p.k_gauss_2),), p.filling)\n",
    "    @. V = exp(-1/8) * V\n",
    "    A = similar(v_C)\n",
    "    B = similar(v_C)\n",
    "    \n",
    "    for k in 1:p.K\n",
    "        imfilter!(A[:,:,k], V, (centered(p.k_C_d[:,:,k]),), p.filling)\n",
    "        imfilter!(B[:,:,k], V, (centered(p.k_C_b[:,:,k]),), p.filling)\n",
    "    end\n",
    "#     @. B = abs(B)\n",
    "    @. v_C = p.γ * (max(A - abs(B), 0) + max(-A - abs(B), 0))\n",
    "end"
   ]
  },
  {
   "cell_type": "code",
   "execution_count": 149,
   "metadata": {},
   "outputs": [
    {
     "data": {
      "text/plain": [
       "BenchmarkTools.Trial: \n",
       "  memory estimate:  1.07 MiB\n",
       "  allocs estimate:  92\n",
       "  --------------\n",
       "  minimum time:     1.654 ms (0.00% GC)\n",
       "  median time:      2.096 ms (0.00% GC)\n",
       "  mean time:        2.334 ms (5.65% GC)\n",
       "  maximum time:     36.247 ms (93.71% GC)\n",
       "  --------------\n",
       "  samples:          2143\n",
       "  evals/sample:     1"
      ]
     },
     "execution_count": 149,
     "metadata": {},
     "output_type": "execute_result"
    }
   ],
   "source": [
    "@benchmark fun_v_Cd!(v_C, p.r, .-p.r, p)"
   ]
  },
  {
   "cell_type": "code",
   "execution_count": 154,
   "metadata": {},
   "outputs": [
    {
     "data": {
      "text/plain": [
       "fun_v_Ce! (generic function with 1 method)"
      ]
     },
     "execution_count": 154,
     "metadata": {},
     "output_type": "execute_result"
    }
   ],
   "source": [
    "function fun_v_Ce!(v_C::AbstractArray, v_p::AbstractArray, v_m::AbstractArray, p::NamedTuple)\n",
    "    V = similar(v_p)\n",
    "    @. V = max(v_p,0) - max(v_m,0)\n",
    "    imfilter!(V, V, (centered(p.k_gauss_2),), p.filling)\n",
    "    @. V = exp(-1/8) * V\n",
    "#     A = similar(v_C)\n",
    "    B = similar(v_C)\n",
    "    \n",
    "    for k in 1:p.K\n",
    "        imfilter!(v_C[:,:,k], V, (centered(p.k_C_d[:,:,k]),), p.filling)\n",
    "        imfilter!(B[:,:,k], V, (centered(p.k_C_b[:,:,k]),), p.filling)\n",
    "    end\n",
    "#     @. B = abs(B)\n",
    "    @. v_C = p.γ * (max(v_C - abs(B), 0) + max(-v_C - abs(B), 0))\n",
    "end"
   ]
  },
  {
   "cell_type": "code",
   "execution_count": 155,
   "metadata": {},
   "outputs": [
    {
     "data": {
      "text/plain": [
       "BenchmarkTools.Trial: \n",
       "  memory estimate:  940.09 KiB\n",
       "  allocs estimate:  90\n",
       "  --------------\n",
       "  minimum time:     1.613 ms (0.00% GC)\n",
       "  median time:      1.957 ms (0.00% GC)\n",
       "  mean time:        2.193 ms (5.35% GC)\n",
       "  maximum time:     38.812 ms (94.75% GC)\n",
       "  --------------\n",
       "  samples:          2271\n",
       "  evals/sample:     1"
      ]
     },
     "execution_count": 155,
     "metadata": {},
     "output_type": "execute_result"
    }
   ],
   "source": [
    "@benchmark fun_v_Ce!(v_C, p.r, .-p.r, p)"
   ]
  },
  {
   "cell_type": "code",
   "execution_count": 162,
   "metadata": {},
   "outputs": [
    {
     "data": {
      "text/plain": [
       "fun_v_Cf! (generic function with 1 method)"
      ]
     },
     "execution_count": 162,
     "metadata": {},
     "output_type": "execute_result"
    }
   ],
   "source": [
    "function fun_v_Cf!(v_C::AbstractArray, v_p::AbstractArray, v_m::AbstractArray, p::NamedTuple)\n",
    "    V = similar(v_p)\n",
    "    @. V = max(v_p,0) - max(v_m,0)\n",
    "    imfilter!(V, V, (centered(p.k_gauss_2),), p.filling)\n",
    "    @. V = exp(-1/8) * V\n",
    "#     A = @view v_C\n",
    "    B = similar(v_C)\n",
    "#    @inbounds begin \n",
    "    for k in 1:p.K\n",
    "        A = @view v_C[:,:,k]\n",
    "        imfilter!(A, V, (centered(p.k_C_d[:,:,k]),), p.filling)\n",
    "        imfilter!(B[:,:,k], V, (centered(p.k_C_b[:,:,k]),), p.filling)\n",
    "    end\n",
    "#     end\n",
    "#     @. B = abs(B)\n",
    "    @. v_C = p.γ * (max(v_C - abs(B), 0) + max(-v_C - abs(B), 0))\n",
    "end"
   ]
  },
  {
   "cell_type": "code",
   "execution_count": null,
   "metadata": {},
   "outputs": [],
   "source": []
  },
  {
   "cell_type": "code",
   "execution_count": 163,
   "metadata": {},
   "outputs": [
    {
     "data": {
      "text/plain": [
       "BenchmarkTools.Trial: \n",
       "  memory estimate:  783.81 KiB\n",
       "  allocs estimate:  88\n",
       "  --------------\n",
       "  minimum time:     1.600 ms (0.00% GC)\n",
       "  median time:      1.948 ms (0.00% GC)\n",
       "  mean time:        2.144 ms (4.39% GC)\n",
       "  maximum time:     34.776 ms (93.81% GC)\n",
       "  --------------\n",
       "  samples:          2333\n",
       "  evals/sample:     1"
      ]
     },
     "execution_count": 163,
     "metadata": {},
     "output_type": "execute_result"
    }
   ],
   "source": [
    "@benchmark fun_v_Cf!(v_C, p.r, .-p.r, p)"
   ]
  },
  {
   "cell_type": "code",
   "execution_count": 167,
   "metadata": {},
   "outputs": [
    {
     "data": {
      "text/plain": [
       "fun_v_Cg! (generic function with 1 method)"
      ]
     },
     "execution_count": 167,
     "metadata": {},
     "output_type": "execute_result"
    }
   ],
   "source": [
    "function fun_v_Cg!(v_C::AbstractArray, v_p::AbstractArray, v_m::AbstractArray, p::NamedTuple)\n",
    "    V = similar(v_p)\n",
    "    @. V = (max(v_p,0) - max(v_m,0)) * exp(-1/8)\n",
    "    imfilter!(V, V, (centered(p.k_gauss_2),), p.filling)\n",
    "#     @. V = exp(-1/8) * V\n",
    "    B = similar(v_C)\n",
    "#    @inbounds begin \n",
    "    for k in 1:p.K\n",
    "        A = @view v_C[:,:,k]\n",
    "        imfilter!(A, V, (centered(p.k_C_d[:,:,k]),), p.filling)\n",
    "        imfilter!(B[:,:,k], V, (centered(p.k_C_b[:,:,k]),), p.filling)\n",
    "    end\n",
    "#     end\n",
    "    @. B = abs(B)\n",
    "    @. v_C = p.γ * (max(v_C - B, 0) + max(-v_C -B, 0))\n",
    "end"
   ]
  },
  {
   "cell_type": "code",
   "execution_count": 168,
   "metadata": {},
   "outputs": [
    {
     "data": {
      "text/plain": [
       "BenchmarkTools.Trial: \n",
       "  memory estimate:  783.81 KiB\n",
       "  allocs estimate:  88\n",
       "  --------------\n",
       "  minimum time:     1.661 ms (0.00% GC)\n",
       "  median time:      2.021 ms (0.00% GC)\n",
       "  mean time:        2.229 ms (3.83% GC)\n",
       "  maximum time:     36.568 ms (91.20% GC)\n",
       "  --------------\n",
       "  samples:          2232\n",
       "  evals/sample:     1"
      ]
     },
     "execution_count": 168,
     "metadata": {},
     "output_type": "execute_result"
    }
   ],
   "source": [
    "@benchmark fun_v_Cg!(v_C, p.r, .-p.r, p)"
   ]
  },
  {
   "cell_type": "code",
   "execution_count": 173,
   "metadata": {},
   "outputs": [
    {
     "name": "stdout",
     "output_type": "stream",
     "text": [
      "\u001b[91m\u001b[1mTest Failed\u001b[22m\u001b[39m at \u001b[39m\u001b[1mIn[173]:2\u001b[22m\n",
      "  Expression: fun_v_C_(p.r, (.-)(p.r), p) ≈ v_C\n",
      "   Evaluated: [0.0 0.0 … 0.0 0.0; 0.0 0.0 … 0.0 0.0; … ; 0.0 0.0 … 0.0 0.0; 0.0 0.0 … 0.0 0.0]\n",
      "\n",
      "[0.0 0.0 … 0.0 0.0; 0.0 0.0 … 0.0 0.0; … ; 0.0 0.0 … 0.0 0.0; 0.0 0.0 … 0.0 0.0] ≈ [0.0 0.0 … 0.0 0.0; 0.0 0.0 … 0.0 0.0; … ; 0.0 0.0 … 0.0 0.0; 0.0 0.0 … 0.0 0.0]\n",
      "\n",
      "[0.0 0.0 … 0.0 0.0; 0.0 0.0 … 0.0 0.0; … ; 0.0 0.0 … 0.0 0.0; 0.0 0.0 … 0.0 0.0]\n"
     ]
    },
    {
     "ename": "Test.FallbackTestSetException",
     "evalue": "There was an error during testing",
     "output_type": "error",
     "traceback": [
      "There was an error during testing",
      "",
      "Stacktrace:",
      " [1] record(::Test.FallbackTestSet, ::Union{Test.Error, Test.Fail}) at /Users/julia/buildbot/worker/package_macos64/build/usr/share/julia/stdlib/v1.4/Test/src/Test.jl:737",
      " [2] do_test(::Test.ExecutionResult, ::Any) at /Users/julia/buildbot/worker/package_macos64/build/usr/share/julia/stdlib/v1.4/Test/src/Test.jl:520",
      " [3] top-level scope at In[173]:2"
     ]
    }
   ],
   "source": [
    "fun_v_Cf!(v_C, p.r, .-p.r, p)\n",
    "@test fun_v_C_(p.r, .-p.r, p) ≈ v_C"
   ]
  },
  {
   "cell_type": "code",
   "execution_count": 174,
   "metadata": {},
   "outputs": [
    {
     "data": {
      "text/plain": [
       "100×100×2 Array{Float64,3}:\n",
       "[:, :, 1] =\n",
       " 0.0  0.0  0.0  0.0  0.0  0.0  0.0  0.0  …  0.0  0.0  0.0  0.0  0.0  0.0  0.0\n",
       " 0.0  0.0  0.0  0.0  0.0  0.0  0.0  0.0     0.0  0.0  0.0  0.0  0.0  0.0  0.0\n",
       " 0.0  0.0  0.0  0.0  0.0  0.0  0.0  0.0     0.0  0.0  0.0  0.0  0.0  0.0  0.0\n",
       " 0.0  0.0  0.0  0.0  0.0  0.0  0.0  0.0     0.0  0.0  0.0  0.0  0.0  0.0  0.0\n",
       " 0.0  0.0  0.0  0.0  0.0  0.0  0.0  0.0     0.0  0.0  0.0  0.0  0.0  0.0  0.0\n",
       " 0.0  0.0  0.0  0.0  0.0  0.0  0.0  0.0  …  0.0  0.0  0.0  0.0  0.0  0.0  0.0\n",
       " 0.0  0.0  0.0  0.0  0.0  0.0  0.0  0.0     0.0  0.0  0.0  0.0  0.0  0.0  0.0\n",
       " 0.0  0.0  0.0  0.0  0.0  0.0  0.0  0.0     0.0  0.0  0.0  0.0  0.0  0.0  0.0\n",
       " 0.0  0.0  0.0  0.0  0.0  0.0  0.0  0.0     0.0  0.0  0.0  0.0  0.0  0.0  0.0\n",
       " 0.0  0.0  0.0  0.0  0.0  0.0  0.0  0.0     0.0  0.0  0.0  0.0  0.0  0.0  0.0\n",
       " 0.0  0.0  0.0  0.0  0.0  0.0  0.0  0.0  …  0.0  0.0  0.0  0.0  0.0  0.0  0.0\n",
       " 0.0  0.0  0.0  0.0  0.0  0.0  0.0  0.0     0.0  0.0  0.0  0.0  0.0  0.0  0.0\n",
       " 0.0  0.0  0.0  0.0  0.0  0.0  0.0  0.0     0.0  0.0  0.0  0.0  0.0  0.0  0.0\n",
       " ⋮                        ⋮              ⋱            ⋮                   \n",
       " 0.0  0.0  0.0  0.0  0.0  0.0  0.0  0.0     0.0  0.0  0.0  0.0  0.0  0.0  0.0\n",
       " 0.0  0.0  0.0  0.0  0.0  0.0  0.0  0.0     0.0  0.0  0.0  0.0  0.0  0.0  0.0\n",
       " 0.0  0.0  0.0  0.0  0.0  0.0  0.0  0.0  …  0.0  0.0  0.0  0.0  0.0  0.0  0.0\n",
       " 0.0  0.0  0.0  0.0  0.0  0.0  0.0  0.0     0.0  0.0  0.0  0.0  0.0  0.0  0.0\n",
       " 0.0  0.0  0.0  0.0  0.0  0.0  0.0  0.0     0.0  0.0  0.0  0.0  0.0  0.0  0.0\n",
       " 0.0  0.0  0.0  0.0  0.0  0.0  0.0  0.0     0.0  0.0  0.0  0.0  0.0  0.0  0.0\n",
       " 0.0  0.0  0.0  0.0  0.0  0.0  0.0  0.0     0.0  0.0  0.0  0.0  0.0  0.0  0.0\n",
       " 0.0  0.0  0.0  0.0  0.0  0.0  0.0  0.0  …  0.0  0.0  0.0  0.0  0.0  0.0  0.0\n",
       " 0.0  0.0  0.0  0.0  0.0  0.0  0.0  0.0     0.0  0.0  0.0  0.0  0.0  0.0  0.0\n",
       " 0.0  0.0  0.0  0.0  0.0  0.0  0.0  0.0     0.0  0.0  0.0  0.0  0.0  0.0  0.0\n",
       " 0.0  0.0  0.0  0.0  0.0  0.0  0.0  0.0     0.0  0.0  0.0  0.0  0.0  0.0  0.0\n",
       " 0.0  0.0  0.0  0.0  0.0  0.0  0.0  0.0     0.0  0.0  0.0  0.0  0.0  0.0  0.0\n",
       "\n",
       "[:, :, 2] =\n",
       " 0.0  0.0  0.0  0.0  0.0  0.0  0.0  0.0  …  0.0  0.0  0.0  0.0  0.0  0.0  0.0\n",
       " 0.0  0.0  0.0  0.0  0.0  0.0  0.0  0.0     0.0  0.0  0.0  0.0  0.0  0.0  0.0\n",
       " 0.0  0.0  0.0  0.0  0.0  0.0  0.0  0.0     0.0  0.0  0.0  0.0  0.0  0.0  0.0\n",
       " 0.0  0.0  0.0  0.0  0.0  0.0  0.0  0.0     0.0  0.0  0.0  0.0  0.0  0.0  0.0\n",
       " 0.0  0.0  0.0  0.0  0.0  0.0  0.0  0.0     0.0  0.0  0.0  0.0  0.0  0.0  0.0\n",
       " 0.0  0.0  0.0  0.0  0.0  0.0  0.0  0.0  …  0.0  0.0  0.0  0.0  0.0  0.0  0.0\n",
       " 0.0  0.0  0.0  0.0  0.0  0.0  0.0  0.0     0.0  0.0  0.0  0.0  0.0  0.0  0.0\n",
       " 0.0  0.0  0.0  0.0  0.0  0.0  0.0  0.0     0.0  0.0  0.0  0.0  0.0  0.0  0.0\n",
       " 0.0  0.0  0.0  0.0  0.0  0.0  0.0  0.0     0.0  0.0  0.0  0.0  0.0  0.0  0.0\n",
       " 0.0  0.0  0.0  0.0  0.0  0.0  0.0  0.0     0.0  0.0  0.0  0.0  0.0  0.0  0.0\n",
       " 0.0  0.0  0.0  0.0  0.0  0.0  0.0  0.0  …  0.0  0.0  0.0  0.0  0.0  0.0  0.0\n",
       " 0.0  0.0  0.0  0.0  0.0  0.0  0.0  0.0     0.0  0.0  0.0  0.0  0.0  0.0  0.0\n",
       " 0.0  0.0  0.0  0.0  0.0  0.0  0.0  0.0     0.0  0.0  0.0  0.0  0.0  0.0  0.0\n",
       " ⋮                        ⋮              ⋱            ⋮                   \n",
       " 0.0  0.0  0.0  0.0  0.0  0.0  0.0  0.0     0.0  0.0  0.0  0.0  0.0  0.0  0.0\n",
       " 0.0  0.0  0.0  0.0  0.0  0.0  0.0  0.0     0.0  0.0  0.0  0.0  0.0  0.0  0.0\n",
       " 0.0  0.0  0.0  0.0  0.0  0.0  0.0  0.0  …  0.0  0.0  0.0  0.0  0.0  0.0  0.0\n",
       " 0.0  0.0  0.0  0.0  0.0  0.0  0.0  0.0     0.0  0.0  0.0  0.0  0.0  0.0  0.0\n",
       " 0.0  0.0  0.0  0.0  0.0  0.0  0.0  0.0     0.0  0.0  0.0  0.0  0.0  0.0  0.0\n",
       " 0.0  0.0  0.0  0.0  0.0  0.0  0.0  0.0     0.0  0.0  0.0  0.0  0.0  0.0  0.0\n",
       " 0.0  0.0  0.0  0.0  0.0  0.0  0.0  0.0     0.0  0.0  0.0  0.0  0.0  0.0  0.0\n",
       " 0.0  0.0  0.0  0.0  0.0  0.0  0.0  0.0  …  0.0  0.0  0.0  0.0  0.0  0.0  0.0\n",
       " 0.0  0.0  0.0  0.0  0.0  0.0  0.0  0.0     0.0  0.0  0.0  0.0  0.0  0.0  0.0\n",
       " 0.0  0.0  0.0  0.0  0.0  0.0  0.0  0.0     0.0  0.0  0.0  0.0  0.0  0.0  0.0\n",
       " 0.0  0.0  0.0  0.0  0.0  0.0  0.0  0.0     0.0  0.0  0.0  0.0  0.0  0.0  0.0\n",
       " 0.0  0.0  0.0  0.0  0.0  0.0  0.0  0.0     0.0  0.0  0.0  0.0  0.0  0.0  0.0"
      ]
     },
     "execution_count": 174,
     "metadata": {},
     "output_type": "execute_result"
    }
   ],
   "source": [
    "fun_v_C_(p.r, .-p.r, p)"
   ]
  },
  {
   "cell_type": "code",
   "execution_count": 175,
   "metadata": {},
   "outputs": [
    {
     "data": {
      "text/plain": [
       "100×100×2 Array{Float64,3}:\n",
       "[:, :, 1] =\n",
       " 0.0  0.0  0.0  0.0  0.0  0.0  0.0  0.0  …  0.0  0.0  0.0  0.0  0.0  0.0  0.0\n",
       " 0.0  0.0  0.0  0.0  0.0  0.0  0.0  0.0     0.0  0.0  0.0  0.0  0.0  0.0  0.0\n",
       " 0.0  0.0  0.0  0.0  0.0  0.0  0.0  0.0     0.0  0.0  0.0  0.0  0.0  0.0  0.0\n",
       " 0.0  0.0  0.0  0.0  0.0  0.0  0.0  0.0     0.0  0.0  0.0  0.0  0.0  0.0  0.0\n",
       " 0.0  0.0  0.0  0.0  0.0  0.0  0.0  0.0     0.0  0.0  0.0  0.0  0.0  0.0  0.0\n",
       " 0.0  0.0  0.0  0.0  0.0  0.0  0.0  0.0  …  0.0  0.0  0.0  0.0  0.0  0.0  0.0\n",
       " 0.0  0.0  0.0  0.0  0.0  0.0  0.0  0.0     0.0  0.0  0.0  0.0  0.0  0.0  0.0\n",
       " 0.0  0.0  0.0  0.0  0.0  0.0  0.0  0.0     0.0  0.0  0.0  0.0  0.0  0.0  0.0\n",
       " 0.0  0.0  0.0  0.0  0.0  0.0  0.0  0.0     0.0  0.0  0.0  0.0  0.0  0.0  0.0\n",
       " 0.0  0.0  0.0  0.0  0.0  0.0  0.0  0.0     0.0  0.0  0.0  0.0  0.0  0.0  0.0\n",
       " 0.0  0.0  0.0  0.0  0.0  0.0  0.0  0.0  …  0.0  0.0  0.0  0.0  0.0  0.0  0.0\n",
       " 0.0  0.0  0.0  0.0  0.0  0.0  0.0  0.0     0.0  0.0  0.0  0.0  0.0  0.0  0.0\n",
       " 0.0  0.0  0.0  0.0  0.0  0.0  0.0  0.0     0.0  0.0  0.0  0.0  0.0  0.0  0.0\n",
       " ⋮                        ⋮              ⋱            ⋮                   \n",
       " 0.0  0.0  0.0  0.0  0.0  0.0  0.0  0.0     0.0  0.0  0.0  0.0  0.0  0.0  0.0\n",
       " 0.0  0.0  0.0  0.0  0.0  0.0  0.0  0.0     0.0  0.0  0.0  0.0  0.0  0.0  0.0\n",
       " 0.0  0.0  0.0  0.0  0.0  0.0  0.0  0.0  …  0.0  0.0  0.0  0.0  0.0  0.0  0.0\n",
       " 0.0  0.0  0.0  0.0  0.0  0.0  0.0  0.0     0.0  0.0  0.0  0.0  0.0  0.0  0.0\n",
       " 0.0  0.0  0.0  0.0  0.0  0.0  0.0  0.0     0.0  0.0  0.0  0.0  0.0  0.0  0.0\n",
       " 0.0  0.0  0.0  0.0  0.0  0.0  0.0  0.0     0.0  0.0  0.0  0.0  0.0  0.0  0.0\n",
       " 0.0  0.0  0.0  0.0  0.0  0.0  0.0  0.0     0.0  0.0  0.0  0.0  0.0  0.0  0.0\n",
       " 0.0  0.0  0.0  0.0  0.0  0.0  0.0  0.0  …  0.0  0.0  0.0  0.0  0.0  0.0  0.0\n",
       " 0.0  0.0  0.0  0.0  0.0  0.0  0.0  0.0     0.0  0.0  0.0  0.0  0.0  0.0  0.0\n",
       " 0.0  0.0  0.0  0.0  0.0  0.0  0.0  0.0     0.0  0.0  0.0  0.0  0.0  0.0  0.0\n",
       " 0.0  0.0  0.0  0.0  0.0  0.0  0.0  0.0     0.0  0.0  0.0  0.0  0.0  0.0  0.0\n",
       " 0.0  0.0  0.0  0.0  0.0  0.0  0.0  0.0     0.0  0.0  0.0  0.0  0.0  0.0  0.0\n",
       "\n",
       "[:, :, 2] =\n",
       " 0.0  0.0  0.0  0.0  0.0  0.0  0.0  0.0  …  0.0  0.0  0.0  0.0  0.0  0.0  0.0\n",
       " 0.0  0.0  0.0  0.0  0.0  0.0  0.0  0.0     0.0  0.0  0.0  0.0  0.0  0.0  0.0\n",
       " 0.0  0.0  0.0  0.0  0.0  0.0  0.0  0.0     0.0  0.0  0.0  0.0  0.0  0.0  0.0\n",
       " 0.0  0.0  0.0  0.0  0.0  0.0  0.0  0.0     0.0  0.0  0.0  0.0  0.0  0.0  0.0\n",
       " 0.0  0.0  0.0  0.0  0.0  0.0  0.0  0.0     0.0  0.0  0.0  0.0  0.0  0.0  0.0\n",
       " 0.0  0.0  0.0  0.0  0.0  0.0  0.0  0.0  …  0.0  0.0  0.0  0.0  0.0  0.0  0.0\n",
       " 0.0  0.0  0.0  0.0  0.0  0.0  0.0  0.0     0.0  0.0  0.0  0.0  0.0  0.0  0.0\n",
       " 0.0  0.0  0.0  0.0  0.0  0.0  0.0  0.0     0.0  0.0  0.0  0.0  0.0  0.0  0.0\n",
       " 0.0  0.0  0.0  0.0  0.0  0.0  0.0  0.0     0.0  0.0  0.0  0.0  0.0  0.0  0.0\n",
       " 0.0  0.0  0.0  0.0  0.0  0.0  0.0  0.0     0.0  0.0  0.0  0.0  0.0  0.0  0.0\n",
       " 0.0  0.0  0.0  0.0  0.0  0.0  0.0  0.0  …  0.0  0.0  0.0  0.0  0.0  0.0  0.0\n",
       " 0.0  0.0  0.0  0.0  0.0  0.0  0.0  0.0     0.0  0.0  0.0  0.0  0.0  0.0  0.0\n",
       " 0.0  0.0  0.0  0.0  0.0  0.0  0.0  0.0     0.0  0.0  0.0  0.0  0.0  0.0  0.0\n",
       " ⋮                        ⋮              ⋱            ⋮                   \n",
       " 0.0  0.0  0.0  0.0  0.0  0.0  0.0  0.0     0.0  0.0  0.0  0.0  0.0  0.0  0.0\n",
       " 0.0  0.0  0.0  0.0  0.0  0.0  0.0  0.0     0.0  0.0  0.0  0.0  0.0  0.0  0.0\n",
       " 0.0  0.0  0.0  0.0  0.0  0.0  0.0  0.0  …  0.0  0.0  0.0  0.0  0.0  0.0  0.0\n",
       " 0.0  0.0  0.0  0.0  0.0  0.0  0.0  0.0     0.0  0.0  0.0  0.0  0.0  0.0  0.0\n",
       " 0.0  0.0  0.0  0.0  0.0  0.0  0.0  0.0     0.0  0.0  0.0  0.0  0.0  0.0  0.0\n",
       " 0.0  0.0  0.0  0.0  0.0  0.0  0.0  0.0     0.0  0.0  0.0  0.0  0.0  0.0  0.0\n",
       " 0.0  0.0  0.0  0.0  0.0  0.0  0.0  0.0     0.0  0.0  0.0  0.0  0.0  0.0  0.0\n",
       " 0.0  0.0  0.0  0.0  0.0  0.0  0.0  0.0  …  0.0  0.0  0.0  0.0  0.0  0.0  0.0\n",
       " 0.0  0.0  0.0  0.0  0.0  0.0  0.0  0.0     0.0  0.0  0.0  0.0  0.0  0.0  0.0\n",
       " 0.0  0.0  0.0  0.0  0.0  0.0  0.0  0.0     0.0  0.0  0.0  0.0  0.0  0.0  0.0\n",
       " 0.0  0.0  0.0  0.0  0.0  0.0  0.0  0.0     0.0  0.0  0.0  0.0  0.0  0.0  0.0\n",
       " 0.0  0.0  0.0  0.0  0.0  0.0  0.0  0.0     0.0  0.0  0.0  0.0  0.0  0.0  0.0"
      ]
     },
     "execution_count": 175,
     "metadata": {},
     "output_type": "execute_result"
    }
   ],
   "source": [
    "v_C"
   ]
  },
  {
   "cell_type": "code",
   "execution_count": 176,
   "metadata": {},
   "outputs": [
    {
     "data": {
      "text/plain": [
       "(1.6221813344820002, CartesianIndex(70, 50, 2))"
      ]
     },
     "execution_count": 176,
     "metadata": {},
     "output_type": "execute_result"
    }
   ],
   "source": [
    "findmax(v_C)"
   ]
  },
  {
   "cell_type": "code",
   "execution_count": 177,
   "metadata": {},
   "outputs": [
    {
     "data": {
      "text/plain": [
       "(1.2756314070658155, CartesianIndex(70, 50, 2))"
      ]
     },
     "execution_count": 177,
     "metadata": {},
     "output_type": "execute_result"
    }
   ],
   "source": [
    "findmax(fun_v_C_(p.r, .-p.r, p))"
   ]
  },
  {
   "cell_type": "code",
   "execution_count": 314,
   "metadata": {},
   "outputs": [
    {
     "data": {
      "text/plain": [
       "fun_v_Ch! (generic function with 1 method)"
      ]
     },
     "execution_count": 314,
     "metadata": {},
     "output_type": "execute_result"
    }
   ],
   "source": [
    "function fun_v_Ch!(v_C::AbstractArray, v_p::AbstractArray, v_m::AbstractArray, p::NamedTuple)\n",
    "    V = similar(v_p)\n",
    "#     @. V = \n",
    "    imfilter!(V, max.(v_p,0) - max.(v_m,0), (centered(p.k_gauss_2),), p.filling)\n",
    "    @. V = exp(-1.0f0/8.0f0) * V\n",
    "#     A = @view v_C\n",
    "    B = similar(v_C)\n",
    "#    @inbounds begin \n",
    "    for k in 1:p.K\n",
    "        A = @view v_C[:,:,k]\n",
    "        imfilter!(A, V, (centered(p.k_C_d[:,:,k]),), p.filling)\n",
    "        imfilter!(B[:,:,k], V, (centered(p.k_C_b[:,:,k]),), p.filling)\n",
    "    end\n",
    "#     end\n",
    "#     @. B = abs(B)\n",
    "    @. v_C = p.γ * (max(v_C - abs(B), 0) + max(-v_C - abs(B), 0))\n",
    "end"
   ]
  },
  {
   "cell_type": "code",
   "execution_count": 318,
   "metadata": {},
   "outputs": [
    {
     "name": "stdout",
     "output_type": "stream",
     "text": [
      "\u001b[91m\u001b[1mTest Failed\u001b[22m\u001b[39m at \u001b[39m\u001b[1mIn[318]:4\u001b[22m\n",
      "  Expression: nnn ≈ v_C\n",
      "   Evaluated: Float32[0.0 0.0 … 0.0 0.0; 0.0 0.0 … 0.0 0.0; … ; 0.0 0.0 … 0.0 0.0; 0.0 0.0 … 0.0 0.0]\n",
      "\n",
      "Float32[0.0 0.0 … 0.0 0.0; 0.0 0.0 … 0.0 0.0; … ; 0.0 0.0 … 0.0 0.0; 0.0 0.0 … 0.0 0.0] ≈ [0.0 0.0 … 0.0 0.0; 0.0 0.0 … 0.0 0.0; … ; 0.0 0.0 … 0.0 0.0; 0.0 0.0 … 0.0 0.0]\n",
      "\n",
      "[0.0 0.0 … 0.0 0.0; 0.0 0.0 … 0.0 0.0; … ; 0.0 0.0 … 0.0 0.0; 0.0 0.0 … 0.0 0.0]\n"
     ]
    },
    {
     "ename": "Test.FallbackTestSetException",
     "evalue": "There was an error during testing",
     "output_type": "error",
     "traceback": [
      "There was an error during testing",
      "",
      "Stacktrace:",
      " [1] record(::Test.FallbackTestSet, ::Union{Test.Error, Test.Fail}) at /Users/julia/buildbot/worker/package_macos64/build/usr/share/julia/stdlib/v1.4/Test/src/Test.jl:737",
      " [2] do_test(::Test.ExecutionResult, ::Any) at /Users/julia/buildbot/worker/package_macos64/build/usr/share/julia/stdlib/v1.4/Test/src/Test.jl:520",
      " [3] top-level scope at In[318]:4"
     ]
    }
   ],
   "source": [
    "v_C = reshape(zeros(100,200),100, 100, 2)\n",
    "fun_v_Ch!(v_C, p.r, .-p.r, p)\n",
    "nnn = fun_v_C_(p.r, .-p.r, p)\n",
    "@test nnn ≈ v_C"
   ]
  },
  {
   "cell_type": "code",
   "execution_count": 186,
   "metadata": {},
   "outputs": [
    {
     "data": {
      "text/plain": [
       "100×100×2 Array{Float64,3}:\n",
       "[:, :, 1] =\n",
       " 0.0  0.0  0.0  0.0  0.0  0.0  0.0  0.0  …  0.0  0.0  0.0  0.0  0.0  0.0  0.0\n",
       " 0.0  0.0  0.0  0.0  0.0  0.0  0.0  0.0     0.0  0.0  0.0  0.0  0.0  0.0  0.0\n",
       " 0.0  0.0  0.0  0.0  0.0  0.0  0.0  0.0     0.0  0.0  0.0  0.0  0.0  0.0  0.0\n",
       " 0.0  0.0  0.0  0.0  0.0  0.0  0.0  0.0     0.0  0.0  0.0  0.0  0.0  0.0  0.0\n",
       " 0.0  0.0  0.0  0.0  0.0  0.0  0.0  0.0     0.0  0.0  0.0  0.0  0.0  0.0  0.0\n",
       " 0.0  0.0  0.0  0.0  0.0  0.0  0.0  0.0  …  0.0  0.0  0.0  0.0  0.0  0.0  0.0\n",
       " 0.0  0.0  0.0  0.0  0.0  0.0  0.0  0.0     0.0  0.0  0.0  0.0  0.0  0.0  0.0\n",
       " 0.0  0.0  0.0  0.0  0.0  0.0  0.0  0.0     0.0  0.0  0.0  0.0  0.0  0.0  0.0\n",
       " 0.0  0.0  0.0  0.0  0.0  0.0  0.0  0.0     0.0  0.0  0.0  0.0  0.0  0.0  0.0\n",
       " 0.0  0.0  0.0  0.0  0.0  0.0  0.0  0.0     0.0  0.0  0.0  0.0  0.0  0.0  0.0\n",
       " 0.0  0.0  0.0  0.0  0.0  0.0  0.0  0.0  …  0.0  0.0  0.0  0.0  0.0  0.0  0.0\n",
       " 0.0  0.0  0.0  0.0  0.0  0.0  0.0  0.0     0.0  0.0  0.0  0.0  0.0  0.0  0.0\n",
       " 0.0  0.0  0.0  0.0  0.0  0.0  0.0  0.0     0.0  0.0  0.0  0.0  0.0  0.0  0.0\n",
       " ⋮                        ⋮              ⋱            ⋮                   \n",
       " 0.0  0.0  0.0  0.0  0.0  0.0  0.0  0.0     0.0  0.0  0.0  0.0  0.0  0.0  0.0\n",
       " 0.0  0.0  0.0  0.0  0.0  0.0  0.0  0.0     0.0  0.0  0.0  0.0  0.0  0.0  0.0\n",
       " 0.0  0.0  0.0  0.0  0.0  0.0  0.0  0.0  …  0.0  0.0  0.0  0.0  0.0  0.0  0.0\n",
       " 0.0  0.0  0.0  0.0  0.0  0.0  0.0  0.0     0.0  0.0  0.0  0.0  0.0  0.0  0.0\n",
       " 0.0  0.0  0.0  0.0  0.0  0.0  0.0  0.0     0.0  0.0  0.0  0.0  0.0  0.0  0.0\n",
       " 0.0  0.0  0.0  0.0  0.0  0.0  0.0  0.0     0.0  0.0  0.0  0.0  0.0  0.0  0.0\n",
       " 0.0  0.0  0.0  0.0  0.0  0.0  0.0  0.0     0.0  0.0  0.0  0.0  0.0  0.0  0.0\n",
       " 0.0  0.0  0.0  0.0  0.0  0.0  0.0  0.0  …  0.0  0.0  0.0  0.0  0.0  0.0  0.0\n",
       " 0.0  0.0  0.0  0.0  0.0  0.0  0.0  0.0     0.0  0.0  0.0  0.0  0.0  0.0  0.0\n",
       " 0.0  0.0  0.0  0.0  0.0  0.0  0.0  0.0     0.0  0.0  0.0  0.0  0.0  0.0  0.0\n",
       " 0.0  0.0  0.0  0.0  0.0  0.0  0.0  0.0     0.0  0.0  0.0  0.0  0.0  0.0  0.0\n",
       " 0.0  0.0  0.0  0.0  0.0  0.0  0.0  0.0     0.0  0.0  0.0  0.0  0.0  0.0  0.0\n",
       "\n",
       "[:, :, 2] =\n",
       " 0.0  0.0  0.0  0.0  0.0  0.0  0.0  0.0  …  0.0  0.0  0.0  0.0  0.0  0.0  0.0\n",
       " 0.0  0.0  0.0  0.0  0.0  0.0  0.0  0.0     0.0  0.0  0.0  0.0  0.0  0.0  0.0\n",
       " 0.0  0.0  0.0  0.0  0.0  0.0  0.0  0.0     0.0  0.0  0.0  0.0  0.0  0.0  0.0\n",
       " 0.0  0.0  0.0  0.0  0.0  0.0  0.0  0.0     0.0  0.0  0.0  0.0  0.0  0.0  0.0\n",
       " 0.0  0.0  0.0  0.0  0.0  0.0  0.0  0.0     0.0  0.0  0.0  0.0  0.0  0.0  0.0\n",
       " 0.0  0.0  0.0  0.0  0.0  0.0  0.0  0.0  …  0.0  0.0  0.0  0.0  0.0  0.0  0.0\n",
       " 0.0  0.0  0.0  0.0  0.0  0.0  0.0  0.0     0.0  0.0  0.0  0.0  0.0  0.0  0.0\n",
       " 0.0  0.0  0.0  0.0  0.0  0.0  0.0  0.0     0.0  0.0  0.0  0.0  0.0  0.0  0.0\n",
       " 0.0  0.0  0.0  0.0  0.0  0.0  0.0  0.0     0.0  0.0  0.0  0.0  0.0  0.0  0.0\n",
       " 0.0  0.0  0.0  0.0  0.0  0.0  0.0  0.0     0.0  0.0  0.0  0.0  0.0  0.0  0.0\n",
       " 0.0  0.0  0.0  0.0  0.0  0.0  0.0  0.0  …  0.0  0.0  0.0  0.0  0.0  0.0  0.0\n",
       " 0.0  0.0  0.0  0.0  0.0  0.0  0.0  0.0     0.0  0.0  0.0  0.0  0.0  0.0  0.0\n",
       " 0.0  0.0  0.0  0.0  0.0  0.0  0.0  0.0     0.0  0.0  0.0  0.0  0.0  0.0  0.0\n",
       " ⋮                        ⋮              ⋱            ⋮                   \n",
       " 0.0  0.0  0.0  0.0  0.0  0.0  0.0  0.0     0.0  0.0  0.0  0.0  0.0  0.0  0.0\n",
       " 0.0  0.0  0.0  0.0  0.0  0.0  0.0  0.0     0.0  0.0  0.0  0.0  0.0  0.0  0.0\n",
       " 0.0  0.0  0.0  0.0  0.0  0.0  0.0  0.0  …  0.0  0.0  0.0  0.0  0.0  0.0  0.0\n",
       " 0.0  0.0  0.0  0.0  0.0  0.0  0.0  0.0     0.0  0.0  0.0  0.0  0.0  0.0  0.0\n",
       " 0.0  0.0  0.0  0.0  0.0  0.0  0.0  0.0     0.0  0.0  0.0  0.0  0.0  0.0  0.0\n",
       " 0.0  0.0  0.0  0.0  0.0  0.0  0.0  0.0     0.0  0.0  0.0  0.0  0.0  0.0  0.0\n",
       " 0.0  0.0  0.0  0.0  0.0  0.0  0.0  0.0     0.0  0.0  0.0  0.0  0.0  0.0  0.0\n",
       " 0.0  0.0  0.0  0.0  0.0  0.0  0.0  0.0  …  0.0  0.0  0.0  0.0  0.0  0.0  0.0\n",
       " 0.0  0.0  0.0  0.0  0.0  0.0  0.0  0.0     0.0  0.0  0.0  0.0  0.0  0.0  0.0\n",
       " 0.0  0.0  0.0  0.0  0.0  0.0  0.0  0.0     0.0  0.0  0.0  0.0  0.0  0.0  0.0\n",
       " 0.0  0.0  0.0  0.0  0.0  0.0  0.0  0.0     0.0  0.0  0.0  0.0  0.0  0.0  0.0\n",
       " 0.0  0.0  0.0  0.0  0.0  0.0  0.0  0.0     0.0  0.0  0.0  0.0  0.0  0.0  0.0"
      ]
     },
     "execution_count": 186,
     "metadata": {},
     "output_type": "execute_result"
    }
   ],
   "source": [
    "nnn"
   ]
  },
  {
   "cell_type": "code",
   "execution_count": 187,
   "metadata": {},
   "outputs": [
    {
     "data": {
      "text/plain": [
       "100×100×2 Array{Float64,3}:\n",
       "[:, :, 1] =\n",
       " 0.0  0.0  0.0  0.0  0.0  0.0  0.0  0.0  …  0.0  0.0  0.0  0.0  0.0  0.0  0.0\n",
       " 0.0  0.0  0.0  0.0  0.0  0.0  0.0  0.0     0.0  0.0  0.0  0.0  0.0  0.0  0.0\n",
       " 0.0  0.0  0.0  0.0  0.0  0.0  0.0  0.0     0.0  0.0  0.0  0.0  0.0  0.0  0.0\n",
       " 0.0  0.0  0.0  0.0  0.0  0.0  0.0  0.0     0.0  0.0  0.0  0.0  0.0  0.0  0.0\n",
       " 0.0  0.0  0.0  0.0  0.0  0.0  0.0  0.0     0.0  0.0  0.0  0.0  0.0  0.0  0.0\n",
       " 0.0  0.0  0.0  0.0  0.0  0.0  0.0  0.0  …  0.0  0.0  0.0  0.0  0.0  0.0  0.0\n",
       " 0.0  0.0  0.0  0.0  0.0  0.0  0.0  0.0     0.0  0.0  0.0  0.0  0.0  0.0  0.0\n",
       " 0.0  0.0  0.0  0.0  0.0  0.0  0.0  0.0     0.0  0.0  0.0  0.0  0.0  0.0  0.0\n",
       " 0.0  0.0  0.0  0.0  0.0  0.0  0.0  0.0     0.0  0.0  0.0  0.0  0.0  0.0  0.0\n",
       " 0.0  0.0  0.0  0.0  0.0  0.0  0.0  0.0     0.0  0.0  0.0  0.0  0.0  0.0  0.0\n",
       " 0.0  0.0  0.0  0.0  0.0  0.0  0.0  0.0  …  0.0  0.0  0.0  0.0  0.0  0.0  0.0\n",
       " 0.0  0.0  0.0  0.0  0.0  0.0  0.0  0.0     0.0  0.0  0.0  0.0  0.0  0.0  0.0\n",
       " 0.0  0.0  0.0  0.0  0.0  0.0  0.0  0.0     0.0  0.0  0.0  0.0  0.0  0.0  0.0\n",
       " ⋮                        ⋮              ⋱            ⋮                   \n",
       " 0.0  0.0  0.0  0.0  0.0  0.0  0.0  0.0     0.0  0.0  0.0  0.0  0.0  0.0  0.0\n",
       " 0.0  0.0  0.0  0.0  0.0  0.0  0.0  0.0     0.0  0.0  0.0  0.0  0.0  0.0  0.0\n",
       " 0.0  0.0  0.0  0.0  0.0  0.0  0.0  0.0  …  0.0  0.0  0.0  0.0  0.0  0.0  0.0\n",
       " 0.0  0.0  0.0  0.0  0.0  0.0  0.0  0.0     0.0  0.0  0.0  0.0  0.0  0.0  0.0\n",
       " 0.0  0.0  0.0  0.0  0.0  0.0  0.0  0.0     0.0  0.0  0.0  0.0  0.0  0.0  0.0\n",
       " 0.0  0.0  0.0  0.0  0.0  0.0  0.0  0.0     0.0  0.0  0.0  0.0  0.0  0.0  0.0\n",
       " 0.0  0.0  0.0  0.0  0.0  0.0  0.0  0.0     0.0  0.0  0.0  0.0  0.0  0.0  0.0\n",
       " 0.0  0.0  0.0  0.0  0.0  0.0  0.0  0.0  …  0.0  0.0  0.0  0.0  0.0  0.0  0.0\n",
       " 0.0  0.0  0.0  0.0  0.0  0.0  0.0  0.0     0.0  0.0  0.0  0.0  0.0  0.0  0.0\n",
       " 0.0  0.0  0.0  0.0  0.0  0.0  0.0  0.0     0.0  0.0  0.0  0.0  0.0  0.0  0.0\n",
       " 0.0  0.0  0.0  0.0  0.0  0.0  0.0  0.0     0.0  0.0  0.0  0.0  0.0  0.0  0.0\n",
       " 0.0  0.0  0.0  0.0  0.0  0.0  0.0  0.0     0.0  0.0  0.0  0.0  0.0  0.0  0.0\n",
       "\n",
       "[:, :, 2] =\n",
       " 0.0  0.0  0.0  0.0  0.0  0.0  0.0  0.0  …  0.0  0.0  0.0  0.0  0.0  0.0  0.0\n",
       " 0.0  0.0  0.0  0.0  0.0  0.0  0.0  0.0     0.0  0.0  0.0  0.0  0.0  0.0  0.0\n",
       " 0.0  0.0  0.0  0.0  0.0  0.0  0.0  0.0     0.0  0.0  0.0  0.0  0.0  0.0  0.0\n",
       " 0.0  0.0  0.0  0.0  0.0  0.0  0.0  0.0     0.0  0.0  0.0  0.0  0.0  0.0  0.0\n",
       " 0.0  0.0  0.0  0.0  0.0  0.0  0.0  0.0     0.0  0.0  0.0  0.0  0.0  0.0  0.0\n",
       " 0.0  0.0  0.0  0.0  0.0  0.0  0.0  0.0  …  0.0  0.0  0.0  0.0  0.0  0.0  0.0\n",
       " 0.0  0.0  0.0  0.0  0.0  0.0  0.0  0.0     0.0  0.0  0.0  0.0  0.0  0.0  0.0\n",
       " 0.0  0.0  0.0  0.0  0.0  0.0  0.0  0.0     0.0  0.0  0.0  0.0  0.0  0.0  0.0\n",
       " 0.0  0.0  0.0  0.0  0.0  0.0  0.0  0.0     0.0  0.0  0.0  0.0  0.0  0.0  0.0\n",
       " 0.0  0.0  0.0  0.0  0.0  0.0  0.0  0.0     0.0  0.0  0.0  0.0  0.0  0.0  0.0\n",
       " 0.0  0.0  0.0  0.0  0.0  0.0  0.0  0.0  …  0.0  0.0  0.0  0.0  0.0  0.0  0.0\n",
       " 0.0  0.0  0.0  0.0  0.0  0.0  0.0  0.0     0.0  0.0  0.0  0.0  0.0  0.0  0.0\n",
       " 0.0  0.0  0.0  0.0  0.0  0.0  0.0  0.0     0.0  0.0  0.0  0.0  0.0  0.0  0.0\n",
       " ⋮                        ⋮              ⋱            ⋮                   \n",
       " 0.0  0.0  0.0  0.0  0.0  0.0  0.0  0.0     0.0  0.0  0.0  0.0  0.0  0.0  0.0\n",
       " 0.0  0.0  0.0  0.0  0.0  0.0  0.0  0.0     0.0  0.0  0.0  0.0  0.0  0.0  0.0\n",
       " 0.0  0.0  0.0  0.0  0.0  0.0  0.0  0.0  …  0.0  0.0  0.0  0.0  0.0  0.0  0.0\n",
       " 0.0  0.0  0.0  0.0  0.0  0.0  0.0  0.0     0.0  0.0  0.0  0.0  0.0  0.0  0.0\n",
       " 0.0  0.0  0.0  0.0  0.0  0.0  0.0  0.0     0.0  0.0  0.0  0.0  0.0  0.0  0.0\n",
       " 0.0  0.0  0.0  0.0  0.0  0.0  0.0  0.0     0.0  0.0  0.0  0.0  0.0  0.0  0.0\n",
       " 0.0  0.0  0.0  0.0  0.0  0.0  0.0  0.0     0.0  0.0  0.0  0.0  0.0  0.0  0.0\n",
       " 0.0  0.0  0.0  0.0  0.0  0.0  0.0  0.0  …  0.0  0.0  0.0  0.0  0.0  0.0  0.0\n",
       " 0.0  0.0  0.0  0.0  0.0  0.0  0.0  0.0     0.0  0.0  0.0  0.0  0.0  0.0  0.0\n",
       " 0.0  0.0  0.0  0.0  0.0  0.0  0.0  0.0     0.0  0.0  0.0  0.0  0.0  0.0  0.0\n",
       " 0.0  0.0  0.0  0.0  0.0  0.0  0.0  0.0     0.0  0.0  0.0  0.0  0.0  0.0  0.0\n",
       " 0.0  0.0  0.0  0.0  0.0  0.0  0.0  0.0     0.0  0.0  0.0  0.0  0.0  0.0  0.0"
      ]
     },
     "execution_count": 187,
     "metadata": {},
     "output_type": "execute_result"
    }
   ],
   "source": [
    "v_C"
   ]
  },
  {
   "cell_type": "code",
   "execution_count": 381,
   "metadata": {},
   "outputs": [
    {
     "data": {
      "image/png": "[encoded data removed]",
      "text/plain": [
       "Figure(PyObject <Figure size 640x480 with 1 Axes>)"
      ]
     },
     "metadata": {},
     "output_type": "display_data"
    }
   ],
   "source": [
    "Utils.plot_gs(v_C[:,:,1])"
   ]
  },
  {
   "cell_type": "code",
   "execution_count": 382,
   "metadata": {},
   "outputs": [
    {
     "data": {
      "image/png": "[encoded data removed]",
      "text/plain": [
       "Figure(PyObject <Figure size 640x480 with 1 Axes>)"
      ]
     },
     "metadata": {},
     "output_type": "display_data"
    }
   ],
   "source": [
    "Utils.plot_gs(nnn[:,:,1])"
   ]
  },
  {
   "cell_type": "code",
   "execution_count": 385,
   "metadata": {},
   "outputs": [
    {
     "data": {
      "text/plain": [
       "fun_v_Cj! (generic function with 1 method)"
      ]
     },
     "execution_count": 385,
     "metadata": {},
     "output_type": "execute_result"
    }
   ],
   "source": [
    "function fun_v_Cj!(v_C::AbstractArray, v_p::AbstractArray, v_m::AbstractArray, p::NamedTuple)\n",
    "    V = similar(v_p)\n",
    "    temp = similar(v_p)\n",
    "\n",
    "    @. temp = exp(-1.0f0/8.0f0) * (max(v_p,0)-max(v_m,0))\n",
    "    imfilter!(V, temp,  (centered(p.k_gauss_2),), p.filling)\n",
    "\n",
    "    A = similar(v_C)\n",
    "#     allocate B to v_C\n",
    "    @inbounds begin\n",
    "    for k in 1:p.K\n",
    "        a = @view A[:,:,k]\n",
    "        b = @view v_C[:,:,k]\n",
    "        imfilter!(a, V, (centered(p.k_C_d[:,:,k]),), p.filling)\n",
    "        imfilter!(b, V, (centered(p.k_C_b[:,:,k]),), p.filling)\n",
    "    end\n",
    "    end\n",
    "    @. v_C = p.γ * (max(A - abs(v_C), 0) + max(- A - abs(v_C), 0))\n",
    "end"
   ]
  },
  {
   "cell_type": "code",
   "execution_count": 414,
   "metadata": {},
   "outputs": [
    {
     "data": {
      "text/plain": [
       "fun_v_Ck! (generic function with 1 method)"
      ]
     },
     "execution_count": 414,
     "metadata": {},
     "output_type": "execute_result"
    }
   ],
   "source": [
    "function fun_v_Ck!(v_C::AbstractArray, v_p::AbstractArray, v_m::AbstractArray, p::NamedTuple)\n",
    "    V = similar(v_p)\n",
    "    temp = similar(v_p)\n",
    "\n",
    "    @. temp = exp(-1.0f0/8.0f0) * (max(v_p,0)-max(v_m,0))\n",
    "    imfilter!(V, temp,  (centered(p.k_gauss_2),), p.filling)\n",
    "\n",
    "    A = similar(v_C)\n",
    "#     allocate B to v_C\n",
    "    @inbounds begin\n",
    "    for k in 1:p.K\n",
    "        a = @view A[:,:,k]\n",
    "        b = @view v_C[:,:,k]\n",
    "        imfilter!(a, V, (centered(p.k_C_d[:,:,k]),), p.filling)\n",
    "        imfilter!(b, V, (centered(p.k_C_b[:,:,k]),), p.filling)\n",
    "    end\n",
    "    end\n",
    "    @. v_C = p.γ * (max(A - abs(v_C), 0) + max(- A - abs(v_C), 0))\n",
    "    return nothing\n",
    "end"
   ]
  },
  {
   "cell_type": "code",
   "execution_count": 409,
   "metadata": {},
   "outputs": [
    {
     "data": {
      "text/plain": [
       "BenchmarkTools.Trial: \n",
       "  memory estimate:  666.67 KiB\n",
       "  allocs estimate:  88\n",
       "  --------------\n",
       "  minimum time:     1.613 ms (0.00% GC)\n",
       "  median time:      1.910 ms (0.00% GC)\n",
       "  mean time:        2.088 ms (3.76% GC)\n",
       "  maximum time:     41.405 ms (95.55% GC)\n",
       "  --------------\n",
       "  samples:          2385\n",
       "  evals/sample:     1"
      ]
     },
     "execution_count": 409,
     "metadata": {},
     "output_type": "execute_result"
    }
   ],
   "source": [
    "@benchmark fun_v_Cj!(v_C, p.r, .-p.r, p) "
   ]
  },
  {
   "cell_type": "code",
   "execution_count": 415,
   "metadata": {},
   "outputs": [
    {
     "data": {
      "text/plain": [
       "BenchmarkTools.Trial: \n",
       "  memory estimate:  666.67 KiB\n",
       "  allocs estimate:  88\n",
       "  --------------\n",
       "  minimum time:     1.624 ms (0.00% GC)\n",
       "  median time:      1.910 ms (0.00% GC)\n",
       "  mean time:        2.085 ms (3.64% GC)\n",
       "  maximum time:     39.765 ms (95.56% GC)\n",
       "  --------------\n",
       "  samples:          2388\n",
       "  evals/sample:     1"
      ]
     },
     "execution_count": 415,
     "metadata": {},
     "output_type": "execute_result"
    }
   ],
   "source": [
    "@benchmark fun_v_Ck!(v_C, p.r, .-p.r, p) "
   ]
  },
  {
   "cell_type": "code",
   "execution_count": 411,
   "metadata": {},
   "outputs": [
    {
     "data": {
      "text/plain": [
       "BenchmarkTools.Trial: \n",
       "  memory estimate:  849.80 KiB\n",
       "  allocs estimate:  104\n",
       "  --------------\n",
       "  minimum time:     1.404 ms (0.00% GC)\n",
       "  median time:      1.625 ms (0.00% GC)\n",
       "  mean time:        1.873 ms (5.84% GC)\n",
       "  maximum time:     40.026 ms (96.00% GC)\n",
       "  --------------\n",
       "  samples:          2653\n",
       "  evals/sample:     1"
      ]
     },
     "execution_count": 411,
     "metadata": {},
     "output_type": "execute_result"
    }
   ],
   "source": [
    "fun_v_Cj!(v_C, p.r, .-p.r, p) \n",
    "@test nnn ≈ v_C\n",
    "@benchmark fun_v_C_(p.r, .-p.r, p) "
   ]
  },
  {
   "cell_type": "code",
   "execution_count": null,
   "metadata": {},
   "outputs": [],
   "source": []
  },
  {
   "cell_type": "code",
   "execution_count": null,
   "metadata": {},
   "outputs": [],
   "source": []
  },
  {
   "cell_type": "code",
   "execution_count": 379,
   "metadata": {},
   "outputs": [],
   "source": [
    "v_C = reshape(zeros(100,200),100, 100, 2)\n",
    "v_Ca = copy(v_C)\n",
    "nnn = fun_v_C_(p.r, .-p.r, p);"
   ]
  },
  {
   "cell_type": "code",
   "execution_count": 292,
   "metadata": {},
   "outputs": [
    {
     "data": {
      "text/plain": [
       "0.8824969025845955"
      ]
     },
     "execution_count": 292,
     "metadata": {},
     "output_type": "execute_result"
    }
   ],
   "source": [
    "ee = exp(-1/8)"
   ]
  },
  {
   "cell_type": "code",
   "execution_count": 293,
   "metadata": {},
   "outputs": [
    {
     "data": {
      "text/plain": [
       "Float64"
      ]
     },
     "execution_count": 293,
     "metadata": {},
     "output_type": "execute_result"
    }
   ],
   "source": [
    "typeof(ee)"
   ]
  },
  {
   "cell_type": "code",
   "execution_count": 231,
   "metadata": {},
   "outputs": [
    {
     "data": {
      "text/plain": [
       "BenchmarkTools.Trial: \n",
       "  memory estimate:  1.49 MiB\n",
       "  allocs estimate:  104\n",
       "  --------------\n",
       "  minimum time:     1.597 ms (0.00% GC)\n",
       "  median time:      2.159 ms (0.00% GC)\n",
       "  mean time:        2.467 ms (7.21% GC)\n",
       "  maximum time:     36.396 ms (94.39% GC)\n",
       "  --------------\n",
       "  samples:          2017\n",
       "  evals/sample:     1"
      ]
     },
     "execution_count": 231,
     "metadata": {},
     "output_type": "execute_result"
    }
   ],
   "source": [
    "@benchmark v_CA = fun_v_C_(p.r, .-p.r, p) "
   ]
  },
  {
   "cell_type": "code",
   "execution_count": 378,
   "metadata": {},
   "outputs": [
    {
     "data": {
      "text/plain": [
       "fun_v_C_ (generic function with 1 method)"
      ]
     },
     "execution_count": 378,
     "metadata": {},
     "output_type": "execute_result"
    }
   ],
   "source": [
    "function fun_v_C_(v_p::AbstractArray, v_m::AbstractArray, p::NamedTuple)\n",
    "    V = exp(-1.0f0/8.0f0) .* (imfilter((max.(v_p,0).-max.(v_m,0)), (centered(p.k_gauss_2),), p.filling))\n",
    "\n",
    "    A = reshape(Array{eltype(V)}(undef, size(V)[1], size(V)[2]*p.K),size(V)[1],size(V)[2],p.K)\n",
    "    B = copy(A)\n",
    "\n",
    "    for k in 1:p.K\n",
    "        A[:,:,k] = imfilter(V, (centered(p.k_C_d[:,:,k]),), p.filling)\n",
    "        B[:,:,k] = abs.(imfilter(V, (centered(p.k_C_b[:,:,k]),), p.filling))\n",
    "    end\n",
    "\n",
    "    return p.γ .* (max.(A .- B, 0) .+ max.(.- A .- B, 0))\n",
    "end"
   ]
  },
  {
   "cell_type": "code",
   "execution_count": 257,
   "metadata": {},
   "outputs": [],
   "source": [
    "v_p = p.r\n",
    "v_m = .- p.r;"
   ]
  },
  {
   "cell_type": "code",
   "execution_count": 233,
   "metadata": {},
   "outputs": [
    {
     "data": {
      "text/plain": [
       "100×100 Array{Float64,2}:\n",
       " 0.0  0.0  0.0  0.0  0.0  0.0  0.0  0.0  …  0.0  0.0  0.0  0.0  0.0  0.0  0.0\n",
       " 0.0  0.0  0.0  0.0  0.0  0.0  0.0  0.0     0.0  0.0  0.0  0.0  0.0  0.0  0.0\n",
       " 0.0  0.0  0.0  0.0  0.0  0.0  0.0  0.0     0.0  0.0  0.0  0.0  0.0  0.0  0.0\n",
       " 0.0  0.0  0.0  0.0  0.0  0.0  0.0  0.0     0.0  0.0  0.0  0.0  0.0  0.0  0.0\n",
       " 0.0  0.0  0.0  0.0  0.0  0.0  0.0  0.0     0.0  0.0  0.0  0.0  0.0  0.0  0.0\n",
       " 0.0  0.0  0.0  0.0  0.0  0.0  0.0  0.0  …  0.0  0.0  0.0  0.0  0.0  0.0  0.0\n",
       " 0.0  0.0  0.0  0.0  0.0  0.0  0.0  0.0     0.0  0.0  0.0  0.0  0.0  0.0  0.0\n",
       " 0.0  0.0  0.0  0.0  0.0  0.0  0.0  0.0     0.0  0.0  0.0  0.0  0.0  0.0  0.0\n",
       " 0.0  0.0  0.0  0.0  0.0  0.0  0.0  0.0     0.0  0.0  0.0  0.0  0.0  0.0  0.0\n",
       " 0.0  0.0  0.0  0.0  0.0  0.0  0.0  0.0     0.0  0.0  0.0  0.0  0.0  0.0  0.0\n",
       " 0.0  0.0  0.0  0.0  0.0  0.0  0.0  0.0  …  0.0  0.0  0.0  0.0  0.0  0.0  0.0\n",
       " 0.0  0.0  0.0  0.0  0.0  0.0  0.0  0.0     0.0  0.0  0.0  0.0  0.0  0.0  0.0\n",
       " 0.0  0.0  0.0  0.0  0.0  0.0  0.0  0.0     0.0  0.0  0.0  0.0  0.0  0.0  0.0\n",
       " ⋮                        ⋮              ⋱            ⋮                   \n",
       " 0.0  0.0  0.0  0.0  0.0  0.0  0.0  0.0     0.0  0.0  0.0  0.0  0.0  0.0  0.0\n",
       " 0.0  0.0  0.0  0.0  0.0  0.0  0.0  0.0     0.0  0.0  0.0  0.0  0.0  0.0  0.0\n",
       " 0.0  0.0  0.0  0.0  0.0  0.0  0.0  0.0  …  0.0  0.0  0.0  0.0  0.0  0.0  0.0\n",
       " 0.0  0.0  0.0  0.0  0.0  0.0  0.0  0.0     0.0  0.0  0.0  0.0  0.0  0.0  0.0\n",
       " 0.0  0.0  0.0  0.0  0.0  0.0  0.0  0.0     0.0  0.0  0.0  0.0  0.0  0.0  0.0\n",
       " 0.0  0.0  0.0  0.0  0.0  0.0  0.0  0.0     0.0  0.0  0.0  0.0  0.0  0.0  0.0\n",
       " 0.0  0.0  0.0  0.0  0.0  0.0  0.0  0.0     0.0  0.0  0.0  0.0  0.0  0.0  0.0\n",
       " 0.0  0.0  0.0  0.0  0.0  0.0  0.0  0.0  …  0.0  0.0  0.0  0.0  0.0  0.0  0.0\n",
       " 0.0  0.0  0.0  0.0  0.0  0.0  0.0  0.0     0.0  0.0  0.0  0.0  0.0  0.0  0.0\n",
       " 0.0  0.0  0.0  0.0  0.0  0.0  0.0  0.0     0.0  0.0  0.0  0.0  0.0  0.0  0.0\n",
       " 0.0  0.0  0.0  0.0  0.0  0.0  0.0  0.0     0.0  0.0  0.0  0.0  0.0  0.0  0.0\n",
       " 0.0  0.0  0.0  0.0  0.0  0.0  0.0  0.0     0.0  0.0  0.0  0.0  0.0  0.0  0.0"
      ]
     },
     "execution_count": 233,
     "metadata": {},
     "output_type": "execute_result"
    }
   ],
   "source": [
    " V = similar(v_p)"
   ]
  },
  {
   "cell_type": "code",
   "execution_count": 297,
   "metadata": {},
   "outputs": [],
   "source": [
    "temp = similar(v_p)\n",
    "Va = similar(v_p)\n",
    "    @. temp = max(v_p,0)-max(v_m,0)\n",
    "imfilter!(Va, temp, (centered(p.k_gauss_2),), p.filling);\n",
    "# @. Va = Va * exp(-1/8) "
   ]
  },
  {
   "cell_type": "code",
   "execution_count": 298,
   "metadata": {},
   "outputs": [],
   "source": [
    "V = (imfilter((max.(v_p,0).-max.(v_m,0)), (centered(p.k_gauss_2),), p.filling));"
   ]
  },
  {
   "cell_type": "code",
   "execution_count": 299,
   "metadata": {},
   "outputs": [
    {
     "data": {
      "text/plain": [
       "\u001b[32m\u001b[1mTest Passed\u001b[22m\u001b[39m"
      ]
     },
     "execution_count": 299,
     "metadata": {},
     "output_type": "execute_result"
    }
   ],
   "source": [
    "@test V==Va"
   ]
  },
  {
   "cell_type": "code",
   "execution_count": 300,
   "metadata": {},
   "outputs": [],
   "source": [
    "V = V .* ee;\n",
    "@. Va = Va * ee;"
   ]
  },
  {
   "cell_type": "code",
   "execution_count": 301,
   "metadata": {},
   "outputs": [
    {
     "name": "stdout",
     "output_type": "stream",
     "text": [
      "\u001b[91m\u001b[1mTest Failed\u001b[22m\u001b[39m at \u001b[39m\u001b[1mIn[301]:1\u001b[22m\n",
      "  Expression: V == Va\n",
      "   Evaluated: [0.0 0.0 … 0.0 0.0; 0.0 0.0 … 0.0 0.0; … ; 0.0 0.0 … 0.0 0.0; 0.0 0.0 … 0.0 0.0] == Float32[0.0 0.0 … 0.0 0.0; 0.0 0.0 … 0.0 0.0; … ; 0.0 0.0 … 0.0 0.0; 0.0 0.0 … 0.0 0.0]\n"
     ]
    },
    {
     "ename": "Test.FallbackTestSetException",
     "evalue": "There was an error during testing",
     "output_type": "error",
     "traceback": [
      "There was an error during testing",
      "",
      "Stacktrace:",
      " [1] record(::Test.FallbackTestSet, ::Union{Test.Error, Test.Fail}) at /Users/julia/buildbot/worker/package_macos64/build/usr/share/julia/stdlib/v1.4/Test/src/Test.jl:737",
      " [2] do_test(::Test.ExecutionResult, ::Any) at /Users/julia/buildbot/worker/package_macos64/build/usr/share/julia/stdlib/v1.4/Test/src/Test.jl:520",
      " [3] top-level scope at In[301]:1"
     ]
    }
   ],
   "source": [
    "@test V==Va"
   ]
  },
  {
   "cell_type": "code",
   "execution_count": null,
   "metadata": {},
   "outputs": [],
   "source": []
  },
  {
   "cell_type": "code",
   "execution_count": 313,
   "metadata": {},
   "outputs": [
    {
     "data": {
      "text/plain": [
       "2-element Array{Float64,1}:\n",
       " 0.8824969025845955\n",
       " 1.764993805169191"
      ]
     },
     "execution_count": 313,
     "metadata": {},
     "output_type": "execute_result"
    }
   ],
   "source": [
    "aa = [1.0,2.0]\n",
    "# ab = [0.0,0.0]\n",
    "@. aa =  ee * aa;\n",
    "aa"
   ]
  },
  {
   "cell_type": "code",
   "execution_count": 303,
   "metadata": {},
   "outputs": [],
   "source": [
    "aa = [1,2] .* ee;"
   ]
  },
  {
   "cell_type": "code",
   "execution_count": 304,
   "metadata": {},
   "outputs": [
    {
     "data": {
      "text/plain": [
       "2-element Array{Float64,1}:\n",
       " 0.8824969025845955\n",
       " 1.764993805169191"
      ]
     },
     "execution_count": 304,
     "metadata": {},
     "output_type": "execute_result"
    }
   ],
   "source": [
    "aa"
   ]
  },
  {
   "cell_type": "code",
   "execution_count": 250,
   "metadata": {},
   "outputs": [
    {
     "data": {
      "image/png": "[encoded data removed]",
      "text/plain": [
       "Figure(PyObject <Figure size 640x480 with 1 Axes>)"
      ]
     },
     "metadata": {},
     "output_type": "display_data"
    }
   ],
   "source": [
    "Utils.plot_rb(V)"
   ]
  },
  {
   "cell_type": "code",
   "execution_count": 251,
   "metadata": {},
   "outputs": [
    {
     "data": {
      "image/png": "[encoded data removed]",
      "text/plain": [
       "Figure(PyObject <Figure size 640x480 with 1 Axes>)"
      ]
     },
     "metadata": {},
     "output_type": "display_data"
    }
   ],
   "source": [
    "Utils.plot_rb(V)"
   ]
  },
  {
   "cell_type": "code",
   "execution_count": 259,
   "metadata": {},
   "outputs": [
    {
     "data": {
      "text/plain": [
       "100×100 Array{Float32,2}:\n",
       " 0.0  0.0  0.0  0.0  0.0  0.0  0.0  0.0  …  0.0  0.0  0.0  0.0  0.0  0.0  0.0\n",
       " 0.0  0.0  0.0  0.0  0.0  0.0  0.0  0.0     0.0  0.0  0.0  0.0  0.0  0.0  0.0\n",
       " 0.0  0.0  0.0  0.0  0.0  0.0  0.0  0.0     0.0  0.0  0.0  0.0  0.0  0.0  0.0\n",
       " 0.0  0.0  0.0  0.0  0.0  0.0  0.0  0.0     0.0  0.0  0.0  0.0  0.0  0.0  0.0\n",
       " 0.0  0.0  0.0  0.0  0.0  0.0  0.0  0.0     0.0  0.0  0.0  0.0  0.0  0.0  0.0\n",
       " 0.0  0.0  0.0  0.0  0.0  0.0  0.0  0.0  …  0.0  0.0  0.0  0.0  0.0  0.0  0.0\n",
       " 0.0  0.0  0.0  0.0  0.0  0.0  0.0  0.0     0.0  0.0  0.0  0.0  0.0  0.0  0.0\n",
       " 0.0  0.0  0.0  0.0  0.0  0.0  0.0  0.0     0.0  0.0  0.0  0.0  0.0  0.0  0.0\n",
       " 0.0  0.0  0.0  0.0  0.0  0.0  0.0  0.0     0.0  0.0  0.0  0.0  0.0  0.0  0.0\n",
       " 0.0  0.0  0.0  0.0  0.0  0.0  0.0  0.0     0.0  0.0  0.0  0.0  0.0  0.0  0.0\n",
       " 0.0  0.0  0.0  0.0  0.0  0.0  0.0  0.0  …  0.0  0.0  0.0  0.0  0.0  0.0  0.0\n",
       " 0.0  0.0  0.0  0.0  0.0  0.0  0.0  0.0     0.0  0.0  0.0  0.0  0.0  0.0  0.0\n",
       " 0.0  0.0  0.0  0.0  0.0  0.0  0.0  0.0     0.0  0.0  0.0  0.0  0.0  0.0  0.0\n",
       " ⋮                        ⋮              ⋱            ⋮                   \n",
       " 0.0  0.0  0.0  0.0  0.0  0.0  0.0  0.0     0.0  0.0  0.0  0.0  0.0  0.0  0.0\n",
       " 0.0  0.0  0.0  0.0  0.0  0.0  0.0  0.0     0.0  0.0  0.0  0.0  0.0  0.0  0.0\n",
       " 0.0  0.0  0.0  0.0  0.0  0.0  0.0  0.0  …  0.0  0.0  0.0  0.0  0.0  0.0  0.0\n",
       " 0.0  0.0  0.0  0.0  0.0  0.0  0.0  0.0     0.0  0.0  0.0  0.0  0.0  0.0  0.0\n",
       " 0.0  0.0  0.0  0.0  0.0  0.0  0.0  0.0     0.0  0.0  0.0  0.0  0.0  0.0  0.0\n",
       " 0.0  0.0  0.0  0.0  0.0  0.0  0.0  0.0     0.0  0.0  0.0  0.0  0.0  0.0  0.0\n",
       " 0.0  0.0  0.0  0.0  0.0  0.0  0.0  0.0     0.0  0.0  0.0  0.0  0.0  0.0  0.0\n",
       " 0.0  0.0  0.0  0.0  0.0  0.0  0.0  0.0  …  0.0  0.0  0.0  0.0  0.0  0.0  0.0\n",
       " 0.0  0.0  0.0  0.0  0.0  0.0  0.0  0.0     0.0  0.0  0.0  0.0  0.0  0.0  0.0\n",
       " 0.0  0.0  0.0  0.0  0.0  0.0  0.0  0.0     0.0  0.0  0.0  0.0  0.0  0.0  0.0\n",
       " 0.0  0.0  0.0  0.0  0.0  0.0  0.0  0.0     0.0  0.0  0.0  0.0  0.0  0.0  0.0\n",
       " 0.0  0.0  0.0  0.0  0.0  0.0  0.0  0.0     0.0  0.0  0.0  0.0  0.0  0.0  0.0"
      ]
     },
     "execution_count": 259,
     "metadata": {},
     "output_type": "execute_result"
    }
   ],
   "source": [
    "V = V .*2;\n",
    "@. Va = Va * exp(-1/8) "
   ]
  },
  {
   "cell_type": "code",
   "execution_count": 253,
   "metadata": {},
   "outputs": [
    {
     "data": {
      "text/plain": [
       "10×10 Array{Float64,2}:\n",
       " 1.76499  1.76499  1.76499  1.76499  …  1.76499  1.76499  1.76499  1.76499\n",
       " 1.76499  1.76499  1.76499  1.76499     1.76499  1.76499  1.76499  1.76499\n",
       " 1.76499  1.76499  1.76499  1.76499     1.76499  1.76499  1.76499  1.76499\n",
       " 1.76499  1.76499  1.76499  1.76499     1.76499  1.76499  1.76499  1.76499\n",
       " 1.76499  1.76499  1.76499  1.76499     1.76499  1.76499  1.76499  1.76499\n",
       " 1.76499  1.76499  1.76499  1.76499  …  1.76499  1.76499  1.76499  1.76499\n",
       " 1.76499  1.76499  1.76499  1.76499     1.76499  1.76499  1.76499  1.76499\n",
       " 1.76499  1.76499  1.76499  1.76499     1.76499  1.76499  1.76499  1.76499\n",
       " 1.76499  1.76499  1.76499  1.76499     1.76499  1.76499  1.76499  1.76499\n",
       " 1.76499  1.76499  1.76499  1.76499     1.76499  1.76499  1.76499  1.76499"
      ]
     },
     "execution_count": 253,
     "metadata": {},
     "output_type": "execute_result"
    }
   ],
   "source": [
    "Vb = 2 .* ones(10,10)\n",
    "@. Vb = Vb * exp(-1/8) "
   ]
  },
  {
   "cell_type": "code",
   "execution_count": 254,
   "metadata": {},
   "outputs": [
    {
     "data": {
      "text/plain": [
       "10×10 Array{Float64,2}:\n",
       " 1.76499  1.76499  1.76499  1.76499  …  1.76499  1.76499  1.76499  1.76499\n",
       " 1.76499  1.76499  1.76499  1.76499     1.76499  1.76499  1.76499  1.76499\n",
       " 1.76499  1.76499  1.76499  1.76499     1.76499  1.76499  1.76499  1.76499\n",
       " 1.76499  1.76499  1.76499  1.76499     1.76499  1.76499  1.76499  1.76499\n",
       " 1.76499  1.76499  1.76499  1.76499     1.76499  1.76499  1.76499  1.76499\n",
       " 1.76499  1.76499  1.76499  1.76499  …  1.76499  1.76499  1.76499  1.76499\n",
       " 1.76499  1.76499  1.76499  1.76499     1.76499  1.76499  1.76499  1.76499\n",
       " 1.76499  1.76499  1.76499  1.76499     1.76499  1.76499  1.76499  1.76499\n",
       " 1.76499  1.76499  1.76499  1.76499     1.76499  1.76499  1.76499  1.76499\n",
       " 1.76499  1.76499  1.76499  1.76499     1.76499  1.76499  1.76499  1.76499"
      ]
     },
     "execution_count": 254,
     "metadata": {},
     "output_type": "execute_result"
    }
   ],
   "source": [
    "Vc = 2 .* ones(10,10)\n",
    "Vc = Vc .* exp(-1/8) "
   ]
  },
  {
   "cell_type": "code",
   "execution_count": 255,
   "metadata": {},
   "outputs": [
    {
     "data": {
      "text/plain": [
       "\u001b[32m\u001b[1mTest Passed\u001b[22m\u001b[39m"
      ]
     },
     "execution_count": 255,
     "metadata": {},
     "output_type": "execute_result"
    }
   ],
   "source": [
    "@test Va ==Vc"
   ]
  },
  {
   "cell_type": "code",
   "execution_count": 391,
   "metadata": {},
   "outputs": [
    {
     "data": {
      "text/plain": [
       "fun_dx_V1_ (generic function with 1 method)"
      ]
     },
     "execution_count": 391,
     "metadata": {},
     "output_type": "execute_result"
    }
   ],
   "source": [
    "function fun_dx_V1_(x::AbstractArray, C::AbstractArray, z::AbstractArray, x_v2::AbstractArray, p::NamedTuple)\n",
    "    return p.δ_c .* (-x .+\n",
    "            ((1 .- x) .*\n",
    "                ((p.α*C) .+ (p.ϕ .* max.(z .- p.Γ,0)) .+ (p.V_21 .* x_v2) .+ p.att)))\n",
    "end"
   ]
  },
  {
   "cell_type": "code",
   "execution_count": 392,
   "metadata": {},
   "outputs": [
    {
     "data": {
      "text/plain": [
       "fun_dx_V1! (generic function with 1 method)"
      ]
     },
     "execution_count": 392,
     "metadata": {},
     "output_type": "execute_result"
    }
   ],
   "source": [
    "function fun_dx_V1!(dx::AbstractArray, x::AbstractArray, C::AbstractArray, z::AbstractArray, x_v2::AbstractArray, p::NamedTuple)\n",
    "    @. dx = p.δ_c * (-x +\n",
    "            ((1.0f0 - x) *\n",
    "                ((p.α*C) + (p.ϕ * max(z - p.Γ,0)) .+ (p.V_21 * x_v2) + p.att)))\n",
    "end"
   ]
  },
  {
   "cell_type": "code",
   "execution_count": 402,
   "metadata": {},
   "outputs": [
    {
     "data": {
      "text/plain": [
       "fun_dx_V1a! (generic function with 1 method)"
      ]
     },
     "execution_count": 402,
     "metadata": {},
     "output_type": "execute_result"
    }
   ],
   "source": [
    "function fun_dx_V1a!(dx::AbstractArray, x::AbstractArray, C::AbstractArray, z::AbstractArray, x_v2::AbstractArray, p::NamedTuple)\n",
    "    @. dx = p.δ_c * (-x +\n",
    "            ((1.0f0 - x) *\n",
    "                ((p.α*C) + (p.ϕ * max(z - p.Γ,0)) .+ (p.V_21 * x_v2) + p.att)))\n",
    "    return nothing\n",
    "end"
   ]
  },
  {
   "cell_type": "code",
   "execution_count": 393,
   "metadata": {},
   "outputs": [
    {
     "data": {
      "text/plain": [
       "100×100×2 Array{Float64,3}:\n",
       "[:, :, 1] =\n",
       " 0.25  0.25  0.25  0.25  0.25  0.25  …  0.25  0.25  0.25  0.25  0.25  0.25\n",
       " 0.25  0.25  0.25  0.25  0.25  0.25     0.25  0.25  0.25  0.25  0.25  0.25\n",
       " 0.25  0.25  0.25  0.25  0.25  0.25     0.25  0.25  0.25  0.25  0.25  0.25\n",
       " 0.25  0.25  0.25  0.25  0.25  0.25     0.25  0.25  0.25  0.25  0.25  0.25\n",
       " 0.25  0.25  0.25  0.25  0.25  0.25     0.25  0.25  0.25  0.25  0.25  0.25\n",
       " 0.25  0.25  0.25  0.25  0.25  0.25  …  0.25  0.25  0.25  0.25  0.25  0.25\n",
       " 0.25  0.25  0.25  0.25  0.25  0.25     0.25  0.25  0.25  0.25  0.25  0.25\n",
       " 0.25  0.25  0.25  0.25  0.25  0.25     0.25  0.25  0.25  0.25  0.25  0.25\n",
       " 0.25  0.25  0.25  0.25  0.25  0.25     0.25  0.25  0.25  0.25  0.25  0.25\n",
       " 0.25  0.25  0.25  0.25  0.25  0.25     0.25  0.25  0.25  0.25  0.25  0.25\n",
       " 0.25  0.25  0.25  0.25  0.25  0.25  …  0.25  0.25  0.25  0.25  0.25  0.25\n",
       " 0.25  0.25  0.25  0.25  0.25  0.25     0.25  0.25  0.25  0.25  0.25  0.25\n",
       " 0.25  0.25  0.25  0.25  0.25  0.25     0.25  0.25  0.25  0.25  0.25  0.25\n",
       " ⋮                             ⋮     ⋱        ⋮                       \n",
       " 0.25  0.25  0.25  0.25  0.25  0.25     0.25  0.25  0.25  0.25  0.25  0.25\n",
       " 0.25  0.25  0.25  0.25  0.25  0.25     0.25  0.25  0.25  0.25  0.25  0.25\n",
       " 0.25  0.25  0.25  0.25  0.25  0.25  …  0.25  0.25  0.25  0.25  0.25  0.25\n",
       " 0.25  0.25  0.25  0.25  0.25  0.25     0.25  0.25  0.25  0.25  0.25  0.25\n",
       " 0.25  0.25  0.25  0.25  0.25  0.25     0.25  0.25  0.25  0.25  0.25  0.25\n",
       " 0.25  0.25  0.25  0.25  0.25  0.25     0.25  0.25  0.25  0.25  0.25  0.25\n",
       " 0.25  0.25  0.25  0.25  0.25  0.25     0.25  0.25  0.25  0.25  0.25  0.25\n",
       " 0.25  0.25  0.25  0.25  0.25  0.25  …  0.25  0.25  0.25  0.25  0.25  0.25\n",
       " 0.25  0.25  0.25  0.25  0.25  0.25     0.25  0.25  0.25  0.25  0.25  0.25\n",
       " 0.25  0.25  0.25  0.25  0.25  0.25     0.25  0.25  0.25  0.25  0.25  0.25\n",
       " 0.25  0.25  0.25  0.25  0.25  0.25     0.25  0.25  0.25  0.25  0.25  0.25\n",
       " 0.25  0.25  0.25  0.25  0.25  0.25     0.25  0.25  0.25  0.25  0.25  0.25\n",
       "\n",
       "[:, :, 2] =\n",
       " 0.25  0.25  0.25  0.25  0.25  0.25  …  0.25  0.25  0.25  0.25  0.25  0.25\n",
       " 0.25  0.25  0.25  0.25  0.25  0.25     0.25  0.25  0.25  0.25  0.25  0.25\n",
       " 0.25  0.25  0.25  0.25  0.25  0.25     0.25  0.25  0.25  0.25  0.25  0.25\n",
       " 0.25  0.25  0.25  0.25  0.25  0.25     0.25  0.25  0.25  0.25  0.25  0.25\n",
       " 0.25  0.25  0.25  0.25  0.25  0.25     0.25  0.25  0.25  0.25  0.25  0.25\n",
       " 0.25  0.25  0.25  0.25  0.25  0.25  …  0.25  0.25  0.25  0.25  0.25  0.25\n",
       " 0.25  0.25  0.25  0.25  0.25  0.25     0.25  0.25  0.25  0.25  0.25  0.25\n",
       " 0.25  0.25  0.25  0.25  0.25  0.25     0.25  0.25  0.25  0.25  0.25  0.25\n",
       " 0.25  0.25  0.25  0.25  0.25  0.25     0.25  0.25  0.25  0.25  0.25  0.25\n",
       " 0.25  0.25  0.25  0.25  0.25  0.25     0.25  0.25  0.25  0.25  0.25  0.25\n",
       " 0.25  0.25  0.25  0.25  0.25  0.25  …  0.25  0.25  0.25  0.25  0.25  0.25\n",
       " 0.25  0.25  0.25  0.25  0.25  0.25     0.25  0.25  0.25  0.25  0.25  0.25\n",
       " 0.25  0.25  0.25  0.25  0.25  0.25     0.25  0.25  0.25  0.25  0.25  0.25\n",
       " ⋮                             ⋮     ⋱        ⋮                       \n",
       " 0.25  0.25  0.25  0.25  0.25  0.25     0.25  0.25  0.25  0.25  0.25  0.25\n",
       " 0.25  0.25  0.25  0.25  0.25  0.25     0.25  0.25  0.25  0.25  0.25  0.25\n",
       " 0.25  0.25  0.25  0.25  0.25  0.25  …  0.25  0.25  0.25  0.25  0.25  0.25\n",
       " 0.25  0.25  0.25  0.25  0.25  0.25     0.25  0.25  0.25  0.25  0.25  0.25\n",
       " 0.25  0.25  0.25  0.25  0.25  0.25     0.25  0.25  0.25  0.25  0.25  0.25\n",
       " 0.25  0.25  0.25  0.25  0.25  0.25     0.25  0.25  0.25  0.25  0.25  0.25\n",
       " 0.25  0.25  0.25  0.25  0.25  0.25     0.25  0.25  0.25  0.25  0.25  0.25\n",
       " 0.25  0.25  0.25  0.25  0.25  0.25  …  0.25  0.25  0.25  0.25  0.25  0.25\n",
       " 0.25  0.25  0.25  0.25  0.25  0.25     0.25  0.25  0.25  0.25  0.25  0.25\n",
       " 0.25  0.25  0.25  0.25  0.25  0.25     0.25  0.25  0.25  0.25  0.25  0.25\n",
       " 0.25  0.25  0.25  0.25  0.25  0.25     0.25  0.25  0.25  0.25  0.25  0.25\n",
       " 0.25  0.25  0.25  0.25  0.25  0.25     0.25  0.25  0.25  0.25  0.25  0.25"
      ]
     },
     "execution_count": 393,
     "metadata": {},
     "output_type": "execute_result"
    }
   ],
   "source": [
    "dx = reshape(zeros(p.dim_i, p.dim_j*p.K), p.dim_i, p.dim_j, p.K)\n",
    "x = reshape(zeros(p.dim_i, p.dim_j*p.K), p.dim_i, p.dim_j, p.K)\n",
    "x[:,:,1] = p.r\n",
    "x[:,:,2] = .-p.r\n",
    "C = 2 .* reshape(ones(p.dim_i, p.dim_j*p.K), p.dim_i, p.dim_j, p.K)\n",
    "z = reshape(zeros(p.dim_i, p.dim_j*p.K), p.dim_i, p.dim_j, p.K)\n",
    "\n",
    "fun_dx_V1!(dx, x, C, z, p.x_V2, p) "
   ]
  },
  {
   "cell_type": "code",
   "execution_count": 394,
   "metadata": {},
   "outputs": [
    {
     "data": {
      "text/plain": [
       "\u001b[32m\u001b[1mTest Passed\u001b[22m\u001b[39m"
      ]
     },
     "execution_count": 394,
     "metadata": {},
     "output_type": "execute_result"
    }
   ],
   "source": [
    "@test fun_dx_V1!(dx, x, C, z, p.x_V2, p)  == fun_dx_V1_(x, C, z, p.x_V2, p) "
   ]
  },
  {
   "cell_type": "code",
   "execution_count": 404,
   "metadata": {},
   "outputs": [
    {
     "data": {
      "text/plain": [
       "BenchmarkTools.Trial: \n",
       "  memory estimate:  0 bytes\n",
       "  allocs estimate:  0\n",
       "  --------------\n",
       "  minimum time:     128.386 μs (0.00% GC)\n",
       "  median time:      142.670 μs (0.00% GC)\n",
       "  mean time:        153.301 μs (0.00% GC)\n",
       "  maximum time:     1.855 ms (0.00% GC)\n",
       "  --------------\n",
       "  samples:          10000\n",
       "  evals/sample:     1"
      ]
     },
     "execution_count": 404,
     "metadata": {},
     "output_type": "execute_result"
    }
   ],
   "source": [
    "@benchmark fun_dx_V1!(dx, x, C, z, p.x_V2, p)"
   ]
  },
  {
   "cell_type": "code",
   "execution_count": 405,
   "metadata": {},
   "outputs": [
    {
     "data": {
      "text/plain": [
       "BenchmarkTools.Trial: \n",
       "  memory estimate:  0 bytes\n",
       "  allocs estimate:  0\n",
       "  --------------\n",
       "  minimum time:     126.456 μs (0.00% GC)\n",
       "  median time:      140.425 μs (0.00% GC)\n",
       "  mean time:        147.448 μs (0.00% GC)\n",
       "  maximum time:     666.735 μs (0.00% GC)\n",
       "  --------------\n",
       "  samples:          10000\n",
       "  evals/sample:     1"
      ]
     },
     "execution_count": 405,
     "metadata": {},
     "output_type": "execute_result"
    }
   ],
   "source": [
    "@benchmark fun_dx_V1a!(dx, x, C, z, p.x_V2, p)"
   ]
  },
  {
   "cell_type": "code",
   "execution_count": 399,
   "metadata": {},
   "outputs": [
    {
     "data": {
      "text/plain": [
       "BenchmarkTools.Trial: \n",
       "  memory estimate:  468.98 KiB\n",
       "  allocs estimate:  6\n",
       "  --------------\n",
       "  minimum time:     165.676 μs (0.00% GC)\n",
       "  median time:      555.254 μs (0.00% GC)\n",
       "  mean time:        683.240 μs (10.23% GC)\n",
       "  maximum time:     48.555 ms (98.73% GC)\n",
       "  --------------\n",
       "  samples:          7194\n",
       "  evals/sample:     1"
      ]
     },
     "execution_count": 399,
     "metadata": {},
     "output_type": "execute_result"
    }
   ],
   "source": [
    "@benchmark dx = fun_dx_V1_(x, C, z, p.x_V2, p) "
   ]
  },
  {
   "cell_type": "code",
   "execution_count": null,
   "metadata": {},
   "outputs": [],
   "source": []
  },
  {
   "cell_type": "code",
   "execution_count": null,
   "metadata": {},
   "outputs": [],
   "source": []
  },
  {
   "cell_type": "code",
   "execution_count": 66,
   "metadata": {},
   "outputs": [
    {
     "data": {
      "text/plain": [
       "fun_dy_ (generic function with 1 method)"
      ]
     },
     "execution_count": 66,
     "metadata": {},
     "output_type": "execute_result"
    }
   ],
   "source": [
    "function fun_dy_(y::AbstractArray, C::AbstractArray, x::AbstractArray, m::AbstractArray, p::NamedTuple)\n",
    "    return  p.δ_c .* (   .-y .+\n",
    "            ((1 .- y) .* (C .+ (p.η_p .* x))) .-\n",
    "            ((1 .+ y) .* fun_f_(m .* func_filter_W_(m, p.k_W_p, p), p)))\n",
    "end"
   ]
  },
  {
   "cell_type": "code",
   "execution_count": 67,
   "metadata": {},
   "outputs": [
    {
     "data": {
      "text/plain": [
       "fun_dy! (generic function with 1 method)"
      ]
     },
     "execution_count": 67,
     "metadata": {},
     "output_type": "execute_result"
    }
   ],
   "source": [
    "function fun_dy!(dy::AbstractArray, y::AbstractArray, C::AbstractArray, x::AbstractArray, m::AbstractArray, p::NamedTuple)\n",
    "    func_filter_W!(dy, m, p.k_W_p, p)\n",
    "    @. dy = m * dy\n",
    "    fun_f!(dy, dy, p)\n",
    "    @. dy = p.δ_c * (   -y +\n",
    "            ((1 - y) * (C + (p.η_p * x))) -\n",
    "            ((1 + y) * dy))\n",
    "    return nothing\n",
    "end"
   ]
  },
  {
   "cell_type": "code",
   "execution_count": 68,
   "metadata": {},
   "outputs": [
    {
     "data": {
      "text/plain": [
       "\u001b[32m\u001b[1mTest Passed\u001b[22m\u001b[39m"
      ]
     },
     "execution_count": 68,
     "metadata": {},
     "output_type": "execute_result"
    }
   ],
   "source": [
    "dy = reshape(zeros(p.dim_i, p.dim_j*p.K), p.dim_i, p.dim_j, p.K) \n",
    "y = reshape(rand(p.dim_i, p.dim_j*p.K), p.dim_i, p.dim_j, p.K) \n",
    "C = reshape(rand(p.dim_i, p.dim_j*p.K), p.dim_i, p.dim_j, p.K) \n",
    "x = reshape(rand(p.dim_i, p.dim_j*p.K), p.dim_i, p.dim_j, p.K) \n",
    "m = reshape(rand(p.dim_i, p.dim_j*p.K), p.dim_i, p.dim_j, p.K) \n",
    "fun_dy!(dy, y, C, x, m, p) \n",
    "@test dy  == fun_dy_(y, C, x, m, p)  "
   ]
  },
  {
   "cell_type": "code",
   "execution_count": 71,
   "metadata": {},
   "outputs": [
    {
     "data": {
      "text/plain": [
       "BenchmarkTools.Trial: \n",
       "  memory estimate:  5.88 MiB\n",
       "  allocs estimate:  1012\n",
       "  --------------\n",
       "  minimum time:     5.641 ms (0.00% GC)\n",
       "  median time:      7.990 ms (0.00% GC)\n",
       "  mean time:        9.174 ms (9.95% GC)\n",
       "  maximum time:     27.272 ms (51.15% GC)\n",
       "  --------------\n",
       "  samples:          544\n",
       "  evals/sample:     1"
      ]
     },
     "execution_count": 71,
     "metadata": {},
     "output_type": "execute_result"
    }
   ],
   "source": [
    "@benchmark dy = fun_dy_(y, C, x, m, p) "
   ]
  },
  {
   "cell_type": "code",
   "execution_count": 72,
   "metadata": {},
   "outputs": [
    {
     "data": {
      "text/plain": [
       "BenchmarkTools.Trial: \n",
       "  memory estimate:  4.51 MiB\n",
       "  allocs estimate:  986\n",
       "  --------------\n",
       "  minimum time:     5.478 ms (0.00% GC)\n",
       "  median time:      7.159 ms (0.00% GC)\n",
       "  mean time:        8.224 ms (8.99% GC)\n",
       "  maximum time:     26.204 ms (76.01% GC)\n",
       "  --------------\n",
       "  samples:          607\n",
       "  evals/sample:     1"
      ]
     },
     "execution_count": 72,
     "metadata": {},
     "output_type": "execute_result"
    }
   ],
   "source": [
    "@benchmark fun_dy!(dy, y, C, x, m, p) "
   ]
  },
  {
   "cell_type": "code",
   "execution_count": null,
   "metadata": {},
   "outputs": [],
   "source": []
  },
  {
   "cell_type": "code",
   "execution_count": null,
   "metadata": {},
   "outputs": [],
   "source": []
  },
  {
   "cell_type": "code",
   "execution_count": null,
   "metadata": {},
   "outputs": [],
   "source": [
    "function fun_F_(value::Real, p::NamedTuple)\n",
    "    max.(value - p.Γ, 0)\n",
    "end"
   ]
  },
  {
   "cell_type": "code",
   "execution_count": null,
   "metadata": {},
   "outputs": [],
   "source": [
    "function fun_F!(F_out::AbstractArray, value::Real, p::NamedTuple)\n",
    "    max.(value - p.Γ, 0)\n",
    "    return nothing\n",
    "end"
   ]
  },
  {
   "cell_type": "code",
   "execution_count": null,
   "metadata": {},
   "outputs": [],
   "source": [
    "F = reshape(zeros(p.dim_i, p.dim_j*p.K), p.dim_i, p.dim_j, p.K) \n",
    "fun_F!(F, v, p) \n",
    "@test F  == fun_F_(v, p)  "
   ]
  },
  {
   "cell_type": "code",
   "execution_count": null,
   "metadata": {},
   "outputs": [],
   "source": [
    "@benchmark F = fun_F_(v, p) "
   ]
  },
  {
   "cell_type": "code",
   "execution_count": null,
   "metadata": {},
   "outputs": [],
   "source": [
    "@benchmark fun_F!(F, v, p) "
   ]
  },
  {
   "cell_type": "code",
   "execution_count": null,
   "metadata": {},
   "outputs": [],
   "source": []
  },
  {
   "cell_type": "code",
   "execution_count": null,
   "metadata": {},
   "outputs": [],
   "source": []
  },
  {
   "cell_type": "code",
   "execution_count": null,
   "metadata": {},
   "outputs": [],
   "source": [
    "function fun_F_willimson(value::Real, p::NamedTuple)\n",
    "    value < p.Γ ? zero(value) : value\n",
    "end"
   ]
  },
  {
   "cell_type": "code",
   "execution_count": null,
   "metadata": {},
   "outputs": [],
   "source": [
    "function fun_F_willimson!(F_out::AbstractArray, value::Real, p::NamedTuple)\n",
    "    value < p.Γ ? zero(value) : value\n",
    "    return nothing\n",
    "end"
   ]
  },
  {
   "cell_type": "code",
   "execution_count": null,
   "metadata": {},
   "outputs": [],
   "source": [
    "F = reshape(zeros(p.dim_i, p.dim_j*p.K), p.dim_i, p.dim_j, p.K) \n",
    "fun_F_willimson!(F, v, p) \n",
    "@test F = fun_F_willimson(v, p)"
   ]
  },
  {
   "cell_type": "code",
   "execution_count": null,
   "metadata": {},
   "outputs": [],
   "source": [
    "@benchmark F = fun_F_willimson(v, p) "
   ]
  },
  {
   "cell_type": "code",
   "execution_count": null,
   "metadata": {},
   "outputs": [],
   "source": [
    "@benchmark fun_F_willimson!(F, v, p) "
   ]
  },
  {
   "cell_type": "code",
   "execution_count": null,
   "metadata": {},
   "outputs": [],
   "source": []
  },
  {
   "cell_type": "code",
   "execution_count": null,
   "metadata": {},
   "outputs": [],
   "source": []
  },
  {
   "cell_type": "code",
   "execution_count": 44,
   "metadata": {},
   "outputs": [
    {
     "data": {
      "text/plain": [
       "fun_f_ (generic function with 1 method)"
      ]
     },
     "execution_count": 44,
     "metadata": {},
     "output_type": "execute_result"
    }
   ],
   "source": [
    "function fun_f_(x::AbstractArray, p::NamedTuple)\n",
    "    return (p.μ .* x .^p.n) ./ (p.ν^p.n .+ x.^p.n)\n",
    "end"
   ]
  },
  {
   "cell_type": "code",
   "execution_count": 40,
   "metadata": {},
   "outputs": [
    {
     "data": {
      "text/plain": [
       "fun_f! (generic function with 1 method)"
      ]
     },
     "execution_count": 40,
     "metadata": {},
     "output_type": "execute_result"
    }
   ],
   "source": [
    "function fun_f!(f_out::AbstractArray, x::AbstractArray, p::NamedTuple)\n",
    "    @. f_out = (p.μ * x^p.n) / (p.ν^p.n + x^p.n)\n",
    "    return nothing\n",
    "end"
   ]
  },
  {
   "cell_type": "code",
   "execution_count": 7,
   "metadata": {},
   "outputs": [
    {
     "data": {
      "text/plain": [
       "\u001b[32m\u001b[1mTest Passed\u001b[22m\u001b[39m"
      ]
     },
     "execution_count": 7,
     "metadata": {},
     "output_type": "execute_result"
    }
   ],
   "source": [
    "f = reshape(zeros(p.dim_i, p.dim_j*p.K), p.dim_i, p.dim_j, p.K) \n",
    "x = reshape(zeros(p.dim_i, p.dim_j*p.K), p.dim_i, p.dim_j, p.K) \n",
    "fun_f!(f, x, p) \n",
    "@test f  == fun_f_(x, p)  "
   ]
  },
  {
   "cell_type": "code",
   "execution_count": 9,
   "metadata": {},
   "outputs": [
    {
     "data": {
      "text/plain": [
       "BenchmarkTools.Trial: \n",
       "  memory estimate:  156.33 KiB\n",
       "  allocs estimate:  2\n",
       "  --------------\n",
       "  minimum time:     372.173 μs (0.00% GC)\n",
       "  median time:      526.582 μs (0.00% GC)\n",
       "  mean time:        580.154 μs (4.01% GC)\n",
       "  maximum time:     15.840 ms (96.41% GC)\n",
       "  --------------\n",
       "  samples:          8514\n",
       "  evals/sample:     1"
      ]
     },
     "execution_count": 9,
     "metadata": {},
     "output_type": "execute_result"
    }
   ],
   "source": [
    "@benchmark f = fun_f_(x, p) "
   ]
  },
  {
   "cell_type": "code",
   "execution_count": 10,
   "metadata": {},
   "outputs": [
    {
     "data": {
      "text/plain": [
       "BenchmarkTools.Trial: \n",
       "  memory estimate:  0 bytes\n",
       "  allocs estimate:  0\n",
       "  --------------\n",
       "  minimum time:     358.888 μs (0.00% GC)\n",
       "  median time:      406.471 μs (0.00% GC)\n",
       "  mean time:        461.850 μs (0.00% GC)\n",
       "  maximum time:     6.263 ms (0.00% GC)\n",
       "  --------------\n",
       "  samples:          10000\n",
       "  evals/sample:     1"
      ]
     },
     "execution_count": 10,
     "metadata": {},
     "output_type": "execute_result"
    }
   ],
   "source": [
    "@benchmark fun_f!(f, x, p) "
   ]
  },
  {
   "cell_type": "code",
   "execution_count": null,
   "metadata": {},
   "outputs": [],
   "source": []
  },
  {
   "cell_type": "code",
   "execution_count": null,
   "metadata": {},
   "outputs": [],
   "source": []
  },
  {
   "cell_type": "code",
   "execution_count": 49,
   "metadata": {},
   "outputs": [
    {
     "data": {
      "text/plain": [
       "func_filter_W_ (generic function with 1 method)"
      ]
     },
     "execution_count": 49,
     "metadata": {},
     "output_type": "execute_result"
    }
   ],
   "source": [
    "function func_filter_W_(img::AbstractArray, W::AbstractArray, p::NamedTuple)\n",
    "    out = copy(img)\n",
    "    for k ∈ 1:p.K\n",
    "#     todo fix W\n",
    "        out[:,:,k] = imfilter(img[:,:,k], (centered(W[:,:,k,k]),), p.filling)\n",
    "        for l ∈ 1:p.K\n",
    "            if l ≠ k\n",
    "                out[:,:,k] += imfilter(img[:,:,l], (centered(W[:,:,k,l]),), p.filling)\n",
    "            end\n",
    "        end\n",
    "    end\n",
    "    return out\n",
    "end"
   ]
  },
  {
   "cell_type": "code",
   "execution_count": 30,
   "metadata": {},
   "outputs": [
    {
     "data": {
      "text/plain": [
       "func_filter_W! (generic function with 1 method)"
      ]
     },
     "execution_count": 30,
     "metadata": {},
     "output_type": "execute_result"
    }
   ],
   "source": [
    "function func_filter_W!(W_out::AbstractArray, img::AbstractArray, W::AbstractArray, p::NamedTuple)\n",
    "    temp_k = similar(W_out[:,:,1]) \n",
    "    @inbounds begin\n",
    "        for k ∈ 1:p.K\n",
    "#     todo fix W\n",
    "            img_k = @view img[:,:,k]\n",
    "            out_k = @view W_out[:,:,k]\n",
    "            imfilter!(out_k, img_k, (centered(W[:,:,k,k]),), p.filling)\n",
    "            for l ∈ 1:p.K\n",
    "                if l ≠ k\n",
    "                    img_l = @view img[:,:,l]\n",
    "                    imfilter!(temp_k, img_l, (centered(W[:,:,k,l]),), p.filling)\n",
    "                    @. out_k += temp_k\n",
    "                end\n",
    "            end\n",
    "        end\n",
    "    end\n",
    "    return nothing \n",
    "end"
   ]
  },
  {
   "cell_type": "code",
   "execution_count": 31,
   "metadata": {},
   "outputs": [
    {
     "data": {
      "text/plain": [
       "\u001b[32m\u001b[1mTest Passed\u001b[22m\u001b[39m"
      ]
     },
     "execution_count": 31,
     "metadata": {},
     "output_type": "execute_result"
    }
   ],
   "source": [
    "m = reshape(ones(p.dim_i, p.dim_j*p.K), p.dim_i, p.dim_j, p.K) \n",
    "W_out = reshape(zeros(p.dim_i, p.dim_j*p.K), p.dim_i, p.dim_j, p.K) \n",
    "func_filter_W!(W_out, m, p.k_W_p, p) \n",
    "\n",
    "@test W_out  == func_filter_W_(m, p.k_W_p, p) "
   ]
  },
  {
   "cell_type": "code",
   "execution_count": null,
   "metadata": {},
   "outputs": [],
   "source": []
  },
  {
   "cell_type": "code",
   "execution_count": 32,
   "metadata": {},
   "outputs": [
    {
     "data": {
      "text/plain": [
       "BenchmarkTools.Trial: \n",
       "  memory estimate:  5.42 MiB\n",
       "  allocs estimate:  962\n",
       "  --------------\n",
       "  minimum time:     3.410 ms (0.00% GC)\n",
       "  median time:      5.043 ms (0.00% GC)\n",
       "  mean time:        6.123 ms (13.64% GC)\n",
       "  maximum time:     25.769 ms (75.39% GC)\n",
       "  --------------\n",
       "  samples:          815\n",
       "  evals/sample:     1"
      ]
     },
     "execution_count": 32,
     "metadata": {},
     "output_type": "execute_result"
    }
   ],
   "source": [
    "@benchmark W_out = func_filter_W_(m, p.k_W_p, p) "
   ]
  },
  {
   "cell_type": "code",
   "execution_count": 33,
   "metadata": {},
   "outputs": [
    {
     "data": {
      "text/plain": [
       "BenchmarkTools.Trial: \n",
       "  memory estimate:  4.51 MiB\n",
       "  allocs estimate:  942\n",
       "  --------------\n",
       "  minimum time:     3.257 ms (0.00% GC)\n",
       "  median time:      4.728 ms (0.00% GC)\n",
       "  mean time:        5.660 ms (12.39% GC)\n",
       "  maximum time:     24.947 ms (79.06% GC)\n",
       "  --------------\n",
       "  samples:          882\n",
       "  evals/sample:     1"
      ]
     },
     "execution_count": 33,
     "metadata": {},
     "output_type": "execute_result"
    }
   ],
   "source": [
    "@benchmark func_filter_W!(W_out, m, p.k_W_p, p)"
   ]
  },
  {
   "cell_type": "code",
   "execution_count": null,
   "metadata": {},
   "outputs": [],
   "source": []
  },
  {
   "cell_type": "code",
   "execution_count": null,
   "metadata": {},
   "outputs": [],
   "source": []
  },
  {
   "cell_type": "code",
   "execution_count": null,
   "metadata": {},
   "outputs": [],
   "source": []
  },
  {
   "cell_type": "code",
   "execution_count": null,
   "metadata": {},
   "outputs": [],
   "source": []
  },
  {
   "cell_type": "code",
   "execution_count": null,
   "metadata": {},
   "outputs": [],
   "source": []
  },
  {
   "cell_type": "code",
   "execution_count": null,
   "metadata": {},
   "outputs": [],
   "source": []
  },
  {
   "cell_type": "code",
   "execution_count": null,
   "metadata": {},
   "outputs": [],
   "source": []
  },
  {
   "cell_type": "code",
   "execution_count": 50,
   "metadata": {},
   "outputs": [
    {
     "data": {
      "text/plain": [
       "fun_dm (generic function with 1 method)"
      ]
     },
     "execution_count": 50,
     "metadata": {},
     "output_type": "execute_result"
    }
   ],
   "source": [
    "function fun_dm(m::AbstractArray, x::AbstractArray, p::NamedTuple)\n",
    "    return p.δ_m .* (  -m .+\n",
    "                     (p.η_m .* x) .-\n",
    "                     (m .* fun_f_(func_filter_W_(m, p.k_W_m, p), p)))\n",
    "end"
   ]
  },
  {
   "cell_type": "code",
   "execution_count": 51,
   "metadata": {},
   "outputs": [
    {
     "data": {
      "text/plain": [
       "fun_dm! (generic function with 1 method)"
      ]
     },
     "execution_count": 51,
     "metadata": {},
     "output_type": "execute_result"
    }
   ],
   "source": [
    "function fun_dm!(dm::AbstractArray, m::AbstractArray, x::AbstractArray, p::NamedTuple)\n",
    "    func_filter_W!(dm, m, p.k_W_m, p)\n",
    "    fun_f!(dm, dm, p)\n",
    "    @. dm = p.δ_m * (  -m +\n",
    "                     (p.η_m * x) -\n",
    "                     (m * dm))\n",
    "    return nothing\n",
    "end"
   ]
  },
  {
   "cell_type": "code",
   "execution_count": 52,
   "metadata": {},
   "outputs": [
    {
     "data": {
      "text/plain": [
       "\u001b[32m\u001b[1mTest Passed\u001b[22m\u001b[39m"
      ]
     },
     "execution_count": 52,
     "metadata": {},
     "output_type": "execute_result"
    }
   ],
   "source": [
    "dm = reshape(zeros(p.dim_i, p.dim_j*p.K), p.dim_i, p.dim_j, p.K) \n",
    "m = reshape(rand(p.dim_i, p.dim_j*p.K), p.dim_i, p.dim_j, p.K) \n",
    "x = reshape(rand(p.dim_i, p.dim_j*p.K), p.dim_i, p.dim_j, p.K) \n",
    "fun_dm!(dm, m, x, p) \n",
    "@test dm  == fun_dm(m, x, p)  "
   ]
  },
  {
   "cell_type": "code",
   "execution_count": 56,
   "metadata": {},
   "outputs": [
    {
     "data": {
      "text/plain": [
       "BenchmarkTools.Trial: \n",
       "  memory estimate:  5.88 MiB\n",
       "  allocs estimate:  968\n",
       "  --------------\n",
       "  minimum time:     5.606 ms (0.00% GC)\n",
       "  median time:      7.276 ms (0.00% GC)\n",
       "  mean time:        8.485 ms (10.64% GC)\n",
       "  maximum time:     29.464 ms (64.23% GC)\n",
       "  --------------\n",
       "  samples:          589\n",
       "  evals/sample:     1"
      ]
     },
     "execution_count": 56,
     "metadata": {},
     "output_type": "execute_result"
    }
   ],
   "source": [
    "@benchmark dm = fun_dm(m, x, p)"
   ]
  },
  {
   "cell_type": "code",
   "execution_count": 57,
   "metadata": {},
   "outputs": [
    {
     "data": {
      "text/plain": [
       "BenchmarkTools.Trial: \n",
       "  memory estimate:  4.51 MiB\n",
       "  allocs estimate:  942\n",
       "  --------------\n",
       "  minimum time:     5.203 ms (0.00% GC)\n",
       "  median time:      6.569 ms (0.00% GC)\n",
       "  mean time:        7.557 ms (9.00% GC)\n",
       "  maximum time:     27.119 ms (75.25% GC)\n",
       "  --------------\n",
       "  samples:          659\n",
       "  evals/sample:     1"
      ]
     },
     "execution_count": 57,
     "metadata": {},
     "output_type": "execute_result"
    }
   ],
   "source": [
    "@benchmark fun_dm!(dm, m, x, p)"
   ]
  },
  {
   "cell_type": "code",
   "execution_count": null,
   "metadata": {},
   "outputs": [],
   "source": []
  },
  {
   "cell_type": "code",
   "execution_count": 96,
   "metadata": {},
   "outputs": [
    {
     "data": {
      "text/plain": [
       "fun_dz_ (generic function with 1 method)"
      ]
     },
     "execution_count": 96,
     "metadata": {},
     "output_type": "execute_result"
    }
   ],
   "source": [
    "function fun_dz_(z::AbstractArray,  H_z::AbstractArray, s::AbstractArray, p::NamedTuple)\n",
    "    return p.δ_z .*   (-z .+\n",
    "                    ((1 .- z) .*\n",
    "                        ((p.λ .* max.(y,0)) .+ H_z .+ (p.a_23_ex .* p.att))) .-\n",
    "                    ((z .+ p.ψ) .* (imfilter(s, (centered(p.k_T_p),), p.filling))))\n",
    "end"
   ]
  },
  {
   "cell_type": "code",
   "execution_count": 97,
   "metadata": {},
   "outputs": [
    {
     "data": {
      "text/plain": [
       "fun_dz! (generic function with 2 methods)"
      ]
     },
     "execution_count": 97,
     "metadata": {},
     "output_type": "execute_result"
    }
   ],
   "source": [
    "function fun_dz!(dz::AbstractArray, z::AbstractArray,  H_z::AbstractArray, s::AbstractArray, p::NamedTuple)\n",
    "    imfilter!(dz, s, (centered(p.k_T_p),), p.filling)\n",
    "    @. dz = p.δ_z *   (-z +\n",
    "                    ((1 - z) *\n",
    "                        ((p.λ * max(y,0)) + H_z + (p.a_23_ex * p.att))) -\n",
    "                    ((z + p.ψ) * dz))\n",
    "    return nothing\n",
    "end"
   ]
  },
  {
   "cell_type": "code",
   "execution_count": 98,
   "metadata": {},
   "outputs": [
    {
     "data": {
      "text/plain": [
       "\u001b[32m\u001b[1mTest Passed\u001b[22m\u001b[39m"
      ]
     },
     "execution_count": 98,
     "metadata": {},
     "output_type": "execute_result"
    }
   ],
   "source": [
    "dz = reshape(zeros(p.dim_i, p.dim_j*p.K), p.dim_i, p.dim_j, p.K) \n",
    "z = reshape(rand(p.dim_i, p.dim_j*p.K), p.dim_i, p.dim_j, p.K) \n",
    "y = reshape(rand(p.dim_i, p.dim_j*p.K), p.dim_i, p.dim_j, p.K) \n",
    "H_z = reshape(rand(p.dim_i, p.dim_j*p.K), p.dim_i, p.dim_j, p.K) \n",
    "s = reshape(rand(p.dim_i, p.dim_j*p.K), p.dim_i, p.dim_j, p.K) \n",
    "fun_dz!(dz, z, H_z, s, p) \n",
    "@test dz  == fun_dz_(z, H_z, s, p)   "
   ]
  },
  {
   "cell_type": "code",
   "execution_count": 99,
   "metadata": {},
   "outputs": [
    {
     "data": {
      "text/plain": [
       "BenchmarkTools.Trial: \n",
       "  memory estimate:  707.00 KiB\n",
       "  allocs estimate:  75\n",
       "  --------------\n",
       "  minimum time:     454.763 μs (0.00% GC)\n",
       "  median time:      933.414 μs (0.00% GC)\n",
       "  mean time:        1.077 ms (9.61% GC)\n",
       "  maximum time:     20.579 ms (96.45% GC)\n",
       "  --------------\n",
       "  samples:          4614\n",
       "  evals/sample:     1"
      ]
     },
     "execution_count": 99,
     "metadata": {},
     "output_type": "execute_result"
    }
   ],
   "source": [
    "@benchmark dz = fun_dz_(z, H_z, s, p)"
   ]
  },
  {
   "cell_type": "code",
   "execution_count": 100,
   "metadata": {},
   "outputs": [
    {
     "data": {
      "text/plain": [
       "BenchmarkTools.Trial: \n",
       "  memory estimate:  237.98 KiB\n",
       "  allocs estimate:  69\n",
       "  --------------\n",
       "  minimum time:     434.597 μs (0.00% GC)\n",
       "  median time:      601.746 μs (0.00% GC)\n",
       "  mean time:        672.153 μs (4.82% GC)\n",
       "  maximum time:     18.346 ms (95.78% GC)\n",
       "  --------------\n",
       "  samples:          7386\n",
       "  evals/sample:     1"
      ]
     },
     "execution_count": 100,
     "metadata": {},
     "output_type": "execute_result"
    }
   ],
   "source": [
    "@benchmark fun_dz!(dz, z, H_z, s, p)"
   ]
  },
  {
   "cell_type": "code",
   "execution_count": null,
   "metadata": {},
   "outputs": [],
   "source": []
  },
  {
   "cell_type": "code",
   "execution_count": 102,
   "metadata": {},
   "outputs": [
    {
     "data": {
      "text/plain": [
       "fun_ds_ (generic function with 1 method)"
      ]
     },
     "execution_count": 102,
     "metadata": {},
     "output_type": "execute_result"
    }
   ],
   "source": [
    "function fun_ds_(s::AbstractArray, H_z::AbstractArray, p::NamedTuple)\n",
    "    return p.δ_s .*   ( -s .+\n",
    "                    H_z .+ (p.a_23_in .* p.att) .-\n",
    "                    (s .* imfilter(s, (centered(p.k_T_m),), p.filling)))\n",
    "end"
   ]
  },
  {
   "cell_type": "code",
   "execution_count": 103,
   "metadata": {},
   "outputs": [
    {
     "data": {
      "text/plain": [
       "fun_ds! (generic function with 1 method)"
      ]
     },
     "execution_count": 103,
     "metadata": {},
     "output_type": "execute_result"
    }
   ],
   "source": [
    "function fun_ds!(ds::AbstractArray, s::AbstractArray, H_z::AbstractArray, p::NamedTuple)\n",
    "    imfilter!(ds, s, (centered(p.k_T_m),), p.filling)\n",
    "    @. ds = p.δ_s *   ( -s +\n",
    "                    H_z + (p.a_23_in * p.att) -\n",
    "                    (s * ds))\n",
    "    return nothing\n",
    "end"
   ]
  },
  {
   "cell_type": "code",
   "execution_count": 105,
   "metadata": {},
   "outputs": [
    {
     "data": {
      "text/plain": [
       "\u001b[32m\u001b[1mTest Passed\u001b[22m\u001b[39m"
      ]
     },
     "execution_count": 105,
     "metadata": {},
     "output_type": "execute_result"
    }
   ],
   "source": [
    "ds = reshape(zeros(p.dim_i, p.dim_j*p.K), p.dim_i, p.dim_j, p.K) \n",
    "H_z = reshape(rand(p.dim_i, p.dim_j*p.K), p.dim_i, p.dim_j, p.K) \n",
    "s = reshape(rand(p.dim_i, p.dim_j*p.K), p.dim_i, p.dim_j, p.K) \n",
    "fun_ds!(ds, s, H_z, p) \n",
    "@test ds  == fun_ds_(s, H_z, p) "
   ]
  },
  {
   "cell_type": "code",
   "execution_count": 107,
   "metadata": {},
   "outputs": [
    {
     "data": {
      "text/plain": [
       "BenchmarkTools.Trial: \n",
       "  memory estimate:  705.66 KiB\n",
       "  allocs estimate:  22\n",
       "  --------------\n",
       "  minimum time:     345.792 μs (0.00% GC)\n",
       "  median time:      872.625 μs (0.00% GC)\n",
       "  mean time:        1.076 ms (11.26% GC)\n",
       "  maximum time:     27.449 ms (95.75% GC)\n",
       "  --------------\n",
       "  samples:          4596\n",
       "  evals/sample:     1"
      ]
     },
     "execution_count": 107,
     "metadata": {},
     "output_type": "execute_result"
    }
   ],
   "source": [
    "@benchmark ds = fun_ds_(s, H_z, p) "
   ]
  },
  {
   "cell_type": "code",
   "execution_count": 108,
   "metadata": {},
   "outputs": [
    {
     "data": {
      "text/plain": [
       "BenchmarkTools.Trial: \n",
       "  memory estimate:  236.67 KiB\n",
       "  allocs estimate:  16\n",
       "  --------------\n",
       "  minimum time:     325.716 μs (0.00% GC)\n",
       "  median time:      516.816 μs (0.00% GC)\n",
       "  mean time:        590.965 μs (6.49% GC)\n",
       "  maximum time:     21.330 ms (97.06% GC)\n",
       "  --------------\n",
       "  samples:          8363\n",
       "  evals/sample:     1"
      ]
     },
     "execution_count": 108,
     "metadata": {},
     "output_type": "execute_result"
    }
   ],
   "source": [
    "@benchmark fun_ds!(ds, s, H_z, p)"
   ]
  },
  {
   "cell_type": "code",
   "execution_count": null,
   "metadata": {},
   "outputs": [],
   "source": []
  },
  {
   "cell_type": "code",
   "execution_count": 15,
   "metadata": {},
   "outputs": [
    {
     "data": {
      "text/plain": [
       "fun_H_z_ (generic function with 1 method)"
      ]
     },
     "execution_count": 15,
     "metadata": {},
     "output_type": "execute_result"
    }
   ],
   "source": [
    "function fun_H_z_(z::AbstractArray, p::NamedTuple)\n",
    "    H_z_out = copy(z)\n",
    "    for k ∈ 1:p.K\n",
    "        H_z_out[:,:,k] = imfilter((max.(z[:,:,k] .- p.Γ,0)), (centered(p.k_H[:,:,k]),), p.filling)\n",
    "        end\n",
    "    return H_z_out\n",
    "end"
   ]
  },
  {
   "cell_type": "code",
   "execution_count": 16,
   "metadata": {},
   "outputs": [
    {
     "data": {
      "text/plain": [
       "fun_H_z! (generic function with 1 method)"
      ]
     },
     "execution_count": 16,
     "metadata": {},
     "output_type": "execute_result"
    }
   ],
   "source": [
    "function fun_H_z!(H_z::AbstractArray, z::AbstractArray, p::NamedTuple)\n",
    "    for k ∈ 1:p.K\n",
    "        H_z_k = @view H_z[:,:,k]\n",
    "        z_k = @view z[:,:,k]\n",
    "        imfilter!(H_z_k, (max.(z_k .- p.Γ,0)), (centered(p.k_H[:,:,k]),), p.filling)\n",
    "        end\n",
    "    return nothing\n",
    "end\n"
   ]
  },
  {
   "cell_type": "code",
   "execution_count": 17,
   "metadata": {},
   "outputs": [
    {
     "data": {
      "text/plain": [
       "fun_H_za! (generic function with 1 method)"
      ]
     },
     "execution_count": 17,
     "metadata": {},
     "output_type": "execute_result"
    }
   ],
   "source": [
    "function fun_H_za!(H_z::AbstractArray, z::AbstractArray, p::NamedTuple)\n",
    "    temp = similar(z)\n",
    "    @. temp = max(z - p.Γ, 0)\n",
    "    @inbounds begin\n",
    "        for k ∈ 1:p.K\n",
    "            H_z_k = @view H_z[:,:,k]\n",
    "            temp_k = @view temp[:,:,k]\n",
    "            imfilter!(H_z_k, temp_k, (centered(p.k_H[:,:,k]),), p.filling)\n",
    "        end\n",
    "    end\n",
    "    return nothing\n",
    "end"
   ]
  },
  {
   "cell_type": "code",
   "execution_count": 21,
   "metadata": {},
   "outputs": [
    {
     "data": {
      "text/plain": [
       "\u001b[32m\u001b[1mTest Passed\u001b[22m\u001b[39m"
      ]
     },
     "execution_count": 21,
     "metadata": {},
     "output_type": "execute_result"
    }
   ],
   "source": [
    "H_z = reshape(rand(p.dim_i, p.dim_j*p.K), p.dim_i, p.dim_j, p.K) \n",
    "z = reshape(rand(p.dim_i, p.dim_j*p.K), p.dim_i, p.dim_j, p.K) \n",
    "z[:,:,1] = p.r\n",
    "z[:,:,2] = .-p.r\n",
    "fun_H_za!(H_z, z, p) \n",
    "@test H_z  == fun_H_z_(z, p)  "
   ]
  },
  {
   "cell_type": "code",
   "execution_count": 22,
   "metadata": {},
   "outputs": [
    {
     "data": {
      "text/plain": [
       "BenchmarkTools.Trial: \n",
       "  memory estimate:  2.79 MiB\n",
       "  allocs estimate:  482\n",
       "  --------------\n",
       "  minimum time:     1.176 ms (0.00% GC)\n",
       "  median time:      2.506 ms (0.00% GC)\n",
       "  mean time:        3.073 ms (13.26% GC)\n",
       "  maximum time:     25.457 ms (88.78% GC)\n",
       "  --------------\n",
       "  samples:          1622\n",
       "  evals/sample:     1"
      ]
     },
     "execution_count": 22,
     "metadata": {},
     "output_type": "execute_result"
    }
   ],
   "source": [
    "@benchmark H_z = fun_H_z_(z, p)"
   ]
  },
  {
   "cell_type": "code",
   "execution_count": 23,
   "metadata": {},
   "outputs": [
    {
     "data": {
      "text/plain": [
       "BenchmarkTools.Trial: \n",
       "  memory estimate:  2.33 MiB\n",
       "  allocs estimate:  476\n",
       "  --------------\n",
       "  minimum time:     1.186 ms (0.00% GC)\n",
       "  median time:      2.410 ms (0.00% GC)\n",
       "  mean time:        2.876 ms (12.33% GC)\n",
       "  maximum time:     27.404 ms (86.42% GC)\n",
       "  --------------\n",
       "  samples:          1733\n",
       "  evals/sample:     1"
      ]
     },
     "execution_count": 23,
     "metadata": {},
     "output_type": "execute_result"
    }
   ],
   "source": [
    "@benchmark fun_H_z!(H_z, z, p)  "
   ]
  },
  {
   "cell_type": "code",
   "execution_count": 24,
   "metadata": {},
   "outputs": [
    {
     "data": {
      "text/plain": [
       "BenchmarkTools.Trial: \n",
       "  memory estimate:  2.33 MiB\n",
       "  allocs estimate:  472\n",
       "  --------------\n",
       "  minimum time:     1.164 ms (0.00% GC)\n",
       "  median time:      2.450 ms (0.00% GC)\n",
       "  mean time:        2.937 ms (12.11% GC)\n",
       "  maximum time:     24.644 ms (84.95% GC)\n",
       "  --------------\n",
       "  samples:          1698\n",
       "  evals/sample:     1"
      ]
     },
     "execution_count": 24,
     "metadata": {},
     "output_type": "execute_result"
    }
   ],
   "source": [
    "@benchmark fun_H_za!(H_z, z, p)  "
   ]
  },
  {
   "cell_type": "code",
   "execution_count": 26,
   "metadata": {},
   "outputs": [
    {
     "data": {
      "image/png": "[encoded data removed]",
      "text/plain": [
       "Figure(PyObject <Figure size 640x480 with 1 Axes>)"
      ]
     },
     "metadata": {},
     "output_type": "display_data"
    }
   ],
   "source": [
    "Utils.plot_rb(H_z[:,:,2])"
   ]
  },
  {
   "cell_type": "code",
   "execution_count": 27,
   "metadata": {},
   "outputs": [
    {
     "data": {
      "text/plain": [
       "100×100×2 Array{Float64,3}:\n",
       "[:, :, 1] =\n",
       " 0.0  0.0  0.0  0.0  0.0  0.0  0.0  0.0  …  0.0  0.0  0.0  0.0  0.0  0.0  0.0\n",
       " 0.0  0.0  0.0  0.0  0.0  0.0  0.0  0.0     0.0  0.0  0.0  0.0  0.0  0.0  0.0\n",
       " 0.0  0.0  0.0  0.0  0.0  0.0  0.0  0.0     0.0  0.0  0.0  0.0  0.0  0.0  0.0\n",
       " 0.0  0.0  0.0  0.0  0.0  0.0  0.0  0.0     0.0  0.0  0.0  0.0  0.0  0.0  0.0\n",
       " 0.0  0.0  0.0  0.0  0.0  0.0  0.0  0.0     0.0  0.0  0.0  0.0  0.0  0.0  0.0\n",
       " 0.0  0.0  0.0  0.0  0.0  0.0  0.0  0.0  …  0.0  0.0  0.0  0.0  0.0  0.0  0.0\n",
       " 0.0  0.0  0.0  0.0  0.0  0.0  0.0  0.0     0.0  0.0  0.0  0.0  0.0  0.0  0.0\n",
       " 0.0  0.0  0.0  0.0  0.0  0.0  0.0  0.0     0.0  0.0  0.0  0.0  0.0  0.0  0.0\n",
       " 0.0  0.0  0.0  0.0  0.0  0.0  0.0  0.0     0.0  0.0  0.0  0.0  0.0  0.0  0.0\n",
       " 0.0  0.0  0.0  0.0  0.0  0.0  0.0  0.0     0.0  0.0  0.0  0.0  0.0  0.0  0.0\n",
       " 0.0  0.0  0.0  0.0  0.0  0.0  0.0  0.0  …  0.0  0.0  0.0  0.0  0.0  0.0  0.0\n",
       " 0.0  0.0  0.0  0.0  0.0  0.0  0.0  0.0     0.0  0.0  0.0  0.0  0.0  0.0  0.0\n",
       " 0.0  0.0  0.0  0.0  0.0  0.0  0.0  0.0     0.0  0.0  0.0  0.0  0.0  0.0  0.0\n",
       " ⋮                        ⋮              ⋱            ⋮                   \n",
       " 0.0  0.0  0.0  0.0  0.0  0.0  0.0  0.0     0.0  0.0  0.0  0.0  0.0  0.0  0.0\n",
       " 0.0  0.0  0.0  0.0  0.0  0.0  0.0  0.0     0.0  0.0  0.0  0.0  0.0  0.0  0.0\n",
       " 0.0  0.0  0.0  0.0  0.0  0.0  0.0  0.0  …  0.0  0.0  0.0  0.0  0.0  0.0  0.0\n",
       " 0.0  0.0  0.0  0.0  0.0  0.0  0.0  0.0     0.0  0.0  0.0  0.0  0.0  0.0  0.0\n",
       " 0.0  0.0  0.0  0.0  0.0  0.0  0.0  0.0     0.0  0.0  0.0  0.0  0.0  0.0  0.0\n",
       " 0.0  0.0  0.0  0.0  0.0  0.0  0.0  0.0     0.0  0.0  0.0  0.0  0.0  0.0  0.0\n",
       " 0.0  0.0  0.0  0.0  0.0  0.0  0.0  0.0     0.0  0.0  0.0  0.0  0.0  0.0  0.0\n",
       " 0.0  0.0  0.0  0.0  0.0  0.0  0.0  0.0  …  0.0  0.0  0.0  0.0  0.0  0.0  0.0\n",
       " 0.0  0.0  0.0  0.0  0.0  0.0  0.0  0.0     0.0  0.0  0.0  0.0  0.0  0.0  0.0\n",
       " 0.0  0.0  0.0  0.0  0.0  0.0  0.0  0.0     0.0  0.0  0.0  0.0  0.0  0.0  0.0\n",
       " 0.0  0.0  0.0  0.0  0.0  0.0  0.0  0.0     0.0  0.0  0.0  0.0  0.0  0.0  0.0\n",
       " 0.0  0.0  0.0  0.0  0.0  0.0  0.0  0.0     0.0  0.0  0.0  0.0  0.0  0.0  0.0\n",
       "\n",
       "[:, :, 2] =\n",
       " 0.0  0.0  0.0  0.0  0.0  0.0  0.0  0.0  …  0.0  0.0  0.0  0.0  0.0  0.0  0.0\n",
       " 0.0  0.0  0.0  0.0  0.0  0.0  0.0  0.0     0.0  0.0  0.0  0.0  0.0  0.0  0.0\n",
       " 0.0  0.0  0.0  0.0  0.0  0.0  0.0  0.0     0.0  0.0  0.0  0.0  0.0  0.0  0.0\n",
       " 0.0  0.0  0.0  0.0  0.0  0.0  0.0  0.0     0.0  0.0  0.0  0.0  0.0  0.0  0.0\n",
       " 0.0  0.0  0.0  0.0  0.0  0.0  0.0  0.0     0.0  0.0  0.0  0.0  0.0  0.0  0.0\n",
       " 0.0  0.0  0.0  0.0  0.0  0.0  0.0  0.0  …  0.0  0.0  0.0  0.0  0.0  0.0  0.0\n",
       " 0.0  0.0  0.0  0.0  0.0  0.0  0.0  0.0     0.0  0.0  0.0  0.0  0.0  0.0  0.0\n",
       " 0.0  0.0  0.0  0.0  0.0  0.0  0.0  0.0     0.0  0.0  0.0  0.0  0.0  0.0  0.0\n",
       " 0.0  0.0  0.0  0.0  0.0  0.0  0.0  0.0     0.0  0.0  0.0  0.0  0.0  0.0  0.0\n",
       " 0.0  0.0  0.0  0.0  0.0  0.0  0.0  0.0     0.0  0.0  0.0  0.0  0.0  0.0  0.0\n",
       " 0.0  0.0  0.0  0.0  0.0  0.0  0.0  0.0  …  0.0  0.0  0.0  0.0  0.0  0.0  0.0\n",
       " 0.0  0.0  0.0  0.0  0.0  0.0  0.0  0.0     0.0  0.0  0.0  0.0  0.0  0.0  0.0\n",
       " 0.0  0.0  0.0  0.0  0.0  0.0  0.0  0.0     0.0  0.0  0.0  0.0  0.0  0.0  0.0\n",
       " ⋮                        ⋮              ⋱            ⋮                   \n",
       " 0.0  0.0  0.0  0.0  0.0  0.0  0.0  0.0     0.0  0.0  0.0  0.0  0.0  0.0  0.0\n",
       " 0.0  0.0  0.0  0.0  0.0  0.0  0.0  0.0     0.0  0.0  0.0  0.0  0.0  0.0  0.0\n",
       " 0.0  0.0  0.0  0.0  0.0  0.0  0.0  0.0  …  0.0  0.0  0.0  0.0  0.0  0.0  0.0\n",
       " 0.0  0.0  0.0  0.0  0.0  0.0  0.0  0.0     0.0  0.0  0.0  0.0  0.0  0.0  0.0\n",
       " 0.0  0.0  0.0  0.0  0.0  0.0  0.0  0.0     0.0  0.0  0.0  0.0  0.0  0.0  0.0\n",
       " 0.0  0.0  0.0  0.0  0.0  0.0  0.0  0.0     0.0  0.0  0.0  0.0  0.0  0.0  0.0\n",
       " 0.0  0.0  0.0  0.0  0.0  0.0  0.0  0.0     0.0  0.0  0.0  0.0  0.0  0.0  0.0\n",
       " 0.0  0.0  0.0  0.0  0.0  0.0  0.0  0.0  …  0.0  0.0  0.0  0.0  0.0  0.0  0.0\n",
       " 0.0  0.0  0.0  0.0  0.0  0.0  0.0  0.0     0.0  0.0  0.0  0.0  0.0  0.0  0.0\n",
       " 0.0  0.0  0.0  0.0  0.0  0.0  0.0  0.0     0.0  0.0  0.0  0.0  0.0  0.0  0.0\n",
       " 0.0  0.0  0.0  0.0  0.0  0.0  0.0  0.0     0.0  0.0  0.0  0.0  0.0  0.0  0.0\n",
       " 0.0  0.0  0.0  0.0  0.0  0.0  0.0  0.0     0.0  0.0  0.0  0.0  0.0  0.0  0.0"
      ]
     },
     "execution_count": 27,
     "metadata": {},
     "output_type": "execute_result"
    }
   ],
   "source": [
    "temp = similar(z)\n",
    "    @. temp = max(z - p.Γ, 0)"
   ]
  },
  {
   "cell_type": "code",
   "execution_count": 29,
   "metadata": {},
   "outputs": [
    {
     "data": {
      "image/png": "[encoded data removed]",
      "text/plain": [
       "Figure(PyObject <Figure size 640x480 with 1 Axes>)"
      ]
     },
     "metadata": {},
     "output_type": "display_data"
    }
   ],
   "source": [
    "Utils.plot_rb(temp[:,:,1])"
   ]
  },
  {
   "cell_type": "code",
   "execution_count": null,
   "metadata": {},
   "outputs": [],
   "source": [
    "    @inbounds begin\n",
    "        for k ∈ 1:p.K\n",
    "            H_z_k = @view H_z[:,:,k]\n",
    "            temp_k = @view temp[:,:,k]\n",
    "            imfilter!(H_z_k, temp_k, (centered(p.k_H[:,:,k]),), p.filling)\n",
    "        end\n",
    "    end"
   ]
  },
  {
   "cell_type": "code",
   "execution_count": 30,
   "metadata": {},
   "outputs": [
    {
     "data": {
      "text/plain": [
       "100×100 view(::Array{Float64,3}, :, :, 1) with eltype Float64:\n",
       " -2.85399e-10   4.51862e-11  -1.29036e-11  …  -2.85399e-10  5.15803e-10\n",
       " -2.58867e-10  -2.66429e-12  -3.2775e-11      -2.58867e-10  5.7615e-10\n",
       " -2.12411e-10  -3.10613e-11  -2.35084e-11     -2.12411e-10  6.17551e-10\n",
       " -1.47693e-10  -3.97482e-11   6.32262e-12     -1.47693e-10  6.3373e-10\n",
       " -6.74024e-11  -3.03064e-11   4.7673e-11      -6.74022e-11  6.26691e-10\n",
       "  2.23948e-11  -1.05301e-11   9.27782e-11  …   2.2395e-11   6.01728e-10\n",
       "  1.17754e-10   1.31822e-11   1.40784e-10      1.17754e-10  5.70223e-10\n",
       "  2.11034e-10   3.2066e-11    1.92895e-10      2.11035e-10  5.38845e-10\n",
       "  2.95981e-10   3.90704e-11   2.51483e-10      2.95981e-10  5.09586e-10\n",
       "  3.66432e-10   2.92399e-11   3.14391e-10      3.66432e-10  4.81806e-10\n",
       "  4.17775e-10   3.63339e-13   3.74307e-10  …   4.17775e-10  4.53035e-10\n",
       "  4.4952e-10   -4.56758e-11   4.20337e-10      4.4952e-10   4.26326e-10\n",
       "  4.66207e-10  -1.00277e-10   4.43433e-10      4.66208e-10  4.10394e-10\n",
       "  ⋮                                        ⋱                \n",
       "  4.4952e-10   -4.56757e-11   4.20337e-10      4.4952e-10   4.26326e-10\n",
       "  4.17775e-10   3.63405e-13   3.74307e-10      4.17775e-10  4.53035e-10\n",
       "  3.66432e-10   2.92399e-11   3.14391e-10  …   3.66432e-10  4.81806e-10\n",
       "  2.95981e-10   3.90704e-11   2.51483e-10      2.95981e-10  5.09586e-10\n",
       "  2.11034e-10   3.20659e-11   1.92894e-10      2.11034e-10  5.38845e-10\n",
       "  1.17754e-10   1.31821e-11   1.40784e-10      1.17754e-10  5.70223e-10\n",
       "  2.23946e-11  -1.05301e-11   9.2778e-11       2.23947e-11  6.01728e-10\n",
       " -6.74026e-11  -3.03065e-11   4.76729e-11  …  -6.74024e-11  6.26691e-10\n",
       " -1.47693e-10  -3.97483e-11   6.32247e-12     -1.47693e-10  6.33729e-10\n",
       " -2.12411e-10  -3.10613e-11  -2.35085e-11     -2.12411e-10  6.1755e-10\n",
       " -2.58867e-10  -2.66426e-12  -3.27751e-11     -2.58867e-10  5.7615e-10\n",
       " -2.85399e-10   4.51863e-11  -1.29037e-11     -2.85399e-10  5.15803e-10"
      ]
     },
     "execution_count": 30,
     "metadata": {},
     "output_type": "execute_result"
    }
   ],
   "source": [
    "#     @inbounds begin\n",
    "#         for k ∈ 1:p.K\n",
    "            H_z_k = @view H_z[:,:,1]\n",
    "            temp_k = @view temp[:,:,1]\n",
    "            imfilter!(H_z_k, temp_k, (centered(p.k_H[:,:,1]),), p.filling)\n",
    "#         end\n",
    "#     end"
   ]
  },
  {
   "cell_type": "code",
   "execution_count": null,
   "metadata": {},
   "outputs": [],
   "source": []
  },
  {
   "cell_type": "code",
   "execution_count": null,
   "metadata": {},
   "outputs": [],
   "source": []
  },
  {
   "cell_type": "code",
   "execution_count": 136,
   "metadata": {},
   "outputs": [
    {
     "data": {
      "text/plain": [
       "func_dx_v2 (generic function with 1 method)"
      ]
     },
     "execution_count": 136,
     "metadata": {},
     "output_type": "execute_result"
    }
   ],
   "source": [
    "function func_dx_v2(x_v2::AbstractArray, z_v2::AbstractArray, z::AbstractArray, p::NamedTuple)\n",
    "    return p.δ_c .*   (  -x_v2 .+\n",
    "                    ((1 .- x_v2) .*\n",
    "                        ((p.v12_6 .* max.(z .- p.Γ, 0)) + (p.ϕ .* max.(z_v2 .- p.Γ, 0)) .+ p.att)))\n",
    "end"
   ]
  },
  {
   "cell_type": "code",
   "execution_count": 137,
   "metadata": {},
   "outputs": [
    {
     "data": {
      "text/plain": [
       "func_dx_v2! (generic function with 1 method)"
      ]
     },
     "execution_count": 137,
     "metadata": {},
     "output_type": "execute_result"
    }
   ],
   "source": [
    "function func_dx_v2!(dx::AbstractArray, x_v2::AbstractArray, z_v2::AbstractArray, z::AbstractArray, p::NamedTuple)\n",
    "    @. dx = p.δ_c *   (  -x_v2 +\n",
    "                    ((1 - x_v2) *\n",
    "                        ((p.v12_6 * max(z - p.Γ, 0)) + (p.ϕ * max(z_v2 - p.Γ, 0)) + p.att)))\n",
    "    return nothing\n",
    "end"
   ]
  },
  {
   "cell_type": "code",
   "execution_count": 139,
   "metadata": {},
   "outputs": [
    {
     "data": {
      "text/plain": [
       "\u001b[32m\u001b[1mTest Passed\u001b[22m\u001b[39m"
      ]
     },
     "execution_count": 139,
     "metadata": {},
     "output_type": "execute_result"
    }
   ],
   "source": [
    "dx = reshape(zeros(p.dim_i, p.dim_j*p.K), p.dim_i, p.dim_j, p.K) \n",
    "x_v2 = reshape(rand(p.dim_i, p.dim_j*p.K), p.dim_i, p.dim_j, p.K) \n",
    "z_v2 = reshape(rand(p.dim_i, p.dim_j*p.K), p.dim_i, p.dim_j, p.K) \n",
    "z = reshape(rand(p.dim_i, p.dim_j*p.K), p.dim_i, p.dim_j, p.K) \n",
    "func_dx_v2!(dx, x_v2, z_v2, z, p)\n",
    "@test dx  == func_dx_v2(x_v2, z_v2, z, p)"
   ]
  },
  {
   "cell_type": "code",
   "execution_count": 140,
   "metadata": {},
   "outputs": [
    {
     "data": {
      "text/plain": [
       "BenchmarkTools.Trial: \n",
       "  memory estimate:  781.64 KiB\n",
       "  allocs estimate:  10\n",
       "  --------------\n",
       "  minimum time:     105.230 μs (0.00% GC)\n",
       "  median time:      619.005 μs (0.00% GC)\n",
       "  mean time:        776.650 μs (16.55% GC)\n",
       "  maximum time:     33.345 ms (97.66% GC)\n",
       "  --------------\n",
       "  samples:          6366\n",
       "  evals/sample:     1"
      ]
     },
     "execution_count": 140,
     "metadata": {},
     "output_type": "execute_result"
    }
   ],
   "source": [
    "@benchmark dx = func_dx_v2(x_v2, z_v2, z, p)"
   ]
  },
  {
   "cell_type": "code",
   "execution_count": 141,
   "metadata": {},
   "outputs": [
    {
     "data": {
      "text/plain": [
       "BenchmarkTools.Trial: \n",
       "  memory estimate:  0 bytes\n",
       "  allocs estimate:  0\n",
       "  --------------\n",
       "  minimum time:     189.238 μs (0.00% GC)\n",
       "  median time:      215.553 μs (0.00% GC)\n",
       "  mean time:        228.634 μs (0.00% GC)\n",
       "  maximum time:     672.521 μs (0.00% GC)\n",
       "  --------------\n",
       "  samples:          10000\n",
       "  evals/sample:     1"
      ]
     },
     "execution_count": 141,
     "metadata": {},
     "output_type": "execute_result"
    }
   ],
   "source": [
    "@benchmark func_dx_v2!(dx, x_v2, z_v2, z, p)"
   ]
  },
  {
   "cell_type": "code",
   "execution_count": null,
   "metadata": {},
   "outputs": [],
   "source": []
  },
  {
   "cell_type": "code",
   "execution_count": 142,
   "metadata": {},
   "outputs": [
    {
     "data": {
      "text/plain": [
       "fun_dy_v2_ (generic function with 1 method)"
      ]
     },
     "execution_count": 142,
     "metadata": {},
     "output_type": "execute_result"
    }
   ],
   "source": [
    "function fun_dy_v2_(y_v2::AbstractArray, z::AbstractArray, x_v2::AbstractArray, m_v2::AbstractArray, p::NamedTuple)\n",
    "    return δ_c .*   (-y_v2 .+\n",
    "                    ((1 .- y_v2) .* ((v12_4 .* max.(z .- p.Γ, 0)) .+ (p.η_p .* x_v2))) .-\n",
    "                    ((1 .+ y_v2) .* fun_f.(imfilter(m_v2, (centered(p.k_W_p),), p.filling)), p.μ, p.ν, p.n))\n",
    "end"
   ]
  },
  {
   "cell_type": "code",
   "execution_count": 152,
   "metadata": {},
   "outputs": [
    {
     "data": {
      "text/plain": [
       "fun_dy_v2! (generic function with 1 method)"
      ]
     },
     "execution_count": 152,
     "metadata": {},
     "output_type": "execute_result"
    }
   ],
   "source": [
    "function fun_dy_v2!(dy::AbstractArray, y_v2::AbstractArray, z::AbstractArray, x_v2::AbstractArray, m_v2::AbstractArray, p::NamedTuple)\n",
    "    func_filter_W!(dy, m_v2, p.k_W_p, p)\n",
    "    fun_f!(dy, dy, p)\n",
    "    @. dy = p.δ_c *   (-y_v2 +\n",
    "                    ((1.0f0 - y_v2) * ((p.v12_4 * max(z - p.Γ, 0)) + (p.η_p * x_v2))) -\n",
    "                    ((1.0f0 + y_v2) * dy))\n",
    "    return nothing\n",
    "end"
   ]
  },
  {
   "cell_type": "code",
   "execution_count": 145,
   "metadata": {},
   "outputs": [
    {
     "ename": "BoundsError",
     "evalue": "BoundsError: attempt to access ()\n  at index [1]",
     "output_type": "error",
     "traceback": [
      "BoundsError: attempt to access ()\n  at index [1]",
      "",
      "Stacktrace:",
      " [1] getindex(::Tuple, ::Int64) at ./tuple.jl:24",
      " [2] map at ./tuple.jl:180 [inlined] (repeats 4 times)",
      " [3] (::Pad{0})(::Tuple{OffsetArrays.OffsetArray{Float32,4,Array{Float32,4}}}, ::Array{Float64,3}, ::ImageFiltering.Algorithm.FFT) at /Users/niallcullinane/.julia/packages/ImageFiltering/eH8Od/src/border.jl:231",
      " [4] imfilter!(::ComputationalResources.CPU1{ImageFiltering.Algorithm.FFT}, ::Array{Float64,3}, ::Array{Float64,3}, ::Tuple{OffsetArrays.OffsetArray{Float32,4,Array{Float32,4}}}, ::Pad{0}) at /Users/niallcullinane/.julia/packages/ImageFiltering/eH8Od/src/imfilter.jl:702",
      " [5] imfilter!(::Array{Float64,3}, ::Array{Float64,3}, ::Tuple{OffsetArrays.OffsetArray{Float32,4,Array{Float32,4}}}, ::Pad{0}, ::ImageFiltering.Algorithm.FFT) at /Users/niallcullinane/.julia/packages/ImageFiltering/eH8Od/src/imfilter.jl:612",
      " [6] imfilter!(::Array{Float64,3}, ::Array{Float64,3}, ::Tuple{OffsetArrays.OffsetArray{Float32,4,Array{Float32,4}}}, ::Pad{0}) at /Users/niallcullinane/.julia/packages/ImageFiltering/eH8Od/src/imfilter.jl:606",
      " [7] imfilter!(::Array{Float64,3}, ::Array{Float64,3}, ::Tuple{OffsetArrays.OffsetArray{Float32,4,Array{Float32,4}}}, ::String) at /Users/niallcullinane/.julia/packages/ImageFiltering/eH8Od/src/imfilter.jl:597",
      " [8] fun_dy_v2!(::Array{Float64,3}, ::Array{Float64,3}, ::Array{Float64,3}, ::Array{Float64,3}, ::Array{Float64,3}, ::NamedTuple{(:K, :δ_v, :δ_c, :δ_m, :δ_z, :δ_s, :σ_1, :C_1, :C_2, :σ_2, :γ, :α, :ϕ, :Γ, :V_21, :μ, :ν, :n, :att, :η_p, :η_m, :λ, :a_23_ex, :a_23_in, :v12_6, :v12_4, :ψ, :C_AB_l, :H_σ_x, :H_σ_y, :H_fact, :H_l, :T_fact, :T_p_m, :T_v2_fact, :H_size, :W_size, :lgn_equ_u, :lgn_equ_A, :lgn_equ_B, :filling, :k_gauss_1, :k_gauss_2, :k_C_d, :k_C_b, :k_W_p, :k_W_m, :k_H, :k_T_p, :k_T_m, :k_T_p_v2, :k_T_m_v2, :dim_i, :dim_j, :x_V2, :I, :r),Tuple{Int64,Float32,Float32,Float32,Float32,Float32,Float32,Float32,Float32,Float32,Float32,Float32,Float32,Float32,Float32,Float32,Float32,Float32,Float32,Float32,Float32,Float32,Float32,Float32,Float32,Float32,Float32,Int64,Float32,Float32,Float32,Int64,Array{Float32,1},Float32,Float32,Int64,Int64,Float32,Float32,Float32,String,OffsetArrays.OffsetArray{Float32,2,Array{Float32,2}},OffsetArrays.OffsetArray{Float32,2,Array{Float32,2}},Array{Float32,3},Array{Float32,3},OffsetArrays.OffsetArray{Float32,4,Array{Float32,4}},OffsetArrays.OffsetArray{Float32,4,Array{Float32,4}},OffsetArrays.OffsetArray{Float32,3,Array{Float32,3}},Array{Float32,3},Array{Float32,3},Array{Float32,3},Array{Float32,3},Int64,Int64,Array{Float32,3},Array{Float32,2},Array{Float32,2}}}) at ./In[144]:2",
      " [9] top-level scope at In[145]:6"
     ]
    }
   ],
   "source": [
    "dy = reshape(zeros(p.dim_i, p.dim_j*p.K), p.dim_i, p.dim_j, p.K) \n",
    "y_v2 = reshape(rand(p.dim_i, p.dim_j*p.K), p.dim_i, p.dim_j, p.K) \n",
    "x_v2 = reshape(rand(p.dim_i, p.dim_j*p.K), p.dim_i, p.dim_j, p.K) \n",
    "z = reshape(rand(p.dim_i, p.dim_j*p.K), p.dim_i, p.dim_j, p.K) \n",
    "m_v2 = reshape(zeros(p.dim_i, p.dim_j*p.K), p.dim_i, p.dim_j, p.K) \n",
    "fun_dy_v2!(dy, y_v2, z, x_v2, m_v2, p) \n",
    "@test dy  == fun_dy_v2(y_v2, z, x_v2, m_v2, p) "
   ]
  },
  {
   "cell_type": "code",
   "execution_count": null,
   "metadata": {},
   "outputs": [],
   "source": [
    "@benchmark dy = fun_dy_v2_(y_v2, z, x_v2, m_v2, p)"
   ]
  },
  {
   "cell_type": "code",
   "execution_count": 153,
   "metadata": {},
   "outputs": [
    {
     "data": {
      "text/plain": [
       "BenchmarkTools.Trial: \n",
       "  memory estimate:  4.51 MiB\n",
       "  allocs estimate:  998\n",
       "  --------------\n",
       "  minimum time:     3.902 ms (0.00% GC)\n",
       "  median time:      5.377 ms (0.00% GC)\n",
       "  mean time:        6.368 ms (12.00% GC)\n",
       "  maximum time:     27.755 ms (72.00% GC)\n",
       "  --------------\n",
       "  samples:          785\n",
       "  evals/sample:     1"
      ]
     },
     "execution_count": 153,
     "metadata": {},
     "output_type": "execute_result"
    }
   ],
   "source": [
    "@benchmark fun_dy_v2!(dy, y_v2, z, x_v2, m_v2, p)  "
   ]
  },
  {
   "cell_type": "code",
   "execution_count": 7,
   "metadata": {},
   "outputs": [
    {
     "data": {
      "text/plain": [
       "(0.0f0, 100.0f0)"
      ]
     },
     "execution_count": 7,
     "metadata": {},
     "output_type": "execute_result"
    }
   ],
   "source": [
    "tspan = (0.0f0, 100.0f0)"
   ]
  },
  {
   "cell_type": "code",
   "execution_count": 35,
   "metadata": {},
   "outputs": [],
   "source": [
    "u0 = reshape(zeros(p.dim_i, p.dim_j*(5*p.K+2)), p.dim_i, p.dim_j, 5*p.K+2);"
   ]
  },
  {
   "cell_type": "code",
   "execution_count": 36,
   "metadata": {},
   "outputs": [
    {
     "data": {
      "text/plain": [
       "\u001b[36mODEProblem\u001b[0m with uType \u001b[36mArray{Float64,3}\u001b[0m and tType \u001b[36mFloat32\u001b[0m. In-place: \u001b[36mtrue\u001b[0m\n",
       "timespan: (0.0f0, 100.0f0)\n",
       "u0: [0.0 0.0 … 0.0 0.0; 0.0 0.0 … 0.0 0.0; … ; 0.0 0.0 … 0.0 0.0; 0.0 0.0 … 0.0 0.0]\n",
       "\n",
       "[0.0 0.0 … 0.0 0.0; 0.0 0.0 … 0.0 0.0; … ; 0.0 0.0 … 0.0 0.0; 0.0 0.0 … 0.0 0.0]\n",
       "\n",
       "[0.0 0.0 … 0.0 0.0; 0.0 0.0 … 0.0 0.0; … ; 0.0 0.0 … 0.0 0.0; 0.0 0.0 … 0.0 0.0]\n",
       "\n",
       "...\n",
       "\n",
       "[0.0 0.0 … 0.0 0.0; 0.0 0.0 … 0.0 0.0; … ; 0.0 0.0 … 0.0 0.0; 0.0 0.0 … 0.0 0.0]\n",
       "\n",
       "[0.0 0.0 … 0.0 0.0; 0.0 0.0 … 0.0 0.0; … ; 0.0 0.0 … 0.0 0.0; 0.0 0.0 … 0.0 0.0]\n",
       "\n",
       "[0.0 0.0 … 0.0 0.0; 0.0 0.0 … 0.0 0.0; … ; 0.0 0.0 … 0.0 0.0; 0.0 0.0 … 0.0 0.0]"
      ]
     },
     "execution_count": 36,
     "metadata": {},
     "output_type": "execute_result"
    }
   ],
   "source": [
    "prob = ODEProblem(Laminart.f!, u0, tspan, p)"
   ]
  },
  {
   "cell_type": "code",
   "execution_count": 37,
   "metadata": {},
   "outputs": [
    {
     "data": {
      "text/plain": [
       "\u001b[36mODEProblem\u001b[0m with uType \u001b[36mArray{Float64,3}\u001b[0m and tType \u001b[36mFloat32\u001b[0m. In-place: \u001b[36mtrue\u001b[0m\n",
       "timespan: (0.0f0, 100.0f0)\n",
       "u0: [0.0 0.0 … 0.0 0.0; 0.0 0.0 … 0.0 0.0; … ; 0.0 0.0 … 0.0 0.0; 0.0 0.0 … 0.0 0.0]\n",
       "\n",
       "[0.0 0.0 … 0.0 0.0; 0.0 0.0 … 0.0 0.0; … ; 0.0 0.0 … 0.0 0.0; 0.0 0.0 … 0.0 0.0]\n",
       "\n",
       "[0.0 0.0 … 0.0 0.0; 0.0 0.0 … 0.0 0.0; … ; 0.0 0.0 … 0.0 0.0; 0.0 0.0 … 0.0 0.0]\n",
       "\n",
       "...\n",
       "\n",
       "[0.0 0.0 … 0.0 0.0; 0.0 0.0 … 0.0 0.0; … ; 0.0 0.0 … 0.0 0.0; 0.0 0.0 … 0.0 0.0]\n",
       "\n",
       "[0.0 0.0 … 0.0 0.0; 0.0 0.0 … 0.0 0.0; … ; 0.0 0.0 … 0.0 0.0; 0.0 0.0 … 0.0 0.0]\n",
       "\n",
       "[0.0 0.0 … 0.0 0.0; 0.0 0.0 … 0.0 0.0; … ; 0.0 0.0 … 0.0 0.0; 0.0 0.0 … 0.0 0.0]"
      ]
     },
     "execution_count": 37,
     "metadata": {},
     "output_type": "execute_result"
    }
   ],
   "source": [
    "prob_ = ODEProblem(Laminartv1.f!, u0, tspan, p)"
   ]
  },
  {
   "cell_type": "code",
   "execution_count": 38,
   "metadata": {},
   "outputs": [],
   "source": [
    "sol = solve(prob);"
   ]
  },
  {
   "cell_type": "code",
   "execution_count": 45,
   "metadata": {},
   "outputs": [
    {
     "data": {
      "text/plain": [
       "BenchmarkTools.Trial: \n",
       "  memory estimate:  9.62 GiB\n",
       "  allocs estimate:  1737706\n",
       "  --------------\n",
       "  minimum time:     23.692 s (36.13% GC)\n",
       "  median time:      23.692 s (36.13% GC)\n",
       "  mean time:        23.692 s (36.13% GC)\n",
       "  maximum time:     23.692 s (36.13% GC)\n",
       "  --------------\n",
       "  samples:          1\n",
       "  evals/sample:     1"
      ]
     },
     "execution_count": 45,
     "metadata": {},
     "output_type": "execute_result"
    }
   ],
   "source": [
    "@benchmark sol = solve(prob)"
   ]
  },
  {
   "cell_type": "code",
   "execution_count": 42,
   "metadata": {},
   "outputs": [
    {
     "data": {
      "text/plain": [
       "BenchmarkTools.Trial: \n",
       "  memory estimate:  10.84 GiB\n",
       "  allocs estimate:  1441554\n",
       "  --------------\n",
       "  minimum time:     21.623 s (36.74% GC)\n",
       "  median time:      21.623 s (36.74% GC)\n",
       "  mean time:        21.623 s (36.74% GC)\n",
       "  maximum time:     21.623 s (36.74% GC)\n",
       "  --------------\n",
       "  samples:          1\n",
       "  evals/sample:     1"
      ]
     },
     "execution_count": 42,
     "metadata": {},
     "output_type": "execute_result"
    }
   ],
   "source": [
    "@benchmark sol_ = solve(prob_)"
   ]
  },
  {
   "cell_type": "code",
   "execution_count": 21,
   "metadata": {},
   "outputs": [],
   "source": [
    "sol_ = solve(prob_);"
   ]
  },
  {
   "cell_type": "code",
   "execution_count": 19,
   "metadata": {},
   "outputs": [
    {
     "name": "stdout",
     "output_type": "stream",
     "text": [
      "\u001b[91m\u001b[1mTest Failed\u001b[22m\u001b[39m at \u001b[39m\u001b[1mIn[19]:1\u001b[22m\n",
      "  Expression: sol(100) ≈ sol_(100)\n",
      "   Evaluated: [0.0 0.0 … 0.0 0.0; 0.0 0.0 … 0.0 0.0; … ; 0.0 0.0 … 0.0 0.0; 0.0 0.0 … 0.0 0.0]\n",
      "\n",
      "[0.0 0.0 … 0.0 0.0; 0.0 0.0 … 0.0 0.0; … ; 0.0 0.0 … 0.0 0.0; 0.0 0.0 … 0.0 0.0]\n",
      "\n",
      "[0.0 0.0 … 0.0 0.0; 0.0 0.0 … 0.0 0.0; … ; 0.0 0.0 … 0.0 0.0; 0.0 0.0 … 0.0 0.0]\n",
      "\n",
      "...\n",
      "\n",
      "[-5.921149675838944e-10 -5.960468575407023e-10 … -5.921150367003139e-10 -4.585954016177284e-10; -6.097631915134277e-10 -6.331612817533157e-10 … -6.097632698027013e-10 -4.669574203883315e-10; … ; -6.097632472251472e-10 -6.331612876485393e-10 … -6.097632820609842e-10 -4.669573899195297e-10; -5.92115028958893e-10 -5.960468568856907e-10 … -5.921150609236834e-10 -4.5859538093225374e-10]\n",
      "\n",
      "[0.0 0.0 … 0.0 0.0; 0.0 0.0 … 0.0 0.0; … ; 0.0 0.0 … 0.0 0.0; 0.0 0.0 … 0.0 0.0]\n",
      "\n",
      "[0.0 0.0 … 0.0 0.0; 0.0 0.0 … 0.0 0.0; … ; 0.0 0.0 … 0.0 0.0; 0.0 0.0 … 0.0 0.0] ≈ [0.0 0.0 … 0.0 0.0; 0.0 0.0 … 0.0 0.0; … ; 0.0 0.0 … 0.0 0.0; 0.0 0.0 … 0.0 0.0]\n",
      "\n",
      "[0.0 0.0 … 0.0 0.0; 0.0 0.0 … 0.0 0.0; … ; 0.0 0.0 … 0.0 0.0; 0.0 0.0 … 0.0 0.0]\n",
      "\n",
      "[0.0 0.0 … 0.0 0.0; 0.0 0.0 … 0.0 0.0; … ; 0.0 0.0 … 0.0 0.0; 0.0 0.0 … 0.0 0.0]\n",
      "\n",
      "...\n",
      "\n",
      "[0.0 0.0 … 0.0 0.0; 0.0 0.0 … 0.0 0.0; … ; 0.0 0.0 … 0.0 0.0; 0.0 0.0 … 0.0 0.0]\n",
      "\n",
      "[0.0 0.0 … 0.0 0.0; 0.0 0.0 … 0.0 0.0; … ; 0.0 0.0 … 0.0 0.0; 0.0 0.0 … 0.0 0.0]\n",
      "\n",
      "[0.0 0.0 … 0.0 0.0; 0.0 0.0 … 0.0 0.0; … ; 0.0 0.0 … 0.0 0.0; 0.0 0.0 … 0.0 0.0]\n"
     ]
    },
    {
     "ename": "Test.FallbackTestSetException",
     "evalue": "There was an error during testing",
     "output_type": "error",
     "traceback": [
      "There was an error during testing",
      "",
      "Stacktrace:",
      " [1] record(::Test.FallbackTestSet, ::Union{Test.Error, Test.Fail}) at /Users/julia/buildbot/worker/package_macos64/build/usr/share/julia/stdlib/v1.4/Test/src/Test.jl:737",
      " [2] do_test(::Test.ExecutionResult, ::Any) at /Users/julia/buildbot/worker/package_macos64/build/usr/share/julia/stdlib/v1.4/Test/src/Test.jl:520",
      " [3] top-level scope at In[19]:1"
     ]
    }
   ],
   "source": [
    "@test sol(100) ≈ sol_(100)"
   ]
  },
  {
   "cell_type": "code",
   "execution_count": 49,
   "metadata": {},
   "outputs": [],
   "source": [
    "# @parameters t\n",
    "@variables du[1:p.dim_i, 1:p.dim_j, 1:5*p.K+2] u[1:p.dim_i, 1:p.dim_j, 1:5*p.K+2] x_lgn[1:p.dim_i, 1:p.dim_j] C[1:p.dim_i, 1:p.dim_j, 1:p.K] H_z[1:p.dim_i, 1:p.dim_j, 1:p.K]; "
   ]
  },
  {
   "cell_type": "code",
   "execution_count": 50,
   "metadata": {},
   "outputs": [
    {
     "ename": "UndefVarError",
     "evalue": "UndefVarError: x_lgn not defined",
     "output_type": "error",
     "traceback": [
      "UndefVarError: x_lgn not defined",
      "",
      "Stacktrace:",
      " [1] f!(::Array{Operation,3}, ::Array{Operation,3}, ::NamedTuple{(:K, :δ_v, :δ_c, :δ_m, :δ_z, :δ_s, :σ_1, :C_1, :C_2, :σ_2, :γ, :α, :ϕ, :Γ, :v_21, :μ, :ν, :n, :att, :η_p, :η_m, :λ, :a_23_ex, :a_23_in, :v12_6, :v12_4, :ψ, :C_AB_l, :H_σ_x, :H_σ_y, :H_fact, :H_l, :T_fact, :T_p_m, :T_v2_fact, :H_size, :W_size, :lgn_equ_u, :lgn_equ_A, :lgn_equ_B, :filling, :k_gauss_1, :k_gauss_2, :k_C_d, :k_C_b, :k_W_p, :k_W_m, :k_H, :k_T_p, :k_T_m, :k_T_p_v2, :k_T_m_v2, :dim_i, :dim_j, :x_V2, :I, :r),Tuple{Int64,Float32,Float32,Float32,Float32,Float32,Float32,Float32,Float32,Float32,Float32,Float32,Float32,Float32,Float32,Float32,Float32,Float32,Float32,Float32,Float32,Float32,Float32,Float32,Float32,Float32,Float32,Int64,Float32,Float32,Float32,Int64,Array{Float32,1},Float32,Float32,Int64,Int64,Float32,Float32,Float32,String,OffsetArrays.OffsetArray{Float32,2,Array{Float32,2}},OffsetArrays.OffsetArray{Float32,2,Array{Float32,2}},Array{Float32,3},Array{Float32,3},OffsetArrays.OffsetArray{Float32,4,Array{Float32,4}},OffsetArrays.OffsetArray{Float32,4,Array{Float32,4}},OffsetArrays.OffsetArray{Float32,3,Array{Float32,3}},Array{Float32,3},Array{Float32,3},Array{Float32,3},Array{Float32,3},Int64,Int64,Array{Float32,3},Array{Float32,2},Array{Float32,2}}}, ::Float64) at /Users/niallcullinane/.julia/dev/MEngProject/src/Laminart.jl:53",
      " [2] top-level scope at In[50]:1"
     ]
    }
   ],
   "source": [
    "Laminart.f!(du,u,p,0.0)"
   ]
  },
  {
   "cell_type": "code",
   "execution_count": 31,
   "metadata": {},
   "outputs": [
    {
     "ename": "MethodError",
     "evalue": "MethodError: no method matching isnan(::Operation)\nClosest candidates are:\n  isnan(!Matched::BigFloat) at mpfr.jl:893\n  isnan(!Matched::Missing) at missing.jl:100\n  isnan(!Matched::Float16) at float.jl:537\n  ...",
     "output_type": "error",
     "traceback": [
      "MethodError: no method matching isnan(::Operation)\nClosest candidates are:\n  isnan(!Matched::BigFloat) at mpfr.jl:893\n  isnan(!Matched::Missing) at missing.jl:100\n  isnan(!Matched::Float16) at float.jl:537\n  ...",
      "",
      "Stacktrace:",
      " [1] _any(::typeof(isnan), ::SubArray{Operation,2,Array{Operation,3},Tuple{Base.Slice{Base.OneTo{Int64}},Base.Slice{Base.OneTo{Int64}},Int64},true}, ::Colon) at ./reduce.jl:773",
      " [2] #any#592 at ./reducedim.jl:662 [inlined]",
      " [3] any at ./reducedim.jl:662 [inlined]",
      " [4] filter_algorithm at /Users/niallcullinane/.julia/packages/ImageFiltering/eH8Od/src/imfilter.jl:1538 [inlined]",
      " [5] imfilter!(::SubArray{Operation,2,Array{Operation,3},Tuple{Base.Slice{Base.OneTo{Int64}},Base.Slice{Base.OneTo{Int64}},Int64},true}, ::SubArray{Operation,2,Array{Operation,3},Tuple{Base.Slice{Base.OneTo{Int64}},Base.Slice{Base.OneTo{Int64}},Int64},true}, ::Tuple{OffsetArrays.OffsetArray{Float32,2,Array{Float32,2}}}, ::Pad{0}) at /Users/niallcullinane/.julia/packages/ImageFiltering/eH8Od/src/imfilter.jl:606",
      " [6] imfilter! at /Users/niallcullinane/.julia/packages/ImageFiltering/eH8Od/src/imfilter.jl:597 [inlined]",
      " [7] fun_H_z!(::Array{Operation,3}, ::SubArray{Operation,3,Array{Operation,3},Tuple{Base.Slice{Base.OneTo{Int64}},Base.Slice{Base.OneTo{Int64}},UnitRange{Int64}},true}, ::NamedTuple{(:K, :δ_v, :δ_c, :δ_m, :δ_z, :δ_s, :σ_1, :C_1, :C_2, :σ_2, :γ, :α, :ϕ, :Γ, :v_21, :μ, :ν, :n, :att, :η_p, :η_m, :λ, :a_23_ex, :a_23_in, :v12_6, :v12_4, :ψ, :C_AB_l, :H_σ_x, :H_σ_y, :H_fact, :H_l, :T_fact, :T_p_m, :T_v2_fact, :H_size, :W_size, :lgn_equ_u, :lgn_equ_A, :lgn_equ_B, :filling, :k_gauss_1, :k_gauss_2, :k_C_d, :k_C_b, :k_W_p, :k_W_m, :k_H, :k_T_p, :k_T_m, :k_T_p_v2, :k_T_m_v2, :dim_i, :dim_j, :x_V2, :I, :r),Tuple{Int64,Float32,Float32,Float32,Float32,Float32,Float32,Float32,Float32,Float32,Float32,Float32,Float32,Float32,Float32,Float32,Float32,Float32,Float32,Float32,Float32,Float32,Float32,Float32,Float32,Float32,Float32,Int64,Float32,Float32,Float32,Int64,Array{Float32,1},Float32,Float32,Int64,Int64,Float32,Float32,Float32,String,OffsetArrays.OffsetArray{Float32,2,Array{Float32,2}},OffsetArrays.OffsetArray{Float32,2,Array{Float32,2}},Array{Float32,3},Array{Float32,3},OffsetArrays.OffsetArray{Float32,4,Array{Float32,4}},OffsetArrays.OffsetArray{Float32,4,Array{Float32,4}},OffsetArrays.OffsetArray{Float32,3,Array{Float32,3}},Array{Float32,3},Array{Float32,3},Array{Float32,3},Array{Float32,3},Int64,Int64,Array{Float32,3},Array{Float32,2},Array{Float32,2}}}) at /Users/niallcullinane/.julia/dev/MEngProject/src/Laminart.jl:372",
      " [8] f!(::Array{Operation,3}, ::Array{Operation,3}, ::NamedTuple{(:K, :δ_v, :δ_c, :δ_m, :δ_z, :δ_s, :σ_1, :C_1, :C_2, :σ_2, :γ, :α, :ϕ, :Γ, :v_21, :μ, :ν, :n, :att, :η_p, :η_m, :λ, :a_23_ex, :a_23_in, :v12_6, :v12_4, :ψ, :C_AB_l, :H_σ_x, :H_σ_y, :H_fact, :H_l, :T_fact, :T_p_m, :T_v2_fact, :H_size, :W_size, :lgn_equ_u, :lgn_equ_A, :lgn_equ_B, :filling, :k_gauss_1, :k_gauss_2, :k_C_d, :k_C_b, :k_W_p, :k_W_m, :k_H, :k_T_p, :k_T_m, :k_T_p_v2, :k_T_m_v2, :dim_i, :dim_j, :x_V2, :I, :r),Tuple{Int64,Float32,Float32,Float32,Float32,Float32,Float32,Float32,Float32,Float32,Float32,Float32,Float32,Float32,Float32,Float32,Float32,Float32,Float32,Float32,Float32,Float32,Float32,Float32,Float32,Float32,Float32,Int64,Float32,Float32,Float32,Int64,Array{Float32,1},Float32,Float32,Int64,Int64,Float32,Float32,Float32,String,OffsetArrays.OffsetArray{Float32,2,Array{Float32,2}},OffsetArrays.OffsetArray{Float32,2,Array{Float32,2}},Array{Float32,3},Array{Float32,3},OffsetArrays.OffsetArray{Float32,4,Array{Float32,4}},OffsetArrays.OffsetArray{Float32,4,Array{Float32,4}},OffsetArrays.OffsetArray{Float32,3,Array{Float32,3}},Array{Float32,3},Array{Float32,3},Array{Float32,3},Array{Float32,3},Int64,Int64,Array{Float32,3},Array{Float32,2},Array{Float32,2}}}, ::Float64) at /Users/niallcullinane/.julia/dev/MEngProject/src/Laminart.jl:55",
      " [9] top-level scope at In[31]:3"
     ]
    }
   ],
   "source": [
    "@parameters t \n",
    "@variables du[1:p.dim_i, 1:p.dim_j, 1:5*p.K+2](t) u[1:p.dim_i, 1:p.dim_j, 1:5*p.K+2](t) x_lgn[1:p.dim_i, 1:p.dim_j](t) C[1:p.dim_i, 1:p.dim_j, 1:p.K](t) H_z[1:p.dim_i, 1:p.dim_j, 1:p.K](t); \n",
    "Laminart.f!(du,u,p,0.0);\n",
    "# u0 = reshape(zeros(p.dim_i, p.dim_j*(5*p.K+2)), p.dim_i, p.dim_j, 5*p.K+2);\n",
    "# # jac = sparse(ModelingToolkit.jacobian(vec(du),vec(u),simplify=false))\n",
    "\n",
    "# # fjac = eval(ModelingToolkit.build_function(jac,u));\n",
    "# # prob_jac = ODEProblem(ODEFunction(ff!,jac = (du,u,p,t) -> fjac(du,u), jac_prototype = similar(jac,Float64)),u0,(0.0,10.0))\n",
    "# # sol = solve(prob_jac)"
   ]
  },
  {
   "cell_type": "code",
   "execution_count": 39,
   "metadata": {},
   "outputs": [
    {
     "ename": "MethodError",
     "evalue": "MethodError: no method matching isnan(::Operation)\nClosest candidates are:\n  isnan(!Matched::BigFloat) at mpfr.jl:893\n  isnan(!Matched::Missing) at missing.jl:100\n  isnan(!Matched::Float16) at float.jl:537\n  ...",
     "output_type": "error",
     "traceback": [
      "MethodError: no method matching isnan(::Operation)\nClosest candidates are:\n  isnan(!Matched::BigFloat) at mpfr.jl:893\n  isnan(!Matched::Missing) at missing.jl:100\n  isnan(!Matched::Float16) at float.jl:537\n  ...",
      "",
      "Stacktrace:",
      " [1] _any(::typeof(isnan), ::SubArray{Operation,2,Array{Operation,3},Tuple{Base.Slice{Base.OneTo{Int64}},Base.Slice{Base.OneTo{Int64}},Int64},true}, ::Colon) at ./reduce.jl:773",
      " [2] #any#592 at ./reducedim.jl:662 [inlined]",
      " [3] any at ./reducedim.jl:662 [inlined]",
      " [4] filter_algorithm at /Users/niallcullinane/.julia/packages/ImageFiltering/eH8Od/src/imfilter.jl:1538 [inlined]",
      " [5] imfilter!(::SubArray{Operation,2,Array{Operation,3},Tuple{Base.Slice{Base.OneTo{Int64}},Base.Slice{Base.OneTo{Int64}},Int64},true}, ::SubArray{Operation,2,Array{Operation,3},Tuple{Base.Slice{Base.OneTo{Int64}},Base.Slice{Base.OneTo{Int64}},Int64},true}, ::Tuple{OffsetArrays.OffsetArray{Float32,2,Array{Float32,2}}}, ::Pad{0}) at /Users/niallcullinane/.julia/packages/ImageFiltering/eH8Od/src/imfilter.jl:606",
      " [6] imfilter! at /Users/niallcullinane/.julia/packages/ImageFiltering/eH8Od/src/imfilter.jl:597 [inlined]",
      " [7] fun_H_z!(::Array{Operation,3}, ::SubArray{Operation,3,Array{Operation,3},Tuple{Base.Slice{Base.OneTo{Int64}},Base.Slice{Base.OneTo{Int64}},UnitRange{Int64}},true}, ::NamedTuple{(:K, :δ_v, :δ_c, :δ_m, :δ_z, :δ_s, :σ_1, :C_1, :C_2, :σ_2, :γ, :α, :ϕ, :Γ, :v_21, :μ, :ν, :n, :att, :η_p, :η_m, :λ, :a_23_ex, :a_23_in, :v12_6, :v12_4, :ψ, :C_AB_l, :H_σ_x, :H_σ_y, :H_fact, :H_l, :T_fact, :T_p_m, :T_v2_fact, :H_size, :W_size, :lgn_equ_u, :lgn_equ_A, :lgn_equ_B, :filling, :k_gauss_1, :k_gauss_2, :k_C_d, :k_C_b, :k_W_p, :k_W_m, :k_H, :k_T_p, :k_T_m, :k_T_p_v2, :k_T_m_v2, :dim_i, :dim_j, :x_V2, :I, :r),Tuple{Int64,Float32,Float32,Float32,Float32,Float32,Float32,Float32,Float32,Float32,Float32,Float32,Float32,Float32,Float32,Float32,Float32,Float32,Float32,Float32,Float32,Float32,Float32,Float32,Float32,Float32,Float32,Int64,Float32,Float32,Float32,Int64,Array{Float32,1},Float32,Float32,Int64,Int64,Float32,Float32,Float32,String,OffsetArrays.OffsetArray{Float32,2,Array{Float32,2}},OffsetArrays.OffsetArray{Float32,2,Array{Float32,2}},Array{Float32,3},Array{Float32,3},OffsetArrays.OffsetArray{Float32,4,Array{Float32,4}},OffsetArrays.OffsetArray{Float32,4,Array{Float32,4}},OffsetArrays.OffsetArray{Float32,3,Array{Float32,3}},Array{Float32,3},Array{Float32,3},Array{Float32,3},Array{Float32,3},Int64,Int64,Array{Float32,3},Array{Float32,2},Array{Float32,2}}}) at /Users/niallcullinane/.julia/dev/MEngProject/src/Laminart.jl:374",
      " [8] f!(::Array{Operation,3}, ::Array{Operation,3}, ::NamedTuple{(:K, :δ_v, :δ_c, :δ_m, :δ_z, :δ_s, :σ_1, :C_1, :C_2, :σ_2, :γ, :α, :ϕ, :Γ, :v_21, :μ, :ν, :n, :att, :η_p, :η_m, :λ, :a_23_ex, :a_23_in, :v12_6, :v12_4, :ψ, :C_AB_l, :H_σ_x, :H_σ_y, :H_fact, :H_l, :T_fact, :T_p_m, :T_v2_fact, :H_size, :W_size, :lgn_equ_u, :lgn_equ_A, :lgn_equ_B, :filling, :k_gauss_1, :k_gauss_2, :k_C_d, :k_C_b, :k_W_p, :k_W_m, :k_H, :k_T_p, :k_T_m, :k_T_p_v2, :k_T_m_v2, :dim_i, :dim_j, :x_V2, :I, :r),Tuple{Int64,Float32,Float32,Float32,Float32,Float32,Float32,Float32,Float32,Float32,Float32,Float32,Float32,Float32,Float32,Float32,Float32,Float32,Float32,Float32,Float32,Float32,Float32,Float32,Float32,Float32,Float32,Int64,Float32,Float32,Float32,Int64,Array{Float32,1},Float32,Float32,Int64,Int64,Float32,Float32,Float32,String,OffsetArrays.OffsetArray{Float32,2,Array{Float32,2}},OffsetArrays.OffsetArray{Float32,2,Array{Float32,2}},Array{Float32,3},Array{Float32,3},OffsetArrays.OffsetArray{Float32,4,Array{Float32,4}},OffsetArrays.OffsetArray{Float32,4,Array{Float32,4}},OffsetArrays.OffsetArray{Float32,3,Array{Float32,3}},Array{Float32,3},Array{Float32,3},Array{Float32,3},Array{Float32,3},Int64,Int64,Array{Float32,3},Array{Float32,2},Array{Float32,2}}}, ::Float64) at /Users/niallcullinane/.julia/dev/MEngProject/src/Laminart.jl:57",
      " [9] top-level scope at In[39]:3"
     ]
    }
   ],
   "source": [
    "# @parameters t \n",
    "@variables du[1:p.dim_i, 1:p.dim_j, 1:5*p.K+2] u[1:p.dim_i, 1:p.dim_j, 1:5*p.K+2] x_lgn[1:p.dim_i, 1:p.dim_j] C[1:p.dim_i, 1:p.dim_j, 1:p.K] H_z[1:p.dim_i, 1:p.dim_j, 1:p.K]; \n",
    "Laminart.f!(du,u,p,0.0);"
   ]
  },
  {
   "cell_type": "code",
   "execution_count": 33,
   "metadata": {},
   "outputs": [
    {
     "data": {
      "text/plain": [
       "100×100×2 Array{Float64,3}:\n",
       "[:, :, 1] =\n",
       " 0.0  0.0  0.0  0.0  0.0  0.0  0.0  0.0  …  0.0  0.0  0.0  0.0  0.0  0.0  0.0\n",
       " 0.0  0.0  0.0  0.0  0.0  0.0  0.0  0.0     0.0  0.0  0.0  0.0  0.0  0.0  0.0\n",
       " 0.0  0.0  0.0  0.0  0.0  0.0  0.0  0.0     0.0  0.0  0.0  0.0  0.0  0.0  0.0\n",
       " 0.0  0.0  0.0  0.0  0.0  0.0  0.0  0.0     0.0  0.0  0.0  0.0  0.0  0.0  0.0\n",
       " 0.0  0.0  0.0  0.0  0.0  0.0  0.0  0.0     0.0  0.0  0.0  0.0  0.0  0.0  0.0\n",
       " 0.0  0.0  0.0  0.0  0.0  0.0  0.0  0.0  …  0.0  0.0  0.0  0.0  0.0  0.0  0.0\n",
       " 0.0  0.0  0.0  0.0  0.0  0.0  0.0  0.0     0.0  0.0  0.0  0.0  0.0  0.0  0.0\n",
       " 0.0  0.0  0.0  0.0  0.0  0.0  0.0  0.0     0.0  0.0  0.0  0.0  0.0  0.0  0.0\n",
       " 0.0  0.0  0.0  0.0  0.0  0.0  0.0  0.0     0.0  0.0  0.0  0.0  0.0  0.0  0.0\n",
       " 0.0  0.0  0.0  0.0  0.0  0.0  0.0  0.0     0.0  0.0  0.0  0.0  0.0  0.0  0.0\n",
       " 0.0  0.0  0.0  0.0  0.0  0.0  0.0  0.0  …  0.0  0.0  0.0  0.0  0.0  0.0  0.0\n",
       " 0.0  0.0  0.0  0.0  0.0  0.0  0.0  0.0     0.0  0.0  0.0  0.0  0.0  0.0  0.0\n",
       " 0.0  0.0  0.0  0.0  0.0  0.0  0.0  0.0     0.0  0.0  0.0  0.0  0.0  0.0  0.0\n",
       " ⋮                        ⋮              ⋱            ⋮                   \n",
       " 0.0  0.0  0.0  0.0  0.0  0.0  0.0  0.0     0.0  0.0  0.0  0.0  0.0  0.0  0.0\n",
       " 0.0  0.0  0.0  0.0  0.0  0.0  0.0  0.0     0.0  0.0  0.0  0.0  0.0  0.0  0.0\n",
       " 0.0  0.0  0.0  0.0  0.0  0.0  0.0  0.0  …  0.0  0.0  0.0  0.0  0.0  0.0  0.0\n",
       " 0.0  0.0  0.0  0.0  0.0  0.0  0.0  0.0     0.0  0.0  0.0  0.0  0.0  0.0  0.0\n",
       " 0.0  0.0  0.0  0.0  0.0  0.0  0.0  0.0     0.0  0.0  0.0  0.0  0.0  0.0  0.0\n",
       " 0.0  0.0  0.0  0.0  0.0  0.0  0.0  0.0     0.0  0.0  0.0  0.0  0.0  0.0  0.0\n",
       " 0.0  0.0  0.0  0.0  0.0  0.0  0.0  0.0     0.0  0.0  0.0  0.0  0.0  0.0  0.0\n",
       " 0.0  0.0  0.0  0.0  0.0  0.0  0.0  0.0  …  0.0  0.0  0.0  0.0  0.0  0.0  0.0\n",
       " 0.0  0.0  0.0  0.0  0.0  0.0  0.0  0.0     0.0  0.0  0.0  0.0  0.0  0.0  0.0\n",
       " 0.0  0.0  0.0  0.0  0.0  0.0  0.0  0.0     0.0  0.0  0.0  0.0  0.0  0.0  0.0\n",
       " 0.0  0.0  0.0  0.0  0.0  0.0  0.0  0.0     0.0  0.0  0.0  0.0  0.0  0.0  0.0\n",
       " 0.0  0.0  0.0  0.0  0.0  0.0  0.0  0.0     0.0  0.0  0.0  0.0  0.0  0.0  0.0\n",
       "\n",
       "[:, :, 2] =\n",
       " -0.0  -0.0  -0.0  -0.0  -0.0  -0.0  …  -0.0  -0.0  -0.0  -0.0  -0.0  -0.0\n",
       " -0.0  -0.0  -0.0  -0.0  -0.0  -0.0     -0.0  -0.0  -0.0  -0.0  -0.0  -0.0\n",
       " -0.0  -0.0  -0.0  -0.0  -0.0  -0.0     -0.0  -0.0  -0.0  -0.0  -0.0  -0.0\n",
       " -0.0  -0.0  -0.0  -0.0  -0.0  -0.0     -0.0  -0.0  -0.0  -0.0  -0.0  -0.0\n",
       " -0.0  -0.0  -0.0  -0.0  -0.0  -0.0     -0.0  -0.0  -0.0  -0.0  -0.0  -0.0\n",
       " -0.0  -0.0  -0.0  -0.0  -0.0  -0.0  …  -0.0  -0.0  -0.0  -0.0  -0.0  -0.0\n",
       " -0.0  -0.0  -0.0  -0.0  -0.0  -0.0     -0.0  -0.0  -0.0  -0.0  -0.0  -0.0\n",
       " -0.0  -0.0  -0.0  -0.0  -0.0  -0.0     -0.0  -0.0  -0.0  -0.0  -0.0  -0.0\n",
       " -0.0  -0.0  -0.0  -0.0  -0.0  -0.0     -0.0  -0.0  -0.0  -0.0  -0.0  -0.0\n",
       " -0.0  -0.0  -0.0  -0.0  -0.0  -0.0     -0.0  -0.0  -0.0  -0.0  -0.0  -0.0\n",
       " -0.0  -0.0  -0.0  -0.0  -0.0  -0.0  …  -0.0  -0.0  -0.0  -0.0  -0.0  -0.0\n",
       " -0.0  -0.0  -0.0  -0.0  -0.0  -0.0     -0.0  -0.0  -0.0  -0.0  -0.0  -0.0\n",
       " -0.0  -0.0  -0.0  -0.0  -0.0  -0.0     -0.0  -0.0  -0.0  -0.0  -0.0  -0.0\n",
       "  ⋮                             ⋮    ⋱         ⋮                      \n",
       " -0.0  -0.0  -0.0  -0.0  -0.0  -0.0     -0.0  -0.0  -0.0  -0.0  -0.0  -0.0\n",
       " -0.0  -0.0  -0.0  -0.0  -0.0  -0.0     -0.0  -0.0  -0.0  -0.0  -0.0  -0.0\n",
       " -0.0  -0.0  -0.0  -0.0  -0.0  -0.0  …  -0.0  -0.0  -0.0  -0.0  -0.0  -0.0\n",
       " -0.0  -0.0  -0.0  -0.0  -0.0  -0.0     -0.0  -0.0  -0.0  -0.0  -0.0  -0.0\n",
       " -0.0  -0.0  -0.0  -0.0  -0.0  -0.0     -0.0  -0.0  -0.0  -0.0  -0.0  -0.0\n",
       " -0.0  -0.0  -0.0  -0.0  -0.0  -0.0     -0.0  -0.0  -0.0  -0.0  -0.0  -0.0\n",
       " -0.0  -0.0  -0.0  -0.0  -0.0  -0.0     -0.0  -0.0  -0.0  -0.0  -0.0  -0.0\n",
       " -0.0  -0.0  -0.0  -0.0  -0.0  -0.0  …  -0.0  -0.0  -0.0  -0.0  -0.0  -0.0\n",
       " -0.0  -0.0  -0.0  -0.0  -0.0  -0.0     -0.0  -0.0  -0.0  -0.0  -0.0  -0.0\n",
       " -0.0  -0.0  -0.0  -0.0  -0.0  -0.0     -0.0  -0.0  -0.0  -0.0  -0.0  -0.0\n",
       " -0.0  -0.0  -0.0  -0.0  -0.0  -0.0     -0.0  -0.0  -0.0  -0.0  -0.0  -0.0\n",
       " -0.0  -0.0  -0.0  -0.0  -0.0  -0.0     -0.0  -0.0  -0.0  -0.0  -0.0  -0.0"
      ]
     },
     "execution_count": 33,
     "metadata": {},
     "output_type": "execute_result"
    }
   ],
   "source": [
    "z"
   ]
  },
  {
   "cell_type": "code",
   "execution_count": 34,
   "metadata": {},
   "outputs": [
    {
     "data": {
      "text/plain": [
       "100×100×2 view(::Array{Operation,3}, :, :, 7:8) with eltype Operation:\n",
       "[:, :, 1] =\n",
       "   u₁ˏ₁ˏ₇    u₁ˏ₂ˏ₇    u₁ˏ₃ˏ₇    u₁ˏ₄ˏ₇  …    u₁ˏ₉₈ˏ₇    u₁ˏ₉₉ˏ₇    u₁ˏ₁₀₀ˏ₇\n",
       "   u₂ˏ₁ˏ₇    u₂ˏ₂ˏ₇    u₂ˏ₃ˏ₇    u₂ˏ₄ˏ₇       u₂ˏ₉₈ˏ₇    u₂ˏ₉₉ˏ₇    u₂ˏ₁₀₀ˏ₇\n",
       "   u₃ˏ₁ˏ₇    u₃ˏ₂ˏ₇    u₃ˏ₃ˏ₇    u₃ˏ₄ˏ₇       u₃ˏ₉₈ˏ₇    u₃ˏ₉₉ˏ₇    u₃ˏ₁₀₀ˏ₇\n",
       "   u₄ˏ₁ˏ₇    u₄ˏ₂ˏ₇    u₄ˏ₃ˏ₇    u₄ˏ₄ˏ₇       u₄ˏ₉₈ˏ₇    u₄ˏ₉₉ˏ₇    u₄ˏ₁₀₀ˏ₇\n",
       "   u₅ˏ₁ˏ₇    u₅ˏ₂ˏ₇    u₅ˏ₃ˏ₇    u₅ˏ₄ˏ₇       u₅ˏ₉₈ˏ₇    u₅ˏ₉₉ˏ₇    u₅ˏ₁₀₀ˏ₇\n",
       "   u₆ˏ₁ˏ₇    u₆ˏ₂ˏ₇    u₆ˏ₃ˏ₇    u₆ˏ₄ˏ₇  …    u₆ˏ₉₈ˏ₇    u₆ˏ₉₉ˏ₇    u₆ˏ₁₀₀ˏ₇\n",
       "   u₇ˏ₁ˏ₇    u₇ˏ₂ˏ₇    u₇ˏ₃ˏ₇    u₇ˏ₄ˏ₇       u₇ˏ₉₈ˏ₇    u₇ˏ₉₉ˏ₇    u₇ˏ₁₀₀ˏ₇\n",
       "   u₈ˏ₁ˏ₇    u₈ˏ₂ˏ₇    u₈ˏ₃ˏ₇    u₈ˏ₄ˏ₇       u₈ˏ₉₈ˏ₇    u₈ˏ₉₉ˏ₇    u₈ˏ₁₀₀ˏ₇\n",
       "   u₉ˏ₁ˏ₇    u₉ˏ₂ˏ₇    u₉ˏ₃ˏ₇    u₉ˏ₄ˏ₇       u₉ˏ₉₈ˏ₇    u₉ˏ₉₉ˏ₇    u₉ˏ₁₀₀ˏ₇\n",
       "  u₁₀ˏ₁ˏ₇   u₁₀ˏ₂ˏ₇   u₁₀ˏ₃ˏ₇   u₁₀ˏ₄ˏ₇      u₁₀ˏ₉₈ˏ₇   u₁₀ˏ₉₉ˏ₇   u₁₀ˏ₁₀₀ˏ₇\n",
       "  u₁₁ˏ₁ˏ₇   u₁₁ˏ₂ˏ₇   u₁₁ˏ₃ˏ₇   u₁₁ˏ₄ˏ₇  …   u₁₁ˏ₉₈ˏ₇   u₁₁ˏ₉₉ˏ₇   u₁₁ˏ₁₀₀ˏ₇\n",
       "  u₁₂ˏ₁ˏ₇   u₁₂ˏ₂ˏ₇   u₁₂ˏ₃ˏ₇   u₁₂ˏ₄ˏ₇      u₁₂ˏ₉₈ˏ₇   u₁₂ˏ₉₉ˏ₇   u₁₂ˏ₁₀₀ˏ₇\n",
       "  u₁₃ˏ₁ˏ₇   u₁₃ˏ₂ˏ₇   u₁₃ˏ₃ˏ₇   u₁₃ˏ₄ˏ₇      u₁₃ˏ₉₈ˏ₇   u₁₃ˏ₉₉ˏ₇   u₁₃ˏ₁₀₀ˏ₇\n",
       "        ⋮                                ⋱                        \n",
       "  u₈₉ˏ₁ˏ₇   u₈₉ˏ₂ˏ₇   u₈₉ˏ₃ˏ₇   u₈₉ˏ₄ˏ₇      u₈₉ˏ₉₈ˏ₇   u₈₉ˏ₉₉ˏ₇   u₈₉ˏ₁₀₀ˏ₇\n",
       "  u₉₀ˏ₁ˏ₇   u₉₀ˏ₂ˏ₇   u₉₀ˏ₃ˏ₇   u₉₀ˏ₄ˏ₇      u₉₀ˏ₉₈ˏ₇   u₉₀ˏ₉₉ˏ₇   u₉₀ˏ₁₀₀ˏ₇\n",
       "  u₉₁ˏ₁ˏ₇   u₉₁ˏ₂ˏ₇   u₉₁ˏ₃ˏ₇   u₉₁ˏ₄ˏ₇  …   u₉₁ˏ₉₈ˏ₇   u₉₁ˏ₉₉ˏ₇   u₉₁ˏ₁₀₀ˏ₇\n",
       "  u₉₂ˏ₁ˏ₇   u₉₂ˏ₂ˏ₇   u₉₂ˏ₃ˏ₇   u₉₂ˏ₄ˏ₇      u₉₂ˏ₉₈ˏ₇   u₉₂ˏ₉₉ˏ₇   u₉₂ˏ₁₀₀ˏ₇\n",
       "  u₉₃ˏ₁ˏ₇   u₉₃ˏ₂ˏ₇   u₉₃ˏ₃ˏ₇   u₉₃ˏ₄ˏ₇      u₉₃ˏ₉₈ˏ₇   u₉₃ˏ₉₉ˏ₇   u₉₃ˏ₁₀₀ˏ₇\n",
       "  u₉₄ˏ₁ˏ₇   u₉₄ˏ₂ˏ₇   u₉₄ˏ₃ˏ₇   u₉₄ˏ₄ˏ₇      u₉₄ˏ₉₈ˏ₇   u₉₄ˏ₉₉ˏ₇   u₉₄ˏ₁₀₀ˏ₇\n",
       "  u₉₅ˏ₁ˏ₇   u₉₅ˏ₂ˏ₇   u₉₅ˏ₃ˏ₇   u₉₅ˏ₄ˏ₇      u₉₅ˏ₉₈ˏ₇   u₉₅ˏ₉₉ˏ₇   u₉₅ˏ₁₀₀ˏ₇\n",
       "  u₉₆ˏ₁ˏ₇   u₉₆ˏ₂ˏ₇   u₉₆ˏ₃ˏ₇   u₉₆ˏ₄ˏ₇  …   u₉₆ˏ₉₈ˏ₇   u₉₆ˏ₉₉ˏ₇   u₉₆ˏ₁₀₀ˏ₇\n",
       "  u₉₇ˏ₁ˏ₇   u₉₇ˏ₂ˏ₇   u₉₇ˏ₃ˏ₇   u₉₇ˏ₄ˏ₇      u₉₇ˏ₉₈ˏ₇   u₉₇ˏ₉₉ˏ₇   u₉₇ˏ₁₀₀ˏ₇\n",
       "  u₉₈ˏ₁ˏ₇   u₉₈ˏ₂ˏ₇   u₉₈ˏ₃ˏ₇   u₉₈ˏ₄ˏ₇      u₉₈ˏ₉₈ˏ₇   u₉₈ˏ₉₉ˏ₇   u₉₈ˏ₁₀₀ˏ₇\n",
       "  u₉₉ˏ₁ˏ₇   u₉₉ˏ₂ˏ₇   u₉₉ˏ₃ˏ₇   u₉₉ˏ₄ˏ₇      u₉₉ˏ₉₈ˏ₇   u₉₉ˏ₉₉ˏ₇   u₉₉ˏ₁₀₀ˏ₇\n",
       " u₁₀₀ˏ₁ˏ₇  u₁₀₀ˏ₂ˏ₇  u₁₀₀ˏ₃ˏ₇  u₁₀₀ˏ₄ˏ₇     u₁₀₀ˏ₉₈ˏ₇  u₁₀₀ˏ₉₉ˏ₇  u₁₀₀ˏ₁₀₀ˏ₇\n",
       "\n",
       "[:, :, 2] =\n",
       "   u₁ˏ₁ˏ₈    u₁ˏ₂ˏ₈    u₁ˏ₃ˏ₈    u₁ˏ₄ˏ₈  …    u₁ˏ₉₈ˏ₈    u₁ˏ₉₉ˏ₈    u₁ˏ₁₀₀ˏ₈\n",
       "   u₂ˏ₁ˏ₈    u₂ˏ₂ˏ₈    u₂ˏ₃ˏ₈    u₂ˏ₄ˏ₈       u₂ˏ₉₈ˏ₈    u₂ˏ₉₉ˏ₈    u₂ˏ₁₀₀ˏ₈\n",
       "   u₃ˏ₁ˏ₈    u₃ˏ₂ˏ₈    u₃ˏ₃ˏ₈    u₃ˏ₄ˏ₈       u₃ˏ₉₈ˏ₈    u₃ˏ₉₉ˏ₈    u₃ˏ₁₀₀ˏ₈\n",
       "   u₄ˏ₁ˏ₈    u₄ˏ₂ˏ₈    u₄ˏ₃ˏ₈    u₄ˏ₄ˏ₈       u₄ˏ₉₈ˏ₈    u₄ˏ₉₉ˏ₈    u₄ˏ₁₀₀ˏ₈\n",
       "   u₅ˏ₁ˏ₈    u₅ˏ₂ˏ₈    u₅ˏ₃ˏ₈    u₅ˏ₄ˏ₈       u₅ˏ₉₈ˏ₈    u₅ˏ₉₉ˏ₈    u₅ˏ₁₀₀ˏ₈\n",
       "   u₆ˏ₁ˏ₈    u₆ˏ₂ˏ₈    u₆ˏ₃ˏ₈    u₆ˏ₄ˏ₈  …    u₆ˏ₉₈ˏ₈    u₆ˏ₉₉ˏ₈    u₆ˏ₁₀₀ˏ₈\n",
       "   u₇ˏ₁ˏ₈    u₇ˏ₂ˏ₈    u₇ˏ₃ˏ₈    u₇ˏ₄ˏ₈       u₇ˏ₉₈ˏ₈    u₇ˏ₉₉ˏ₈    u₇ˏ₁₀₀ˏ₈\n",
       "   u₈ˏ₁ˏ₈    u₈ˏ₂ˏ₈    u₈ˏ₃ˏ₈    u₈ˏ₄ˏ₈       u₈ˏ₉₈ˏ₈    u₈ˏ₉₉ˏ₈    u₈ˏ₁₀₀ˏ₈\n",
       "   u₉ˏ₁ˏ₈    u₉ˏ₂ˏ₈    u₉ˏ₃ˏ₈    u₉ˏ₄ˏ₈       u₉ˏ₉₈ˏ₈    u₉ˏ₉₉ˏ₈    u₉ˏ₁₀₀ˏ₈\n",
       "  u₁₀ˏ₁ˏ₈   u₁₀ˏ₂ˏ₈   u₁₀ˏ₃ˏ₈   u₁₀ˏ₄ˏ₈      u₁₀ˏ₉₈ˏ₈   u₁₀ˏ₉₉ˏ₈   u₁₀ˏ₁₀₀ˏ₈\n",
       "  u₁₁ˏ₁ˏ₈   u₁₁ˏ₂ˏ₈   u₁₁ˏ₃ˏ₈   u₁₁ˏ₄ˏ₈  …   u₁₁ˏ₉₈ˏ₈   u₁₁ˏ₉₉ˏ₈   u₁₁ˏ₁₀₀ˏ₈\n",
       "  u₁₂ˏ₁ˏ₈   u₁₂ˏ₂ˏ₈   u₁₂ˏ₃ˏ₈   u₁₂ˏ₄ˏ₈      u₁₂ˏ₉₈ˏ₈   u₁₂ˏ₉₉ˏ₈   u₁₂ˏ₁₀₀ˏ₈\n",
       "  u₁₃ˏ₁ˏ₈   u₁₃ˏ₂ˏ₈   u₁₃ˏ₃ˏ₈   u₁₃ˏ₄ˏ₈      u₁₃ˏ₉₈ˏ₈   u₁₃ˏ₉₉ˏ₈   u₁₃ˏ₁₀₀ˏ₈\n",
       "        ⋮                                ⋱                        \n",
       "  u₈₉ˏ₁ˏ₈   u₈₉ˏ₂ˏ₈   u₈₉ˏ₃ˏ₈   u₈₉ˏ₄ˏ₈      u₈₉ˏ₉₈ˏ₈   u₈₉ˏ₉₉ˏ₈   u₈₉ˏ₁₀₀ˏ₈\n",
       "  u₉₀ˏ₁ˏ₈   u₉₀ˏ₂ˏ₈   u₉₀ˏ₃ˏ₈   u₉₀ˏ₄ˏ₈      u₉₀ˏ₉₈ˏ₈   u₉₀ˏ₉₉ˏ₈   u₉₀ˏ₁₀₀ˏ₈\n",
       "  u₉₁ˏ₁ˏ₈   u₉₁ˏ₂ˏ₈   u₉₁ˏ₃ˏ₈   u₉₁ˏ₄ˏ₈  …   u₉₁ˏ₉₈ˏ₈   u₉₁ˏ₉₉ˏ₈   u₉₁ˏ₁₀₀ˏ₈\n",
       "  u₉₂ˏ₁ˏ₈   u₉₂ˏ₂ˏ₈   u₉₂ˏ₃ˏ₈   u₉₂ˏ₄ˏ₈      u₉₂ˏ₉₈ˏ₈   u₉₂ˏ₉₉ˏ₈   u₉₂ˏ₁₀₀ˏ₈\n",
       "  u₉₃ˏ₁ˏ₈   u₉₃ˏ₂ˏ₈   u₉₃ˏ₃ˏ₈   u₉₃ˏ₄ˏ₈      u₉₃ˏ₉₈ˏ₈   u₉₃ˏ₉₉ˏ₈   u₉₃ˏ₁₀₀ˏ₈\n",
       "  u₉₄ˏ₁ˏ₈   u₉₄ˏ₂ˏ₈   u₉₄ˏ₃ˏ₈   u₉₄ˏ₄ˏ₈      u₉₄ˏ₉₈ˏ₈   u₉₄ˏ₉₉ˏ₈   u₉₄ˏ₁₀₀ˏ₈\n",
       "  u₉₅ˏ₁ˏ₈   u₉₅ˏ₂ˏ₈   u₉₅ˏ₃ˏ₈   u₉₅ˏ₄ˏ₈      u₉₅ˏ₉₈ˏ₈   u₉₅ˏ₉₉ˏ₈   u₉₅ˏ₁₀₀ˏ₈\n",
       "  u₉₆ˏ₁ˏ₈   u₉₆ˏ₂ˏ₈   u₉₆ˏ₃ˏ₈   u₉₆ˏ₄ˏ₈  …   u₉₆ˏ₉₈ˏ₈   u₉₆ˏ₉₉ˏ₈   u₉₆ˏ₁₀₀ˏ₈\n",
       "  u₉₇ˏ₁ˏ₈   u₉₇ˏ₂ˏ₈   u₉₇ˏ₃ˏ₈   u₉₇ˏ₄ˏ₈      u₉₇ˏ₉₈ˏ₈   u₉₇ˏ₉₉ˏ₈   u₉₇ˏ₁₀₀ˏ₈\n",
       "  u₉₈ˏ₁ˏ₈   u₉₈ˏ₂ˏ₈   u₉₈ˏ₃ˏ₈   u₉₈ˏ₄ˏ₈      u₉₈ˏ₉₈ˏ₈   u₉₈ˏ₉₉ˏ₈   u₉₈ˏ₁₀₀ˏ₈\n",
       "  u₉₉ˏ₁ˏ₈   u₉₉ˏ₂ˏ₈   u₉₉ˏ₃ˏ₈   u₉₉ˏ₄ˏ₈      u₉₉ˏ₉₈ˏ₈   u₉₉ˏ₉₉ˏ₈   u₉₉ˏ₁₀₀ˏ₈\n",
       " u₁₀₀ˏ₁ˏ₈  u₁₀₀ˏ₂ˏ₈  u₁₀₀ˏ₃ˏ₈  u₁₀₀ˏ₄ˏ₈     u₁₀₀ˏ₉₈ˏ₈  u₁₀₀ˏ₉₉ˏ₈  u₁₀₀ˏ₁₀₀ˏ₈"
      ]
     },
     "execution_count": 34,
     "metadata": {},
     "output_type": "execute_result"
    }
   ],
   "source": [
    "@view u[:, :, 3*p.K+1:4*p.K]"
   ]
  },
  {
   "cell_type": "code",
   "execution_count": 35,
   "metadata": {},
   "outputs": [
    {
     "data": {
      "text/plain": [
       "100×100×2 view(::Array{Operation,3}, :, :, 7:8) with eltype Operation:\n",
       "[:, :, 1] =\n",
       "   du₁ˏ₁ˏ₇    du₁ˏ₂ˏ₇    du₁ˏ₃ˏ₇  …    du₁ˏ₉₈ˏ₇    du₁ˏ₉₉ˏ₇    du₁ˏ₁₀₀ˏ₇\n",
       "   du₂ˏ₁ˏ₇    du₂ˏ₂ˏ₇    du₂ˏ₃ˏ₇       du₂ˏ₉₈ˏ₇    du₂ˏ₉₉ˏ₇    du₂ˏ₁₀₀ˏ₇\n",
       "   du₃ˏ₁ˏ₇    du₃ˏ₂ˏ₇    du₃ˏ₃ˏ₇       du₃ˏ₉₈ˏ₇    du₃ˏ₉₉ˏ₇    du₃ˏ₁₀₀ˏ₇\n",
       "   du₄ˏ₁ˏ₇    du₄ˏ₂ˏ₇    du₄ˏ₃ˏ₇       du₄ˏ₉₈ˏ₇    du₄ˏ₉₉ˏ₇    du₄ˏ₁₀₀ˏ₇\n",
       "   du₅ˏ₁ˏ₇    du₅ˏ₂ˏ₇    du₅ˏ₃ˏ₇       du₅ˏ₉₈ˏ₇    du₅ˏ₉₉ˏ₇    du₅ˏ₁₀₀ˏ₇\n",
       "   du₆ˏ₁ˏ₇    du₆ˏ₂ˏ₇    du₆ˏ₃ˏ₇  …    du₆ˏ₉₈ˏ₇    du₆ˏ₉₉ˏ₇    du₆ˏ₁₀₀ˏ₇\n",
       "   du₇ˏ₁ˏ₇    du₇ˏ₂ˏ₇    du₇ˏ₃ˏ₇       du₇ˏ₉₈ˏ₇    du₇ˏ₉₉ˏ₇    du₇ˏ₁₀₀ˏ₇\n",
       "   du₈ˏ₁ˏ₇    du₈ˏ₂ˏ₇    du₈ˏ₃ˏ₇       du₈ˏ₉₈ˏ₇    du₈ˏ₉₉ˏ₇    du₈ˏ₁₀₀ˏ₇\n",
       "   du₉ˏ₁ˏ₇    du₉ˏ₂ˏ₇    du₉ˏ₃ˏ₇       du₉ˏ₉₈ˏ₇    du₉ˏ₉₉ˏ₇    du₉ˏ₁₀₀ˏ₇\n",
       "  du₁₀ˏ₁ˏ₇   du₁₀ˏ₂ˏ₇   du₁₀ˏ₃ˏ₇      du₁₀ˏ₉₈ˏ₇   du₁₀ˏ₉₉ˏ₇   du₁₀ˏ₁₀₀ˏ₇\n",
       "  du₁₁ˏ₁ˏ₇   du₁₁ˏ₂ˏ₇   du₁₁ˏ₃ˏ₇  …   du₁₁ˏ₉₈ˏ₇   du₁₁ˏ₉₉ˏ₇   du₁₁ˏ₁₀₀ˏ₇\n",
       "  du₁₂ˏ₁ˏ₇   du₁₂ˏ₂ˏ₇   du₁₂ˏ₃ˏ₇      du₁₂ˏ₉₈ˏ₇   du₁₂ˏ₉₉ˏ₇   du₁₂ˏ₁₀₀ˏ₇\n",
       "  du₁₃ˏ₁ˏ₇   du₁₃ˏ₂ˏ₇   du₁₃ˏ₃ˏ₇      du₁₃ˏ₉₈ˏ₇   du₁₃ˏ₉₉ˏ₇   du₁₃ˏ₁₀₀ˏ₇\n",
       "         ⋮                        ⋱                          \n",
       "  du₈₉ˏ₁ˏ₇   du₈₉ˏ₂ˏ₇   du₈₉ˏ₃ˏ₇      du₈₉ˏ₉₈ˏ₇   du₈₉ˏ₉₉ˏ₇   du₈₉ˏ₁₀₀ˏ₇\n",
       "  du₉₀ˏ₁ˏ₇   du₉₀ˏ₂ˏ₇   du₉₀ˏ₃ˏ₇      du₉₀ˏ₉₈ˏ₇   du₉₀ˏ₉₉ˏ₇   du₉₀ˏ₁₀₀ˏ₇\n",
       "  du₉₁ˏ₁ˏ₇   du₉₁ˏ₂ˏ₇   du₉₁ˏ₃ˏ₇  …   du₉₁ˏ₉₈ˏ₇   du₉₁ˏ₉₉ˏ₇   du₉₁ˏ₁₀₀ˏ₇\n",
       "  du₉₂ˏ₁ˏ₇   du₉₂ˏ₂ˏ₇   du₉₂ˏ₃ˏ₇      du₉₂ˏ₉₈ˏ₇   du₉₂ˏ₉₉ˏ₇   du₉₂ˏ₁₀₀ˏ₇\n",
       "  du₉₃ˏ₁ˏ₇   du₉₃ˏ₂ˏ₇   du₉₃ˏ₃ˏ₇      du₉₃ˏ₉₈ˏ₇   du₉₃ˏ₉₉ˏ₇   du₉₃ˏ₁₀₀ˏ₇\n",
       "  du₉₄ˏ₁ˏ₇   du₉₄ˏ₂ˏ₇   du₉₄ˏ₃ˏ₇      du₉₄ˏ₉₈ˏ₇   du₉₄ˏ₉₉ˏ₇   du₉₄ˏ₁₀₀ˏ₇\n",
       "  du₉₅ˏ₁ˏ₇   du₉₅ˏ₂ˏ₇   du₉₅ˏ₃ˏ₇      du₉₅ˏ₉₈ˏ₇   du₉₅ˏ₉₉ˏ₇   du₉₅ˏ₁₀₀ˏ₇\n",
       "  du₉₆ˏ₁ˏ₇   du₉₆ˏ₂ˏ₇   du₉₆ˏ₃ˏ₇  …   du₉₆ˏ₉₈ˏ₇   du₉₆ˏ₉₉ˏ₇   du₉₆ˏ₁₀₀ˏ₇\n",
       "  du₉₇ˏ₁ˏ₇   du₉₇ˏ₂ˏ₇   du₉₇ˏ₃ˏ₇      du₉₇ˏ₉₈ˏ₇   du₉₇ˏ₉₉ˏ₇   du₉₇ˏ₁₀₀ˏ₇\n",
       "  du₉₈ˏ₁ˏ₇   du₉₈ˏ₂ˏ₇   du₉₈ˏ₃ˏ₇      du₉₈ˏ₉₈ˏ₇   du₉₈ˏ₉₉ˏ₇   du₉₈ˏ₁₀₀ˏ₇\n",
       "  du₉₉ˏ₁ˏ₇   du₉₉ˏ₂ˏ₇   du₉₉ˏ₃ˏ₇      du₉₉ˏ₉₈ˏ₇   du₉₉ˏ₉₉ˏ₇   du₉₉ˏ₁₀₀ˏ₇\n",
       " du₁₀₀ˏ₁ˏ₇  du₁₀₀ˏ₂ˏ₇  du₁₀₀ˏ₃ˏ₇     du₁₀₀ˏ₉₈ˏ₇  du₁₀₀ˏ₉₉ˏ₇  du₁₀₀ˏ₁₀₀ˏ₇\n",
       "\n",
       "[:, :, 2] =\n",
       "   du₁ˏ₁ˏ₈    du₁ˏ₂ˏ₈    du₁ˏ₃ˏ₈  …    du₁ˏ₉₈ˏ₈    du₁ˏ₉₉ˏ₈    du₁ˏ₁₀₀ˏ₈\n",
       "   du₂ˏ₁ˏ₈    du₂ˏ₂ˏ₈    du₂ˏ₃ˏ₈       du₂ˏ₉₈ˏ₈    du₂ˏ₉₉ˏ₈    du₂ˏ₁₀₀ˏ₈\n",
       "   du₃ˏ₁ˏ₈    du₃ˏ₂ˏ₈    du₃ˏ₃ˏ₈       du₃ˏ₉₈ˏ₈    du₃ˏ₉₉ˏ₈    du₃ˏ₁₀₀ˏ₈\n",
       "   du₄ˏ₁ˏ₈    du₄ˏ₂ˏ₈    du₄ˏ₃ˏ₈       du₄ˏ₉₈ˏ₈    du₄ˏ₉₉ˏ₈    du₄ˏ₁₀₀ˏ₈\n",
       "   du₅ˏ₁ˏ₈    du₅ˏ₂ˏ₈    du₅ˏ₃ˏ₈       du₅ˏ₉₈ˏ₈    du₅ˏ₉₉ˏ₈    du₅ˏ₁₀₀ˏ₈\n",
       "   du₆ˏ₁ˏ₈    du₆ˏ₂ˏ₈    du₆ˏ₃ˏ₈  …    du₆ˏ₉₈ˏ₈    du₆ˏ₉₉ˏ₈    du₆ˏ₁₀₀ˏ₈\n",
       "   du₇ˏ₁ˏ₈    du₇ˏ₂ˏ₈    du₇ˏ₃ˏ₈       du₇ˏ₉₈ˏ₈    du₇ˏ₉₉ˏ₈    du₇ˏ₁₀₀ˏ₈\n",
       "   du₈ˏ₁ˏ₈    du₈ˏ₂ˏ₈    du₈ˏ₃ˏ₈       du₈ˏ₉₈ˏ₈    du₈ˏ₉₉ˏ₈    du₈ˏ₁₀₀ˏ₈\n",
       "   du₉ˏ₁ˏ₈    du₉ˏ₂ˏ₈    du₉ˏ₃ˏ₈       du₉ˏ₉₈ˏ₈    du₉ˏ₉₉ˏ₈    du₉ˏ₁₀₀ˏ₈\n",
       "  du₁₀ˏ₁ˏ₈   du₁₀ˏ₂ˏ₈   du₁₀ˏ₃ˏ₈      du₁₀ˏ₉₈ˏ₈   du₁₀ˏ₉₉ˏ₈   du₁₀ˏ₁₀₀ˏ₈\n",
       "  du₁₁ˏ₁ˏ₈   du₁₁ˏ₂ˏ₈   du₁₁ˏ₃ˏ₈  …   du₁₁ˏ₉₈ˏ₈   du₁₁ˏ₉₉ˏ₈   du₁₁ˏ₁₀₀ˏ₈\n",
       "  du₁₂ˏ₁ˏ₈   du₁₂ˏ₂ˏ₈   du₁₂ˏ₃ˏ₈      du₁₂ˏ₉₈ˏ₈   du₁₂ˏ₉₉ˏ₈   du₁₂ˏ₁₀₀ˏ₈\n",
       "  du₁₃ˏ₁ˏ₈   du₁₃ˏ₂ˏ₈   du₁₃ˏ₃ˏ₈      du₁₃ˏ₉₈ˏ₈   du₁₃ˏ₉₉ˏ₈   du₁₃ˏ₁₀₀ˏ₈\n",
       "         ⋮                        ⋱                          \n",
       "  du₈₉ˏ₁ˏ₈   du₈₉ˏ₂ˏ₈   du₈₉ˏ₃ˏ₈      du₈₉ˏ₉₈ˏ₈   du₈₉ˏ₉₉ˏ₈   du₈₉ˏ₁₀₀ˏ₈\n",
       "  du₉₀ˏ₁ˏ₈   du₉₀ˏ₂ˏ₈   du₉₀ˏ₃ˏ₈      du₉₀ˏ₉₈ˏ₈   du₉₀ˏ₉₉ˏ₈   du₉₀ˏ₁₀₀ˏ₈\n",
       "  du₉₁ˏ₁ˏ₈   du₉₁ˏ₂ˏ₈   du₉₁ˏ₃ˏ₈  …   du₉₁ˏ₉₈ˏ₈   du₉₁ˏ₉₉ˏ₈   du₉₁ˏ₁₀₀ˏ₈\n",
       "  du₉₂ˏ₁ˏ₈   du₉₂ˏ₂ˏ₈   du₉₂ˏ₃ˏ₈      du₉₂ˏ₉₈ˏ₈   du₉₂ˏ₉₉ˏ₈   du₉₂ˏ₁₀₀ˏ₈\n",
       "  du₉₃ˏ₁ˏ₈   du₉₃ˏ₂ˏ₈   du₉₃ˏ₃ˏ₈      du₉₃ˏ₉₈ˏ₈   du₉₃ˏ₉₉ˏ₈   du₉₃ˏ₁₀₀ˏ₈\n",
       "  du₉₄ˏ₁ˏ₈   du₉₄ˏ₂ˏ₈   du₉₄ˏ₃ˏ₈      du₉₄ˏ₉₈ˏ₈   du₉₄ˏ₉₉ˏ₈   du₉₄ˏ₁₀₀ˏ₈\n",
       "  du₉₅ˏ₁ˏ₈   du₉₅ˏ₂ˏ₈   du₉₅ˏ₃ˏ₈      du₉₅ˏ₉₈ˏ₈   du₉₅ˏ₉₉ˏ₈   du₉₅ˏ₁₀₀ˏ₈\n",
       "  du₉₆ˏ₁ˏ₈   du₉₆ˏ₂ˏ₈   du₉₆ˏ₃ˏ₈  …   du₉₆ˏ₉₈ˏ₈   du₉₆ˏ₉₉ˏ₈   du₉₆ˏ₁₀₀ˏ₈\n",
       "  du₉₇ˏ₁ˏ₈   du₉₇ˏ₂ˏ₈   du₉₇ˏ₃ˏ₈      du₉₇ˏ₉₈ˏ₈   du₉₇ˏ₉₉ˏ₈   du₉₇ˏ₁₀₀ˏ₈\n",
       "  du₉₈ˏ₁ˏ₈   du₉₈ˏ₂ˏ₈   du₉₈ˏ₃ˏ₈      du₉₈ˏ₉₈ˏ₈   du₉₈ˏ₉₉ˏ₈   du₉₈ˏ₁₀₀ˏ₈\n",
       "  du₉₉ˏ₁ˏ₈   du₉₉ˏ₂ˏ₈   du₉₉ˏ₃ˏ₈      du₉₉ˏ₉₈ˏ₈   du₉₉ˏ₉₉ˏ₈   du₉₉ˏ₁₀₀ˏ₈\n",
       " du₁₀₀ˏ₁ˏ₈  du₁₀₀ˏ₂ˏ₈  du₁₀₀ˏ₃ˏ₈     du₁₀₀ˏ₉₈ˏ₈  du₁₀₀ˏ₉₉ˏ₈  du₁₀₀ˏ₁₀₀ˏ₈"
      ]
     },
     "execution_count": 35,
     "metadata": {},
     "output_type": "execute_result"
    }
   ],
   "source": [
    "@view du[:, :, 3*p.K+1:4*p.K]"
   ]
  },
  {
   "cell_type": "code",
   "execution_count": 14,
   "metadata": {},
   "outputs": [
    {
     "data": {
      "text/plain": [
       "100×100 view(::Array{Operation,3}, :, :, 12) with eltype Operation:\n",
       "   du₁ˏ₁ˏ₁₂    du₁ˏ₂ˏ₁₂    du₁ˏ₃ˏ₁₂    du₁ˏ₄ˏ₁₂  …    du₁ˏ₉₉ˏ₁₂    du₁ˏ₁₀₀ˏ₁₂\n",
       "   du₂ˏ₁ˏ₁₂    du₂ˏ₂ˏ₁₂    du₂ˏ₃ˏ₁₂    du₂ˏ₄ˏ₁₂       du₂ˏ₉₉ˏ₁₂    du₂ˏ₁₀₀ˏ₁₂\n",
       "   du₃ˏ₁ˏ₁₂    du₃ˏ₂ˏ₁₂    du₃ˏ₃ˏ₁₂    du₃ˏ₄ˏ₁₂       du₃ˏ₉₉ˏ₁₂    du₃ˏ₁₀₀ˏ₁₂\n",
       "   du₄ˏ₁ˏ₁₂    du₄ˏ₂ˏ₁₂    du₄ˏ₃ˏ₁₂    du₄ˏ₄ˏ₁₂       du₄ˏ₉₉ˏ₁₂    du₄ˏ₁₀₀ˏ₁₂\n",
       "   du₅ˏ₁ˏ₁₂    du₅ˏ₂ˏ₁₂    du₅ˏ₃ˏ₁₂    du₅ˏ₄ˏ₁₂       du₅ˏ₉₉ˏ₁₂    du₅ˏ₁₀₀ˏ₁₂\n",
       "   du₆ˏ₁ˏ₁₂    du₆ˏ₂ˏ₁₂    du₆ˏ₃ˏ₁₂    du₆ˏ₄ˏ₁₂  …    du₆ˏ₉₉ˏ₁₂    du₆ˏ₁₀₀ˏ₁₂\n",
       "   du₇ˏ₁ˏ₁₂    du₇ˏ₂ˏ₁₂    du₇ˏ₃ˏ₁₂    du₇ˏ₄ˏ₁₂       du₇ˏ₉₉ˏ₁₂    du₇ˏ₁₀₀ˏ₁₂\n",
       "   du₈ˏ₁ˏ₁₂    du₈ˏ₂ˏ₁₂    du₈ˏ₃ˏ₁₂    du₈ˏ₄ˏ₁₂       du₈ˏ₉₉ˏ₁₂    du₈ˏ₁₀₀ˏ₁₂\n",
       "   du₉ˏ₁ˏ₁₂    du₉ˏ₂ˏ₁₂    du₉ˏ₃ˏ₁₂    du₉ˏ₄ˏ₁₂       du₉ˏ₉₉ˏ₁₂    du₉ˏ₁₀₀ˏ₁₂\n",
       "  du₁₀ˏ₁ˏ₁₂   du₁₀ˏ₂ˏ₁₂   du₁₀ˏ₃ˏ₁₂   du₁₀ˏ₄ˏ₁₂      du₁₀ˏ₉₉ˏ₁₂   du₁₀ˏ₁₀₀ˏ₁₂\n",
       "  du₁₁ˏ₁ˏ₁₂   du₁₁ˏ₂ˏ₁₂   du₁₁ˏ₃ˏ₁₂   du₁₁ˏ₄ˏ₁₂  …   du₁₁ˏ₉₉ˏ₁₂   du₁₁ˏ₁₀₀ˏ₁₂\n",
       "  du₁₂ˏ₁ˏ₁₂   du₁₂ˏ₂ˏ₁₂   du₁₂ˏ₃ˏ₁₂   du₁₂ˏ₄ˏ₁₂      du₁₂ˏ₉₉ˏ₁₂   du₁₂ˏ₁₀₀ˏ₁₂\n",
       "  du₁₃ˏ₁ˏ₁₂   du₁₃ˏ₂ˏ₁₂   du₁₃ˏ₃ˏ₁₂   du₁₃ˏ₄ˏ₁₂      du₁₃ˏ₉₉ˏ₁₂   du₁₃ˏ₁₀₀ˏ₁₂\n",
       "          ⋮                                      ⋱               \n",
       "  du₈₉ˏ₁ˏ₁₂   du₈₉ˏ₂ˏ₁₂   du₈₉ˏ₃ˏ₁₂   du₈₉ˏ₄ˏ₁₂      du₈₉ˏ₉₉ˏ₁₂   du₈₉ˏ₁₀₀ˏ₁₂\n",
       "  du₉₀ˏ₁ˏ₁₂   du₉₀ˏ₂ˏ₁₂   du₉₀ˏ₃ˏ₁₂   du₉₀ˏ₄ˏ₁₂      du₉₀ˏ₉₉ˏ₁₂   du₉₀ˏ₁₀₀ˏ₁₂\n",
       "  du₉₁ˏ₁ˏ₁₂   du₉₁ˏ₂ˏ₁₂   du₉₁ˏ₃ˏ₁₂   du₉₁ˏ₄ˏ₁₂  …   du₉₁ˏ₉₉ˏ₁₂   du₉₁ˏ₁₀₀ˏ₁₂\n",
       "  du₉₂ˏ₁ˏ₁₂   du₉₂ˏ₂ˏ₁₂   du₉₂ˏ₃ˏ₁₂   du₉₂ˏ₄ˏ₁₂      du₉₂ˏ₉₉ˏ₁₂   du₉₂ˏ₁₀₀ˏ₁₂\n",
       "  du₉₃ˏ₁ˏ₁₂   du₉₃ˏ₂ˏ₁₂   du₉₃ˏ₃ˏ₁₂   du₉₃ˏ₄ˏ₁₂      du₉₃ˏ₉₉ˏ₁₂   du₉₃ˏ₁₀₀ˏ₁₂\n",
       "  du₉₄ˏ₁ˏ₁₂   du₉₄ˏ₂ˏ₁₂   du₉₄ˏ₃ˏ₁₂   du₉₄ˏ₄ˏ₁₂      du₉₄ˏ₉₉ˏ₁₂   du₉₄ˏ₁₀₀ˏ₁₂\n",
       "  du₉₅ˏ₁ˏ₁₂   du₉₅ˏ₂ˏ₁₂   du₉₅ˏ₃ˏ₁₂   du₉₅ˏ₄ˏ₁₂      du₉₅ˏ₉₉ˏ₁₂   du₉₅ˏ₁₀₀ˏ₁₂\n",
       "  du₉₆ˏ₁ˏ₁₂   du₉₆ˏ₂ˏ₁₂   du₉₆ˏ₃ˏ₁₂   du₉₆ˏ₄ˏ₁₂  …   du₉₆ˏ₉₉ˏ₁₂   du₉₆ˏ₁₀₀ˏ₁₂\n",
       "  du₉₇ˏ₁ˏ₁₂   du₉₇ˏ₂ˏ₁₂   du₉₇ˏ₃ˏ₁₂   du₉₇ˏ₄ˏ₁₂      du₉₇ˏ₉₉ˏ₁₂   du₉₇ˏ₁₀₀ˏ₁₂\n",
       "  du₉₈ˏ₁ˏ₁₂   du₉₈ˏ₂ˏ₁₂   du₉₈ˏ₃ˏ₁₂   du₉₈ˏ₄ˏ₁₂      du₉₈ˏ₉₉ˏ₁₂   du₉₈ˏ₁₀₀ˏ₁₂\n",
       "  du₉₉ˏ₁ˏ₁₂   du₉₉ˏ₂ˏ₁₂   du₉₉ˏ₃ˏ₁₂   du₉₉ˏ₄ˏ₁₂      du₉₉ˏ₉₉ˏ₁₂   du₉₉ˏ₁₀₀ˏ₁₂\n",
       " du₁₀₀ˏ₁ˏ₁₂  du₁₀₀ˏ₂ˏ₁₂  du₁₀₀ˏ₃ˏ₁₂  du₁₀₀ˏ₄ˏ₁₂     du₁₀₀ˏ₉₉ˏ₁₂  du₁₀₀ˏ₁₀₀ˏ₁₂"
      ]
     },
     "execution_count": 14,
     "metadata": {},
     "output_type": "execute_result"
    }
   ],
   "source": [
    "\n",
    "@variables du[1:p.dim_i, 1:p.dim_j, 1:5*p.K+2] u[1:p.dim_i, 1:p.dim_j, 1:5*p.K+2] x_lgn[1:p.dim_i, 1:p.dim_j] C[1:p.dim_i, 1:p.dim_j, 1:p.K] H_z[1:p.dim_i, 1:p.dim_j, 1:p.K]; \n",
    "x = @view u[:, :, 1:p.K]\n",
    "        y = @view u[:, :, p.K+1:2*p.K]\n",
    "        m = @view u[:, :, 2*p.K+1:3*p.K]\n",
    "        z = @view u[:, :, 3*p.K+1:4*p.K]\n",
    "        s = @view u[:, :, 4*p.K+1:5*p.K]\n",
    "\n",
    "#    C = @view u[:, :, 5*p.K+1:6*p.K]\n",
    "#    H_z = @view u[:, :, 6*p.K+1:7*p.K]\n",
    "\n",
    "        v_p = @view u[:, :, 5*p.K+1]\n",
    "        v_m = @view u[:, :, 5*p.K+2]\n",
    "#    x_lgn = @view u[:, :, 7*p.K+3]\n",
    "\n",
    "        dx = @view du[:, :, 1:p.K]\n",
    "        dy = @view du[:, :, p.K+1:2*p.K]\n",
    "        dm = @view du[:, :, 2*p.K+1:3*p.K]\n",
    "        dz = @view du[:, :, 3*p.K+1:4*p.K]\n",
    "        ds = @view du[:, :, 4*p.K+1:5*p.K]\n",
    "\n",
    "        dv_p = @view du[:, :, 5*p.K+1]\n",
    "        dv_m = @view du[:, :, 5*p.K+2]\n",
    "\n",
    "#         x_lgn = similar(v_p)\n",
    "#         C = similar(x)\n",
    "#         H_z = similar(x)\n",
    "#         C = reshape(Array{eltype(u)}(undef, p.dim_i, p.dim_j*p.K),p.dim_i,p.dim_j, p.K)\n",
    "#         C = reshape(zeros(p.dim_i, p.dim_j*p.K),p.dim_i,p.dim_j, p.K)\n",
    "\n",
    "#         x_lgn = Array{eltype(u)}(undef, p.dim_i, p.dim_j)\n",
    "#         C  = copy(u[:, :, 1:p.K])\n",
    "#         H_z = copy(u[:, :, 1:p.K])\n",
    "\n",
    "# x_lgn = zeros(p.dim_i, p.dim_j)\n",
    "# H_z = reshape(zeros(p.dim_i, p.dim_j*p.K),p.dim_i,p.dim_j, p.K)\n",
    "# C = reshape(zeros(p.dim_i, p.dim_j*p.K),p.dim_i,p.dim_j, p.K)\n",
    "\n",
    "#         Laminart.fun_x_lgn!(x_lgn, x, p)\n",
    "#         Laminart.fun_v_C!(C, v_p, v_m, p)\n",
    "#         Laminart.fun_H_z!(H_z, z, p)\n",
    "\n",
    "#         Laminart.fun_dv!(dv_p, v_p, p.r, x_lgn, p)\n",
    "#         Laminart.fun_dv!(dv_m, v_m, .-p.r, x_lgn, p)\n",
    "#         Laminart.fun_dx_v1!(dx, x, C, z, p.x_V2, p)\n",
    "#         Laminart.fun_dy!(dy, y, C, x, m, p)\n",
    "#         Laminart.fun_dm!(dm, m, x, p)\n",
    "#         Laminart.fun_dz!(dz, z, y, H_z, s, p)\n",
    "#         Laminart.fun_ds!(ds, s,  H_z, p)"
   ]
  },
  {
   "cell_type": "code",
   "execution_count": 15,
   "metadata": {},
   "outputs": [
    {
     "ename": "UndefVarError",
     "evalue": "UndefVarError: V not defined",
     "output_type": "error",
     "traceback": [
      "UndefVarError: V not defined",
      "",
      "Stacktrace:",
      " [1] top-level scope at In[15]:11"
     ]
    }
   ],
   "source": [
    "#     func_filter_W!(dm, m, p.k_W_m, p)\n",
    "temp_k = similar(dm[:,:,1])\n",
    "#     @inbounds begin\n",
    "#         for k ∈ 1:p.K\n",
    "#     todo fix W\n",
    "l = 1\n",
    "k = 1\n",
    "\n",
    "img_k =  m[:,:,k]\n",
    "            out_k = @view dm[:,:,k]\n",
    "#             out_k = similar(dm[:,:,k])\n",
    "            imfilter!(out_k, V, (centered(p.k_W_m[:,:,k,k]),), p.filling)\n",
    "#             for l ∈ 1:p.K\n",
    "#                 if l ≠ k\n",
    "#                     img_l = @view img[:,:,l]\n",
    "#                     imfilter!(temp_k, img_l, (centered(W[:,:,k,l]),), p.filling)\n",
    "#                     @. out_k += temp_k\n",
    "#                 end\n",
    "#             end\n",
    "#         end\n",
    "#     end\n",
    "#     return nothing\n",
    "# end"
   ]
  },
  {
   "cell_type": "code",
   "execution_count": 92,
   "metadata": {},
   "outputs": [
    {
     "data": {
      "text/plain": [
       "100-element Array{Operation,1}:\n",
       "   u₁ˏ₁ˏ₅\n",
       "   u₁ˏ₂ˏ₅\n",
       "   u₁ˏ₃ˏ₅\n",
       "   u₁ˏ₄ˏ₅\n",
       "   u₁ˏ₅ˏ₅\n",
       "   u₁ˏ₆ˏ₅\n",
       "   u₁ˏ₇ˏ₅\n",
       "   u₁ˏ₈ˏ₅\n",
       "   u₁ˏ₉ˏ₅\n",
       "  u₁ˏ₁₀ˏ₅\n",
       "  u₁ˏ₁₁ˏ₅\n",
       "  u₁ˏ₁₂ˏ₅\n",
       "  u₁ˏ₁₃ˏ₅\n",
       "        ⋮\n",
       "  u₁ˏ₈₉ˏ₅\n",
       "  u₁ˏ₉₀ˏ₅\n",
       "  u₁ˏ₉₁ˏ₅\n",
       "  u₁ˏ₉₂ˏ₅\n",
       "  u₁ˏ₉₃ˏ₅\n",
       "  u₁ˏ₉₄ˏ₅\n",
       "  u₁ˏ₉₅ˏ₅\n",
       "  u₁ˏ₉₆ˏ₅\n",
       "  u₁ˏ₉₇ˏ₅\n",
       "  u₁ˏ₉₈ˏ₅\n",
       "  u₁ˏ₉₉ˏ₅\n",
       " u₁ˏ₁₀₀ˏ₅"
      ]
     },
     "execution_count": 92,
     "metadata": {},
     "output_type": "execute_result"
    }
   ],
   "source": [
    "img_k[1,:]"
   ]
  },
  {
   "cell_type": "code",
   "execution_count": 50,
   "metadata": {},
   "outputs": [
    {
     "data": {
      "text/plain": [
       "Float64"
      ]
     },
     "execution_count": 50,
     "metadata": {},
     "output_type": "execute_result"
    }
   ],
   "source": [
    "typeof(identity(0.0))"
   ]
  },
  {
   "cell_type": "code",
   "execution_count": 51,
   "metadata": {},
   "outputs": [
    {
     "name": "stdout",
     "output_type": "stream",
     "text": [
      "search: \u001b[0m\u001b[1mi\u001b[22m\u001b[0m\u001b[1md\u001b[22m\u001b[0m\u001b[1me\u001b[22m\u001b[0m\u001b[1mn\u001b[22m\u001b[0m\u001b[1mt\u001b[22m\u001b[0m\u001b[1mi\u001b[22m\u001b[0m\u001b[1mt\u001b[22m\u001b[0m\u001b[1my\u001b[22m D\u001b[0m\u001b[1mi\u001b[22mffEqI\u001b[0m\u001b[1md\u001b[22m\u001b[0m\u001b[1me\u001b[22m\u001b[0m\u001b[1mn\u001b[22m\u001b[0m\u001b[1mt\u001b[22m\u001b[0m\u001b[1mi\u001b[22m\u001b[0m\u001b[1mt\u001b[22m\u001b[0m\u001b[1my\u001b[22m Spl\u001b[0m\u001b[1mi\u001b[22mtS\u001b[0m\u001b[1mD\u001b[22m\u001b[0m\u001b[1mE\u001b[22mFu\u001b[0m\u001b[1mn\u001b[22mc\u001b[0m\u001b[1mt\u001b[22m\u001b[0m\u001b[1mi\u001b[22mon \u001b[0m\u001b[1mi\u001b[22mn\u001b[0m\u001b[1md\u001b[22m\u001b[0m\u001b[1me\u001b[22mpe\u001b[0m\u001b[1mn\u001b[22mden\u001b[0m\u001b[1mt\u001b[22m_var\u001b[0m\u001b[1mi\u001b[22mable\n",
      "\n"
     ]
    },
    {
     "data": {
      "text/latex": [
       "\\begin{verbatim}\n",
       "identity(x)\n",
       "\\end{verbatim}\n",
       "The identity function. Returns its argument.\n",
       "\n",
       "\\section{Examples}\n",
       "\\begin{verbatim}\n",
       "julia> identity(\"Well, what did you expect?\")\n",
       "\"Well, what did you expect?\"\n",
       "\\end{verbatim}\n"
      ],
      "text/markdown": [
       "```\n",
       "identity(x)\n",
       "```\n",
       "\n",
       "The identity function. Returns its argument.\n",
       "\n",
       "# Examples\n",
       "\n",
       "```jldoctest\n",
       "julia> identity(\"Well, what did you expect?\")\n",
       "\"Well, what did you expect?\"\n",
       "```\n"
      ],
      "text/plain": [
       "  \u001b[38;5;81midentity\u001b[0m(\u001b[0m\u001b[39mx\u001b[0m\u001b[39m)\u001b[0m\u001b[39m\u001b[0m\n",
       "\n",
       "\n",
       "  The identity function. Returns its argument.\n",
       "\n",
       "\u001b[1m  Examples\u001b[22m\n",
       "\u001b[1m  ≡≡≡≡≡≡≡≡≡≡\u001b[22m\n",
       "\n",
       "  \u001b[31;1mjulia> \u001b[0m\u001b[38;5;81midentity\u001b[0m(\u001b[0m\u001b[38;5;208m\"Well, what did you expect?\"\u001b[0m\u001b[39m)\u001b[0m\n",
       "  \u001b[0m\u001b[39m\u001b[0m\"Well, what did you expect?\"\n"
      ]
     },
     "execution_count": 51,
     "metadata": {},
     "output_type": "execute_result"
    }
   ],
   "source": [
    "?identity"
   ]
  },
  {
   "cell_type": "code",
   "execution_count": 55,
   "metadata": {},
   "outputs": [
    {
     "data": {
      "text/plain": [
       "100×100 Array{Operation,2}:\n",
       "     0.882497 * (max(u₁ˏ₁ˏ₁₁, 0) - max(u₁ˏ₁ˏ₁₂, 0))  …      0.882497 * (max(u₁ˏ₁₀₀ˏ₁₁, 0) - max(u₁ˏ₁₀₀ˏ₁₂, 0))\n",
       "     0.882497 * (max(u₂ˏ₁ˏ₁₁, 0) - max(u₂ˏ₁ˏ₁₂, 0))         0.882497 * (max(u₂ˏ₁₀₀ˏ₁₁, 0) - max(u₂ˏ₁₀₀ˏ₁₂, 0))\n",
       "     0.882497 * (max(u₃ˏ₁ˏ₁₁, 0) - max(u₃ˏ₁ˏ₁₂, 0))         0.882497 * (max(u₃ˏ₁₀₀ˏ₁₁, 0) - max(u₃ˏ₁₀₀ˏ₁₂, 0))\n",
       "     0.882497 * (max(u₄ˏ₁ˏ₁₁, 0) - max(u₄ˏ₁ˏ₁₂, 0))         0.882497 * (max(u₄ˏ₁₀₀ˏ₁₁, 0) - max(u₄ˏ₁₀₀ˏ₁₂, 0))\n",
       "     0.882497 * (max(u₅ˏ₁ˏ₁₁, 0) - max(u₅ˏ₁ˏ₁₂, 0))         0.882497 * (max(u₅ˏ₁₀₀ˏ₁₁, 0) - max(u₅ˏ₁₀₀ˏ₁₂, 0))\n",
       "     0.882497 * (max(u₆ˏ₁ˏ₁₁, 0) - max(u₆ˏ₁ˏ₁₂, 0))  …      0.882497 * (max(u₆ˏ₁₀₀ˏ₁₁, 0) - max(u₆ˏ₁₀₀ˏ₁₂, 0))\n",
       "     0.882497 * (max(u₇ˏ₁ˏ₁₁, 0) - max(u₇ˏ₁ˏ₁₂, 0))         0.882497 * (max(u₇ˏ₁₀₀ˏ₁₁, 0) - max(u₇ˏ₁₀₀ˏ₁₂, 0))\n",
       "     0.882497 * (max(u₈ˏ₁ˏ₁₁, 0) - max(u₈ˏ₁ˏ₁₂, 0))         0.882497 * (max(u₈ˏ₁₀₀ˏ₁₁, 0) - max(u₈ˏ₁₀₀ˏ₁₂, 0))\n",
       "     0.882497 * (max(u₉ˏ₁ˏ₁₁, 0) - max(u₉ˏ₁ˏ₁₂, 0))         0.882497 * (max(u₉ˏ₁₀₀ˏ₁₁, 0) - max(u₉ˏ₁₀₀ˏ₁₂, 0))\n",
       "   0.882497 * (max(u₁₀ˏ₁ˏ₁₁, 0) - max(u₁₀ˏ₁ˏ₁₂, 0))       0.882497 * (max(u₁₀ˏ₁₀₀ˏ₁₁, 0) - max(u₁₀ˏ₁₀₀ˏ₁₂, 0))\n",
       "   0.882497 * (max(u₁₁ˏ₁ˏ₁₁, 0) - max(u₁₁ˏ₁ˏ₁₂, 0))  …    0.882497 * (max(u₁₁ˏ₁₀₀ˏ₁₁, 0) - max(u₁₁ˏ₁₀₀ˏ₁₂, 0))\n",
       "   0.882497 * (max(u₁₂ˏ₁ˏ₁₁, 0) - max(u₁₂ˏ₁ˏ₁₂, 0))       0.882497 * (max(u₁₂ˏ₁₀₀ˏ₁₁, 0) - max(u₁₂ˏ₁₀₀ˏ₁₂, 0))\n",
       "   0.882497 * (max(u₁₃ˏ₁ˏ₁₁, 0) - max(u₁₃ˏ₁ˏ₁₂, 0))       0.882497 * (max(u₁₃ˏ₁₀₀ˏ₁₁, 0) - max(u₁₃ˏ₁₀₀ˏ₁₂, 0))\n",
       "                                                  ⋮  ⋱  \n",
       "   0.882497 * (max(u₈₉ˏ₁ˏ₁₁, 0) - max(u₈₉ˏ₁ˏ₁₂, 0))       0.882497 * (max(u₈₉ˏ₁₀₀ˏ₁₁, 0) - max(u₈₉ˏ₁₀₀ˏ₁₂, 0))\n",
       "   0.882497 * (max(u₉₀ˏ₁ˏ₁₁, 0) - max(u₉₀ˏ₁ˏ₁₂, 0))       0.882497 * (max(u₉₀ˏ₁₀₀ˏ₁₁, 0) - max(u₉₀ˏ₁₀₀ˏ₁₂, 0))\n",
       "   0.882497 * (max(u₉₁ˏ₁ˏ₁₁, 0) - max(u₉₁ˏ₁ˏ₁₂, 0))  …    0.882497 * (max(u₉₁ˏ₁₀₀ˏ₁₁, 0) - max(u₉₁ˏ₁₀₀ˏ₁₂, 0))\n",
       "   0.882497 * (max(u₉₂ˏ₁ˏ₁₁, 0) - max(u₉₂ˏ₁ˏ₁₂, 0))       0.882497 * (max(u₉₂ˏ₁₀₀ˏ₁₁, 0) - max(u₉₂ˏ₁₀₀ˏ₁₂, 0))\n",
       "   0.882497 * (max(u₉₃ˏ₁ˏ₁₁, 0) - max(u₉₃ˏ₁ˏ₁₂, 0))       0.882497 * (max(u₉₃ˏ₁₀₀ˏ₁₁, 0) - max(u₉₃ˏ₁₀₀ˏ₁₂, 0))\n",
       "   0.882497 * (max(u₉₄ˏ₁ˏ₁₁, 0) - max(u₉₄ˏ₁ˏ₁₂, 0))       0.882497 * (max(u₉₄ˏ₁₀₀ˏ₁₁, 0) - max(u₉₄ˏ₁₀₀ˏ₁₂, 0))\n",
       "   0.882497 * (max(u₉₅ˏ₁ˏ₁₁, 0) - max(u₉₅ˏ₁ˏ₁₂, 0))       0.882497 * (max(u₉₅ˏ₁₀₀ˏ₁₁, 0) - max(u₉₅ˏ₁₀₀ˏ₁₂, 0))\n",
       "   0.882497 * (max(u₉₆ˏ₁ˏ₁₁, 0) - max(u₉₆ˏ₁ˏ₁₂, 0))  …    0.882497 * (max(u₉₆ˏ₁₀₀ˏ₁₁, 0) - max(u₉₆ˏ₁₀₀ˏ₁₂, 0))\n",
       "   0.882497 * (max(u₉₇ˏ₁ˏ₁₁, 0) - max(u₉₇ˏ₁ˏ₁₂, 0))       0.882497 * (max(u₉₇ˏ₁₀₀ˏ₁₁, 0) - max(u₉₇ˏ₁₀₀ˏ₁₂, 0))\n",
       "   0.882497 * (max(u₉₈ˏ₁ˏ₁₁, 0) - max(u₉₈ˏ₁ˏ₁₂, 0))       0.882497 * (max(u₉₈ˏ₁₀₀ˏ₁₁, 0) - max(u₉₈ˏ₁₀₀ˏ₁₂, 0))\n",
       "   0.882497 * (max(u₉₉ˏ₁ˏ₁₁, 0) - max(u₉₉ˏ₁ˏ₁₂, 0))       0.882497 * (max(u₉₉ˏ₁₀₀ˏ₁₁, 0) - max(u₉₉ˏ₁₀₀ˏ₁₂, 0))\n",
       " 0.882497 * (max(u₁₀₀ˏ₁ˏ₁₁, 0) - max(u₁₀₀ˏ₁ˏ₁₂, 0))     0.882497 * (max(u₁₀₀ˏ₁₀₀ˏ₁₁, 0) - max(u₁₀₀ˏ₁₀₀ˏ₁₂, 0))"
      ]
     },
     "execution_count": 55,
     "metadata": {},
     "output_type": "execute_result"
    }
   ],
   "source": [
    "temp"
   ]
  },
  {
   "cell_type": "code",
   "execution_count": 66,
   "metadata": {},
   "outputs": [],
   "source": [
    "using JuliaInterpreter"
   ]
  },
  {
   "cell_type": "code",
   "execution_count": 67,
   "metadata": {},
   "outputs": [
    {
     "ename": "MethodError",
     "evalue": "MethodError: no method matching isnan(::Operation)\nClosest candidates are:\n  isnan(!Matched::BigFloat) at mpfr.jl:893\n  isnan(!Matched::Missing) at missing.jl:100\n  isnan(!Matched::Float16) at float.jl:537\n  ...",
     "output_type": "error",
     "traceback": [
      "MethodError: no method matching isnan(::Operation)\nClosest candidates are:\n  isnan(!Matched::BigFloat) at mpfr.jl:893\n  isnan(!Matched::Missing) at missing.jl:100\n  isnan(!Matched::Float16) at float.jl:537\n  ...",
      "",
      "Stacktrace:",
      " [1] prepare_call(::Any, ::Array{Any,1}; enter_generated::Bool) at /Users/niallcullinane/.julia/packages/JuliaInterpreter/fh7AN/src/construct.jl:259",
      " [2] get_call_framecode(::Array{Any,1}, ::JuliaInterpreter.FrameCode, ::Int64; enter_generated::Bool) at /Users/niallcullinane/.julia/packages/JuliaInterpreter/fh7AN/src/localmethtable.jl:63",
      " [3] evaluate_call_recurse!(::Any, ::Frame, ::Expr; enter_generated::Bool) at /Users/niallcullinane/.julia/packages/JuliaInterpreter/fh7AN/src/interpret.jl:225",
      " [4] evaluate_call_recurse! at /Users/niallcullinane/.julia/packages/JuliaInterpreter/fh7AN/src/interpret.jl:202 [inlined]",
      " [5] eval_rhs(::Any, ::Frame, ::Expr) at /Users/niallcullinane/.julia/packages/JuliaInterpreter/fh7AN/src/interpret.jl:387",
      " [6] step_expr!(::Any, ::Frame, ::Any, ::Bool) at /Users/niallcullinane/.julia/packages/JuliaInterpreter/fh7AN/src/interpret.jl:443",
      " [7] step_expr! at /Users/niallcullinane/.julia/packages/JuliaInterpreter/fh7AN/src/interpret.jl:566 [inlined]",
      " [8] finish!(::Any, ::Frame, ::Bool) at /Users/niallcullinane/.julia/packages/JuliaInterpreter/fh7AN/src/commands.jl:14",
      " [9] finish_and_return! at /Users/niallcullinane/.julia/packages/JuliaInterpreter/fh7AN/src/commands.jl:29 [inlined]",
      " [10] evaluate_call_recurse!(::Any, ::Frame, ::Expr; enter_generated::Bool) at /Users/niallcullinane/.julia/packages/JuliaInterpreter/fh7AN/src/interpret.jl:240",
      " [11] evaluate_call_recurse! at /Users/niallcullinane/.julia/packages/JuliaInterpreter/fh7AN/src/interpret.jl:202 [inlined]",
      " [12] eval_rhs(::Any, ::Frame, ::Expr) at /Users/niallcullinane/.julia/packages/JuliaInterpreter/fh7AN/src/interpret.jl:387",
      " [13] step_expr!(::Any, ::Frame, ::Any, ::Bool) at /Users/niallcullinane/.julia/packages/JuliaInterpreter/fh7AN/src/interpret.jl:527",
      " [14] step_expr! at /Users/niallcullinane/.julia/packages/JuliaInterpreter/fh7AN/src/interpret.jl:566 [inlined]",
      " [15] finish!(::Any, ::Frame, ::Bool) at /Users/niallcullinane/.julia/packages/JuliaInterpreter/fh7AN/src/commands.jl:14",
      " [16] finish_and_return! at /Users/niallcullinane/.julia/packages/JuliaInterpreter/fh7AN/src/commands.jl:29 [inlined]",
      " [17] evaluate_call_recurse!(::Any, ::Frame, ::Expr; enter_generated::Bool) at /Users/niallcullinane/.julia/packages/JuliaInterpreter/fh7AN/src/interpret.jl:240",
      " [18] evaluate_call_recurse! at /Users/niallcullinane/.julia/packages/JuliaInterpreter/fh7AN/src/interpret.jl:202 [inlined]",
      " [19] eval_rhs(::Any, ::Frame, ::Expr) at /Users/niallcullinane/.julia/packages/JuliaInterpreter/fh7AN/src/interpret.jl:387",
      " [20] step_expr!(::Any, ::Frame, ::Any, ::Bool) at /Users/niallcullinane/.julia/packages/JuliaInterpreter/fh7AN/src/interpret.jl:527",
      " [21] step_expr! at /Users/niallcullinane/.julia/packages/JuliaInterpreter/fh7AN/src/interpret.jl:566 [inlined]",
      " [22] finish!(::Any, ::Frame, ::Bool) at /Users/niallcullinane/.julia/packages/JuliaInterpreter/fh7AN/src/commands.jl:14",
      " [23] finish_and_return! at /Users/niallcullinane/.julia/packages/JuliaInterpreter/fh7AN/src/commands.jl:29 [inlined]",
      " [24] evaluate_call_recurse!(::Any, ::Frame, ::Expr; enter_generated::Bool) at /Users/niallcullinane/.julia/packages/JuliaInterpreter/fh7AN/src/interpret.jl:240",
      " [25] evaluate_call_recurse! at /Users/niallcullinane/.julia/packages/JuliaInterpreter/fh7AN/src/interpret.jl:202 [inlined]",
      " [26] eval_rhs(::Any, ::Frame, ::Expr) at /Users/niallcullinane/.julia/packages/JuliaInterpreter/fh7AN/src/interpret.jl:387",
      " [27] step_expr!(::Any, ::Frame, ::Any, ::Bool) at /Users/niallcullinane/.julia/packages/JuliaInterpreter/fh7AN/src/interpret.jl:527",
      " [28] step_expr! at /Users/niallcullinane/.julia/packages/JuliaInterpreter/fh7AN/src/interpret.jl:566 [inlined]",
      " [29] finish!(::Any, ::Frame, ::Bool) at /Users/niallcullinane/.julia/packages/JuliaInterpreter/fh7AN/src/commands.jl:14",
      " [30] finish_and_return! at /Users/niallcullinane/.julia/packages/JuliaInterpreter/fh7AN/src/commands.jl:29 [inlined]",
      " [31] evaluate_call_recurse!(::Any, ::Frame, ::Expr; enter_generated::Bool) at /Users/niallcullinane/.julia/packages/JuliaInterpreter/fh7AN/src/interpret.jl:240",
      " [32] evaluate_call_recurse! at /Users/niallcullinane/.julia/packages/JuliaInterpreter/fh7AN/src/interpret.jl:202 [inlined]",
      " [33] eval_rhs(::Any, ::Frame, ::Expr) at /Users/niallcullinane/.julia/packages/JuliaInterpreter/fh7AN/src/interpret.jl:387",
      " [34] step_expr!(::Any, ::Frame, ::Any, ::Bool) at /Users/niallcullinane/.julia/packages/JuliaInterpreter/fh7AN/src/interpret.jl:527",
      " [35] step_expr! at /Users/niallcullinane/.julia/packages/JuliaInterpreter/fh7AN/src/interpret.jl:566 [inlined]",
      " [36] finish!(::Any, ::Frame, ::Bool) at /Users/niallcullinane/.julia/packages/JuliaInterpreter/fh7AN/src/commands.jl:14",
      " [37] finish_and_return! at /Users/niallcullinane/.julia/packages/JuliaInterpreter/fh7AN/src/commands.jl:29 [inlined]",
      " [38] evaluate_call_recurse!(::Any, ::Frame, ::Expr; enter_generated::Bool) at /Users/niallcullinane/.julia/packages/JuliaInterpreter/fh7AN/src/interpret.jl:240",
      " [39] evaluate_call_recurse! at /Users/niallcullinane/.julia/packages/JuliaInterpreter/fh7AN/src/interpret.jl:202 [inlined]",
      " [40] eval_rhs(::Any, ::Frame, ::Expr) at /Users/niallcullinane/.julia/packages/JuliaInterpreter/fh7AN/src/interpret.jl:387",
      " [41] step_expr!(::Any, ::Frame, ::Any, ::Bool) at /Users/niallcullinane/.julia/packages/JuliaInterpreter/fh7AN/src/interpret.jl:527",
      " [42] step_expr! at /Users/niallcullinane/.julia/packages/JuliaInterpreter/fh7AN/src/interpret.jl:566 [inlined]",
      " [43] finish!(::Any, ::Frame, ::Bool) at /Users/niallcullinane/.julia/packages/JuliaInterpreter/fh7AN/src/commands.jl:14",
      " [44] finish_and_return! at /Users/niallcullinane/.julia/packages/JuliaInterpreter/fh7AN/src/commands.jl:29 [inlined]",
      " [45] finish_and_return! at /Users/niallcullinane/.julia/packages/JuliaInterpreter/fh7AN/src/commands.jl:33 [inlined] (repeats 2 times)",
      " [46] top-level scope at /Users/niallcullinane/.julia/packages/JuliaInterpreter/fh7AN/src/construct.jl:695",
      " [47] top-level scope at In[67]:18"
     ]
    }
   ],
   "source": [
    "# function fun_v_C!(v_C::AbstractArray, v_p::AbstractArray, v_m::AbstractArray, p::NamedTuple)\n",
    "kg =Kernel.gaussian((0.5f0,0.5f0), (7,7))\n",
    "    k=1\n",
    "l=2\n",
    "v_C  = copy(u[:, :, 1:p.K])\n",
    "V = similar(v_p)\n",
    "    temp = similar(v_p)\n",
    "\n",
    "    @. temp = exp(-1.0f0/8.0f0) * (max(v_p,0)-max(v_m,0))\n",
    "    imfilter!(V, temp,  (centered(p.k_gauss_2),), p.filling)\n",
    "\n",
    "    A = similar(v_C)\n",
    "#     allocate B to v_C\n",
    "#     @inbounds begin\n",
    "#         for k ∈ 1:p.K\n",
    "            a = @view A[:,:,k]\n",
    "            b = @view v_C[:,:,k]\n",
    "#              imfilter!(out_k, V, (centered(p.k_W_p[:,:,k,k]),), p.filling)\n",
    "#             imfilter!(out_k, V, (centered(p.k_C_d[:,:,k]),), p.filling);\n",
    "#             imfilter!(b, img_k, (centered(p.k_C_b[:,:,k]),), p.filling);\n",
    "#             imfilter!(b, img_k, (centered(kk[:,:,k,l]),), p.filling);\n",
    "           \n",
    "@interpret  imfilter!(b, img_k, (centered(kg),), p.filling);\n",
    "#         end\n",
    "#     end\n",
    "#     @. v_C = p.γ * (max(A - abs(v_C), 0) + max(- A - abs(v_C), 0))\n",
    "#     @. v_C = p.γ *A \n",
    "#     return nothing\n",
    "# end\n",
    "\n"
   ]
  },
  {
   "cell_type": "code",
   "execution_count": 64,
   "metadata": {},
   "outputs": [
    {
     "data": {
      "text/plain": [
       "100×100 Array{Float32,2}:\n",
       " 0.0  0.0  0.0  0.0  0.0  0.0  0.0  0.0  …  0.0  0.0  0.0  0.0  0.0  0.0  0.0\n",
       " 0.0  0.0  0.0  0.0  0.0  0.0  0.0  0.0     0.0  0.0  0.0  0.0  0.0  0.0  0.0\n",
       " 0.0  0.0  0.0  0.0  0.0  0.0  0.0  0.0     0.0  0.0  0.0  0.0  0.0  0.0  0.0\n",
       " 0.0  0.0  0.0  0.0  0.0  0.0  0.0  0.0     0.0  0.0  0.0  0.0  0.0  0.0  0.0\n",
       " 0.0  0.0  0.0  0.0  0.0  0.0  0.0  0.0     0.0  0.0  0.0  0.0  0.0  0.0  0.0\n",
       " 0.0  0.0  0.0  0.0  0.0  0.0  0.0  0.0  …  0.0  0.0  0.0  0.0  0.0  0.0  0.0\n",
       " 0.0  0.0  0.0  0.0  0.0  0.0  0.0  0.0     0.0  0.0  0.0  0.0  0.0  0.0  0.0\n",
       " 0.0  0.0  0.0  0.0  0.0  0.0  0.0  0.0     0.0  0.0  0.0  0.0  0.0  0.0  0.0\n",
       " 0.0  0.0  0.0  0.0  0.0  0.0  0.0  0.0     0.0  0.0  0.0  0.0  0.0  0.0  0.0\n",
       " 0.0  0.0  0.0  0.0  0.0  0.0  0.0  0.0     0.0  0.0  0.0  0.0  0.0  0.0  0.0\n",
       " 0.0  0.0  0.0  0.0  0.0  0.0  0.0  0.0  …  0.0  0.0  0.0  0.0  0.0  0.0  0.0\n",
       " 0.0  0.0  0.0  0.0  0.0  0.0  0.0  0.0     0.0  0.0  0.0  0.0  0.0  0.0  0.0\n",
       " 0.0  0.0  0.0  0.0  0.0  0.0  0.0  0.0     0.0  0.0  0.0  0.0  0.0  0.0  0.0\n",
       " ⋮                        ⋮              ⋱            ⋮                   \n",
       " 0.0  0.0  0.0  0.0  0.0  0.0  0.0  0.0     0.0  0.0  0.0  0.0  0.0  0.0  0.0\n",
       " 0.0  0.0  0.0  0.0  0.0  0.0  0.0  0.0     0.0  0.0  0.0  0.0  0.0  0.0  0.0\n",
       " 0.0  0.0  0.0  0.0  0.0  0.0  0.0  0.0  …  0.0  0.0  0.0  0.0  0.0  0.0  0.0\n",
       " 0.0  0.0  0.0  0.0  0.0  0.0  0.0  0.0     0.0  0.0  0.0  0.0  0.0  0.0  0.0\n",
       " 0.0  0.0  0.0  0.0  0.0  0.0  0.0  0.0     0.0  0.0  0.0  0.0  0.0  0.0  0.0\n",
       " 0.0  0.0  0.0  0.0  0.0  0.0  0.0  0.0     0.0  0.0  0.0  0.0  0.0  0.0  0.0\n",
       " 0.0  0.0  0.0  0.0  0.0  0.0  0.0  0.0     0.0  0.0  0.0  0.0  0.0  0.0  0.0\n",
       " 0.0  0.0  0.0  0.0  0.0  0.0  0.0  0.0  …  0.0  0.0  0.0  0.0  0.0  0.0  0.0\n",
       " 0.0  0.0  0.0  0.0  0.0  0.0  0.0  0.0     0.0  0.0  0.0  0.0  0.0  0.0  0.0\n",
       " 0.0  0.0  0.0  0.0  0.0  0.0  0.0  0.0     0.0  0.0  0.0  0.0  0.0  0.0  0.0\n",
       " 0.0  0.0  0.0  0.0  0.0  0.0  0.0  0.0     0.0  0.0  0.0  0.0  0.0  0.0  0.0\n",
       " 0.0  0.0  0.0  0.0  0.0  0.0  0.0  0.0     0.0  0.0  0.0  0.0  0.0  0.0  0.0"
      ]
     },
     "execution_count": 64,
     "metadata": {},
     "output_type": "execute_result"
    }
   ],
   "source": [
    "kg =Kernel.gaussian((0.5f0,0.5f0), (23,23))\n",
    "fff = imfilter(p.r, kg, p.filling)"
   ]
  },
  {
   "cell_type": "code",
   "execution_count": 52,
   "metadata": {},
   "outputs": [
    {
     "data": {
      "text/plain": [
       "13×13 OffsetArray(::Array{Float64,2}, -6:6, -6:6) with eltype Float64 with indices -6:6×-6:6:\n",
       " 1.7909e-63   6.4202e-54   4.2155e-46   …  6.4202e-54   1.7909e-63\n",
       " 6.4202e-54   2.30159e-44  1.51122e-36     2.30159e-44  6.4202e-54\n",
       " 4.2155e-46   1.51122e-36  9.92267e-29     1.51122e-36  4.2155e-46\n",
       " 5.06958e-40  1.8174e-30   1.1933e-22      1.8174e-30   5.06958e-40\n",
       " 1.11665e-35  4.00309e-26  2.62843e-18     4.00309e-26  1.11665e-35\n",
       " 4.50489e-33  1.61496e-23  1.06038e-15  …  1.61496e-23  4.50489e-33\n",
       " 3.32869e-32  1.1933e-22   7.83524e-15     1.1933e-22   3.32869e-32\n",
       " 4.50489e-33  1.61496e-23  1.06038e-15     1.61496e-23  4.50489e-33\n",
       " 1.11665e-35  4.00309e-26  2.62843e-18     4.00309e-26  1.11665e-35\n",
       " 5.06958e-40  1.8174e-30   1.1933e-22      1.8174e-30   5.06958e-40\n",
       " 4.2155e-46   1.51122e-36  9.92267e-29  …  1.51122e-36  4.2155e-46\n",
       " 6.4202e-54   2.30159e-44  1.51122e-36     2.30159e-44  6.4202e-54\n",
       " 1.7909e-63   6.4202e-54   4.2155e-46      6.4202e-54   1.7909e-63"
      ]
     },
     "execution_count": 52,
     "metadata": {},
     "output_type": "execute_result"
    }
   ],
   "source": [
    "\n",
    "# imfilter!(out_k, V, k, p.filling)"
   ]
  },
  {
   "cell_type": "code",
   "execution_count": 138,
   "metadata": {},
   "outputs": [
    {
     "data": {
      "text/plain": [
       "19×19 OffsetArray(::Array{Float64,2}, -9:9, -9:9) with eltype Float64 with indices -9:9×-9:9:\n",
       " 1.20244e-141  7.01578e-127  7.49739e-114  …  7.01578e-127  1.20244e-141\n",
       " 7.01578e-127  4.09344e-112  4.37444e-99      4.09344e-112  7.01578e-127\n",
       " 7.49739e-114  4.37444e-99   4.67474e-86      4.37444e-99   7.49739e-114\n",
       " 1.46746e-102  8.56208e-88   9.14984e-75      8.56208e-88   1.46746e-102\n",
       " 5.26072e-93   3.06943e-78   3.28014e-65      3.06943e-78   5.26072e-93\n",
       " 3.45419e-85   2.01539e-70   2.15374e-57   …  2.01539e-70   3.45419e-85\n",
       " 4.15402e-79   2.42371e-64   2.59009e-51      2.42371e-64   4.15402e-79\n",
       " 9.14984e-75   5.33858e-60   5.70506e-47      5.33858e-60   9.14984e-75\n",
       " 3.69131e-72   2.15374e-57   2.30159e-44      2.15374e-57   3.69131e-72\n",
       " 2.72753e-71   1.59141e-56   1.70066e-43      1.59141e-56   2.72753e-71\n",
       " 3.69131e-72   2.15374e-57   2.30159e-44   …  2.15374e-57   3.69131e-72\n",
       " 9.14984e-75   5.33858e-60   5.70506e-47      5.33858e-60   9.14984e-75\n",
       " 4.15402e-79   2.42371e-64   2.59009e-51      2.42371e-64   4.15402e-79\n",
       " 3.45419e-85   2.01539e-70   2.15374e-57      2.01539e-70   3.45419e-85\n",
       " 5.26072e-93   3.06943e-78   3.28014e-65      3.06943e-78   5.26072e-93\n",
       " 1.46746e-102  8.56208e-88   9.14984e-75   …  8.56208e-88   1.46746e-102\n",
       " 7.49739e-114  4.37444e-99   4.67474e-86      4.37444e-99   7.49739e-114\n",
       " 7.01578e-127  4.09344e-112  4.37444e-99      4.09344e-112  7.01578e-127\n",
       " 1.20244e-141  7.01578e-127  7.49739e-114     7.01578e-127  1.20244e-141"
      ]
     },
     "execution_count": 138,
     "metadata": {},
     "output_type": "execute_result"
    }
   ],
   "source": [
    "k"
   ]
  },
  {
   "cell_type": "code",
   "execution_count": 150,
   "metadata": {},
   "outputs": [
    {
     "data": {
      "text/plain": [
       "19×6 OffsetArray(::Array{Float32,2}, -9:9, 1:6) with eltype Float32 with indices -9:9×1:6:\n",
       " 1.3747f-8    1.21499f-11  2.2509f-15   8.74082f-20  7.11482f-25  1.21392f-30\n",
       " 3.53487f-8   3.12422f-11  5.78792f-15  2.2476f-19   1.82949f-24  3.12146f-30\n",
       " 8.13366f-8   7.18874f-11  1.33179f-14  5.17168f-19  4.20962f-24  7.1824f-30\n",
       " 1.67472f-7   1.48017f-10  2.74215f-14  1.06485f-18  8.66763f-24  1.47886f-29\n",
       " 3.08564f-7   2.72717f-10  5.05236f-14  1.96196f-18  1.59699f-23  2.72476f-29\n",
       " 5.08736f-7   4.49634f-10  8.32993f-14  3.23473f-18  2.63299f-23  4.49237f-29\n",
       " 7.50559f-7   6.63364f-10  1.22895f-13  4.77233f-18  3.88484f-23  6.68544f-29\n",
       " 9.91341f-7   8.80861f-10  1.83058f-13  3.75924f-17  1.73584f-20  3.52153f-24\n",
       " 6.57567f-6   6.10797f-8   2.45582f-10  3.68937f-13  2.04049f-16  4.15176f-20\n",
       " 0.000124257  1.36771f-6   5.58526f-9   8.39681f-12  4.64414f-15  9.44935f-19\n",
       " 6.57567f-6   6.10797f-8   2.45582f-10  3.68937f-13  2.04049f-16  4.15176f-20\n",
       " 9.91341f-7   8.80861f-10  1.83058f-13  3.75924f-17  1.73584f-20  3.52153f-24\n",
       " 7.50559f-7   6.63364f-10  1.22895f-13  4.77233f-18  3.88484f-23  6.68544f-29\n",
       " 5.08736f-7   4.49634f-10  8.32993f-14  3.23473f-18  2.63299f-23  4.49237f-29\n",
       " 3.08564f-7   2.72717f-10  5.05236f-14  1.96196f-18  1.59699f-23  2.72476f-29\n",
       " 1.67472f-7   1.48017f-10  2.74215f-14  1.06485f-18  8.66763f-24  1.47886f-29\n",
       " 8.13366f-8   7.18874f-11  1.33179f-14  5.17168f-19  4.20962f-24  7.1824f-30\n",
       " 3.53487f-8   3.12422f-11  5.78792f-15  2.2476f-19   1.82949f-24  3.12146f-30\n",
       " 1.3747f-8    1.21499f-11  2.2509f-15   8.74082f-20  7.11482f-25  1.21392f-30"
      ]
     },
     "execution_count": 150,
     "metadata": {},
     "output_type": "execute_result"
    }
   ],
   "source": [
    "p.k_W_m[:,4:9,1,1]"
   ]
  },
  {
   "cell_type": "code",
   "execution_count": 9,
   "metadata": {},
   "outputs": [
    {
     "data": {
      "text/plain": [
       "19×19×2×2 OffsetArray(::Array{Float32,4}, -9:9, -9:9, 1:2, 1:2) with eltype Float32 with indices -9:9×-9:9×1:2×1:2:\n",
       "[:, :, 1, 1] =\n",
       " 1.21392f-30  7.11482f-25  8.74082f-20  …  7.11482f-25  1.21392f-30\n",
       " 3.12146f-30  1.82949f-24  2.2476f-19      1.82949f-24  3.12146f-30\n",
       " 7.1824f-30   4.20962f-24  5.17168f-19     4.20962f-24  7.1824f-30\n",
       " 1.47886f-29  8.66763f-24  1.06485f-18     8.66763f-24  1.47886f-29\n",
       " 2.72476f-29  1.59699f-23  1.96196f-18     1.59699f-23  2.72476f-29\n",
       " 4.49237f-29  2.63299f-23  3.23473f-18  …  2.63299f-23  4.49237f-29\n",
       " 6.68544f-29  3.88484f-23  4.77233f-18     3.88484f-23  6.68544f-29\n",
       " 3.52153f-24  1.73584f-20  3.75924f-17     1.73584f-20  3.52153f-24\n",
       " 4.15176f-20  2.04049f-16  3.68937f-13     2.04049f-16  4.15176f-20\n",
       " 9.44935f-19  4.64414f-15  8.39681f-12     4.64414f-15  9.44935f-19\n",
       " 4.15176f-20  2.04049f-16  3.68937f-13  …  2.04049f-16  4.15176f-20\n",
       " 3.52153f-24  1.73584f-20  3.75924f-17     1.73584f-20  3.52153f-24\n",
       " 6.68544f-29  3.88484f-23  4.77233f-18     3.88484f-23  6.68544f-29\n",
       " 4.49237f-29  2.63299f-23  3.23473f-18     2.63299f-23  4.49237f-29\n",
       " 2.72476f-29  1.59699f-23  1.96196f-18     1.59699f-23  2.72476f-29\n",
       " 1.47886f-29  8.66763f-24  1.06485f-18  …  8.66763f-24  1.47886f-29\n",
       " 7.1824f-30   4.20962f-24  5.17168f-19     4.20962f-24  7.1824f-30\n",
       " 3.12146f-30  1.82949f-24  2.2476f-19      1.82949f-24  3.12146f-30\n",
       " 1.21392f-30  7.11482f-25  8.74082f-20     7.11482f-25  1.21392f-30\n",
       "\n",
       "[:, :, 2, 1] =\n",
       " 0.2  0.2  0.2  0.2  0.2  0.2  0.2  …  0.2  0.2  0.2  0.2  0.2  0.2  0.2\n",
       " 0.2  0.2  0.2  0.2  0.2  0.2  0.2     0.2  0.2  0.2  0.2  0.2  0.2  0.2\n",
       " 0.2  0.2  0.2  0.2  0.2  0.2  0.2     0.2  0.2  0.2  0.2  0.2  0.2  0.2\n",
       " 0.2  0.2  0.2  0.2  0.2  0.2  0.2     0.2  0.2  0.2  0.2  0.2  0.2  0.2\n",
       " 0.2  0.2  0.2  0.2  0.2  0.2  0.2     0.2  0.2  0.2  0.2  0.2  0.2  0.2\n",
       " 0.2  0.2  0.2  0.2  0.2  0.2  0.2  …  0.2  0.2  0.2  0.2  0.2  0.2  0.2\n",
       " 0.2  0.2  0.2  0.2  0.2  0.2  0.2     0.2  0.2  0.2  0.2  0.2  0.2  0.2\n",
       " 0.2  0.2  0.2  0.2  0.2  0.2  0.2     0.2  0.2  0.2  0.2  0.2  0.2  0.2\n",
       " 0.2  0.2  0.2  0.2  0.2  0.2  0.2     0.2  0.2  0.2  0.2  0.2  0.2  0.2\n",
       " 0.2  0.2  0.2  0.2  0.2  0.2  0.2     0.2  0.2  0.2  0.2  0.2  0.2  0.2\n",
       " 0.2  0.2  0.2  0.2  0.2  0.2  0.2  …  0.2  0.2  0.2  0.2  0.2  0.2  0.2\n",
       " 0.2  0.2  0.2  0.2  0.2  0.2  0.2     0.2  0.2  0.2  0.2  0.2  0.2  0.2\n",
       " 0.2  0.2  0.2  0.2  0.2  0.2  0.2     0.2  0.2  0.2  0.2  0.2  0.2  0.2\n",
       " 0.2  0.2  0.2  0.2  0.2  0.2  0.2     0.2  0.2  0.2  0.2  0.2  0.2  0.2\n",
       " 0.2  0.2  0.2  0.2  0.2  0.2  0.2     0.2  0.2  0.2  0.2  0.2  0.2  0.2\n",
       " 0.2  0.2  0.2  0.2  0.2  0.2  0.2  …  0.2  0.2  0.2  0.2  0.2  0.2  0.2\n",
       " 0.2  0.2  0.2  0.2  0.2  0.2  0.2     0.2  0.2  0.2  0.2  0.2  0.2  0.2\n",
       " 0.2  0.2  0.2  0.2  0.2  0.2  0.2     0.2  0.2  0.2  0.2  0.2  0.2  0.2\n",
       " 0.2  0.2  0.2  0.2  0.2  0.2  0.2     0.2  0.2  0.2  0.2  0.2  0.2  0.2\n",
       "\n",
       "[:, :, 1, 2] =\n",
       " 0.2  0.2  0.2  0.2       0.2       …  0.2       0.2       0.2  0.2  0.2\n",
       " 0.2  0.2  0.2  0.2       0.2          0.2       0.2       0.2  0.2  0.2\n",
       " 0.2  0.2  0.2  0.2       0.2          0.2       0.2       0.2  0.2  0.2\n",
       " 0.2  0.2  0.2  0.2       0.2          0.2       0.2       0.2  0.2  0.2\n",
       " 0.2  0.2  0.2  0.2       0.2          0.2       0.2       0.2  0.2  0.2\n",
       " 0.2  0.2  0.2  0.2       0.2       …  0.2       0.2       0.2  0.2  0.2\n",
       " 0.2  0.2  0.2  0.2       0.2          0.2       0.2       0.2  0.2  0.2\n",
       " 0.2  0.2  0.2  0.2       0.2          0.2       0.2       0.2  0.2  0.2\n",
       " 0.2  0.2  0.2  0.2       0.2          0.2       0.2       0.2  0.2  0.2\n",
       " 0.2  0.2  0.2  0.199999  0.199944     0.199944  0.199999  0.2  0.2  0.2\n",
       " 0.2  0.2  0.2  0.2       0.2       …  0.2       0.2       0.2  0.2  0.2\n",
       " 0.2  0.2  0.2  0.2       0.2          0.2       0.2       0.2  0.2  0.2\n",
       " 0.2  0.2  0.2  0.2       0.2          0.2       0.2       0.2  0.2  0.2\n",
       " 0.2  0.2  0.2  0.2       0.2          0.2       0.2       0.2  0.2  0.2\n",
       " 0.2  0.2  0.2  0.2       0.2          0.2       0.2       0.2  0.2  0.2\n",
       " 0.2  0.2  0.2  0.2       0.2       …  0.2       0.2       0.2  0.2  0.2\n",
       " 0.2  0.2  0.2  0.2       0.2          0.2       0.2       0.2  0.2  0.2\n",
       " 0.2  0.2  0.2  0.2       0.2          0.2       0.2       0.2  0.2  0.2\n",
       " 0.2  0.2  0.2  0.2       0.2          0.2       0.2       0.2  0.2  0.2\n",
       "\n",
       "[:, :, 2, 2] =\n",
       " 1.21392f-30  7.11482f-25  8.74082f-20  …  7.11482f-25  1.21392f-30\n",
       " 3.12146f-30  1.82949f-24  2.2476f-19      1.82949f-24  3.12146f-30\n",
       " 7.1824f-30   4.20962f-24  5.17168f-19     4.20962f-24  7.1824f-30\n",
       " 1.47886f-29  8.66763f-24  1.06485f-18     8.66763f-24  1.47886f-29\n",
       " 2.72476f-29  1.59699f-23  1.96196f-18     1.59699f-23  2.72476f-29\n",
       " 4.49237f-29  2.63299f-23  3.23473f-18  …  2.63299f-23  4.49237f-29\n",
       " 6.62778f-29  3.88456f-23  4.77233f-18     3.88456f-23  6.62778f-29\n",
       " 8.74995f-29  5.12837f-23  6.30039f-18     5.12837f-23  8.74995f-29\n",
       " 1.03368f-28  6.05845f-23  7.44304f-18     6.05845f-23  1.03368f-28\n",
       " 1.09274f-28  6.40456f-23  7.86824f-18     6.40456f-23  1.09274f-28\n",
       " 1.03368f-28  6.05845f-23  7.44304f-18  …  6.05845f-23  1.03368f-28\n",
       " 8.74995f-29  5.12837f-23  6.30039f-18     5.12837f-23  8.74995f-29\n",
       " 6.62778f-29  3.88456f-23  4.77233f-18     3.88456f-23  6.62778f-29\n",
       " 4.49237f-29  2.63299f-23  3.23473f-18     2.63299f-23  4.49237f-29\n",
       " 2.72476f-29  1.59699f-23  1.96196f-18     1.59699f-23  2.72476f-29\n",
       " 1.47886f-29  8.66763f-24  1.06485f-18  …  8.66763f-24  1.47886f-29\n",
       " 7.1824f-30   4.20962f-24  5.17168f-19     4.20962f-24  7.1824f-30\n",
       " 3.12146f-30  1.82949f-24  2.2476f-19      1.82949f-24  3.12146f-30\n",
       " 1.21392f-30  7.11482f-25  8.74082f-20     7.11482f-25  1.21392f-30"
      ]
     },
     "execution_count": 9,
     "metadata": {},
     "output_type": "execute_result"
    }
   ],
   "source": [
    "kk  = p.k_W_m"
   ]
  },
  {
   "cell_type": "code",
   "execution_count": 25,
   "metadata": {},
   "outputs": [
    {
     "ename": "MethodError",
     "evalue": "MethodError: no method matching copyto!(::Float32, ::Base.Broadcast.Broadcasted{Base.Broadcast.DefaultArrayStyle{0},Tuple{},typeof(identity),Tuple{Int64}})\nClosest candidates are:\n  copyto!(!Matched::Union{Base.RefValue{#s23} where #s23<:(GPUArrays.AbstractGPUArray{T,N} where N), Union{GPUArrays.AbstractGPUArray{T,N}, Base.ReinterpretArray{T,N,#s17,A} where A<:AbstractArray{#s17,N} where #s17<:GPUArrays.AbstractGPUArray, Base.ReshapedArray{T,N,#s16,MI} where MI<:Tuple{Vararg{Base.MultiplicativeInverses.SignedMultiplicativeInverse{Int64},N} where N} where #s16<:GPUArrays.AbstractGPUArray, SubArray{T,N,#s14,I,L} where L where I where #s14<:GPUArrays.AbstractGPUArray, Adjoint{T,#s18} where #s18<:GPUArrays.AbstractGPUArray{T,N}, Diagonal{T,#s24} where #s24<:GPUArrays.AbstractGPUArray{T,N}, LowerTriangular{T,#s20} where #s20<:GPUArrays.AbstractGPUArray{T,N}, Transpose{T,#s19} where #s19<:GPUArrays.AbstractGPUArray{T,N}, Tridiagonal{T,#s25} where #s25<:GPUArrays.AbstractGPUArray{T,N}, UnitLowerTriangular{T,#s21} where #s21<:GPUArrays.AbstractGPUArray{T,N}, UnitUpperTriangular{T,#s23} where #s23<:GPUArrays.AbstractGPUArray{T,N}, UpperTriangular{T,#s22} where #s22<:GPUArrays.AbstractGPUArray{T,N}, PermutedDimsArray{T,N,#s13,#s12,#s15} where #s15<:GPUArrays.AbstractGPUArray where #s12 where #s13} where N} where T, ::Base.Broadcast.Broadcasted{#s23,Axes,F,Args} where Args<:Tuple where F where Axes where #s23<:Base.Broadcast.AbstractArrayStyle{0}) at /Users/niallcullinane/.julia/packages/GPUArrays/X4SqE/src/host/broadcast.jl:69\n  copyto!(!Matched::AbstractArray, ::Base.Broadcast.Broadcasted{#s662,Axes,F,Args} where Args<:Tuple where F where Axes where #s662<:Base.Broadcast.AbstractArrayStyle{0}) at broadcast.jl:870\n  copyto!(!Matched::OrdinaryDiffEq.ArrayFuse{AT,T,P}, ::Base.Broadcast.Broadcasted) where {AT, T, P} at /Users/niallcullinane/.julia/packages/OrdinaryDiffEq/NsugH/src/wrappers.jl:23\n  ...",
     "output_type": "error",
     "traceback": [
      "MethodError: no method matching copyto!(::Float32, ::Base.Broadcast.Broadcasted{Base.Broadcast.DefaultArrayStyle{0},Tuple{},typeof(identity),Tuple{Int64}})\nClosest candidates are:\n  copyto!(!Matched::Union{Base.RefValue{#s23} where #s23<:(GPUArrays.AbstractGPUArray{T,N} where N), Union{GPUArrays.AbstractGPUArray{T,N}, Base.ReinterpretArray{T,N,#s17,A} where A<:AbstractArray{#s17,N} where #s17<:GPUArrays.AbstractGPUArray, Base.ReshapedArray{T,N,#s16,MI} where MI<:Tuple{Vararg{Base.MultiplicativeInverses.SignedMultiplicativeInverse{Int64},N} where N} where #s16<:GPUArrays.AbstractGPUArray, SubArray{T,N,#s14,I,L} where L where I where #s14<:GPUArrays.AbstractGPUArray, Adjoint{T,#s18} where #s18<:GPUArrays.AbstractGPUArray{T,N}, Diagonal{T,#s24} where #s24<:GPUArrays.AbstractGPUArray{T,N}, LowerTriangular{T,#s20} where #s20<:GPUArrays.AbstractGPUArray{T,N}, Transpose{T,#s19} where #s19<:GPUArrays.AbstractGPUArray{T,N}, Tridiagonal{T,#s25} where #s25<:GPUArrays.AbstractGPUArray{T,N}, UnitLowerTriangular{T,#s21} where #s21<:GPUArrays.AbstractGPUArray{T,N}, UnitUpperTriangular{T,#s23} where #s23<:GPUArrays.AbstractGPUArray{T,N}, UpperTriangular{T,#s22} where #s22<:GPUArrays.AbstractGPUArray{T,N}, PermutedDimsArray{T,N,#s13,#s12,#s15} where #s15<:GPUArrays.AbstractGPUArray where #s12 where #s13} where N} where T, ::Base.Broadcast.Broadcasted{#s23,Axes,F,Args} where Args<:Tuple where F where Axes where #s23<:Base.Broadcast.AbstractArrayStyle{0}) at /Users/niallcullinane/.julia/packages/GPUArrays/X4SqE/src/host/broadcast.jl:69\n  copyto!(!Matched::AbstractArray, ::Base.Broadcast.Broadcasted{#s662,Axes,F,Args} where Args<:Tuple where F where Axes where #s662<:Base.Broadcast.AbstractArrayStyle{0}) at broadcast.jl:870\n  copyto!(!Matched::OrdinaryDiffEq.ArrayFuse{AT,T,P}, ::Base.Broadcast.Broadcasted) where {AT, T, P} at /Users/niallcullinane/.julia/packages/OrdinaryDiffEq/NsugH/src/wrappers.jl:23\n  ...",
      "",
      "Stacktrace:",
      " [1] materialize!(::Float32, ::Base.Broadcast.Broadcasted{Base.Broadcast.DefaultArrayStyle{0},Nothing,typeof(identity),Tuple{Int64}}) at ./broadcast.jl:823",
      " [2] top-level scope at ./In[25]:4"
     ]
    }
   ],
   "source": [
    "ϵ = 1.0f-10\n",
    "for el ∈ kk\n",
    "    if el < ϵ\n",
    "        el .= 0\n",
    "    end\n",
    "end"
   ]
  },
  {
   "cell_type": "code",
   "execution_count": 31,
   "metadata": {},
   "outputs": [
    {
     "data": {
      "text/plain": [
       "19×19×2×2 OffsetArray(::Array{Real,4}, -9:9, -9:9, 1:2, 1:2) with eltype Real with indices -9:9×-9:9×1:2×1:2:\n",
       "[:, :, 1, 1] =\n",
       " 0  0  0  0            0            …  0            0            0  0  0\n",
       " 0  0  0  0            0               0            0            0  0  0\n",
       " 0  0  0  0            0               0            0            0  0  0\n",
       " 0  0  0  0            1.48017f-10     1.48017f-10  0            0  0  0\n",
       " 0  0  0  0            2.72717f-10     2.72717f-10  0            0  0  0\n",
       " 0  0  0  0            4.49634f-10  …  4.49634f-10  0            0  0  0\n",
       " 0  0  0  0            6.63364f-10     6.63364f-10  0            0  0  0\n",
       " 0  0  0  0            8.80861f-10     8.80861f-10  0            0  0  0\n",
       " 0  0  0  2.45582f-10  6.10797f-8      6.10797f-8   2.45582f-10  0  0  0\n",
       " 0  0  0  5.58526f-9   1.36771f-6      1.36771f-6   5.58526f-9   0  0  0\n",
       " 0  0  0  2.45582f-10  6.10797f-8   …  6.10797f-8   2.45582f-10  0  0  0\n",
       " 0  0  0  0            8.80861f-10     8.80861f-10  0            0  0  0\n",
       " 0  0  0  0            6.63364f-10     6.63364f-10  0            0  0  0\n",
       " 0  0  0  0            4.49634f-10     4.49634f-10  0            0  0  0\n",
       " 0  0  0  0            2.72717f-10     2.72717f-10  0            0  0  0\n",
       " 0  0  0  0            1.48017f-10  …  1.48017f-10  0            0  0  0\n",
       " 0  0  0  0            0               0            0            0  0  0\n",
       " 0  0  0  0            0               0            0            0  0  0\n",
       " 0  0  0  0            0               0            0            0  0  0\n",
       "\n",
       "[:, :, 2, 1] =\n",
       " 0.2  0.2  0.2  0.2  0.2  0.2  0.2  …  0.2  0.2  0.2  0.2  0.2  0.2  0.2\n",
       " 0.2  0.2  0.2  0.2  0.2  0.2  0.2     0.2  0.2  0.2  0.2  0.2  0.2  0.2\n",
       " 0.2  0.2  0.2  0.2  0.2  0.2  0.2     0.2  0.2  0.2  0.2  0.2  0.2  0.2\n",
       " 0.2  0.2  0.2  0.2  0.2  0.2  0.2     0.2  0.2  0.2  0.2  0.2  0.2  0.2\n",
       " 0.2  0.2  0.2  0.2  0.2  0.2  0.2     0.2  0.2  0.2  0.2  0.2  0.2  0.2\n",
       " 0.2  0.2  0.2  0.2  0.2  0.2  0.2  …  0.2  0.2  0.2  0.2  0.2  0.2  0.2\n",
       " 0.2  0.2  0.2  0.2  0.2  0.2  0.2     0.2  0.2  0.2  0.2  0.2  0.2  0.2\n",
       " 0.2  0.2  0.2  0.2  0.2  0.2  0.2     0.2  0.2  0.2  0.2  0.2  0.2  0.2\n",
       " 0.2  0.2  0.2  0.2  0.2  0.2  0.2     0.2  0.2  0.2  0.2  0.2  0.2  0.2\n",
       " 0.2  0.2  0.2  0.2  0.2  0.2  0.2     0.2  0.2  0.2  0.2  0.2  0.2  0.2\n",
       " 0.2  0.2  0.2  0.2  0.2  0.2  0.2  …  0.2  0.2  0.2  0.2  0.2  0.2  0.2\n",
       " 0.2  0.2  0.2  0.2  0.2  0.2  0.2     0.2  0.2  0.2  0.2  0.2  0.2  0.2\n",
       " 0.2  0.2  0.2  0.2  0.2  0.2  0.2     0.2  0.2  0.2  0.2  0.2  0.2  0.2\n",
       " 0.2  0.2  0.2  0.2  0.2  0.2  0.2     0.2  0.2  0.2  0.2  0.2  0.2  0.2\n",
       " 0.2  0.2  0.2  0.2  0.2  0.2  0.2     0.2  0.2  0.2  0.2  0.2  0.2  0.2\n",
       " 0.2  0.2  0.2  0.2  0.2  0.2  0.2  …  0.2  0.2  0.2  0.2  0.2  0.2  0.2\n",
       " 0.2  0.2  0.2  0.2  0.2  0.2  0.2     0.2  0.2  0.2  0.2  0.2  0.2  0.2\n",
       " 0.2  0.2  0.2  0.2  0.2  0.2  0.2     0.2  0.2  0.2  0.2  0.2  0.2  0.2\n",
       " 0.2  0.2  0.2  0.2  0.2  0.2  0.2     0.2  0.2  0.2  0.2  0.2  0.2  0.2\n",
       "\n",
       "[:, :, 1, 2] =\n",
       " 0.2  0.2  0.2  0.2       0.2       …  0.2       0.2       0.2  0.2  0.2\n",
       " 0.2  0.2  0.2  0.2       0.2          0.2       0.2       0.2  0.2  0.2\n",
       " 0.2  0.2  0.2  0.2       0.2          0.2       0.2       0.2  0.2  0.2\n",
       " 0.2  0.2  0.2  0.2       0.2          0.2       0.2       0.2  0.2  0.2\n",
       " 0.2  0.2  0.2  0.2       0.2          0.2       0.2       0.2  0.2  0.2\n",
       " 0.2  0.2  0.2  0.2       0.2       …  0.2       0.2       0.2  0.2  0.2\n",
       " 0.2  0.2  0.2  0.2       0.2          0.2       0.2       0.2  0.2  0.2\n",
       " 0.2  0.2  0.2  0.2       0.2          0.2       0.2       0.2  0.2  0.2\n",
       " 0.2  0.2  0.2  0.2       0.2          0.2       0.2       0.2  0.2  0.2\n",
       " 0.2  0.2  0.2  0.199999  0.199944     0.199944  0.199999  0.2  0.2  0.2\n",
       " 0.2  0.2  0.2  0.2       0.2       …  0.2       0.2       0.2  0.2  0.2\n",
       " 0.2  0.2  0.2  0.2       0.2          0.2       0.2       0.2  0.2  0.2\n",
       " 0.2  0.2  0.2  0.2       0.2          0.2       0.2       0.2  0.2  0.2\n",
       " 0.2  0.2  0.2  0.2       0.2          0.2       0.2       0.2  0.2  0.2\n",
       " 0.2  0.2  0.2  0.2       0.2          0.2       0.2       0.2  0.2  0.2\n",
       " 0.2  0.2  0.2  0.2       0.2       …  0.2       0.2       0.2  0.2  0.2\n",
       " 0.2  0.2  0.2  0.2       0.2          0.2       0.2       0.2  0.2  0.2\n",
       " 0.2  0.2  0.2  0.2       0.2          0.2       0.2       0.2  0.2  0.2\n",
       " 0.2  0.2  0.2  0.2       0.2          0.2       0.2       0.2  0.2  0.2\n",
       "\n",
       "[:, :, 2, 2] =\n",
       " 0  0  0  0  0            1.3747f-8   …  1.3747f-8   0            0  0  0  0\n",
       " 0  0  0  0  0            3.53487f-8     3.53487f-8  0            0  0  0  0\n",
       " 0  0  0  0  0            8.13366f-8     8.13366f-8  0            0  0  0  0\n",
       " 0  0  0  0  1.48017f-10  1.67472f-7     1.67472f-7  1.48017f-10  0  0  0  0\n",
       " 0  0  0  0  2.72717f-10  3.08564f-7     3.08564f-7  2.72717f-10  0  0  0  0\n",
       " 0  0  0  0  4.49634f-10  5.08736f-7  …  5.08736f-7  4.49634f-10  0  0  0  0\n",
       " 0  0  0  0  6.63364f-10  7.50559f-7     7.50559f-7  6.63364f-10  0  0  0  0\n",
       " 0  0  0  0  8.75768f-10  9.90883f-7     9.90883f-7  8.75768f-10  0  0  0  0\n",
       " 0  0  0  0  1.0346f-9    1.17059f-6     1.17059f-6  1.0346f-9    0  0  0  0\n",
       " 0  0  0  0  1.0937f-9    1.23746f-6     1.23746f-6  1.0937f-9    0  0  0  0\n",
       " 0  0  0  0  1.0346f-9    1.17059f-6  …  1.17059f-6  1.0346f-9    0  0  0  0\n",
       " 0  0  0  0  8.75768f-10  9.90883f-7     9.90883f-7  8.75768f-10  0  0  0  0\n",
       " 0  0  0  0  6.63364f-10  7.50559f-7     7.50559f-7  6.63364f-10  0  0  0  0\n",
       " 0  0  0  0  4.49634f-10  5.08736f-7     5.08736f-7  4.49634f-10  0  0  0  0\n",
       " 0  0  0  0  2.72717f-10  3.08564f-7     3.08564f-7  2.72717f-10  0  0  0  0\n",
       " 0  0  0  0  1.48017f-10  1.67472f-7  …  1.67472f-7  1.48017f-10  0  0  0  0\n",
       " 0  0  0  0  0            8.13366f-8     8.13366f-8  0            0  0  0  0\n",
       " 0  0  0  0  0            3.53487f-8     3.53487f-8  0            0  0  0  0\n",
       " 0  0  0  0  0            1.3747f-8      1.3747f-8   0            0  0  0  0"
      ]
     },
     "execution_count": 31,
     "metadata": {},
     "output_type": "execute_result"
    }
   ],
   "source": [
    "function aaa(value::Real, ϵ)\n",
    "       if value < ϵ\n",
    "        value = 0\n",
    "    end\n",
    "    return value\n",
    "end\n",
    "\n",
    "kk = aaa.(kk, 1.0f-10)\n"
   ]
  },
  {
   "cell_type": "code",
   "execution_count": 29,
   "metadata": {},
   "outputs": [
    {
     "data": {
      "text/plain": [
       "3-element Array{Int64,1}:\n",
       " 1\n",
       " 2\n",
       " 3"
      ]
     },
     "execution_count": 29,
     "metadata": {},
     "output_type": "execute_result"
    }
   ],
   "source": []
  },
  {
   "cell_type": "code",
   "execution_count": 112,
   "metadata": {},
   "outputs": [
    {
     "data": {
      "text/plain": [
       "(1.2139208f-30, CartesianIndex(-9, -9))"
      ]
     },
     "execution_count": 112,
     "metadata": {},
     "output_type": "execute_result"
    }
   ],
   "source": [
    "findmin(p.k_W_m[:,:,k,k])"
   ]
  },
  {
   "cell_type": "code",
   "execution_count": 113,
   "metadata": {},
   "outputs": [
    {
     "data": {
      "text/plain": [
       "false"
      ]
     },
     "execution_count": 113,
     "metadata": {},
     "output_type": "execute_result"
    }
   ],
   "source": [
    "any(isnan,p.k_W_m[:,:,k,k])"
   ]
  },
  {
   "cell_type": "code",
   "execution_count": 114,
   "metadata": {},
   "outputs": [
    {
     "data": {
      "text/plain": [
       "Float32"
      ]
     },
     "execution_count": 114,
     "metadata": {},
     "output_type": "execute_result"
    }
   ],
   "source": [
    "typeof(p.k_W_m[1,1,1,1])"
   ]
  },
  {
   "cell_type": "code",
   "execution_count": 104,
   "metadata": {},
   "outputs": [
    {
     "data": {
      "text/plain": [
       "Array{Operation,2}"
      ]
     },
     "execution_count": 104,
     "metadata": {},
     "output_type": "execute_result"
    }
   ],
   "source": [
    "typeof(img_k)"
   ]
  },
  {
   "cell_type": "code",
   "execution_count": 121,
   "metadata": {},
   "outputs": [],
   "source": [
    "# img_k"
   ]
  },
  {
   "cell_type": "code",
   "execution_count": 120,
   "metadata": {},
   "outputs": [],
   "source": [
    "# V"
   ]
  },
  {
   "cell_type": "code",
   "execution_count": 98,
   "metadata": {},
   "outputs": [
    {
     "data": {
      "text/plain": [
       "SubArray{Operation,2,Array{Operation,3},Tuple{Base.Slice{Base.OneTo{Int64}},Base.Slice{Base.OneTo{Int64}},Int64},true}"
      ]
     },
     "execution_count": 98,
     "metadata": {},
     "output_type": "execute_result"
    }
   ],
   "source": [
    "typeof(img_k)"
   ]
  },
  {
   "cell_type": "code",
   "execution_count": 99,
   "metadata": {},
   "outputs": [
    {
     "data": {
      "text/plain": [
       "Array{Operation,2}"
      ]
     },
     "execution_count": 99,
     "metadata": {},
     "output_type": "execute_result"
    }
   ],
   "source": [
    "typeof(img_k[:,:])"
   ]
  },
  {
   "cell_type": "code",
   "execution_count": 119,
   "metadata": {},
   "outputs": [
    {
     "data": {
      "text/plain": [
       "Array{Float32,3}"
      ]
     },
     "execution_count": 119,
     "metadata": {},
     "output_type": "execute_result"
    }
   ],
   "source": [
    "typeof(p.k_C_b)"
   ]
  },
  {
   "cell_type": "code",
   "execution_count": 124,
   "metadata": {},
   "outputs": [
    {
     "data": {
      "text/plain": [
       "5×5 OffsetArray(::Array{Float32,2}, -2:2, -2:2) with eltype Float32 with indices -2:2×-2:2:\n",
       " 0.12495  0.0404873  0.0  0.0404873  0.12495\n",
       " 0.12495  0.0404873  0.0  0.0404873  0.12495\n",
       " 0.12495  0.0404873  0.0  0.0404873  0.12495\n",
       " 0.12495  0.0404873  0.0  0.0404873  0.12495\n",
       " 0.12495  0.0404873  0.0  0.0404873  0.12495"
      ]
     },
     "execution_count": 124,
     "metadata": {},
     "output_type": "execute_result"
    }
   ],
   "source": [
    "centered(p.k_C_b[:,:,k])"
   ]
  },
  {
   "cell_type": "code",
   "execution_count": 125,
   "metadata": {},
   "outputs": [
    {
     "data": {
      "text/plain": [
       "19×19 OffsetArray(::Array{Float32,2}, -9:9, -9:9) with eltype Float32 with indices -9:9×-9:9:\n",
       " 1.21392f-30  7.11482f-25  8.74082f-20  …  7.11482f-25  1.21392f-30\n",
       " 3.12146f-30  1.82949f-24  2.2476f-19      1.82949f-24  3.12146f-30\n",
       " 7.1824f-30   4.20962f-24  5.17168f-19     4.20962f-24  7.1824f-30\n",
       " 1.47886f-29  8.66763f-24  1.06485f-18     8.66763f-24  1.47886f-29\n",
       " 2.72476f-29  1.59699f-23  1.96196f-18     1.59699f-23  2.72476f-29\n",
       " 4.49237f-29  2.63299f-23  3.23473f-18  …  2.63299f-23  4.49237f-29\n",
       " 6.68544f-29  3.88484f-23  4.77233f-18     3.88484f-23  6.68544f-29\n",
       " 3.52153f-24  1.73584f-20  3.75924f-17     1.73584f-20  3.52153f-24\n",
       " 4.15176f-20  2.04049f-16  3.68937f-13     2.04049f-16  4.15176f-20\n",
       " 9.44935f-19  4.64414f-15  8.39681f-12     4.64414f-15  9.44935f-19\n",
       " 4.15176f-20  2.04049f-16  3.68937f-13  …  2.04049f-16  4.15176f-20\n",
       " 3.52153f-24  1.73584f-20  3.75924f-17     1.73584f-20  3.52153f-24\n",
       " 6.68544f-29  3.88484f-23  4.77233f-18     3.88484f-23  6.68544f-29\n",
       " 4.49237f-29  2.63299f-23  3.23473f-18     2.63299f-23  4.49237f-29\n",
       " 2.72476f-29  1.59699f-23  1.96196f-18     1.59699f-23  2.72476f-29\n",
       " 1.47886f-29  8.66763f-24  1.06485f-18  …  8.66763f-24  1.47886f-29\n",
       " 7.1824f-30   4.20962f-24  5.17168f-19     4.20962f-24  7.1824f-30\n",
       " 3.12146f-30  1.82949f-24  2.2476f-19      1.82949f-24  3.12146f-30\n",
       " 1.21392f-30  7.11482f-25  8.74082f-20     7.11482f-25  1.21392f-30"
      ]
     },
     "execution_count": 125,
     "metadata": {},
     "output_type": "execute_result"
    }
   ],
   "source": [
    "centered(p.k_W_m[:,:,1,1])"
   ]
  },
  {
   "cell_type": "code",
   "execution_count": 24,
   "metadata": {},
   "outputs": [
    {
     "data": {
      "text/plain": [
       "19×19 OffsetArray(::Array{Float32,2}, -9:9, -9:9) with eltype Float32 with indices -9:9×-9:9:\n",
       " 1.21392f-30  7.11482f-25  8.74082f-20  …  7.11482f-25  1.21392f-30\n",
       " 3.12146f-30  1.82949f-24  2.2476f-19      1.82949f-24  3.12146f-30\n",
       " 7.1824f-30   4.20962f-24  5.17168f-19     4.20962f-24  7.1824f-30\n",
       " 1.47886f-29  8.66763f-24  1.06485f-18     8.66763f-24  1.47886f-29\n",
       " 2.72476f-29  1.59699f-23  1.96196f-18     1.59699f-23  2.72476f-29\n",
       " 4.49237f-29  2.63299f-23  3.23473f-18  …  2.63299f-23  4.49237f-29\n",
       " 6.62778f-29  3.88456f-23  4.77233f-18     3.88456f-23  6.62778f-29\n",
       " 8.74995f-29  5.12837f-23  6.30039f-18     5.12837f-23  8.74995f-29\n",
       " 1.03368f-28  6.05845f-23  7.44304f-18     6.05845f-23  1.03368f-28\n",
       " 1.09274f-28  6.40456f-23  7.86824f-18     6.40456f-23  1.09274f-28\n",
       " 1.03368f-28  6.05845f-23  7.44304f-18  …  6.05845f-23  1.03368f-28\n",
       " 8.74995f-29  5.12837f-23  6.30039f-18     5.12837f-23  8.74995f-29\n",
       " 6.62778f-29  3.88456f-23  4.77233f-18     3.88456f-23  6.62778f-29\n",
       " 4.49237f-29  2.63299f-23  3.23473f-18     2.63299f-23  4.49237f-29\n",
       " 2.72476f-29  1.59699f-23  1.96196f-18     1.59699f-23  2.72476f-29\n",
       " 1.47886f-29  8.66763f-24  1.06485f-18  …  8.66763f-24  1.47886f-29\n",
       " 7.1824f-30   4.20962f-24  5.17168f-19     4.20962f-24  7.1824f-30\n",
       " 3.12146f-30  1.82949f-24  2.2476f-19      1.82949f-24  3.12146f-30\n",
       " 1.21392f-30  7.11482f-25  8.74082f-20     7.11482f-25  1.21392f-30"
      ]
     },
     "execution_count": 24,
     "metadata": {},
     "output_type": "execute_result"
    }
   ],
   "source": [
    "kk[:,:,2,2]"
   ]
  },
  {
   "cell_type": "code",
   "execution_count": 33,
   "metadata": {},
   "outputs": [
    {
     "data": {
      "text/plain": [
       "19×19 OffsetArray(::Array{Real,2}, -9:9, -9:9) with eltype Real with indices -9:9×-9:9:\n",
       " 0  0  0  0            0            …  0            0            0  0  0\n",
       " 0  0  0  0            0               0            0            0  0  0\n",
       " 0  0  0  0            0               0            0            0  0  0\n",
       " 0  0  0  0            1.48017f-10     1.48017f-10  0            0  0  0\n",
       " 0  0  0  0            2.72717f-10     2.72717f-10  0            0  0  0\n",
       " 0  0  0  0            4.49634f-10  …  4.49634f-10  0            0  0  0\n",
       " 0  0  0  0            6.63364f-10     6.63364f-10  0            0  0  0\n",
       " 0  0  0  0            8.80861f-10     8.80861f-10  0            0  0  0\n",
       " 0  0  0  2.45582f-10  6.10797f-8      6.10797f-8   2.45582f-10  0  0  0\n",
       " 0  0  0  5.58526f-9   1.36771f-6      1.36771f-6   5.58526f-9   0  0  0\n",
       " 0  0  0  2.45582f-10  6.10797f-8   …  6.10797f-8   2.45582f-10  0  0  0\n",
       " 0  0  0  0            8.80861f-10     8.80861f-10  0            0  0  0\n",
       " 0  0  0  0            6.63364f-10     6.63364f-10  0            0  0  0\n",
       " 0  0  0  0            4.49634f-10     4.49634f-10  0            0  0  0\n",
       " 0  0  0  0            2.72717f-10     2.72717f-10  0            0  0  0\n",
       " 0  0  0  0            1.48017f-10  …  1.48017f-10  0            0  0  0\n",
       " 0  0  0  0            0               0            0            0  0  0\n",
       " 0  0  0  0            0               0            0            0  0  0\n",
       " 0  0  0  0            0               0            0            0  0  0"
      ]
     },
     "execution_count": 33,
     "metadata": {},
     "output_type": "execute_result"
    }
   ],
   "source": [
    "kk[:,:,1,1]"
   ]
  },
  {
   "cell_type": "code",
   "execution_count": 36,
   "metadata": {},
   "outputs": [
    {
     "data": {
      "text/plain": [
       "19×19 OffsetArray(::Array{Float64,2}, -9:9, -9:9) with eltype Float64 with indices -9:9×-9:9:\n",
       " 1.20244e-141  7.01578e-127  7.49739e-114  …  7.01578e-127  1.20244e-141\n",
       " 7.01578e-127  4.09344e-112  4.37444e-99      4.09344e-112  7.01578e-127\n",
       " 7.49739e-114  4.37444e-99   4.67474e-86      4.37444e-99   7.49739e-114\n",
       " 1.46746e-102  8.56208e-88   9.14984e-75      8.56208e-88   1.46746e-102\n",
       " 5.26072e-93   3.06943e-78   3.28014e-65      3.06943e-78   5.26072e-93\n",
       " 3.45419e-85   2.01539e-70   2.15374e-57   …  2.01539e-70   3.45419e-85\n",
       " 4.15402e-79   2.42371e-64   2.59009e-51      2.42371e-64   4.15402e-79\n",
       " 9.14984e-75   5.33858e-60   5.70506e-47      5.33858e-60   9.14984e-75\n",
       " 3.69131e-72   2.15374e-57   2.30159e-44      2.15374e-57   3.69131e-72\n",
       " 2.72753e-71   1.59141e-56   1.70066e-43      1.59141e-56   2.72753e-71\n",
       " 3.69131e-72   2.15374e-57   2.30159e-44   …  2.15374e-57   3.69131e-72\n",
       " 9.14984e-75   5.33858e-60   5.70506e-47      5.33858e-60   9.14984e-75\n",
       " 4.15402e-79   2.42371e-64   2.59009e-51      2.42371e-64   4.15402e-79\n",
       " 3.45419e-85   2.01539e-70   2.15374e-57      2.01539e-70   3.45419e-85\n",
       " 5.26072e-93   3.06943e-78   3.28014e-65      3.06943e-78   5.26072e-93\n",
       " 1.46746e-102  8.56208e-88   9.14984e-75   …  8.56208e-88   1.46746e-102\n",
       " 7.49739e-114  4.37444e-99   4.67474e-86      4.37444e-99   7.49739e-114\n",
       " 7.01578e-127  4.09344e-112  4.37444e-99      4.09344e-112  7.01578e-127\n",
       " 1.20244e-141  7.01578e-127  7.49739e-114     7.01578e-127  1.20244e-141"
      ]
     },
     "execution_count": 36,
     "metadata": {},
     "output_type": "execute_result"
    }
   ],
   "source": [
    "kg"
   ]
  },
  {
   "cell_type": "code",
   "execution_count": null,
   "metadata": {},
   "outputs": [],
   "source": []
  }
 ],
 "metadata": {
  "kernelspec": {
   "display_name": "Julia 1.4.2",
   "language": "julia",
   "name": "julia-1.4"
  },
  "language_info": {
   "file_extension": ".jl",
   "mimetype": "application/julia",
   "name": "julia",
   "version": "1.4.2"
  }
 },
 "nbformat": 4,
 "nbformat_minor": 4
}
