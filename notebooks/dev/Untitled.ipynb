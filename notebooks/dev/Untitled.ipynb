{
 "cells": [
  {
   "cell_type": "code",
   "execution_count": 1,
   "metadata": {},
   "outputs": [
    {
     "name": "stderr",
     "output_type": "stream",
     "text": [
      "┌ Info: Precompiling DifferentialEquations [0c46a032-eb83-5123-abaf-570d42b7fbaa]\n",
      "└ @ Base loading.jl:1260\n"
     ]
    }
   ],
   "source": [
    "using DifferentialEquations"
   ]
  },
  {
   "cell_type": "code",
   "execution_count": 2,
   "metadata": {},
   "outputs": [
    {
     "data": {
      "text/plain": [
       "retcode: Success\n",
       "Interpolation: Automatic order switching interpolation\n",
       "t: 5-element Array{Float64,1}:\n",
       " 0.0\n",
       " 0.09964258706516003\n",
       " 0.3457024247583422\n",
       " 0.6776921908052249\n",
       " 1.0\n",
       "u: 5-element Array{Float64,1}:\n",
       " 0.5\n",
       " 0.552938681151017\n",
       " 0.7089376245893465\n",
       " 0.9913594502399237\n",
       " 1.3728004409033034"
      ]
     },
     "execution_count": 2,
     "metadata": {},
     "output_type": "execute_result"
    }
   ],
   "source": [
    "using DiffEqProblemLibrary.ODEProblemLibrary\n",
    "# load problems\n",
    "ODEProblemLibrary.importodeproblems()\n",
    "prob = ODEProblemLibrary.prob_ode_linear\n",
    "sol = solve(prob)"
   ]
  },
  {
   "cell_type": "code",
   "execution_count": 6,
   "metadata": {},
   "outputs": [],
   "source": [
    "using DiffEqProblemLibrary.ODEProblemLibrary\n",
    "# load problems\n",
    "ODEProblemLibrary.importodeproblems()"
   ]
  },
  {
   "cell_type": "code",
   "execution_count": 8,
   "metadata": {},
   "outputs": [
    {
     "data": {
      "text/plain": [
       "retcode: Success\n",
       "Interpolation: Automatic order switching interpolation\n",
       "t: 5-element Array{Float64,1}:\n",
       " 0.0\n",
       " 0.09968130110338953\n",
       " 0.3458322516002165\n",
       " 0.677928717160428\n",
       " 1.0\n",
       "u: 5-element Array{Array{Float64,2},1}:\n",
       " [0.2601250914736861 0.9675998379215747; 0.19031281518127185 0.6456910432314067; 0.6609109399808133 0.5459681993995775; 0.06719317094984745 0.5268448425879988]\n",
       " [0.28767769834466045 1.0700885974319907; 0.21047086356288447 0.714083028693001; 0.7309150261028148 0.603797480984403; 0.074310312218715 0.5826485666639436]\n",
       " [0.3688732942688537 1.3721157683254321; 0.26987521534267955 0.9156294029434509; 0.9372121476935988 0.774216309305668; 0.09528402731248155 0.7470982193720821]\n",
       " [0.515878159562831 1.9189368497762544; 0.37742696900451533 1.280529706462854; 1.3107136932491277 1.0827600993446582; 0.13325700019332617 1.0448347994025013]\n",
       " [0.7141996805667635 2.656642968369498; 0.522523033207565 1.7728098977615938; 1.814597659699911 1.499010769786635; 0.184485629420734 1.4465056644589729]"
      ]
     },
     "execution_count": 8,
     "metadata": {},
     "output_type": "execute_result"
    }
   ],
   "source": [
    "prob = ODEProblemLibrary.prob_ode_2Dlinear\n",
    "sol = solve(prob)"
   ]
  },
  {
   "cell_type": "code",
   "execution_count": null,
   "metadata": {},
   "outputs": [],
   "source": [
    "prob = DiffEqProblemLibrary.ODEProblemLibrary.prob_ode_large2Dlinear\n",
    "sol = solve(prob)"
   ]
  },
  {
   "cell_type": "code",
   "execution_count": 9,
   "metadata": {},
   "outputs": [
    {
     "data": {
      "text/plain": [
       "\u001b[36mODEProblem\u001b[0m with uType \u001b[36mArray{Float64,2}\u001b[0m and tType \u001b[36mFloat64\u001b[0m. In-place: \u001b[36mtrue\u001b[0m\n",
       "timespan: (0.0, 1.0)\n",
       "u0: [0.2601250914736861 0.9675998379215747; 0.19031281518127185 0.6456910432314067; 0.6609109399808133 0.5459681993995775; 0.06719317094984745 0.5268448425879988]"
      ]
     },
     "execution_count": 9,
     "metadata": {},
     "output_type": "execute_result"
    }
   ],
   "source": [
    "prob"
   ]
  },
  {
   "cell_type": "code",
   "execution_count": 10,
   "metadata": {},
   "outputs": [
    {
     "name": "stderr",
     "output_type": "stream",
     "text": [
      "┌ Info: Precompiling DiffEqTutorials [6d1b261a-3be8-11e9-3f2f-0b112a9a8436]\n",
      "└ @ Base loading.jl:1260\n",
      "WARNING: eval into closed module Markdown:\n",
      "Expr(:block, #= Symbol(\"/Users/niallcullinane/.julia/packages/Weave/AL87K/src/WeaveMarkdown/markdown.jl\"):12 =#, Expr(:function, Expr(:call, :latex, Expr(:::, :io, :IO), Expr(:::, :tex, Expr(:., :Markdown, :(:LaTeX)))), Expr(:block, #= Symbol(\"/Users/niallcullinane/.julia/packages/Weave/AL87K/src/WeaveMarkdown/markdown.jl\"):13 =#, :math_envs = Expr(:vect, \"align\", \"equation\", \"eqnarray\"), #= Symbol(\"/Users/niallcullinane/.julia/packages/Weave/AL87K/src/WeaveMarkdown/markdown.jl\"):14 =#, :use_dollars = Expr(:call, Symbol(\"!\"), Expr(:call, :any, Expr(:comprehension, Expr(:generator, Expr(:call, :occursin, Expr(:string, \"\\begin{\", :me), Expr(:., :tex, :(:formula))), :me = :math_envs)))), #= Symbol(\"/Users/niallcullinane/.julia/packages/Weave/AL87K/src/WeaveMarkdown/markdown.jl\"):16 =#, Expr(:&&, :use_dollars, Expr(:call, :write, :io, \"\\[\")), #= Symbol(\"/Users/niallcullinane/.julia/packages/Weave/AL87K/src/WeaveMarkdown/markdown.jl\"):17 =#, Expr(:call, :write, :io, Expr(:call, :string, \"\n",
      "\", Expr(:., :tex, :(:formula)), \"\n",
      "\")), #= Symbol(\"/Users/niallcullinane/.julia/packages/Weave/AL87K/src/WeaveMarkdown/markdown.jl\"):18 =#, Expr(:&&, :use_dollars, Expr(:call, :write, :io, \"\\]\n",
      "\")))))\n",
      "  ** incremental compilation may be fatally broken for this module **\n",
      "\n",
      "WARNING: Method definition latex(IO, Markdown.LaTeX) in module Markdown at /Users/julia/buildbot/worker/package_macos64/build/usr/share/julia/stdlib/v1.4/Markdown/src/IPython/IPython.jl:28 overwritten at /Users/niallcullinane/.julia/packages/Weave/AL87K/src/WeaveMarkdown/markdown.jl:13.\n",
      "  ** incremental compilation may be fatally broken for this module **\n",
      "\n"
     ]
    },
    {
     "ename": "ErrorException",
     "evalue": "IJulia is already running",
     "output_type": "error",
     "traceback": [
      "IJulia is already running",
      "",
      "Stacktrace:",
      " [1] error(::String) at ./error.jl:33",
      " [2] notebook(; dir::String, detached::Bool) at /Users/niallcullinane/.julia/packages/IJulia/DrVMH/src/jupyter.jl:95",
      " [3] open_notebooks() at /Users/niallcullinane/.julia/packages/DiffEqTutorials/gmmCd/src/DiffEqTutorials.jl:115",
      " [4] top-level scope at In[10]:2"
     ]
    }
   ],
   "source": [
    "using DiffEqTutorials\n",
    "DiffEqTutorials.open_notebooks()"
   ]
  },
  {
   "cell_type": "code",
   "execution_count": 11,
   "metadata": {},
   "outputs": [
    {
     "data": {
      "text/plain": [
       "lorenz! (generic function with 1 method)"
      ]
     },
     "execution_count": 11,
     "metadata": {},
     "output_type": "execute_result"
    }
   ],
   "source": [
    "function lorenz!(du,u,p,t)\n",
    "    σ,ρ,β = p\n",
    "    du[1] = σ*(u[2]-u[1])\n",
    "    du[2] = u[1]*(ρ-u[3]) - u[2]\n",
    "    du[3] = u[1]*u[2] - β*u[3]\n",
    "end"
   ]
  },
  {
   "cell_type": "code",
   "execution_count": 12,
   "metadata": {},
   "outputs": [
    {
     "data": {
      "text/plain": [
       "3-element Array{Float64,1}:\n",
       " 1.0\n",
       " 0.0\n",
       " 0.0"
      ]
     },
     "execution_count": 12,
     "metadata": {},
     "output_type": "execute_result"
    }
   ],
   "source": [
    "u0 = [1.0,0.0,0.0]"
   ]
  },
  {
   "cell_type": "code",
   "execution_count": 13,
   "metadata": {},
   "outputs": [
    {
     "data": {
      "text/plain": [
       "(10, 28, 2.6666666666666665)"
      ]
     },
     "execution_count": 13,
     "metadata": {},
     "output_type": "execute_result"
    }
   ],
   "source": [
    "p = (10,28,8/3) # we could also make this an array, or any other type!"
   ]
  },
  {
   "cell_type": "code",
   "execution_count": 14,
   "metadata": {},
   "outputs": [
    {
     "data": {
      "text/plain": [
       "\u001b[36mODEProblem\u001b[0m with uType \u001b[36mArray{Float64,1}\u001b[0m and tType \u001b[36mFloat64\u001b[0m. In-place: \u001b[36mtrue\u001b[0m\n",
       "timespan: (0.0, 100.0)\n",
       "u0: [1.0, 0.0, 0.0]"
      ]
     },
     "execution_count": 14,
     "metadata": {},
     "output_type": "execute_result"
    }
   ],
   "source": [
    "tspan = (0.0,100.0)\n",
    "prob = ODEProblem(lorenz!,u0,tspan,p)"
   ]
  },
  {
   "cell_type": "code",
   "execution_count": 15,
   "metadata": {},
   "outputs": [
    {
     "data": {
      "text/plain": [
       "retcode: Success\n",
       "Interpolation: Automatic order switching interpolation\n",
       "t: 1278-element Array{Float64,1}:\n",
       "   0.0\n",
       "   3.5678604836301404e-5\n",
       "   0.0003924646531993154\n",
       "   0.0032623943767239373\n",
       "   0.009058053457510118\n",
       "   0.01695644120128117\n",
       "   0.027689918393193867\n",
       "   0.041856296355489264\n",
       "   0.06024033797392694\n",
       "   0.08368531582638437\n",
       "   0.11336486810963423\n",
       "   0.14862167169107887\n",
       "   0.18703962119869624\n",
       "   ⋮\n",
       "  99.08175214441627\n",
       "  99.16184949761713\n",
       "  99.24303990603177\n",
       "  99.33001063690615\n",
       "  99.42833629318856\n",
       "  99.51155000156021\n",
       "  99.61703432215923\n",
       "  99.70606422440345\n",
       "  99.79129412531262\n",
       "  99.86393440202542\n",
       "  99.94038628938698\n",
       " 100.0\n",
       "u: 1278-element Array{Array{Float64,1},1}:\n",
       " [1.0, 0.0, 0.0]\n",
       " [0.9996434557625105, 0.0009988049817849058, 1.7814347887991892e-8]\n",
       " [0.9961045497425811, 0.010965399721242457, 2.1469553658389215e-6]\n",
       " [0.9693592810889341, 0.08977024478153006, 0.00014380067522962658]\n",
       " [0.924204512737806, 0.24228855631355772, 0.0010461574259688034]\n",
       " [0.8800457093843667, 0.43873577844046335, 0.0034242488821952153]\n",
       " [0.8483310477134489, 0.691562006155076, 0.008487601936289887]\n",
       " [0.8495035777372364, 1.014541405233596, 0.018212045650837474]\n",
       " [0.9139065679198485, 1.442558203878679, 0.036693732037748186]\n",
       " [1.088862894921833, 2.0523238528819787, 0.07402553980035739]\n",
       " [1.4608607329781007, 3.0206672858071895, 0.16003885847892277]\n",
       " [2.1627198670837062, 4.633355766801506, 0.37711608408068753]\n",
       " [3.36845803061426, 7.2676803831846435, 0.9363520448327544]\n",
       " ⋮\n",
       " [-12.111331276059103, -9.128928364117606, 34.70984442525264]\n",
       " [-8.51031565992055, -3.460176017811449, 32.53022370920031]\n",
       " [-5.1040094377818335, -2.064340888612472, 27.405089610774787]\n",
       " [-3.566352090037122, -2.93938499872694, 22.496345147632756]\n",
       " [-3.9420891056384546, -5.258258866015673, 18.56961019595014]\n",
       " [-5.720062534259155, -8.726056576101552, 17.36204854329151]\n",
       " [-10.007197213558577, -14.758619747666062, 21.846571432256432]\n",
       " [-13.232762101256403, -14.502415473493913, 31.883848789405636]\n",
       " [-11.40184806389674, -6.3297541006661735, 35.69109433725584]\n",
       " [-7.289431350614737, -1.886515536403742, 31.726613784975555]\n",
       " [-4.09580698626337, -1.2449856683393477, 26.393923885486558]\n",
       " [-2.945417813733206, -1.841887422924832, 22.79634023984993]"
      ]
     },
     "execution_count": 15,
     "metadata": {},
     "output_type": "execute_result"
    }
   ],
   "source": [
    "sol = solve(prob)"
   ]
  },
  {
   "cell_type": "code",
   "execution_count": null,
   "metadata": {},
   "outputs": [],
   "source": []
  }
 ],
 "metadata": {
  "kernelspec": {
   "display_name": "Julia 1.4.0",
   "language": "julia",
   "name": "julia-1.4"
  },
  "language_info": {
   "file_extension": ".jl",
   "mimetype": "application/julia",
   "name": "julia",
   "version": "1.4.2"
  }
 },
 "nbformat": 4,
 "nbformat_minor": 4
}
